{
 "cells": [
  {
   "cell_type": "markdown",
   "metadata": {},
   "source": [
    "# Initial Analysis to see if foreign success predictions will work"
   ]
  },
  {
   "cell_type": "code",
   "execution_count": 1,
   "metadata": {
    "collapsed": true
   },
   "outputs": [],
   "source": [
    "import pandas as pd\n",
    "import numpy as np\n",
    "import matplotlib.pyplot as plt\n",
    "%matplotlib inline"
   ]
  },
  {
   "cell_type": "code",
   "execution_count": 11,
   "metadata": {
    "collapsed": false
   },
   "outputs": [],
   "source": [
    "movie_data_2015_2016 = pd.read_csv('movie_data_2015_2016.csv')"
   ]
  },
  {
   "cell_type": "code",
   "execution_count": 12,
   "metadata": {
    "collapsed": false
   },
   "outputs": [
    {
     "data": {
      "text/html": [
       "<div>\n",
       "<table border=\"1\" class=\"dataframe\">\n",
       "  <thead>\n",
       "    <tr style=\"text-align: right;\">\n",
       "      <th></th>\n",
       "      <th>MOVIE_NAME</th>\n",
       "      <th>DOMESTIC_OPENING</th>\n",
       "      <th>FOREIGN_TOTAL</th>\n",
       "      <th>BUDGET</th>\n",
       "      <th>GENRE</th>\n",
       "      <th>RELEASE_DATE</th>\n",
       "    </tr>\n",
       "  </thead>\n",
       "  <tbody>\n",
       "    <tr>\n",
       "      <th>0</th>\n",
       "      <td>Finding Dory</td>\n",
       "      <td>135060273</td>\n",
       "      <td>221800000</td>\n",
       "      <td>0</td>\n",
       "      <td>Animation</td>\n",
       "      <td>2016-06-17 00:00:00</td>\n",
       "    </tr>\n",
       "    <tr>\n",
       "      <th>1</th>\n",
       "      <td>Captain America:Civil War</td>\n",
       "      <td>179139142</td>\n",
       "      <td>744400000</td>\n",
       "      <td>250000000</td>\n",
       "      <td>Action / Adventure</td>\n",
       "      <td>2016-05-06 00:00:00</td>\n",
       "    </tr>\n",
       "    <tr>\n",
       "      <th>2</th>\n",
       "      <td>Deadpool</td>\n",
       "      <td>132434639</td>\n",
       "      <td>418968273</td>\n",
       "      <td>58000000</td>\n",
       "      <td>Action</td>\n",
       "      <td>2016-02-12 00:00:00</td>\n",
       "    </tr>\n",
       "    <tr>\n",
       "      <th>3</th>\n",
       "      <td>The Jungle Book (2016)</td>\n",
       "      <td>103261464</td>\n",
       "      <td>575900000</td>\n",
       "      <td>175000000</td>\n",
       "      <td>Adventure</td>\n",
       "      <td>2016-04-15 00:00:00</td>\n",
       "    </tr>\n",
       "    <tr>\n",
       "      <th>4</th>\n",
       "      <td>Zootopia</td>\n",
       "      <td>75063401</td>\n",
       "      <td>680600000</td>\n",
       "      <td>0</td>\n",
       "      <td>Animation</td>\n",
       "      <td>2016-03-04 00:00:00</td>\n",
       "    </tr>\n",
       "  </tbody>\n",
       "</table>\n",
       "</div>"
      ],
      "text/plain": [
       "                  MOVIE_NAME  DOMESTIC_OPENING  FOREIGN_TOTAL     BUDGET  \\\n",
       "0               Finding Dory         135060273      221800000          0   \n",
       "1  Captain America:Civil War         179139142      744400000  250000000   \n",
       "2                   Deadpool         132434639      418968273   58000000   \n",
       "3     The Jungle Book (2016)         103261464      575900000  175000000   \n",
       "4                   Zootopia          75063401      680600000          0   \n",
       "\n",
       "                GENRE         RELEASE_DATE  \n",
       "0           Animation  2016-06-17 00:00:00  \n",
       "1  Action / Adventure  2016-05-06 00:00:00  \n",
       "2              Action  2016-02-12 00:00:00  \n",
       "3           Adventure  2016-04-15 00:00:00  \n",
       "4           Animation  2016-03-04 00:00:00  "
      ]
     },
     "execution_count": 12,
     "metadata": {},
     "output_type": "execute_result"
    }
   ],
   "source": [
    "movie_data_2015_2016.head()"
   ]
  },
  {
   "cell_type": "markdown",
   "metadata": {},
   "source": [
    "# Find number of movies that have foreign gross info"
   ]
  },
  {
   "cell_type": "code",
   "execution_count": 5,
   "metadata": {
    "collapsed": false
   },
   "outputs": [
    {
     "data": {
      "text/plain": [
       "256"
      ]
     },
     "execution_count": 5,
     "metadata": {},
     "output_type": "execute_result"
    }
   ],
   "source": [
    "len(movie_data_2015_2016[movie_data_2015_2016['FOREIGN_TOTAL']!=0])"
   ]
  },
  {
   "cell_type": "markdown",
   "metadata": {},
   "source": [
    "# Total number of movies"
   ]
  },
  {
   "cell_type": "code",
   "execution_count": 6,
   "metadata": {
    "collapsed": false
   },
   "outputs": [
    {
     "data": {
      "text/plain": [
       "1062"
      ]
     },
     "execution_count": 6,
     "metadata": {},
     "output_type": "execute_result"
    }
   ],
   "source": [
    "len(movie_data_2015_2016)"
   ]
  },
  {
   "cell_type": "markdown",
   "metadata": {},
   "source": [
    "# Make a dataframe that has just the movies with foreign total information"
   ]
  },
  {
   "cell_type": "code",
   "execution_count": 13,
   "metadata": {
    "collapsed": true
   },
   "outputs": [],
   "source": [
    "foreign_data_2015_2016 = movie_data[movie_data['FOREIGN_TOTAL']!=0]"
   ]
  },
  {
   "cell_type": "code",
   "execution_count": 14,
   "metadata": {
    "collapsed": false
   },
   "outputs": [
    {
     "name": "stdout",
     "output_type": "stream",
     "text": [
      "<class 'pandas.core.frame.DataFrame'>\n",
      "Int64Index: 256 entries, 0 to 970\n",
      "Data columns (total 6 columns):\n",
      "MOVIE_NAME          256 non-null object\n",
      "DOMESTIC_OPENING    256 non-null int64\n",
      "FOREIGN_TOTAL       256 non-null int64\n",
      "BUDGET              256 non-null int64\n",
      "GENRE               256 non-null object\n",
      "RELEASE_DATE        256 non-null object\n",
      "dtypes: int64(3), object(3)\n",
      "memory usage: 14.0+ KB\n"
     ]
    }
   ],
   "source": [
    "foreign_data_2015_2016.info()"
   ]
  },
  {
   "cell_type": "markdown",
   "metadata": {},
   "source": [
    "# Movie data from 2013-2014"
   ]
  },
  {
   "cell_type": "code",
   "execution_count": 15,
   "metadata": {
    "collapsed": true
   },
   "outputs": [],
   "source": [
    "movie_data_2013_2014 = pd.read_csv('movie_data_2013_2014.csv')"
   ]
  },
  {
   "cell_type": "code",
   "execution_count": 16,
   "metadata": {
    "collapsed": false,
    "scrolled": true
   },
   "outputs": [
    {
     "data": {
      "text/html": [
       "<div>\n",
       "<table border=\"1\" class=\"dataframe\">\n",
       "  <thead>\n",
       "    <tr style=\"text-align: right;\">\n",
       "      <th></th>\n",
       "      <th>MOVIE_NAME</th>\n",
       "      <th>DOMESTIC_OPENING</th>\n",
       "      <th>FOREIGN_TOTAL</th>\n",
       "      <th>BUDGET</th>\n",
       "      <th>GENRE</th>\n",
       "      <th>RELEASE_DATE</th>\n",
       "    </tr>\n",
       "  </thead>\n",
       "  <tbody>\n",
       "    <tr>\n",
       "      <th>0</th>\n",
       "      <td>American Sniper</td>\n",
       "      <td>89902522</td>\n",
       "      <td>197300000</td>\n",
       "      <td>0</td>\n",
       "      <td>Drama</td>\n",
       "      <td>2014-12-25 00:00:00</td>\n",
       "    </tr>\n",
       "    <tr>\n",
       "      <th>1</th>\n",
       "      <td>The Hunger Games:Mockingjay - Part 1</td>\n",
       "      <td>121897634</td>\n",
       "      <td>418220826</td>\n",
       "      <td>125000000</td>\n",
       "      <td>Action / Adventure</td>\n",
       "      <td>2014-11-21 00:00:00</td>\n",
       "    </tr>\n",
       "    <tr>\n",
       "      <th>2</th>\n",
       "      <td>Guardians of the Galaxy</td>\n",
       "      <td>94320883</td>\n",
       "      <td>440135799</td>\n",
       "      <td>170000000</td>\n",
       "      <td>Action / Adventure</td>\n",
       "      <td>2014-08-01 00:00:00</td>\n",
       "    </tr>\n",
       "    <tr>\n",
       "      <th>3</th>\n",
       "      <td>Captain America:The Winter Soldier</td>\n",
       "      <td>95023721</td>\n",
       "      <td>454654931</td>\n",
       "      <td>170000000</td>\n",
       "      <td>Action / Adventure</td>\n",
       "      <td>2014-04-04 00:00:00</td>\n",
       "    </tr>\n",
       "    <tr>\n",
       "      <th>4</th>\n",
       "      <td>The LEGO Movie</td>\n",
       "      <td>69050279</td>\n",
       "      <td>211400000</td>\n",
       "      <td>60000000</td>\n",
       "      <td>Animation</td>\n",
       "      <td>2014-02-07 00:00:00</td>\n",
       "    </tr>\n",
       "  </tbody>\n",
       "</table>\n",
       "</div>"
      ],
      "text/plain": [
       "                             MOVIE_NAME  DOMESTIC_OPENING  FOREIGN_TOTAL  \\\n",
       "0                       American Sniper          89902522      197300000   \n",
       "1  The Hunger Games:Mockingjay - Part 1         121897634      418220826   \n",
       "2               Guardians of the Galaxy          94320883      440135799   \n",
       "3    Captain America:The Winter Soldier          95023721      454654931   \n",
       "4                        The LEGO Movie          69050279      211400000   \n",
       "\n",
       "      BUDGET               GENRE         RELEASE_DATE  \n",
       "0          0               Drama  2014-12-25 00:00:00  \n",
       "1  125000000  Action / Adventure  2014-11-21 00:00:00  \n",
       "2  170000000  Action / Adventure  2014-08-01 00:00:00  \n",
       "3  170000000  Action / Adventure  2014-04-04 00:00:00  \n",
       "4   60000000           Animation  2014-02-07 00:00:00  "
      ]
     },
     "execution_count": 16,
     "metadata": {},
     "output_type": "execute_result"
    }
   ],
   "source": [
    "movie_data_2013_2014.head()"
   ]
  },
  {
   "cell_type": "code",
   "execution_count": 17,
   "metadata": {
    "collapsed": true
   },
   "outputs": [],
   "source": [
    "foreign_movies_2013_2014 = movie_data_2013_2014[movie_data_2013_2014['FOREIGN_TOTAL']!=0]"
   ]
  },
  {
   "cell_type": "code",
   "execution_count": 19,
   "metadata": {
    "collapsed": false
   },
   "outputs": [
    {
     "ename": "AttributeError",
     "evalue": "'DataFrame' object has no attribute 'concat'",
     "output_type": "error",
     "traceback": [
      "\u001b[0;31m---------------------------------------------------------------------------\u001b[0m",
      "\u001b[0;31mAttributeError\u001b[0m                            Traceback (most recent call last)",
      "\u001b[0;32m<ipython-input-19-c5fc29fe2e76>\u001b[0m in \u001b[0;36m<module>\u001b[0;34m()\u001b[0m\n\u001b[0;32m----> 1\u001b[0;31m \u001b[0mmovie_df\u001b[0m \u001b[0;34m=\u001b[0m \u001b[0mforeign_data_2015_2016\u001b[0m\u001b[0;34m.\u001b[0m\u001b[0mconcat\u001b[0m\u001b[0;34m(\u001b[0m\u001b[0mforeign_movies_2013_2014\u001b[0m\u001b[0;34m,\u001b[0m \u001b[0mon\u001b[0m\u001b[0;34m)\u001b[0m\u001b[0;34m\u001b[0m\u001b[0m\n\u001b[0m",
      "\u001b[0;32m/Users/williamcosby/anaconda/lib/python2.7/site-packages/pandas/core/generic.pyc\u001b[0m in \u001b[0;36m__getattr__\u001b[0;34m(self, name)\u001b[0m\n\u001b[1;32m   2667\u001b[0m             \u001b[0;32mif\u001b[0m \u001b[0mname\u001b[0m \u001b[0;32min\u001b[0m \u001b[0mself\u001b[0m\u001b[0;34m.\u001b[0m\u001b[0m_info_axis\u001b[0m\u001b[0;34m:\u001b[0m\u001b[0;34m\u001b[0m\u001b[0m\n\u001b[1;32m   2668\u001b[0m                 \u001b[0;32mreturn\u001b[0m \u001b[0mself\u001b[0m\u001b[0;34m[\u001b[0m\u001b[0mname\u001b[0m\u001b[0;34m]\u001b[0m\u001b[0;34m\u001b[0m\u001b[0m\n\u001b[0;32m-> 2669\u001b[0;31m             \u001b[0;32mreturn\u001b[0m \u001b[0mobject\u001b[0m\u001b[0;34m.\u001b[0m\u001b[0m__getattribute__\u001b[0m\u001b[0;34m(\u001b[0m\u001b[0mself\u001b[0m\u001b[0;34m,\u001b[0m \u001b[0mname\u001b[0m\u001b[0;34m)\u001b[0m\u001b[0;34m\u001b[0m\u001b[0m\n\u001b[0m\u001b[1;32m   2670\u001b[0m \u001b[0;34m\u001b[0m\u001b[0m\n\u001b[1;32m   2671\u001b[0m     \u001b[0;32mdef\u001b[0m \u001b[0m__setattr__\u001b[0m\u001b[0;34m(\u001b[0m\u001b[0mself\u001b[0m\u001b[0;34m,\u001b[0m \u001b[0mname\u001b[0m\u001b[0;34m,\u001b[0m \u001b[0mvalue\u001b[0m\u001b[0;34m)\u001b[0m\u001b[0;34m:\u001b[0m\u001b[0;34m\u001b[0m\u001b[0m\n",
      "\u001b[0;31mAttributeError\u001b[0m: 'DataFrame' object has no attribute 'concat'"
     ]
    }
   ],
   "source": [
    "movie_df = pd.concatforeign_data_2015_2016.concat(foreign_movies_2013_2014, on)"
   ]
  },
  {
   "cell_type": "code",
   "execution_count": null,
   "metadata": {
    "collapsed": true
   },
   "outputs": [],
   "source": []
  }
 ],
 "metadata": {
  "kernelspec": {
   "display_name": "Python 2",
   "language": "python",
   "name": "python2"
  },
  "language_info": {
   "codemirror_mode": {
    "name": "ipython",
    "version": 2
   },
   "file_extension": ".py",
   "mimetype": "text/x-python",
   "name": "python",
   "nbconvert_exporter": "python",
   "pygments_lexer": "ipython2",
   "version": "2.7.11"
  }
 },
 "nbformat": 4,
 "nbformat_minor": 0
}
