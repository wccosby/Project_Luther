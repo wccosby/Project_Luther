{
 "cells": [
  {
   "cell_type": "code",
   "execution_count": 1,
   "metadata": {
    "collapsed": false
   },
   "outputs": [
    {
     "data": {
      "text/html": [
       "<style>.container { width:100% !important; }</style>"
      ],
      "text/plain": [
       "<IPython.core.display.HTML object>"
      ]
     },
     "metadata": {},
     "output_type": "display_data"
    }
   ],
   "source": [
    "from IPython.core.display import display, HTML\n",
    "display(HTML(\"<style>.container { width:100% !important; }</style>\"))"
   ]
  },
  {
   "cell_type": "markdown",
   "metadata": {},
   "source": [
    "# Initial Analysis to see if foreign success predictions will work"
   ]
  },
  {
   "cell_type": "code",
   "execution_count": 141,
   "metadata": {
    "collapsed": false
   },
   "outputs": [],
   "source": [
    "import pandas as pd\n",
    "import numpy as np\n",
    "import matplotlib.pyplot as plt\n",
    "import glob\n",
    "%matplotlib inline"
   ]
  },
  {
   "cell_type": "code",
   "execution_count": 136,
   "metadata": {
    "collapsed": true
   },
   "outputs": [],
   "source": [
    "df = pd.DataFrame([\n",
    "   {\n",
    "       \"x1\": 2,\n",
    "       \"genre\": \"G1,G2\"\n",
    "   },\n",
    "  {\n",
    "       \"x1\": 3,\n",
    "       \"genre\": \"G1,G3\"\n",
    "   },\n",
    "   {\n",
    "       \"x1\": 4,\n",
    "       \"genre\": \"G2,G3\"\n",
    "   }])\n"
   ]
  },
  {
   "cell_type": "code",
   "execution_count": 137,
   "metadata": {
    "collapsed": false
   },
   "outputs": [
    {
     "data": {
      "text/html": [
       "<div>\n",
       "<table border=\"1\" class=\"dataframe\">\n",
       "  <thead>\n",
       "    <tr style=\"text-align: right;\">\n",
       "      <th></th>\n",
       "      <th>genre</th>\n",
       "      <th>x1</th>\n",
       "    </tr>\n",
       "  </thead>\n",
       "  <tbody>\n",
       "    <tr>\n",
       "      <th>0</th>\n",
       "      <td>G1,G2</td>\n",
       "      <td>2</td>\n",
       "    </tr>\n",
       "    <tr>\n",
       "      <th>1</th>\n",
       "      <td>G1,G3</td>\n",
       "      <td>3</td>\n",
       "    </tr>\n",
       "    <tr>\n",
       "      <th>2</th>\n",
       "      <td>G2,G3</td>\n",
       "      <td>4</td>\n",
       "    </tr>\n",
       "  </tbody>\n",
       "</table>\n",
       "</div>"
      ],
      "text/plain": [
       "   genre  x1\n",
       "0  G1,G2   2\n",
       "1  G1,G3   3\n",
       "2  G2,G3   4"
      ]
     },
     "execution_count": 137,
     "metadata": {},
     "output_type": "execute_result"
    }
   ],
   "source": [
    "df"
   ]
  },
  {
   "cell_type": "code",
   "execution_count": 142,
   "metadata": {
    "collapsed": true
   },
   "outputs": [],
   "source": [
    "def split_genres(row):\n",
    "    genres = row['genre'].split(',')\n",
    "    for genre in genres:\n",
    "        row[genre] = 1\n",
    "    return pd.Series(row)"
   ]
  },
  {
   "cell_type": "code",
   "execution_count": 143,
   "metadata": {
    "collapsed": false
   },
   "outputs": [],
   "source": [
    "df_new = df.apply(split_genres,axis=1)"
   ]
  },
  {
   "cell_type": "code",
   "execution_count": 144,
   "metadata": {
    "collapsed": false
   },
   "outputs": [
    {
     "data": {
      "text/html": [
       "<div>\n",
       "<table border=\"1\" class=\"dataframe\">\n",
       "  <thead>\n",
       "    <tr style=\"text-align: right;\">\n",
       "      <th></th>\n",
       "      <th>G1</th>\n",
       "      <th>G2</th>\n",
       "      <th>G3</th>\n",
       "      <th>genre</th>\n",
       "      <th>x1</th>\n",
       "    </tr>\n",
       "  </thead>\n",
       "  <tbody>\n",
       "    <tr>\n",
       "      <th>0</th>\n",
       "      <td>1.0</td>\n",
       "      <td>1.0</td>\n",
       "      <td>NaN</td>\n",
       "      <td>G1,G2</td>\n",
       "      <td>2</td>\n",
       "    </tr>\n",
       "    <tr>\n",
       "      <th>1</th>\n",
       "      <td>1.0</td>\n",
       "      <td>NaN</td>\n",
       "      <td>1.0</td>\n",
       "      <td>G1,G3</td>\n",
       "      <td>3</td>\n",
       "    </tr>\n",
       "    <tr>\n",
       "      <th>2</th>\n",
       "      <td>NaN</td>\n",
       "      <td>1.0</td>\n",
       "      <td>1.0</td>\n",
       "      <td>G2,G3</td>\n",
       "      <td>4</td>\n",
       "    </tr>\n",
       "  </tbody>\n",
       "</table>\n",
       "</div>"
      ],
      "text/plain": [
       "    G1   G2   G3  genre  x1\n",
       "0  1.0  1.0  NaN  G1,G2   2\n",
       "1  1.0  NaN  1.0  G1,G3   3\n",
       "2  NaN  1.0  1.0  G2,G3   4"
      ]
     },
     "execution_count": 144,
     "metadata": {},
     "output_type": "execute_result"
    }
   ],
   "source": [
    "df_new"
   ]
  },
  {
   "cell_type": "code",
   "execution_count": 260,
   "metadata": {
    "collapsed": false
   },
   "outputs": [],
   "source": [
    "################## Make it this way (the fast way) for the blog post\n",
    "# load data into list of lists and then put it into pandas\n",
    "##################\n",
    "\n",
    "allFiles = glob.glob(\"/Users/williamcosby/Documents/metis/Project_Luther/movie_*.csv\")\n",
    "movie_data = pd.DataFrame()\n",
    "list_ = []\n",
    "for file_ in allFiles:\n",
    "    df = pd.read_csv(file_,index_col=None, header=0)\n",
    "    list_.append(df)\n",
    "movie_data_raw = pd.concat(list_)"
   ]
  },
  {
   "cell_type": "code",
   "execution_count": 261,
   "metadata": {
    "collapsed": false
   },
   "outputs": [],
   "source": [
    "# movie_data_2015_2016 = pd.read_csv('movie_data_2015_2016.csv')"
   ]
  },
  {
   "cell_type": "code",
   "execution_count": 262,
   "metadata": {
    "collapsed": false
   },
   "outputs": [
    {
     "data": {
      "text/html": [
       "<div>\n",
       "<table border=\"1\" class=\"dataframe\">\n",
       "  <thead>\n",
       "    <tr style=\"text-align: right;\">\n",
       "      <th></th>\n",
       "      <th>MOVIE_NAME</th>\n",
       "      <th>DOMESTIC_OPENING</th>\n",
       "      <th>FOREIGN_TOTAL</th>\n",
       "      <th>BUDGET</th>\n",
       "      <th>GENRE</th>\n",
       "      <th>RELEASE_DATE</th>\n",
       "    </tr>\n",
       "  </thead>\n",
       "  <tbody>\n",
       "    <tr>\n",
       "      <th>0</th>\n",
       "      <td>Marvel's The Avengers</td>\n",
       "      <td>207438708</td>\n",
       "      <td>896200000</td>\n",
       "      <td>220000000.0</td>\n",
       "      <td>Action / Adventure</td>\n",
       "      <td>2012-05-04 00:00:00</td>\n",
       "    </tr>\n",
       "    <tr>\n",
       "      <th>1</th>\n",
       "      <td>The Dark Knight Rises</td>\n",
       "      <td>160887295</td>\n",
       "      <td>636800000</td>\n",
       "      <td>250000000.0</td>\n",
       "      <td>Action Thriller</td>\n",
       "      <td>2012-07-20 00:00:00</td>\n",
       "    </tr>\n",
       "    <tr>\n",
       "      <th>2</th>\n",
       "      <td>The Hunger Games</td>\n",
       "      <td>152535747</td>\n",
       "      <td>286384032</td>\n",
       "      <td>78000000.0</td>\n",
       "      <td>Action / Adventure</td>\n",
       "      <td>2012-03-23 00:00:00</td>\n",
       "    </tr>\n",
       "    <tr>\n",
       "      <th>3</th>\n",
       "      <td>Skyfall</td>\n",
       "      <td>88364714</td>\n",
       "      <td>804200736</td>\n",
       "      <td>200000000.0</td>\n",
       "      <td>Action</td>\n",
       "      <td>2012-11-09 00:00:00</td>\n",
       "    </tr>\n",
       "    <tr>\n",
       "      <th>4</th>\n",
       "      <td>The Hobbit:An Unexpected Journey</td>\n",
       "      <td>84617303</td>\n",
       "      <td>718100000</td>\n",
       "      <td>0.0</td>\n",
       "      <td>Fantasy</td>\n",
       "      <td>2012-12-14 00:00:00</td>\n",
       "    </tr>\n",
       "  </tbody>\n",
       "</table>\n",
       "</div>"
      ],
      "text/plain": [
       "                         MOVIE_NAME  DOMESTIC_OPENING  FOREIGN_TOTAL  \\\n",
       "0             Marvel's The Avengers         207438708      896200000   \n",
       "1             The Dark Knight Rises         160887295      636800000   \n",
       "2                  The Hunger Games         152535747      286384032   \n",
       "3                           Skyfall          88364714      804200736   \n",
       "4  The Hobbit:An Unexpected Journey          84617303      718100000   \n",
       "\n",
       "        BUDGET               GENRE         RELEASE_DATE  \n",
       "0  220000000.0  Action / Adventure  2012-05-04 00:00:00  \n",
       "1  250000000.0     Action Thriller  2012-07-20 00:00:00  \n",
       "2   78000000.0  Action / Adventure  2012-03-23 00:00:00  \n",
       "3  200000000.0              Action  2012-11-09 00:00:00  \n",
       "4          0.0             Fantasy  2012-12-14 00:00:00  "
      ]
     },
     "execution_count": 262,
     "metadata": {},
     "output_type": "execute_result"
    }
   ],
   "source": [
    "movie_data_raw.head()"
   ]
  },
  {
   "cell_type": "markdown",
   "metadata": {},
   "source": [
    "# Set the index to the movie name (dont need it in the analysis)"
   ]
  },
  {
   "cell_type": "code",
   "execution_count": 263,
   "metadata": {
    "collapsed": true
   },
   "outputs": [],
   "source": [
    "movie_data_raw = movie_data_raw.set_index(['MOVIE_NAME'])"
   ]
  },
  {
   "cell_type": "markdown",
   "metadata": {},
   "source": [
    "# Find number of movies that have foreign gross info"
   ]
  },
  {
   "cell_type": "code",
   "execution_count": 264,
   "metadata": {
    "collapsed": false
   },
   "outputs": [
    {
     "data": {
      "text/plain": [
       "(4256, 5)"
      ]
     },
     "execution_count": 264,
     "metadata": {},
     "output_type": "execute_result"
    }
   ],
   "source": [
    "# total number of movies\n",
    "movie_data_raw.shape"
   ]
  },
  {
   "cell_type": "code",
   "execution_count": 265,
   "metadata": {
    "collapsed": false
   },
   "outputs": [
    {
     "data": {
      "text/plain": [
       "(1528, 5)"
      ]
     },
     "execution_count": 265,
     "metadata": {},
     "output_type": "execute_result"
    }
   ],
   "source": [
    "# movies with foreign earnings information\n",
    "movie_data_raw[movie_data_raw['FOREIGN_TOTAL']!=0].shape"
   ]
  },
  {
   "cell_type": "markdown",
   "metadata": {},
   "source": [
    "# Subset to get just the movies with foreign earnings information"
   ]
  },
  {
   "cell_type": "code",
   "execution_count": 266,
   "metadata": {
    "collapsed": true
   },
   "outputs": [],
   "source": [
    "movie_data = movie_data_raw[movie_data_raw['FOREIGN_TOTAL']!=0]"
   ]
  },
  {
   "cell_type": "code",
   "execution_count": 267,
   "metadata": {
    "collapsed": false,
    "scrolled": false
   },
   "outputs": [
    {
     "name": "stdout",
     "output_type": "stream",
     "text": [
      "<class 'pandas.core.frame.DataFrame'>\n",
      "Index: 1528 entries, Marvel's The Avengers to Capture the Flag\n",
      "Data columns (total 5 columns):\n",
      "DOMESTIC_OPENING    1528 non-null int64\n",
      "FOREIGN_TOTAL       1528 non-null int64\n",
      "BUDGET              1527 non-null float64\n",
      "GENRE               1528 non-null object\n",
      "RELEASE_DATE        1528 non-null object\n",
      "dtypes: float64(1), int64(2), object(2)\n",
      "memory usage: 71.6+ KB\n"
     ]
    }
   ],
   "source": [
    "movie_data.info()"
   ]
  },
  {
   "cell_type": "markdown",
   "metadata": {},
   "source": [
    "# Start some analysis"
   ]
  },
  {
   "cell_type": "markdown",
   "metadata": {},
   "source": [
    "## Combine the genres so they arent \"action / adventure\""
   ]
  },
  {
   "cell_type": "code",
   "execution_count": 268,
   "metadata": {
    "collapsed": true
   },
   "outputs": [],
   "source": [
    "def split_genres(row):\n",
    "    genres=[]\n",
    "    if '/' in row['GENRE']:\n",
    "        genres = row['GENRE'].split('/')\n",
    "    else:\n",
    "        genres = row['GENRE'].split()\n",
    "    for genre in genres:\n",
    "        # need to strip the whitespace off the columns to avoid things like 'Action' and 'Action '\n",
    "        row[genre.strip()] = 1\n",
    "    return pd.Series(row)"
   ]
  },
  {
   "cell_type": "code",
   "execution_count": 269,
   "metadata": {
    "collapsed": false
   },
   "outputs": [],
   "source": [
    "movie_data_split = movie_data.apply(split_genres,axis=1)"
   ]
  },
  {
   "cell_type": "code",
   "execution_count": 270,
   "metadata": {
    "collapsed": false
   },
   "outputs": [
    {
     "data": {
      "text/html": [
       "<div>\n",
       "<table border=\"1\" class=\"dataframe\">\n",
       "  <thead>\n",
       "    <tr style=\"text-align: right;\">\n",
       "      <th></th>\n",
       "      <th>Action</th>\n",
       "      <th>Adventure</th>\n",
       "      <th>Animation</th>\n",
       "      <th>BUDGET</th>\n",
       "      <th>Comedy</th>\n",
       "      <th>Concert</th>\n",
       "      <th>Crime</th>\n",
       "      <th>DOMESTIC_OPENING</th>\n",
       "      <th>Documentary</th>\n",
       "      <th>Drama</th>\n",
       "      <th>...</th>\n",
       "      <th>Musical</th>\n",
       "      <th>Period</th>\n",
       "      <th>RELEASE_DATE</th>\n",
       "      <th>Romance</th>\n",
       "      <th>Romantic</th>\n",
       "      <th>Sci-Fi</th>\n",
       "      <th>Sports</th>\n",
       "      <th>Thriller</th>\n",
       "      <th>War</th>\n",
       "      <th>Western</th>\n",
       "    </tr>\n",
       "    <tr>\n",
       "      <th>MOVIE_NAME</th>\n",
       "      <th></th>\n",
       "      <th></th>\n",
       "      <th></th>\n",
       "      <th></th>\n",
       "      <th></th>\n",
       "      <th></th>\n",
       "      <th></th>\n",
       "      <th></th>\n",
       "      <th></th>\n",
       "      <th></th>\n",
       "      <th></th>\n",
       "      <th></th>\n",
       "      <th></th>\n",
       "      <th></th>\n",
       "      <th></th>\n",
       "      <th></th>\n",
       "      <th></th>\n",
       "      <th></th>\n",
       "      <th></th>\n",
       "      <th></th>\n",
       "      <th></th>\n",
       "    </tr>\n",
       "  </thead>\n",
       "  <tbody>\n",
       "    <tr>\n",
       "      <th>Marvel's The Avengers</th>\n",
       "      <td>1.0</td>\n",
       "      <td>1.0</td>\n",
       "      <td>NaN</td>\n",
       "      <td>220000000.0</td>\n",
       "      <td>NaN</td>\n",
       "      <td>NaN</td>\n",
       "      <td>NaN</td>\n",
       "      <td>207438708</td>\n",
       "      <td>NaN</td>\n",
       "      <td>NaN</td>\n",
       "      <td>...</td>\n",
       "      <td>NaN</td>\n",
       "      <td>NaN</td>\n",
       "      <td>2012-05-04 00:00:00</td>\n",
       "      <td>NaN</td>\n",
       "      <td>NaN</td>\n",
       "      <td>NaN</td>\n",
       "      <td>NaN</td>\n",
       "      <td>NaN</td>\n",
       "      <td>NaN</td>\n",
       "      <td>NaN</td>\n",
       "    </tr>\n",
       "    <tr>\n",
       "      <th>The Dark Knight Rises</th>\n",
       "      <td>1.0</td>\n",
       "      <td>NaN</td>\n",
       "      <td>NaN</td>\n",
       "      <td>250000000.0</td>\n",
       "      <td>NaN</td>\n",
       "      <td>NaN</td>\n",
       "      <td>NaN</td>\n",
       "      <td>160887295</td>\n",
       "      <td>NaN</td>\n",
       "      <td>NaN</td>\n",
       "      <td>...</td>\n",
       "      <td>NaN</td>\n",
       "      <td>NaN</td>\n",
       "      <td>2012-07-20 00:00:00</td>\n",
       "      <td>NaN</td>\n",
       "      <td>NaN</td>\n",
       "      <td>NaN</td>\n",
       "      <td>NaN</td>\n",
       "      <td>1.0</td>\n",
       "      <td>NaN</td>\n",
       "      <td>NaN</td>\n",
       "    </tr>\n",
       "    <tr>\n",
       "      <th>The Hunger Games</th>\n",
       "      <td>1.0</td>\n",
       "      <td>1.0</td>\n",
       "      <td>NaN</td>\n",
       "      <td>78000000.0</td>\n",
       "      <td>NaN</td>\n",
       "      <td>NaN</td>\n",
       "      <td>NaN</td>\n",
       "      <td>152535747</td>\n",
       "      <td>NaN</td>\n",
       "      <td>NaN</td>\n",
       "      <td>...</td>\n",
       "      <td>NaN</td>\n",
       "      <td>NaN</td>\n",
       "      <td>2012-03-23 00:00:00</td>\n",
       "      <td>NaN</td>\n",
       "      <td>NaN</td>\n",
       "      <td>NaN</td>\n",
       "      <td>NaN</td>\n",
       "      <td>NaN</td>\n",
       "      <td>NaN</td>\n",
       "      <td>NaN</td>\n",
       "    </tr>\n",
       "  </tbody>\n",
       "</table>\n",
       "<p>3 rows × 29 columns</p>\n",
       "</div>"
      ],
      "text/plain": [
       "                       Action  Adventure  Animation       BUDGET  Comedy  \\\n",
       "MOVIE_NAME                                                                 \n",
       "Marvel's The Avengers     1.0        1.0        NaN  220000000.0     NaN   \n",
       "The Dark Knight Rises     1.0        NaN        NaN  250000000.0     NaN   \n",
       "The Hunger Games          1.0        1.0        NaN   78000000.0     NaN   \n",
       "\n",
       "                       Concert  Crime  DOMESTIC_OPENING  Documentary  Drama  \\\n",
       "MOVIE_NAME                                                                    \n",
       "Marvel's The Avengers      NaN    NaN         207438708          NaN    NaN   \n",
       "The Dark Knight Rises      NaN    NaN         160887295          NaN    NaN   \n",
       "The Hunger Games           NaN    NaN         152535747          NaN    NaN   \n",
       "\n",
       "                        ...     Musical  Period         RELEASE_DATE  Romance  \\\n",
       "MOVIE_NAME              ...                                                     \n",
       "Marvel's The Avengers   ...         NaN     NaN  2012-05-04 00:00:00      NaN   \n",
       "The Dark Knight Rises   ...         NaN     NaN  2012-07-20 00:00:00      NaN   \n",
       "The Hunger Games        ...         NaN     NaN  2012-03-23 00:00:00      NaN   \n",
       "\n",
       "                      Romantic  Sci-Fi  Sports  Thriller  War  Western  \n",
       "MOVIE_NAME                                                              \n",
       "Marvel's The Avengers      NaN     NaN     NaN       NaN  NaN      NaN  \n",
       "The Dark Knight Rises      NaN     NaN     NaN       1.0  NaN      NaN  \n",
       "The Hunger Games           NaN     NaN     NaN       NaN  NaN      NaN  \n",
       "\n",
       "[3 rows x 29 columns]"
      ]
     },
     "execution_count": 270,
     "metadata": {},
     "output_type": "execute_result"
    }
   ],
   "source": [
    "movie_data_split.head(3)"
   ]
  },
  {
   "cell_type": "markdown",
   "metadata": {},
   "source": [
    "## Now fill in the missing values with 0\n"
   ]
  },
  {
   "cell_type": "code",
   "execution_count": 271,
   "metadata": {
    "collapsed": true
   },
   "outputs": [],
   "source": [
    "movie_data = movie_data_split.fillna(0)"
   ]
  },
  {
   "cell_type": "markdown",
   "metadata": {},
   "source": [
    "## Need to drop the 'GENRE' column now"
   ]
  },
  {
   "cell_type": "code",
   "execution_count": 272,
   "metadata": {
    "collapsed": true
   },
   "outputs": [],
   "source": [
    "movie_data.drop(['GENRE'],axis=1,inplace=True)"
   ]
  },
  {
   "cell_type": "code",
   "execution_count": 273,
   "metadata": {
    "collapsed": false
   },
   "outputs": [
    {
     "data": {
      "text/plain": [
       "Index([u'Action', u'Adventure', u'Animation', u'BUDGET', u'Comedy', u'Concert',\n",
       "       u'Crime', u'DOMESTIC_OPENING', u'Documentary', u'Drama',\n",
       "       u'FOREIGN_TOTAL', u'Family', u'Fantasy', u'Foreign', u'Historical',\n",
       "       u'Horror', u'IMAX', u'Music', u'Musical', u'Period', u'RELEASE_DATE',\n",
       "       u'Romance', u'Romantic', u'Sci-Fi', u'Sports', u'Thriller', u'War',\n",
       "       u'Western'],\n",
       "      dtype='object')"
      ]
     },
     "execution_count": 273,
     "metadata": {},
     "output_type": "execute_result"
    }
   ],
   "source": [
    "movie_data.columns"
   ]
  },
  {
   "cell_type": "code",
   "execution_count": 274,
   "metadata": {
    "collapsed": false
   },
   "outputs": [
    {
     "data": {
      "text/html": [
       "<div>\n",
       "<table border=\"1\" class=\"dataframe\">\n",
       "  <thead>\n",
       "    <tr style=\"text-align: right;\">\n",
       "      <th></th>\n",
       "      <th>Action</th>\n",
       "      <th>Adventure</th>\n",
       "      <th>Animation</th>\n",
       "      <th>BUDGET</th>\n",
       "      <th>Comedy</th>\n",
       "      <th>Concert</th>\n",
       "      <th>Crime</th>\n",
       "      <th>DOMESTIC_OPENING</th>\n",
       "      <th>Documentary</th>\n",
       "      <th>Drama</th>\n",
       "      <th>...</th>\n",
       "      <th>Musical</th>\n",
       "      <th>Period</th>\n",
       "      <th>RELEASE_DATE</th>\n",
       "      <th>Romance</th>\n",
       "      <th>Romantic</th>\n",
       "      <th>Sci-Fi</th>\n",
       "      <th>Sports</th>\n",
       "      <th>Thriller</th>\n",
       "      <th>War</th>\n",
       "      <th>Western</th>\n",
       "    </tr>\n",
       "    <tr>\n",
       "      <th>MOVIE_NAME</th>\n",
       "      <th></th>\n",
       "      <th></th>\n",
       "      <th></th>\n",
       "      <th></th>\n",
       "      <th></th>\n",
       "      <th></th>\n",
       "      <th></th>\n",
       "      <th></th>\n",
       "      <th></th>\n",
       "      <th></th>\n",
       "      <th></th>\n",
       "      <th></th>\n",
       "      <th></th>\n",
       "      <th></th>\n",
       "      <th></th>\n",
       "      <th></th>\n",
       "      <th></th>\n",
       "      <th></th>\n",
       "      <th></th>\n",
       "      <th></th>\n",
       "      <th></th>\n",
       "    </tr>\n",
       "  </thead>\n",
       "  <tbody>\n",
       "    <tr>\n",
       "      <th>Marvel's The Avengers</th>\n",
       "      <td>1.0</td>\n",
       "      <td>1.0</td>\n",
       "      <td>0.0</td>\n",
       "      <td>220000000.0</td>\n",
       "      <td>0.0</td>\n",
       "      <td>0.0</td>\n",
       "      <td>0.0</td>\n",
       "      <td>207438708</td>\n",
       "      <td>0.0</td>\n",
       "      <td>0.0</td>\n",
       "      <td>...</td>\n",
       "      <td>0.0</td>\n",
       "      <td>0.0</td>\n",
       "      <td>2012-05-04 00:00:00</td>\n",
       "      <td>0.0</td>\n",
       "      <td>0.0</td>\n",
       "      <td>0.0</td>\n",
       "      <td>0.0</td>\n",
       "      <td>0.0</td>\n",
       "      <td>0.0</td>\n",
       "      <td>0.0</td>\n",
       "    </tr>\n",
       "    <tr>\n",
       "      <th>The Dark Knight Rises</th>\n",
       "      <td>1.0</td>\n",
       "      <td>0.0</td>\n",
       "      <td>0.0</td>\n",
       "      <td>250000000.0</td>\n",
       "      <td>0.0</td>\n",
       "      <td>0.0</td>\n",
       "      <td>0.0</td>\n",
       "      <td>160887295</td>\n",
       "      <td>0.0</td>\n",
       "      <td>0.0</td>\n",
       "      <td>...</td>\n",
       "      <td>0.0</td>\n",
       "      <td>0.0</td>\n",
       "      <td>2012-07-20 00:00:00</td>\n",
       "      <td>0.0</td>\n",
       "      <td>0.0</td>\n",
       "      <td>0.0</td>\n",
       "      <td>0.0</td>\n",
       "      <td>1.0</td>\n",
       "      <td>0.0</td>\n",
       "      <td>0.0</td>\n",
       "    </tr>\n",
       "  </tbody>\n",
       "</table>\n",
       "<p>2 rows × 28 columns</p>\n",
       "</div>"
      ],
      "text/plain": [
       "                       Action  Adventure  Animation       BUDGET  Comedy  \\\n",
       "MOVIE_NAME                                                                 \n",
       "Marvel's The Avengers     1.0        1.0        0.0  220000000.0     0.0   \n",
       "The Dark Knight Rises     1.0        0.0        0.0  250000000.0     0.0   \n",
       "\n",
       "                       Concert  Crime  DOMESTIC_OPENING  Documentary  Drama  \\\n",
       "MOVIE_NAME                                                                    \n",
       "Marvel's The Avengers      0.0    0.0         207438708          0.0    0.0   \n",
       "The Dark Knight Rises      0.0    0.0         160887295          0.0    0.0   \n",
       "\n",
       "                        ...     Musical  Period         RELEASE_DATE  Romance  \\\n",
       "MOVIE_NAME              ...                                                     \n",
       "Marvel's The Avengers   ...         0.0     0.0  2012-05-04 00:00:00      0.0   \n",
       "The Dark Knight Rises   ...         0.0     0.0  2012-07-20 00:00:00      0.0   \n",
       "\n",
       "                       Romantic  Sci-Fi  Sports  Thriller  War  Western  \n",
       "MOVIE_NAME                                                               \n",
       "Marvel's The Avengers       0.0     0.0     0.0       0.0  0.0      0.0  \n",
       "The Dark Knight Rises       0.0     0.0     0.0       1.0  0.0      0.0  \n",
       "\n",
       "[2 rows x 28 columns]"
      ]
     },
     "execution_count": 274,
     "metadata": {},
     "output_type": "execute_result"
    }
   ],
   "source": [
    "movie_data.head(2)"
   ]
  },
  {
   "cell_type": "markdown",
   "metadata": {},
   "source": [
    "### Will want to encode the dates as 1st quarter, 2nd quarter, 3rd quarter, 4th quarter\n",
    "#### Do this by first transforming the column into strings \"1\",\"2\",\"3\",\"4\", then apply pandas .get_dummies to make it one-hot"
   ]
  },
  {
   "cell_type": "code",
   "execution_count": 275,
   "metadata": {
    "collapsed": false
   },
   "outputs": [],
   "source": [
    "from pandas import DatetimeIndex\n",
    "import dateutil.parser"
   ]
  },
  {
   "cell_type": "code",
   "execution_count": 276,
   "metadata": {
    "collapsed": false,
    "scrolled": true
   },
   "outputs": [],
   "source": [
    "# turn RELEASE_DATE into actual datetime\n",
    "movie_data['RELEASE_DATE'] = movie_data['RELEASE_DATE'].apply(lambda x: dateutil.parser.parse(x))"
   ]
  },
  {
   "cell_type": "code",
   "execution_count": 277,
   "metadata": {
    "collapsed": false
   },
   "outputs": [
    {
     "data": {
      "text/plain": [
       "dtype('<M8[ns]')"
      ]
     },
     "execution_count": 277,
     "metadata": {},
     "output_type": "execute_result"
    }
   ],
   "source": [
    "movie_data['RELEASE_DATE'].dtype"
   ]
  },
  {
   "cell_type": "code",
   "execution_count": 278,
   "metadata": {
    "collapsed": false
   },
   "outputs": [],
   "source": [
    "movie_data[\"RELEASE_QUARTER\"] = movie_data[\"RELEASE_DATE\"].apply(lambda x: x.quarter)"
   ]
  },
  {
   "cell_type": "code",
   "execution_count": 279,
   "metadata": {
    "collapsed": false
   },
   "outputs": [],
   "source": [
    "# now just want release quarter\n",
    "movie_data.drop(['RELEASE_DATE'],axis=1,inplace=True)"
   ]
  },
  {
   "cell_type": "markdown",
   "metadata": {},
   "source": [
    "#### Now vectorize release quarter column"
   ]
  },
  {
   "cell_type": "code",
   "execution_count": 280,
   "metadata": {
    "collapsed": true
   },
   "outputs": [],
   "source": [
    "movie_data = pd.get_dummies(movie_data,columns=[\"RELEASE_QUARTER\"])"
   ]
  },
  {
   "cell_type": "code",
   "execution_count": 281,
   "metadata": {
    "collapsed": false
   },
   "outputs": [
    {
     "data": {
      "text/html": [
       "<div>\n",
       "<table border=\"1\" class=\"dataframe\">\n",
       "  <thead>\n",
       "    <tr style=\"text-align: right;\">\n",
       "      <th></th>\n",
       "      <th>Action</th>\n",
       "      <th>Adventure</th>\n",
       "      <th>Animation</th>\n",
       "      <th>BUDGET</th>\n",
       "      <th>Comedy</th>\n",
       "      <th>Concert</th>\n",
       "      <th>Crime</th>\n",
       "      <th>DOMESTIC_OPENING</th>\n",
       "      <th>Documentary</th>\n",
       "      <th>Drama</th>\n",
       "      <th>...</th>\n",
       "      <th>Romantic</th>\n",
       "      <th>Sci-Fi</th>\n",
       "      <th>Sports</th>\n",
       "      <th>Thriller</th>\n",
       "      <th>War</th>\n",
       "      <th>Western</th>\n",
       "      <th>RELEASE_QUARTER_1</th>\n",
       "      <th>RELEASE_QUARTER_2</th>\n",
       "      <th>RELEASE_QUARTER_3</th>\n",
       "      <th>RELEASE_QUARTER_4</th>\n",
       "    </tr>\n",
       "    <tr>\n",
       "      <th>MOVIE_NAME</th>\n",
       "      <th></th>\n",
       "      <th></th>\n",
       "      <th></th>\n",
       "      <th></th>\n",
       "      <th></th>\n",
       "      <th></th>\n",
       "      <th></th>\n",
       "      <th></th>\n",
       "      <th></th>\n",
       "      <th></th>\n",
       "      <th></th>\n",
       "      <th></th>\n",
       "      <th></th>\n",
       "      <th></th>\n",
       "      <th></th>\n",
       "      <th></th>\n",
       "      <th></th>\n",
       "      <th></th>\n",
       "      <th></th>\n",
       "      <th></th>\n",
       "      <th></th>\n",
       "    </tr>\n",
       "  </thead>\n",
       "  <tbody>\n",
       "    <tr>\n",
       "      <th>Marvel's The Avengers</th>\n",
       "      <td>1.0</td>\n",
       "      <td>1.0</td>\n",
       "      <td>0.0</td>\n",
       "      <td>220000000.0</td>\n",
       "      <td>0.0</td>\n",
       "      <td>0.0</td>\n",
       "      <td>0.0</td>\n",
       "      <td>207438708</td>\n",
       "      <td>0.0</td>\n",
       "      <td>0.0</td>\n",
       "      <td>...</td>\n",
       "      <td>0.0</td>\n",
       "      <td>0.0</td>\n",
       "      <td>0.0</td>\n",
       "      <td>0.0</td>\n",
       "      <td>0.0</td>\n",
       "      <td>0.0</td>\n",
       "      <td>0.0</td>\n",
       "      <td>1.0</td>\n",
       "      <td>0.0</td>\n",
       "      <td>0.0</td>\n",
       "    </tr>\n",
       "    <tr>\n",
       "      <th>The Dark Knight Rises</th>\n",
       "      <td>1.0</td>\n",
       "      <td>0.0</td>\n",
       "      <td>0.0</td>\n",
       "      <td>250000000.0</td>\n",
       "      <td>0.0</td>\n",
       "      <td>0.0</td>\n",
       "      <td>0.0</td>\n",
       "      <td>160887295</td>\n",
       "      <td>0.0</td>\n",
       "      <td>0.0</td>\n",
       "      <td>...</td>\n",
       "      <td>0.0</td>\n",
       "      <td>0.0</td>\n",
       "      <td>0.0</td>\n",
       "      <td>1.0</td>\n",
       "      <td>0.0</td>\n",
       "      <td>0.0</td>\n",
       "      <td>0.0</td>\n",
       "      <td>0.0</td>\n",
       "      <td>1.0</td>\n",
       "      <td>0.0</td>\n",
       "    </tr>\n",
       "    <tr>\n",
       "      <th>The Hunger Games</th>\n",
       "      <td>1.0</td>\n",
       "      <td>1.0</td>\n",
       "      <td>0.0</td>\n",
       "      <td>78000000.0</td>\n",
       "      <td>0.0</td>\n",
       "      <td>0.0</td>\n",
       "      <td>0.0</td>\n",
       "      <td>152535747</td>\n",
       "      <td>0.0</td>\n",
       "      <td>0.0</td>\n",
       "      <td>...</td>\n",
       "      <td>0.0</td>\n",
       "      <td>0.0</td>\n",
       "      <td>0.0</td>\n",
       "      <td>0.0</td>\n",
       "      <td>0.0</td>\n",
       "      <td>0.0</td>\n",
       "      <td>1.0</td>\n",
       "      <td>0.0</td>\n",
       "      <td>0.0</td>\n",
       "      <td>0.0</td>\n",
       "    </tr>\n",
       "    <tr>\n",
       "      <th>Skyfall</th>\n",
       "      <td>1.0</td>\n",
       "      <td>0.0</td>\n",
       "      <td>0.0</td>\n",
       "      <td>200000000.0</td>\n",
       "      <td>0.0</td>\n",
       "      <td>0.0</td>\n",
       "      <td>0.0</td>\n",
       "      <td>88364714</td>\n",
       "      <td>0.0</td>\n",
       "      <td>0.0</td>\n",
       "      <td>...</td>\n",
       "      <td>0.0</td>\n",
       "      <td>0.0</td>\n",
       "      <td>0.0</td>\n",
       "      <td>0.0</td>\n",
       "      <td>0.0</td>\n",
       "      <td>0.0</td>\n",
       "      <td>0.0</td>\n",
       "      <td>0.0</td>\n",
       "      <td>0.0</td>\n",
       "      <td>1.0</td>\n",
       "    </tr>\n",
       "    <tr>\n",
       "      <th>The Hobbit:An Unexpected Journey</th>\n",
       "      <td>0.0</td>\n",
       "      <td>0.0</td>\n",
       "      <td>0.0</td>\n",
       "      <td>0.0</td>\n",
       "      <td>0.0</td>\n",
       "      <td>0.0</td>\n",
       "      <td>0.0</td>\n",
       "      <td>84617303</td>\n",
       "      <td>0.0</td>\n",
       "      <td>0.0</td>\n",
       "      <td>...</td>\n",
       "      <td>0.0</td>\n",
       "      <td>0.0</td>\n",
       "      <td>0.0</td>\n",
       "      <td>0.0</td>\n",
       "      <td>0.0</td>\n",
       "      <td>0.0</td>\n",
       "      <td>0.0</td>\n",
       "      <td>0.0</td>\n",
       "      <td>0.0</td>\n",
       "      <td>1.0</td>\n",
       "    </tr>\n",
       "  </tbody>\n",
       "</table>\n",
       "<p>5 rows × 31 columns</p>\n",
       "</div>"
      ],
      "text/plain": [
       "                                  Action  Adventure  Animation       BUDGET  \\\n",
       "MOVIE_NAME                                                                    \n",
       "Marvel's The Avengers                1.0        1.0        0.0  220000000.0   \n",
       "The Dark Knight Rises                1.0        0.0        0.0  250000000.0   \n",
       "The Hunger Games                     1.0        1.0        0.0   78000000.0   \n",
       "Skyfall                              1.0        0.0        0.0  200000000.0   \n",
       "The Hobbit:An Unexpected Journey     0.0        0.0        0.0          0.0   \n",
       "\n",
       "                                  Comedy  Concert  Crime  DOMESTIC_OPENING  \\\n",
       "MOVIE_NAME                                                                   \n",
       "Marvel's The Avengers                0.0      0.0    0.0         207438708   \n",
       "The Dark Knight Rises                0.0      0.0    0.0         160887295   \n",
       "The Hunger Games                     0.0      0.0    0.0         152535747   \n",
       "Skyfall                              0.0      0.0    0.0          88364714   \n",
       "The Hobbit:An Unexpected Journey     0.0      0.0    0.0          84617303   \n",
       "\n",
       "                                  Documentary  Drama        ...          \\\n",
       "MOVIE_NAME                                                  ...           \n",
       "Marvel's The Avengers                     0.0    0.0        ...           \n",
       "The Dark Knight Rises                     0.0    0.0        ...           \n",
       "The Hunger Games                          0.0    0.0        ...           \n",
       "Skyfall                                   0.0    0.0        ...           \n",
       "The Hobbit:An Unexpected Journey          0.0    0.0        ...           \n",
       "\n",
       "                                  Romantic  Sci-Fi  Sports  Thriller  War  \\\n",
       "MOVIE_NAME                                                                  \n",
       "Marvel's The Avengers                  0.0     0.0     0.0       0.0  0.0   \n",
       "The Dark Knight Rises                  0.0     0.0     0.0       1.0  0.0   \n",
       "The Hunger Games                       0.0     0.0     0.0       0.0  0.0   \n",
       "Skyfall                                0.0     0.0     0.0       0.0  0.0   \n",
       "The Hobbit:An Unexpected Journey       0.0     0.0     0.0       0.0  0.0   \n",
       "\n",
       "                                  Western  RELEASE_QUARTER_1  \\\n",
       "MOVIE_NAME                                                     \n",
       "Marvel's The Avengers                 0.0                0.0   \n",
       "The Dark Knight Rises                 0.0                0.0   \n",
       "The Hunger Games                      0.0                1.0   \n",
       "Skyfall                               0.0                0.0   \n",
       "The Hobbit:An Unexpected Journey      0.0                0.0   \n",
       "\n",
       "                                  RELEASE_QUARTER_2  RELEASE_QUARTER_3  \\\n",
       "MOVIE_NAME                                                               \n",
       "Marvel's The Avengers                           1.0                0.0   \n",
       "The Dark Knight Rises                           0.0                1.0   \n",
       "The Hunger Games                                0.0                0.0   \n",
       "Skyfall                                         0.0                0.0   \n",
       "The Hobbit:An Unexpected Journey                0.0                0.0   \n",
       "\n",
       "                                  RELEASE_QUARTER_4  \n",
       "MOVIE_NAME                                           \n",
       "Marvel's The Avengers                           0.0  \n",
       "The Dark Knight Rises                           0.0  \n",
       "The Hunger Games                                0.0  \n",
       "Skyfall                                         1.0  \n",
       "The Hobbit:An Unexpected Journey                1.0  \n",
       "\n",
       "[5 rows x 31 columns]"
      ]
     },
     "execution_count": 281,
     "metadata": {},
     "output_type": "execute_result"
    }
   ],
   "source": [
    "movie_data.head()"
   ]
  },
  {
   "cell_type": "markdown",
   "metadata": {},
   "source": [
    "# Check the data for missing values, and other weird things\n",
    "\n",
    "## Impute what I can into the raw data"
   ]
  },
  {
   "cell_type": "markdown",
   "metadata": {},
   "source": [
    "### Check Domestic Openings"
   ]
  },
  {
   "cell_type": "code",
   "execution_count": 282,
   "metadata": {
    "collapsed": false
   },
   "outputs": [
    {
     "data": {
      "text/plain": [
       "0"
      ]
     },
     "execution_count": 282,
     "metadata": {},
     "output_type": "execute_result"
    }
   ],
   "source": [
    "len(movie_data[movie_data[\"DOMESTIC_OPENING\"] == 0])"
   ]
  },
  {
   "cell_type": "markdown",
   "metadata": {},
   "source": [
    "## Check Budget "
   ]
  },
  {
   "cell_type": "code",
   "execution_count": 283,
   "metadata": {
    "collapsed": false
   },
   "outputs": [
    {
     "data": {
      "text/plain": [
       "774"
      ]
     },
     "execution_count": 283,
     "metadata": {},
     "output_type": "execute_result"
    }
   ],
   "source": [
    "# woah...missing a lot~~\n",
    "len (movie_data[movie_data['BUDGET'] == 0])"
   ]
  },
  {
   "cell_type": "code",
   "execution_count": 284,
   "metadata": {
    "collapsed": true
   },
   "outputs": [],
   "source": [
    "movie_no_budget = movie_data[movie_data['BUDGET'] == 0]"
   ]
  },
  {
   "cell_type": "code",
   "execution_count": 285,
   "metadata": {
    "collapsed": false
   },
   "outputs": [
    {
     "data": {
      "text/html": [
       "<div>\n",
       "<table border=\"1\" class=\"dataframe\">\n",
       "  <thead>\n",
       "    <tr style=\"text-align: right;\">\n",
       "      <th></th>\n",
       "      <th>Action</th>\n",
       "      <th>Adventure</th>\n",
       "      <th>Animation</th>\n",
       "      <th>BUDGET</th>\n",
       "      <th>Comedy</th>\n",
       "      <th>Concert</th>\n",
       "      <th>Crime</th>\n",
       "      <th>DOMESTIC_OPENING</th>\n",
       "      <th>Documentary</th>\n",
       "      <th>Drama</th>\n",
       "      <th>...</th>\n",
       "      <th>Romantic</th>\n",
       "      <th>Sci-Fi</th>\n",
       "      <th>Sports</th>\n",
       "      <th>Thriller</th>\n",
       "      <th>War</th>\n",
       "      <th>Western</th>\n",
       "      <th>RELEASE_QUARTER_1</th>\n",
       "      <th>RELEASE_QUARTER_2</th>\n",
       "      <th>RELEASE_QUARTER_3</th>\n",
       "      <th>RELEASE_QUARTER_4</th>\n",
       "    </tr>\n",
       "    <tr>\n",
       "      <th>MOVIE_NAME</th>\n",
       "      <th></th>\n",
       "      <th></th>\n",
       "      <th></th>\n",
       "      <th></th>\n",
       "      <th></th>\n",
       "      <th></th>\n",
       "      <th></th>\n",
       "      <th></th>\n",
       "      <th></th>\n",
       "      <th></th>\n",
       "      <th></th>\n",
       "      <th></th>\n",
       "      <th></th>\n",
       "      <th></th>\n",
       "      <th></th>\n",
       "      <th></th>\n",
       "      <th></th>\n",
       "      <th></th>\n",
       "      <th></th>\n",
       "      <th></th>\n",
       "      <th></th>\n",
       "    </tr>\n",
       "  </thead>\n",
       "  <tbody>\n",
       "    <tr>\n",
       "      <th>The Hobbit:An Unexpected Journey</th>\n",
       "      <td>0.0</td>\n",
       "      <td>0.0</td>\n",
       "      <td>0.0</td>\n",
       "      <td>0.0</td>\n",
       "      <td>0.0</td>\n",
       "      <td>0.0</td>\n",
       "      <td>0.0</td>\n",
       "      <td>84617303</td>\n",
       "      <td>0.0</td>\n",
       "      <td>0.0</td>\n",
       "      <td>...</td>\n",
       "      <td>0.0</td>\n",
       "      <td>0.0</td>\n",
       "      <td>0.0</td>\n",
       "      <td>0.0</td>\n",
       "      <td>0.0</td>\n",
       "      <td>0.0</td>\n",
       "      <td>0.0</td>\n",
       "      <td>0.0</td>\n",
       "      <td>0.0</td>\n",
       "      <td>1.0</td>\n",
       "    </tr>\n",
       "    <tr>\n",
       "      <th>Argo</th>\n",
       "      <td>0.0</td>\n",
       "      <td>0.0</td>\n",
       "      <td>0.0</td>\n",
       "      <td>0.0</td>\n",
       "      <td>0.0</td>\n",
       "      <td>0.0</td>\n",
       "      <td>0.0</td>\n",
       "      <td>19458109</td>\n",
       "      <td>0.0</td>\n",
       "      <td>1.0</td>\n",
       "      <td>...</td>\n",
       "      <td>0.0</td>\n",
       "      <td>0.0</td>\n",
       "      <td>0.0</td>\n",
       "      <td>1.0</td>\n",
       "      <td>0.0</td>\n",
       "      <td>0.0</td>\n",
       "      <td>0.0</td>\n",
       "      <td>0.0</td>\n",
       "      <td>0.0</td>\n",
       "      <td>1.0</td>\n",
       "    </tr>\n",
       "    <tr>\n",
       "      <th>The Campaign</th>\n",
       "      <td>0.0</td>\n",
       "      <td>0.0</td>\n",
       "      <td>0.0</td>\n",
       "      <td>0.0</td>\n",
       "      <td>1.0</td>\n",
       "      <td>0.0</td>\n",
       "      <td>0.0</td>\n",
       "      <td>26588460</td>\n",
       "      <td>0.0</td>\n",
       "      <td>0.0</td>\n",
       "      <td>...</td>\n",
       "      <td>0.0</td>\n",
       "      <td>0.0</td>\n",
       "      <td>0.0</td>\n",
       "      <td>0.0</td>\n",
       "      <td>0.0</td>\n",
       "      <td>0.0</td>\n",
       "      <td>0.0</td>\n",
       "      <td>0.0</td>\n",
       "      <td>1.0</td>\n",
       "      <td>0.0</td>\n",
       "    </tr>\n",
       "    <tr>\n",
       "      <th>Hope Springs</th>\n",
       "      <td>0.0</td>\n",
       "      <td>0.0</td>\n",
       "      <td>0.0</td>\n",
       "      <td>0.0</td>\n",
       "      <td>1.0</td>\n",
       "      <td>0.0</td>\n",
       "      <td>0.0</td>\n",
       "      <td>14650121</td>\n",
       "      <td>0.0</td>\n",
       "      <td>1.0</td>\n",
       "      <td>...</td>\n",
       "      <td>0.0</td>\n",
       "      <td>0.0</td>\n",
       "      <td>0.0</td>\n",
       "      <td>0.0</td>\n",
       "      <td>0.0</td>\n",
       "      <td>0.0</td>\n",
       "      <td>0.0</td>\n",
       "      <td>0.0</td>\n",
       "      <td>1.0</td>\n",
       "      <td>0.0</td>\n",
       "    </tr>\n",
       "    <tr>\n",
       "      <th>The Lucky One</th>\n",
       "      <td>0.0</td>\n",
       "      <td>0.0</td>\n",
       "      <td>0.0</td>\n",
       "      <td>0.0</td>\n",
       "      <td>0.0</td>\n",
       "      <td>0.0</td>\n",
       "      <td>0.0</td>\n",
       "      <td>22518358</td>\n",
       "      <td>0.0</td>\n",
       "      <td>0.0</td>\n",
       "      <td>...</td>\n",
       "      <td>0.0</td>\n",
       "      <td>0.0</td>\n",
       "      <td>0.0</td>\n",
       "      <td>0.0</td>\n",
       "      <td>0.0</td>\n",
       "      <td>0.0</td>\n",
       "      <td>0.0</td>\n",
       "      <td>1.0</td>\n",
       "      <td>0.0</td>\n",
       "      <td>0.0</td>\n",
       "    </tr>\n",
       "    <tr>\n",
       "      <th>Project X</th>\n",
       "      <td>0.0</td>\n",
       "      <td>0.0</td>\n",
       "      <td>0.0</td>\n",
       "      <td>0.0</td>\n",
       "      <td>1.0</td>\n",
       "      <td>0.0</td>\n",
       "      <td>0.0</td>\n",
       "      <td>21051363</td>\n",
       "      <td>0.0</td>\n",
       "      <td>0.0</td>\n",
       "      <td>...</td>\n",
       "      <td>0.0</td>\n",
       "      <td>0.0</td>\n",
       "      <td>0.0</td>\n",
       "      <td>0.0</td>\n",
       "      <td>0.0</td>\n",
       "      <td>0.0</td>\n",
       "      <td>1.0</td>\n",
       "      <td>0.0</td>\n",
       "      <td>0.0</td>\n",
       "      <td>0.0</td>\n",
       "    </tr>\n",
       "    <tr>\n",
       "      <th>The Woman in Black</th>\n",
       "      <td>0.0</td>\n",
       "      <td>0.0</td>\n",
       "      <td>0.0</td>\n",
       "      <td>0.0</td>\n",
       "      <td>0.0</td>\n",
       "      <td>0.0</td>\n",
       "      <td>0.0</td>\n",
       "      <td>20874072</td>\n",
       "      <td>0.0</td>\n",
       "      <td>0.0</td>\n",
       "      <td>...</td>\n",
       "      <td>0.0</td>\n",
       "      <td>0.0</td>\n",
       "      <td>0.0</td>\n",
       "      <td>1.0</td>\n",
       "      <td>0.0</td>\n",
       "      <td>0.0</td>\n",
       "      <td>1.0</td>\n",
       "      <td>0.0</td>\n",
       "      <td>0.0</td>\n",
       "      <td>0.0</td>\n",
       "    </tr>\n",
       "    <tr>\n",
       "      <th>The Devil Inside</th>\n",
       "      <td>0.0</td>\n",
       "      <td>0.0</td>\n",
       "      <td>0.0</td>\n",
       "      <td>0.0</td>\n",
       "      <td>0.0</td>\n",
       "      <td>0.0</td>\n",
       "      <td>0.0</td>\n",
       "      <td>33732515</td>\n",
       "      <td>0.0</td>\n",
       "      <td>0.0</td>\n",
       "      <td>...</td>\n",
       "      <td>0.0</td>\n",
       "      <td>0.0</td>\n",
       "      <td>0.0</td>\n",
       "      <td>0.0</td>\n",
       "      <td>0.0</td>\n",
       "      <td>0.0</td>\n",
       "      <td>1.0</td>\n",
       "      <td>0.0</td>\n",
       "      <td>0.0</td>\n",
       "      <td>0.0</td>\n",
       "    </tr>\n",
       "    <tr>\n",
       "      <th>The Odd Life of Timothy Green</th>\n",
       "      <td>0.0</td>\n",
       "      <td>0.0</td>\n",
       "      <td>0.0</td>\n",
       "      <td>0.0</td>\n",
       "      <td>0.0</td>\n",
       "      <td>0.0</td>\n",
       "      <td>0.0</td>\n",
       "      <td>10822903</td>\n",
       "      <td>0.0</td>\n",
       "      <td>0.0</td>\n",
       "      <td>...</td>\n",
       "      <td>0.0</td>\n",
       "      <td>0.0</td>\n",
       "      <td>0.0</td>\n",
       "      <td>0.0</td>\n",
       "      <td>0.0</td>\n",
       "      <td>0.0</td>\n",
       "      <td>0.0</td>\n",
       "      <td>0.0</td>\n",
       "      <td>1.0</td>\n",
       "      <td>0.0</td>\n",
       "    </tr>\n",
       "    <tr>\n",
       "      <th>Beauty and the Beast (3D)</th>\n",
       "      <td>0.0</td>\n",
       "      <td>0.0</td>\n",
       "      <td>1.0</td>\n",
       "      <td>0.0</td>\n",
       "      <td>0.0</td>\n",
       "      <td>0.0</td>\n",
       "      <td>0.0</td>\n",
       "      <td>17751905</td>\n",
       "      <td>0.0</td>\n",
       "      <td>0.0</td>\n",
       "      <td>...</td>\n",
       "      <td>0.0</td>\n",
       "      <td>0.0</td>\n",
       "      <td>0.0</td>\n",
       "      <td>0.0</td>\n",
       "      <td>0.0</td>\n",
       "      <td>0.0</td>\n",
       "      <td>1.0</td>\n",
       "      <td>0.0</td>\n",
       "      <td>0.0</td>\n",
       "      <td>0.0</td>\n",
       "    </tr>\n",
       "  </tbody>\n",
       "</table>\n",
       "<p>10 rows × 31 columns</p>\n",
       "</div>"
      ],
      "text/plain": [
       "                                  Action  Adventure  Animation  BUDGET  \\\n",
       "MOVIE_NAME                                                               \n",
       "The Hobbit:An Unexpected Journey     0.0        0.0        0.0     0.0   \n",
       "Argo                                 0.0        0.0        0.0     0.0   \n",
       "The Campaign                         0.0        0.0        0.0     0.0   \n",
       "Hope Springs                         0.0        0.0        0.0     0.0   \n",
       "The Lucky One                        0.0        0.0        0.0     0.0   \n",
       "Project X                            0.0        0.0        0.0     0.0   \n",
       "The Woman in Black                   0.0        0.0        0.0     0.0   \n",
       "The Devil Inside                     0.0        0.0        0.0     0.0   \n",
       "The Odd Life of Timothy Green        0.0        0.0        0.0     0.0   \n",
       "Beauty and the Beast (3D)            0.0        0.0        1.0     0.0   \n",
       "\n",
       "                                  Comedy  Concert  Crime  DOMESTIC_OPENING  \\\n",
       "MOVIE_NAME                                                                   \n",
       "The Hobbit:An Unexpected Journey     0.0      0.0    0.0          84617303   \n",
       "Argo                                 0.0      0.0    0.0          19458109   \n",
       "The Campaign                         1.0      0.0    0.0          26588460   \n",
       "Hope Springs                         1.0      0.0    0.0          14650121   \n",
       "The Lucky One                        0.0      0.0    0.0          22518358   \n",
       "Project X                            1.0      0.0    0.0          21051363   \n",
       "The Woman in Black                   0.0      0.0    0.0          20874072   \n",
       "The Devil Inside                     0.0      0.0    0.0          33732515   \n",
       "The Odd Life of Timothy Green        0.0      0.0    0.0          10822903   \n",
       "Beauty and the Beast (3D)            0.0      0.0    0.0          17751905   \n",
       "\n",
       "                                  Documentary  Drama        ...          \\\n",
       "MOVIE_NAME                                                  ...           \n",
       "The Hobbit:An Unexpected Journey          0.0    0.0        ...           \n",
       "Argo                                      0.0    1.0        ...           \n",
       "The Campaign                              0.0    0.0        ...           \n",
       "Hope Springs                              0.0    1.0        ...           \n",
       "The Lucky One                             0.0    0.0        ...           \n",
       "Project X                                 0.0    0.0        ...           \n",
       "The Woman in Black                        0.0    0.0        ...           \n",
       "The Devil Inside                          0.0    0.0        ...           \n",
       "The Odd Life of Timothy Green             0.0    0.0        ...           \n",
       "Beauty and the Beast (3D)                 0.0    0.0        ...           \n",
       "\n",
       "                                  Romantic  Sci-Fi  Sports  Thriller  War  \\\n",
       "MOVIE_NAME                                                                  \n",
       "The Hobbit:An Unexpected Journey       0.0     0.0     0.0       0.0  0.0   \n",
       "Argo                                   0.0     0.0     0.0       1.0  0.0   \n",
       "The Campaign                           0.0     0.0     0.0       0.0  0.0   \n",
       "Hope Springs                           0.0     0.0     0.0       0.0  0.0   \n",
       "The Lucky One                          0.0     0.0     0.0       0.0  0.0   \n",
       "Project X                              0.0     0.0     0.0       0.0  0.0   \n",
       "The Woman in Black                     0.0     0.0     0.0       1.0  0.0   \n",
       "The Devil Inside                       0.0     0.0     0.0       0.0  0.0   \n",
       "The Odd Life of Timothy Green          0.0     0.0     0.0       0.0  0.0   \n",
       "Beauty and the Beast (3D)              0.0     0.0     0.0       0.0  0.0   \n",
       "\n",
       "                                  Western  RELEASE_QUARTER_1  \\\n",
       "MOVIE_NAME                                                     \n",
       "The Hobbit:An Unexpected Journey      0.0                0.0   \n",
       "Argo                                  0.0                0.0   \n",
       "The Campaign                          0.0                0.0   \n",
       "Hope Springs                          0.0                0.0   \n",
       "The Lucky One                         0.0                0.0   \n",
       "Project X                             0.0                1.0   \n",
       "The Woman in Black                    0.0                1.0   \n",
       "The Devil Inside                      0.0                1.0   \n",
       "The Odd Life of Timothy Green         0.0                0.0   \n",
       "Beauty and the Beast (3D)             0.0                1.0   \n",
       "\n",
       "                                  RELEASE_QUARTER_2  RELEASE_QUARTER_3  \\\n",
       "MOVIE_NAME                                                               \n",
       "The Hobbit:An Unexpected Journey                0.0                0.0   \n",
       "Argo                                            0.0                0.0   \n",
       "The Campaign                                    0.0                1.0   \n",
       "Hope Springs                                    0.0                1.0   \n",
       "The Lucky One                                   1.0                0.0   \n",
       "Project X                                       0.0                0.0   \n",
       "The Woman in Black                              0.0                0.0   \n",
       "The Devil Inside                                0.0                0.0   \n",
       "The Odd Life of Timothy Green                   0.0                1.0   \n",
       "Beauty and the Beast (3D)                       0.0                0.0   \n",
       "\n",
       "                                  RELEASE_QUARTER_4  \n",
       "MOVIE_NAME                                           \n",
       "The Hobbit:An Unexpected Journey                1.0  \n",
       "Argo                                            1.0  \n",
       "The Campaign                                    0.0  \n",
       "Hope Springs                                    0.0  \n",
       "The Lucky One                                   0.0  \n",
       "Project X                                       0.0  \n",
       "The Woman in Black                              0.0  \n",
       "The Devil Inside                                0.0  \n",
       "The Odd Life of Timothy Green                   0.0  \n",
       "Beauty and the Beast (3D)                       0.0  \n",
       "\n",
       "[10 rows x 31 columns]"
      ]
     },
     "execution_count": 285,
     "metadata": {},
     "output_type": "execute_result"
    }
   ],
   "source": [
    "movie_no_budget.head(10)"
   ]
  },
  {
   "cell_type": "markdown",
   "metadata": {},
   "source": [
    "# Note!!!!!! one reason for weird domest/foreign offset is if a movie is released somewhere like korea...it might do super well there but not well in america (which is considered domestic)\n",
    "\n",
    "# Have option of ignoring films with foreign as the genre"
   ]
  },
  {
   "cell_type": "code",
   "execution_count": 286,
   "metadata": {
    "collapsed": true
   },
   "outputs": [],
   "source": [
    "movies_no_domestic = movie_data[movie_data[\"DOMESTIC_OPENING\"] == 0]"
   ]
  },
  {
   "cell_type": "code",
   "execution_count": 287,
   "metadata": {
    "collapsed": false,
    "scrolled": true
   },
   "outputs": [
    {
     "data": {
      "text/html": [
       "<div>\n",
       "<table border=\"1\" class=\"dataframe\">\n",
       "  <thead>\n",
       "    <tr style=\"text-align: right;\">\n",
       "      <th></th>\n",
       "      <th>Action</th>\n",
       "      <th>Adventure</th>\n",
       "      <th>Animation</th>\n",
       "      <th>BUDGET</th>\n",
       "      <th>Comedy</th>\n",
       "      <th>Concert</th>\n",
       "      <th>Crime</th>\n",
       "      <th>DOMESTIC_OPENING</th>\n",
       "      <th>Documentary</th>\n",
       "      <th>Drama</th>\n",
       "      <th>...</th>\n",
       "      <th>Romantic</th>\n",
       "      <th>Sci-Fi</th>\n",
       "      <th>Sports</th>\n",
       "      <th>Thriller</th>\n",
       "      <th>War</th>\n",
       "      <th>Western</th>\n",
       "      <th>RELEASE_QUARTER_1</th>\n",
       "      <th>RELEASE_QUARTER_2</th>\n",
       "      <th>RELEASE_QUARTER_3</th>\n",
       "      <th>RELEASE_QUARTER_4</th>\n",
       "    </tr>\n",
       "    <tr>\n",
       "      <th>MOVIE_NAME</th>\n",
       "      <th></th>\n",
       "      <th></th>\n",
       "      <th></th>\n",
       "      <th></th>\n",
       "      <th></th>\n",
       "      <th></th>\n",
       "      <th></th>\n",
       "      <th></th>\n",
       "      <th></th>\n",
       "      <th></th>\n",
       "      <th></th>\n",
       "      <th></th>\n",
       "      <th></th>\n",
       "      <th></th>\n",
       "      <th></th>\n",
       "      <th></th>\n",
       "      <th></th>\n",
       "      <th></th>\n",
       "      <th></th>\n",
       "      <th></th>\n",
       "      <th></th>\n",
       "    </tr>\n",
       "  </thead>\n",
       "  <tbody>\n",
       "  </tbody>\n",
       "</table>\n",
       "<p>0 rows × 31 columns</p>\n",
       "</div>"
      ],
      "text/plain": [
       "Empty DataFrame\n",
       "Columns: [Action, Adventure, Animation, BUDGET, Comedy, Concert, Crime, DOMESTIC_OPENING, Documentary, Drama, FOREIGN_TOTAL, Family, Fantasy, Foreign, Historical, Horror, IMAX, Music, Musical, Period, Romance, Romantic, Sci-Fi, Sports, Thriller, War, Western, RELEASE_QUARTER_1, RELEASE_QUARTER_2, RELEASE_QUARTER_3, RELEASE_QUARTER_4]\n",
       "Index: []\n",
       "\n",
       "[0 rows x 31 columns]"
      ]
     },
     "execution_count": 287,
     "metadata": {},
     "output_type": "execute_result"
    }
   ],
   "source": [
    "movies_no_domestic"
   ]
  },
  {
   "cell_type": "markdown",
   "metadata": {},
   "source": [
    "# Just get rid of entries with no budget info"
   ]
  },
  {
   "cell_type": "code",
   "execution_count": 288,
   "metadata": {
    "collapsed": true
   },
   "outputs": [],
   "source": [
    "movie_data = movie_data[movie_data['BUDGET'] != 0]"
   ]
  },
  {
   "cell_type": "code",
   "execution_count": 289,
   "metadata": {
    "collapsed": false
   },
   "outputs": [
    {
     "data": {
      "text/plain": [
       "(754, 31)"
      ]
     },
     "execution_count": 289,
     "metadata": {},
     "output_type": "execute_result"
    }
   ],
   "source": [
    "movie_data.shape"
   ]
  },
  {
   "cell_type": "code",
   "execution_count": 290,
   "metadata": {
    "collapsed": false
   },
   "outputs": [
    {
     "data": {
      "text/plain": [
       "9"
      ]
     },
     "execution_count": 290,
     "metadata": {},
     "output_type": "execute_result"
    }
   ],
   "source": [
    "len(movie_data[movie_data['Foreign'] == 1])"
   ]
  },
  {
   "cell_type": "markdown",
   "metadata": {},
   "source": [
    "# Drop foreign movies because "
   ]
  },
  {
   "cell_type": "code",
   "execution_count": 291,
   "metadata": {
    "collapsed": true
   },
   "outputs": [],
   "source": [
    "movie_data = movie_data[movie_data['Foreign'] == 0]"
   ]
  },
  {
   "cell_type": "code",
   "execution_count": 292,
   "metadata": {
    "collapsed": false
   },
   "outputs": [
    {
     "data": {
      "text/plain": [
       "(745, 31)"
      ]
     },
     "execution_count": 292,
     "metadata": {},
     "output_type": "execute_result"
    }
   ],
   "source": [
    "movie_data.shape"
   ]
  },
  {
   "cell_type": "markdown",
   "metadata": {},
   "source": [
    "# Get some plots the data"
   ]
  },
  {
   "cell_type": "code",
   "execution_count": 293,
   "metadata": {
    "collapsed": true
   },
   "outputs": [],
   "source": [
    "import sklearn\n",
    "from sklearn.cross_validation import train_test_split,KFold,cross_val_score\n",
    "from pandas.tools.plotting import scatter_matrix"
   ]
  },
  {
   "cell_type": "markdown",
   "metadata": {},
   "source": [
    "### Drop na values (there is apparently 1)"
   ]
  },
  {
   "cell_type": "code",
   "execution_count": 294,
   "metadata": {
    "collapsed": true
   },
   "outputs": [],
   "source": [
    "movie_data.dropna(inplace=True)"
   ]
  },
  {
   "cell_type": "code",
   "execution_count": 295,
   "metadata": {
    "collapsed": false
   },
   "outputs": [
    {
     "data": {
      "text/plain": [
       "(745, 31)"
      ]
     },
     "execution_count": 295,
     "metadata": {},
     "output_type": "execute_result"
    }
   ],
   "source": [
    "movie_data.shape"
   ]
  },
  {
   "cell_type": "code",
   "execution_count": 296,
   "metadata": {
    "collapsed": true
   },
   "outputs": [],
   "source": [
    "movie_features,movie_target = movie_data.drop('FOREIGN_TOTAL', axis=1),movie_data['FOREIGN_TOTAL']"
   ]
  },
  {
   "cell_type": "markdown",
   "metadata": {},
   "source": [
    "## Want to get some plots...write these to a directory\n",
    "#### currently without the extra actor/director/writer information..."
   ]
  },
  {
   "cell_type": "code",
   "execution_count": 298,
   "metadata": {
    "collapsed": false
   },
   "outputs": [],
   "source": [
    "column_names = list(movie_features.columns)\n",
    "\n",
    "for column in column_names:\n",
    "    try:\n",
    "    #     print movie_features[column]\n",
    "        # create plots of column vs foreign budget\n",
    "\n",
    "        ## want to rescale budget and domestic fields to make the graphs look better and be \n",
    "        ## easier to understand\n",
    "        if column == 'BUDGET':\n",
    "            plt.scatter(movie_features[column]/float(1000000),movie_target/float(1000000),alpha=0.2)\n",
    "        elif column == 'DOMESTIC_OPENING':\n",
    "            plt.scatter(movie_features[column]/float(1000000),movie_target/float(1000000),alpha=0.2)\n",
    "        else:\n",
    "            plt.scatter(movie_features[column],movie_target/float(1000000),alpha=0.2)\n",
    "\n",
    "        plt.xlabel(column)\n",
    "        plt.ylabel('foreign gross (millions $)')\n",
    "\n",
    "        path = '/Users/williamcosby/Documents/metis/Project_Luther/plots/'+str(column)+'.png'\n",
    "        plt.savefig(path)\n",
    "        plt.close() \n",
    "    except:\n",
    "        print column\n",
    "        print movie_features[column]"
   ]
  },
  {
   "cell_type": "markdown",
   "metadata": {},
   "source": [
    "# Start some modeling\n",
    "### Split the data into features and targets\n",
    "\n"
   ]
  },
  {
   "cell_type": "code",
   "execution_count": 299,
   "metadata": {
    "collapsed": false
   },
   "outputs": [],
   "source": [
    "from sklearn import linear_model\n",
    "from sklearn.cross_validation import cross_val_predict, train_test_split"
   ]
  },
  {
   "cell_type": "markdown",
   "metadata": {},
   "source": [
    "# Training, Testing, and holdout splits\n",
    "\n",
    "#### nh means \"not holdout\""
   ]
  },
  {
   "cell_type": "markdown",
   "metadata": {},
   "source": [
    "### Make a holdout set from the data"
   ]
  },
  {
   "cell_type": "code",
   "execution_count": 300,
   "metadata": {
    "collapsed": false
   },
   "outputs": [],
   "source": [
    "movie_features_nh, movie_features_holdout, movie_target_nh, movie_target_holdout = train_test_split(movie_features,movie_target,\n",
    "                                                            test_size=0.1)"
   ]
  },
  {
   "cell_type": "markdown",
   "metadata": {},
   "source": [
    "### Now split the data into the train and test sets (within the non-holdout data) and create the model"
   ]
  },
  {
   "cell_type": "code",
   "execution_count": 301,
   "metadata": {
    "collapsed": true
   },
   "outputs": [],
   "source": [
    "movie_features_train, movie_features_test, movie_target_train, movie_target_test = train_test_split(\n",
    "                                                            movie_features_nh,movie_target_nh,\n",
    "                                                            test_size=0.3)"
   ]
  },
  {
   "cell_type": "markdown",
   "metadata": {},
   "source": [
    "### Drop domestic opening"
   ]
  },
  {
   "cell_type": "code",
   "execution_count": 302,
   "metadata": {
    "collapsed": false
   },
   "outputs": [],
   "source": [
    "# try dropping domestic opening \n",
    "movie_features_train_nodom = movie_features_train.drop(['DOMESTIC_OPENING'],axis=1)\n",
    "movie_features_test_nodom = movie_features_test.drop(['DOMESTIC_OPENING'],axis=1)"
   ]
  },
  {
   "cell_type": "markdown",
   "metadata": {},
   "source": [
    "## Train lin reg without domestic opening"
   ]
  },
  {
   "cell_type": "code",
   "execution_count": 303,
   "metadata": {
    "collapsed": false
   },
   "outputs": [
    {
     "name": "stdout",
     "output_type": "stream",
     "text": [
      "vanilla lin reg score:  0.508054778714\n"
     ]
    }
   ],
   "source": [
    "lr_nodom = linear_model.LinearRegression()\n",
    "lr_nodom.fit(movie_features_train_nodom,movie_target_train)\n",
    "print \"vanilla lin reg score: \", lr_nodom.score(movie_features_test_nodom, movie_target_test)"
   ]
  },
  {
   "cell_type": "markdown",
   "metadata": {},
   "source": [
    "## Train lin reg with domestic opening"
   ]
  },
  {
   "cell_type": "code",
   "execution_count": 304,
   "metadata": {
    "collapsed": false,
    "scrolled": true
   },
   "outputs": [
    {
     "name": "stdout",
     "output_type": "stream",
     "text": [
      "vanilla lin reg score:  0.743651819823\n",
      "('War', -114366952.09262225)\n",
      "('Western', -45914350.772754051)\n",
      "('Animation', 42452172.776336581)\n",
      "('Sports', -31751647.188146755)\n",
      "('Adventure', -31294011.999237716)\n",
      "('Comedy', -26084141.373817116)\n",
      "('Romantic', 25536252.980433028)\n",
      "('Family', 22309085.463242464)\n",
      "('Sci-Fi', 21026218.972608313)\n",
      "('RELEASE_QUARTER_4', 20231531.648331355)\n",
      "('RELEASE_QUARTER_1', -19476089.107278675)\n",
      "('Documentary', -17687736.75847102)\n",
      "('Crime', -16561465.095250443)\n",
      "('Music', 15384814.817870604)\n",
      "('Period', -15224393.340719763)\n",
      "('Horror', -13324281.893274412)\n",
      "('Thriller', -8848401.9231874179)\n",
      "('Action', 6686892.2360856012)\n",
      "('Fantasy', 5171996.8304276522)\n",
      "('Drama', -4554159.2044115365)\n",
      "('Romance', -4534384.9249272235)\n",
      "('RELEASE_QUARTER_3', -2868661.2488414329)\n",
      "('Historical', 2227352.6883650078)\n",
      "('RELEASE_QUARTER_2', 2113218.3103773557)\n",
      "('Concert', 419854.64525326714)\n",
      "('Musical', -257597.13907351345)\n",
      "('DOMESTIC_OPENING', 3.23981923609972)\n",
      "('BUDGET', 1.0241132080554962)\n",
      "('Foreign', -0.029440008569508791)\n",
      "('IMAX', 0.0079085864126682281)\n"
     ]
    }
   ],
   "source": [
    "lr = linear_model.LinearRegression()\n",
    "lr.fit(movie_features_train,movie_target_train)\n",
    "print \"vanilla lin reg score: \", lr.score(movie_features_test, movie_target_test)\n",
    "# sort features by coefficient\n",
    "sorted_features = sorted(zip(list(movie_features_train.columns),lr.coef_),\n",
    "                         key=lambda tup: abs(tup[1]),reverse=True) \n",
    "\n",
    "for feature in sorted_features:\n",
    "    print(feature)"
   ]
  },
  {
   "cell_type": "markdown",
   "metadata": {},
   "source": [
    "# Run on holdout set"
   ]
  },
  {
   "cell_type": "code",
   "execution_count": 307,
   "metadata": {
    "collapsed": false
   },
   "outputs": [
    {
     "data": {
      "text/plain": [
       "0.80391026298045098"
      ]
     },
     "execution_count": 307,
     "metadata": {},
     "output_type": "execute_result"
    }
   ],
   "source": [
    "# with domestic opening information\n",
    "lr.score(movie_features_holdout, movie_target_holdout)"
   ]
  },
  {
   "cell_type": "code",
   "execution_count": 308,
   "metadata": {
    "collapsed": false
   },
   "outputs": [
    {
     "data": {
      "text/plain": [
       "0.48751224064287485"
      ]
     },
     "execution_count": 308,
     "metadata": {},
     "output_type": "execute_result"
    }
   ],
   "source": [
    "# without domestic opening information\n",
    "movie_features_holdout_nodom = movie_features_holdout.drop(['DOMESTIC_OPENING'],axis=1)\n",
    "lr_nodom.score(movie_features_holdout_nodom,movie_target_holdout)"
   ]
  },
  {
   "cell_type": "markdown",
   "metadata": {},
   "source": [
    "# Random Forest"
   ]
  },
  {
   "cell_type": "code",
   "execution_count": 314,
   "metadata": {
    "collapsed": false
   },
   "outputs": [
    {
     "data": {
      "text/plain": [
       "30"
      ]
     },
     "execution_count": 314,
     "metadata": {},
     "output_type": "execute_result"
    }
   ],
   "source": [
    "len(movie_features.columns)"
   ]
  },
  {
   "cell_type": "code",
   "execution_count": 309,
   "metadata": {
    "collapsed": true
   },
   "outputs": [],
   "source": [
    "from sklearn.ensemble import RandomForestRegressor"
   ]
  },
  {
   "cell_type": "code",
   "execution_count": 315,
   "metadata": {
    "collapsed": false
   },
   "outputs": [
    {
     "name": "stdout",
     "output_type": "stream",
     "text": [
      "Random Forest result with no domestic information:  0.271716315384\n",
      "Random Forest result with domestic information:  0.69245249013\n"
     ]
    }
   ],
   "source": [
    "rf_nodom = RandomForestRegressor(n_estimators=1000,max_features=25)\n",
    "rf_nodom.fit(movie_features_train_nodom,movie_target_train)\n",
    "print \"Random Forest result with no domestic information: \", rf_nodom.score(movie_features_test_nodom,movie_target_test)\n",
    "\n",
    "rf = RandomForestRegressor(n_estimators=1000,max_features=25)\n",
    "rf.fit(movie_features_train,movie_target_train)\n",
    "print \"Random Forest result with domestic information: \", rf.score(movie_features_test,movie_target_test)\n",
    "\n"
   ]
  },
  {
   "cell_type": "code",
   "execution_count": 316,
   "metadata": {
    "collapsed": false
   },
   "outputs": [
    {
     "data": {
      "text/plain": [
       "array([  6.50519774e-03,   8.69346969e-03,   9.88065731e-03,\n",
       "         2.46849085e-01,   3.11734730e-03,   4.35443149e-07,\n",
       "         3.47573970e-04,   6.80320938e-01,   2.51802435e-05,\n",
       "         2.00145807e-03,   7.21388467e-04,   2.36440686e-03,\n",
       "         0.00000000e+00,   1.06729606e-04,   1.27277803e-03,\n",
       "         0.00000000e+00,   5.33656548e-04,   1.47703437e-03,\n",
       "         2.74192564e-04,   1.51963814e-03,   4.50932827e-04,\n",
       "         4.08350187e-03,   9.66856152e-05,   2.01151050e-03,\n",
       "         1.67941493e-04,   7.85662671e-05,   5.01252555e-03,\n",
       "         5.82718387e-03,   6.68405622e-03,   9.57592855e-03])"
      ]
     },
     "execution_count": 316,
     "metadata": {},
     "output_type": "execute_result"
    }
   ],
   "source": [
    "rf.feature_importances_"
   ]
  },
  {
   "cell_type": "markdown",
   "metadata": {},
   "source": [
    "# Gradient Boost"
   ]
  },
  {
   "cell_type": "code",
   "execution_count": 318,
   "metadata": {
    "collapsed": true
   },
   "outputs": [],
   "source": [
    "from sklearn.ensemble import GradientBoostingRegressor"
   ]
  },
  {
   "cell_type": "code",
   "execution_count": 347,
   "metadata": {
    "collapsed": false
   },
   "outputs": [
    {
     "data": {
      "text/plain": [
       "0.72547271353233156"
      ]
     },
     "execution_count": 347,
     "metadata": {},
     "output_type": "execute_result"
    }
   ],
   "source": [
    "grad_boost = GradientBoostingRegressor(n_estimators=100,learning_rate=0.1,alpha=0.3,loss='huber')\n",
    "\n",
    "grad_boost.fit(movie_features_train,movie_target_train)\n",
    "grad_boost.score(movie_features_test,movie_target_test)"
   ]
  },
  {
   "cell_type": "code",
   "execution_count": 348,
   "metadata": {
    "collapsed": false
   },
   "outputs": [
    {
     "data": {
      "text/plain": [
       "0.78180295463652605"
      ]
     },
     "execution_count": 348,
     "metadata": {},
     "output_type": "execute_result"
    }
   ],
   "source": [
    "grad_boost.score(movie_features_holdout, movie_target_holdout)"
   ]
  },
  {
   "cell_type": "code",
   "execution_count": null,
   "metadata": {
    "collapsed": true
   },
   "outputs": [],
   "source": []
  }
 ],
 "metadata": {
  "kernelspec": {
   "display_name": "Python 2",
   "language": "python",
   "name": "python2"
  },
  "language_info": {
   "codemirror_mode": {
    "name": "ipython",
    "version": 2
   },
   "file_extension": ".py",
   "mimetype": "text/x-python",
   "name": "python",
   "nbconvert_exporter": "python",
   "pygments_lexer": "ipython2",
   "version": "2.7.11"
  }
 },
 "nbformat": 4,
 "nbformat_minor": 0
}
