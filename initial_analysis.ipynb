{
 "cells": [
  {
   "cell_type": "markdown",
   "metadata": {},
   "source": [
    "# Initial Analysis to see if foreign success predictions will work"
   ]
  },
  {
   "cell_type": "code",
   "execution_count": 1,
   "metadata": {
    "collapsed": true
   },
   "outputs": [],
   "source": [
    "import pandas as pd\n",
    "import numpy as np\n",
    "import matplotlib.pyplot as plt\n",
    "%matplotlib inline"
   ]
  },
  {
   "cell_type": "code",
   "execution_count": 3,
   "metadata": {
    "collapsed": false
   },
   "outputs": [],
   "source": [
    "movie_data = pd.read_csv('movie_data.csv')"
   ]
  },
  {
   "cell_type": "code",
   "execution_count": 4,
   "metadata": {
    "collapsed": false
   },
   "outputs": [
    {
     "data": {
      "text/html": [
       "<div>\n",
       "<table border=\"1\" class=\"dataframe\">\n",
       "  <thead>\n",
       "    <tr style=\"text-align: right;\">\n",
       "      <th></th>\n",
       "      <th>MOVIE_NAME</th>\n",
       "      <th>DOMESTIC_OPENING</th>\n",
       "      <th>FOREIGN_TOTAL</th>\n",
       "      <th>BUDGET</th>\n",
       "      <th>GENRE</th>\n",
       "      <th>RELEASE_DATE</th>\n",
       "    </tr>\n",
       "  </thead>\n",
       "  <tbody>\n",
       "    <tr>\n",
       "      <th>0</th>\n",
       "      <td>Finding Dory</td>\n",
       "      <td>135060273</td>\n",
       "      <td>221800000</td>\n",
       "      <td>0</td>\n",
       "      <td>Animation</td>\n",
       "      <td>2016-06-17 00:00:00</td>\n",
       "    </tr>\n",
       "    <tr>\n",
       "      <th>1</th>\n",
       "      <td>Captain America:Civil War</td>\n",
       "      <td>179139142</td>\n",
       "      <td>744400000</td>\n",
       "      <td>250000000</td>\n",
       "      <td>Action / Adventure</td>\n",
       "      <td>2016-05-06 00:00:00</td>\n",
       "    </tr>\n",
       "    <tr>\n",
       "      <th>2</th>\n",
       "      <td>Deadpool</td>\n",
       "      <td>132434639</td>\n",
       "      <td>418968273</td>\n",
       "      <td>58000000</td>\n",
       "      <td>Action</td>\n",
       "      <td>2016-02-12 00:00:00</td>\n",
       "    </tr>\n",
       "    <tr>\n",
       "      <th>3</th>\n",
       "      <td>The Jungle Book (2016)</td>\n",
       "      <td>103261464</td>\n",
       "      <td>575900000</td>\n",
       "      <td>175000000</td>\n",
       "      <td>Adventure</td>\n",
       "      <td>2016-04-15 00:00:00</td>\n",
       "    </tr>\n",
       "    <tr>\n",
       "      <th>4</th>\n",
       "      <td>Zootopia</td>\n",
       "      <td>75063401</td>\n",
       "      <td>680600000</td>\n",
       "      <td>0</td>\n",
       "      <td>Animation</td>\n",
       "      <td>2016-03-04 00:00:00</td>\n",
       "    </tr>\n",
       "  </tbody>\n",
       "</table>\n",
       "</div>"
      ],
      "text/plain": [
       "                  MOVIE_NAME  DOMESTIC_OPENING  FOREIGN_TOTAL     BUDGET  \\\n",
       "0               Finding Dory         135060273      221800000          0   \n",
       "1  Captain America:Civil War         179139142      744400000  250000000   \n",
       "2                   Deadpool         132434639      418968273   58000000   \n",
       "3     The Jungle Book (2016)         103261464      575900000  175000000   \n",
       "4                   Zootopia          75063401      680600000          0   \n",
       "\n",
       "                GENRE         RELEASE_DATE  \n",
       "0           Animation  2016-06-17 00:00:00  \n",
       "1  Action / Adventure  2016-05-06 00:00:00  \n",
       "2              Action  2016-02-12 00:00:00  \n",
       "3           Adventure  2016-04-15 00:00:00  \n",
       "4           Animation  2016-03-04 00:00:00  "
      ]
     },
     "execution_count": 4,
     "metadata": {},
     "output_type": "execute_result"
    }
   ],
   "source": [
    "movie_data.head()"
   ]
  },
  {
   "cell_type": "code",
   "execution_count": 5,
   "metadata": {
    "collapsed": false
   },
   "outputs": [
    {
     "data": {
      "text/plain": [
       "256"
      ]
     },
     "execution_count": 5,
     "metadata": {},
     "output_type": "execute_result"
    }
   ],
   "source": [
    "len(movie_data[movie_data['FOREIGN_TOTAL']!=0])"
   ]
  },
  {
   "cell_type": "code",
   "execution_count": 6,
   "metadata": {
    "collapsed": false
   },
   "outputs": [
    {
     "data": {
      "text/plain": [
       "1062"
      ]
     },
     "execution_count": 6,
     "metadata": {},
     "output_type": "execute_result"
    }
   ],
   "source": [
    "len(movie_data)"
   ]
  },
  {
   "cell_type": "code",
   "execution_count": 7,
   "metadata": {
    "collapsed": true
   },
   "outputs": [],
   "source": [
    "foreign_data = movie_data[movie_data['FOREIGN_TOTAL']!=0]"
   ]
  },
  {
   "cell_type": "code",
   "execution_count": 9,
   "metadata": {
    "collapsed": false
   },
   "outputs": [
    {
     "name": "stdout",
     "output_type": "stream",
     "text": [
      "<class 'pandas.core.frame.DataFrame'>\n",
      "Int64Index: 256 entries, 0 to 970\n",
      "Data columns (total 6 columns):\n",
      "MOVIE_NAME          256 non-null object\n",
      "DOMESTIC_OPENING    256 non-null int64\n",
      "FOREIGN_TOTAL       256 non-null int64\n",
      "BUDGET              256 non-null int64\n",
      "GENRE               256 non-null object\n",
      "RELEASE_DATE        256 non-null object\n",
      "dtypes: int64(3), object(3)\n",
      "memory usage: 14.0+ KB\n"
     ]
    }
   ],
   "source": [
    "foreign_data.info()"
   ]
  },
  {
   "cell_type": "code",
   "execution_count": 10,
   "metadata": {
    "collapsed": false
   },
   "outputs": [
    {
     "data": {
      "text/html": [
       "<div>\n",
       "<table border=\"1\" class=\"dataframe\">\n",
       "  <thead>\n",
       "    <tr style=\"text-align: right;\">\n",
       "      <th></th>\n",
       "      <th>MOVIE_NAME</th>\n",
       "      <th>DOMESTIC_OPENING</th>\n",
       "      <th>FOREIGN_TOTAL</th>\n",
       "      <th>BUDGET</th>\n",
       "      <th>GENRE</th>\n",
       "      <th>RELEASE_DATE</th>\n",
       "    </tr>\n",
       "  </thead>\n",
       "  <tbody>\n",
       "    <tr>\n",
       "      <th>808</th>\n",
       "      <td>Mr. X</td>\n",
       "      <td>30097</td>\n",
       "      <td>5016392</td>\n",
       "      <td>0</td>\n",
       "      <td>Foreign</td>\n",
       "      <td>2015-04-17 00:00:00</td>\n",
       "    </tr>\n",
       "    <tr>\n",
       "      <th>875</th>\n",
       "      <td>Love, Rosie</td>\n",
       "      <td>14893</td>\n",
       "      <td>4419000</td>\n",
       "      <td>0</td>\n",
       "      <td>Romantic Comedy</td>\n",
       "      <td>2015-02-06 00:00:00</td>\n",
       "    </tr>\n",
       "    <tr>\n",
       "      <th>890</th>\n",
       "      <td>Trash</td>\n",
       "      <td>10230</td>\n",
       "      <td>4791538</td>\n",
       "      <td>0</td>\n",
       "      <td>Adventure Comedy</td>\n",
       "      <td>2015-10-09 00:00:00</td>\n",
       "    </tr>\n",
       "    <tr>\n",
       "      <th>959</th>\n",
       "      <td>The Riot Club</td>\n",
       "      <td>2188</td>\n",
       "      <td>2140000</td>\n",
       "      <td>0</td>\n",
       "      <td>Drama / Thriller</td>\n",
       "      <td>2015-03-27 00:00:00</td>\n",
       "    </tr>\n",
       "    <tr>\n",
       "      <th>970</th>\n",
       "      <td>Capture the Flag</td>\n",
       "      <td>6690</td>\n",
       "      <td>8300000</td>\n",
       "      <td>0</td>\n",
       "      <td>Animation</td>\n",
       "      <td>2015-12-04 00:00:00</td>\n",
       "    </tr>\n",
       "  </tbody>\n",
       "</table>\n",
       "</div>"
      ],
      "text/plain": [
       "           MOVIE_NAME  DOMESTIC_OPENING  FOREIGN_TOTAL  BUDGET  \\\n",
       "808             Mr. X             30097        5016392       0   \n",
       "875       Love, Rosie             14893        4419000       0   \n",
       "890             Trash             10230        4791538       0   \n",
       "959     The Riot Club              2188        2140000       0   \n",
       "970  Capture the Flag              6690        8300000       0   \n",
       "\n",
       "                GENRE         RELEASE_DATE  \n",
       "808           Foreign  2015-04-17 00:00:00  \n",
       "875   Romantic Comedy  2015-02-06 00:00:00  \n",
       "890  Adventure Comedy  2015-10-09 00:00:00  \n",
       "959  Drama / Thriller  2015-03-27 00:00:00  \n",
       "970         Animation  2015-12-04 00:00:00  "
      ]
     },
     "execution_count": 10,
     "metadata": {},
     "output_type": "execute_result"
    }
   ],
   "source": [
    "foreign_data.tail()"
   ]
  },
  {
   "cell_type": "code",
   "execution_count": null,
   "metadata": {
    "collapsed": true
   },
   "outputs": [],
   "source": []
  }
 ],
 "metadata": {
  "kernelspec": {
   "display_name": "Python 2",
   "language": "python",
   "name": "python2"
  },
  "language_info": {
   "codemirror_mode": {
    "name": "ipython",
    "version": 2
   },
   "file_extension": ".py",
   "mimetype": "text/x-python",
   "name": "python",
   "nbconvert_exporter": "python",
   "pygments_lexer": "ipython2",
   "version": "2.7.11"
  }
 },
 "nbformat": 4,
 "nbformat_minor": 0
}
