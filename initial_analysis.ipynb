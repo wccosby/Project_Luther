{
 "cells": [
  {
   "cell_type": "code",
   "execution_count": 1,
   "metadata": {
    "collapsed": false
   },
   "outputs": [
    {
     "data": {
      "text/html": [
       "<style>.container { width:100% !important; }</style>"
      ],
      "text/plain": [
       "<IPython.core.display.HTML object>"
      ]
     },
     "metadata": {},
     "output_type": "display_data"
    }
   ],
   "source": [
    "from IPython.core.display import display, HTML\n",
    "display(HTML(\"<style>.container { width:100% !important; }</style>\"))"
   ]
  },
  {
   "cell_type": "markdown",
   "metadata": {},
   "source": [
    "# Initial Analysis to see if foreign success predictions will work"
   ]
  },
  {
   "cell_type": "code",
   "execution_count": 651,
   "metadata": {
    "collapsed": false
   },
   "outputs": [],
   "source": [
    "import pandas as pd\n",
    "import numpy as np\n",
    "import matplotlib.pyplot as plt\n",
    "import glob\n",
    "%matplotlib inline"
   ]
  },
  {
   "cell_type": "code",
   "execution_count": 652,
   "metadata": {
    "collapsed": false
   },
   "outputs": [],
   "source": [
    "################## Make it this way (the fast way) for the blog post\n",
    "# load data into list of lists and then put it into pandas\n",
    "##################\n",
    "\n",
    "allFiles = glob.glob(\"/Users/williamcosby/Documents/metis/Project_Luther/movie_*.csv\")\n",
    "movie_data = pd.DataFrame()\n",
    "list_ = []\n",
    "for file_ in allFiles:\n",
    "    df = pd.read_csv(file_,index_col=None, header=0)\n",
    "    list_.append(df)\n",
    "movie_data_raw = pd.concat(list_)"
   ]
  },
  {
   "cell_type": "code",
   "execution_count": 653,
   "metadata": {
    "collapsed": false
   },
   "outputs": [],
   "source": [
    "# movie_data_2015_2016 = pd.read_csv('movie_data_2015_2016.csv')"
   ]
  },
  {
   "cell_type": "code",
   "execution_count": 654,
   "metadata": {
    "collapsed": false
   },
   "outputs": [
    {
     "data": {
      "text/html": [
       "<div>\n",
       "<table border=\"1\" class=\"dataframe\">\n",
       "  <thead>\n",
       "    <tr style=\"text-align: right;\">\n",
       "      <th></th>\n",
       "      <th>MOVIE_NAME</th>\n",
       "      <th>DOMESTIC_OPENING</th>\n",
       "      <th>FOREIGN_TOTAL</th>\n",
       "      <th>BUDGET</th>\n",
       "      <th>GENRE</th>\n",
       "      <th>RELEASE_DATE</th>\n",
       "    </tr>\n",
       "  </thead>\n",
       "  <tbody>\n",
       "    <tr>\n",
       "      <th>0</th>\n",
       "      <td>Marvel's The Avengers</td>\n",
       "      <td>207438708</td>\n",
       "      <td>896200000</td>\n",
       "      <td>220000000.0</td>\n",
       "      <td>Action / Adventure</td>\n",
       "      <td>2012-05-04 00:00:00</td>\n",
       "    </tr>\n",
       "    <tr>\n",
       "      <th>1</th>\n",
       "      <td>The Dark Knight Rises</td>\n",
       "      <td>160887295</td>\n",
       "      <td>636800000</td>\n",
       "      <td>250000000.0</td>\n",
       "      <td>Action Thriller</td>\n",
       "      <td>2012-07-20 00:00:00</td>\n",
       "    </tr>\n",
       "    <tr>\n",
       "      <th>2</th>\n",
       "      <td>The Hunger Games</td>\n",
       "      <td>152535747</td>\n",
       "      <td>286384032</td>\n",
       "      <td>78000000.0</td>\n",
       "      <td>Action / Adventure</td>\n",
       "      <td>2012-03-23 00:00:00</td>\n",
       "    </tr>\n",
       "    <tr>\n",
       "      <th>3</th>\n",
       "      <td>Skyfall</td>\n",
       "      <td>88364714</td>\n",
       "      <td>804200736</td>\n",
       "      <td>200000000.0</td>\n",
       "      <td>Action</td>\n",
       "      <td>2012-11-09 00:00:00</td>\n",
       "    </tr>\n",
       "    <tr>\n",
       "      <th>4</th>\n",
       "      <td>The Hobbit:An Unexpected Journey</td>\n",
       "      <td>84617303</td>\n",
       "      <td>718100000</td>\n",
       "      <td>0.0</td>\n",
       "      <td>Fantasy</td>\n",
       "      <td>2012-12-14 00:00:00</td>\n",
       "    </tr>\n",
       "  </tbody>\n",
       "</table>\n",
       "</div>"
      ],
      "text/plain": [
       "                         MOVIE_NAME  DOMESTIC_OPENING  FOREIGN_TOTAL  \\\n",
       "0             Marvel's The Avengers         207438708      896200000   \n",
       "1             The Dark Knight Rises         160887295      636800000   \n",
       "2                  The Hunger Games         152535747      286384032   \n",
       "3                           Skyfall          88364714      804200736   \n",
       "4  The Hobbit:An Unexpected Journey          84617303      718100000   \n",
       "\n",
       "        BUDGET               GENRE         RELEASE_DATE  \n",
       "0  220000000.0  Action / Adventure  2012-05-04 00:00:00  \n",
       "1  250000000.0     Action Thriller  2012-07-20 00:00:00  \n",
       "2   78000000.0  Action / Adventure  2012-03-23 00:00:00  \n",
       "3  200000000.0              Action  2012-11-09 00:00:00  \n",
       "4          0.0             Fantasy  2012-12-14 00:00:00  "
      ]
     },
     "execution_count": 654,
     "metadata": {},
     "output_type": "execute_result"
    }
   ],
   "source": [
    "movie_data_raw.head()"
   ]
  },
  {
   "cell_type": "markdown",
   "metadata": {},
   "source": [
    "# Set the index to the movie name (dont need it in the analysis)"
   ]
  },
  {
   "cell_type": "code",
   "execution_count": 655,
   "metadata": {
    "collapsed": true
   },
   "outputs": [],
   "source": [
    "movie_data_raw = movie_data_raw.set_index(['MOVIE_NAME'])"
   ]
  },
  {
   "cell_type": "markdown",
   "metadata": {},
   "source": [
    "# Read in director, writer, actor, and producer information"
   ]
  },
  {
   "cell_type": "code",
   "execution_count": 656,
   "metadata": {
    "collapsed": false
   },
   "outputs": [],
   "source": [
    "director_data_raw = pd.read_csv('/Users/williamcosby/Documents/metis/Project_Luther/director_data.csv')\n",
    "actor_data_raw = pd.read_csv('/Users/williamcosby/Documents/metis/Project_Luther/actor_data.csv')\n",
    "writer_data_raw = pd.read_csv('/Users/williamcosby/Documents/metis/Project_Luther/writer_data.csv')\n",
    "producer_data_raw = pd.read_csv('/Users/williamcosby/Documents/metis/Project_Luther/producer_data.csv')"
   ]
  },
  {
   "cell_type": "code",
   "execution_count": 657,
   "metadata": {
    "collapsed": false
   },
   "outputs": [
    {
     "data": {
      "text/html": [
       "<div>\n",
       "<table border=\"1\" class=\"dataframe\">\n",
       "  <thead>\n",
       "    <tr style=\"text-align: right;\">\n",
       "      <th></th>\n",
       "      <th>MOVIE_NAME</th>\n",
       "      <th>PRODUCER</th>\n",
       "    </tr>\n",
       "  </thead>\n",
       "  <tbody>\n",
       "    <tr>\n",
       "      <th>0</th>\n",
       "      <td>Finding Dory</td>\n",
       "      <td>Thomas Newman</td>\n",
       "    </tr>\n",
       "    <tr>\n",
       "      <th>1</th>\n",
       "      <td>Captain America:Civil War</td>\n",
       "      <td>Kevin Feige</td>\n",
       "    </tr>\n",
       "    <tr>\n",
       "      <th>2</th>\n",
       "      <td>Captain America:Civil War</td>\n",
       "      <td>Henry Jackman</td>\n",
       "    </tr>\n",
       "    <tr>\n",
       "      <th>3</th>\n",
       "      <td>Deadpool</td>\n",
       "      <td>Lauren Schuler Donner</td>\n",
       "    </tr>\n",
       "    <tr>\n",
       "      <th>4</th>\n",
       "      <td>Deadpool</td>\n",
       "      <td>Simon Kinberg</td>\n",
       "    </tr>\n",
       "  </tbody>\n",
       "</table>\n",
       "</div>"
      ],
      "text/plain": [
       "                  MOVIE_NAME               PRODUCER\n",
       "0               Finding Dory          Thomas Newman\n",
       "1  Captain America:Civil War            Kevin Feige\n",
       "2  Captain America:Civil War          Henry Jackman\n",
       "3                   Deadpool  Lauren Schuler Donner\n",
       "4                   Deadpool          Simon Kinberg"
      ]
     },
     "execution_count": 657,
     "metadata": {},
     "output_type": "execute_result"
    }
   ],
   "source": [
    "producer_data_raw.head(5)"
   ]
  },
  {
   "cell_type": "markdown",
   "metadata": {},
   "source": [
    "### make the movie name the index"
   ]
  },
  {
   "cell_type": "code",
   "execution_count": 658,
   "metadata": {
    "collapsed": false
   },
   "outputs": [],
   "source": [
    "director_data = director_data_raw.set_index(['MOVIE_NAME'])\n",
    "writer_data = writer_data_raw.set_index(['MOVIE_NAME'])\n",
    "actor_data = actor_data_raw.set_index(['MOVIE_NAME'])\n",
    "producer_data = producer_data_raw.set_index(['MOVIE_NAME'])"
   ]
  },
  {
   "cell_type": "code",
   "execution_count": 659,
   "metadata": {
    "collapsed": false
   },
   "outputs": [
    {
     "data": {
      "text/html": [
       "<div>\n",
       "<table border=\"1\" class=\"dataframe\">\n",
       "  <thead>\n",
       "    <tr style=\"text-align: right;\">\n",
       "      <th></th>\n",
       "      <th>DIRECTOR</th>\n",
       "    </tr>\n",
       "    <tr>\n",
       "      <th>MOVIE_NAME</th>\n",
       "      <th></th>\n",
       "    </tr>\n",
       "  </thead>\n",
       "  <tbody>\n",
       "    <tr>\n",
       "      <th>Finding Dory</th>\n",
       "      <td>Andrew Stanton</td>\n",
       "    </tr>\n",
       "    <tr>\n",
       "      <th>Captain America:Civil War</th>\n",
       "      <td>Anthony Russo</td>\n",
       "    </tr>\n",
       "    <tr>\n",
       "      <th>Captain America:Civil War</th>\n",
       "      <td>Joe Russo</td>\n",
       "    </tr>\n",
       "    <tr>\n",
       "      <th>The Jungle Book (2016)</th>\n",
       "      <td>Jon Favreau</td>\n",
       "    </tr>\n",
       "    <tr>\n",
       "      <th>Zootopia</th>\n",
       "      <td>Rich Moore</td>\n",
       "    </tr>\n",
       "  </tbody>\n",
       "</table>\n",
       "</div>"
      ],
      "text/plain": [
       "                                 DIRECTOR\n",
       "MOVIE_NAME                               \n",
       "Finding Dory               Andrew Stanton\n",
       "Captain America:Civil War   Anthony Russo\n",
       "Captain America:Civil War       Joe Russo\n",
       "The Jungle Book (2016)        Jon Favreau\n",
       "Zootopia                       Rich Moore"
      ]
     },
     "execution_count": 659,
     "metadata": {},
     "output_type": "execute_result"
    }
   ],
   "source": [
    "director_data.head(5)"
   ]
  },
  {
   "cell_type": "code",
   "execution_count": 660,
   "metadata": {
    "collapsed": false
   },
   "outputs": [
    {
     "data": {
      "text/html": [
       "<div>\n",
       "<table border=\"1\" class=\"dataframe\">\n",
       "  <thead>\n",
       "    <tr style=\"text-align: right;\">\n",
       "      <th></th>\n",
       "      <th>ACTOR</th>\n",
       "    </tr>\n",
       "    <tr>\n",
       "      <th>MOVIE_NAME</th>\n",
       "      <th></th>\n",
       "    </tr>\n",
       "  </thead>\n",
       "  <tbody>\n",
       "    <tr>\n",
       "      <th>Finding Dory</th>\n",
       "      <td>Ellen DeGeneres</td>\n",
       "    </tr>\n",
       "    <tr>\n",
       "      <th>Finding Dory</th>\n",
       "      <td>Albert Brooks</td>\n",
       "    </tr>\n",
       "    <tr>\n",
       "      <th>Finding Dory</th>\n",
       "      <td>Ty Burrell*</td>\n",
       "    </tr>\n",
       "    <tr>\n",
       "      <th>Finding Dory</th>\n",
       "      <td>Diane Keaton*</td>\n",
       "    </tr>\n",
       "    <tr>\n",
       "      <th>Finding Dory</th>\n",
       "      <td>Idris Elba*</td>\n",
       "    </tr>\n",
       "  </tbody>\n",
       "</table>\n",
       "</div>"
      ],
      "text/plain": [
       "                        ACTOR\n",
       "MOVIE_NAME                   \n",
       "Finding Dory  Ellen DeGeneres\n",
       "Finding Dory    Albert Brooks\n",
       "Finding Dory      Ty Burrell*\n",
       "Finding Dory    Diane Keaton*\n",
       "Finding Dory      Idris Elba*"
      ]
     },
     "execution_count": 660,
     "metadata": {},
     "output_type": "execute_result"
    }
   ],
   "source": [
    "actor_data.head(5)"
   ]
  },
  {
   "cell_type": "code",
   "execution_count": 661,
   "metadata": {
    "collapsed": false
   },
   "outputs": [
    {
     "data": {
      "text/html": [
       "<div>\n",
       "<table border=\"1\" class=\"dataframe\">\n",
       "  <thead>\n",
       "    <tr style=\"text-align: right;\">\n",
       "      <th></th>\n",
       "      <th>WRITER</th>\n",
       "    </tr>\n",
       "    <tr>\n",
       "      <th>MOVIE_NAME</th>\n",
       "      <th></th>\n",
       "    </tr>\n",
       "  </thead>\n",
       "  <tbody>\n",
       "    <tr>\n",
       "      <th>Finding Dory</th>\n",
       "      <td>Andrew Stanton</td>\n",
       "    </tr>\n",
       "    <tr>\n",
       "      <th>Captain America:Civil War</th>\n",
       "      <td>Christopher Markus</td>\n",
       "    </tr>\n",
       "    <tr>\n",
       "      <th>Captain America:Civil War</th>\n",
       "      <td>Stephen McFeely</td>\n",
       "    </tr>\n",
       "    <tr>\n",
       "      <th>Deadpool</th>\n",
       "      <td>Rhett Reese</td>\n",
       "    </tr>\n",
       "    <tr>\n",
       "      <th>Deadpool</th>\n",
       "      <td>Paul Wernick</td>\n",
       "    </tr>\n",
       "  </tbody>\n",
       "</table>\n",
       "</div>"
      ],
      "text/plain": [
       "                                       WRITER\n",
       "MOVIE_NAME                                   \n",
       "Finding Dory                   Andrew Stanton\n",
       "Captain America:Civil War  Christopher Markus\n",
       "Captain America:Civil War     Stephen McFeely\n",
       "Deadpool                          Rhett Reese\n",
       "Deadpool                         Paul Wernick"
      ]
     },
     "execution_count": 661,
     "metadata": {},
     "output_type": "execute_result"
    }
   ],
   "source": [
    "writer_data.head(5)"
   ]
  },
  {
   "cell_type": "code",
   "execution_count": 518,
   "metadata": {
    "collapsed": false
   },
   "outputs": [
    {
     "data": {
      "text/html": [
       "<div>\n",
       "<table border=\"1\" class=\"dataframe\">\n",
       "  <thead>\n",
       "    <tr style=\"text-align: right;\">\n",
       "      <th></th>\n",
       "      <th>PRODUCER</th>\n",
       "    </tr>\n",
       "    <tr>\n",
       "      <th>MOVIE_NAME</th>\n",
       "      <th></th>\n",
       "    </tr>\n",
       "  </thead>\n",
       "  <tbody>\n",
       "    <tr>\n",
       "      <th>Finding Dory</th>\n",
       "      <td>Thomas Newman</td>\n",
       "    </tr>\n",
       "    <tr>\n",
       "      <th>Captain America:Civil War</th>\n",
       "      <td>Kevin Feige</td>\n",
       "    </tr>\n",
       "    <tr>\n",
       "      <th>Captain America:Civil War</th>\n",
       "      <td>Henry Jackman</td>\n",
       "    </tr>\n",
       "    <tr>\n",
       "      <th>Deadpool</th>\n",
       "      <td>Lauren Schuler Donner</td>\n",
       "    </tr>\n",
       "    <tr>\n",
       "      <th>Deadpool</th>\n",
       "      <td>Simon Kinberg</td>\n",
       "    </tr>\n",
       "  </tbody>\n",
       "</table>\n",
       "</div>"
      ],
      "text/plain": [
       "                                        PRODUCER\n",
       "MOVIE_NAME                                      \n",
       "Finding Dory                       Thomas Newman\n",
       "Captain America:Civil War            Kevin Feige\n",
       "Captain America:Civil War          Henry Jackman\n",
       "Deadpool                   Lauren Schuler Donner\n",
       "Deadpool                           Simon Kinberg"
      ]
     },
     "execution_count": 518,
     "metadata": {},
     "output_type": "execute_result"
    }
   ],
   "source": [
    "producer_data.head(5)"
   ]
  },
  {
   "cell_type": "markdown",
   "metadata": {},
   "source": [
    "### Vectorize the director data"
   ]
  },
  {
   "cell_type": "code",
   "execution_count": 662,
   "metadata": {
    "collapsed": true
   },
   "outputs": [],
   "source": [
    "def vectorize_director(row):\n",
    "    row[row['DIRECTOR']] = 1\n",
    "    return pd.Series(row)\n",
    "def vectorize_writer(row):\n",
    "    row[row['WRITER']] = 1\n",
    "    return pd.Series(row)\n",
    "def vectorize_producer(row):\n",
    "    row[row['PRODUCER']] = 1\n",
    "    return pd.Series(row)\n",
    "def vectorize_actor(row):\n",
    "    row[row['ACTOR']] = 1\n",
    "    return pd.Series(row)"
   ]
  },
  {
   "cell_type": "code",
   "execution_count": 663,
   "metadata": {
    "collapsed": false
   },
   "outputs": [],
   "source": [
    "director_data = director_data.apply(vectorize_director,axis=1).fillna(0)\n",
    "writer_data = writer_data.apply(vectorize_writer,axis=1).fillna(0)\n",
    "producer_data = producer_data.apply(vectorize_producer,axis=1).fillna(0)\n",
    "actor_data = actor_data.apply(vectorize_actor,axis=1).fillna(0)"
   ]
  },
  {
   "cell_type": "code",
   "execution_count": 666,
   "metadata": {
    "collapsed": false
   },
   "outputs": [],
   "source": [
    "# drop the original column that still has the names\n",
    "\n",
    "director_data.drop(['DIRECTOR'],inplace=True)\n",
    "actor_data.drop(['ACTOR'],inplace=True)\n",
    "producer_data.drop(['PRODUCER'],inplace=True)\n",
    "writer_data.drop(['WRITER'],inplace=True)\n"
   ]
  },
  {
   "cell_type": "markdown",
   "metadata": {},
   "source": [
    "## Collapse the rows onto eachother if they are the same movie (so each movie is only in there once)"
   ]
  },
  {
   "cell_type": "code",
   "execution_count": 667,
   "metadata": {
    "collapsed": true
   },
   "outputs": [],
   "source": [
    "director_data_collapsed = director_data.groupby(director_data.index).sum()\n",
    "actor_data_collapsed = actor_data.groupby(actor_data.index).sum()\n",
    "writer_data_collapsed = writer_data.groupby(writer_data.index).sum()\n",
    "producer_data_collapsed = producer_data.groupby(producer_data.index).sum()"
   ]
  },
  {
   "cell_type": "markdown",
   "metadata": {},
   "source": [
    "## Want to multiply every value in each column by the sum of that column...this represents the director's experience"
   ]
  },
  {
   "cell_type": "code",
   "execution_count": 668,
   "metadata": {
    "collapsed": true
   },
   "outputs": [],
   "source": [
    "def sum_exp(row):\n",
    "    row = row*row.sum(axis=0)\n",
    "    return pd.Series(row)"
   ]
  },
  {
   "cell_type": "code",
   "execution_count": 669,
   "metadata": {
    "collapsed": true
   },
   "outputs": [],
   "source": [
    "director_data_transpose = director_data_collapsed.transpose()\n",
    "director_data_transpose_summed = director_data_transpose.apply(sum_exp,axis=1)\n",
    "director_data = director_data_transpose_summed.transpose()\n",
    "# director_data.head(10)\n",
    "\n",
    "actor_data_transpose = actor_data_collapsed.transpose()\n",
    "actor_data_transpose_summed = actor_data_transpose.apply(sum_exp,axis=1)\n",
    "actor_data = actor_data_transpose_summed.transpose()\n",
    "\n",
    "writer_data_transpose = writer_data_collapsed.transpose()\n",
    "writer_data_transpose_summed = writer_data_transpose.apply(sum_exp,axis=1)\n",
    "writer_data = writer_data_transpose_summed.transpose()\n",
    "\n",
    "producer_data_transpose = producer_data_collapsed.transpose()\n",
    "producer_data_transpose_summed = producer_data_transpose.apply(sum_exp,axis=1)\n",
    "producer_data = producer_data_transpose_summed.transpose()"
   ]
  },
  {
   "cell_type": "code",
   "execution_count": 670,
   "metadata": {
    "collapsed": true
   },
   "outputs": [],
   "source": [
    "director_data['DIRECTOR_EXP'] = director_data.sum(axis=1)\n",
    "director_experience = director_data['DIRECTOR_EXP']\n",
    "director_experience = director_experience.to_frame('DIRECTOR_EXP')\n",
    "\n",
    "actor_data['ACTOR_EXP'] = actor_data.sum(axis=1)\n",
    "actor_experience = actor_data['ACTOR_EXP']\n",
    "actor_experience = actor_experience.to_frame('ACTOR_EXP')\n",
    "\n",
    "producer_data['PRODUCER_EXP'] = producer_data.sum(axis=1)\n",
    "producer_experience = producer_data['PRODUCER_EXP']\n",
    "producer_experience = producer_experience.to_frame('PRODUCER_EXP')\n",
    "\n",
    "writer_data['WRITER_EXP'] = writer_data.sum(axis=1)\n",
    "writer_experience = writer_data['WRITER_EXP']\n",
    "writer_experience = writer_experience.to_frame('WRITER_EXP')"
   ]
  },
  {
   "cell_type": "code",
   "execution_count": 672,
   "metadata": {
    "collapsed": false
   },
   "outputs": [
    {
     "data": {
      "text/html": [
       "<div>\n",
       "<table border=\"1\" class=\"dataframe\">\n",
       "  <thead>\n",
       "    <tr style=\"text-align: right;\">\n",
       "      <th></th>\n",
       "      <th>DIRECTOR_EXP</th>\n",
       "    </tr>\n",
       "  </thead>\n",
       "  <tbody>\n",
       "    <tr>\n",
       "      <th>count</th>\n",
       "      <td>1147.00000</td>\n",
       "    </tr>\n",
       "    <tr>\n",
       "      <th>mean</th>\n",
       "      <td>2.51177</td>\n",
       "    </tr>\n",
       "    <tr>\n",
       "      <th>std</th>\n",
       "      <td>1.44068</td>\n",
       "    </tr>\n",
       "    <tr>\n",
       "      <th>min</th>\n",
       "      <td>1.00000</td>\n",
       "    </tr>\n",
       "    <tr>\n",
       "      <th>25%</th>\n",
       "      <td>1.00000</td>\n",
       "    </tr>\n",
       "    <tr>\n",
       "      <th>50%</th>\n",
       "      <td>2.00000</td>\n",
       "    </tr>\n",
       "    <tr>\n",
       "      <th>75%</th>\n",
       "      <td>3.00000</td>\n",
       "    </tr>\n",
       "    <tr>\n",
       "      <th>max</th>\n",
       "      <td>8.00000</td>\n",
       "    </tr>\n",
       "  </tbody>\n",
       "</table>\n",
       "</div>"
      ],
      "text/plain": [
       "       DIRECTOR_EXP\n",
       "count    1147.00000\n",
       "mean        2.51177\n",
       "std         1.44068\n",
       "min         1.00000\n",
       "25%         1.00000\n",
       "50%         2.00000\n",
       "75%         3.00000\n",
       "max         8.00000"
      ]
     },
     "execution_count": 672,
     "metadata": {},
     "output_type": "execute_result"
    }
   ],
   "source": [
    "director_experience.describe()"
   ]
  },
  {
   "cell_type": "code",
   "execution_count": 673,
   "metadata": {
    "collapsed": false
   },
   "outputs": [
    {
     "data": {
      "text/html": [
       "<div>\n",
       "<table border=\"1\" class=\"dataframe\">\n",
       "  <thead>\n",
       "    <tr style=\"text-align: right;\">\n",
       "      <th></th>\n",
       "      <th>ACTOR_EXP</th>\n",
       "    </tr>\n",
       "  </thead>\n",
       "  <tbody>\n",
       "    <tr>\n",
       "      <th>count</th>\n",
       "      <td>1639.000000</td>\n",
       "    </tr>\n",
       "    <tr>\n",
       "      <th>mean</th>\n",
       "      <td>28.258694</td>\n",
       "    </tr>\n",
       "    <tr>\n",
       "      <th>std</th>\n",
       "      <td>21.533067</td>\n",
       "    </tr>\n",
       "    <tr>\n",
       "      <th>min</th>\n",
       "      <td>1.000000</td>\n",
       "    </tr>\n",
       "    <tr>\n",
       "      <th>25%</th>\n",
       "      <td>12.000000</td>\n",
       "    </tr>\n",
       "    <tr>\n",
       "      <th>50%</th>\n",
       "      <td>23.000000</td>\n",
       "    </tr>\n",
       "    <tr>\n",
       "      <th>75%</th>\n",
       "      <td>40.000000</td>\n",
       "    </tr>\n",
       "    <tr>\n",
       "      <th>max</th>\n",
       "      <td>182.000000</td>\n",
       "    </tr>\n",
       "  </tbody>\n",
       "</table>\n",
       "</div>"
      ],
      "text/plain": [
       "         ACTOR_EXP\n",
       "count  1639.000000\n",
       "mean     28.258694\n",
       "std      21.533067\n",
       "min       1.000000\n",
       "25%      12.000000\n",
       "50%      23.000000\n",
       "75%      40.000000\n",
       "max     182.000000"
      ]
     },
     "execution_count": 673,
     "metadata": {},
     "output_type": "execute_result"
    }
   ],
   "source": [
    "actor_experience.describe()"
   ]
  },
  {
   "cell_type": "markdown",
   "metadata": {},
   "source": [
    "# Now need to merge the datasets"
   ]
  },
  {
   "cell_type": "code",
   "execution_count": 674,
   "metadata": {
    "collapsed": false
   },
   "outputs": [],
   "source": [
    "direct_act_joined = director_experience.join(actor_experience)\n",
    "direct_act_prod_joined = direct_act_joined.join(producer_experience)\n",
    "full_people_joined = direct_act_prod_joined.join(writer_experience)"
   ]
  },
  {
   "cell_type": "code",
   "execution_count": 675,
   "metadata": {
    "collapsed": false,
    "scrolled": true
   },
   "outputs": [
    {
     "data": {
      "text/html": [
       "<div>\n",
       "<table border=\"1\" class=\"dataframe\">\n",
       "  <thead>\n",
       "    <tr style=\"text-align: right;\">\n",
       "      <th></th>\n",
       "      <th>DIRECTOR_EXP</th>\n",
       "      <th>ACTOR_EXP</th>\n",
       "      <th>PRODUCER_EXP</th>\n",
       "      <th>WRITER_EXP</th>\n",
       "    </tr>\n",
       "    <tr>\n",
       "      <th>MOVIE_NAME</th>\n",
       "      <th></th>\n",
       "      <th></th>\n",
       "      <th></th>\n",
       "      <th></th>\n",
       "    </tr>\n",
       "  </thead>\n",
       "  <tbody>\n",
       "    <tr>\n",
       "      <th>10 Years</th>\n",
       "      <td>1.0</td>\n",
       "      <td>99.0</td>\n",
       "      <td>14.0</td>\n",
       "      <td>2.0</td>\n",
       "    </tr>\n",
       "    <tr>\n",
       "      <th>11-11-11</th>\n",
       "      <td>1.0</td>\n",
       "      <td>NaN</td>\n",
       "      <td>NaN</td>\n",
       "      <td>1.0</td>\n",
       "    </tr>\n",
       "    <tr>\n",
       "      <th>12 Years a Slave</th>\n",
       "      <td>2.0</td>\n",
       "      <td>95.0</td>\n",
       "      <td>72.0</td>\n",
       "      <td>3.0</td>\n",
       "    </tr>\n",
       "    <tr>\n",
       "      <th>127 Hours</th>\n",
       "      <td>3.0</td>\n",
       "      <td>23.0</td>\n",
       "      <td>5.0</td>\n",
       "      <td>5.0</td>\n",
       "    </tr>\n",
       "    <tr>\n",
       "      <th>13 Hours:The Secret Soldiers of Benghazi</th>\n",
       "      <td>4.0</td>\n",
       "      <td>8.0</td>\n",
       "      <td>NaN</td>\n",
       "      <td>NaN</td>\n",
       "    </tr>\n",
       "  </tbody>\n",
       "</table>\n",
       "</div>"
      ],
      "text/plain": [
       "                                          DIRECTOR_EXP  ACTOR_EXP  \\\n",
       "MOVIE_NAME                                                          \n",
       "10 Years                                           1.0       99.0   \n",
       "11-11-11                                           1.0        NaN   \n",
       "12 Years a Slave                                   2.0       95.0   \n",
       "127 Hours                                          3.0       23.0   \n",
       "13 Hours:The Secret Soldiers of Benghazi           4.0        8.0   \n",
       "\n",
       "                                          PRODUCER_EXP  WRITER_EXP  \n",
       "MOVIE_NAME                                                          \n",
       "10 Years                                          14.0         2.0  \n",
       "11-11-11                                           NaN         1.0  \n",
       "12 Years a Slave                                  72.0         3.0  \n",
       "127 Hours                                          5.0         5.0  \n",
       "13 Hours:The Secret Soldiers of Benghazi           NaN         NaN  "
      ]
     },
     "execution_count": 675,
     "metadata": {},
     "output_type": "execute_result"
    }
   ],
   "source": [
    "full_people_joined.head()"
   ]
  },
  {
   "cell_type": "markdown",
   "metadata": {},
   "source": [
    "# Merge people data with the full dataset"
   ]
  },
  {
   "cell_type": "code",
   "execution_count": 676,
   "metadata": {
    "collapsed": true
   },
   "outputs": [],
   "source": [
    "movie_data_raw = movie_data_raw.join(full_people_joined)"
   ]
  },
  {
   "cell_type": "markdown",
   "metadata": {},
   "source": [
    "# Find number of movies that have foreign gross info"
   ]
  },
  {
   "cell_type": "code",
   "execution_count": 677,
   "metadata": {
    "collapsed": false
   },
   "outputs": [
    {
     "data": {
      "text/plain": [
       "Index([u'DOMESTIC_OPENING', u'FOREIGN_TOTAL', u'BUDGET', u'GENRE',\n",
       "       u'RELEASE_DATE', u'DIRECTOR_EXP', u'ACTOR_EXP', u'PRODUCER_EXP',\n",
       "       u'WRITER_EXP'],\n",
       "      dtype='object')"
      ]
     },
     "execution_count": 677,
     "metadata": {},
     "output_type": "execute_result"
    }
   ],
   "source": [
    "movie_data_raw.columns"
   ]
  },
  {
   "cell_type": "code",
   "execution_count": 678,
   "metadata": {
    "collapsed": false
   },
   "outputs": [
    {
     "data": {
      "text/plain": [
       "(4256, 9)"
      ]
     },
     "execution_count": 678,
     "metadata": {},
     "output_type": "execute_result"
    }
   ],
   "source": [
    "# total number of movies\n",
    "movie_data_raw.shape"
   ]
  },
  {
   "cell_type": "code",
   "execution_count": 679,
   "metadata": {
    "collapsed": false
   },
   "outputs": [
    {
     "data": {
      "text/plain": [
       "(1528, 9)"
      ]
     },
     "execution_count": 679,
     "metadata": {},
     "output_type": "execute_result"
    }
   ],
   "source": [
    "# movies with foreign earnings information\n",
    "movie_data_raw[movie_data_raw['FOREIGN_TOTAL']!=0].shape"
   ]
  },
  {
   "cell_type": "markdown",
   "metadata": {},
   "source": [
    "# Subset to get just the movies with foreign earnings information"
   ]
  },
  {
   "cell_type": "code",
   "execution_count": 680,
   "metadata": {
    "collapsed": true
   },
   "outputs": [],
   "source": [
    "movie_data = movie_data_raw[movie_data_raw['FOREIGN_TOTAL']!=0]"
   ]
  },
  {
   "cell_type": "code",
   "execution_count": 681,
   "metadata": {
    "collapsed": false
   },
   "outputs": [
    {
     "name": "stdout",
     "output_type": "stream",
     "text": [
      "<class 'pandas.core.frame.DataFrame'>\n",
      "Index: 1528 entries, '71 to [Rec] 2\n",
      "Data columns (total 9 columns):\n",
      "DOMESTIC_OPENING    1528 non-null int64\n",
      "FOREIGN_TOTAL       1528 non-null int64\n",
      "BUDGET              1527 non-null float64\n",
      "GENRE               1528 non-null object\n",
      "RELEASE_DATE        1528 non-null object\n",
      "DIRECTOR_EXP        883 non-null float64\n",
      "ACTOR_EXP           810 non-null float64\n",
      "PRODUCER_EXP        762 non-null float64\n",
      "WRITER_EXP          711 non-null float64\n",
      "dtypes: float64(5), int64(2), object(2)\n",
      "memory usage: 119.4+ KB\n"
     ]
    }
   ],
   "source": [
    "movie_data.info()"
   ]
  },
  {
   "cell_type": "markdown",
   "metadata": {},
   "source": [
    "# Start some analysis"
   ]
  },
  {
   "cell_type": "markdown",
   "metadata": {},
   "source": [
    "## Combine the genres so they arent \"action / adventure\""
   ]
  },
  {
   "cell_type": "code",
   "execution_count": 682,
   "metadata": {
    "collapsed": true
   },
   "outputs": [],
   "source": [
    "def split_genres(row):\n",
    "    genres=[]\n",
    "    if '/' in row['GENRE']:\n",
    "        genres = row['GENRE'].split('/')\n",
    "    else:\n",
    "        genres = row['GENRE'].split()\n",
    "    for genre in genres:\n",
    "        # need to strip the whitespace off the columns to avoid things like 'Action' and 'Action '\n",
    "        row[genre.strip()] = 1\n",
    "    return pd.Series(row)"
   ]
  },
  {
   "cell_type": "code",
   "execution_count": 683,
   "metadata": {
    "collapsed": false
   },
   "outputs": [],
   "source": [
    "movie_data_split = movie_data.apply(split_genres,axis=1)"
   ]
  },
  {
   "cell_type": "code",
   "execution_count": 684,
   "metadata": {
    "collapsed": false
   },
   "outputs": [
    {
     "data": {
      "text/html": [
       "<div>\n",
       "<table border=\"1\" class=\"dataframe\">\n",
       "  <thead>\n",
       "    <tr style=\"text-align: right;\">\n",
       "      <th></th>\n",
       "      <th>ACTOR_EXP</th>\n",
       "      <th>Action</th>\n",
       "      <th>Adventure</th>\n",
       "      <th>Animation</th>\n",
       "      <th>BUDGET</th>\n",
       "      <th>Comedy</th>\n",
       "      <th>Concert</th>\n",
       "      <th>Crime</th>\n",
       "      <th>DIRECTOR_EXP</th>\n",
       "      <th>DOMESTIC_OPENING</th>\n",
       "      <th>...</th>\n",
       "      <th>Period</th>\n",
       "      <th>RELEASE_DATE</th>\n",
       "      <th>Romance</th>\n",
       "      <th>Romantic</th>\n",
       "      <th>Sci-Fi</th>\n",
       "      <th>Sports</th>\n",
       "      <th>Thriller</th>\n",
       "      <th>WRITER_EXP</th>\n",
       "      <th>War</th>\n",
       "      <th>Western</th>\n",
       "    </tr>\n",
       "    <tr>\n",
       "      <th>MOVIE_NAME</th>\n",
       "      <th></th>\n",
       "      <th></th>\n",
       "      <th></th>\n",
       "      <th></th>\n",
       "      <th></th>\n",
       "      <th></th>\n",
       "      <th></th>\n",
       "      <th></th>\n",
       "      <th></th>\n",
       "      <th></th>\n",
       "      <th></th>\n",
       "      <th></th>\n",
       "      <th></th>\n",
       "      <th></th>\n",
       "      <th></th>\n",
       "      <th></th>\n",
       "      <th></th>\n",
       "      <th></th>\n",
       "      <th></th>\n",
       "      <th></th>\n",
       "      <th></th>\n",
       "    </tr>\n",
       "  </thead>\n",
       "  <tbody>\n",
       "    <tr>\n",
       "      <th>'71</th>\n",
       "      <td>NaN</td>\n",
       "      <td>NaN</td>\n",
       "      <td>NaN</td>\n",
       "      <td>NaN</td>\n",
       "      <td>0.0</td>\n",
       "      <td>NaN</td>\n",
       "      <td>NaN</td>\n",
       "      <td>NaN</td>\n",
       "      <td>NaN</td>\n",
       "      <td>55761</td>\n",
       "      <td>...</td>\n",
       "      <td>NaN</td>\n",
       "      <td>2015-02-27 00:00:00</td>\n",
       "      <td>NaN</td>\n",
       "      <td>NaN</td>\n",
       "      <td>NaN</td>\n",
       "      <td>NaN</td>\n",
       "      <td>NaN</td>\n",
       "      <td>NaN</td>\n",
       "      <td>1.0</td>\n",
       "      <td>NaN</td>\n",
       "    </tr>\n",
       "    <tr>\n",
       "      <th>10 Cloverfield Lane</th>\n",
       "      <td>NaN</td>\n",
       "      <td>NaN</td>\n",
       "      <td>NaN</td>\n",
       "      <td>NaN</td>\n",
       "      <td>0.0</td>\n",
       "      <td>NaN</td>\n",
       "      <td>NaN</td>\n",
       "      <td>NaN</td>\n",
       "      <td>NaN</td>\n",
       "      <td>24727437</td>\n",
       "      <td>...</td>\n",
       "      <td>NaN</td>\n",
       "      <td>2016-03-11 00:00:00</td>\n",
       "      <td>NaN</td>\n",
       "      <td>NaN</td>\n",
       "      <td>NaN</td>\n",
       "      <td>NaN</td>\n",
       "      <td>1.0</td>\n",
       "      <td>NaN</td>\n",
       "      <td>NaN</td>\n",
       "      <td>NaN</td>\n",
       "    </tr>\n",
       "    <tr>\n",
       "      <th>11-11-11</th>\n",
       "      <td>NaN</td>\n",
       "      <td>NaN</td>\n",
       "      <td>NaN</td>\n",
       "      <td>NaN</td>\n",
       "      <td>0.0</td>\n",
       "      <td>NaN</td>\n",
       "      <td>NaN</td>\n",
       "      <td>NaN</td>\n",
       "      <td>1.0</td>\n",
       "      <td>32771</td>\n",
       "      <td>...</td>\n",
       "      <td>NaN</td>\n",
       "      <td>2011-11-11 00:00:00</td>\n",
       "      <td>NaN</td>\n",
       "      <td>NaN</td>\n",
       "      <td>NaN</td>\n",
       "      <td>NaN</td>\n",
       "      <td>NaN</td>\n",
       "      <td>1.0</td>\n",
       "      <td>NaN</td>\n",
       "      <td>NaN</td>\n",
       "    </tr>\n",
       "  </tbody>\n",
       "</table>\n",
       "<p>3 rows × 33 columns</p>\n",
       "</div>"
      ],
      "text/plain": [
       "                     ACTOR_EXP  Action  Adventure  Animation  BUDGET  Comedy  \\\n",
       "MOVIE_NAME                                                                     \n",
       "'71                        NaN     NaN        NaN        NaN     0.0     NaN   \n",
       "10 Cloverfield Lane        NaN     NaN        NaN        NaN     0.0     NaN   \n",
       "11-11-11                   NaN     NaN        NaN        NaN     0.0     NaN   \n",
       "\n",
       "                     Concert  Crime  DIRECTOR_EXP  DOMESTIC_OPENING   ...     \\\n",
       "MOVIE_NAME                                                            ...      \n",
       "'71                      NaN    NaN           NaN             55761   ...      \n",
       "10 Cloverfield Lane      NaN    NaN           NaN          24727437   ...      \n",
       "11-11-11                 NaN    NaN           1.0             32771   ...      \n",
       "\n",
       "                     Period         RELEASE_DATE  Romance  Romantic  Sci-Fi  \\\n",
       "MOVIE_NAME                                                                    \n",
       "'71                     NaN  2015-02-27 00:00:00      NaN       NaN     NaN   \n",
       "10 Cloverfield Lane     NaN  2016-03-11 00:00:00      NaN       NaN     NaN   \n",
       "11-11-11                NaN  2011-11-11 00:00:00      NaN       NaN     NaN   \n",
       "\n",
       "                     Sports Thriller  WRITER_EXP  War  Western  \n",
       "MOVIE_NAME                                                      \n",
       "'71                     NaN      NaN         NaN  1.0      NaN  \n",
       "10 Cloverfield Lane     NaN      1.0         NaN  NaN      NaN  \n",
       "11-11-11                NaN      NaN         1.0  NaN      NaN  \n",
       "\n",
       "[3 rows x 33 columns]"
      ]
     },
     "execution_count": 684,
     "metadata": {},
     "output_type": "execute_result"
    }
   ],
   "source": [
    "movie_data_split.head(3)"
   ]
  },
  {
   "cell_type": "markdown",
   "metadata": {},
   "source": [
    "## Now fill in the missing values with 0\n"
   ]
  },
  {
   "cell_type": "code",
   "execution_count": 685,
   "metadata": {
    "collapsed": true
   },
   "outputs": [],
   "source": [
    "movie_data = movie_data_split.fillna(0)"
   ]
  },
  {
   "cell_type": "markdown",
   "metadata": {},
   "source": [
    "## Need to drop the 'GENRE' column now"
   ]
  },
  {
   "cell_type": "code",
   "execution_count": 686,
   "metadata": {
    "collapsed": true
   },
   "outputs": [],
   "source": [
    "movie_data.drop(['GENRE'],axis=1,inplace=True)"
   ]
  },
  {
   "cell_type": "code",
   "execution_count": 687,
   "metadata": {
    "collapsed": false
   },
   "outputs": [
    {
     "data": {
      "text/plain": [
       "Index([u'ACTOR_EXP', u'Action', u'Adventure', u'Animation', u'BUDGET',\n",
       "       u'Comedy', u'Concert', u'Crime', u'DIRECTOR_EXP', u'DOMESTIC_OPENING',\n",
       "       u'Documentary', u'Drama', u'FOREIGN_TOTAL', u'Family', u'Fantasy',\n",
       "       u'Foreign', u'Historical', u'Horror', u'IMAX', u'Music', u'Musical',\n",
       "       u'PRODUCER_EXP', u'Period', u'RELEASE_DATE', u'Romance', u'Romantic',\n",
       "       u'Sci-Fi', u'Sports', u'Thriller', u'WRITER_EXP', u'War', u'Western'],\n",
       "      dtype='object')"
      ]
     },
     "execution_count": 687,
     "metadata": {},
     "output_type": "execute_result"
    }
   ],
   "source": [
    "movie_data.columns"
   ]
  },
  {
   "cell_type": "code",
   "execution_count": 688,
   "metadata": {
    "collapsed": false
   },
   "outputs": [
    {
     "data": {
      "text/html": [
       "<div>\n",
       "<table border=\"1\" class=\"dataframe\">\n",
       "  <thead>\n",
       "    <tr style=\"text-align: right;\">\n",
       "      <th></th>\n",
       "      <th>ACTOR_EXP</th>\n",
       "      <th>Action</th>\n",
       "      <th>Adventure</th>\n",
       "      <th>Animation</th>\n",
       "      <th>BUDGET</th>\n",
       "      <th>Comedy</th>\n",
       "      <th>Concert</th>\n",
       "      <th>Crime</th>\n",
       "      <th>DIRECTOR_EXP</th>\n",
       "      <th>DOMESTIC_OPENING</th>\n",
       "      <th>...</th>\n",
       "      <th>Period</th>\n",
       "      <th>RELEASE_DATE</th>\n",
       "      <th>Romance</th>\n",
       "      <th>Romantic</th>\n",
       "      <th>Sci-Fi</th>\n",
       "      <th>Sports</th>\n",
       "      <th>Thriller</th>\n",
       "      <th>WRITER_EXP</th>\n",
       "      <th>War</th>\n",
       "      <th>Western</th>\n",
       "    </tr>\n",
       "    <tr>\n",
       "      <th>MOVIE_NAME</th>\n",
       "      <th></th>\n",
       "      <th></th>\n",
       "      <th></th>\n",
       "      <th></th>\n",
       "      <th></th>\n",
       "      <th></th>\n",
       "      <th></th>\n",
       "      <th></th>\n",
       "      <th></th>\n",
       "      <th></th>\n",
       "      <th></th>\n",
       "      <th></th>\n",
       "      <th></th>\n",
       "      <th></th>\n",
       "      <th></th>\n",
       "      <th></th>\n",
       "      <th></th>\n",
       "      <th></th>\n",
       "      <th></th>\n",
       "      <th></th>\n",
       "      <th></th>\n",
       "    </tr>\n",
       "  </thead>\n",
       "  <tbody>\n",
       "    <tr>\n",
       "      <th>'71</th>\n",
       "      <td>0.0</td>\n",
       "      <td>0.0</td>\n",
       "      <td>0.0</td>\n",
       "      <td>0.0</td>\n",
       "      <td>0.0</td>\n",
       "      <td>0.0</td>\n",
       "      <td>0.0</td>\n",
       "      <td>0.0</td>\n",
       "      <td>0.0</td>\n",
       "      <td>55761</td>\n",
       "      <td>...</td>\n",
       "      <td>0.0</td>\n",
       "      <td>2015-02-27 00:00:00</td>\n",
       "      <td>0.0</td>\n",
       "      <td>0.0</td>\n",
       "      <td>0.0</td>\n",
       "      <td>0.0</td>\n",
       "      <td>0.0</td>\n",
       "      <td>0.0</td>\n",
       "      <td>1.0</td>\n",
       "      <td>0.0</td>\n",
       "    </tr>\n",
       "    <tr>\n",
       "      <th>10 Cloverfield Lane</th>\n",
       "      <td>0.0</td>\n",
       "      <td>0.0</td>\n",
       "      <td>0.0</td>\n",
       "      <td>0.0</td>\n",
       "      <td>0.0</td>\n",
       "      <td>0.0</td>\n",
       "      <td>0.0</td>\n",
       "      <td>0.0</td>\n",
       "      <td>0.0</td>\n",
       "      <td>24727437</td>\n",
       "      <td>...</td>\n",
       "      <td>0.0</td>\n",
       "      <td>2016-03-11 00:00:00</td>\n",
       "      <td>0.0</td>\n",
       "      <td>0.0</td>\n",
       "      <td>0.0</td>\n",
       "      <td>0.0</td>\n",
       "      <td>1.0</td>\n",
       "      <td>0.0</td>\n",
       "      <td>0.0</td>\n",
       "      <td>0.0</td>\n",
       "    </tr>\n",
       "  </tbody>\n",
       "</table>\n",
       "<p>2 rows × 32 columns</p>\n",
       "</div>"
      ],
      "text/plain": [
       "                     ACTOR_EXP  Action  Adventure  Animation  BUDGET  Comedy  \\\n",
       "MOVIE_NAME                                                                     \n",
       "'71                        0.0     0.0        0.0        0.0     0.0     0.0   \n",
       "10 Cloverfield Lane        0.0     0.0        0.0        0.0     0.0     0.0   \n",
       "\n",
       "                     Concert  Crime  DIRECTOR_EXP  DOMESTIC_OPENING   ...     \\\n",
       "MOVIE_NAME                                                            ...      \n",
       "'71                      0.0    0.0           0.0             55761   ...      \n",
       "10 Cloverfield Lane      0.0    0.0           0.0          24727437   ...      \n",
       "\n",
       "                     Period         RELEASE_DATE  Romance  Romantic  Sci-Fi  \\\n",
       "MOVIE_NAME                                                                    \n",
       "'71                     0.0  2015-02-27 00:00:00      0.0       0.0     0.0   \n",
       "10 Cloverfield Lane     0.0  2016-03-11 00:00:00      0.0       0.0     0.0   \n",
       "\n",
       "                     Sports  Thriller  WRITER_EXP  War  Western  \n",
       "MOVIE_NAME                                                       \n",
       "'71                     0.0       0.0         0.0  1.0      0.0  \n",
       "10 Cloverfield Lane     0.0       1.0         0.0  0.0      0.0  \n",
       "\n",
       "[2 rows x 32 columns]"
      ]
     },
     "execution_count": 688,
     "metadata": {},
     "output_type": "execute_result"
    }
   ],
   "source": [
    "movie_data.head(2)"
   ]
  },
  {
   "cell_type": "markdown",
   "metadata": {},
   "source": [
    "### Will want to encode the dates as 1st quarter, 2nd quarter, 3rd quarter, 4th quarter\n",
    "#### Do this by first transforming the column into strings \"1\",\"2\",\"3\",\"4\", then apply pandas .get_dummies to make it one-hot"
   ]
  },
  {
   "cell_type": "code",
   "execution_count": 689,
   "metadata": {
    "collapsed": false
   },
   "outputs": [],
   "source": [
    "from pandas import DatetimeIndex\n",
    "import dateutil.parser"
   ]
  },
  {
   "cell_type": "code",
   "execution_count": 690,
   "metadata": {
    "collapsed": false,
    "scrolled": true
   },
   "outputs": [],
   "source": [
    "# turn RELEASE_DATE into actual datetime\n",
    "movie_data['RELEASE_DATE'] = movie_data['RELEASE_DATE'].apply(lambda x: dateutil.parser.parse(x))"
   ]
  },
  {
   "cell_type": "code",
   "execution_count": 691,
   "metadata": {
    "collapsed": false
   },
   "outputs": [
    {
     "data": {
      "text/plain": [
       "dtype('<M8[ns]')"
      ]
     },
     "execution_count": 691,
     "metadata": {},
     "output_type": "execute_result"
    }
   ],
   "source": [
    "movie_data['RELEASE_DATE'].dtype"
   ]
  },
  {
   "cell_type": "code",
   "execution_count": 692,
   "metadata": {
    "collapsed": false
   },
   "outputs": [],
   "source": [
    "movie_data[\"RELEASE_QUARTER\"] = movie_data[\"RELEASE_DATE\"].apply(lambda x: x.quarter)"
   ]
  },
  {
   "cell_type": "code",
   "execution_count": 693,
   "metadata": {
    "collapsed": false
   },
   "outputs": [],
   "source": [
    "# now just want release quarter\n",
    "movie_data.drop(['RELEASE_DATE'],axis=1,inplace=True)"
   ]
  },
  {
   "cell_type": "markdown",
   "metadata": {},
   "source": [
    "#### Now vectorize release quarter column"
   ]
  },
  {
   "cell_type": "code",
   "execution_count": 694,
   "metadata": {
    "collapsed": true
   },
   "outputs": [],
   "source": [
    "movie_data = pd.get_dummies(movie_data,columns=[\"RELEASE_QUARTER\"])"
   ]
  },
  {
   "cell_type": "code",
   "execution_count": 695,
   "metadata": {
    "collapsed": false
   },
   "outputs": [
    {
     "data": {
      "text/html": [
       "<div>\n",
       "<table border=\"1\" class=\"dataframe\">\n",
       "  <thead>\n",
       "    <tr style=\"text-align: right;\">\n",
       "      <th></th>\n",
       "      <th>ACTOR_EXP</th>\n",
       "      <th>Action</th>\n",
       "      <th>Adventure</th>\n",
       "      <th>Animation</th>\n",
       "      <th>BUDGET</th>\n",
       "      <th>Comedy</th>\n",
       "      <th>Concert</th>\n",
       "      <th>Crime</th>\n",
       "      <th>DIRECTOR_EXP</th>\n",
       "      <th>DOMESTIC_OPENING</th>\n",
       "      <th>...</th>\n",
       "      <th>Sci-Fi</th>\n",
       "      <th>Sports</th>\n",
       "      <th>Thriller</th>\n",
       "      <th>WRITER_EXP</th>\n",
       "      <th>War</th>\n",
       "      <th>Western</th>\n",
       "      <th>RELEASE_QUARTER_1</th>\n",
       "      <th>RELEASE_QUARTER_2</th>\n",
       "      <th>RELEASE_QUARTER_3</th>\n",
       "      <th>RELEASE_QUARTER_4</th>\n",
       "    </tr>\n",
       "    <tr>\n",
       "      <th>MOVIE_NAME</th>\n",
       "      <th></th>\n",
       "      <th></th>\n",
       "      <th></th>\n",
       "      <th></th>\n",
       "      <th></th>\n",
       "      <th></th>\n",
       "      <th></th>\n",
       "      <th></th>\n",
       "      <th></th>\n",
       "      <th></th>\n",
       "      <th></th>\n",
       "      <th></th>\n",
       "      <th></th>\n",
       "      <th></th>\n",
       "      <th></th>\n",
       "      <th></th>\n",
       "      <th></th>\n",
       "      <th></th>\n",
       "      <th></th>\n",
       "      <th></th>\n",
       "      <th></th>\n",
       "    </tr>\n",
       "  </thead>\n",
       "  <tbody>\n",
       "    <tr>\n",
       "      <th>'71</th>\n",
       "      <td>0.0</td>\n",
       "      <td>0.0</td>\n",
       "      <td>0.0</td>\n",
       "      <td>0.0</td>\n",
       "      <td>0.0</td>\n",
       "      <td>0.0</td>\n",
       "      <td>0.0</td>\n",
       "      <td>0.0</td>\n",
       "      <td>0.0</td>\n",
       "      <td>55761</td>\n",
       "      <td>...</td>\n",
       "      <td>0.0</td>\n",
       "      <td>0.0</td>\n",
       "      <td>0.0</td>\n",
       "      <td>0.0</td>\n",
       "      <td>1.0</td>\n",
       "      <td>0.0</td>\n",
       "      <td>1.0</td>\n",
       "      <td>0.0</td>\n",
       "      <td>0.0</td>\n",
       "      <td>0.0</td>\n",
       "    </tr>\n",
       "    <tr>\n",
       "      <th>10 Cloverfield Lane</th>\n",
       "      <td>0.0</td>\n",
       "      <td>0.0</td>\n",
       "      <td>0.0</td>\n",
       "      <td>0.0</td>\n",
       "      <td>0.0</td>\n",
       "      <td>0.0</td>\n",
       "      <td>0.0</td>\n",
       "      <td>0.0</td>\n",
       "      <td>0.0</td>\n",
       "      <td>24727437</td>\n",
       "      <td>...</td>\n",
       "      <td>0.0</td>\n",
       "      <td>0.0</td>\n",
       "      <td>1.0</td>\n",
       "      <td>0.0</td>\n",
       "      <td>0.0</td>\n",
       "      <td>0.0</td>\n",
       "      <td>1.0</td>\n",
       "      <td>0.0</td>\n",
       "      <td>0.0</td>\n",
       "      <td>0.0</td>\n",
       "    </tr>\n",
       "    <tr>\n",
       "      <th>11-11-11</th>\n",
       "      <td>0.0</td>\n",
       "      <td>0.0</td>\n",
       "      <td>0.0</td>\n",
       "      <td>0.0</td>\n",
       "      <td>0.0</td>\n",
       "      <td>0.0</td>\n",
       "      <td>0.0</td>\n",
       "      <td>0.0</td>\n",
       "      <td>1.0</td>\n",
       "      <td>32771</td>\n",
       "      <td>...</td>\n",
       "      <td>0.0</td>\n",
       "      <td>0.0</td>\n",
       "      <td>0.0</td>\n",
       "      <td>1.0</td>\n",
       "      <td>0.0</td>\n",
       "      <td>0.0</td>\n",
       "      <td>0.0</td>\n",
       "      <td>0.0</td>\n",
       "      <td>0.0</td>\n",
       "      <td>1.0</td>\n",
       "    </tr>\n",
       "    <tr>\n",
       "      <th>12 Years a Slave</th>\n",
       "      <td>95.0</td>\n",
       "      <td>0.0</td>\n",
       "      <td>0.0</td>\n",
       "      <td>0.0</td>\n",
       "      <td>20000000.0</td>\n",
       "      <td>0.0</td>\n",
       "      <td>0.0</td>\n",
       "      <td>0.0</td>\n",
       "      <td>2.0</td>\n",
       "      <td>7599446</td>\n",
       "      <td>...</td>\n",
       "      <td>0.0</td>\n",
       "      <td>0.0</td>\n",
       "      <td>0.0</td>\n",
       "      <td>3.0</td>\n",
       "      <td>0.0</td>\n",
       "      <td>0.0</td>\n",
       "      <td>0.0</td>\n",
       "      <td>0.0</td>\n",
       "      <td>0.0</td>\n",
       "      <td>1.0</td>\n",
       "    </tr>\n",
       "    <tr>\n",
       "      <th>127 Hours</th>\n",
       "      <td>23.0</td>\n",
       "      <td>0.0</td>\n",
       "      <td>0.0</td>\n",
       "      <td>0.0</td>\n",
       "      <td>18000000.0</td>\n",
       "      <td>0.0</td>\n",
       "      <td>0.0</td>\n",
       "      <td>0.0</td>\n",
       "      <td>3.0</td>\n",
       "      <td>2401652</td>\n",
       "      <td>...</td>\n",
       "      <td>0.0</td>\n",
       "      <td>0.0</td>\n",
       "      <td>0.0</td>\n",
       "      <td>5.0</td>\n",
       "      <td>0.0</td>\n",
       "      <td>0.0</td>\n",
       "      <td>0.0</td>\n",
       "      <td>0.0</td>\n",
       "      <td>0.0</td>\n",
       "      <td>1.0</td>\n",
       "    </tr>\n",
       "  </tbody>\n",
       "</table>\n",
       "<p>5 rows × 35 columns</p>\n",
       "</div>"
      ],
      "text/plain": [
       "                     ACTOR_EXP  Action  Adventure  Animation      BUDGET  \\\n",
       "MOVIE_NAME                                                                 \n",
       "'71                        0.0     0.0        0.0        0.0         0.0   \n",
       "10 Cloverfield Lane        0.0     0.0        0.0        0.0         0.0   \n",
       "11-11-11                   0.0     0.0        0.0        0.0         0.0   \n",
       "12 Years a Slave          95.0     0.0        0.0        0.0  20000000.0   \n",
       "127 Hours                 23.0     0.0        0.0        0.0  18000000.0   \n",
       "\n",
       "                     Comedy  Concert  Crime  DIRECTOR_EXP  DOMESTIC_OPENING  \\\n",
       "MOVIE_NAME                                                                    \n",
       "'71                     0.0      0.0    0.0           0.0             55761   \n",
       "10 Cloverfield Lane     0.0      0.0    0.0           0.0          24727437   \n",
       "11-11-11                0.0      0.0    0.0           1.0             32771   \n",
       "12 Years a Slave        0.0      0.0    0.0           2.0           7599446   \n",
       "127 Hours               0.0      0.0    0.0           3.0           2401652   \n",
       "\n",
       "                           ...          Sci-Fi  Sports  Thriller  WRITER_EXP  \\\n",
       "MOVIE_NAME                 ...                                                 \n",
       "'71                        ...             0.0     0.0       0.0         0.0   \n",
       "10 Cloverfield Lane        ...             0.0     0.0       1.0         0.0   \n",
       "11-11-11                   ...             0.0     0.0       0.0         1.0   \n",
       "12 Years a Slave           ...             0.0     0.0       0.0         3.0   \n",
       "127 Hours                  ...             0.0     0.0       0.0         5.0   \n",
       "\n",
       "                     War  Western  RELEASE_QUARTER_1  RELEASE_QUARTER_2  \\\n",
       "MOVIE_NAME                                                                \n",
       "'71                  1.0      0.0                1.0                0.0   \n",
       "10 Cloverfield Lane  0.0      0.0                1.0                0.0   \n",
       "11-11-11             0.0      0.0                0.0                0.0   \n",
       "12 Years a Slave     0.0      0.0                0.0                0.0   \n",
       "127 Hours            0.0      0.0                0.0                0.0   \n",
       "\n",
       "                     RELEASE_QUARTER_3  RELEASE_QUARTER_4  \n",
       "MOVIE_NAME                                                 \n",
       "'71                                0.0                0.0  \n",
       "10 Cloverfield Lane                0.0                0.0  \n",
       "11-11-11                           0.0                1.0  \n",
       "12 Years a Slave                   0.0                1.0  \n",
       "127 Hours                          0.0                1.0  \n",
       "\n",
       "[5 rows x 35 columns]"
      ]
     },
     "execution_count": 695,
     "metadata": {},
     "output_type": "execute_result"
    }
   ],
   "source": [
    "movie_data.head()"
   ]
  },
  {
   "cell_type": "markdown",
   "metadata": {},
   "source": [
    "# Check the data for missing values, and other weird things\n",
    "\n",
    "## Impute what I can into the raw data"
   ]
  },
  {
   "cell_type": "markdown",
   "metadata": {},
   "source": [
    "### Check Domestic Openings"
   ]
  },
  {
   "cell_type": "code",
   "execution_count": 696,
   "metadata": {
    "collapsed": false
   },
   "outputs": [
    {
     "data": {
      "text/plain": [
       "0"
      ]
     },
     "execution_count": 696,
     "metadata": {},
     "output_type": "execute_result"
    }
   ],
   "source": [
    "len(movie_data[movie_data[\"DOMESTIC_OPENING\"] == 0])"
   ]
  },
  {
   "cell_type": "markdown",
   "metadata": {},
   "source": [
    "## Check Budget "
   ]
  },
  {
   "cell_type": "code",
   "execution_count": 697,
   "metadata": {
    "collapsed": false
   },
   "outputs": [
    {
     "data": {
      "text/plain": [
       "774"
      ]
     },
     "execution_count": 697,
     "metadata": {},
     "output_type": "execute_result"
    }
   ],
   "source": [
    "# woah...missing a lot~~\n",
    "len (movie_data[movie_data['BUDGET'] == 0])"
   ]
  },
  {
   "cell_type": "code",
   "execution_count": 698,
   "metadata": {
    "collapsed": true
   },
   "outputs": [],
   "source": [
    "movie_no_budget = movie_data[movie_data['BUDGET'] == 0]"
   ]
  },
  {
   "cell_type": "code",
   "execution_count": 699,
   "metadata": {
    "collapsed": false
   },
   "outputs": [
    {
     "data": {
      "text/html": [
       "<div>\n",
       "<table border=\"1\" class=\"dataframe\">\n",
       "  <thead>\n",
       "    <tr style=\"text-align: right;\">\n",
       "      <th></th>\n",
       "      <th>ACTOR_EXP</th>\n",
       "      <th>Action</th>\n",
       "      <th>Adventure</th>\n",
       "      <th>Animation</th>\n",
       "      <th>BUDGET</th>\n",
       "      <th>Comedy</th>\n",
       "      <th>Concert</th>\n",
       "      <th>Crime</th>\n",
       "      <th>DIRECTOR_EXP</th>\n",
       "      <th>DOMESTIC_OPENING</th>\n",
       "      <th>...</th>\n",
       "      <th>Sci-Fi</th>\n",
       "      <th>Sports</th>\n",
       "      <th>Thriller</th>\n",
       "      <th>WRITER_EXP</th>\n",
       "      <th>War</th>\n",
       "      <th>Western</th>\n",
       "      <th>RELEASE_QUARTER_1</th>\n",
       "      <th>RELEASE_QUARTER_2</th>\n",
       "      <th>RELEASE_QUARTER_3</th>\n",
       "      <th>RELEASE_QUARTER_4</th>\n",
       "    </tr>\n",
       "    <tr>\n",
       "      <th>MOVIE_NAME</th>\n",
       "      <th></th>\n",
       "      <th></th>\n",
       "      <th></th>\n",
       "      <th></th>\n",
       "      <th></th>\n",
       "      <th></th>\n",
       "      <th></th>\n",
       "      <th></th>\n",
       "      <th></th>\n",
       "      <th></th>\n",
       "      <th></th>\n",
       "      <th></th>\n",
       "      <th></th>\n",
       "      <th></th>\n",
       "      <th></th>\n",
       "      <th></th>\n",
       "      <th></th>\n",
       "      <th></th>\n",
       "      <th></th>\n",
       "      <th></th>\n",
       "      <th></th>\n",
       "    </tr>\n",
       "  </thead>\n",
       "  <tbody>\n",
       "    <tr>\n",
       "      <th>'71</th>\n",
       "      <td>0.0</td>\n",
       "      <td>0.0</td>\n",
       "      <td>0.0</td>\n",
       "      <td>0.0</td>\n",
       "      <td>0.0</td>\n",
       "      <td>0.0</td>\n",
       "      <td>0.0</td>\n",
       "      <td>0.0</td>\n",
       "      <td>0.0</td>\n",
       "      <td>55761</td>\n",
       "      <td>...</td>\n",
       "      <td>0.0</td>\n",
       "      <td>0.0</td>\n",
       "      <td>0.0</td>\n",
       "      <td>0.0</td>\n",
       "      <td>1.0</td>\n",
       "      <td>0.0</td>\n",
       "      <td>1.0</td>\n",
       "      <td>0.0</td>\n",
       "      <td>0.0</td>\n",
       "      <td>0.0</td>\n",
       "    </tr>\n",
       "    <tr>\n",
       "      <th>10 Cloverfield Lane</th>\n",
       "      <td>0.0</td>\n",
       "      <td>0.0</td>\n",
       "      <td>0.0</td>\n",
       "      <td>0.0</td>\n",
       "      <td>0.0</td>\n",
       "      <td>0.0</td>\n",
       "      <td>0.0</td>\n",
       "      <td>0.0</td>\n",
       "      <td>0.0</td>\n",
       "      <td>24727437</td>\n",
       "      <td>...</td>\n",
       "      <td>0.0</td>\n",
       "      <td>0.0</td>\n",
       "      <td>1.0</td>\n",
       "      <td>0.0</td>\n",
       "      <td>0.0</td>\n",
       "      <td>0.0</td>\n",
       "      <td>1.0</td>\n",
       "      <td>0.0</td>\n",
       "      <td>0.0</td>\n",
       "      <td>0.0</td>\n",
       "    </tr>\n",
       "    <tr>\n",
       "      <th>11-11-11</th>\n",
       "      <td>0.0</td>\n",
       "      <td>0.0</td>\n",
       "      <td>0.0</td>\n",
       "      <td>0.0</td>\n",
       "      <td>0.0</td>\n",
       "      <td>0.0</td>\n",
       "      <td>0.0</td>\n",
       "      <td>0.0</td>\n",
       "      <td>1.0</td>\n",
       "      <td>32771</td>\n",
       "      <td>...</td>\n",
       "      <td>0.0</td>\n",
       "      <td>0.0</td>\n",
       "      <td>0.0</td>\n",
       "      <td>1.0</td>\n",
       "      <td>0.0</td>\n",
       "      <td>0.0</td>\n",
       "      <td>0.0</td>\n",
       "      <td>0.0</td>\n",
       "      <td>0.0</td>\n",
       "      <td>1.0</td>\n",
       "    </tr>\n",
       "    <tr>\n",
       "      <th>13 Assassins</th>\n",
       "      <td>0.0</td>\n",
       "      <td>0.0</td>\n",
       "      <td>0.0</td>\n",
       "      <td>0.0</td>\n",
       "      <td>0.0</td>\n",
       "      <td>0.0</td>\n",
       "      <td>0.0</td>\n",
       "      <td>0.0</td>\n",
       "      <td>0.0</td>\n",
       "      <td>45854</td>\n",
       "      <td>...</td>\n",
       "      <td>0.0</td>\n",
       "      <td>0.0</td>\n",
       "      <td>0.0</td>\n",
       "      <td>0.0</td>\n",
       "      <td>0.0</td>\n",
       "      <td>0.0</td>\n",
       "      <td>0.0</td>\n",
       "      <td>1.0</td>\n",
       "      <td>0.0</td>\n",
       "      <td>0.0</td>\n",
       "    </tr>\n",
       "    <tr>\n",
       "      <th>17 Girls</th>\n",
       "      <td>0.0</td>\n",
       "      <td>0.0</td>\n",
       "      <td>0.0</td>\n",
       "      <td>0.0</td>\n",
       "      <td>0.0</td>\n",
       "      <td>0.0</td>\n",
       "      <td>0.0</td>\n",
       "      <td>0.0</td>\n",
       "      <td>0.0</td>\n",
       "      <td>4449</td>\n",
       "      <td>...</td>\n",
       "      <td>0.0</td>\n",
       "      <td>0.0</td>\n",
       "      <td>0.0</td>\n",
       "      <td>0.0</td>\n",
       "      <td>0.0</td>\n",
       "      <td>0.0</td>\n",
       "      <td>0.0</td>\n",
       "      <td>0.0</td>\n",
       "      <td>1.0</td>\n",
       "      <td>0.0</td>\n",
       "    </tr>\n",
       "    <tr>\n",
       "      <th>2 Days in New York</th>\n",
       "      <td>11.0</td>\n",
       "      <td>0.0</td>\n",
       "      <td>0.0</td>\n",
       "      <td>0.0</td>\n",
       "      <td>0.0</td>\n",
       "      <td>1.0</td>\n",
       "      <td>0.0</td>\n",
       "      <td>0.0</td>\n",
       "      <td>2.0</td>\n",
       "      <td>23942</td>\n",
       "      <td>...</td>\n",
       "      <td>0.0</td>\n",
       "      <td>0.0</td>\n",
       "      <td>0.0</td>\n",
       "      <td>2.0</td>\n",
       "      <td>0.0</td>\n",
       "      <td>0.0</td>\n",
       "      <td>0.0</td>\n",
       "      <td>0.0</td>\n",
       "      <td>1.0</td>\n",
       "      <td>0.0</td>\n",
       "    </tr>\n",
       "    <tr>\n",
       "      <th>20,000 Days on Earth</th>\n",
       "      <td>0.0</td>\n",
       "      <td>0.0</td>\n",
       "      <td>0.0</td>\n",
       "      <td>0.0</td>\n",
       "      <td>0.0</td>\n",
       "      <td>0.0</td>\n",
       "      <td>0.0</td>\n",
       "      <td>0.0</td>\n",
       "      <td>0.0</td>\n",
       "      <td>27879</td>\n",
       "      <td>...</td>\n",
       "      <td>0.0</td>\n",
       "      <td>0.0</td>\n",
       "      <td>0.0</td>\n",
       "      <td>0.0</td>\n",
       "      <td>0.0</td>\n",
       "      <td>0.0</td>\n",
       "      <td>0.0</td>\n",
       "      <td>0.0</td>\n",
       "      <td>1.0</td>\n",
       "      <td>0.0</td>\n",
       "    </tr>\n",
       "    <tr>\n",
       "      <th>3 (2011)</th>\n",
       "      <td>0.0</td>\n",
       "      <td>0.0</td>\n",
       "      <td>0.0</td>\n",
       "      <td>0.0</td>\n",
       "      <td>0.0</td>\n",
       "      <td>0.0</td>\n",
       "      <td>0.0</td>\n",
       "      <td>0.0</td>\n",
       "      <td>0.0</td>\n",
       "      <td>9821</td>\n",
       "      <td>...</td>\n",
       "      <td>0.0</td>\n",
       "      <td>0.0</td>\n",
       "      <td>0.0</td>\n",
       "      <td>0.0</td>\n",
       "      <td>0.0</td>\n",
       "      <td>0.0</td>\n",
       "      <td>0.0</td>\n",
       "      <td>0.0</td>\n",
       "      <td>1.0</td>\n",
       "      <td>0.0</td>\n",
       "    </tr>\n",
       "    <tr>\n",
       "      <th>360</th>\n",
       "      <td>0.0</td>\n",
       "      <td>0.0</td>\n",
       "      <td>0.0</td>\n",
       "      <td>0.0</td>\n",
       "      <td>0.0</td>\n",
       "      <td>0.0</td>\n",
       "      <td>0.0</td>\n",
       "      <td>0.0</td>\n",
       "      <td>0.0</td>\n",
       "      <td>12186</td>\n",
       "      <td>...</td>\n",
       "      <td>0.0</td>\n",
       "      <td>0.0</td>\n",
       "      <td>0.0</td>\n",
       "      <td>0.0</td>\n",
       "      <td>0.0</td>\n",
       "      <td>0.0</td>\n",
       "      <td>0.0</td>\n",
       "      <td>0.0</td>\n",
       "      <td>1.0</td>\n",
       "      <td>0.0</td>\n",
       "    </tr>\n",
       "    <tr>\n",
       "      <th>44 Inch Chest</th>\n",
       "      <td>16.0</td>\n",
       "      <td>0.0</td>\n",
       "      <td>0.0</td>\n",
       "      <td>0.0</td>\n",
       "      <td>0.0</td>\n",
       "      <td>0.0</td>\n",
       "      <td>0.0</td>\n",
       "      <td>0.0</td>\n",
       "      <td>2.0</td>\n",
       "      <td>4185</td>\n",
       "      <td>...</td>\n",
       "      <td>0.0</td>\n",
       "      <td>0.0</td>\n",
       "      <td>0.0</td>\n",
       "      <td>0.0</td>\n",
       "      <td>0.0</td>\n",
       "      <td>0.0</td>\n",
       "      <td>1.0</td>\n",
       "      <td>0.0</td>\n",
       "      <td>0.0</td>\n",
       "      <td>0.0</td>\n",
       "    </tr>\n",
       "  </tbody>\n",
       "</table>\n",
       "<p>10 rows × 35 columns</p>\n",
       "</div>"
      ],
      "text/plain": [
       "                      ACTOR_EXP  Action  Adventure  Animation  BUDGET  Comedy  \\\n",
       "MOVIE_NAME                                                                      \n",
       "'71                         0.0     0.0        0.0        0.0     0.0     0.0   \n",
       "10 Cloverfield Lane         0.0     0.0        0.0        0.0     0.0     0.0   \n",
       "11-11-11                    0.0     0.0        0.0        0.0     0.0     0.0   \n",
       "13 Assassins                0.0     0.0        0.0        0.0     0.0     0.0   \n",
       "17 Girls                    0.0     0.0        0.0        0.0     0.0     0.0   \n",
       "2 Days in New York         11.0     0.0        0.0        0.0     0.0     1.0   \n",
       "20,000 Days on Earth        0.0     0.0        0.0        0.0     0.0     0.0   \n",
       "3 (2011)                    0.0     0.0        0.0        0.0     0.0     0.0   \n",
       "360                         0.0     0.0        0.0        0.0     0.0     0.0   \n",
       "44 Inch Chest              16.0     0.0        0.0        0.0     0.0     0.0   \n",
       "\n",
       "                      Concert  Crime  DIRECTOR_EXP  DOMESTIC_OPENING  \\\n",
       "MOVIE_NAME                                                             \n",
       "'71                       0.0    0.0           0.0             55761   \n",
       "10 Cloverfield Lane       0.0    0.0           0.0          24727437   \n",
       "11-11-11                  0.0    0.0           1.0             32771   \n",
       "13 Assassins              0.0    0.0           0.0             45854   \n",
       "17 Girls                  0.0    0.0           0.0              4449   \n",
       "2 Days in New York        0.0    0.0           2.0             23942   \n",
       "20,000 Days on Earth      0.0    0.0           0.0             27879   \n",
       "3 (2011)                  0.0    0.0           0.0              9821   \n",
       "360                       0.0    0.0           0.0             12186   \n",
       "44 Inch Chest             0.0    0.0           2.0              4185   \n",
       "\n",
       "                            ...          Sci-Fi  Sports  Thriller  WRITER_EXP  \\\n",
       "MOVIE_NAME                  ...                                                 \n",
       "'71                         ...             0.0     0.0       0.0         0.0   \n",
       "10 Cloverfield Lane         ...             0.0     0.0       1.0         0.0   \n",
       "11-11-11                    ...             0.0     0.0       0.0         1.0   \n",
       "13 Assassins                ...             0.0     0.0       0.0         0.0   \n",
       "17 Girls                    ...             0.0     0.0       0.0         0.0   \n",
       "2 Days in New York          ...             0.0     0.0       0.0         2.0   \n",
       "20,000 Days on Earth        ...             0.0     0.0       0.0         0.0   \n",
       "3 (2011)                    ...             0.0     0.0       0.0         0.0   \n",
       "360                         ...             0.0     0.0       0.0         0.0   \n",
       "44 Inch Chest               ...             0.0     0.0       0.0         0.0   \n",
       "\n",
       "                      War  Western  RELEASE_QUARTER_1  RELEASE_QUARTER_2  \\\n",
       "MOVIE_NAME                                                                 \n",
       "'71                   1.0      0.0                1.0                0.0   \n",
       "10 Cloverfield Lane   0.0      0.0                1.0                0.0   \n",
       "11-11-11              0.0      0.0                0.0                0.0   \n",
       "13 Assassins          0.0      0.0                0.0                1.0   \n",
       "17 Girls              0.0      0.0                0.0                0.0   \n",
       "2 Days in New York    0.0      0.0                0.0                0.0   \n",
       "20,000 Days on Earth  0.0      0.0                0.0                0.0   \n",
       "3 (2011)              0.0      0.0                0.0                0.0   \n",
       "360                   0.0      0.0                0.0                0.0   \n",
       "44 Inch Chest         0.0      0.0                1.0                0.0   \n",
       "\n",
       "                      RELEASE_QUARTER_3  RELEASE_QUARTER_4  \n",
       "MOVIE_NAME                                                  \n",
       "'71                                 0.0                0.0  \n",
       "10 Cloverfield Lane                 0.0                0.0  \n",
       "11-11-11                            0.0                1.0  \n",
       "13 Assassins                        0.0                0.0  \n",
       "17 Girls                            1.0                0.0  \n",
       "2 Days in New York                  1.0                0.0  \n",
       "20,000 Days on Earth                1.0                0.0  \n",
       "3 (2011)                            1.0                0.0  \n",
       "360                                 1.0                0.0  \n",
       "44 Inch Chest                       0.0                0.0  \n",
       "\n",
       "[10 rows x 35 columns]"
      ]
     },
     "execution_count": 699,
     "metadata": {},
     "output_type": "execute_result"
    }
   ],
   "source": [
    "movie_no_budget.head(10)"
   ]
  },
  {
   "cell_type": "code",
   "execution_count": null,
   "metadata": {
    "collapsed": true
   },
   "outputs": [],
   "source": []
  },
  {
   "cell_type": "markdown",
   "metadata": {},
   "source": [
    "# Note!!!!!! one reason for weird domest/foreign offset is if a movie is released somewhere like korea...it might do super well there but not well in america (which is considered domestic)\n",
    "\n",
    "# Have option of ignoring films with foreign as the genre"
   ]
  },
  {
   "cell_type": "code",
   "execution_count": 700,
   "metadata": {
    "collapsed": true
   },
   "outputs": [],
   "source": [
    "movies_no_domestic = movie_data[movie_data[\"DOMESTIC_OPENING\"] == 0]"
   ]
  },
  {
   "cell_type": "code",
   "execution_count": 701,
   "metadata": {
    "collapsed": false,
    "scrolled": true
   },
   "outputs": [
    {
     "data": {
      "text/html": [
       "<div>\n",
       "<table border=\"1\" class=\"dataframe\">\n",
       "  <thead>\n",
       "    <tr style=\"text-align: right;\">\n",
       "      <th></th>\n",
       "      <th>ACTOR_EXP</th>\n",
       "      <th>Action</th>\n",
       "      <th>Adventure</th>\n",
       "      <th>Animation</th>\n",
       "      <th>BUDGET</th>\n",
       "      <th>Comedy</th>\n",
       "      <th>Concert</th>\n",
       "      <th>Crime</th>\n",
       "      <th>DIRECTOR_EXP</th>\n",
       "      <th>DOMESTIC_OPENING</th>\n",
       "      <th>...</th>\n",
       "      <th>Sci-Fi</th>\n",
       "      <th>Sports</th>\n",
       "      <th>Thriller</th>\n",
       "      <th>WRITER_EXP</th>\n",
       "      <th>War</th>\n",
       "      <th>Western</th>\n",
       "      <th>RELEASE_QUARTER_1</th>\n",
       "      <th>RELEASE_QUARTER_2</th>\n",
       "      <th>RELEASE_QUARTER_3</th>\n",
       "      <th>RELEASE_QUARTER_4</th>\n",
       "    </tr>\n",
       "    <tr>\n",
       "      <th>MOVIE_NAME</th>\n",
       "      <th></th>\n",
       "      <th></th>\n",
       "      <th></th>\n",
       "      <th></th>\n",
       "      <th></th>\n",
       "      <th></th>\n",
       "      <th></th>\n",
       "      <th></th>\n",
       "      <th></th>\n",
       "      <th></th>\n",
       "      <th></th>\n",
       "      <th></th>\n",
       "      <th></th>\n",
       "      <th></th>\n",
       "      <th></th>\n",
       "      <th></th>\n",
       "      <th></th>\n",
       "      <th></th>\n",
       "      <th></th>\n",
       "      <th></th>\n",
       "      <th></th>\n",
       "    </tr>\n",
       "  </thead>\n",
       "  <tbody>\n",
       "  </tbody>\n",
       "</table>\n",
       "<p>0 rows × 35 columns</p>\n",
       "</div>"
      ],
      "text/plain": [
       "Empty DataFrame\n",
       "Columns: [ACTOR_EXP, Action, Adventure, Animation, BUDGET, Comedy, Concert, Crime, DIRECTOR_EXP, DOMESTIC_OPENING, Documentary, Drama, FOREIGN_TOTAL, Family, Fantasy, Foreign, Historical, Horror, IMAX, Music, Musical, PRODUCER_EXP, Period, Romance, Romantic, Sci-Fi, Sports, Thriller, WRITER_EXP, War, Western, RELEASE_QUARTER_1, RELEASE_QUARTER_2, RELEASE_QUARTER_3, RELEASE_QUARTER_4]\n",
       "Index: []\n",
       "\n",
       "[0 rows x 35 columns]"
      ]
     },
     "execution_count": 701,
     "metadata": {},
     "output_type": "execute_result"
    }
   ],
   "source": [
    "movies_no_domestic"
   ]
  },
  {
   "cell_type": "markdown",
   "metadata": {},
   "source": [
    "# Just get rid of entries with no budget info"
   ]
  },
  {
   "cell_type": "code",
   "execution_count": 702,
   "metadata": {
    "collapsed": true
   },
   "outputs": [],
   "source": [
    "movie_data = movie_data[movie_data['BUDGET'] != 0]"
   ]
  },
  {
   "cell_type": "code",
   "execution_count": 817,
   "metadata": {
    "collapsed": false
   },
   "outputs": [
    {
     "data": {
      "text/plain": [
       "(745, 35)"
      ]
     },
     "execution_count": 817,
     "metadata": {},
     "output_type": "execute_result"
    }
   ],
   "source": [
    "movie_data[movie_data['FOREIGN_TOTAL'] >= 0].shape"
   ]
  },
  {
   "cell_type": "code",
   "execution_count": 818,
   "metadata": {
    "collapsed": false
   },
   "outputs": [
    {
     "data": {
      "text/plain": [
       "(745, 35)"
      ]
     },
     "execution_count": 818,
     "metadata": {},
     "output_type": "execute_result"
    }
   ],
   "source": [
    "movie_data.shape"
   ]
  },
  {
   "cell_type": "code",
   "execution_count": 704,
   "metadata": {
    "collapsed": false
   },
   "outputs": [
    {
     "data": {
      "text/plain": [
       "9"
      ]
     },
     "execution_count": 704,
     "metadata": {},
     "output_type": "execute_result"
    }
   ],
   "source": [
    "len(movie_data[movie_data['Foreign'] == 1])"
   ]
  },
  {
   "cell_type": "markdown",
   "metadata": {},
   "source": [
    "# Drop foreign movies because "
   ]
  },
  {
   "cell_type": "code",
   "execution_count": 705,
   "metadata": {
    "collapsed": true
   },
   "outputs": [],
   "source": [
    "movie_data = movie_data[movie_data['Foreign'] == 0]"
   ]
  },
  {
   "cell_type": "code",
   "execution_count": 706,
   "metadata": {
    "collapsed": false
   },
   "outputs": [
    {
     "data": {
      "text/plain": [
       "(745, 35)"
      ]
     },
     "execution_count": 706,
     "metadata": {},
     "output_type": "execute_result"
    }
   ],
   "source": [
    "movie_data.shape"
   ]
  },
  {
   "cell_type": "markdown",
   "metadata": {},
   "source": [
    "# Get some plots the data"
   ]
  },
  {
   "cell_type": "code",
   "execution_count": 707,
   "metadata": {
    "collapsed": true
   },
   "outputs": [],
   "source": [
    "import sklearn\n",
    "from sklearn.cross_validation import train_test_split,KFold,cross_val_score\n",
    "from pandas.tools.plotting import scatter_matrix"
   ]
  },
  {
   "cell_type": "markdown",
   "metadata": {},
   "source": [
    "### Drop na values (there is apparently 1)"
   ]
  },
  {
   "cell_type": "code",
   "execution_count": 708,
   "metadata": {
    "collapsed": true
   },
   "outputs": [],
   "source": [
    "movie_data.dropna(inplace=True)"
   ]
  },
  {
   "cell_type": "code",
   "execution_count": 709,
   "metadata": {
    "collapsed": false
   },
   "outputs": [
    {
     "data": {
      "text/plain": [
       "(745, 35)"
      ]
     },
     "execution_count": 709,
     "metadata": {},
     "output_type": "execute_result"
    }
   ],
   "source": [
    "movie_data.shape"
   ]
  },
  {
   "cell_type": "code",
   "execution_count": 710,
   "metadata": {
    "collapsed": true
   },
   "outputs": [],
   "source": [
    "movie_features,movie_target = movie_data.drop('FOREIGN_TOTAL', axis=1),movie_data['FOREIGN_TOTAL']"
   ]
  },
  {
   "cell_type": "code",
   "execution_count": 711,
   "metadata": {
    "collapsed": false
   },
   "outputs": [
    {
     "data": {
      "text/plain": [
       "Index([u'ACTOR_EXP', u'Action', u'Adventure', u'Animation', u'BUDGET',\n",
       "       u'Comedy', u'Concert', u'Crime', u'DIRECTOR_EXP', u'DOMESTIC_OPENING',\n",
       "       u'Documentary', u'Drama', u'Family', u'Fantasy', u'Foreign',\n",
       "       u'Historical', u'Horror', u'IMAX', u'Music', u'Musical',\n",
       "       u'PRODUCER_EXP', u'Period', u'Romance', u'Romantic', u'Sci-Fi',\n",
       "       u'Sports', u'Thriller', u'WRITER_EXP', u'War', u'Western',\n",
       "       u'RELEASE_QUARTER_1', u'RELEASE_QUARTER_2', u'RELEASE_QUARTER_3',\n",
       "       u'RELEASE_QUARTER_4'],\n",
       "      dtype='object')"
      ]
     },
     "execution_count": 711,
     "metadata": {},
     "output_type": "execute_result"
    }
   ],
   "source": [
    "movie_features.columns"
   ]
  },
  {
   "cell_type": "markdown",
   "metadata": {},
   "source": [
    "## Want to get some plots...write these to a directory\n",
    "#### currently without the extra actor/director/writer information..."
   ]
  },
  {
   "cell_type": "code",
   "execution_count": 712,
   "metadata": {
    "collapsed": false
   },
   "outputs": [],
   "source": [
    "column_names = list(movie_features.columns)\n",
    "\n",
    "for column in column_names:\n",
    "    try:\n",
    "    #     print movie_features[column]\n",
    "        # create plots of column vs foreign budget\n",
    "\n",
    "        ## want to rescale budget and domestic fields to make the graphs look better and be \n",
    "        ## easier to understand\n",
    "        if column == 'BUDGET':\n",
    "            plt.scatter(movie_features[column]/float(1000000),movie_target/float(1000000),alpha=0.2)\n",
    "        elif column == 'DOMESTIC_OPENING':\n",
    "            plt.scatter(movie_features[column]/float(1000000),movie_target/float(1000000),alpha=0.2)\n",
    "        else:\n",
    "            plt.scatter(movie_features[column],movie_target/float(1000000),alpha=0.2)\n",
    "\n",
    "        plt.xlabel(column)\n",
    "        plt.ylabel('foreign gross (millions $)')\n",
    "\n",
    "        path = '/Users/williamcosby/Documents/metis/Project_Luther/plots/'+str(column)+'.png'\n",
    "        plt.savefig(path)\n",
    "        plt.close() \n",
    "    except:\n",
    "        print column\n",
    "        print movie_features[column]"
   ]
  },
  {
   "cell_type": "markdown",
   "metadata": {},
   "source": [
    "# Start some modeling\n",
    "### Split the data into features and targets\n",
    "\n"
   ]
  },
  {
   "cell_type": "code",
   "execution_count": 718,
   "metadata": {
    "collapsed": false
   },
   "outputs": [],
   "source": [
    "from sklearn import linear_model\n",
    "from sklearn import cross_validation\n",
    "from sklearn.cross_validation import cross_val_predict, train_test_split,KFold, cross_val_score"
   ]
  },
  {
   "cell_type": "markdown",
   "metadata": {},
   "source": [
    "# Training, Testing, and holdout splits\n",
    "\n",
    "#### nh means \"not holdout\""
   ]
  },
  {
   "cell_type": "markdown",
   "metadata": {},
   "source": [
    "### Make a holdout set from the data"
   ]
  },
  {
   "cell_type": "code",
   "execution_count": 719,
   "metadata": {
    "collapsed": false
   },
   "outputs": [],
   "source": [
    "movie_features_nh, movie_features_holdout, movie_target_nh, movie_target_holdout = cross_validation.train_test_split(movie_features,movie_target,\n",
    "                                                            test_size=0.1)"
   ]
  },
  {
   "cell_type": "markdown",
   "metadata": {},
   "source": [
    "### Now split the data into the train and test sets (within the non-holdout data) and create the model"
   ]
  },
  {
   "cell_type": "code",
   "execution_count": 720,
   "metadata": {
    "collapsed": true
   },
   "outputs": [],
   "source": [
    "movie_features_train, movie_features_test, movie_target_train, movie_target_test = cross_validation.train_test_split(\n",
    "                                                            movie_features_nh,movie_target_nh,\n",
    "                                                            test_size=0.3)"
   ]
  },
  {
   "cell_type": "code",
   "execution_count": 722,
   "metadata": {
    "collapsed": false
   },
   "outputs": [],
   "source": [
    "shuffler = cross_validation.ShuffleSplit(len(movie_features_train),n_iter=10,test_size=0.1)\n",
    "kfold = KFold(len(movie_features_train),n_folds=10)"
   ]
  },
  {
   "cell_type": "markdown",
   "metadata": {},
   "source": [
    "### Drop domestic opening"
   ]
  },
  {
   "cell_type": "code",
   "execution_count": 723,
   "metadata": {
    "collapsed": false
   },
   "outputs": [],
   "source": [
    "# try dropping domestic opening \n",
    "movie_features_train_nodom = movie_features_train.drop(['DOMESTIC_OPENING'],axis=1)\n",
    "movie_features_test_nodom = movie_features_test.drop(['DOMESTIC_OPENING'],axis=1)"
   ]
  },
  {
   "cell_type": "markdown",
   "metadata": {},
   "source": [
    "## Train lin reg without domestic opening"
   ]
  },
  {
   "cell_type": "code",
   "execution_count": 731,
   "metadata": {
    "collapsed": false
   },
   "outputs": [
    {
     "name": "stdout",
     "output_type": "stream",
     "text": [
      "vanilla lin reg score:  0.545958038914\n",
      "cross val scores:  [ 0.60134819  0.57632891  0.28482249  0.64295046  0.7506231   0.65291488\n",
      "  0.30576714  0.62850648  0.54643457  0.45996272]\n",
      "\n",
      "mean cross vall score:  0.544965894872\n"
     ]
    }
   ],
   "source": [
    "lr_nodom = linear_model.LinearRegression()\n",
    "lr_nodom.fit(movie_features_train_nodom,movie_target_train)\n",
    "print \"vanilla lin reg score: \", lr_nodom.score(movie_features_test_nodom, movie_target_test)\n",
    "\n",
    "# get cross val scores:\n",
    "scores = cross_val_score(lr_nodom,movie_features_train_nodom,movie_target_train,cv=kfold)\n",
    "mean_score_lr = np.mean(scores)\n",
    "print \"cross val scores: \",scores\n",
    "print\n",
    "print \"mean cross vall score: \",mean_score_lr"
   ]
  },
  {
   "cell_type": "markdown",
   "metadata": {},
   "source": [
    "## Train lin reg with domestic opening   (DONT USE THIS)"
   ]
  },
  {
   "cell_type": "code",
   "execution_count": 726,
   "metadata": {
    "collapsed": false,
    "scrolled": true
   },
   "outputs": [
    {
     "name": "stdout",
     "output_type": "stream",
     "text": [
      "vanilla lin reg score:  0.787585324627\n",
      "[ 0.71661611  0.6681045   0.66440426  0.81097843  0.85083043  0.85535876\n",
      "  0.5832381   0.78333809  0.87248168  0.62747585]\n"
     ]
    }
   ],
   "source": [
    "# lr = linear_model.LinearRegression()\n",
    "# lr.fit(movie_features_train,movie_target_train)\n",
    "# print \"vanilla lin reg score: \", lr.score(movie_features_test, movie_target_test)\n",
    "# # sort features by coefficient\n",
    "# # sorted_features = sorted(zip(list(movie_features_train.columns),lr.coef_),\n",
    "# #                          key=lambda tup: abs(tup[1]),reverse=True) \n",
    "\n",
    "# # for feature in sorted_features:\n",
    "# #     print(feature)\n",
    "\n",
    "# # get cross val scores\n",
    "# scores = cross_val_score(lr,movie_features_train,movie_target_train,cv=kfold)\n",
    "# print scores"
   ]
  },
  {
   "cell_type": "markdown",
   "metadata": {},
   "source": [
    "# Run on holdout set"
   ]
  },
  {
   "cell_type": "code",
   "execution_count": 634,
   "metadata": {
    "collapsed": false
   },
   "outputs": [
    {
     "data": {
      "text/plain": [
       "0.73847807956486688"
      ]
     },
     "execution_count": 634,
     "metadata": {},
     "output_type": "execute_result"
    }
   ],
   "source": [
    "# with domestic opening information\n",
    "# lr_nodom.score(movie_features_holdout, movie_target_holdout)"
   ]
  },
  {
   "cell_type": "code",
   "execution_count": 730,
   "metadata": {
    "collapsed": false
   },
   "outputs": [
    {
     "data": {
      "text/plain": [
       "0.38778682730528902"
      ]
     },
     "execution_count": 730,
     "metadata": {},
     "output_type": "execute_result"
    }
   ],
   "source": [
    "# without domestic opening information\n",
    "movie_features_holdout_nodom = movie_features_holdout.drop(['DOMESTIC_OPENING'],axis=1)\n",
    "lr_nodom.score(movie_features_holdout_nodom,movie_target_holdout)"
   ]
  },
  {
   "cell_type": "markdown",
   "metadata": {},
   "source": [
    "# Random Forest"
   ]
  },
  {
   "cell_type": "code",
   "execution_count": 732,
   "metadata": {
    "collapsed": false
   },
   "outputs": [
    {
     "data": {
      "text/plain": [
       "34"
      ]
     },
     "execution_count": 732,
     "metadata": {},
     "output_type": "execute_result"
    }
   ],
   "source": [
    "len(movie_features.columns)"
   ]
  },
  {
   "cell_type": "code",
   "execution_count": 733,
   "metadata": {
    "collapsed": true
   },
   "outputs": [],
   "source": [
    "from sklearn.ensemble import RandomForestRegressor"
   ]
  },
  {
   "cell_type": "code",
   "execution_count": 734,
   "metadata": {
    "collapsed": false
   },
   "outputs": [
    {
     "name": "stdout",
     "output_type": "stream",
     "text": [
      "Random Forest result with no domestic information:  0.510691210136\n",
      "cross val scores:  [ 0.54190724  0.55735927  0.37751474  0.63190599  0.86253368  0.62632782\n",
      "  0.45898976  0.69912004  0.48213805  0.31440089]\n",
      "mean cross val score:  0.555219748261\n"
     ]
    }
   ],
   "source": [
    "rf_nodom = RandomForestRegressor(n_estimators=1000,max_features=25)\n",
    "rf_nodom.fit(movie_features_train_nodom,movie_target_train)\n",
    "print \"Random Forest result with no domestic information: \", rf_nodom.score(movie_features_test_nodom,movie_target_test)\n",
    "\n",
    "rf_nodom_scores = cross_val_score(rf_nodom,movie_features_train_nodom,movie_target_train,cv=kfold)\n",
    "mean_score_rf = np.mean(rf_nodom_scores)\n",
    "print \"cross val scores: \", rf_nodom_scores\n",
    "print \"mean cross val score: \",mean_score_rf\n",
    "\n",
    "\n",
    "# rf = RandomForestRegressor(n_estimators=1000,max_features=25)\n",
    "# rf.fit(movie_features_train,movie_target_train)\n",
    "# print \"Random Forest result with domestic information: \", rf.score(movie_features_test,movie_target_test)\n",
    "\n"
   ]
  },
  {
   "cell_type": "code",
   "execution_count": 639,
   "metadata": {
    "collapsed": false
   },
   "outputs": [
    {
     "data": {
      "text/plain": [
       "array([  2.94408627e-02,   4.05019684e-03,   7.78408389e-03,\n",
       "         6.48624403e-03,   2.32025845e-01,   1.88131804e-03,\n",
       "         5.75488271e-06,   1.54631871e-04,   1.57507928e-02,\n",
       "         6.13519558e-01,   2.07794968e-05,   1.36689309e-03,\n",
       "         1.57502676e-03,   1.59364838e-03,   0.00000000e+00,\n",
       "         2.63635246e-03,   1.39970331e-03,   7.82452990e-07,\n",
       "         1.86151704e-04,   8.57592952e-04,   2.47404133e-02,\n",
       "         5.90945817e-04,   2.05565893e-03,   1.51008521e-04,\n",
       "         7.24330198e-03,   3.04399888e-05,   8.90300896e-04,\n",
       "         2.37227306e-02,   8.33739326e-05,   1.44236444e-04,\n",
       "         4.45615888e-03,   3.23771188e-03,   4.55447945e-03,\n",
       "         7.36301974e-03])"
      ]
     },
     "execution_count": 639,
     "metadata": {},
     "output_type": "execute_result"
    }
   ],
   "source": [
    "rf.feature_importances_"
   ]
  },
  {
   "cell_type": "markdown",
   "metadata": {},
   "source": [
    "# Gradient Boost"
   ]
  },
  {
   "cell_type": "code",
   "execution_count": 735,
   "metadata": {
    "collapsed": true
   },
   "outputs": [],
   "source": [
    "from sklearn.ensemble import GradientBoostingRegressor"
   ]
  },
  {
   "cell_type": "code",
   "execution_count": 772,
   "metadata": {
    "collapsed": false
   },
   "outputs": [
    {
     "name": "stdout",
     "output_type": "stream",
     "text": [
      "0.555893195122\n"
     ]
    }
   ],
   "source": [
    "grad_boost = GradientBoostingRegressor(n_estimators=200,learning_rate=0.1,alpha=0.3,loss='lad')\n",
    "\n",
    "grad_boost.fit(movie_features_train_nodom,movie_target_train)\n",
    "grad_boost.score(movie_features_test_nodom,movie_target_test)\n",
    "\n",
    "scores = cross_val_score(grad_boost,movie_features_train_nodom,movie_target_train)\n",
    "print np.mean(scores)"
   ]
  },
  {
   "cell_type": "code",
   "execution_count": 773,
   "metadata": {
    "collapsed": false
   },
   "outputs": [
    {
     "data": {
      "text/plain": [
       "0.40032903285018095"
      ]
     },
     "execution_count": 773,
     "metadata": {},
     "output_type": "execute_result"
    }
   ],
   "source": [
    "grad_boost.score(movie_features_holdout_nodom, movie_target_holdout)"
   ]
  },
  {
   "cell_type": "code",
   "execution_count": null,
   "metadata": {
    "collapsed": true
   },
   "outputs": [],
   "source": []
  },
  {
   "cell_type": "markdown",
   "metadata": {},
   "source": [
    "# Grid Searching Parameters"
   ]
  },
  {
   "cell_type": "code",
   "execution_count": 774,
   "metadata": {
    "collapsed": true
   },
   "outputs": [],
   "source": [
    "from sklearn import grid_search"
   ]
  },
  {
   "cell_type": "markdown",
   "metadata": {},
   "source": [
    "## Linear Regression"
   ]
  },
  {
   "cell_type": "code",
   "execution_count": 775,
   "metadata": {
    "collapsed": true
   },
   "outputs": [],
   "source": [
    "models = {}\n",
    "models['lin_reg'] = linear_model.LinearRegression()\n",
    "models['ridge'] = linear_model.Ridge()\n",
    "models['lasso'] = linear_model.Lasso(alpha = 2) # ran this normally...alpha =2 kills more features than default\n",
    "models['elastic'] = linear_model.ElasticNet()\n",
    "models['elasticCV'] = linear_model.ElasticNetCV()\n",
    "models['larscv'] = linear_model.LarsCV()\n",
    "models['lassoCV'] = linear_model.LassoCV()"
   ]
  },
  {
   "cell_type": "code",
   "execution_count": 788,
   "metadata": {
    "collapsed": false,
    "scrolled": true
   },
   "outputs": [
    {
     "name": "stdout",
     "output_type": "stream",
     "text": [
      "Model: ridge\n",
      "Score: 0.547352634529\n",
      "Model: elastic\n",
      "Score: 0.525151520703\n",
      "Model: lin_reg\n",
      "Score: 0.545958038914\n",
      "Model: lassoCV\n",
      "Score: 0.517439221973\n",
      "Model: lasso\n",
      "Score: 0.54595809663\n",
      "Model: larscv\n",
      "Score: 0.516376954605\n",
      "Model: elasticCV\n",
      "Score: 0.51767130695\n"
     ]
    },
    {
     "data": {
      "image/png": "[encoded data removed]",
      "text/plain": [
       "<matplotlib.figure.Figure at 0x11ccb1250>"
      ]
     },
     "metadata": {},
     "output_type": "display_data"
    }
   ],
   "source": [
    "# and lol remember that dictionaries are NOT ordered\n",
    "for name,model in models.iteritems():\n",
    "    model.fit(movie_features_train_nodom,movie_target_train)\n",
    "    print('Model: '+name)\n",
    "    preds = model.predict(movie_features_test_nodom)\n",
    "    plt.scatter(preds,movie_target_test, alpha=0.3)\n",
    "    plt.show\n",
    "    print('Score: ' + str(model.score(movie_features_test_nodom,movie_target_test)))\n",
    "    preds = model.predict(movie_features_test_nodom)\n",
    "#     plt.scatter(preds,movie_target_test, alpha=0.3)\n",
    "#     plt.show"
   ]
  },
  {
   "cell_type": "markdown",
   "metadata": {},
   "source": [
    "# want to see the effect of normalizing and different parameters\n",
    "# np.logspace selects numbers evenly from -4 to -0.1 (on log scale, goes from 10^4 to 10^0.1)"
   ]
  },
  {
   "cell_type": "code",
   "execution_count": 810,
   "metadata": {
    "collapsed": false
   },
   "outputs": [
    {
     "data": {
      "text/plain": [
       "GridSearchCV(cv=None, error_score='raise',\n",
       "       estimator=Lasso(alpha=1.0, copy_X=True, fit_intercept=True, max_iter=1000,\n",
       "   normalize=False, positive=False, precompute=False, random_state=None,\n",
       "   selection='cyclic', tol=0.0001, warm_start=False),\n",
       "       fit_params={}, iid=True, n_jobs=1,\n",
       "       param_grid={'normalize': (True, False), 'alpha': array([  1.00000e-04,   1.36296e-04,   1.85766e-04,   2.53191e-04,\n",
       "         3.45089e-04,   4.70342e-04,   6.41057e-04,   8.73734e-04,\n",
       "         1.19086e-03,   1.62310e-03,   2.21222e-03,   3.01516e-03,\n",
       "         4.10954e-03,   5.60113e-03,   7.63411e-03...    1.68883e-01,   2.30181e-01,   3.13727e-01,   4.27597e-01,\n",
       "         5.82797e-01,   7.94328e-01])},\n",
       "       pre_dispatch='2*n_jobs', refit=True, scoring=None, verbose=0)"
      ]
     },
     "execution_count": 810,
     "metadata": {},
     "output_type": "execute_result"
    }
   ],
   "source": [
    "lasso = linear_model.Lasso()\n",
    "\n",
    "parameters = {'normalize':(True,False),'alpha':np.logspace(-4,-.1,30)}\n",
    "grid_searcher = grid_search.GridSearchCV(lasso,parameters)\n",
    "grid_searcher.fit(movie_features_train_nodom,movie_target_train)"
   ]
  },
  {
   "cell_type": "code",
   "execution_count": 811,
   "metadata": {
    "collapsed": false
   },
   "outputs": [
    {
     "data": {
      "text/plain": [
       "{'alpha': 0.79432823472428149, 'normalize': True}"
      ]
     },
     "execution_count": 811,
     "metadata": {},
     "output_type": "execute_result"
    }
   ],
   "source": [
    "grid_searcher.best_params_"
   ]
  },
  {
   "cell_type": "code",
   "execution_count": 812,
   "metadata": {
    "collapsed": false
   },
   "outputs": [],
   "source": [
    "best_lasso_model = grid_searcher.best_estimator_"
   ]
  },
  {
   "cell_type": "code",
   "execution_count": 813,
   "metadata": {
    "collapsed": false
   },
   "outputs": [
    {
     "data": {
      "text/plain": [
       "0.54595811082805001"
      ]
     },
     "execution_count": 813,
     "metadata": {},
     "output_type": "execute_result"
    }
   ],
   "source": [
    "best_lasso_model.score(movie_features_test_nodom,movie_target_test)"
   ]
  },
  {
   "cell_type": "code",
   "execution_count": 819,
   "metadata": {
    "collapsed": false
   },
   "outputs": [
    {
     "data": {
      "text/plain": [
       "[<matplotlib.lines.Line2D at 0x120404fd0>]"
      ]
     },
     "execution_count": 819,
     "metadata": {},
     "output_type": "execute_result"
    },
    {
     "data": {
      "image/png": "[encoded data removed]",
      "text/plain": [
       "<matplotlib.figure.Figure at 0x11af55310>"
      ]
     },
     "metadata": {},
     "output_type": "display_data"
    }
   ],
   "source": [
    "temp = np.linspace(0,700000000,5000)\n",
    "\n",
    "preds = best_lasso_model.predict(movie_features_test_nodom)\n",
    "plt.scatter(preds,movie_target_test,alpha=0.2)\n",
    "plt.xlim(0)\n",
    "plt.ylim(0)\n",
    "plt.plot(temp,temp,'k--')"
   ]
  },
  {
   "cell_type": "code",
   "execution_count": 782,
   "metadata": {
    "collapsed": false
   },
   "outputs": [],
   "source": [
    "scores = cross_val_score(best_lasso_model, movie_features_train_nodom,movie_target_train,cv=kfold)"
   ]
  },
  {
   "cell_type": "code",
   "execution_count": 783,
   "metadata": {
    "collapsed": false
   },
   "outputs": [
    {
     "name": "stdout",
     "output_type": "stream",
     "text": [
      "('scores: ', array([ 0.60134816,  0.5763293 ,  0.2848228 ,  0.64295048,  0.75062312,\n",
      "        0.65291509,  0.30576805,  0.62850661,  0.54643473,  0.45996296]))\n",
      "avg score:  0.54496612853\n"
     ]
    }
   ],
   "source": [
    "print (\"scores: \",scores)\n",
    "print \"avg score: \", np.mean(scores)"
   ]
  },
  {
   "cell_type": "markdown",
   "metadata": {},
   "source": [
    "# Doing the actor/director/producer/writer experience thing bumped my scores for lin reg up ~10%"
   ]
  },
  {
   "cell_type": "markdown",
   "metadata": {},
   "source": [
    "# Gradient Boosting"
   ]
  },
  {
   "cell_type": "code",
   "execution_count": null,
   "metadata": {
    "collapsed": true
   },
   "outputs": [],
   "source": []
  },
  {
   "cell_type": "code",
   "execution_count": null,
   "metadata": {
    "collapsed": true
   },
   "outputs": [],
   "source": []
  },
  {
   "cell_type": "code",
   "execution_count": null,
   "metadata": {
    "collapsed": true
   },
   "outputs": [],
   "source": []
  },
  {
   "cell_type": "markdown",
   "metadata": {},
   "source": [
    "# Things to ask:\n",
    "* Gridsearch with gradient boosting?\n",
    "* Gridsearch with random forests"
   ]
  },
  {
   "cell_type": "code",
   "execution_count": null,
   "metadata": {
    "collapsed": true
   },
   "outputs": [],
   "source": []
  }
 ],
 "metadata": {
  "kernelspec": {
   "display_name": "Python 2",
   "language": "python",
   "name": "python2"
  },
  "language_info": {
   "codemirror_mode": {
    "name": "ipython",
    "version": 2
   },
   "file_extension": ".py",
   "mimetype": "text/x-python",
   "name": "python",
   "nbconvert_exporter": "python",
   "pygments_lexer": "ipython2",
   "version": "2.7.11"
  }
 },
 "nbformat": 4,
 "nbformat_minor": 0
}
