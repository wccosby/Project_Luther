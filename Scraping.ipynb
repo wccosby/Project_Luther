{
 "cells": [
  {
   "cell_type": "markdown",
   "metadata": {},
   "source": [
    "# Web Scraping for Project Luther"
   ]
  },
  {
   "cell_type": "code",
   "execution_count": 3,
   "metadata": {
    "collapsed": true
   },
   "outputs": [],
   "source": [
    "import pandas as pd\n",
    "import numpy as np\n",
    "import matplotlib.pyplot as plt\n",
    "from bs4 import BeautifulSoup\n",
    "import requests\n",
    "\n",
    "%matplotlib inline\n"
   ]
  },
  {
   "cell_type": "code",
   "execution_count": 4,
   "metadata": {
    "collapsed": true
   },
   "outputs": [],
   "source": [
    "url = 'http://www.boxofficemojo.com/yearly/'\n",
    "\n",
    "response = requests.get(url)"
   ]
  },
  {
   "cell_type": "code",
   "execution_count": 6,
   "metadata": {
    "collapsed": false
   },
   "outputs": [
    {
     "data": {
      "text/plain": [
       "200"
      ]
     },
     "execution_count": 6,
     "metadata": {},
     "output_type": "execute_result"
    }
   ],
   "source": [
    "response.status_code"
   ]
  },
  {
   "cell_type": "code",
   "execution_count": 7,
   "metadata": {
    "collapsed": false
   },
   "outputs": [
    {
     "name": "stdout",
     "output_type": "stream",
     "text": [
      "<!DOCTYPE html PUBLIC \"-//W3C//DTD HTML 4.01 Transitional//EN\" \"http://www.w3.org/TR/html4/loose.dtd\">\n",
      "<html lang=\"en\">\n",
      "<HEAD>\n",
      "<TITLE>Movie Box Office Results by Year, 1980-Present - Box Office Mojo</TITLE>\n",
      "<META NAME=\"keywords\" CONTENT=\"year, yearly, box office, box, office, movie, result, average, total, chart, gross, screen, screens, ticket price, ticket, price, cost, budget, 1980, 1981, 1982, 1983, 1984, 1985, 1986, 1987, 1988, 1989, 1990, 1991, 1992, 1993, 1994, 1995, 1996, 1997, 1998, 1999, 2000, 2001, 2002, 2003, 2004, 2005, 2006, 2007, 2008, 2009, 2010, 2011, 2012, 2013, 2014, 2015, 2016\">\n",
      "<META NAME=\"description\" CONTENT=\"Movie Box Office Results by Year, 1980-Present.\">\n",
      "<link rel=\"stylesheet\" href=\"/css/mojo.css?1\" type=\"text/css\" media=\"screen\" title=\"no title\" charset=\"utf-8\">\n",
      "<link rel=\"stylesheet\" href=\"/css/mojo.css?1\" type=\"text/css\" media=\"print\" title=\"no title\" charset=\"utf-8\"></head>\n",
      "<body>\n",
      "<iframe id=\"sis_pixel_sitewide\" width=\"1\" height=\"1\" frameborder=\"0\" marginwidth=\"0\" marginheight=\"0\" style=\"display: none;\"></iframe>\n",
      "<script>\n",
      "    setTimeout(function(){\n",
      "        try{\n",
      "            //sis3.0 pixel\n",
      "            var cacheBust = Math.random() * 10000000000000000,\n",
      "                url_sis3 = 'http://s.amazon-adsystem.com/iu3?',\n",
      "                params_sis3 = [\n",
      "                    \"d=boxofficemojo.com\",\n",
      "                    \"cb=\" + cacheBust\n",
      "                ];\n",
      "\n",
      "            (document.getElementById('sis_pixel_sitewide')).src = url_sis3 + params_sis3.join('&');\n",
      "        }catch(e){\n",
      "            if (window.ueLogError) { \n",
      "                window.ueLogError(e);\n",
      "            }\n",
      "        }\n",
      "    }, 5);\n",
      "</script>\n",
      "\n",
      "<div id=\"container\">\n",
      "<div>\n",
      "<script type=\"text/javascript\">\n",
      "    var googletag = googletag || {};\n",
      "    googletag.cmd = googletag.cmd || [];\n",
      "\n",
      "    (function() {\n",
      "        var gads = document.createElement(\"script\");\n",
      "        gads.async = true;\n",
      "        gads.type = \"text/javascript\";\n",
      "\n",
      "        var useSSL = \"https:\" == document.location.protocol;\n",
      "        gads.src = (useSSL ? \"https:\" : \"http:\") + \"//www.googletagservices.com/tag/js/gpt.js\";\n",
      "\n",
      "        var node = document.getElementsByTagName(\"script\")[0];\n",
      "        node.parentNode.insertBefore(gads, node);\n",
      "    })();\n",
      "</script>\n",
      "\n",
      "<script type=\"text/javascript\">\n",
      "  var _gaq = _gaq || [];\n",
      "  _gaq.push(['_setAccount', 'UA-2831726-1']);\n",
      "  _gaq.push(['_trackPageview']);\n",
      "\n",
      "  (function() {\n",
      "    var ga = document.createElement('script'); ga.type = 'text/javascript'; ga.async = true;\n",
      "    ga.src = ('https:' == document.location.protocol ? 'https://ssl' : 'http://www') + '.google-analytics.com/ga.js';\n",
      "    (document.getElementsByTagName('head')[0] || document.getElementsByTagName('body')[0]).appendChild(ga);\n",
      "  })();\n",
      "\n",
      "</script>\n",
      "\n",
      "\t<div id=\"hp_banner\">\n",
      "\t<div id=\"top_links\">\n",
      "\t\t<div style=\"float: left\"><a href=\"/daily/chart/\">Daily Box Office (Sun.)</a> | <a href=\"/weekend/chart/\">Weekend Box Office (Jul. 8&ndash;10)</a> | <a href=\"/movies/?id=illumination2015.htm\">#1 Movie: 'The Secret Life of Pets'</a> | <a href=\"http://www.imdb.com/showtimes/?ref_=mojo\">Showtimes</a></div>\n",
      "\t\t<div style=\"float: right\">Updated 7/12/2016 11:35 A.M. Pacific Time</div>\n",
      "\t\t<div style=\"clear:both; height: 0px\"></div>\n",
      "\t</div>\n",
      "</div>\n",
      "\t\t\n",
      "<div id=\"header\">\n",
      "\t<div id=\"leaderboard\"><script type=\"text/javascript\">\n",
      "    googletag.cmd.push(function() {\n",
      "        googletag.defineSlot(\"/4215/imdb2.bom.other\", [[728, 90]], \"ad-slot-1\").addService(googletag.pubads().setTargeting(\"p\", \"t\"));\n",
      "        googletag.pubads().enableSingleRequest();\n",
      "        googletag.enableServices();\n",
      "    });\n",
      "    googletag.cmd.push(function() { googletag.display(\"ad-slot-1\"); });\n",
      "</script></div>\t<div id=\"hp_logo\"><a href=\"/\"><img src=\"/img/misc/bom_logo1.png\" width=\"245\" height=\"56\" alt=\"Box Office Mojo\"></a></div>\n",
      "\t<div style=\"clear:both; height: 0px\"></div>\n",
      "</div>\n",
      "\n",
      "\n",
      "</div>\n",
      "\n",
      "\n",
      "<div id=\"main\">\n",
      "<!-- COLUMN 1 of 4 -->\n",
      "\t<div id=\"leftnav\">\n",
      "<!-- google_ad_section_start(weight=ignore) -->\n",
      "<!-- <table id=\"navleft\" cellspacing=\"0\" cellpadding=\"2\" border=\"0\"> -->\n",
      "<ul id=\"leftnav\">\n",
      "<li class=\"nl_section\">Search Site</li>\n",
      "<li class=\"nl_link\" style=\"padding-left:0px\">\n",
      "\t<form name=\"searchbox\" method=\"POST\" action=\"/search/q.php\">\n",
      "\t<input name=\"q\"  type=\"text\" style=\"font-size: 9 pt; font-weight: bold; width: 90px;\"><br>\n",
      "\t<input type=\"submit\" value=\"Search...\" ></form> \n",
      "</li>\n",
      "<li class='nl_section'>Social</li>\n",
      "<li class=\"nl_link\"><a href=\"http://facebook.com/boxofficemojo\" style=\"vertical-align:middle;\"><img src=\"/images/FaceBook_16x16.png\" border=\"0\" alt=\"Facebook Logo\">Facebook</a></li>\n",
      "<li class=\"nl_link\"><a href=\"http://twitter.com/boxofficemojo\" style=\"vertical-align:middle;\"><img src=\"/images/Twitter_16x16.png\" border=\"0\" alt=\"Twitter Logo\">Twitter</a></li>\n",
      "\n",
      "<li class='nl_section'>Features</li>\n",
      "<li class='nl_link'><a href=\"/news/\">News</a></li>\n",
      "<li class='nl_link'><a href=\"/schedule/\">Release Sched.</a></li>\n",
      "<li class='nl_link'><a href=\"http://www.imdb.com/showtimes?ref_=mojo\">Showtimes<br/><span style=\"margin-left:7px;color: #999999; font-size: 9px;\">at <img src=\"/images/mojo_imdb_sm.png\"/></span></a></li>\n",
      "<li class='nl_section'>Box Office</li>\n",
      "<li class='nl_link'><a href=\"/daily/\">Daily</a></li>\n",
      "<li class='nl_link'><a href=\"/weekend/\">Weekend</a></li>\n",
      "<li class='nl_link'><a href=\"/weekly/\">Weekly</a></li>\n",
      "<li class='nl_link'><a href=\"/monthly/\">Monthly</a></li>\n",
      "<li class='nl_link'><a href=\"/quarterly/\">Quarterly</a></li>\n",
      "<li class='nl_link'><a href=\"/seasonal/\">Seasonal</a></li>\n",
      "<li class='nl_link_current'><a href=\"/yearly/\">Yearly</a></li>\n",
      "<li class='nl_link'><a href=\"/alltime/\">All Time</a></li>\n",
      "<li class='nl_link'><a href=\"/intl/\">International</a></li>\n",
      "<li class='nl_section'>Indices</li>\n",
      "<li class='nl_link'><a href=\"/studio/\">Studios</a></li>\n",
      "<li class='nl_link'><a href=\"/people/\">People</a></li>\n",
      "<li class='nl_link'><a href=\"/genres/\">Genres</a></li>\n",
      "<li class='nl_link'><a href=\"/franchises/\">Franchises</a></li>\n",
      "<li class='nl_link'><a href=\"/showdowns/\">Showdowns</a></li>\n",
      "<li class='nl_link'><a href=\"/counts/\">Theater Counts</a></li>\n",
      "</ul>\n",
      "</div>\n",
      "\t<div id=\"body\">\n",
      "<div id=\"addthis\"></div>\t\n",
      "<h2>Yearly Box Office</h2>\n",
      "\t\t\t<table border=\"0\" cellpadding=\"0\" cellspacing=\"0\" width=\"100%\">\n",
      "\t\t\t\t<tr>\n",
      "\t\t\t\t\t<td bgcolor=\"#8b0000\" colspan=\"2\"><img src=\"/images/space.gif\" border=\"0\" width=\"1\" height=\"5\"></td>\n",
      "\t\t\t\t</tr>\n",
      "\t\t\t</table>\n",
      "\n",
      "\n",
      "<h1>Yearly Box Office</h1>\n",
      "\n",
      "<ul class=\"nav_tabs\">\n",
      "<li class=\"nav_tab_current\"><a href=\"/yearly/?view2=domestic&view=releasedate&p=.htm\">Domestic</a></li>\n",
      "<li><a href=\"/yearly/?view2=ytdcompare&view=releasedate&p=.htm\">Ytd Comparison</a></li>\n",
      "<li><a href=\"/yearly/?view2=opening&view=releasedate&p=.htm\">Opening Weekends</a></li>\n",
      "<li><a href=\"/yearly/?view2=mpaa&view=releasedate&p=.htm\">Mpaa Breakdown</a></li>\n",
      "<li><a href=\"/yearly/?view2=worldwide&view=releasedate&p=.htm\">Worldwide</a></li>\n",
      "</ul>\n",
      "<br><table border=\"0\" cellspacing=\"0\" cellpadding=\"0\" width=\"100%\"><tr><td valign=\"top\" align=\"center\">\n",
      "<p align=\"center\"><font face=\"Verdana\" size=\"2\">Related Chart: <b>\n",
      "<a href=\"/yearly/chart/past365.htm\">The Past 365 Days</a></b></font></p>\n",
      "\n",
      "\n",
      "<table border=\"0\" cellspacing=\"1\" cellpadding=\"5\"><tr bgcolor=\"#dcdcdc\"><td align=\"center\"><font size=\"2\"><a href=\"/yearly/?sort=year&order=ASC&p=.htm\"><b>Year</b></a></font></td><td align=\"center\"><font size=\"2\"><a href=\"/yearly/?sort=totalgross&order=DESC&p=.htm\">Total<br>Gross*</a></font></td><td align=\"center\"><font size=\"2\"><a href=\"/yearly/?sort=grosschange&order=ASC&p=.htm\">Change</a></font></td><td align=\"center\"><font size=\"2\"><a href=\"/yearly/?sort=totaltickets&order=DESC&p=.htm\">Tickets<br>Sold</a></font></td><td align=\"center\"><font size=\"2\"><a href=\"/yearly/?sort=ticketchange&order=ASC&p=.htm\">Change</a></font></td><td align=\"center\"><font size=\"2\"><a href=\"/yearly/?sort=newmovies&order=DESC&p=.htm\"># of<br>Movies</a></font></td><td align=\"center\"><font size=\"2\"><a href=\"/yearly/?sort=screens&order=DESC&p=.htm\">Total<br>Screens</a></font></td><td align=\"center\"><font size=\"2\"><a href=\"/yearly/?sort=ticketprice&order=DESC&p=.htm\">Avg.<br>Ticket<br>Price</a></font></td><td align=\"center\"><font size=\"2\"><a href=\"/yearly/?sort=avgcost&order=DESC&p=.htm\">Avg.<br>Cost^</a></font></td><td align=\"center\"><font size=\"2\"><a href=\"/yearly/?sort=num1movie&order=ASC&p=.htm\">#1 Movie</a></font></td></tr><tr bgcolor=\"#ffff99\"><td align=\"center\"><font size=\"2\"><b><font size=\"4\"><a href=\"chart/?yr=2016&p=.htm\">2016</a></font></b></font></td>\r\n",
      "<td align=\"right\"><font size=\"2\">$6,111.9</font></td>\r\n",
      "<td align=\"right\"><font size=\"2\">-</font></td>\r\n",
      "<td align=\"right\"><font size=\"2\">712.3</font></td>\r\n",
      "<td align=\"right\"><font size=\"2\">-</font></td>\r\n",
      "<td align=\"right\"><font size=\"2\">362</font></td>\r\n",
      "<td align=\"right\"><font size=\"2\">-</font></td>\r\n",
      "<td align=\"center\"><font size=\"2\">$8.58</font></td>\r\n",
      "<td align=\"right\"><font size=\"2\">-</font></td>\r\n",
      "<td align=\"center\"><font size=\"2\"><a href=\"/movies/?id=pixar2015.htm\">Finding Dory</a></font></td>\r\n",
      "</tr>\r\n",
      "\r\n",
      "<tr bgcolor=\"#f4f4ff\"><td align=\"center\"><font size=\"2\"><b><font size=\"4\"><a href=\"chart/?yr=2015&p=.htm\">2015</a></font></b></font></td>\r\n",
      "<td align=\"right\"><font size=\"2\">$11,128.5</font></td>\r\n",
      "<td align=\"right\"><font size=\"2\"><font color=\"#0000ff\">+7.4%</font></font></td>\r\n",
      "<td align=\"right\"><font size=\"2\">1,320.1</font></td>\r\n",
      "<td align=\"right\"><font size=\"2\"><font color=\"#0000ff\">+4.1%</font></font></td>\r\n",
      "<td align=\"right\"><font size=\"2\">701</font></td>\r\n",
      "<td align=\"right\"><font size=\"2\">-</font></td>\r\n",
      "<td align=\"center\"><font size=\"2\">$8.43</font></td>\r\n",
      "<td align=\"right\"><font size=\"2\">-</font></td>\r\n",
      "<td align=\"center\"><font size=\"2\"><a href=\"/movies/?id=starwars7.htm\">Star Wars: The Force Awakens</a></font></td>\r\n",
      "</tr>\r\n",
      "\r\n",
      "<tr bgcolor=\"#ffffff\"><td align=\"center\"><font size=\"2\"><b><font size=\"4\"><a href=\"chart/?yr=2014&p=.htm\">2014</a></font></b></font></td>\r\n",
      "<td align=\"right\"><font size=\"2\">$10,360.8</font></td>\r\n",
      "<td align=\"right\"><font size=\"2\"><font color=\"#ff0000\">-5.2%</font></font></td>\r\n",
      "<td align=\"right\"><font size=\"2\">1,268.2</font></td>\r\n",
      "<td align=\"right\"><font size=\"2\"><font color=\"#ff0000\">-5.6%</font></font></td>\r\n",
      "<td align=\"right\"><font size=\"2\">702</font></td>\r\n",
      "<td align=\"right\"><font size=\"2\">-</font></td>\r\n",
      "<td align=\"center\"><font size=\"2\">$8.17</font></td>\r\n",
      "<td align=\"right\"><font size=\"2\">-</font></td>\r\n",
      "<td align=\"center\"><font size=\"2\"><a href=\"/movies/?id=americansniper.htm\">American Sniper</a></font></td>\r\n",
      "</tr>\r\n",
      "\r\n",
      "<tr bgcolor=\"#f4f4ff\"><td align=\"center\"><font size=\"2\"><b><font size=\"4\"><a href=\"chart/?yr=2013&p=.htm\">2013</a></font></b></font></td>\r\n",
      "<td align=\"right\"><font size=\"2\">$10,923.6</font></td>\r\n",
      "<td align=\"right\"><font size=\"2\"><font color=\"#0000ff\">+0.8%</font></font></td>\r\n",
      "<td align=\"right\"><font size=\"2\">1,343.6</font></td>\r\n",
      "<td align=\"right\"><font size=\"2\"><font color=\"#ff0000\">-1.3%</font></font></td>\r\n",
      "<td align=\"right\"><font size=\"2\">688</font></td>\r\n",
      "<td align=\"right\"><font size=\"2\">-</font></td>\r\n",
      "<td align=\"center\"><font size=\"2\">$8.13</font></td>\r\n",
      "<td align=\"right\"><font size=\"2\">-</font></td>\r\n",
      "<td align=\"center\"><font size=\"2\"><a href=\"/movies/?id=catchingfire.htm\">Catching Fire</a></font></td>\r\n",
      "</tr>\r\n",
      "\r\n",
      "<tr bgcolor=\"#ffffff\"><td align=\"center\"><font size=\"2\"><b><font size=\"4\"><a href=\"chart/?yr=2012&p=.htm\">2012</a></font></b></font></td>\r\n",
      "<td align=\"right\"><font size=\"2\">$10,837.4</font></td>\r\n",
      "<td align=\"right\"><font size=\"2\"><font color=\"#0000ff\">+6.5%</font></font></td>\r\n",
      "<td align=\"right\"><font size=\"2\">1,361.5</font></td>\r\n",
      "<td align=\"right\"><font size=\"2\"><font color=\"#0000ff\">+6.1%</font></font></td>\r\n",
      "<td align=\"right\"><font size=\"2\">667</font></td>\r\n",
      "<td align=\"right\"><font size=\"2\">-</font></td>\r\n",
      "<td align=\"center\"><font size=\"2\">$7.96</font></td>\r\n",
      "<td align=\"right\"><font size=\"2\">-</font></td>\r\n",
      "<td align=\"center\"><font size=\"2\"><a href=\"/movies/?id=avengers11.htm\">The Avengers</a></font></td>\r\n",
      "</tr>\r\n",
      "\r\n",
      "<tr bgcolor=\"#f4f4ff\"><td align=\"center\"><font size=\"2\"><b><font size=\"4\"><a href=\"chart/?yr=2011&p=.htm\">2011</a></font></b></font></td>\r\n",
      "<td align=\"right\"><font size=\"2\">$10,174.3</font></td>\r\n",
      "<td align=\"right\"><font size=\"2\"><font color=\"#ff0000\">-3.7%</font></font></td>\r\n",
      "<td align=\"right\"><font size=\"2\">1,283.0</font></td>\r\n",
      "<td align=\"right\"><font size=\"2\"><font color=\"#ff0000\">-4.2%</font></font></td>\r\n",
      "<td align=\"right\"><font size=\"2\">602</font></td>\r\n",
      "<td align=\"right\"><font size=\"2\">-</font></td>\r\n",
      "<td align=\"center\"><font size=\"2\">$7.93</font></td>\r\n",
      "<td align=\"right\"><font size=\"2\">-</font></td>\r\n",
      "<td align=\"center\"><font size=\"2\"><a href=\"/movies/?id=harrypotter72.htm\">Harry Potter / Deathly Hallows (P2)</a></font></td>\r\n",
      "</tr>\r\n",
      "\r\n",
      "<tr bgcolor=\"#ffffff\"><td align=\"center\"><font size=\"2\"><b><font size=\"4\"><a href=\"chart/?yr=2010&p=.htm\">2010</a></font></b></font></td>\r\n",
      "<td align=\"right\"><font size=\"2\">$10,565.6</font></td>\r\n",
      "<td align=\"right\"><font size=\"2\"><font color=\"#ff0000\">-0.3%</font></font></td>\r\n",
      "<td align=\"right\"><font size=\"2\">1,339.1</font></td>\r\n",
      "<td align=\"right\"><font size=\"2\"><font color=\"#ff0000\">-5.2%</font></font></td>\r\n",
      "<td align=\"right\"><font size=\"2\">536</font></td>\r\n",
      "<td align=\"right\"><font size=\"2\">-</font></td>\r\n",
      "<td align=\"center\"><font size=\"2\">$7.89</font></td>\r\n",
      "<td align=\"right\"><font size=\"2\">-</font></td>\r\n",
      "<td align=\"center\"><font size=\"2\"><a href=\"/movies/?id=toystory3.htm\">Toy Story 3</a></font></td>\r\n",
      "</tr>\r\n",
      "\r\n",
      "<tr bgcolor=\"#f4f4ff\"><td align=\"center\"><font size=\"2\"><b><font size=\"4\"><a href=\"chart/?yr=2009&p=.htm\">2009</a></font></b></font></td>\r\n",
      "<td align=\"right\"><font size=\"2\">$10,595.5</font></td>\r\n",
      "<td align=\"right\"><font size=\"2\"><font color=\"#0000ff\">+10.0%</font></font></td>\r\n",
      "<td align=\"right\"><font size=\"2\">1,412.7</font></td>\r\n",
      "<td align=\"right\"><font size=\"2\"><font color=\"#0000ff\">+5.3%</font></font></td>\r\n",
      "<td align=\"right\"><font size=\"2\">521</font></td>\r\n",
      "<td align=\"right\"><font size=\"2\">-</font></td>\r\n",
      "<td align=\"center\"><font size=\"2\">$7.50</font></td>\r\n",
      "<td align=\"right\"><font size=\"2\">-</font></td>\r\n",
      "<td align=\"center\"><font size=\"2\"><a href=\"/movies/?id=avatar.htm\">Avatar</a></font></td>\r\n",
      "</tr>\r\n",
      "\r\n",
      "<tr bgcolor=\"#ffffff\"><td align=\"center\"><font size=\"2\"><b><font size=\"4\"><a href=\"chart/?yr=2008&p=.htm\">2008</a></font></b></font></td>\r\n",
      "<td align=\"right\"><font size=\"2\">$9,630.7</font></td>\r\n",
      "<td align=\"right\"><font size=\"2\"><font color=\"#ff0000\">-0.3%</font></font></td>\r\n",
      "<td align=\"right\"><font size=\"2\">1,341.3</font></td>\r\n",
      "<td align=\"right\"><font size=\"2\"><font color=\"#ff0000\">-4.5%</font></font></td>\r\n",
      "<td align=\"right\"><font size=\"2\">608</font></td>\r\n",
      "<td align=\"right\"><font size=\"2\">-</font></td>\r\n",
      "<td align=\"center\"><font size=\"2\">$7.18</font></td>\r\n",
      "<td align=\"right\"><font size=\"2\">-</font></td>\r\n",
      "<td align=\"center\"><font size=\"2\"><a href=\"/movies/?id=darkknight.htm\">The Dark Knight</a></font></td>\r\n",
      "</tr>\r\n",
      "\r\n",
      "<tr bgcolor=\"#f4f4ff\"><td align=\"center\"><font size=\"2\"><b><font size=\"4\"><a href=\"chart/?yr=2007&p=.htm\">2007</a></font></b></font></td>\r\n",
      "<td align=\"right\"><font size=\"2\">$9,663.8</font></td>\r\n",
      "<td align=\"right\"><font size=\"2\"><font color=\"#0000ff\">+4.9%</font></font></td>\r\n",
      "<td align=\"right\"><font size=\"2\">1,404.6</font></td>\r\n",
      "<td align=\"right\"><font size=\"2\"><font color=\"#ff0000\">-0.1%</font></font></td>\r\n",
      "<td align=\"right\"><font size=\"2\">631</font></td>\r\n",
      "<td align=\"right\"><font size=\"2\">-</font></td>\r\n",
      "<td align=\"center\"><font size=\"2\">$6.88</font></td>\r\n",
      "<td align=\"right\"><font size=\"2\">-</font></td>\r\n",
      "<td align=\"center\"><font size=\"2\"><a href=\"/movies/?id=spiderman3.htm\">Spider-Man 3</a></font></td>\r\n",
      "</tr>\r\n",
      "\r\n",
      "<tr bgcolor=\"#ffffff\"><td align=\"center\"><font size=\"2\"><b><font size=\"4\"><a href=\"chart/?yr=2006&p=.htm\">2006</a></font></b></font></td>\r\n",
      "<td align=\"right\"><font size=\"2\">$9,209.5</font></td>\r\n",
      "<td align=\"right\"><font size=\"2\"><font color=\"#0000ff\">+4.2%</font></font></td>\r\n",
      "<td align=\"right\"><font size=\"2\">1,406.0</font></td>\r\n",
      "<td align=\"right\"><font size=\"2\"><font color=\"#0000ff\">+2.0%</font></font></td>\r\n",
      "<td align=\"right\"><font size=\"2\">608</font></td>\r\n",
      "<td align=\"right\"><font size=\"2\">-</font></td>\r\n",
      "<td align=\"center\"><font size=\"2\">$6.55</font></td>\r\n",
      "<td align=\"right\"><font size=\"2\">-</font></td>\r\n",
      "<td align=\"center\"><font size=\"2\"><a href=\"/movies/?id=piratesofthecaribbean2.htm\">Dead Man's Chest</a></font></td>\r\n",
      "</tr>\r\n",
      "\r\n",
      "<tr bgcolor=\"#f4f4ff\"><td align=\"center\"><font size=\"2\"><b><font size=\"4\"><a href=\"chart/?yr=2005&p=.htm\">2005</a></font></b></font></td>\r\n",
      "<td align=\"right\"><font size=\"2\">$8,840.5</font></td>\r\n",
      "<td align=\"right\"><font size=\"2\"><font color=\"#ff0000\">-5.8%</font></font></td>\r\n",
      "<td align=\"right\"><font size=\"2\">1,379.2</font></td>\r\n",
      "<td align=\"right\"><font size=\"2\"><font color=\"#ff0000\">-8.7%</font></font></td>\r\n",
      "<td align=\"right\"><font size=\"2\">547</font></td>\r\n",
      "<td align=\"right\"><font size=\"2\">-</font></td>\r\n",
      "<td align=\"center\"><font size=\"2\">$6.41</font></td>\r\n",
      "<td align=\"right\"><font size=\"2\">-</font></td>\r\n",
      "<td align=\"center\"><font size=\"2\"><a href=\"/movies/?id=starwars3.htm\">Revenge of the Sith</a></font></td>\r\n",
      "</tr>\r\n",
      "\r\n",
      "<tr bgcolor=\"#ffffff\"><td align=\"center\"><font size=\"2\"><b><font size=\"4\"><a href=\"chart/?yr=2004&p=.htm\">2004</a></font></b></font></td>\r\n",
      "<td align=\"right\"><font size=\"2\">$9,380.5</font></td>\r\n",
      "<td align=\"right\"><font size=\"2\"><font color=\"#0000ff\">+1.5%</font></font></td>\r\n",
      "<td align=\"right\"><font size=\"2\">1,510.5</font></td>\r\n",
      "<td align=\"right\"><font size=\"2\"><font color=\"#ff0000\">-1.4%</font></font></td>\r\n",
      "<td align=\"right\"><font size=\"2\">551</font></td>\r\n",
      "<td align=\"right\"><font size=\"2\">-</font></td>\r\n",
      "<td align=\"center\"><font size=\"2\">$6.21</font></td>\r\n",
      "<td align=\"right\"><font size=\"2\">-</font></td>\r\n",
      "<td align=\"center\"><font size=\"2\"><a href=\"/movies/?id=shrek2.htm\">Shrek 2</a></font></td>\r\n",
      "</tr>\r\n",
      "\r\n",
      "<tr bgcolor=\"#f4f4ff\"><td align=\"center\"><font size=\"2\"><b><font size=\"4\"><a href=\"chart/?yr=2003&p=.htm\">2003</a></font></b></font></td>\r\n",
      "<td align=\"right\"><font size=\"2\">$9,239.7</font></td>\r\n",
      "<td align=\"right\"><font size=\"2\"><font color=\"#0000ff\">+0.9%</font></font></td>\r\n",
      "<td align=\"right\"><font size=\"2\">1,532.3</font></td>\r\n",
      "<td align=\"right\"><font size=\"2\"><font color=\"#ff0000\">-2.8%</font></font></td>\r\n",
      "<td align=\"right\"><font size=\"2\">506</font></td>\r\n",
      "<td align=\"right\"><font size=\"2\">-</font></td>\r\n",
      "<td align=\"center\"><font size=\"2\">$6.03</font></td>\r\n",
      "<td align=\"right\"><font size=\"2\">$63.8</font></td>\r\n",
      "<td align=\"center\"><font size=\"2\"><a href=\"/movies/?id=returnoftheking.htm\">Return of the King</a></font></td>\r\n",
      "</tr>\r\n",
      "\r\n",
      "<tr bgcolor=\"#ffffff\"><td align=\"center\"><font size=\"2\"><b><font size=\"4\"><a href=\"chart/?yr=2002&p=.htm\">2002</a></font></b></font></td>\r\n",
      "<td align=\"right\"><font size=\"2\">$9,155.0</font></td>\r\n",
      "<td align=\"right\"><font size=\"2\"><font color=\"#0000ff\">+8.8%</font></font></td>\r\n",
      "<td align=\"right\"><font size=\"2\">1,575.7</font></td>\r\n",
      "<td align=\"right\"><font size=\"2\"><font color=\"#0000ff\">+6.0%</font></font></td>\r\n",
      "<td align=\"right\"><font size=\"2\">479</font></td>\r\n",
      "<td align=\"right\"><font size=\"2\">35,592</font></td>\r\n",
      "<td align=\"center\"><font size=\"2\">$5.81</font></td>\r\n",
      "<td align=\"right\"><font size=\"2\">$58.8</font></td>\r\n",
      "<td align=\"center\"><font size=\"2\"><a href=\"/movies/?id=spiderman.htm\">Spider-Man</a></font></td>\r\n",
      "</tr>\r\n",
      "\r\n",
      "<tr bgcolor=\"#f4f4ff\"><td align=\"center\"><font size=\"2\"><b><font size=\"4\"><a href=\"chart/?yr=2001&p=.htm\">2001</a></font></b></font></td>\r\n",
      "<td align=\"right\"><font size=\"2\">$8,412.5</font></td>\r\n",
      "<td align=\"right\"><font size=\"2\"><font color=\"#0000ff\">+9.8%</font></font></td>\r\n",
      "<td align=\"right\"><font size=\"2\">1,487.3</font></td>\r\n",
      "<td align=\"right\"><font size=\"2\"><font color=\"#0000ff\">+4.7%</font></font></td>\r\n",
      "<td align=\"right\"><font size=\"2\">482</font></td>\r\n",
      "<td align=\"right\"><font size=\"2\">36,764</font></td>\r\n",
      "<td align=\"center\"><font size=\"2\">$5.66</font></td>\r\n",
      "<td align=\"right\"><font size=\"2\">$47.7</font></td>\r\n",
      "<td align=\"center\"><font size=\"2\"><a href=\"/movies/?id=harrypotter.htm\">Harry Potter / Sorcerer's Stone</a></font></td>\r\n",
      "</tr>\r\n",
      "\r\n",
      "<tr bgcolor=\"#ffffff\"><td align=\"center\"><font size=\"2\"><b><font size=\"4\"><a href=\"chart/?yr=2000&p=.htm\">2000</a></font></b></font></td>\r\n",
      "<td align=\"right\"><font size=\"2\">$7,661.0</font></td>\r\n",
      "<td align=\"right\"><font size=\"2\"><font color=\"#0000ff\">+2.9%</font></font></td>\r\n",
      "<td align=\"right\"><font size=\"2\">1,420.8</font></td>\r\n",
      "<td align=\"right\"><font size=\"2\"><font color=\"#ff0000\">-3.0%</font></font></td>\r\n",
      "<td align=\"right\"><font size=\"2\">478</font></td>\r\n",
      "<td align=\"right\"><font size=\"2\">37,396</font></td>\r\n",
      "<td align=\"center\"><font size=\"2\">$5.39</font></td>\r\n",
      "<td align=\"right\"><font size=\"2\">$54.8</font></td>\r\n",
      "<td align=\"center\"><font size=\"2\"><a href=\"/movies/?id=grinch.htm\">The Grinch</a></font></td>\r\n",
      "</tr>\r\n",
      "\r\n",
      "<tr bgcolor=\"#f4f4ff\"><td align=\"center\"><font size=\"2\"><b><font size=\"4\"><a href=\"chart/?yr=1999&p=.htm\">1999</a></font></b></font></td>\r\n",
      "<td align=\"right\"><font size=\"2\">$7,448.0</font></td>\r\n",
      "<td align=\"right\"><font size=\"2\"><font color=\"#0000ff\">+7.2%</font></font></td>\r\n",
      "<td align=\"right\"><font size=\"2\">1,465.2</font></td>\r\n",
      "<td align=\"right\"><font size=\"2\"><font color=\"#ff0000\">-1.1%</font></font></td>\r\n",
      "<td align=\"right\"><font size=\"2\">461</font></td>\r\n",
      "<td align=\"right\"><font size=\"2\">37,185</font></td>\r\n",
      "<td align=\"center\"><font size=\"2\">$5.08</font></td>\r\n",
      "<td align=\"right\"><font size=\"2\">$51.5</font></td>\r\n",
      "<td align=\"center\"><font size=\"2\"><a href=\"/movies/?id=starwars.htm\">The Phantom Menace</a></font></td>\r\n",
      "</tr>\r\n",
      "\r\n",
      "<tr bgcolor=\"#ffffff\"><td align=\"center\"><font size=\"2\"><b><font size=\"4\"><a href=\"chart/?yr=1998&p=.htm\">1998</a></font></b></font></td>\r\n",
      "<td align=\"right\"><font size=\"2\">$6,949.0</font></td>\r\n",
      "<td align=\"right\"><font size=\"2\"><font color=\"#0000ff\">+9.2%</font></font></td>\r\n",
      "<td align=\"right\"><font size=\"2\">1,480.7</font></td>\r\n",
      "<td align=\"right\"><font size=\"2\"><font color=\"#0000ff\">+6.7%</font></font></td>\r\n",
      "<td align=\"right\"><font size=\"2\">509</font></td>\r\n",
      "<td align=\"right\"><font size=\"2\">34,186</font></td>\r\n",
      "<td align=\"center\"><font size=\"2\">$4.69</font></td>\r\n",
      "<td align=\"right\"><font size=\"2\">$52.7</font></td>\r\n",
      "<td align=\"center\"><font size=\"2\"><a href=\"/movies/?id=savingprivateryan.htm\">Saving Private Ryan</a></font></td>\r\n",
      "</tr>\r\n",
      "\r\n",
      "<tr bgcolor=\"#f4f4ff\"><td align=\"center\"><font size=\"2\"><b><font size=\"4\"><a href=\"chart/?yr=1997&p=.htm\">1997</a></font></b></font></td>\r\n",
      "<td align=\"right\"><font size=\"2\">$6,365.9</font></td>\r\n",
      "<td align=\"right\"><font size=\"2\"><font color=\"#0000ff\">+7.7%</font></font></td>\r\n",
      "<td align=\"right\"><font size=\"2\">1,387.7</font></td>\r\n",
      "<td align=\"right\"><font size=\"2\"><font color=\"#0000ff\">+3.7%</font></font></td>\r\n",
      "<td align=\"right\"><font size=\"2\">510</font></td>\r\n",
      "<td align=\"right\"><font size=\"2\">31,640</font></td>\r\n",
      "<td align=\"center\"><font size=\"2\">$4.59</font></td>\r\n",
      "<td align=\"right\"><font size=\"2\">$53.4</font></td>\r\n",
      "<td align=\"center\"><font size=\"2\"><a href=\"/movies/?id=titanic.htm\">Titanic</a></font></td>\r\n",
      "</tr>\r\n",
      "\r\n",
      "<tr bgcolor=\"#ffffff\"><td align=\"center\"><font size=\"2\"><b><font size=\"4\"><a href=\"chart/?yr=1996&p=.htm\">1996</a></font></b></font></td>\r\n",
      "<td align=\"right\"><font size=\"2\">$5,911.5</font></td>\r\n",
      "<td align=\"right\"><font size=\"2\"><font color=\"#0000ff\">+7.6%</font></font></td>\r\n",
      "<td align=\"right\"><font size=\"2\">1,338.6</font></td>\r\n",
      "<td align=\"right\"><font size=\"2\"><font color=\"#0000ff\">+6.0%</font></font></td>\r\n",
      "<td align=\"right\"><font size=\"2\">471</font></td>\r\n",
      "<td align=\"right\"><font size=\"2\">29,690</font></td>\r\n",
      "<td align=\"center\"><font size=\"2\">$4.42</font></td>\r\n",
      "<td align=\"right\"><font size=\"2\">$39.8</font></td>\r\n",
      "<td align=\"center\"><font size=\"2\"><a href=\"/movies/?id=independenceday.htm\">Independence Day</a></font></td>\r\n",
      "</tr>\r\n",
      "\r\n",
      "<tr bgcolor=\"#f4f4ff\"><td align=\"center\"><font size=\"2\"><b><font size=\"4\"><a href=\"chart/?yr=1995&p=.htm\">1995</a></font></b></font></td>\r\n",
      "<td align=\"right\"><font size=\"2\">$5,493.5</font></td>\r\n",
      "<td align=\"right\"><font size=\"2\"><font color=\"#0000ff\">+1.8%</font></font></td>\r\n",
      "<td align=\"right\"><font size=\"2\">1,262.6</font></td>\r\n",
      "<td align=\"right\"><font size=\"2\"><font color=\"#ff0000\">-2.3%</font></font></td>\r\n",
      "<td align=\"right\"><font size=\"2\">411</font></td>\r\n",
      "<td align=\"right\"><font size=\"2\">27,805</font></td>\r\n",
      "<td align=\"center\"><font size=\"2\">$4.35</font></td>\r\n",
      "<td align=\"right\"><font size=\"2\">$36.4</font></td>\r\n",
      "<td align=\"center\"><font size=\"2\"><a href=\"/movies/?id=toystory.htm\">Toy Story</a></font></td>\r\n",
      "</tr>\r\n",
      "\r\n",
      "<tr bgcolor=\"#ffffff\"><td align=\"center\"><font size=\"2\"><b><font size=\"4\"><a href=\"chart/?yr=1994&p=.htm\">1994</a></font></b></font></td>\r\n",
      "<td align=\"right\"><font size=\"2\">$5,396.2</font></td>\r\n",
      "<td align=\"right\"><font size=\"2\"><font color=\"#0000ff\">+4.7%</font></font></td>\r\n",
      "<td align=\"right\"><font size=\"2\">1,291.7</font></td>\r\n",
      "<td align=\"right\"><font size=\"2\"><font color=\"#0000ff\">+3.8%</font></font></td>\r\n",
      "<td align=\"right\"><font size=\"2\">453</font></td>\r\n",
      "<td align=\"right\"><font size=\"2\">26,586</font></td>\r\n",
      "<td align=\"center\"><font size=\"2\">$4.18</font></td>\r\n",
      "<td align=\"right\"><font size=\"2\">$34.3</font></td>\r\n",
      "<td align=\"center\"><font size=\"2\"><a href=\"/movies/?id=forrestgump.htm\">Forrest Gump</a></font></td>\r\n",
      "</tr>\r\n",
      "\r\n",
      "<tr bgcolor=\"#f4f4ff\"><td align=\"center\"><font size=\"2\"><b><font size=\"4\"><a href=\"chart/?yr=1993&p=.htm\">1993</a></font></b></font></td>\r\n",
      "<td align=\"right\"><font size=\"2\">$5,154.2</font></td>\r\n",
      "<td align=\"right\"><font size=\"2\"><font color=\"#0000ff\">+5.8%</font></font></td>\r\n",
      "<td align=\"right\"><font size=\"2\">1,244.0</font></td>\r\n",
      "<td align=\"right\"><font size=\"2\"><font color=\"#0000ff\">+6.0%</font></font></td>\r\n",
      "<td align=\"right\"><font size=\"2\">462</font></td>\r\n",
      "<td align=\"right\"><font size=\"2\">25,737</font></td>\r\n",
      "<td align=\"center\"><font size=\"2\">$4.14</font></td>\r\n",
      "<td align=\"right\"><font size=\"2\">$29.9</font></td>\r\n",
      "<td align=\"center\"><font size=\"2\"><a href=\"/movies/?id=jurassicpark.htm\">Jurassic Park</a></font></td>\r\n",
      "</tr>\r\n",
      "\r\n",
      "<tr bgcolor=\"#ffffff\"><td align=\"center\"><font size=\"2\"><b><font size=\"4\"><a href=\"chart/?yr=1992&p=.htm\">1992</a></font></b></font></td>\r\n",
      "<td align=\"right\"><font size=\"2\">$4,871.0</font></td>\r\n",
      "<td align=\"right\"><font size=\"2\"><font color=\"#0000ff\">+1.4%</font></font></td>\r\n",
      "<td align=\"right\"><font size=\"2\">1,173.2</font></td>\r\n",
      "<td align=\"right\"><font size=\"2\"><font color=\"#0000ff\">+2.9%</font></font></td>\r\n",
      "<td align=\"right\"><font size=\"2\">480</font></td>\r\n",
      "<td align=\"right\"><font size=\"2\">25,105</font></td>\r\n",
      "<td align=\"center\"><font size=\"2\">$4.15</font></td>\r\n",
      "<td align=\"right\"><font size=\"2\">$28.9</font></td>\r\n",
      "<td align=\"center\"><font size=\"2\"><a href=\"/movies/?id=aladdin.htm\">Aladdin</a></font></td>\r\n",
      "</tr>\r\n",
      "\r\n",
      "<tr bgcolor=\"#f4f4ff\"><td align=\"center\"><font size=\"2\"><b><font size=\"4\"><a href=\"chart/?yr=1991&p=.htm\">1991</a></font></b></font></td>\r\n",
      "<td align=\"right\"><font size=\"2\">$4,803.2</font></td>\r\n",
      "<td align=\"right\"><font size=\"2\"><font color=\"#ff0000\">-4.4%</font></font></td>\r\n",
      "<td align=\"right\"><font size=\"2\">1,140.6</font></td>\r\n",
      "<td align=\"right\"><font size=\"2\"><font color=\"#ff0000\">-4.0%</font></font></td>\r\n",
      "<td align=\"right\"><font size=\"2\">458</font></td>\r\n",
      "<td align=\"right\"><font size=\"2\">24,570</font></td>\r\n",
      "<td align=\"center\"><font size=\"2\">$4.21</font></td>\r\n",
      "<td align=\"right\"><font size=\"2\">$26.1</font></td>\r\n",
      "<td align=\"center\"><font size=\"2\"><a href=\"/movies/?id=terminator2.htm\">Terminator 2</a></font></td>\r\n",
      "</tr>\r\n",
      "\r\n",
      "<tr bgcolor=\"#ffffff\"><td align=\"center\"><font size=\"2\"><b><font size=\"4\"><a href=\"chart/?yr=1990&p=.htm\">1990</a></font></b></font></td>\r\n",
      "<td align=\"right\"><font size=\"2\">$5,021.8</font></td>\r\n",
      "<td align=\"right\"><font size=\"2\"><font color=\"#ff0000\">-0.2%</font></font></td>\r\n",
      "<td align=\"right\"><font size=\"2\">1,188.6</font></td>\r\n",
      "<td align=\"right\"><font size=\"2\"><font color=\"#ff0000\">-5.9%</font></font></td>\r\n",
      "<td align=\"right\"><font size=\"2\">410</font></td>\r\n",
      "<td align=\"right\"><font size=\"2\">23,689</font></td>\r\n",
      "<td align=\"center\"><font size=\"2\">$4.23</font></td>\r\n",
      "<td align=\"right\"><font size=\"2\">$26.8</font></td>\r\n",
      "<td align=\"center\"><font size=\"2\"><a href=\"/movies/?id=homealone.htm\">Home Alone</a></font></td>\r\n",
      "</tr>\r\n",
      "\r\n",
      "<tr bgcolor=\"#f4f4ff\"><td align=\"center\"><font size=\"2\"><b><font size=\"4\"><a href=\"chart/?yr=1989&p=.htm\">1989</a></font></b></font></td>\r\n",
      "<td align=\"right\"><font size=\"2\">$5,033.4</font></td>\r\n",
      "<td align=\"right\"><font size=\"2\"><font color=\"#0000ff\">+12.9%</font></font></td>\r\n",
      "<td align=\"right\"><font size=\"2\">1,262.8</font></td>\r\n",
      "<td align=\"right\"><font size=\"2\"><font color=\"#0000ff\">+16.4%</font></font></td>\r\n",
      "<td align=\"right\"><font size=\"2\">502</font></td>\r\n",
      "<td align=\"right\"><font size=\"2\">23,132</font></td>\r\n",
      "<td align=\"center\"><font size=\"2\">$3.97</font></td>\r\n",
      "<td align=\"right\"><font size=\"2\">$23.5</font></td>\r\n",
      "<td align=\"center\"><font size=\"2\"><a href=\"/movies/?id=batman.htm\">Batman</a></font></td>\r\n",
      "</tr>\r\n",
      "\r\n",
      "<tr bgcolor=\"#ffffff\"><td align=\"center\"><font size=\"2\"><b><font size=\"4\"><a href=\"chart/?yr=1988&p=.htm\">1988</a></font></b></font></td>\r\n",
      "<td align=\"right\"><font size=\"2\">$4,458.4</font></td>\r\n",
      "<td align=\"right\"><font size=\"2\"><font color=\"#0000ff\">+4.8%</font></font></td>\r\n",
      "<td align=\"right\"><font size=\"2\">1,084.8</font></td>\r\n",
      "<td align=\"right\"><font size=\"2\"><font color=\"#ff0000\">-0.3%</font></font></td>\r\n",
      "<td align=\"right\"><font size=\"2\">510</font></td>\r\n",
      "<td align=\"right\"><font size=\"2\">23,234</font></td>\r\n",
      "<td align=\"center\"><font size=\"2\">$4.11</font></td>\r\n",
      "<td align=\"right\"><font size=\"2\">$18.1</font></td>\r\n",
      "<td align=\"center\"><font size=\"2\"><a href=\"/movies/?id=rainman.htm\">Rain Man</a></font></td>\r\n",
      "</tr>\r\n",
      "\r\n",
      "<tr bgcolor=\"#f4f4ff\"><td align=\"center\"><font size=\"2\"><b><font size=\"4\"><a href=\"chart/?yr=1987&p=.htm\">1987</a></font></b></font></td>\r\n",
      "<td align=\"right\"><font size=\"2\">$4,252.9</font></td>\r\n",
      "<td align=\"right\"><font size=\"2\"><font color=\"#0000ff\">+12.6%</font></font></td>\r\n",
      "<td align=\"right\"><font size=\"2\">1,088.5</font></td>\r\n",
      "<td align=\"right\"><font size=\"2\"><font color=\"#0000ff\">+7.0%</font></font></td>\r\n",
      "<td align=\"right\"><font size=\"2\">509</font></td>\r\n",
      "<td align=\"right\"><font size=\"2\">23,555</font></td>\r\n",
      "<td align=\"center\"><font size=\"2\">$3.91</font></td>\r\n",
      "<td align=\"right\"><font size=\"2\">$20.1</font></td>\r\n",
      "<td align=\"center\"><font size=\"2\"><a href=\"/movies/?id=threemenandababy.htm\">Three Men and a Baby</a></font></td>\r\n",
      "</tr>\r\n",
      "\r\n",
      "<tr bgcolor=\"#ffffff\"><td align=\"center\"><font size=\"2\"><b><font size=\"4\"><a href=\"chart/?yr=1986&p=.htm\">1986</a></font></b></font></td>\r\n",
      "<td align=\"right\"><font size=\"2\">$3,778.0</font></td>\r\n",
      "<td align=\"right\"><font size=\"2\"><font color=\"#0000ff\">+0.8%</font></font></td>\r\n",
      "<td align=\"right\"><font size=\"2\">1,017.2</font></td>\r\n",
      "<td align=\"right\"><font size=\"2\"><font color=\"#ff0000\">-3.7%</font></font></td>\r\n",
      "<td align=\"right\"><font size=\"2\">451</font></td>\r\n",
      "<td align=\"right\"><font size=\"2\">22,765</font></td>\r\n",
      "<td align=\"center\"><font size=\"2\">$3.71</font></td>\r\n",
      "<td align=\"right\"><font size=\"2\">$17.5</font></td>\r\n",
      "<td align=\"center\"><font size=\"2\"><a href=\"/movies/?id=topgun.htm\">Top Gun</a></font></td>\r\n",
      "</tr>\r\n",
      "\r\n",
      "<tr bgcolor=\"#f4f4ff\"><td align=\"center\"><font size=\"2\"><b><font size=\"4\"><a href=\"chart/?yr=1985&p=.htm\">1985</a></font></b></font></td>\r\n",
      "<td align=\"right\"><font size=\"2\">$3,749.2</font></td>\r\n",
      "<td align=\"right\"><font size=\"2\"><font color=\"#ff0000\">-7.0%</font></font></td>\r\n",
      "<td align=\"right\"><font size=\"2\">1,056.1</font></td>\r\n",
      "<td align=\"right\"><font size=\"2\"><font color=\"#ff0000\">-11.9%</font></font></td>\r\n",
      "<td align=\"right\"><font size=\"2\">470</font></td>\r\n",
      "<td align=\"right\"><font size=\"2\">21,147</font></td>\r\n",
      "<td align=\"center\"><font size=\"2\">$3.55</font></td>\r\n",
      "<td align=\"right\"><font size=\"2\">$16.8</font></td>\r\n",
      "<td align=\"center\"><font size=\"2\"><a href=\"/movies/?id=backtothefuture.htm\">Back to the Future</a></font></td>\r\n",
      "</tr>\r\n",
      "\r\n",
      "<tr bgcolor=\"#ffffff\"><td align=\"center\"><font size=\"2\"><b><font size=\"4\"><a href=\"chart/?yr=1984&p=.htm\">1984</a></font></b></font></td>\r\n",
      "<td align=\"right\"><font size=\"2\">$4,031.0</font></td>\r\n",
      "<td align=\"right\"><font size=\"2\"><font color=\"#0000ff\">+7.0%</font></font></td>\r\n",
      "<td align=\"right\"><font size=\"2\">1,199.0</font></td>\r\n",
      "<td align=\"right\"><font size=\"2\"><font color=\"#0000ff\">+0.2%</font></font></td>\r\n",
      "<td align=\"right\"><font size=\"2\">536</font></td>\r\n",
      "<td align=\"right\"><font size=\"2\">20,200</font></td>\r\n",
      "<td align=\"center\"><font size=\"2\">$3.36</font></td>\r\n",
      "<td align=\"right\"><font size=\"2\">$14.4</font></td>\r\n",
      "<td align=\"center\"><font size=\"2\"><a href=\"/movies/?id=beverlyhillscop.htm\">Beverly Hills Cop</a></font></td>\r\n",
      "</tr>\r\n",
      "\r\n",
      "<tr bgcolor=\"#f4f4ff\"><td align=\"center\"><font size=\"2\"><b><font size=\"4\"><a href=\"chart/?yr=1983&p=.htm\">1983</a></font></b></font></td>\r\n",
      "<td align=\"right\"><font size=\"2\">$3,766.0</font></td>\r\n",
      "<td align=\"right\"><font size=\"2\"><font color=\"#0000ff\">+9.1%</font></font></td>\r\n",
      "<td align=\"right\"><font size=\"2\">1,197.0</font></td>\r\n",
      "<td align=\"right\"><font size=\"2\"><font color=\"#0000ff\">+1.9%</font></font></td>\r\n",
      "<td align=\"right\"><font size=\"2\">495</font></td>\r\n",
      "<td align=\"right\"><font size=\"2\">18,884</font></td>\r\n",
      "<td align=\"center\"><font size=\"2\">$3.15</font></td>\r\n",
      "<td align=\"right\"><font size=\"2\">$11.9</font></td>\r\n",
      "<td align=\"center\"><font size=\"2\"><a href=\"/movies/?id=starwars6.htm\">Return of the Jedi</a></font></td>\r\n",
      "</tr>\r\n",
      "\r\n",
      "<tr bgcolor=\"#ffffff\"><td align=\"center\"><font size=\"2\"><b><font size=\"4\"><a href=\"chart/?yr=1982&p=.htm\">1982</a></font></b></font></td>\r\n",
      "<td align=\"right\"><font size=\"2\">$3,453.0</font></td>\r\n",
      "<td align=\"right\"><font size=\"2\"><font color=\"#0000ff\">+16.4%</font></font></td>\r\n",
      "<td align=\"right\"><font size=\"2\">1,175.0</font></td>\r\n",
      "<td align=\"right\"><font size=\"2\"><font color=\"#0000ff\">+10.1%</font></font></td>\r\n",
      "<td align=\"right\"><font size=\"2\">428</font></td>\r\n",
      "<td align=\"right\"><font size=\"2\">18,020</font></td>\r\n",
      "<td align=\"center\"><font size=\"2\">$2.94</font></td>\r\n",
      "<td align=\"right\"><font size=\"2\">$11.8</font></td>\r\n",
      "<td align=\"center\"><font size=\"2\"><a href=\"/movies/?id=et.htm\">E.T.</a></font></td>\r\n",
      "</tr>\r\n",
      "\r\n",
      "<tr bgcolor=\"#f4f4ff\"><td align=\"center\"><font size=\"2\"><b><font size=\"4\"><a href=\"chart/?yr=1981&p=.htm\">1981</a></font></b></font></td>\r\n",
      "<td align=\"right\"><font size=\"2\">$2,966.0</font></td>\r\n",
      "<td align=\"right\"><font size=\"2\"><font color=\"#0000ff\">+7.9%</font></font></td>\r\n",
      "<td align=\"right\"><font size=\"2\">1,067.0</font></td>\r\n",
      "<td align=\"right\"><font size=\"2\"><font color=\"#0000ff\">+4.4%</font></font></td>\r\n",
      "<td align=\"right\"><font size=\"2\">173</font></td>\r\n",
      "<td align=\"right\"><font size=\"2\">18,040</font></td>\r\n",
      "<td align=\"center\"><font size=\"2\">$2.78</font></td>\r\n",
      "<td align=\"right\"><font size=\"2\">$11.3</font></td>\r\n",
      "<td align=\"center\"><font size=\"2\"><a href=\"/movies/?id=raidersofthelostark.htm\">Raiders / Lost Ark</a></font></td>\r\n",
      "</tr>\r\n",
      "\r\n",
      "<tr bgcolor=\"#ffffff\"><td align=\"center\"><font size=\"2\"><b><font size=\"4\"><a href=\"chart/?yr=1980&p=.htm\">1980</a></font></b></font></td>\r\n",
      "<td align=\"right\"><font size=\"2\">$2,749.0</font></td>\r\n",
      "<td align=\"right\"><font size=\"2\">-</font></td>\r\n",
      "<td align=\"right\"><font size=\"2\">1,022.0</font></td>\r\n",
      "<td align=\"right\"><font size=\"2\">-</font></td>\r\n",
      "<td align=\"right\"><font size=\"2\">161</font></td>\r\n",
      "<td align=\"right\"><font size=\"2\">17,590</font></td>\r\n",
      "<td align=\"center\"><font size=\"2\">$2.69</font></td>\r\n",
      "<td align=\"right\"><font size=\"2\">$9.4</font></td>\r\n",
      "<td align=\"center\"><font size=\"2\"><a href=\"/movies/?id=starwars5.htm\">The Empire Strikes Back</a></font></td>\r\n",
      "</tr>\r\n",
      "\r\n",
      "</table>\n",
      "<p align=\"center\">\n",
      "<FONT SIZE=2>* In millions. Total Gross is the calendar gross for that year, meaning \n",
      "actual revenues during the time period, including holdovers from previous year.  For a full discussion of calendar grosses, see our page: <a href=\"/about/boxoffice.htm\">About Box Office Tracking</a>.<br>\n",
      "^ Production cost only.<br>\n",
      "Number of Movies for 1980 and 1981 indicate only the number of major releases that year.</FONT>\n",
      "</p>\n",
      "\n",
      "<br></td><td width=\"300\" align=\"center\" valign=\"top\"><script type=\"text/javascript\">\n",
      "    googletag.cmd.push(function() {\n",
      "        googletag.defineSlot(\"/4215/imdb2.bom.other\", [[300, 250]], \"ad-slot-2\").addService(googletag.pubads().setTargeting(\"p\", \"rh\"));\n",
      "        googletag.pubads().enableSingleRequest();\n",
      "        googletag.enableServices();\n",
      "    });\n",
      "    googletag.cmd.push(function() { googletag.display(\"ad-slot-2\"); });\n",
      "</script></td></tr></table><br><br>\n",
      "\t\t\t<table border=\"0\" cellspacing=\"0\" cellpadding=\"0\" width=\"100%\">\n",
      "\t\t\t\t<tr><td bgcolor=\"#8b0000\" height=\"1\" colspan=\"2\"><img src=\"/images/space.gif\" border=\"0\" width=\"1\" height=\"5\"></td>\n",
      "\t\t\t\t</tr>\n",
      "\t\t\t</table>\n",
      "\n",
      "\t\t</td>\n",
      "\t</tr>\n",
      "</table>\n",
      "\n",
      "\t</div>\n",
      "\t</div>\n",
      "\t<div id=\"hp_footer\">\n",
      "\t\t<div style=\"padding-bottom: 20px;\">\n",
      "\n",
      "\t\t\t<div style=\"margin: 0px 121px; vertical-align: top;\">\n",
      "\t\t\t\t<div id=\"footer_links\">\n",
      "\t\t\t\t\t<ul class=\"footer_link_list\">\n",
      "\t\t\t\t\t\t<li><strong>Latest Updates</strong></li>\n",
      "\t\t\t\t\t\t<li><a href=\"/news/?ref=ft\">Movie News</a>\n",
      "\t\t\t\t\t\t<li><a href=\"/daily/chart/?ref=ft\">Daily Chart</a></li>\n",
      "\t\t\t\t\t\t<li><a href=\"/weekend/chart/?ref=ft\">Weekend Chart</a></li>\n",
      "\t\t\t\t\t\t<li><a href=\"/alltime/?ref=ft\">All Time Charts</a></li>\n",
      "\t\t\t\t\t\t<li><a href=\"/intl/?ref=ft\">International Charts</a></li>\n",
      "\t\t\t\t\t</ul>\n",
      "\t\t\t\t\t<!--\n",
      "\t\t\t\t\t<ul class=\"footer_link_list\">\n",
      "\t\t\t\t\t\t<li><strong>Popular Movies</strong></li>\n",
      "\t\t\t\t\t\t\t\t\t\t\t</ul>\n",
      "\t\t\t\t\t-->\n",
      "\t\t\t\t\t<ul class=\"footer_link_list\">\n",
      "\t\t\t\t\t\t<li><strong>Indices</strong></li>\n",
      "\t\t\t\t\t\t<li><a href=\"/people/?ref=ft\">People</a></li>\n",
      "\t\t\t\t\t\t<li><a href=\"/genres/?ref=ft\">Genres</a></li>\n",
      "\t\t\t\t\t\t<li><a href=\"/franchises/?ref=ft\">Franchises</a></li>\n",
      "\t\t\t\t\t\t<li><a href=\"/showdowns/?ref=ft\">Showdowns</a></li>\n",
      "\t\t\t\t\t</ul>\n",
      "\t\t\t\t\t<ul class=\"footer_link_list\">\n",
      "\t\t\t\t\t\t<li><strong>Other</strong></li>\n",
      "\t\t\t\t\t\t<li><a href=\"/about/?ref=ft\">About This Site</a></li>\n",
      "\t\t\t\t\t\t<li><a href=\"/about/advertise.htm?ref=ft\">Advertising</a></li>\n",
      "\t\t\t\t\t</ul>\n",
      "\t\t\t\t</div>\n",
      "\t\t\t\t<div id=\"copyright\">\n",
      "\t\t\t\t\t<a href=\"/?ref=ft\"><img src=\"/img/misc/bom_logo1.png\" width=\"245\" height=\"56\" alt=\"Box Office Mojo\"></a><br>\n",
      "\t\t\t\t\t<p>An <a href=\"http://imdb.com/\"><img src=\"/img/misc/IMDbSm.png\" width=\"34\" height=\"16\" alt=\"IMDb\" valign=\"middle\"></a> company<br><br></p>\n",
      "\t\t\t\t\t<p>&copy; <a href=\"http://imdb.com/\">IMDb.com</a>, Inc. or its affiliates. All rights reserved. Box Office Mojo and IMDb are trademarks or registered trademarks of IMDb.com, Inc. or its affiliates. <a href=\"/about/termsofuse.htm\">Terms of Use</a> and <a href=\"/about/privacy.htm\">Privacy Policy</a> under which this service is provided to you.</p>\n",
      "\t\t\t\t\t</div>\t\t\t\n",
      "\t\t\t\t</div>\n",
      "\t\t\t\t<div style=\"clear:both;\">\n",
      "\t\t\t\t<div>\n",
      "\t\t\t\t <script type=\"text/javascript\">\n",
      "    googletag.cmd.push(function() {\n",
      "        googletag.defineSlot(\"/4215/imdb2.bom.other\", [[728, 90]], \"ad-slot-3\").addService(googletag.pubads().setTargeting(\"p\", \"b\"));\n",
      "        googletag.pubads().enableSingleRequest();\n",
      "        googletag.enableServices();\n",
      "    });\n",
      "    googletag.cmd.push(function() { googletag.display(\"ad-slot-3\"); });\n",
      "</script></div>\n",
      "\n",
      "\t\t\t\t</div>\n",
      "\t</div>\n",
      "</div>\n",
      "\n",
      "\n",
      "\n",
      "\n",
      "\n",
      "<!-- Page generated in 0.05 seconds | . -->\n",
      "<script>\n",
      "  var _comscore = _comscore || [];\n",
      "  _comscore.push({ c1: \"2\", c2: \"6034961\" });\n",
      "  (function() {\n",
      "    var s = document.createElement(\"script\"), el = document.getElementsByTagName(\"script\")[0]; s.async = true;\n",
      "    s.src = (document.location.protocol == \"https:\" ? \"https://sb\" : \"http://b\") + \".scorecardresearch.com/beacon.js\";\n",
      "  el.parentNode.insertBefore(s, el);\n",
      "  })();\n",
      "</script>\n",
      "<noscript>\n",
      "    <img src=\"http://b.scorecardresearch.com/p?c1=2&c2=6034961&cv=2.0&cj=1\" />\n",
      "</noscript>\n",
      "</BODY>\n",
      "</html>\n",
      "\n"
     ]
    }
   ],
   "source": [
    "print(response.text)"
   ]
  },
  {
   "cell_type": "code",
   "execution_count": 8,
   "metadata": {
    "collapsed": false
   },
   "outputs": [
    {
     "name": "stderr",
     "output_type": "stream",
     "text": [
      "/Users/williamcosby/anaconda/envs/data/lib/python2.7/site-packages/bs4/__init__.py:166: UserWarning: No parser was explicitly specified, so I'm using the best available HTML parser for this system (\"html.parser\"). This usually isn't a problem, but if you run this code on another system, or in a different virtual environment, it may use a different parser and behave differently.\n",
      "\n",
      "To get rid of this warning, change this:\n",
      "\n",
      " BeautifulSoup([your markup])\n",
      "\n",
      "to this:\n",
      "\n",
      " BeautifulSoup([your markup], \"html.parser\")\n",
      "\n",
      "  markup_type=markup_type))\n"
     ]
    }
   ],
   "source": [
    "page = response.text\n",
    "soup = BeautifulSoup(page)"
   ]
  },
  {
   "cell_type": "code",
   "execution_count": 9,
   "metadata": {
    "collapsed": false
   },
   "outputs": [
    {
     "data": {
      "text/plain": [
       "<title>Movie Box Office Results by Year, 1980-Present - Box Office Mojo</title>"
      ]
     },
     "execution_count": 9,
     "metadata": {},
     "output_type": "execute_result"
    }
   ],
   "source": [
    "soup.find('title')"
   ]
  },
  {
   "cell_type": "code",
   "execution_count": 23,
   "metadata": {
    "collapsed": false
   },
   "outputs": [],
   "source": [
    "# movie_list = soup.find(\"table\",{ \"class\" : \"wikitable sortable plainrowheaders\" })\n",
    "movie_table = soup.find_all('table')[1]"
   ]
  },
  {
   "cell_type": "code",
   "execution_count": 29,
   "metadata": {
    "collapsed": false
   },
   "outputs": [
    {
     "name": "stdout",
     "output_type": "stream",
     "text": [
      "<table border=\"0\" cellpadding=\"0\" cellspacing=\"0\" width=\"100%\"><tr><td align=\"center\" valign=\"top\">\n",
      "<p align=\"center\"><font face=\"Verdana\" size=\"2\">Related Chart: <b>\n",
      "<a href=\"/yearly/chart/past365.htm\">The Past 365 Days</a></b></font></p>\n",
      "<table border=\"0\" cellpadding=\"5\" cellspacing=\"1\"><tr bgcolor=\"#dcdcdc\"><td align=\"center\"><font size=\"2\"><a href=\"/yearly/?sort=year&amp;order=ASC&amp;p=.htm\"><b>Year</b></a></font></td><td align=\"center\"><font size=\"2\"><a href=\"/yearly/?sort=totalgross&amp;order=DESC&amp;p=.htm\">Total<br>Gross*</br></a></font></td><td align=\"center\"><font size=\"2\"><a href=\"/yearly/?sort=grosschange&amp;order=ASC&amp;p=.htm\">Change</a></font></td><td align=\"center\"><font size=\"2\"><a href=\"/yearly/?sort=totaltickets&amp;order=DESC&amp;p=.htm\">Tickets<br>Sold</br></a></font></td><td align=\"center\"><font size=\"2\"><a href=\"/yearly/?sort=ticketchange&amp;order=ASC&amp;p=.htm\">Change</a></font></td><td align=\"center\"><font size=\"2\"><a href=\"/yearly/?sort=newmovies&amp;order=DESC&amp;p=.htm\"># of<br>Movies</br></a></font></td><td align=\"center\"><font size=\"2\"><a href=\"/yearly/?sort=screens&amp;order=DESC&amp;p=.htm\">Total<br>Screens</br></a></font></td><td align=\"center\"><font size=\"2\"><a href=\"/yearly/?sort=ticketprice&amp;order=DESC&amp;p=.htm\">Avg.<br>Ticket<br>Price</br></br></a></font></td><td align=\"center\"><font size=\"2\"><a href=\"/yearly/?sort=avgcost&amp;order=DESC&amp;p=.htm\">Avg.<br>Cost^</br></a></font></td><td align=\"center\"><font size=\"2\"><a href=\"/yearly/?sort=num1movie&amp;order=ASC&amp;p=.htm\">#1 Movie</a></font></td></tr><tr bgcolor=\"#ffff99\"><td align=\"center\"><font size=\"2\"><b><font size=\"4\"><a href=\"chart/?yr=2016&amp;p=.htm\">2016</a></font></b></font></td>\n",
      "<td align=\"right\"><font size=\"2\">$6,111.9</font></td>\n",
      "<td align=\"right\"><font size=\"2\">-</font></td>\n",
      "<td align=\"right\"><font size=\"2\">712.3</font></td>\n",
      "<td align=\"right\"><font size=\"2\">-</font></td>\n",
      "<td align=\"right\"><font size=\"2\">362</font></td>\n",
      "<td align=\"right\"><font size=\"2\">-</font></td>\n",
      "<td align=\"center\"><font size=\"2\">$8.58</font></td>\n",
      "<td align=\"right\"><font size=\"2\">-</font></td>\n",
      "<td align=\"center\"><font size=\"2\"><a href=\"/movies/?id=pixar2015.htm\">Finding Dory</a></font></td>\n",
      "</tr>\n",
      "<tr bgcolor=\"#f4f4ff\"><td align=\"center\"><font size=\"2\"><b><font size=\"4\"><a href=\"chart/?yr=2015&amp;p=.htm\">2015</a></font></b></font></td>\n",
      "<td align=\"right\"><font size=\"2\">$11,128.5</font></td>\n",
      "<td align=\"right\"><font size=\"2\"><font color=\"#0000ff\">+7.4%</font></font></td>\n",
      "<td align=\"right\"><font size=\"2\">1,320.1</font></td>\n",
      "<td align=\"right\"><font size=\"2\"><font color=\"#0000ff\">+4.1%</font></font></td>\n",
      "<td align=\"right\"><font size=\"2\">701</font></td>\n",
      "<td align=\"right\"><font size=\"2\">-</font></td>\n",
      "<td align=\"center\"><font size=\"2\">$8.43</font></td>\n",
      "<td align=\"right\"><font size=\"2\">-</font></td>\n",
      "<td align=\"center\"><font size=\"2\"><a href=\"/movies/?id=starwars7.htm\">Star Wars: The Force Awakens</a></font></td>\n",
      "</tr>\n",
      "<tr bgcolor=\"#ffffff\"><td align=\"center\"><font size=\"2\"><b><font size=\"4\"><a href=\"chart/?yr=2014&amp;p=.htm\">2014</a></font></b></font></td>\n",
      "<td align=\"right\"><font size=\"2\">$10,360.8</font></td>\n",
      "<td align=\"right\"><font size=\"2\"><font color=\"#ff0000\">-5.2%</font></font></td>\n",
      "<td align=\"right\"><font size=\"2\">1,268.2</font></td>\n",
      "<td align=\"right\"><font size=\"2\"><font color=\"#ff0000\">-5.6%</font></font></td>\n",
      "<td align=\"right\"><font size=\"2\">702</font></td>\n",
      "<td align=\"right\"><font size=\"2\">-</font></td>\n",
      "<td align=\"center\"><font size=\"2\">$8.17</font></td>\n",
      "<td align=\"right\"><font size=\"2\">-</font></td>\n",
      "<td align=\"center\"><font size=\"2\"><a href=\"/movies/?id=americansniper.htm\">American Sniper</a></font></td>\n",
      "</tr>\n",
      "<tr bgcolor=\"#f4f4ff\"><td align=\"center\"><font size=\"2\"><b><font size=\"4\"><a href=\"chart/?yr=2013&amp;p=.htm\">2013</a></font></b></font></td>\n",
      "<td align=\"right\"><font size=\"2\">$10,923.6</font></td>\n",
      "<td align=\"right\"><font size=\"2\"><font color=\"#0000ff\">+0.8%</font></font></td>\n",
      "<td align=\"right\"><font size=\"2\">1,343.6</font></td>\n",
      "<td align=\"right\"><font size=\"2\"><font color=\"#ff0000\">-1.3%</font></font></td>\n",
      "<td align=\"right\"><font size=\"2\">688</font></td>\n",
      "<td align=\"right\"><font size=\"2\">-</font></td>\n",
      "<td align=\"center\"><font size=\"2\">$8.13</font></td>\n",
      "<td align=\"right\"><font size=\"2\">-</font></td>\n",
      "<td align=\"center\"><font size=\"2\"><a href=\"/movies/?id=catchingfire.htm\">Catching Fire</a></font></td>\n",
      "</tr>\n",
      "<tr bgcolor=\"#ffffff\"><td align=\"center\"><font size=\"2\"><b><font size=\"4\"><a href=\"chart/?yr=2012&amp;p=.htm\">2012</a></font></b></font></td>\n",
      "<td align=\"right\"><font size=\"2\">$10,837.4</font></td>\n",
      "<td align=\"right\"><font size=\"2\"><font color=\"#0000ff\">+6.5%</font></font></td>\n",
      "<td align=\"right\"><font size=\"2\">1,361.5</font></td>\n",
      "<td align=\"right\"><font size=\"2\"><font color=\"#0000ff\">+6.1%</font></font></td>\n",
      "<td align=\"right\"><font size=\"2\">667</font></td>\n",
      "<td align=\"right\"><font size=\"2\">-</font></td>\n",
      "<td align=\"center\"><font size=\"2\">$7.96</font></td>\n",
      "<td align=\"right\"><font size=\"2\">-</font></td>\n",
      "<td align=\"center\"><font size=\"2\"><a href=\"/movies/?id=avengers11.htm\">The Avengers</a></font></td>\n",
      "</tr>\n",
      "<tr bgcolor=\"#f4f4ff\"><td align=\"center\"><font size=\"2\"><b><font size=\"4\"><a href=\"chart/?yr=2011&amp;p=.htm\">2011</a></font></b></font></td>\n",
      "<td align=\"right\"><font size=\"2\">$10,174.3</font></td>\n",
      "<td align=\"right\"><font size=\"2\"><font color=\"#ff0000\">-3.7%</font></font></td>\n",
      "<td align=\"right\"><font size=\"2\">1,283.0</font></td>\n",
      "<td align=\"right\"><font size=\"2\"><font color=\"#ff0000\">-4.2%</font></font></td>\n",
      "<td align=\"right\"><font size=\"2\">602</font></td>\n",
      "<td align=\"right\"><font size=\"2\">-</font></td>\n",
      "<td align=\"center\"><font size=\"2\">$7.93</font></td>\n",
      "<td align=\"right\"><font size=\"2\">-</font></td>\n",
      "<td align=\"center\"><font size=\"2\"><a href=\"/movies/?id=harrypotter72.htm\">Harry Potter / Deathly Hallows (P2)</a></font></td>\n",
      "</tr>\n",
      "<tr bgcolor=\"#ffffff\"><td align=\"center\"><font size=\"2\"><b><font size=\"4\"><a href=\"chart/?yr=2010&amp;p=.htm\">2010</a></font></b></font></td>\n",
      "<td align=\"right\"><font size=\"2\">$10,565.6</font></td>\n",
      "<td align=\"right\"><font size=\"2\"><font color=\"#ff0000\">-0.3%</font></font></td>\n",
      "<td align=\"right\"><font size=\"2\">1,339.1</font></td>\n",
      "<td align=\"right\"><font size=\"2\"><font color=\"#ff0000\">-5.2%</font></font></td>\n",
      "<td align=\"right\"><font size=\"2\">536</font></td>\n",
      "<td align=\"right\"><font size=\"2\">-</font></td>\n",
      "<td align=\"center\"><font size=\"2\">$7.89</font></td>\n",
      "<td align=\"right\"><font size=\"2\">-</font></td>\n",
      "<td align=\"center\"><font size=\"2\"><a href=\"/movies/?id=toystory3.htm\">Toy Story 3</a></font></td>\n",
      "</tr>\n",
      "<tr bgcolor=\"#f4f4ff\"><td align=\"center\"><font size=\"2\"><b><font size=\"4\"><a href=\"chart/?yr=2009&amp;p=.htm\">2009</a></font></b></font></td>\n",
      "<td align=\"right\"><font size=\"2\">$10,595.5</font></td>\n",
      "<td align=\"right\"><font size=\"2\"><font color=\"#0000ff\">+10.0%</font></font></td>\n",
      "<td align=\"right\"><font size=\"2\">1,412.7</font></td>\n",
      "<td align=\"right\"><font size=\"2\"><font color=\"#0000ff\">+5.3%</font></font></td>\n",
      "<td align=\"right\"><font size=\"2\">521</font></td>\n",
      "<td align=\"right\"><font size=\"2\">-</font></td>\n",
      "<td align=\"center\"><font size=\"2\">$7.50</font></td>\n",
      "<td align=\"right\"><font size=\"2\">-</font></td>\n",
      "<td align=\"center\"><font size=\"2\"><a href=\"/movies/?id=avatar.htm\">Avatar</a></font></td>\n",
      "</tr>\n",
      "<tr bgcolor=\"#ffffff\"><td align=\"center\"><font size=\"2\"><b><font size=\"4\"><a href=\"chart/?yr=2008&amp;p=.htm\">2008</a></font></b></font></td>\n",
      "<td align=\"right\"><font size=\"2\">$9,630.7</font></td>\n",
      "<td align=\"right\"><font size=\"2\"><font color=\"#ff0000\">-0.3%</font></font></td>\n",
      "<td align=\"right\"><font size=\"2\">1,341.3</font></td>\n",
      "<td align=\"right\"><font size=\"2\"><font color=\"#ff0000\">-4.5%</font></font></td>\n",
      "<td align=\"right\"><font size=\"2\">608</font></td>\n",
      "<td align=\"right\"><font size=\"2\">-</font></td>\n",
      "<td align=\"center\"><font size=\"2\">$7.18</font></td>\n",
      "<td align=\"right\"><font size=\"2\">-</font></td>\n",
      "<td align=\"center\"><font size=\"2\"><a href=\"/movies/?id=darkknight.htm\">The Dark Knight</a></font></td>\n",
      "</tr>\n",
      "<tr bgcolor=\"#f4f4ff\"><td align=\"center\"><font size=\"2\"><b><font size=\"4\"><a href=\"chart/?yr=2007&amp;p=.htm\">2007</a></font></b></font></td>\n",
      "<td align=\"right\"><font size=\"2\">$9,663.8</font></td>\n",
      "<td align=\"right\"><font size=\"2\"><font color=\"#0000ff\">+4.9%</font></font></td>\n",
      "<td align=\"right\"><font size=\"2\">1,404.6</font></td>\n",
      "<td align=\"right\"><font size=\"2\"><font color=\"#ff0000\">-0.1%</font></font></td>\n",
      "<td align=\"right\"><font size=\"2\">631</font></td>\n",
      "<td align=\"right\"><font size=\"2\">-</font></td>\n",
      "<td align=\"center\"><font size=\"2\">$6.88</font></td>\n",
      "<td align=\"right\"><font size=\"2\">-</font></td>\n",
      "<td align=\"center\"><font size=\"2\"><a href=\"/movies/?id=spiderman3.htm\">Spider-Man 3</a></font></td>\n",
      "</tr>\n",
      "<tr bgcolor=\"#ffffff\"><td align=\"center\"><font size=\"2\"><b><font size=\"4\"><a href=\"chart/?yr=2006&amp;p=.htm\">2006</a></font></b></font></td>\n",
      "<td align=\"right\"><font size=\"2\">$9,209.5</font></td>\n",
      "<td align=\"right\"><font size=\"2\"><font color=\"#0000ff\">+4.2%</font></font></td>\n",
      "<td align=\"right\"><font size=\"2\">1,406.0</font></td>\n",
      "<td align=\"right\"><font size=\"2\"><font color=\"#0000ff\">+2.0%</font></font></td>\n",
      "<td align=\"right\"><font size=\"2\">608</font></td>\n",
      "<td align=\"right\"><font size=\"2\">-</font></td>\n",
      "<td align=\"center\"><font size=\"2\">$6.55</font></td>\n",
      "<td align=\"right\"><font size=\"2\">-</font></td>\n",
      "<td align=\"center\"><font size=\"2\"><a href=\"/movies/?id=piratesofthecaribbean2.htm\">Dead Man's Chest</a></font></td>\n",
      "</tr>\n",
      "<tr bgcolor=\"#f4f4ff\"><td align=\"center\"><font size=\"2\"><b><font size=\"4\"><a href=\"chart/?yr=2005&amp;p=.htm\">2005</a></font></b></font></td>\n",
      "<td align=\"right\"><font size=\"2\">$8,840.5</font></td>\n",
      "<td align=\"right\"><font size=\"2\"><font color=\"#ff0000\">-5.8%</font></font></td>\n",
      "<td align=\"right\"><font size=\"2\">1,379.2</font></td>\n",
      "<td align=\"right\"><font size=\"2\"><font color=\"#ff0000\">-8.7%</font></font></td>\n",
      "<td align=\"right\"><font size=\"2\">547</font></td>\n",
      "<td align=\"right\"><font size=\"2\">-</font></td>\n",
      "<td align=\"center\"><font size=\"2\">$6.41</font></td>\n",
      "<td align=\"right\"><font size=\"2\">-</font></td>\n",
      "<td align=\"center\"><font size=\"2\"><a href=\"/movies/?id=starwars3.htm\">Revenge of the Sith</a></font></td>\n",
      "</tr>\n",
      "<tr bgcolor=\"#ffffff\"><td align=\"center\"><font size=\"2\"><b><font size=\"4\"><a href=\"chart/?yr=2004&amp;p=.htm\">2004</a></font></b></font></td>\n",
      "<td align=\"right\"><font size=\"2\">$9,380.5</font></td>\n",
      "<td align=\"right\"><font size=\"2\"><font color=\"#0000ff\">+1.5%</font></font></td>\n",
      "<td align=\"right\"><font size=\"2\">1,510.5</font></td>\n",
      "<td align=\"right\"><font size=\"2\"><font color=\"#ff0000\">-1.4%</font></font></td>\n",
      "<td align=\"right\"><font size=\"2\">551</font></td>\n",
      "<td align=\"right\"><font size=\"2\">-</font></td>\n",
      "<td align=\"center\"><font size=\"2\">$6.21</font></td>\n",
      "<td align=\"right\"><font size=\"2\">-</font></td>\n",
      "<td align=\"center\"><font size=\"2\"><a href=\"/movies/?id=shrek2.htm\">Shrek 2</a></font></td>\n",
      "</tr>\n",
      "<tr bgcolor=\"#f4f4ff\"><td align=\"center\"><font size=\"2\"><b><font size=\"4\"><a href=\"chart/?yr=2003&amp;p=.htm\">2003</a></font></b></font></td>\n",
      "<td align=\"right\"><font size=\"2\">$9,239.7</font></td>\n",
      "<td align=\"right\"><font size=\"2\"><font color=\"#0000ff\">+0.9%</font></font></td>\n",
      "<td align=\"right\"><font size=\"2\">1,532.3</font></td>\n",
      "<td align=\"right\"><font size=\"2\"><font color=\"#ff0000\">-2.8%</font></font></td>\n",
      "<td align=\"right\"><font size=\"2\">506</font></td>\n",
      "<td align=\"right\"><font size=\"2\">-</font></td>\n",
      "<td align=\"center\"><font size=\"2\">$6.03</font></td>\n",
      "<td align=\"right\"><font size=\"2\">$63.8</font></td>\n",
      "<td align=\"center\"><font size=\"2\"><a href=\"/movies/?id=returnoftheking.htm\">Return of the King</a></font></td>\n",
      "</tr>\n",
      "<tr bgcolor=\"#ffffff\"><td align=\"center\"><font size=\"2\"><b><font size=\"4\"><a href=\"chart/?yr=2002&amp;p=.htm\">2002</a></font></b></font></td>\n",
      "<td align=\"right\"><font size=\"2\">$9,155.0</font></td>\n",
      "<td align=\"right\"><font size=\"2\"><font color=\"#0000ff\">+8.8%</font></font></td>\n",
      "<td align=\"right\"><font size=\"2\">1,575.7</font></td>\n",
      "<td align=\"right\"><font size=\"2\"><font color=\"#0000ff\">+6.0%</font></font></td>\n",
      "<td align=\"right\"><font size=\"2\">479</font></td>\n",
      "<td align=\"right\"><font size=\"2\">35,592</font></td>\n",
      "<td align=\"center\"><font size=\"2\">$5.81</font></td>\n",
      "<td align=\"right\"><font size=\"2\">$58.8</font></td>\n",
      "<td align=\"center\"><font size=\"2\"><a href=\"/movies/?id=spiderman.htm\">Spider-Man</a></font></td>\n",
      "</tr>\n",
      "<tr bgcolor=\"#f4f4ff\"><td align=\"center\"><font size=\"2\"><b><font size=\"4\"><a href=\"chart/?yr=2001&amp;p=.htm\">2001</a></font></b></font></td>\n",
      "<td align=\"right\"><font size=\"2\">$8,412.5</font></td>\n",
      "<td align=\"right\"><font size=\"2\"><font color=\"#0000ff\">+9.8%</font></font></td>\n",
      "<td align=\"right\"><font size=\"2\">1,487.3</font></td>\n",
      "<td align=\"right\"><font size=\"2\"><font color=\"#0000ff\">+4.7%</font></font></td>\n",
      "<td align=\"right\"><font size=\"2\">482</font></td>\n",
      "<td align=\"right\"><font size=\"2\">36,764</font></td>\n",
      "<td align=\"center\"><font size=\"2\">$5.66</font></td>\n",
      "<td align=\"right\"><font size=\"2\">$47.7</font></td>\n",
      "<td align=\"center\"><font size=\"2\"><a href=\"/movies/?id=harrypotter.htm\">Harry Potter / Sorcerer's Stone</a></font></td>\n",
      "</tr>\n",
      "<tr bgcolor=\"#ffffff\"><td align=\"center\"><font size=\"2\"><b><font size=\"4\"><a href=\"chart/?yr=2000&amp;p=.htm\">2000</a></font></b></font></td>\n",
      "<td align=\"right\"><font size=\"2\">$7,661.0</font></td>\n",
      "<td align=\"right\"><font size=\"2\"><font color=\"#0000ff\">+2.9%</font></font></td>\n",
      "<td align=\"right\"><font size=\"2\">1,420.8</font></td>\n",
      "<td align=\"right\"><font size=\"2\"><font color=\"#ff0000\">-3.0%</font></font></td>\n",
      "<td align=\"right\"><font size=\"2\">478</font></td>\n",
      "<td align=\"right\"><font size=\"2\">37,396</font></td>\n",
      "<td align=\"center\"><font size=\"2\">$5.39</font></td>\n",
      "<td align=\"right\"><font size=\"2\">$54.8</font></td>\n",
      "<td align=\"center\"><font size=\"2\"><a href=\"/movies/?id=grinch.htm\">The Grinch</a></font></td>\n",
      "</tr>\n",
      "<tr bgcolor=\"#f4f4ff\"><td align=\"center\"><font size=\"2\"><b><font size=\"4\"><a href=\"chart/?yr=1999&amp;p=.htm\">1999</a></font></b></font></td>\n",
      "<td align=\"right\"><font size=\"2\">$7,448.0</font></td>\n",
      "<td align=\"right\"><font size=\"2\"><font color=\"#0000ff\">+7.2%</font></font></td>\n",
      "<td align=\"right\"><font size=\"2\">1,465.2</font></td>\n",
      "<td align=\"right\"><font size=\"2\"><font color=\"#ff0000\">-1.1%</font></font></td>\n",
      "<td align=\"right\"><font size=\"2\">461</font></td>\n",
      "<td align=\"right\"><font size=\"2\">37,185</font></td>\n",
      "<td align=\"center\"><font size=\"2\">$5.08</font></td>\n",
      "<td align=\"right\"><font size=\"2\">$51.5</font></td>\n",
      "<td align=\"center\"><font size=\"2\"><a href=\"/movies/?id=starwars.htm\">The Phantom Menace</a></font></td>\n",
      "</tr>\n",
      "<tr bgcolor=\"#ffffff\"><td align=\"center\"><font size=\"2\"><b><font size=\"4\"><a href=\"chart/?yr=1998&amp;p=.htm\">1998</a></font></b></font></td>\n",
      "<td align=\"right\"><font size=\"2\">$6,949.0</font></td>\n",
      "<td align=\"right\"><font size=\"2\"><font color=\"#0000ff\">+9.2%</font></font></td>\n",
      "<td align=\"right\"><font size=\"2\">1,480.7</font></td>\n",
      "<td align=\"right\"><font size=\"2\"><font color=\"#0000ff\">+6.7%</font></font></td>\n",
      "<td align=\"right\"><font size=\"2\">509</font></td>\n",
      "<td align=\"right\"><font size=\"2\">34,186</font></td>\n",
      "<td align=\"center\"><font size=\"2\">$4.69</font></td>\n",
      "<td align=\"right\"><font size=\"2\">$52.7</font></td>\n",
      "<td align=\"center\"><font size=\"2\"><a href=\"/movies/?id=savingprivateryan.htm\">Saving Private Ryan</a></font></td>\n",
      "</tr>\n",
      "<tr bgcolor=\"#f4f4ff\"><td align=\"center\"><font size=\"2\"><b><font size=\"4\"><a href=\"chart/?yr=1997&amp;p=.htm\">1997</a></font></b></font></td>\n",
      "<td align=\"right\"><font size=\"2\">$6,365.9</font></td>\n",
      "<td align=\"right\"><font size=\"2\"><font color=\"#0000ff\">+7.7%</font></font></td>\n",
      "<td align=\"right\"><font size=\"2\">1,387.7</font></td>\n",
      "<td align=\"right\"><font size=\"2\"><font color=\"#0000ff\">+3.7%</font></font></td>\n",
      "<td align=\"right\"><font size=\"2\">510</font></td>\n",
      "<td align=\"right\"><font size=\"2\">31,640</font></td>\n",
      "<td align=\"center\"><font size=\"2\">$4.59</font></td>\n",
      "<td align=\"right\"><font size=\"2\">$53.4</font></td>\n",
      "<td align=\"center\"><font size=\"2\"><a href=\"/movies/?id=titanic.htm\">Titanic</a></font></td>\n",
      "</tr>\n",
      "<tr bgcolor=\"#ffffff\"><td align=\"center\"><font size=\"2\"><b><font size=\"4\"><a href=\"chart/?yr=1996&amp;p=.htm\">1996</a></font></b></font></td>\n",
      "<td align=\"right\"><font size=\"2\">$5,911.5</font></td>\n",
      "<td align=\"right\"><font size=\"2\"><font color=\"#0000ff\">+7.6%</font></font></td>\n",
      "<td align=\"right\"><font size=\"2\">1,338.6</font></td>\n",
      "<td align=\"right\"><font size=\"2\"><font color=\"#0000ff\">+6.0%</font></font></td>\n",
      "<td align=\"right\"><font size=\"2\">471</font></td>\n",
      "<td align=\"right\"><font size=\"2\">29,690</font></td>\n",
      "<td align=\"center\"><font size=\"2\">$4.42</font></td>\n",
      "<td align=\"right\"><font size=\"2\">$39.8</font></td>\n",
      "<td align=\"center\"><font size=\"2\"><a href=\"/movies/?id=independenceday.htm\">Independence Day</a></font></td>\n",
      "</tr>\n",
      "<tr bgcolor=\"#f4f4ff\"><td align=\"center\"><font size=\"2\"><b><font size=\"4\"><a href=\"chart/?yr=1995&amp;p=.htm\">1995</a></font></b></font></td>\n",
      "<td align=\"right\"><font size=\"2\">$5,493.5</font></td>\n",
      "<td align=\"right\"><font size=\"2\"><font color=\"#0000ff\">+1.8%</font></font></td>\n",
      "<td align=\"right\"><font size=\"2\">1,262.6</font></td>\n",
      "<td align=\"right\"><font size=\"2\"><font color=\"#ff0000\">-2.3%</font></font></td>\n",
      "<td align=\"right\"><font size=\"2\">411</font></td>\n",
      "<td align=\"right\"><font size=\"2\">27,805</font></td>\n",
      "<td align=\"center\"><font size=\"2\">$4.35</font></td>\n",
      "<td align=\"right\"><font size=\"2\">$36.4</font></td>\n",
      "<td align=\"center\"><font size=\"2\"><a href=\"/movies/?id=toystory.htm\">Toy Story</a></font></td>\n",
      "</tr>\n",
      "<tr bgcolor=\"#ffffff\"><td align=\"center\"><font size=\"2\"><b><font size=\"4\"><a href=\"chart/?yr=1994&amp;p=.htm\">1994</a></font></b></font></td>\n",
      "<td align=\"right\"><font size=\"2\">$5,396.2</font></td>\n",
      "<td align=\"right\"><font size=\"2\"><font color=\"#0000ff\">+4.7%</font></font></td>\n",
      "<td align=\"right\"><font size=\"2\">1,291.7</font></td>\n",
      "<td align=\"right\"><font size=\"2\"><font color=\"#0000ff\">+3.8%</font></font></td>\n",
      "<td align=\"right\"><font size=\"2\">453</font></td>\n",
      "<td align=\"right\"><font size=\"2\">26,586</font></td>\n",
      "<td align=\"center\"><font size=\"2\">$4.18</font></td>\n",
      "<td align=\"right\"><font size=\"2\">$34.3</font></td>\n",
      "<td align=\"center\"><font size=\"2\"><a href=\"/movies/?id=forrestgump.htm\">Forrest Gump</a></font></td>\n",
      "</tr>\n",
      "<tr bgcolor=\"#f4f4ff\"><td align=\"center\"><font size=\"2\"><b><font size=\"4\"><a href=\"chart/?yr=1993&amp;p=.htm\">1993</a></font></b></font></td>\n",
      "<td align=\"right\"><font size=\"2\">$5,154.2</font></td>\n",
      "<td align=\"right\"><font size=\"2\"><font color=\"#0000ff\">+5.8%</font></font></td>\n",
      "<td align=\"right\"><font size=\"2\">1,244.0</font></td>\n",
      "<td align=\"right\"><font size=\"2\"><font color=\"#0000ff\">+6.0%</font></font></td>\n",
      "<td align=\"right\"><font size=\"2\">462</font></td>\n",
      "<td align=\"right\"><font size=\"2\">25,737</font></td>\n",
      "<td align=\"center\"><font size=\"2\">$4.14</font></td>\n",
      "<td align=\"right\"><font size=\"2\">$29.9</font></td>\n",
      "<td align=\"center\"><font size=\"2\"><a href=\"/movies/?id=jurassicpark.htm\">Jurassic Park</a></font></td>\n",
      "</tr>\n",
      "<tr bgcolor=\"#ffffff\"><td align=\"center\"><font size=\"2\"><b><font size=\"4\"><a href=\"chart/?yr=1992&amp;p=.htm\">1992</a></font></b></font></td>\n",
      "<td align=\"right\"><font size=\"2\">$4,871.0</font></td>\n",
      "<td align=\"right\"><font size=\"2\"><font color=\"#0000ff\">+1.4%</font></font></td>\n",
      "<td align=\"right\"><font size=\"2\">1,173.2</font></td>\n",
      "<td align=\"right\"><font size=\"2\"><font color=\"#0000ff\">+2.9%</font></font></td>\n",
      "<td align=\"right\"><font size=\"2\">480</font></td>\n",
      "<td align=\"right\"><font size=\"2\">25,105</font></td>\n",
      "<td align=\"center\"><font size=\"2\">$4.15</font></td>\n",
      "<td align=\"right\"><font size=\"2\">$28.9</font></td>\n",
      "<td align=\"center\"><font size=\"2\"><a href=\"/movies/?id=aladdin.htm\">Aladdin</a></font></td>\n",
      "</tr>\n",
      "<tr bgcolor=\"#f4f4ff\"><td align=\"center\"><font size=\"2\"><b><font size=\"4\"><a href=\"chart/?yr=1991&amp;p=.htm\">1991</a></font></b></font></td>\n",
      "<td align=\"right\"><font size=\"2\">$4,803.2</font></td>\n",
      "<td align=\"right\"><font size=\"2\"><font color=\"#ff0000\">-4.4%</font></font></td>\n",
      "<td align=\"right\"><font size=\"2\">1,140.6</font></td>\n",
      "<td align=\"right\"><font size=\"2\"><font color=\"#ff0000\">-4.0%</font></font></td>\n",
      "<td align=\"right\"><font size=\"2\">458</font></td>\n",
      "<td align=\"right\"><font size=\"2\">24,570</font></td>\n",
      "<td align=\"center\"><font size=\"2\">$4.21</font></td>\n",
      "<td align=\"right\"><font size=\"2\">$26.1</font></td>\n",
      "<td align=\"center\"><font size=\"2\"><a href=\"/movies/?id=terminator2.htm\">Terminator 2</a></font></td>\n",
      "</tr>\n",
      "<tr bgcolor=\"#ffffff\"><td align=\"center\"><font size=\"2\"><b><font size=\"4\"><a href=\"chart/?yr=1990&amp;p=.htm\">1990</a></font></b></font></td>\n",
      "<td align=\"right\"><font size=\"2\">$5,021.8</font></td>\n",
      "<td align=\"right\"><font size=\"2\"><font color=\"#ff0000\">-0.2%</font></font></td>\n",
      "<td align=\"right\"><font size=\"2\">1,188.6</font></td>\n",
      "<td align=\"right\"><font size=\"2\"><font color=\"#ff0000\">-5.9%</font></font></td>\n",
      "<td align=\"right\"><font size=\"2\">410</font></td>\n",
      "<td align=\"right\"><font size=\"2\">23,689</font></td>\n",
      "<td align=\"center\"><font size=\"2\">$4.23</font></td>\n",
      "<td align=\"right\"><font size=\"2\">$26.8</font></td>\n",
      "<td align=\"center\"><font size=\"2\"><a href=\"/movies/?id=homealone.htm\">Home Alone</a></font></td>\n",
      "</tr>\n",
      "<tr bgcolor=\"#f4f4ff\"><td align=\"center\"><font size=\"2\"><b><font size=\"4\"><a href=\"chart/?yr=1989&amp;p=.htm\">1989</a></font></b></font></td>\n",
      "<td align=\"right\"><font size=\"2\">$5,033.4</font></td>\n",
      "<td align=\"right\"><font size=\"2\"><font color=\"#0000ff\">+12.9%</font></font></td>\n",
      "<td align=\"right\"><font size=\"2\">1,262.8</font></td>\n",
      "<td align=\"right\"><font size=\"2\"><font color=\"#0000ff\">+16.4%</font></font></td>\n",
      "<td align=\"right\"><font size=\"2\">502</font></td>\n",
      "<td align=\"right\"><font size=\"2\">23,132</font></td>\n",
      "<td align=\"center\"><font size=\"2\">$3.97</font></td>\n",
      "<td align=\"right\"><font size=\"2\">$23.5</font></td>\n",
      "<td align=\"center\"><font size=\"2\"><a href=\"/movies/?id=batman.htm\">Batman</a></font></td>\n",
      "</tr>\n",
      "<tr bgcolor=\"#ffffff\"><td align=\"center\"><font size=\"2\"><b><font size=\"4\"><a href=\"chart/?yr=1988&amp;p=.htm\">1988</a></font></b></font></td>\n",
      "<td align=\"right\"><font size=\"2\">$4,458.4</font></td>\n",
      "<td align=\"right\"><font size=\"2\"><font color=\"#0000ff\">+4.8%</font></font></td>\n",
      "<td align=\"right\"><font size=\"2\">1,084.8</font></td>\n",
      "<td align=\"right\"><font size=\"2\"><font color=\"#ff0000\">-0.3%</font></font></td>\n",
      "<td align=\"right\"><font size=\"2\">510</font></td>\n",
      "<td align=\"right\"><font size=\"2\">23,234</font></td>\n",
      "<td align=\"center\"><font size=\"2\">$4.11</font></td>\n",
      "<td align=\"right\"><font size=\"2\">$18.1</font></td>\n",
      "<td align=\"center\"><font size=\"2\"><a href=\"/movies/?id=rainman.htm\">Rain Man</a></font></td>\n",
      "</tr>\n",
      "<tr bgcolor=\"#f4f4ff\"><td align=\"center\"><font size=\"2\"><b><font size=\"4\"><a href=\"chart/?yr=1987&amp;p=.htm\">1987</a></font></b></font></td>\n",
      "<td align=\"right\"><font size=\"2\">$4,252.9</font></td>\n",
      "<td align=\"right\"><font size=\"2\"><font color=\"#0000ff\">+12.6%</font></font></td>\n",
      "<td align=\"right\"><font size=\"2\">1,088.5</font></td>\n",
      "<td align=\"right\"><font size=\"2\"><font color=\"#0000ff\">+7.0%</font></font></td>\n",
      "<td align=\"right\"><font size=\"2\">509</font></td>\n",
      "<td align=\"right\"><font size=\"2\">23,555</font></td>\n",
      "<td align=\"center\"><font size=\"2\">$3.91</font></td>\n",
      "<td align=\"right\"><font size=\"2\">$20.1</font></td>\n",
      "<td align=\"center\"><font size=\"2\"><a href=\"/movies/?id=threemenandababy.htm\">Three Men and a Baby</a></font></td>\n",
      "</tr>\n",
      "<tr bgcolor=\"#ffffff\"><td align=\"center\"><font size=\"2\"><b><font size=\"4\"><a href=\"chart/?yr=1986&amp;p=.htm\">1986</a></font></b></font></td>\n",
      "<td align=\"right\"><font size=\"2\">$3,778.0</font></td>\n",
      "<td align=\"right\"><font size=\"2\"><font color=\"#0000ff\">+0.8%</font></font></td>\n",
      "<td align=\"right\"><font size=\"2\">1,017.2</font></td>\n",
      "<td align=\"right\"><font size=\"2\"><font color=\"#ff0000\">-3.7%</font></font></td>\n",
      "<td align=\"right\"><font size=\"2\">451</font></td>\n",
      "<td align=\"right\"><font size=\"2\">22,765</font></td>\n",
      "<td align=\"center\"><font size=\"2\">$3.71</font></td>\n",
      "<td align=\"right\"><font size=\"2\">$17.5</font></td>\n",
      "<td align=\"center\"><font size=\"2\"><a href=\"/movies/?id=topgun.htm\">Top Gun</a></font></td>\n",
      "</tr>\n",
      "<tr bgcolor=\"#f4f4ff\"><td align=\"center\"><font size=\"2\"><b><font size=\"4\"><a href=\"chart/?yr=1985&amp;p=.htm\">1985</a></font></b></font></td>\n",
      "<td align=\"right\"><font size=\"2\">$3,749.2</font></td>\n",
      "<td align=\"right\"><font size=\"2\"><font color=\"#ff0000\">-7.0%</font></font></td>\n",
      "<td align=\"right\"><font size=\"2\">1,056.1</font></td>\n",
      "<td align=\"right\"><font size=\"2\"><font color=\"#ff0000\">-11.9%</font></font></td>\n",
      "<td align=\"right\"><font size=\"2\">470</font></td>\n",
      "<td align=\"right\"><font size=\"2\">21,147</font></td>\n",
      "<td align=\"center\"><font size=\"2\">$3.55</font></td>\n",
      "<td align=\"right\"><font size=\"2\">$16.8</font></td>\n",
      "<td align=\"center\"><font size=\"2\"><a href=\"/movies/?id=backtothefuture.htm\">Back to the Future</a></font></td>\n",
      "</tr>\n",
      "<tr bgcolor=\"#ffffff\"><td align=\"center\"><font size=\"2\"><b><font size=\"4\"><a href=\"chart/?yr=1984&amp;p=.htm\">1984</a></font></b></font></td>\n",
      "<td align=\"right\"><font size=\"2\">$4,031.0</font></td>\n",
      "<td align=\"right\"><font size=\"2\"><font color=\"#0000ff\">+7.0%</font></font></td>\n",
      "<td align=\"right\"><font size=\"2\">1,199.0</font></td>\n",
      "<td align=\"right\"><font size=\"2\"><font color=\"#0000ff\">+0.2%</font></font></td>\n",
      "<td align=\"right\"><font size=\"2\">536</font></td>\n",
      "<td align=\"right\"><font size=\"2\">20,200</font></td>\n",
      "<td align=\"center\"><font size=\"2\">$3.36</font></td>\n",
      "<td align=\"right\"><font size=\"2\">$14.4</font></td>\n",
      "<td align=\"center\"><font size=\"2\"><a href=\"/movies/?id=beverlyhillscop.htm\">Beverly Hills Cop</a></font></td>\n",
      "</tr>\n",
      "<tr bgcolor=\"#f4f4ff\"><td align=\"center\"><font size=\"2\"><b><font size=\"4\"><a href=\"chart/?yr=1983&amp;p=.htm\">1983</a></font></b></font></td>\n",
      "<td align=\"right\"><font size=\"2\">$3,766.0</font></td>\n",
      "<td align=\"right\"><font size=\"2\"><font color=\"#0000ff\">+9.1%</font></font></td>\n",
      "<td align=\"right\"><font size=\"2\">1,197.0</font></td>\n",
      "<td align=\"right\"><font size=\"2\"><font color=\"#0000ff\">+1.9%</font></font></td>\n",
      "<td align=\"right\"><font size=\"2\">495</font></td>\n",
      "<td align=\"right\"><font size=\"2\">18,884</font></td>\n",
      "<td align=\"center\"><font size=\"2\">$3.15</font></td>\n",
      "<td align=\"right\"><font size=\"2\">$11.9</font></td>\n",
      "<td align=\"center\"><font size=\"2\"><a href=\"/movies/?id=starwars6.htm\">Return of the Jedi</a></font></td>\n",
      "</tr>\n",
      "<tr bgcolor=\"#ffffff\"><td align=\"center\"><font size=\"2\"><b><font size=\"4\"><a href=\"chart/?yr=1982&amp;p=.htm\">1982</a></font></b></font></td>\n",
      "<td align=\"right\"><font size=\"2\">$3,453.0</font></td>\n",
      "<td align=\"right\"><font size=\"2\"><font color=\"#0000ff\">+16.4%</font></font></td>\n",
      "<td align=\"right\"><font size=\"2\">1,175.0</font></td>\n",
      "<td align=\"right\"><font size=\"2\"><font color=\"#0000ff\">+10.1%</font></font></td>\n",
      "<td align=\"right\"><font size=\"2\">428</font></td>\n",
      "<td align=\"right\"><font size=\"2\">18,020</font></td>\n",
      "<td align=\"center\"><font size=\"2\">$2.94</font></td>\n",
      "<td align=\"right\"><font size=\"2\">$11.8</font></td>\n",
      "<td align=\"center\"><font size=\"2\"><a href=\"/movies/?id=et.htm\">E.T.</a></font></td>\n",
      "</tr>\n",
      "<tr bgcolor=\"#f4f4ff\"><td align=\"center\"><font size=\"2\"><b><font size=\"4\"><a href=\"chart/?yr=1981&amp;p=.htm\">1981</a></font></b></font></td>\n",
      "<td align=\"right\"><font size=\"2\">$2,966.0</font></td>\n",
      "<td align=\"right\"><font size=\"2\"><font color=\"#0000ff\">+7.9%</font></font></td>\n",
      "<td align=\"right\"><font size=\"2\">1,067.0</font></td>\n",
      "<td align=\"right\"><font size=\"2\"><font color=\"#0000ff\">+4.4%</font></font></td>\n",
      "<td align=\"right\"><font size=\"2\">173</font></td>\n",
      "<td align=\"right\"><font size=\"2\">18,040</font></td>\n",
      "<td align=\"center\"><font size=\"2\">$2.78</font></td>\n",
      "<td align=\"right\"><font size=\"2\">$11.3</font></td>\n",
      "<td align=\"center\"><font size=\"2\"><a href=\"/movies/?id=raidersofthelostark.htm\">Raiders / Lost Ark</a></font></td>\n",
      "</tr>\n",
      "<tr bgcolor=\"#ffffff\"><td align=\"center\"><font size=\"2\"><b><font size=\"4\"><a href=\"chart/?yr=1980&amp;p=.htm\">1980</a></font></b></font></td>\n",
      "<td align=\"right\"><font size=\"2\">$2,749.0</font></td>\n",
      "<td align=\"right\"><font size=\"2\">-</font></td>\n",
      "<td align=\"right\"><font size=\"2\">1,022.0</font></td>\n",
      "<td align=\"right\"><font size=\"2\">-</font></td>\n",
      "<td align=\"right\"><font size=\"2\">161</font></td>\n",
      "<td align=\"right\"><font size=\"2\">17,590</font></td>\n",
      "<td align=\"center\"><font size=\"2\">$2.69</font></td>\n",
      "<td align=\"right\"><font size=\"2\">$9.4</font></td>\n",
      "<td align=\"center\"><font size=\"2\"><a href=\"/movies/?id=starwars5.htm\">The Empire Strikes Back</a></font></td>\n",
      "</tr>\n",
      "</table>\n",
      "<p align=\"center\">\n",
      "<font size=\"2\">* In millions. Total Gross is the calendar gross for that year, meaning \n",
      "actual revenues during the time period, including holdovers from previous year.  For a full discussion of calendar grosses, see our page: <a href=\"/about/boxoffice.htm\">About Box Office Tracking</a>.<br>\n",
      "^ Production cost only.<br>\n",
      "Number of Movies for 1980 and 1981 indicate only the number of major releases that year.</br></br></font>\n",
      "</p>\n",
      "<br/></td><td align=\"center\" valign=\"top\" width=\"300\"><script type=\"text/javascript\">\n",
      "    googletag.cmd.push(function() {\n",
      "        googletag.defineSlot(\"/4215/imdb2.bom.other\", [[300, 250]], \"ad-slot-2\").addService(googletag.pubads().setTargeting(\"p\", \"rh\"));\n",
      "        googletag.pubads().enableSingleRequest();\n",
      "        googletag.enableServices();\n",
      "    });\n",
      "    googletag.cmd.push(function() { googletag.display(\"ad-slot-2\"); });\n",
      "</script></td></tr></table>\n"
     ]
    }
   ],
   "source": [
    "print(movie_list[1])"
   ]
  },
  {
   "cell_type": "code",
   "execution_count": 52,
   "metadata": {
    "collapsed": false
   },
   "outputs": [
    {
     "name": "stdout",
     "output_type": "stream",
     "text": [
      "<td align=\"center\"><font size=\"2\"><a href=\"/yearly/?sort=year&amp;order=ASC&amp;p=.htm\"><b>Year</b></a></font></td>\n",
      "<td align=\"center\"><font size=\"2\"><a href=\"/yearly/?sort=totalgross&amp;order=DESC&amp;p=.htm\">Total<br>Gross*</br></a></font></td>\n",
      "<td align=\"center\"><font size=\"2\"><a href=\"/yearly/?sort=grosschange&amp;order=ASC&amp;p=.htm\">Change</a></font></td>\n",
      "<td align=\"center\"><font size=\"2\"><a href=\"/yearly/?sort=totaltickets&amp;order=DESC&amp;p=.htm\">Tickets<br>Sold</br></a></font></td>\n",
      "<td align=\"center\"><font size=\"2\"><a href=\"/yearly/?sort=ticketchange&amp;order=ASC&amp;p=.htm\">Change</a></font></td>\n",
      "<td align=\"center\"><font size=\"2\"><a href=\"/yearly/?sort=newmovies&amp;order=DESC&amp;p=.htm\"># of<br>Movies</br></a></font></td>\n",
      "<td align=\"center\"><font size=\"2\"><a href=\"/yearly/?sort=screens&amp;order=DESC&amp;p=.htm\">Total<br>Screens</br></a></font></td>\n",
      "<td align=\"center\"><font size=\"2\"><a href=\"/yearly/?sort=ticketprice&amp;order=DESC&amp;p=.htm\">Avg.<br>Ticket<br>Price</br></br></a></font></td>\n",
      "<td align=\"center\"><font size=\"2\"><a href=\"/yearly/?sort=avgcost&amp;order=DESC&amp;p=.htm\">Avg.<br>Cost^</br></a></font></td>\n",
      "<td align=\"center\"><font size=\"2\"><a href=\"/yearly/?sort=num1movie&amp;order=ASC&amp;p=.htm\">#1 Movie</a></font></td>\n",
      "<td align=\"center\"><font size=\"2\"><b><font size=\"4\"><a href=\"chart/?yr=2016&amp;p=.htm\">2016</a></font></b></font></td>\n",
      "<td align=\"right\"><font size=\"2\">$6,111.9</font></td>\n",
      "<td align=\"right\"><font size=\"2\">-</font></td>\n",
      "<td align=\"right\"><font size=\"2\">712.3</font></td>\n",
      "<td align=\"right\"><font size=\"2\">-</font></td>\n",
      "<td align=\"right\"><font size=\"2\">362</font></td>\n",
      "<td align=\"right\"><font size=\"2\">-</font></td>\n",
      "<td align=\"center\"><font size=\"2\">$8.58</font></td>\n",
      "<td align=\"right\"><font size=\"2\">-</font></td>\n",
      "<td align=\"center\"><font size=\"2\"><a href=\"/movies/?id=pixar2015.htm\">Finding Dory</a></font></td>\n",
      "<td align=\"center\"><font size=\"2\"><b><font size=\"4\"><a href=\"chart/?yr=2015&amp;p=.htm\">2015</a></font></b></font></td>\n",
      "<td align=\"right\"><font size=\"2\">$11,128.5</font></td>\n",
      "<td align=\"right\"><font size=\"2\"><font color=\"#0000ff\">+7.4%</font></font></td>\n",
      "<td align=\"right\"><font size=\"2\">1,320.1</font></td>\n",
      "<td align=\"right\"><font size=\"2\"><font color=\"#0000ff\">+4.1%</font></font></td>\n",
      "<td align=\"right\"><font size=\"2\">701</font></td>\n",
      "<td align=\"right\"><font size=\"2\">-</font></td>\n",
      "<td align=\"center\"><font size=\"2\">$8.43</font></td>\n",
      "<td align=\"right\"><font size=\"2\">-</font></td>\n",
      "<td align=\"center\"><font size=\"2\"><a href=\"/movies/?id=starwars7.htm\">Star Wars: The Force Awakens</a></font></td>\n",
      "<td align=\"center\"><font size=\"2\"><b><font size=\"4\"><a href=\"chart/?yr=2014&amp;p=.htm\">2014</a></font></b></font></td>\n",
      "<td align=\"right\"><font size=\"2\">$10,360.8</font></td>\n",
      "<td align=\"right\"><font size=\"2\"><font color=\"#ff0000\">-5.2%</font></font></td>\n",
      "<td align=\"right\"><font size=\"2\">1,268.2</font></td>\n",
      "<td align=\"right\"><font size=\"2\"><font color=\"#ff0000\">-5.6%</font></font></td>\n",
      "<td align=\"right\"><font size=\"2\">702</font></td>\n",
      "<td align=\"right\"><font size=\"2\">-</font></td>\n",
      "<td align=\"center\"><font size=\"2\">$8.17</font></td>\n",
      "<td align=\"right\"><font size=\"2\">-</font></td>\n",
      "<td align=\"center\"><font size=\"2\"><a href=\"/movies/?id=americansniper.htm\">American Sniper</a></font></td>\n",
      "<td align=\"center\"><font size=\"2\"><b><font size=\"4\"><a href=\"chart/?yr=2013&amp;p=.htm\">2013</a></font></b></font></td>\n",
      "<td align=\"right\"><font size=\"2\">$10,923.6</font></td>\n",
      "<td align=\"right\"><font size=\"2\"><font color=\"#0000ff\">+0.8%</font></font></td>\n",
      "<td align=\"right\"><font size=\"2\">1,343.6</font></td>\n",
      "<td align=\"right\"><font size=\"2\"><font color=\"#ff0000\">-1.3%</font></font></td>\n",
      "<td align=\"right\"><font size=\"2\">688</font></td>\n",
      "<td align=\"right\"><font size=\"2\">-</font></td>\n",
      "<td align=\"center\"><font size=\"2\">$8.13</font></td>\n",
      "<td align=\"right\"><font size=\"2\">-</font></td>\n",
      "<td align=\"center\"><font size=\"2\"><a href=\"/movies/?id=catchingfire.htm\">Catching Fire</a></font></td>\n",
      "<td align=\"center\"><font size=\"2\"><b><font size=\"4\"><a href=\"chart/?yr=2012&amp;p=.htm\">2012</a></font></b></font></td>\n",
      "<td align=\"right\"><font size=\"2\">$10,837.4</font></td>\n",
      "<td align=\"right\"><font size=\"2\"><font color=\"#0000ff\">+6.5%</font></font></td>\n",
      "<td align=\"right\"><font size=\"2\">1,361.5</font></td>\n",
      "<td align=\"right\"><font size=\"2\"><font color=\"#0000ff\">+6.1%</font></font></td>\n",
      "<td align=\"right\"><font size=\"2\">667</font></td>\n",
      "<td align=\"right\"><font size=\"2\">-</font></td>\n",
      "<td align=\"center\"><font size=\"2\">$7.96</font></td>\n",
      "<td align=\"right\"><font size=\"2\">-</font></td>\n",
      "<td align=\"center\"><font size=\"2\"><a href=\"/movies/?id=avengers11.htm\">The Avengers</a></font></td>\n",
      "<td align=\"center\"><font size=\"2\"><b><font size=\"4\"><a href=\"chart/?yr=2011&amp;p=.htm\">2011</a></font></b></font></td>\n",
      "<td align=\"right\"><font size=\"2\">$10,174.3</font></td>\n",
      "<td align=\"right\"><font size=\"2\"><font color=\"#ff0000\">-3.7%</font></font></td>\n",
      "<td align=\"right\"><font size=\"2\">1,283.0</font></td>\n",
      "<td align=\"right\"><font size=\"2\"><font color=\"#ff0000\">-4.2%</font></font></td>\n",
      "<td align=\"right\"><font size=\"2\">602</font></td>\n",
      "<td align=\"right\"><font size=\"2\">-</font></td>\n",
      "<td align=\"center\"><font size=\"2\">$7.93</font></td>\n",
      "<td align=\"right\"><font size=\"2\">-</font></td>\n",
      "<td align=\"center\"><font size=\"2\"><a href=\"/movies/?id=harrypotter72.htm\">Harry Potter / Deathly Hallows (P2)</a></font></td>\n",
      "<td align=\"center\"><font size=\"2\"><b><font size=\"4\"><a href=\"chart/?yr=2010&amp;p=.htm\">2010</a></font></b></font></td>\n",
      "<td align=\"right\"><font size=\"2\">$10,565.6</font></td>\n",
      "<td align=\"right\"><font size=\"2\"><font color=\"#ff0000\">-0.3%</font></font></td>\n",
      "<td align=\"right\"><font size=\"2\">1,339.1</font></td>\n",
      "<td align=\"right\"><font size=\"2\"><font color=\"#ff0000\">-5.2%</font></font></td>\n",
      "<td align=\"right\"><font size=\"2\">536</font></td>\n",
      "<td align=\"right\"><font size=\"2\">-</font></td>\n",
      "<td align=\"center\"><font size=\"2\">$7.89</font></td>\n",
      "<td align=\"right\"><font size=\"2\">-</font></td>\n",
      "<td align=\"center\"><font size=\"2\"><a href=\"/movies/?id=toystory3.htm\">Toy Story 3</a></font></td>\n",
      "<td align=\"center\"><font size=\"2\"><b><font size=\"4\"><a href=\"chart/?yr=2009&amp;p=.htm\">2009</a></font></b></font></td>\n",
      "<td align=\"right\"><font size=\"2\">$10,595.5</font></td>\n",
      "<td align=\"right\"><font size=\"2\"><font color=\"#0000ff\">+10.0%</font></font></td>\n",
      "<td align=\"right\"><font size=\"2\">1,412.7</font></td>\n",
      "<td align=\"right\"><font size=\"2\"><font color=\"#0000ff\">+5.3%</font></font></td>\n",
      "<td align=\"right\"><font size=\"2\">521</font></td>\n",
      "<td align=\"right\"><font size=\"2\">-</font></td>\n",
      "<td align=\"center\"><font size=\"2\">$7.50</font></td>\n",
      "<td align=\"right\"><font size=\"2\">-</font></td>\n",
      "<td align=\"center\"><font size=\"2\"><a href=\"/movies/?id=avatar.htm\">Avatar</a></font></td>\n",
      "<td align=\"center\"><font size=\"2\"><b><font size=\"4\"><a href=\"chart/?yr=2008&amp;p=.htm\">2008</a></font></b></font></td>\n",
      "<td align=\"right\"><font size=\"2\">$9,630.7</font></td>\n",
      "<td align=\"right\"><font size=\"2\"><font color=\"#ff0000\">-0.3%</font></font></td>\n",
      "<td align=\"right\"><font size=\"2\">1,341.3</font></td>\n",
      "<td align=\"right\"><font size=\"2\"><font color=\"#ff0000\">-4.5%</font></font></td>\n",
      "<td align=\"right\"><font size=\"2\">608</font></td>\n",
      "<td align=\"right\"><font size=\"2\">-</font></td>\n",
      "<td align=\"center\"><font size=\"2\">$7.18</font></td>\n",
      "<td align=\"right\"><font size=\"2\">-</font></td>\n",
      "<td align=\"center\"><font size=\"2\"><a href=\"/movies/?id=darkknight.htm\">The Dark Knight</a></font></td>\n",
      "<td align=\"center\"><font size=\"2\"><b><font size=\"4\"><a href=\"chart/?yr=2007&amp;p=.htm\">2007</a></font></b></font></td>\n",
      "<td align=\"right\"><font size=\"2\">$9,663.8</font></td>\n",
      "<td align=\"right\"><font size=\"2\"><font color=\"#0000ff\">+4.9%</font></font></td>\n",
      "<td align=\"right\"><font size=\"2\">1,404.6</font></td>\n",
      "<td align=\"right\"><font size=\"2\"><font color=\"#ff0000\">-0.1%</font></font></td>\n",
      "<td align=\"right\"><font size=\"2\">631</font></td>\n",
      "<td align=\"right\"><font size=\"2\">-</font></td>\n",
      "<td align=\"center\"><font size=\"2\">$6.88</font></td>\n",
      "<td align=\"right\"><font size=\"2\">-</font></td>\n",
      "<td align=\"center\"><font size=\"2\"><a href=\"/movies/?id=spiderman3.htm\">Spider-Man 3</a></font></td>\n",
      "<td align=\"center\"><font size=\"2\"><b><font size=\"4\"><a href=\"chart/?yr=2006&amp;p=.htm\">2006</a></font></b></font></td>\n",
      "<td align=\"right\"><font size=\"2\">$9,209.5</font></td>\n",
      "<td align=\"right\"><font size=\"2\"><font color=\"#0000ff\">+4.2%</font></font></td>\n",
      "<td align=\"right\"><font size=\"2\">1,406.0</font></td>\n",
      "<td align=\"right\"><font size=\"2\"><font color=\"#0000ff\">+2.0%</font></font></td>\n",
      "<td align=\"right\"><font size=\"2\">608</font></td>\n",
      "<td align=\"right\"><font size=\"2\">-</font></td>\n",
      "<td align=\"center\"><font size=\"2\">$6.55</font></td>\n",
      "<td align=\"right\"><font size=\"2\">-</font></td>\n",
      "<td align=\"center\"><font size=\"2\"><a href=\"/movies/?id=piratesofthecaribbean2.htm\">Dead Man's Chest</a></font></td>\n",
      "<td align=\"center\"><font size=\"2\"><b><font size=\"4\"><a href=\"chart/?yr=2005&amp;p=.htm\">2005</a></font></b></font></td>\n",
      "<td align=\"right\"><font size=\"2\">$8,840.5</font></td>\n",
      "<td align=\"right\"><font size=\"2\"><font color=\"#ff0000\">-5.8%</font></font></td>\n",
      "<td align=\"right\"><font size=\"2\">1,379.2</font></td>\n",
      "<td align=\"right\"><font size=\"2\"><font color=\"#ff0000\">-8.7%</font></font></td>\n",
      "<td align=\"right\"><font size=\"2\">547</font></td>\n",
      "<td align=\"right\"><font size=\"2\">-</font></td>\n",
      "<td align=\"center\"><font size=\"2\">$6.41</font></td>\n",
      "<td align=\"right\"><font size=\"2\">-</font></td>\n",
      "<td align=\"center\"><font size=\"2\"><a href=\"/movies/?id=starwars3.htm\">Revenge of the Sith</a></font></td>\n",
      "<td align=\"center\"><font size=\"2\"><b><font size=\"4\"><a href=\"chart/?yr=2004&amp;p=.htm\">2004</a></font></b></font></td>\n",
      "<td align=\"right\"><font size=\"2\">$9,380.5</font></td>\n",
      "<td align=\"right\"><font size=\"2\"><font color=\"#0000ff\">+1.5%</font></font></td>\n",
      "<td align=\"right\"><font size=\"2\">1,510.5</font></td>\n",
      "<td align=\"right\"><font size=\"2\"><font color=\"#ff0000\">-1.4%</font></font></td>\n",
      "<td align=\"right\"><font size=\"2\">551</font></td>\n",
      "<td align=\"right\"><font size=\"2\">-</font></td>\n",
      "<td align=\"center\"><font size=\"2\">$6.21</font></td>\n",
      "<td align=\"right\"><font size=\"2\">-</font></td>\n",
      "<td align=\"center\"><font size=\"2\"><a href=\"/movies/?id=shrek2.htm\">Shrek 2</a></font></td>\n",
      "<td align=\"center\"><font size=\"2\"><b><font size=\"4\"><a href=\"chart/?yr=2003&amp;p=.htm\">2003</a></font></b></font></td>\n",
      "<td align=\"right\"><font size=\"2\">$9,239.7</font></td>\n",
      "<td align=\"right\"><font size=\"2\"><font color=\"#0000ff\">+0.9%</font></font></td>\n",
      "<td align=\"right\"><font size=\"2\">1,532.3</font></td>\n",
      "<td align=\"right\"><font size=\"2\"><font color=\"#ff0000\">-2.8%</font></font></td>\n",
      "<td align=\"right\"><font size=\"2\">506</font></td>\n",
      "<td align=\"right\"><font size=\"2\">-</font></td>\n",
      "<td align=\"center\"><font size=\"2\">$6.03</font></td>\n",
      "<td align=\"right\"><font size=\"2\">$63.8</font></td>\n",
      "<td align=\"center\"><font size=\"2\"><a href=\"/movies/?id=returnoftheking.htm\">Return of the King</a></font></td>\n",
      "<td align=\"center\"><font size=\"2\"><b><font size=\"4\"><a href=\"chart/?yr=2002&amp;p=.htm\">2002</a></font></b></font></td>\n",
      "<td align=\"right\"><font size=\"2\">$9,155.0</font></td>\n",
      "<td align=\"right\"><font size=\"2\"><font color=\"#0000ff\">+8.8%</font></font></td>\n",
      "<td align=\"right\"><font size=\"2\">1,575.7</font></td>\n",
      "<td align=\"right\"><font size=\"2\"><font color=\"#0000ff\">+6.0%</font></font></td>\n",
      "<td align=\"right\"><font size=\"2\">479</font></td>\n",
      "<td align=\"right\"><font size=\"2\">35,592</font></td>\n",
      "<td align=\"center\"><font size=\"2\">$5.81</font></td>\n",
      "<td align=\"right\"><font size=\"2\">$58.8</font></td>\n",
      "<td align=\"center\"><font size=\"2\"><a href=\"/movies/?id=spiderman.htm\">Spider-Man</a></font></td>\n",
      "<td align=\"center\"><font size=\"2\"><b><font size=\"4\"><a href=\"chart/?yr=2001&amp;p=.htm\">2001</a></font></b></font></td>\n",
      "<td align=\"right\"><font size=\"2\">$8,412.5</font></td>\n",
      "<td align=\"right\"><font size=\"2\"><font color=\"#0000ff\">+9.8%</font></font></td>\n",
      "<td align=\"right\"><font size=\"2\">1,487.3</font></td>\n",
      "<td align=\"right\"><font size=\"2\"><font color=\"#0000ff\">+4.7%</font></font></td>\n",
      "<td align=\"right\"><font size=\"2\">482</font></td>\n",
      "<td align=\"right\"><font size=\"2\">36,764</font></td>\n",
      "<td align=\"center\"><font size=\"2\">$5.66</font></td>\n",
      "<td align=\"right\"><font size=\"2\">$47.7</font></td>\n",
      "<td align=\"center\"><font size=\"2\"><a href=\"/movies/?id=harrypotter.htm\">Harry Potter / Sorcerer's Stone</a></font></td>\n",
      "<td align=\"center\"><font size=\"2\"><b><font size=\"4\"><a href=\"chart/?yr=2000&amp;p=.htm\">2000</a></font></b></font></td>\n",
      "<td align=\"right\"><font size=\"2\">$7,661.0</font></td>\n",
      "<td align=\"right\"><font size=\"2\"><font color=\"#0000ff\">+2.9%</font></font></td>\n",
      "<td align=\"right\"><font size=\"2\">1,420.8</font></td>\n",
      "<td align=\"right\"><font size=\"2\"><font color=\"#ff0000\">-3.0%</font></font></td>\n",
      "<td align=\"right\"><font size=\"2\">478</font></td>\n",
      "<td align=\"right\"><font size=\"2\">37,396</font></td>\n",
      "<td align=\"center\"><font size=\"2\">$5.39</font></td>\n",
      "<td align=\"right\"><font size=\"2\">$54.8</font></td>\n",
      "<td align=\"center\"><font size=\"2\"><a href=\"/movies/?id=grinch.htm\">The Grinch</a></font></td>\n",
      "<td align=\"center\"><font size=\"2\"><b><font size=\"4\"><a href=\"chart/?yr=1999&amp;p=.htm\">1999</a></font></b></font></td>\n",
      "<td align=\"right\"><font size=\"2\">$7,448.0</font></td>\n",
      "<td align=\"right\"><font size=\"2\"><font color=\"#0000ff\">+7.2%</font></font></td>\n",
      "<td align=\"right\"><font size=\"2\">1,465.2</font></td>\n",
      "<td align=\"right\"><font size=\"2\"><font color=\"#ff0000\">-1.1%</font></font></td>\n",
      "<td align=\"right\"><font size=\"2\">461</font></td>\n",
      "<td align=\"right\"><font size=\"2\">37,185</font></td>\n",
      "<td align=\"center\"><font size=\"2\">$5.08</font></td>\n",
      "<td align=\"right\"><font size=\"2\">$51.5</font></td>\n",
      "<td align=\"center\"><font size=\"2\"><a href=\"/movies/?id=starwars.htm\">The Phantom Menace</a></font></td>\n",
      "<td align=\"center\"><font size=\"2\"><b><font size=\"4\"><a href=\"chart/?yr=1998&amp;p=.htm\">1998</a></font></b></font></td>\n",
      "<td align=\"right\"><font size=\"2\">$6,949.0</font></td>\n",
      "<td align=\"right\"><font size=\"2\"><font color=\"#0000ff\">+9.2%</font></font></td>\n",
      "<td align=\"right\"><font size=\"2\">1,480.7</font></td>\n",
      "<td align=\"right\"><font size=\"2\"><font color=\"#0000ff\">+6.7%</font></font></td>\n",
      "<td align=\"right\"><font size=\"2\">509</font></td>\n",
      "<td align=\"right\"><font size=\"2\">34,186</font></td>\n",
      "<td align=\"center\"><font size=\"2\">$4.69</font></td>\n",
      "<td align=\"right\"><font size=\"2\">$52.7</font></td>\n",
      "<td align=\"center\"><font size=\"2\"><a href=\"/movies/?id=savingprivateryan.htm\">Saving Private Ryan</a></font></td>\n",
      "<td align=\"center\"><font size=\"2\"><b><font size=\"4\"><a href=\"chart/?yr=1997&amp;p=.htm\">1997</a></font></b></font></td>\n",
      "<td align=\"right\"><font size=\"2\">$6,365.9</font></td>\n",
      "<td align=\"right\"><font size=\"2\"><font color=\"#0000ff\">+7.7%</font></font></td>\n",
      "<td align=\"right\"><font size=\"2\">1,387.7</font></td>\n",
      "<td align=\"right\"><font size=\"2\"><font color=\"#0000ff\">+3.7%</font></font></td>\n",
      "<td align=\"right\"><font size=\"2\">510</font></td>\n",
      "<td align=\"right\"><font size=\"2\">31,640</font></td>\n",
      "<td align=\"center\"><font size=\"2\">$4.59</font></td>\n",
      "<td align=\"right\"><font size=\"2\">$53.4</font></td>\n",
      "<td align=\"center\"><font size=\"2\"><a href=\"/movies/?id=titanic.htm\">Titanic</a></font></td>\n",
      "<td align=\"center\"><font size=\"2\"><b><font size=\"4\"><a href=\"chart/?yr=1996&amp;p=.htm\">1996</a></font></b></font></td>\n",
      "<td align=\"right\"><font size=\"2\">$5,911.5</font></td>\n",
      "<td align=\"right\"><font size=\"2\"><font color=\"#0000ff\">+7.6%</font></font></td>\n",
      "<td align=\"right\"><font size=\"2\">1,338.6</font></td>\n",
      "<td align=\"right\"><font size=\"2\"><font color=\"#0000ff\">+6.0%</font></font></td>\n",
      "<td align=\"right\"><font size=\"2\">471</font></td>\n",
      "<td align=\"right\"><font size=\"2\">29,690</font></td>\n",
      "<td align=\"center\"><font size=\"2\">$4.42</font></td>\n",
      "<td align=\"right\"><font size=\"2\">$39.8</font></td>\n",
      "<td align=\"center\"><font size=\"2\"><a href=\"/movies/?id=independenceday.htm\">Independence Day</a></font></td>\n",
      "<td align=\"center\"><font size=\"2\"><b><font size=\"4\"><a href=\"chart/?yr=1995&amp;p=.htm\">1995</a></font></b></font></td>\n",
      "<td align=\"right\"><font size=\"2\">$5,493.5</font></td>\n",
      "<td align=\"right\"><font size=\"2\"><font color=\"#0000ff\">+1.8%</font></font></td>\n",
      "<td align=\"right\"><font size=\"2\">1,262.6</font></td>\n",
      "<td align=\"right\"><font size=\"2\"><font color=\"#ff0000\">-2.3%</font></font></td>\n",
      "<td align=\"right\"><font size=\"2\">411</font></td>\n",
      "<td align=\"right\"><font size=\"2\">27,805</font></td>\n",
      "<td align=\"center\"><font size=\"2\">$4.35</font></td>\n",
      "<td align=\"right\"><font size=\"2\">$36.4</font></td>\n",
      "<td align=\"center\"><font size=\"2\"><a href=\"/movies/?id=toystory.htm\">Toy Story</a></font></td>\n",
      "<td align=\"center\"><font size=\"2\"><b><font size=\"4\"><a href=\"chart/?yr=1994&amp;p=.htm\">1994</a></font></b></font></td>\n",
      "<td align=\"right\"><font size=\"2\">$5,396.2</font></td>\n",
      "<td align=\"right\"><font size=\"2\"><font color=\"#0000ff\">+4.7%</font></font></td>\n",
      "<td align=\"right\"><font size=\"2\">1,291.7</font></td>\n",
      "<td align=\"right\"><font size=\"2\"><font color=\"#0000ff\">+3.8%</font></font></td>\n",
      "<td align=\"right\"><font size=\"2\">453</font></td>\n",
      "<td align=\"right\"><font size=\"2\">26,586</font></td>\n",
      "<td align=\"center\"><font size=\"2\">$4.18</font></td>\n",
      "<td align=\"right\"><font size=\"2\">$34.3</font></td>\n",
      "<td align=\"center\"><font size=\"2\"><a href=\"/movies/?id=forrestgump.htm\">Forrest Gump</a></font></td>\n",
      "<td align=\"center\"><font size=\"2\"><b><font size=\"4\"><a href=\"chart/?yr=1993&amp;p=.htm\">1993</a></font></b></font></td>\n",
      "<td align=\"right\"><font size=\"2\">$5,154.2</font></td>\n",
      "<td align=\"right\"><font size=\"2\"><font color=\"#0000ff\">+5.8%</font></font></td>\n",
      "<td align=\"right\"><font size=\"2\">1,244.0</font></td>\n",
      "<td align=\"right\"><font size=\"2\"><font color=\"#0000ff\">+6.0%</font></font></td>\n",
      "<td align=\"right\"><font size=\"2\">462</font></td>\n",
      "<td align=\"right\"><font size=\"2\">25,737</font></td>\n",
      "<td align=\"center\"><font size=\"2\">$4.14</font></td>\n",
      "<td align=\"right\"><font size=\"2\">$29.9</font></td>\n",
      "<td align=\"center\"><font size=\"2\"><a href=\"/movies/?id=jurassicpark.htm\">Jurassic Park</a></font></td>\n",
      "<td align=\"center\"><font size=\"2\"><b><font size=\"4\"><a href=\"chart/?yr=1992&amp;p=.htm\">1992</a></font></b></font></td>\n",
      "<td align=\"right\"><font size=\"2\">$4,871.0</font></td>\n",
      "<td align=\"right\"><font size=\"2\"><font color=\"#0000ff\">+1.4%</font></font></td>\n",
      "<td align=\"right\"><font size=\"2\">1,173.2</font></td>\n",
      "<td align=\"right\"><font size=\"2\"><font color=\"#0000ff\">+2.9%</font></font></td>\n",
      "<td align=\"right\"><font size=\"2\">480</font></td>\n",
      "<td align=\"right\"><font size=\"2\">25,105</font></td>\n",
      "<td align=\"center\"><font size=\"2\">$4.15</font></td>\n",
      "<td align=\"right\"><font size=\"2\">$28.9</font></td>\n",
      "<td align=\"center\"><font size=\"2\"><a href=\"/movies/?id=aladdin.htm\">Aladdin</a></font></td>\n",
      "<td align=\"center\"><font size=\"2\"><b><font size=\"4\"><a href=\"chart/?yr=1991&amp;p=.htm\">1991</a></font></b></font></td>\n",
      "<td align=\"right\"><font size=\"2\">$4,803.2</font></td>\n",
      "<td align=\"right\"><font size=\"2\"><font color=\"#ff0000\">-4.4%</font></font></td>\n",
      "<td align=\"right\"><font size=\"2\">1,140.6</font></td>\n",
      "<td align=\"right\"><font size=\"2\"><font color=\"#ff0000\">-4.0%</font></font></td>\n",
      "<td align=\"right\"><font size=\"2\">458</font></td>\n",
      "<td align=\"right\"><font size=\"2\">24,570</font></td>\n",
      "<td align=\"center\"><font size=\"2\">$4.21</font></td>\n",
      "<td align=\"right\"><font size=\"2\">$26.1</font></td>\n",
      "<td align=\"center\"><font size=\"2\"><a href=\"/movies/?id=terminator2.htm\">Terminator 2</a></font></td>\n",
      "<td align=\"center\"><font size=\"2\"><b><font size=\"4\"><a href=\"chart/?yr=1990&amp;p=.htm\">1990</a></font></b></font></td>\n",
      "<td align=\"right\"><font size=\"2\">$5,021.8</font></td>\n",
      "<td align=\"right\"><font size=\"2\"><font color=\"#ff0000\">-0.2%</font></font></td>\n",
      "<td align=\"right\"><font size=\"2\">1,188.6</font></td>\n",
      "<td align=\"right\"><font size=\"2\"><font color=\"#ff0000\">-5.9%</font></font></td>\n",
      "<td align=\"right\"><font size=\"2\">410</font></td>\n",
      "<td align=\"right\"><font size=\"2\">23,689</font></td>\n",
      "<td align=\"center\"><font size=\"2\">$4.23</font></td>\n",
      "<td align=\"right\"><font size=\"2\">$26.8</font></td>\n",
      "<td align=\"center\"><font size=\"2\"><a href=\"/movies/?id=homealone.htm\">Home Alone</a></font></td>\n",
      "<td align=\"center\"><font size=\"2\"><b><font size=\"4\"><a href=\"chart/?yr=1989&amp;p=.htm\">1989</a></font></b></font></td>\n",
      "<td align=\"right\"><font size=\"2\">$5,033.4</font></td>\n",
      "<td align=\"right\"><font size=\"2\"><font color=\"#0000ff\">+12.9%</font></font></td>\n",
      "<td align=\"right\"><font size=\"2\">1,262.8</font></td>\n",
      "<td align=\"right\"><font size=\"2\"><font color=\"#0000ff\">+16.4%</font></font></td>\n",
      "<td align=\"right\"><font size=\"2\">502</font></td>\n",
      "<td align=\"right\"><font size=\"2\">23,132</font></td>\n",
      "<td align=\"center\"><font size=\"2\">$3.97</font></td>\n",
      "<td align=\"right\"><font size=\"2\">$23.5</font></td>\n",
      "<td align=\"center\"><font size=\"2\"><a href=\"/movies/?id=batman.htm\">Batman</a></font></td>\n",
      "<td align=\"center\"><font size=\"2\"><b><font size=\"4\"><a href=\"chart/?yr=1988&amp;p=.htm\">1988</a></font></b></font></td>\n",
      "<td align=\"right\"><font size=\"2\">$4,458.4</font></td>\n",
      "<td align=\"right\"><font size=\"2\"><font color=\"#0000ff\">+4.8%</font></font></td>\n",
      "<td align=\"right\"><font size=\"2\">1,084.8</font></td>\n",
      "<td align=\"right\"><font size=\"2\"><font color=\"#ff0000\">-0.3%</font></font></td>\n",
      "<td align=\"right\"><font size=\"2\">510</font></td>\n",
      "<td align=\"right\"><font size=\"2\">23,234</font></td>\n",
      "<td align=\"center\"><font size=\"2\">$4.11</font></td>\n",
      "<td align=\"right\"><font size=\"2\">$18.1</font></td>\n",
      "<td align=\"center\"><font size=\"2\"><a href=\"/movies/?id=rainman.htm\">Rain Man</a></font></td>\n",
      "<td align=\"center\"><font size=\"2\"><b><font size=\"4\"><a href=\"chart/?yr=1987&amp;p=.htm\">1987</a></font></b></font></td>\n",
      "<td align=\"right\"><font size=\"2\">$4,252.9</font></td>\n",
      "<td align=\"right\"><font size=\"2\"><font color=\"#0000ff\">+12.6%</font></font></td>\n",
      "<td align=\"right\"><font size=\"2\">1,088.5</font></td>\n",
      "<td align=\"right\"><font size=\"2\"><font color=\"#0000ff\">+7.0%</font></font></td>\n",
      "<td align=\"right\"><font size=\"2\">509</font></td>\n",
      "<td align=\"right\"><font size=\"2\">23,555</font></td>\n",
      "<td align=\"center\"><font size=\"2\">$3.91</font></td>\n",
      "<td align=\"right\"><font size=\"2\">$20.1</font></td>\n",
      "<td align=\"center\"><font size=\"2\"><a href=\"/movies/?id=threemenandababy.htm\">Three Men and a Baby</a></font></td>\n",
      "<td align=\"center\"><font size=\"2\"><b><font size=\"4\"><a href=\"chart/?yr=1986&amp;p=.htm\">1986</a></font></b></font></td>\n",
      "<td align=\"right\"><font size=\"2\">$3,778.0</font></td>\n",
      "<td align=\"right\"><font size=\"2\"><font color=\"#0000ff\">+0.8%</font></font></td>\n",
      "<td align=\"right\"><font size=\"2\">1,017.2</font></td>\n",
      "<td align=\"right\"><font size=\"2\"><font color=\"#ff0000\">-3.7%</font></font></td>\n",
      "<td align=\"right\"><font size=\"2\">451</font></td>\n",
      "<td align=\"right\"><font size=\"2\">22,765</font></td>\n",
      "<td align=\"center\"><font size=\"2\">$3.71</font></td>\n",
      "<td align=\"right\"><font size=\"2\">$17.5</font></td>\n",
      "<td align=\"center\"><font size=\"2\"><a href=\"/movies/?id=topgun.htm\">Top Gun</a></font></td>\n",
      "<td align=\"center\"><font size=\"2\"><b><font size=\"4\"><a href=\"chart/?yr=1985&amp;p=.htm\">1985</a></font></b></font></td>\n",
      "<td align=\"right\"><font size=\"2\">$3,749.2</font></td>\n",
      "<td align=\"right\"><font size=\"2\"><font color=\"#ff0000\">-7.0%</font></font></td>\n",
      "<td align=\"right\"><font size=\"2\">1,056.1</font></td>\n",
      "<td align=\"right\"><font size=\"2\"><font color=\"#ff0000\">-11.9%</font></font></td>\n",
      "<td align=\"right\"><font size=\"2\">470</font></td>\n",
      "<td align=\"right\"><font size=\"2\">21,147</font></td>\n",
      "<td align=\"center\"><font size=\"2\">$3.55</font></td>\n",
      "<td align=\"right\"><font size=\"2\">$16.8</font></td>\n",
      "<td align=\"center\"><font size=\"2\"><a href=\"/movies/?id=backtothefuture.htm\">Back to the Future</a></font></td>\n",
      "<td align=\"center\"><font size=\"2\"><b><font size=\"4\"><a href=\"chart/?yr=1984&amp;p=.htm\">1984</a></font></b></font></td>\n",
      "<td align=\"right\"><font size=\"2\">$4,031.0</font></td>\n",
      "<td align=\"right\"><font size=\"2\"><font color=\"#0000ff\">+7.0%</font></font></td>\n",
      "<td align=\"right\"><font size=\"2\">1,199.0</font></td>\n",
      "<td align=\"right\"><font size=\"2\"><font color=\"#0000ff\">+0.2%</font></font></td>\n",
      "<td align=\"right\"><font size=\"2\">536</font></td>\n",
      "<td align=\"right\"><font size=\"2\">20,200</font></td>\n",
      "<td align=\"center\"><font size=\"2\">$3.36</font></td>\n",
      "<td align=\"right\"><font size=\"2\">$14.4</font></td>\n",
      "<td align=\"center\"><font size=\"2\"><a href=\"/movies/?id=beverlyhillscop.htm\">Beverly Hills Cop</a></font></td>\n",
      "<td align=\"center\"><font size=\"2\"><b><font size=\"4\"><a href=\"chart/?yr=1983&amp;p=.htm\">1983</a></font></b></font></td>\n",
      "<td align=\"right\"><font size=\"2\">$3,766.0</font></td>\n",
      "<td align=\"right\"><font size=\"2\"><font color=\"#0000ff\">+9.1%</font></font></td>\n",
      "<td align=\"right\"><font size=\"2\">1,197.0</font></td>\n",
      "<td align=\"right\"><font size=\"2\"><font color=\"#0000ff\">+1.9%</font></font></td>\n",
      "<td align=\"right\"><font size=\"2\">495</font></td>\n",
      "<td align=\"right\"><font size=\"2\">18,884</font></td>\n",
      "<td align=\"center\"><font size=\"2\">$3.15</font></td>\n",
      "<td align=\"right\"><font size=\"2\">$11.9</font></td>\n",
      "<td align=\"center\"><font size=\"2\"><a href=\"/movies/?id=starwars6.htm\">Return of the Jedi</a></font></td>\n",
      "<td align=\"center\"><font size=\"2\"><b><font size=\"4\"><a href=\"chart/?yr=1982&amp;p=.htm\">1982</a></font></b></font></td>\n",
      "<td align=\"right\"><font size=\"2\">$3,453.0</font></td>\n",
      "<td align=\"right\"><font size=\"2\"><font color=\"#0000ff\">+16.4%</font></font></td>\n",
      "<td align=\"right\"><font size=\"2\">1,175.0</font></td>\n",
      "<td align=\"right\"><font size=\"2\"><font color=\"#0000ff\">+10.1%</font></font></td>\n",
      "<td align=\"right\"><font size=\"2\">428</font></td>\n",
      "<td align=\"right\"><font size=\"2\">18,020</font></td>\n",
      "<td align=\"center\"><font size=\"2\">$2.94</font></td>\n",
      "<td align=\"right\"><font size=\"2\">$11.8</font></td>\n",
      "<td align=\"center\"><font size=\"2\"><a href=\"/movies/?id=et.htm\">E.T.</a></font></td>\n",
      "<td align=\"center\"><font size=\"2\"><b><font size=\"4\"><a href=\"chart/?yr=1981&amp;p=.htm\">1981</a></font></b></font></td>\n",
      "<td align=\"right\"><font size=\"2\">$2,966.0</font></td>\n",
      "<td align=\"right\"><font size=\"2\"><font color=\"#0000ff\">+7.9%</font></font></td>\n",
      "<td align=\"right\"><font size=\"2\">1,067.0</font></td>\n",
      "<td align=\"right\"><font size=\"2\"><font color=\"#0000ff\">+4.4%</font></font></td>\n",
      "<td align=\"right\"><font size=\"2\">173</font></td>\n",
      "<td align=\"right\"><font size=\"2\">18,040</font></td>\n",
      "<td align=\"center\"><font size=\"2\">$2.78</font></td>\n",
      "<td align=\"right\"><font size=\"2\">$11.3</font></td>\n",
      "<td align=\"center\"><font size=\"2\"><a href=\"/movies/?id=raidersofthelostark.htm\">Raiders / Lost Ark</a></font></td>\n",
      "<td align=\"center\"><font size=\"2\"><b><font size=\"4\"><a href=\"chart/?yr=1980&amp;p=.htm\">1980</a></font></b></font></td>\n",
      "<td align=\"right\"><font size=\"2\">$2,749.0</font></td>\n",
      "<td align=\"right\"><font size=\"2\">-</font></td>\n",
      "<td align=\"right\"><font size=\"2\">1,022.0</font></td>\n",
      "<td align=\"right\"><font size=\"2\">-</font></td>\n",
      "<td align=\"right\"><font size=\"2\">161</font></td>\n",
      "<td align=\"right\"><font size=\"2\">17,590</font></td>\n",
      "<td align=\"center\"><font size=\"2\">$2.69</font></td>\n",
      "<td align=\"right\"><font size=\"2\">$9.4</font></td>\n",
      "<td align=\"center\"><font size=\"2\"><a href=\"/movies/?id=starwars5.htm\">The Empire Strikes Back</a></font></td>\n"
     ]
    }
   ],
   "source": [
    "movie_data = []\n",
    "\n",
    "# header = ['Year','Total Gross','Change','Tickets Sold','Change','# of movies','Total Screens',\n",
    "#           'Avg. Ticket Price','Avg. Cost','#1 Movie']\n",
    "movie_data = []\n",
    "\n",
    "# the first row is the title of the columns\n",
    "for row in movie_list[2].findAll(\"tr\"):\n",
    "    movie_row = []\n",
    "    for i,cell in enumerate(row.findAll(\"td\")):\n",
    "#         print cell\n",
    "        movie_row.append(cell.find(text=True))\n",
    "    movie_data.append(movie_row)\n",
    "\n",
    "header = movie_data.pop(0)\n",
    "movies_df = pd.DataFrame(movie_data,columns = header)\n",
    "# movies_df.dropna()"
   ]
  },
  {
   "cell_type": "code",
   "execution_count": 53,
   "metadata": {
    "collapsed": false
   },
   "outputs": [
    {
     "data": {
      "text/html": [
       "<div>\n",
       "<table border=\"1\" class=\"dataframe\">\n",
       "  <thead>\n",
       "    <tr style=\"text-align: right;\">\n",
       "      <th></th>\n",
       "      <th>Year</th>\n",
       "      <th>Total</th>\n",
       "      <th>Change</th>\n",
       "      <th>Tickets</th>\n",
       "      <th>Change</th>\n",
       "      <th># of</th>\n",
       "      <th>Total</th>\n",
       "      <th>Avg.</th>\n",
       "      <th>Avg.</th>\n",
       "      <th>#1 Movie</th>\n",
       "    </tr>\n",
       "  </thead>\n",
       "  <tbody>\n",
       "    <tr>\n",
       "      <th>0</th>\n",
       "      <td>2016</td>\n",
       "      <td>$6,111.9</td>\n",
       "      <td>-</td>\n",
       "      <td>712.3</td>\n",
       "      <td>-</td>\n",
       "      <td>362</td>\n",
       "      <td>-</td>\n",
       "      <td>$8.58</td>\n",
       "      <td>-</td>\n",
       "      <td>Finding Dory</td>\n",
       "    </tr>\n",
       "    <tr>\n",
       "      <th>1</th>\n",
       "      <td>2015</td>\n",
       "      <td>$11,128.5</td>\n",
       "      <td>+7.4%</td>\n",
       "      <td>1,320.1</td>\n",
       "      <td>+4.1%</td>\n",
       "      <td>701</td>\n",
       "      <td>-</td>\n",
       "      <td>$8.43</td>\n",
       "      <td>-</td>\n",
       "      <td>Star Wars: The Force Awakens</td>\n",
       "    </tr>\n",
       "    <tr>\n",
       "      <th>2</th>\n",
       "      <td>2014</td>\n",
       "      <td>$10,360.8</td>\n",
       "      <td>-5.2%</td>\n",
       "      <td>1,268.2</td>\n",
       "      <td>-5.6%</td>\n",
       "      <td>702</td>\n",
       "      <td>-</td>\n",
       "      <td>$8.17</td>\n",
       "      <td>-</td>\n",
       "      <td>American Sniper</td>\n",
       "    </tr>\n",
       "    <tr>\n",
       "      <th>3</th>\n",
       "      <td>2013</td>\n",
       "      <td>$10,923.6</td>\n",
       "      <td>+0.8%</td>\n",
       "      <td>1,343.6</td>\n",
       "      <td>-1.3%</td>\n",
       "      <td>688</td>\n",
       "      <td>-</td>\n",
       "      <td>$8.13</td>\n",
       "      <td>-</td>\n",
       "      <td>Catching Fire</td>\n",
       "    </tr>\n",
       "    <tr>\n",
       "      <th>4</th>\n",
       "      <td>2012</td>\n",
       "      <td>$10,837.4</td>\n",
       "      <td>+6.5%</td>\n",
       "      <td>1,361.5</td>\n",
       "      <td>+6.1%</td>\n",
       "      <td>667</td>\n",
       "      <td>-</td>\n",
       "      <td>$7.96</td>\n",
       "      <td>-</td>\n",
       "      <td>The Avengers</td>\n",
       "    </tr>\n",
       "  </tbody>\n",
       "</table>\n",
       "</div>"
      ],
      "text/plain": [
       "   Year      Total Change  Tickets Change # of Total   Avg. Avg.  \\\n",
       "0  2016   $6,111.9      -    712.3      -  362     -  $8.58    -   \n",
       "1  2015  $11,128.5  +7.4%  1,320.1  +4.1%  701     -  $8.43    -   \n",
       "2  2014  $10,360.8  -5.2%  1,268.2  -5.6%  702     -  $8.17    -   \n",
       "3  2013  $10,923.6  +0.8%  1,343.6  -1.3%  688     -  $8.13    -   \n",
       "4  2012  $10,837.4  +6.5%  1,361.5  +6.1%  667     -  $7.96    -   \n",
       "\n",
       "                       #1 Movie  \n",
       "0                  Finding Dory  \n",
       "1  Star Wars: The Force Awakens  \n",
       "2               American Sniper  \n",
       "3                 Catching Fire  \n",
       "4                  The Avengers  "
      ]
     },
     "execution_count": 53,
     "metadata": {},
     "output_type": "execute_result"
    }
   ],
   "source": [
    "movies_df.head()"
   ]
  },
  {
   "cell_type": "markdown",
   "metadata": {},
   "source": [
    "# Scraping data from multiple movies"
   ]
  },
  {
   "cell_type": "markdown",
   "metadata": {},
   "source": [
    "# List of movies 2016:\n",
    "\n",
    "(1-100) http://www.boxofficemojo.com/yearly/chart/?view=releasedate&view2=domestic&yr=2016&sort=gross&order=DESC&studio= \n",
    "\n",
    "(101 - 200) http://www.boxofficemojo.com/yearly/chart/?page=2&view=releasedate&view2=domestic&yr=2016&p=.htm\n",
    "\n",
    "(201-300) http://www.boxofficemojo.com/yearly/chart/?page=3&view=releasedate&view2=domestic&yr=2016&p=.htm\n",
    "\n",
    "(301-400) http://www.boxofficemojo.com/yearly/chart/?page=4&view=releasedate&view2=domestic&yr=2016&p=.htm\n",
    "\n",
    "# List of movies 2015: \n",
    "\n",
    "(1-100) http://www.boxofficemojo.com/yearly/chart/yr=2015&view=releasedate&view2=domestic&sort=gross&order=DESC&&p=.htm\n",
    "\n",
    "(101-200) http://www.boxofficemojo.com/yearly/chart/page=2&view=releasedate&view2=domestic&yr=2015&p=.htm\n",
    "\n",
    "(201-300) http://www.boxofficemojo.com/yearly/chart/page=3&view=releasedate&view2=domestic&yr=2015&p=.htm\n",
    "\n",
    "(301-400) http://www.boxofficemojo.com/yearly/chart/page=4&view=releasedate&view2=domestic&yr=2015&p=.htm\n",
    "\n",
    "(401-500)\n",
    "http://www.boxofficemojo.com/yearly/chart/page=5&view=releasedate&view2=domestic&yr=2015&p=.htm\n",
    "\n",
    "# Example of clicking on a movie link in one of these lists\n",
    "\n",
    "#### http://www.boxofficemojo.com/movies/?id=starwars7.htm"
   ]
  },
  {
   "cell_type": "markdown",
   "metadata": {},
   "source": [
    "# Fields I will probably want to get for predicting international success (Do I want to look at prediction pre-release? or after first weekend?\n",
    "### Will probably want to be looking at predicting this pre-release or after opening weekend to have any real value to investors/studios\n",
    "\n",
    "* Domestic Total Gross (maybe...but not really relevant to problem)\n",
    "* Opening weekend (for predicting success after domestic opening weekend)\n",
    "* Release Date\n",
    "* Distributor\n",
    "* Runtime\n",
    "* Production Budget\n",
    "* Genre\n",
    "* MPAA Rating\n",
    "* Director\n",
    "* Writers\n",
    "* Producers\n",
    "* Actors (maybe have another analysis for actor success?)\n",
    "* 3D?\n",
    "* IMAX?\n",
    "* Brand\n",
    "\n",
    "## Target variable for training and prediction:\n",
    "\n",
    "* Foreign total gross"
   ]
  },
  {
   "cell_type": "code",
   "execution_count": 54,
   "metadata": {
    "collapsed": true
   },
   "outputs": [],
   "source": [
    "movie_url = 'http://www.boxofficemojo.com/movies/?id=starwars7.htm'\n",
    "\n",
    "response = requests.get(movie_url)"
   ]
  },
  {
   "cell_type": "code",
   "execution_count": 58,
   "metadata": {
    "collapsed": false
   },
   "outputs": [
    {
     "data": {
      "text/plain": [
       "200"
      ]
     },
     "execution_count": 58,
     "metadata": {},
     "output_type": "execute_result"
    }
   ],
   "source": [
    "response.status_code"
   ]
  },
  {
   "cell_type": "code",
   "execution_count": 66,
   "metadata": {
    "collapsed": true
   },
   "outputs": [],
   "source": [
    "movie_page = response.text\n",
    "movie_soup = BeautifulSoup(movie_page)"
   ]
  },
  {
   "cell_type": "code",
   "execution_count": 86,
   "metadata": {
    "collapsed": false
   },
   "outputs": [],
   "source": [
    "movie_data = movie_soup.find_all(class_='mp_box_content')"
   ]
  },
  {
   "cell_type": "code",
   "execution_count": 107,
   "metadata": {
    "collapsed": false
   },
   "outputs": [
    {
     "data": {
      "text/plain": [
       "9"
      ]
     },
     "execution_count": 107,
     "metadata": {},
     "output_type": "execute_result"
    }
   ],
   "source": [
    "len(movie_data)"
   ]
  },
  {
   "cell_type": "code",
   "execution_count": 93,
   "metadata": {
    "collapsed": false
   },
   "outputs": [
    {
     "data": {
      "text/plain": [
       "u'\\n\\n\\nDomestic:\\n\\xa0$936,662,225\\n\\xa0\\xa0\\xa045.3%\\n\\n\\n+\\xa0Foreign:\\n\\xa0$1,131,516,000\\n\\xa0\\xa0\\xa054.7%\\n\\n\\n\\n\\n\\n=\\xa0Worldwide:\\n\\xa0$2,068,178,225\\n\\xa0\\n\\n\\n'"
      ]
     },
     "execution_count": 93,
     "metadata": {},
     "output_type": "execute_result"
    }
   ],
   "source": [
    "# gives Total Lifetime grosses box\n",
    "movie_data[0].text"
   ]
  },
  {
   "cell_type": "code",
   "execution_count": 108,
   "metadata": {
    "collapsed": false
   },
   "outputs": [
    {
     "data": {
      "text/plain": [
       "<div class=\"mp_box_content\">\\n<table border=\"0\" cellpadding=\"0\" cellspacing=\"0\">\\n<tr>\\n<td align=\"center\"><a href=\"/weekend/chart/?yr=2015&amp;wknd=51&amp;p=.htm\">Opening\\xa0Weekend:</a></td><td>\\xa0$247,966,675</td></tr>\\n<tr>\\n<td align=\"center\" colspan=\"2\"><font size=\"2\">(#1 rank, 4,134 theaters, $59,982 average)</font></td></tr>\\n<tr>\\n<td align=\"right\">%\\xa0of\\xa0Total\\xa0Gross:</td><td>\\xa026.5%</td></tr>\\n<tr><td align=\"right\" colspan=\"2\"><font face=\"Helvetica, Arial, Sans-Serif\" size=\"1\"><a href=\"/movies/?page=weekend&amp;id=starwars7.htm\"><b>&gt; View All 24 Weekends</b></a></font></td></tr>\\n</table>\\n<table border=\"0\" cellpadding=\"0\" cellspacing=\"0\">\\n<tr>\\n<td>Widest\\xa0Release:</td>\\n<td>\\xa04,134 theaters</td>\\n</tr>\\n</table>\\n<table border=\"0\" cellpadding=\"0\" cellspacing=\"0\">\\n<tr>\\n<td>Close\\xa0Date:</td>\\n<td>\\xa0June 2, 2016</td>\\n</tr>\\n</table>\\n<table border=\"0\" cellpadding=\"0\" cellspacing=\"0\">\\n<tr>\\n<td>In Release:</td>\\n<td>\\xa0168 days / 24 weeks</td>\\n</tr>\\n</table>\\n</div>"
      ]
     },
     "execution_count": 108,
     "metadata": {},
     "output_type": "execute_result"
    }
   ],
   "source": [
    "# gives Domestic summary box\n",
    "movie_data[1]"
   ]
  },
  {
   "cell_type": "code",
   "execution_count": 106,
   "metadata": {
    "collapsed": false
   },
   "outputs": [
    {
     "data": {
      "text/plain": [
       "<div class=\"mp_box_content\">\\n<table>\\n</table></div>"
      ]
     },
     "execution_count": 106,
     "metadata": {},
     "output_type": "execute_result"
    }
   ],
   "source": [
    "# nothing\n",
    "movie_data[2]"
   ]
  },
  {
   "cell_type": "code",
   "execution_count": 105,
   "metadata": {
    "collapsed": false
   },
   "outputs": [
    {
     "data": {
      "text/plain": [
       "<div class=\"mp_box_content\"><table border=\"0\" cellpadding=\"5\" cellspacing=\"0\" width=\"100%\"><tr><td><a href=\"/oscar/movies/?id=starwars7.htm\"><b>Nominated for Five Oscars.</b><br/>View full award breakdown...</a></td></tr></table></div>"
      ]
     },
     "execution_count": 105,
     "metadata": {},
     "output_type": "execute_result"
    }
   ],
   "source": [
    "# academy awards box\n",
    "movie_data[3]"
   ]
  },
  {
   "cell_type": "code",
   "execution_count": 98,
   "metadata": {
    "collapsed": false
   },
   "outputs": [
    {
     "data": {
      "text/plain": [
       "<div class=\"mp_box_content\">\\n<table border=\"0\" cellpadding=\"5\" cellspacing=\"1\" style=\"border-collapse: collapse\" width=\"100%\">\\n<tr><th>Genre</th>\\n<th>Rank</th></tr>\\n<tr bgcolor=\"#ffffff\"><td><font size=\"2\"><a href=\"/genres/chart/?id=3d.htm\"><b>3D</b></a></font></td>\\n<td align=\"center\"><font size=\"2\"><b>1</b></font></td>\\n</tr>\\n<tr bgcolor=\"#f4f4ff\"><td><font size=\"2\"><a href=\"/genres/chart/?id=imax.htm\"><b>IMAX (Feature-length)</b></a></font></td>\\n<td align=\"center\"><font size=\"2\"><b>1</b></font></td>\\n</tr>\\n<tr bgcolor=\"#ffffff\"><td><font size=\"2\"><a href=\"/genres/chart/?id=scifiadventure.htm\"><b>Sci-Fi - Adventure</b></a></font></td>\\n<td align=\"center\"><font size=\"2\"><b>1</b></font></td>\\n</tr>\\n</table>\\n</div>"
      ]
     },
     "execution_count": 98,
     "metadata": {},
     "output_type": "execute_result"
    }
   ],
   "source": [
    "# genre box\n",
    "movie_data[4]"
   ]
  },
  {
   "cell_type": "code",
   "execution_count": 100,
   "metadata": {
    "collapsed": false
   },
   "outputs": [
    {
     "data": {
      "text/plain": [
       "u'\\n\\nFranchise\\nRank\\nSeries: Star Wars\\n1\\n\\nBrand: Bad Robot\\n1\\n\\nBrand: Lucasfilm\\n1\\n\\nShowdown: All Time Grossers\\n1\\n\\nShowdown: All Time Openers\\n1\\n\\nShowdown: December Sci-Fi Battle\\n1\\n\\nShowdown: King Size Domestic Grosses\\n1\\n\\nShowdown: Opening Weekend Showdown\\n1\\n\\n'"
      ]
     },
     "execution_count": 100,
     "metadata": {},
     "output_type": "execute_result"
    }
   ],
   "source": [
    "# franchise box\n",
    "movie_data[5].text"
   ]
  },
  {
   "cell_type": "code",
   "execution_count": 101,
   "metadata": {
    "collapsed": false,
    "scrolled": true
   },
   "outputs": [
    {
     "data": {
      "text/plain": [
       "u\"\\n\\nChart\\nRank\\n\\nAll Time Domestic\\n1\\n\\nAll Time Adjusted\\n11\\n\\nAll Time Worldwide\\n3\\n\\nTop Movies in the Past 365 Days\\n1\\n\\nWorldwide Openings\\n1\\n\\nForeign Opening Weekends\\n3\\n\\nOpening Weeks\\n1\\n\\nOpening Day Gross\\n1\\n\\nSingle Day Gross\\n1\\n\\nNon-Opening Friday Gross\\n1\\n\\nNon-Opening Thursday Gross\\n2\\n\\nNon-Opening Tuesday Gross\\n1\\n\\nNon-Opening Wednesday Gross\\n1\\n\\nSingle Day Friday Gross\\n1\\n\\nSingle Day Monday Gross\\n1\\n\\nSingle Day Saturday Gross\\n3\\n\\nSingle Day Sunday Gross\\n1\\n\\nSingle Day Thursday Gross\\n6\\n\\nSingle Day Tuesday Gross\\n1\\n\\nSingle Day Wednesday Gross\\n6\\n\\nNon-Holiday Monday Gross\\n1\\n\\nTheater Averages (Wide Releases) - All Time\\n16\\n\\nTheater Averages (Wide Releases) - All Time\\n1\\n\\nTheater Averages (Wide Releases) - All Time\\n76\\n\\nTheater Averages - All Time Adjusted\\n85\\n\\nTheater Averages - Opening Weekends\\n72\\n\\nTheater Averages - Wide Opening Weekends\\n1\\n\\nNew Years Days\\n1\\n\\nChristmas Days\\n1\\n\\nFriday Share of Opening Weekends\\n30\\n\\nFriday to Saturday Drops on Opening Weekends\\n15\\n\\nOpening Weekends\\n1\\n\\nOpening Weekends - December\\n1\\n\\nOpening Weekends - Holiday\\n1\\n\\nEleventh Weekends\\n46\\n\\nNinth Weekends\\n22\\n\\nTenth Weekends\\n38\\n\\nTop 10-Day Grosses\\n1\\n\\nTop 3-Day Grosses\\n1\\n\\nTop 4-Day Grosses\\n1\\n\\nTop 6-Day Grosses\\n1\\n\\nTop 7-Day Grosses\\n1\\n\\nTop 8-Day Grosses\\n1\\n\\nTop 9-Day Grosses\\n1\\n\\nTwelfth Weekends\\n89\\n\\nTwelfth Weekends\\n71\\n\\nTop 5-Day Grosses\\n1\\n\\nMost Weekends at #1 (non-consecutive)\\n33\\n\\nMost Weekends in Top 10 (non-consecutive)\\n140\\n\\nMost Weekends in Top 5 (non-consecutive)\\n49\\n\\nConsecutive Weekends At #1\\n25\\n\\nConsecutive Weekends In Top 10\\n118\\n\\nConsecutive Weekends In Top 5\\n40\\n\\nMartin Lurther King 4-Day Holiday Weekends\\n12\\n\\nPresident's Day 4-Day Holiday Weekends\\n147\\n\\nSecond Weekends\\n1\\n\\nThird Weekends\\n1\\n\\nFourth Weekends\\n2\\n\\nFifth Weekends\\n4\\n\\nSixth Weekends\\n11\\n\\nSeventh Weekends\\n10\\n\\nEighth Weekends\\n24\\n\\nSmallest Drops, 3,000+ theaters (Super-Saturation)\\n231\\n\\nSmallest Drops, 2,500+ theaters (Saturation)\\n470\\n\\nSmallest Drops, 2,000+ theaters (Very Wide)\\n703\\n\\nSmallest Drops, All Wide Releases\\n1,837\\n\\nRated PG-13\\n1\\n\\nRated PG-13, Opening Weekends\\n1\\n\\nWidest Releases\\n45\\n\\nWidest Opening Releases\\n38\\n\\nWidest PG-13 Rated Openings\\n29\\n\\nWidest PG-13 Rated Releases\\n30\\n\\nFastest to $100 million\\n1\\n\\nFastest to $150 million\\n1\\n\\nFastest to $200 million\\n1\\n\\nFastest to $250 million\\n1\\n\\nFastest to $300 million\\n1\\n\\nFastest to $350 million\\n1\\n\\nFastest to $400 million\\n1\\n\\nFastest to $450 million\\n1\\n\\nFastest to $500 million\\n1\\n\\nSlowest to $100 million\\n609\\n\\nSlowest to $200 million\\n164\\n\\nCharts (Premier Pass Users Only)RankHighest All Time Rank (on January 7, 2016)\\n1\\n\\nOpening Weeks Adjusted\\n1\\n\\nNon-Opening Friday Gross Adjusted\\n1\\n\\nNon-Opening Thursday Gross Adjusted\\n4\\n\\nNon-Opening Tuesday Gross Adjusted\\n1\\n\\nNon-Opening Wednesday Gross Adjusted\\n1\\n\\nSingle Day Friday Gross Adjusted\\n1\\n\\nSingle Day Monday Gross Adjusted\\n1\\n\\nSingle Day Saturday Gross Adjusted\\n3\\n\\nSingle Day Sunday Gross Adjusted\\n2\\n\\nSingle Day Thursday Gross Adjusted\\n9\\n\\nSingle Day Tuesday Gross Adjusted\\n2\\n\\nSingle Day Wednesday Gross Adjusted\\n11\\n\\nTheater Averages (Wide Releases) - All Time Adjusted\\n45\\n\\nTheater Averages (Wide Releases) - All Time Adjusted\\n2\\n\\nTheater Averages - Wide Opening Weekends Adjusted\\n2\\n\\nOpening Weekends Adjusted - December\\n1\\n\\nOpening Weekends Adjusted\\n1\\n\\nOpening Weekends Adjusted - Holiday\\n1\\n\\nEleventh Weekends Adjusted\\n111\\n\\nNinth Weekends Adjusted\\n78\\n\\nTenth Weekends Adjusted\\n112\\n\\nTwelfth Weekends Adjusted\\n148\\n\\nSecond Weekends Adjusted\\n1\\n\\nThird Weekends Adjusted\\n1\\n\\nFourth Weekends Adjusted\\n4\\n\\nFifth Weekends Adjusted\\n14\\n\\nSixth Weekends Adjusted\\n55\\n\\nSeventh Weekends Adjusted\\n60\\n\\nEighth Weekends Adjusted\\n99\\n\\nRated PG-13 Adjusted\\n2\\n\\nRated PG-13, Opening Weekends Adjusted\\n1\\n\\n\""
      ]
     },
     "execution_count": 101,
     "metadata": {},
     "output_type": "execute_result"
    }
   ],
   "source": [
    "# charts box\n",
    "movie_data[6].text"
   ]
  },
  {
   "cell_type": "code",
   "execution_count": 102,
   "metadata": {
    "collapsed": false,
    "scrolled": true
   },
   "outputs": [
    {
     "data": {
      "text/plain": [
       "u\"5/10 Disney Makes History, Topping $1 Billion in Domestic Ticket Sales in Just 128 Days2/28 The 'Gods of Egypt' are No Match for 'Deadpool', Which Climbs to $285+ Million Domestically2/25 'Gods of Egypt', 'Triple 9' & 'Eddie the Eagle' Hit Theaters While 'Deadpool' Threepeats2/14 'Deadpool' Smashes Box Office Records On Way to $260 Million Worldwide Opening2/11 Updated: 'Deadpool' Targets #1 Opening Over 'How to Be Single' & 'Zoolander 2'2/7 'Kung Fu Panda 3' Tops Super Bowl Weekend; 'Hail, Caesar!' Leads Newcomers2/6 'Star Wars: Force Awakens' First Ever to Cross $900 Million Domestically1/31 'Kung Fu Panda 3' #1; Holdovers Make Up for Money Lost in the Snow1/28 Weekend Preview: 'Kung Fu Panda 3' To Top 'Fifty Shades of Black' and 'Finest Hours'1/24 'The Revenant' Weathers Snow Storm While Weekend's Newcomers Perform as Expected1/17 'Ride Along 2' #1, 'Revenant' Holds Strong and 'Star Wars' Crosses $1 Billion Internationally1/14 'Ride Along 2' and 'Revenant' Look to Remove 'Star Wars' from Its Perch1/10 'The Revenant' Storms the Box Office; 'Star Wars' Opens with $53M in China1/7 'Star Wars: Force Awakens' Becomes Highest Grossing Domestic Release of All-Time1/6 Update: 'Star Wars' Opens in China; 'Revenant' & 'The Forest' Make Domestic Bows1/3 'Star Wars' Crosses $700 Million Domestically as 2016 is Off to a Strong Start12/31/15 Forecast: January 2016 Looks to Get Off to a Sizzling Start12/30/15 2015 Box Office Totals a Record $11 Billion12/27/15 'Star Wars: Force Awakens' Crosses $1 Billion Worldwide, Topping Christmas Weekend12/24/15 Christmas Forecast: 'Star Wars' Second Weekend Faces Five New Wide Releases12/22/15 UPDATED: 'Star Wars: Force Awakens' Targets Christmas Miracle, Destroys Monday Record12/20/15 'Star Wars: The Force Awakens' Crushes Records, Topping Largest Box Office Weekend of All Time12/19/15 'Star Wars: The Force Awakens' Shatters Opening Day Record12/18/15 'Star Wars: The Force Awakens' Targets Record Breaking $100M+ Opening Day12/17/15 Forecast: 'Star Wars: The Force Awakens'... Will Box Office Records Feel the Force?12/13/15 'In the Heart of the Sea' Runs Ashore Giving 'Mockingjay 2' Its Fourth Straight #112/10/15 'In the Heart of the Sea' Goes Hunting for #1 Before 'Star Wars' Arrives\""
      ]
     },
     "execution_count": 102,
     "metadata": {},
     "output_type": "execute_result"
    }
   ],
   "source": [
    "# Related Stories box\n",
    "movie_data[7].text"
   ]
  },
  {
   "cell_type": "code",
   "execution_count": 103,
   "metadata": {
    "collapsed": false
   },
   "outputs": [
    {
     "data": {
      "text/plain": [
       "u'\\nStar Wars: The Force Awakens [Blu-ray]\\n'"
      ]
     },
     "execution_count": 103,
     "metadata": {},
     "output_type": "execute_result"
    }
   ],
   "source": [
    "# Related Products\n",
    "movie_data[8].text"
   ]
  },
  {
   "cell_type": "markdown",
   "metadata": {},
   "source": [
    "# Different approach, find all tables "
   ]
  },
  {
   "cell_type": "code",
   "execution_count": 109,
   "metadata": {
    "collapsed": true
   },
   "outputs": [],
   "source": [
    "bmojo = movie_soup.find_all('table')"
   ]
  },
  {
   "cell_type": "code",
   "execution_count": 110,
   "metadata": {
    "collapsed": false
   },
   "outputs": [
    {
     "data": {
      "text/plain": [
       "20"
      ]
     },
     "execution_count": 110,
     "metadata": {},
     "output_type": "execute_result"
    }
   ],
   "source": [
    "len(bmojo)"
   ]
  },
  {
   "cell_type": "code",
   "execution_count": 112,
   "metadata": {
    "collapsed": false
   },
   "outputs": [
    {
     "data": {
      "text/plain": [
       "u'\\n\\n\\n\\n\\n\\n\\n\\nAdjuster:\\n\\nActuals\\nEst. Tckts\\n\\r\\n  for(i=2016; i>=1933; i--) {\\r\\n  \\tdocument.write(\\'<option value=\"\\' + i + \\'\"\\');\\r\\n\\tif(i==\\'0\\') document.write(\\' selected\\');\\r\\n\\tdocument.write(\\'>\\' + i );\\r\\n\\tif(i==\\'0\\') document.write(\\', $\\' + \\'0.00\\');\\r\\n\\tdocument.write(\\'</option>\\');\\r\\n  }\\r\\n\\n1929\\n1924\\n1910\\n\\n\\n\\n\\n'"
      ]
     },
     "execution_count": 112,
     "metadata": {},
     "output_type": "execute_result"
    }
   ],
   "source": [
    "# Page header info\n",
    "bmojo[0].text"
   ]
  },
  {
   "cell_type": "code",
   "execution_count": 114,
   "metadata": {
    "collapsed": false
   },
   "outputs": [
    {
     "data": {
      "text/plain": [
       "u'\\n\\n\\n\\n\\nAdjuster:\\n\\nActuals\\nEst. Tckts\\n\\r\\n  for(i=2016; i>=1933; i--) {\\r\\n  \\tdocument.write(\\'<option value=\"\\' + i + \\'\"\\');\\r\\n\\tif(i==\\'0\\') document.write(\\' selected\\');\\r\\n\\tdocument.write(\\'>\\' + i );\\r\\n\\tif(i==\\'0\\') document.write(\\', $\\' + \\'0.00\\');\\r\\n\\tdocument.write(\\'</option>\\');\\r\\n  }\\r\\n\\n1929\\n1924\\n1910\\n\\n'"
      ]
     },
     "execution_count": 114,
     "metadata": {},
     "output_type": "execute_result"
    }
   ],
   "source": [
    "bmojo[1].text"
   ]
  },
  {
   "cell_type": "code",
   "execution_count": 115,
   "metadata": {
    "collapsed": false
   },
   "outputs": [
    {
     "data": {
      "text/plain": [
       "u'\\n \\n\\n \\nStar Wars:The Force Awakens\\n\\nDomestic Total Gross: $936,662,225Distributor: Buena VistaRelease Date: December 18, 2015Genre: Sci-Fi FantasyRuntime: 2 hrs. 16 min.MPAA Rating: PG-13Production Budget: $245 million \\n\\n\\n    googletag.cmd.push(function() {\\n        googletag.defineSlot(\"/4215/imdb2.bom.movie\", [[300, 250]], \"ad-slot-2\").addService(googletag.pubads().setTargeting(\"p\", \"rh\"));\\n        googletag.pubads().enableSingleRequest();\\n        googletag.enableServices();\\n    });\\n    googletag.cmd.push(function() { googletag.display(\"ad-slot-2\"); });\\n\\n\\n\\n\\n\\n\\nSummary\\nDaily\\nWeekend\\nWeekly\\nForeign\\nSimilar Movies\\n\\n\\n\\n\\n\\n\\n\\n\\n\\nTotal Lifetime Grosses'"
      ]
     },
     "execution_count": 115,
     "metadata": {},
     "output_type": "execute_result"
    }
   ],
   "source": [
    "# First big box on page with movie name and general summary\n",
    "bmojo[2]"
   ]
  },
  {
   "cell_type": "code",
   "execution_count": 117,
   "metadata": {
    "collapsed": false
   },
   "outputs": [
    {
     "data": {
      "text/plain": [
       "u'\\n \\nStar Wars:The Force Awakens\\n\\nDomestic Total Gross: $936,662,225Distributor: Buena VistaRelease Date: December 18, 2015Genre: Sci-Fi FantasyRuntime: 2 hrs. 16 min.MPAA Rating: PG-13Production Budget: $245 million \\n\\n\\n    googletag.cmd.push(function() {\\n        googletag.defineSlot(\"/4215/imdb2.bom.movie\", [[300, 250]], \"ad-slot-2\").addService(googletag.pubads().setTargeting(\"p\", \"rh\"));\\n        googletag.pubads().enableSingleRequest();\\n        googletag.enableServices();\\n    });\\n    googletag.cmd.push(function() { googletag.display(\"ad-slot-2\"); });\\n\\n\\n'"
      ]
     },
     "execution_count": 117,
     "metadata": {},
     "output_type": "execute_result"
    }
   ],
   "source": [
    "# Basically the same as bmojo[2] but maybe easier to scrape\n",
    "bmojo[3].text"
   ]
  },
  {
   "cell_type": "code",
   "execution_count": 118,
   "metadata": {
    "collapsed": false
   },
   "outputs": [
    {
     "data": {
      "text/plain": [
       "u'\\nDomestic Total Gross: $936,662,225Distributor: Buena VistaRelease Date: December 18, 2015Genre: Sci-Fi FantasyRuntime: 2 hrs. 16 min.MPAA Rating: PG-13Production Budget: $245 million \\n'"
      ]
     },
     "execution_count": 118,
     "metadata": {},
     "output_type": "execute_result"
    }
   ],
   "source": [
    "# Sub table of top table, omits movie name\n",
    "bmojo[4].text"
   ]
  },
  {
   "cell_type": "code",
   "execution_count": 119,
   "metadata": {
    "collapsed": false
   },
   "outputs": [
    {
     "data": {
      "text/plain": [
       "u'Domestic Total Gross: $936,662,225Distributor: Buena VistaRelease Date: December 18, 2015Genre: Sci-Fi FantasyRuntime: 2 hrs. 16 min.MPAA Rating: PG-13Production Budget: $245 million'"
      ]
     },
     "execution_count": 119,
     "metadata": {},
     "output_type": "execute_result"
    }
   ],
   "source": [
    "# another sub table\n",
    "bmojo[5].text"
   ]
  },
  {
   "cell_type": "code",
   "execution_count": 120,
   "metadata": {
    "collapsed": false
   },
   "outputs": [
    {
     "data": {
      "text/plain": [
       "u'\\n\\n\\nSummary\\nDaily\\nWeekend\\nWeekly\\nForeign\\nSimilar Movies\\n\\n\\n\\n\\n\\n\\n\\n\\n\\nTotal Lifetime Grosses'"
      ]
     },
     "execution_count": 120,
     "metadata": {},
     "output_type": "execute_result"
    }
   ],
   "source": [
    "# column/tab info just below main movie summary\n",
    "bmojo[6].text"
   ]
  },
  {
   "cell_type": "code",
   "execution_count": 121,
   "metadata": {
    "collapsed": false
   },
   "outputs": [
    {
     "data": {
      "text/plain": [
       "u'\\n\\n\\n\\n\\nTotal Lifetime Grosses'"
      ]
     },
     "execution_count": 121,
     "metadata": {},
     "output_type": "execute_result"
    }
   ],
   "source": [
    "# header for total lifetime grosses box\n",
    "bmojo[7].text"
   ]
  },
  {
   "cell_type": "code",
   "execution_count": 122,
   "metadata": {
    "collapsed": false
   },
   "outputs": [
    {
     "data": {
      "text/plain": [
       "u'\\n\\n\\nTotal Lifetime Grosses'"
      ]
     },
     "execution_count": 122,
     "metadata": {},
     "output_type": "execute_result"
    }
   ],
   "source": [
    "# same as above\n",
    "bmojo[8].text"
   ]
  },
  {
   "cell_type": "code",
   "execution_count": 123,
   "metadata": {
    "collapsed": false
   },
   "outputs": [
    {
     "data": {
      "text/plain": [
       "u'\\n\\nDomestic:\\n\\xa0$936,662,225\\n\\xa0\\xa0\\xa045.3%\\n\\n\\n+\\xa0Foreign:\\n\\xa0$1,131,516,000\\n\\xa0\\xa0\\xa054.7%\\n\\n\\n\\n\\n\\n=\\xa0Worldwide:\\n\\xa0$2,068,178,225\\n\\xa0\\n\\n'"
      ]
     },
     "execution_count": 123,
     "metadata": {},
     "output_type": "execute_result"
    }
   ],
   "source": [
    "# values inside total lifetime grosses box\n",
    "bmojo[9].text"
   ]
  },
  {
   "cell_type": "code",
   "execution_count": 124,
   "metadata": {
    "collapsed": false
   },
   "outputs": [
    {
     "data": {
      "text/plain": [
       "u'\\n\\nOpening\\xa0Weekend:\\xa0$247,966,675\\n\\n(#1 rank, 4,134 theaters, $59,982 average)\\n\\n%\\xa0of\\xa0Total\\xa0Gross:\\xa026.5%\\n> View All 24 Weekends\\n'"
      ]
     },
     "execution_count": 124,
     "metadata": {},
     "output_type": "execute_result"
    }
   ],
   "source": [
    "# Domesetic summary box\n",
    "bmojo[10].text"
   ]
  },
  {
   "cell_type": "code",
   "execution_count": 125,
   "metadata": {
    "collapsed": false
   },
   "outputs": [
    {
     "data": {
      "text/plain": [
       "u'\\n\\nWidest\\xa0Release:\\n\\xa04,134 theaters\\n\\n'"
      ]
     },
     "execution_count": 125,
     "metadata": {},
     "output_type": "execute_result"
    }
   ],
   "source": [
    "# widest release info\n",
    "bmojo[11].text"
   ]
  },
  {
   "cell_type": "code",
   "execution_count": 126,
   "metadata": {
    "collapsed": false
   },
   "outputs": [
    {
     "data": {
      "text/plain": [
       "u'\\n\\nClose\\xa0Date:\\n\\xa0June 2, 2016\\n\\n'"
      ]
     },
     "execution_count": 126,
     "metadata": {},
     "output_type": "execute_result"
    }
   ],
   "source": [
    "# Close date\n",
    "bmojo[12].text"
   ]
  },
  {
   "cell_type": "code",
   "execution_count": 127,
   "metadata": {
    "collapsed": false
   },
   "outputs": [
    {
     "data": {
      "text/plain": [
       "u'\\n\\nIn Release:\\n\\xa0168 days / 24 weeks\\n\\n'"
      ]
     },
     "execution_count": 127,
     "metadata": {},
     "output_type": "execute_result"
    }
   ],
   "source": [
    "# In Release thing...not necessary\n",
    "bmojo[13].text"
   ]
  },
  {
   "cell_type": "code",
   "execution_count": 128,
   "metadata": {
    "collapsed": false
   },
   "outputs": [
    {
     "data": {
      "text/plain": [
       "u'\\n'"
      ]
     },
     "execution_count": 128,
     "metadata": {},
     "output_type": "execute_result"
    }
   ],
   "source": [
    "# nothing\n",
    "bmojo[14].text"
   ]
  },
  {
   "cell_type": "code",
   "execution_count": 129,
   "metadata": {
    "collapsed": false
   },
   "outputs": [
    {
     "data": {
      "text/plain": [
       "u'Nominated for Five Oscars.View full award breakdown...'"
      ]
     },
     "execution_count": 129,
     "metadata": {},
     "output_type": "execute_result"
    }
   ],
   "source": [
    "# Oscar nominations\n",
    "bmojo[15].text"
   ]
  },
  {
   "cell_type": "code",
   "execution_count": 130,
   "metadata": {
    "collapsed": false
   },
   "outputs": [
    {
     "data": {
      "text/plain": [
       "u'\\nGenre\\nRank\\n3D\\n1\\n\\nIMAX (Feature-length)\\n1\\n\\nSci-Fi - Adventure\\n1\\n\\n'"
      ]
     },
     "execution_count": 130,
     "metadata": {},
     "output_type": "execute_result"
    }
   ],
   "source": [
    "# Genre box\n",
    "bmojo[16].text"
   ]
  },
  {
   "cell_type": "code",
   "execution_count": 131,
   "metadata": {
    "collapsed": false
   },
   "outputs": [
    {
     "data": {
      "text/plain": [
       "u'\\nFranchise\\nRank\\nSeries: Star Wars\\n1\\n\\nBrand: Bad Robot\\n1\\n\\nBrand: Lucasfilm\\n1\\n\\nShowdown: All Time Grossers\\n1\\n\\nShowdown: All Time Openers\\n1\\n\\nShowdown: December Sci-Fi Battle\\n1\\n\\nShowdown: King Size Domestic Grosses\\n1\\n\\nShowdown: Opening Weekend Showdown\\n1\\n\\n'"
      ]
     },
     "execution_count": 131,
     "metadata": {},
     "output_type": "execute_result"
    }
   ],
   "source": [
    "# Franchise box\n",
    "bmojo[17].text"
   ]
  },
  {
   "cell_type": "code",
   "execution_count": 132,
   "metadata": {
    "collapsed": false,
    "scrolled": true
   },
   "outputs": [
    {
     "data": {
      "text/plain": [
       "u\"\\nChart\\nRank\\n\\nAll Time Domestic\\n1\\n\\nAll Time Adjusted\\n11\\n\\nAll Time Worldwide\\n3\\n\\nTop Movies in the Past 365 Days\\n1\\n\\nWorldwide Openings\\n1\\n\\nForeign Opening Weekends\\n3\\n\\nOpening Weeks\\n1\\n\\nOpening Day Gross\\n1\\n\\nSingle Day Gross\\n1\\n\\nNon-Opening Friday Gross\\n1\\n\\nNon-Opening Thursday Gross\\n2\\n\\nNon-Opening Tuesday Gross\\n1\\n\\nNon-Opening Wednesday Gross\\n1\\n\\nSingle Day Friday Gross\\n1\\n\\nSingle Day Monday Gross\\n1\\n\\nSingle Day Saturday Gross\\n3\\n\\nSingle Day Sunday Gross\\n1\\n\\nSingle Day Thursday Gross\\n6\\n\\nSingle Day Tuesday Gross\\n1\\n\\nSingle Day Wednesday Gross\\n6\\n\\nNon-Holiday Monday Gross\\n1\\n\\nTheater Averages (Wide Releases) - All Time\\n16\\n\\nTheater Averages (Wide Releases) - All Time\\n1\\n\\nTheater Averages (Wide Releases) - All Time\\n76\\n\\nTheater Averages - All Time Adjusted\\n85\\n\\nTheater Averages - Opening Weekends\\n72\\n\\nTheater Averages - Wide Opening Weekends\\n1\\n\\nNew Years Days\\n1\\n\\nChristmas Days\\n1\\n\\nFriday Share of Opening Weekends\\n30\\n\\nFriday to Saturday Drops on Opening Weekends\\n15\\n\\nOpening Weekends\\n1\\n\\nOpening Weekends - December\\n1\\n\\nOpening Weekends - Holiday\\n1\\n\\nEleventh Weekends\\n46\\n\\nNinth Weekends\\n22\\n\\nTenth Weekends\\n38\\n\\nTop 10-Day Grosses\\n1\\n\\nTop 3-Day Grosses\\n1\\n\\nTop 4-Day Grosses\\n1\\n\\nTop 6-Day Grosses\\n1\\n\\nTop 7-Day Grosses\\n1\\n\\nTop 8-Day Grosses\\n1\\n\\nTop 9-Day Grosses\\n1\\n\\nTwelfth Weekends\\n89\\n\\nTwelfth Weekends\\n71\\n\\nTop 5-Day Grosses\\n1\\n\\nMost Weekends at #1 (non-consecutive)\\n33\\n\\nMost Weekends in Top 10 (non-consecutive)\\n140\\n\\nMost Weekends in Top 5 (non-consecutive)\\n49\\n\\nConsecutive Weekends At #1\\n25\\n\\nConsecutive Weekends In Top 10\\n118\\n\\nConsecutive Weekends In Top 5\\n40\\n\\nMartin Lurther King 4-Day Holiday Weekends\\n12\\n\\nPresident's Day 4-Day Holiday Weekends\\n147\\n\\nSecond Weekends\\n1\\n\\nThird Weekends\\n1\\n\\nFourth Weekends\\n2\\n\\nFifth Weekends\\n4\\n\\nSixth Weekends\\n11\\n\\nSeventh Weekends\\n10\\n\\nEighth Weekends\\n24\\n\\nSmallest Drops, 3,000+ theaters (Super-Saturation)\\n231\\n\\nSmallest Drops, 2,500+ theaters (Saturation)\\n470\\n\\nSmallest Drops, 2,000+ theaters (Very Wide)\\n703\\n\\nSmallest Drops, All Wide Releases\\n1,837\\n\\nRated PG-13\\n1\\n\\nRated PG-13, Opening Weekends\\n1\\n\\nWidest Releases\\n45\\n\\nWidest Opening Releases\\n38\\n\\nWidest PG-13 Rated Openings\\n29\\n\\nWidest PG-13 Rated Releases\\n30\\n\\nFastest to $100 million\\n1\\n\\nFastest to $150 million\\n1\\n\\nFastest to $200 million\\n1\\n\\nFastest to $250 million\\n1\\n\\nFastest to $300 million\\n1\\n\\nFastest to $350 million\\n1\\n\\nFastest to $400 million\\n1\\n\\nFastest to $450 million\\n1\\n\\nFastest to $500 million\\n1\\n\\nSlowest to $100 million\\n609\\n\\nSlowest to $200 million\\n164\\n\\nCharts (Premier Pass Users Only)RankHighest All Time Rank (on January 7, 2016)\\n1\\n\\nOpening Weeks Adjusted\\n1\\n\\nNon-Opening Friday Gross Adjusted\\n1\\n\\nNon-Opening Thursday Gross Adjusted\\n4\\n\\nNon-Opening Tuesday Gross Adjusted\\n1\\n\\nNon-Opening Wednesday Gross Adjusted\\n1\\n\\nSingle Day Friday Gross Adjusted\\n1\\n\\nSingle Day Monday Gross Adjusted\\n1\\n\\nSingle Day Saturday Gross Adjusted\\n3\\n\\nSingle Day Sunday Gross Adjusted\\n2\\n\\nSingle Day Thursday Gross Adjusted\\n9\\n\\nSingle Day Tuesday Gross Adjusted\\n2\\n\\nSingle Day Wednesday Gross Adjusted\\n11\\n\\nTheater Averages (Wide Releases) - All Time Adjusted\\n45\\n\\nTheater Averages (Wide Releases) - All Time Adjusted\\n2\\n\\nTheater Averages - Wide Opening Weekends Adjusted\\n2\\n\\nOpening Weekends Adjusted - December\\n1\\n\\nOpening Weekends Adjusted\\n1\\n\\nOpening Weekends Adjusted - Holiday\\n1\\n\\nEleventh Weekends Adjusted\\n111\\n\\nNinth Weekends Adjusted\\n78\\n\\nTenth Weekends Adjusted\\n112\\n\\nTwelfth Weekends Adjusted\\n148\\n\\nSecond Weekends Adjusted\\n1\\n\\nThird Weekends Adjusted\\n1\\n\\nFourth Weekends Adjusted\\n4\\n\\nFifth Weekends Adjusted\\n14\\n\\nSixth Weekends Adjusted\\n55\\n\\nSeventh Weekends Adjusted\\n60\\n\\nEighth Weekends Adjusted\\n99\\n\\nRated PG-13 Adjusted\\n2\\n\\nRated PG-13, Opening Weekends Adjusted\\n1\\n\\n\""
      ]
     },
     "execution_count": 132,
     "metadata": {},
     "output_type": "execute_result"
    }
   ],
   "source": [
    "# giant chart box\n",
    "bmojo[18].text"
   ]
  },
  {
   "cell_type": "code",
   "execution_count": 133,
   "metadata": {
    "collapsed": false,
    "scrolled": true
   },
   "outputs": [
    {
     "data": {
      "text/plain": [
       "u\"5/10 Disney Makes History, Topping $1 Billion in Domestic Ticket Sales in Just 128 Days2/28 The 'Gods of Egypt' are No Match for 'Deadpool', Which Climbs to $285+ Million Domestically2/25 'Gods of Egypt', 'Triple 9' & 'Eddie the Eagle' Hit Theaters While 'Deadpool' Threepeats2/14 'Deadpool' Smashes Box Office Records On Way to $260 Million Worldwide Opening2/11 Updated: 'Deadpool' Targets #1 Opening Over 'How to Be Single' & 'Zoolander 2'2/7 'Kung Fu Panda 3' Tops Super Bowl Weekend; 'Hail, Caesar!' Leads Newcomers2/6 'Star Wars: Force Awakens' First Ever to Cross $900 Million Domestically1/31 'Kung Fu Panda 3' #1; Holdovers Make Up for Money Lost in the Snow1/28 Weekend Preview: 'Kung Fu Panda 3' To Top 'Fifty Shades of Black' and 'Finest Hours'1/24 'The Revenant' Weathers Snow Storm While Weekend's Newcomers Perform as Expected1/17 'Ride Along 2' #1, 'Revenant' Holds Strong and 'Star Wars' Crosses $1 Billion Internationally1/14 'Ride Along 2' and 'Revenant' Look to Remove 'Star Wars' from Its Perch1/10 'The Revenant' Storms the Box Office; 'Star Wars' Opens with $53M in China1/7 'Star Wars: Force Awakens' Becomes Highest Grossing Domestic Release of All-Time1/6 Update: 'Star Wars' Opens in China; 'Revenant' & 'The Forest' Make Domestic Bows1/3 'Star Wars' Crosses $700 Million Domestically as 2016 is Off to a Strong Start12/31/15 Forecast: January 2016 Looks to Get Off to a Sizzling Start12/30/15 2015 Box Office Totals a Record $11 Billion12/27/15 'Star Wars: Force Awakens' Crosses $1 Billion Worldwide, Topping Christmas Weekend12/24/15 Christmas Forecast: 'Star Wars' Second Weekend Faces Five New Wide Releases12/22/15 UPDATED: 'Star Wars: Force Awakens' Targets Christmas Miracle, Destroys Monday Record12/20/15 'Star Wars: The Force Awakens' Crushes Records, Topping Largest Box Office Weekend of All Time12/19/15 'Star Wars: The Force Awakens' Shatters Opening Day Record12/18/15 'Star Wars: The Force Awakens' Targets Record Breaking $100M+ Opening Day12/17/15 Forecast: 'Star Wars: The Force Awakens'... Will Box Office Records Feel the Force?12/13/15 'In the Heart of the Sea' Runs Ashore Giving 'Mockingjay 2' Its Fourth Straight #112/10/15 'In the Heart of the Sea' Goes Hunting for #1 Before 'Star Wars' Arrives\""
      ]
     },
     "execution_count": 133,
     "metadata": {},
     "output_type": "execute_result"
    }
   ],
   "source": [
    "# News box\n",
    "bmojo[19].text"
   ]
  },
  {
   "cell_type": "markdown",
   "metadata": {},
   "source": [
    "# cant really figure out how to get the actors..."
   ]
  },
  {
   "cell_type": "code",
   "execution_count": null,
   "metadata": {
    "collapsed": true
   },
   "outputs": [],
   "source": [
    "# # First big box on page with movie name and general summary\n",
    "# bmojo[3].text\n",
    "\n",
    "# # values inside total lifetime grosses box\n",
    "# bmojo[9].text\n",
    "\n",
    "# # Domesetic summary box\n",
    "# bmojo[10].text\n",
    "\n",
    "# # Genre box\n",
    "# bmojo[16].text\n",
    "\n",
    "# # Franchise box\n",
    "# bmojo[17].text\n",
    "\n",
    "# to get players\n",
    "# soup.find(class_='mp_box_tab',text='The Players').findNextSibling()"
   ]
  },
  {
   "cell_type": "code",
   "execution_count": 139,
   "metadata": {
    "collapsed": false
   },
   "outputs": [],
   "source": [
    "# how to do dictionary to dataframe\n",
    "test_dict = {'a':[1,1,1],'b':[2,2,2],'c':[3,3,3]}\n",
    "test_frame = pd.DataFrame.from_dict(test_dict,orient='index')\n",
    "test_frame.reset_index()"
   ]
  },
  {
   "cell_type": "markdown",
   "metadata": {},
   "source": [
    "# Practicing doing the right parsing to get values"
   ]
  },
  {
   "cell_type": "code",
   "execution_count": 160,
   "metadata": {
    "collapsed": false
   },
   "outputs": [],
   "source": [
    "# bmojo[3]"
   ]
  },
  {
   "cell_type": "markdown",
   "metadata": {},
   "source": [
    "# MUCH BETTER way to extract information"
   ]
  },
  {
   "cell_type": "code",
   "execution_count": 158,
   "metadata": {
    "collapsed": false
   },
   "outputs": [
    {
     "name": "stdout",
     "output_type": "stream",
     "text": [
      "Domestic Total Gross: \n"
     ]
    }
   ],
   "source": [
    "import re\n",
    "dtg_string = movie_soup.find(text=re.compile('Domestic Total'))\n",
    "print(dtg_string)"
   ]
  },
  {
   "cell_type": "code",
   "execution_count": 159,
   "metadata": {
    "collapsed": false
   },
   "outputs": [
    {
     "data": {
      "text/plain": [
       "<b>$936,662,225</b>"
      ]
     },
     "execution_count": 159,
     "metadata": {},
     "output_type": "execute_result"
    }
   ],
   "source": [
    "dtg_string.findNextSibling()"
   ]
  },
  {
   "cell_type": "code",
   "execution_count": 162,
   "metadata": {
    "collapsed": false
   },
   "outputs": [
    {
     "name": "stdout",
     "output_type": "stream",
     "text": [
      "936662225\n"
     ]
    }
   ],
   "source": [
    "dtg = dtg_string.findNextSibling().text\n",
    "dtg = dtg.replace('$','').replace(',','')\n",
    "domestic_total_gross = int(dtg)\n",
    "print domestic_total_gross"
   ]
  },
  {
   "cell_type": "markdown",
   "metadata": {},
   "source": [
    "# Fields I will probably want to get for predicting international success (Do I want to look at prediction pre-release? or after first weekend?\n",
    "### Will probably want to be looking at predicting this pre-release or after opening weekend to have any real value to investors/studios\n",
    "\n",
    "* Domestic Total Gross (maybe...but not really relevant to problem)\n",
    "* Opening weekend (for predicting success after domestic opening weekend)\n",
    "* Release Date\n",
    "* Distributor\n",
    "* Runtime\n",
    "* Production Budget\n",
    "* Genre\n",
    "* MPAA Rating\n",
    "* Director\n",
    "* Writers\n",
    "* Producers\n",
    "* Actors (maybe have another analysis for actor success?)\n",
    "* 3D?\n",
    "* IMAX?\n",
    "* Brand\n",
    "\n",
    "## Target variable for training and prediction:\n",
    "\n",
    "* Foreign total gross"
   ]
  },
  {
   "cell_type": "markdown",
   "metadata": {},
   "source": [
    "### In parsing, make a dictionary with the movie title as the key and the relevant information as values in the form of a list...then turn that into a data frame using .from_dict(data, orient='index'), reset the index, and rename the columns (KEEP TRACK OF THE ORDER I ADD VALUES~~~~)"
   ]
  },
  {
   "cell_type": "code",
   "execution_count": null,
   "metadata": {
    "collapsed": true
   },
   "outputs": [],
   "source": [
    "    import re\n",
    "\n",
    "# testing for 1 page first\n",
    "def parse_movie_page(movie_dict, url, movie_name):\n",
    "    response = requests.get(url)\n",
    "    # should probably check to make sure the response code is good to continue\n",
    "    \n",
    "    # get the page and soup reference\n",
    "    movie_page = response.text\n",
    "    movie_soup = BeautifulSoup(movie_page)\n",
    "    \n",
    "    \n",
    "    ## find Domestic Gross Total\n",
    "    dtg_string = movie_soup.find(text=re.compile('Domestic Total')) # finds the label\n",
    "    # format the dtg\n",
    "    dtg = dtg_string.findNextSibling().text # grabs the next value, which is the dtg\n",
    "    dtg = dtg.replace('$','').replace(',','')\n",
    "    movie_dict[movie_name].append(int(dtg))\n",
    "    \n",
    "    \n",
    "    ## Find Foreign Total Gross\n",
    "    foreign_gross_string = movie_soup.find(text=re.compile('Foreign Total')) # finds the label\n",
    "    foreign_gross = foreign_gross_string.findNextSibling().text\n",
    "    foreign_gross = foreign_gross.replace('$','').replace(',','')\n",
    "    movie_dict[movie_name].append(int(foreign_gross))\n",
    "    \n",
    "    \n",
    "    ## Grab opening weekend for Domestic\n",
    "    \n",
    "    \n",
    "    "
   ]
  },
  {
   "cell_type": "code",
   "execution_count": 173,
   "metadata": {
    "collapsed": false
   },
   "outputs": [
    {
     "name": "stdout",
     "output_type": "stream",
     "text": [
      "Domestic Total Gross: \n"
     ]
    }
   ],
   "source": [
    "dtg_string = movie_soup.find(text=re.compile('Domestic Total')) # finds the label\n",
    "# format the dtg\n",
    "# dtg = dtg_string.findNextSibling().text # grabs the next value, which is the dtg\n",
    "print dtg_string"
   ]
  },
  {
   "cell_type": "code",
   "execution_count": 177,
   "metadata": {
    "collapsed": true
   },
   "outputs": [],
   "source": [
    "test = movie_soup.find_all(class_='mp_box_content')"
   ]
  },
  {
   "cell_type": "code",
   "execution_count": 178,
   "metadata": {
    "collapsed": false
   },
   "outputs": [
    {
     "data": {
      "text/plain": [
       "[<div class=\"mp_box_content\">\\n<table border=\"0\" cellpadding=\"0\" cellspacing=\"0\">\\n<tr>\\n<td width=\"40%\"><b>Domestic:</b></td>\\n<td align=\"right\" width=\"35%\">\\xa0<b>$936,662,225</b></td>\\n<td align=\"right\" width=\"25%\">\\xa0\\xa0\\xa0<b>45.3%</b></td>\\n</tr>\\n<tr>\\n<td width=\"40%\">+\\xa0<a href=\"/movies/?page=intl&amp;id=starwars7.htm\">Foreign:</a></td>\\n<td align=\"right\" width=\"35%\">\\xa0$1,131,516,000</td>\\n<td align=\"right\" width=\"25%\">\\xa0\\xa0\\xa054.7%</td>\\n</tr>\\n<tr>\\n<td colspan=\"3\" width=\"100%\"><hr/></td>\\n</tr>\\n<tr>\\n<td width=\"40%\">=\\xa0<b>Worldwide:</b></td>\\n<td align=\"right\" width=\"35%\">\\xa0<b>$2,068,178,225</b></td>\\n<td width=\"25%\">\\xa0</td>\\n</tr>\\n</table>\\n</div>,\n",
       " <div class=\"mp_box_content\">\\n<table border=\"0\" cellpadding=\"0\" cellspacing=\"0\">\\n<tr>\\n<td align=\"center\"><a href=\"/weekend/chart/?yr=2015&amp;wknd=51&amp;p=.htm\">Opening\\xa0Weekend:</a></td><td>\\xa0$247,966,675</td></tr>\\n<tr>\\n<td align=\"center\" colspan=\"2\"><font size=\"2\">(#1 rank, 4,134 theaters, $59,982 average)</font></td></tr>\\n<tr>\\n<td align=\"right\">%\\xa0of\\xa0Total\\xa0Gross:</td><td>\\xa026.5%</td></tr>\\n<tr><td align=\"right\" colspan=\"2\"><font face=\"Helvetica, Arial, Sans-Serif\" size=\"1\"><a href=\"/movies/?page=weekend&amp;id=starwars7.htm\"><b>&gt; View All 24 Weekends</b></a></font></td></tr>\\n</table>\\n<table border=\"0\" cellpadding=\"0\" cellspacing=\"0\">\\n<tr>\\n<td>Widest\\xa0Release:</td>\\n<td>\\xa04,134 theaters</td>\\n</tr>\\n</table>\\n<table border=\"0\" cellpadding=\"0\" cellspacing=\"0\">\\n<tr>\\n<td>Close\\xa0Date:</td>\\n<td>\\xa0June 2, 2016</td>\\n</tr>\\n</table>\\n<table border=\"0\" cellpadding=\"0\" cellspacing=\"0\">\\n<tr>\\n<td>In Release:</td>\\n<td>\\xa0168 days / 24 weeks</td>\\n</tr>\\n</table>\\n</div>,\n",
       " <div class=\"mp_box_content\">\\n<table>\\n</table></div>,\n",
       " <div class=\"mp_box_content\"><table border=\"0\" cellpadding=\"5\" cellspacing=\"0\" width=\"100%\"><tr><td><a href=\"/oscar/movies/?id=starwars7.htm\"><b>Nominated for Five Oscars.</b><br/>View full award breakdown...</a></td></tr></table></div>,\n",
       " <div class=\"mp_box_content\">\\n<table border=\"0\" cellpadding=\"5\" cellspacing=\"1\" style=\"border-collapse: collapse\" width=\"100%\">\\n<tr><th>Genre</th>\\n<th>Rank</th></tr>\\n<tr bgcolor=\"#ffffff\"><td><font size=\"2\"><a href=\"/genres/chart/?id=3d.htm\"><b>3D</b></a></font></td>\\n<td align=\"center\"><font size=\"2\"><b>1</b></font></td>\\n</tr>\\n<tr bgcolor=\"#f4f4ff\"><td><font size=\"2\"><a href=\"/genres/chart/?id=imax.htm\"><b>IMAX (Feature-length)</b></a></font></td>\\n<td align=\"center\"><font size=\"2\"><b>1</b></font></td>\\n</tr>\\n<tr bgcolor=\"#ffffff\"><td><font size=\"2\"><a href=\"/genres/chart/?id=scifiadventure.htm\"><b>Sci-Fi - Adventure</b></a></font></td>\\n<td align=\"center\"><font size=\"2\"><b>1</b></font></td>\\n</tr>\\n</table>\\n</div>,\n",
       " <div class=\"mp_box_content\">\\n<table border=\"0\" cellpadding=\"5\" cellspacing=\"1\" style=\"border-collapse: collapse\" width=\"100%\">\\n<tr><th>Franchise</th>\\n<th>Rank</th></tr>\\n<tr bgcolor=\"#f4f4ff\"><td><font size=\"2\"><a href=\"/franchises/chart/?id=starwars.htm\"><b>Series: Star Wars</b></a></font></td>\\n<td align=\"center\"><font size=\"2\"><b>1</b></font></td>\\n</tr>\\n<tr bgcolor=\"#ffffff\"><td><font size=\"2\"><a href=\"/franchises/chart/?id=badrobot.htm\"><b>Brand: Bad Robot</b></a></font></td>\\n<td align=\"center\"><font size=\"2\"><b>1</b></font></td>\\n</tr>\\n<tr bgcolor=\"#f4f4ff\"><td><font size=\"2\"><a href=\"/franchises/chart/?id=lucasfilm.htm\"><b>Brand: Lucasfilm</b></a></font></td>\\n<td align=\"center\"><font size=\"2\"><b>1</b></font></td>\\n</tr>\\n<tr bgcolor=\"#ffffff\"><td><font size=\"2\"><a href=\"/showdowns/chart/?id=alltimegrossvs.htm\"><b>Showdown: All Time Grossers</b></a></font></td>\\n<td align=\"center\"><font size=\"2\"><b>1</b></font></td>\\n</tr>\\n<tr bgcolor=\"#f4f4ff\"><td><font size=\"2\"><a href=\"/showdowns/chart/?id=alltimepenvs.htm\"><b>Showdown: All Time Openers</b></a></font></td>\\n<td align=\"center\"><font size=\"2\"><b>1</b></font></td>\\n</tr>\\n<tr bgcolor=\"#ffffff\"><td><font size=\"2\"><a href=\"/showdowns/chart/?id=decemberscifi.htm\"><b>Showdown: December Sci-Fi Battle</b></a></font></td>\\n<td align=\"center\"><font size=\"2\"><b>1</b></font></td>\\n</tr>\\n<tr bgcolor=\"#f4f4ff\"><td><font size=\"2\"><a href=\"/showdowns/chart/?id=liberge.htm\"><b>Showdown: King Size Domestic Grosses</b></a></font></td>\\n<td align=\"center\"><font size=\"2\"><b>1</b></font></td>\\n</tr>\\n<tr bgcolor=\"#ffffff\"><td><font size=\"2\"><a href=\"/showdowns/chart/?id=openingweekendshowdown.htm\"><b>Showdown: Opening Weekend Showdown</b></a></font></td>\\n<td align=\"center\"><font size=\"2\"><b>1</b></font></td>\\n</tr>\\n</table></div>,\n",
       " <div class=\"mp_box_content\">\\n<table border=\"0\" cellpadding=\"5\" cellspacing=\"1\" style=\"border-collapse: collapse\" width=\"100%\">\\n<tr><td bgcolor=\"\"><b>Chart</b></td>\\n<td align=\"center\"><b>Rank</b></td>\\n</tr>\\n<tr bgcolor=\"#ffffff\"><td><font size=\"2\"><a href=\"/alltime/domestic.htm\"><b>All Time Domestic</b></a></font></td>\\n<td align=\"center\"><font size=\"2\"><b>1</b></font></td>\\n</tr>\\n<tr bgcolor=\"#f4f4ff\"><td><font size=\"2\"><a href=\"/alltime/adjusted.htm\">All Time Adjusted</a></font></td>\\n<td align=\"center\"><font size=\"2\">11</font></td>\\n</tr>\\n<tr bgcolor=\"#ffffff\"><td><font size=\"2\"><a href=\"/alltime/world/\"><b>All Time Worldwide</b></a></font></td>\\n<td align=\"center\"><font size=\"2\"><b>3</b></font></td>\\n</tr>\\n<tr bgcolor=\"#f4f4ff\"><td><font size=\"2\"><a href=\"/yearly/chart/past365.htm\"><b>Top Movies in the Past 365 Days</b></a></font></td>\\n<td align=\"center\"><font size=\"2\"><b>1</b></font></td>\\n</tr>\\n<tr bgcolor=\"#ffffff\"><td><font size=\"2\"><a href=\"/alltime/world/worldwideopenings.htm\"><b>Worldwide Openings</b></a></font></td>\\n<td align=\"center\"><font size=\"2\"><b>1</b></font></td>\\n</tr>\\n<tr bgcolor=\"#f4f4ff\"><td><font size=\"2\"><a href=\"/intl/weekend/opening/\"><b>Foreign Opening Weekends</b></a></font></td>\\n<td align=\"center\"><font size=\"2\"><b>3</b></font></td>\\n</tr>\\n<tr bgcolor=\"#ffffff\"><td><font size=\"2\"><a href=\"/alltime/openingweeks.htm\"><b>Opening Weeks</b></a></font></td>\\n<td align=\"center\"><font size=\"2\"><b>1</b></font></td>\\n</tr>\\n<tr bgcolor=\"#f4f4ff\"><td><font size=\"2\"><a href=\"/alltime/days/?page=open&amp;p.htm\"><b>Opening Day Gross</b></a></font></td>\\n<td align=\"center\"><font size=\"2\"><b>1</b></font></td>\\n</tr>\\n<tr bgcolor=\"#ffffff\"><td><font size=\"2\"><a href=\"/alltime/days/?page=single&amp;p=.htm\"><b>Single Day Gross</b></a></font></td>\\n<td align=\"center\"><font size=\"2\"><b>1</b></font></td>\\n</tr>\\n<tr bgcolor=\"#f4f4ff\"><td><font size=\"2\"><a href=\"/alltime/days/nonopening.htm?page=Fri&amp;p=.htm\"><b>Non-Opening Friday Gross</b></a></font></td>\\n<td align=\"center\"><font size=\"2\"><b>1</b></font></td>\\n</tr>\\n<tr bgcolor=\"#ffffff\"><td><font size=\"2\"><a href=\"/alltime/days/nonopening.htm?page=Thu&amp;p=.htm\"><b>Non-Opening Thursday Gross</b></a></font></td>\\n<td align=\"center\"><font size=\"2\"><b>2</b></font></td>\\n</tr>\\n<tr bgcolor=\"#f4f4ff\"><td><font size=\"2\"><a href=\"/alltime/days/nonopening.htm?page=Tue&amp;p=.htm\"><b>Non-Opening Tuesday Gross</b></a></font></td>\\n<td align=\"center\"><font size=\"2\"><b>1</b></font></td>\\n</tr>\\n<tr bgcolor=\"#ffffff\"><td><font size=\"2\"><a href=\"/alltime/days/nonopening.htm?page=Wed&amp;p=.htm\"><b>Non-Opening Wednesday Gross</b></a></font></td>\\n<td align=\"center\"><font size=\"2\"><b>1</b></font></td>\\n</tr>\\n<tr bgcolor=\"#f4f4ff\"><td><font size=\"2\"><a href=\"/alltime/days/f-th.htm?page=Fri&amp;p=.htm\"><b>Single Day Friday Gross</b></a></font></td>\\n<td align=\"center\"><font size=\"2\"><b>1</b></font></td>\\n</tr>\\n<tr bgcolor=\"#ffffff\"><td><font size=\"2\"><a href=\"/alltime/days/f-th.htm?page=Mon&amp;p=.htm\"><b>Single Day Monday Gross</b></a></font></td>\\n<td align=\"center\"><font size=\"2\"><b>1</b></font></td>\\n</tr>\\n<tr bgcolor=\"#f4f4ff\"><td><font size=\"2\"><a href=\"/alltime/days/f-th.htm?page=Sat&amp;p=.htm\"><b>Single Day Saturday Gross</b></a></font></td>\\n<td align=\"center\"><font size=\"2\"><b>3</b></font></td>\\n</tr>\\n<tr bgcolor=\"#ffffff\"><td><font size=\"2\"><a href=\"/alltime/days/f-th.htm?page=Sun&amp;p=.htm\"><b>Single Day Sunday Gross</b></a></font></td>\\n<td align=\"center\"><font size=\"2\"><b>1</b></font></td>\\n</tr>\\n<tr bgcolor=\"#f4f4ff\"><td><font size=\"2\"><a href=\"/alltime/days/f-th.htm?page=Thu&amp;p=.htm\"><b>Single Day Thursday Gross</b></a></font></td>\\n<td align=\"center\"><font size=\"2\"><b>6</b></font></td>\\n</tr>\\n<tr bgcolor=\"#ffffff\"><td><font size=\"2\"><a href=\"/alltime/days/f-th.htm?page=Tue&amp;p=.htm\"><b>Single Day Tuesday Gross</b></a></font></td>\\n<td align=\"center\"><font size=\"2\"><b>1</b></font></td>\\n</tr>\\n<tr bgcolor=\"#f4f4ff\"><td><font size=\"2\"><a href=\"/alltime/days/f-th.htm?page=Wed&amp;p=.htm\"><b>Single Day Wednesday Gross</b></a></font></td>\\n<td align=\"center\"><font size=\"2\"><b>6</b></font></td>\\n</tr>\\n<tr bgcolor=\"#ffffff\"><td><font size=\"2\"><a href=\"/alltime/days/nonholiday.htm\"><b>Non-Holiday Monday Gross</b></a></font></td>\\n<td align=\"center\"><font size=\"2\"><b>1</b></font></td>\\n</tr>\\n<tr bgcolor=\"#f4f4ff\"><td><font size=\"2\"><a href=\"/alltime/weekends/theateravg.htm?page=THTRWAVG&amp;p=.htm\">Theater Averages (Wide Releases) - All Time</a></font></td>\\n<td align=\"center\"><font size=\"2\">16</font></td>\\n</tr>\\n<tr bgcolor=\"#ffffff\"><td><font size=\"2\"><a href=\"/alltime/weekends/theateravg.htm?page=THTRWAVG&amp;p=.htm\"><b>Theater Averages (Wide Releases) - All Time</b></a></font></td>\\n<td align=\"center\"><font size=\"2\"><b>1</b></font></td>\\n</tr>\\n<tr bgcolor=\"#f4f4ff\"><td><font size=\"2\"><a href=\"/alltime/weekends/theateravg.htm?page=THTRWAVG&amp;p=.htm\">Theater Averages (Wide Releases) - All Time</a></font></td>\\n<td align=\"center\"><font size=\"2\">76</font></td>\\n</tr>\\n<tr bgcolor=\"#ffffff\"><td><font size=\"2\"><a href=\"/alltime/weekends/theateravg.htm?page=THTRAVG&amp;p=.htm\">Theater Averages - All Time Adjusted</a></font></td>\\n<td align=\"center\"><font size=\"2\">85</font></td>\\n</tr>\\n<tr bgcolor=\"#f4f4ff\"><td><font size=\"2\"><a href=\"/alltime/weekends/theateravg.htm?page=THTRAVOPN&amp;p=.htm\">Theater Averages - Opening Weekends</a></font></td>\\n<td align=\"center\"><font size=\"2\">72</font></td>\\n</tr>\\n<tr bgcolor=\"#ffffff\"><td><font size=\"2\"><a href=\"/alltime/weekends/theateravg.htm?page=THTRAWOPN&amp;p=.htm\"><b>Theater Averages - Wide Opening Weekends</b></a></font></td>\\n<td align=\"center\"><font size=\"2\"><b>1</b></font></td>\\n</tr>\\n<tr bgcolor=\"#f4f4ff\"><td><font size=\"2\"><a href=\"/alltime/days/holidays.htm?page=newyrs&amp;p=.htm\"><b>New Years Days</b></a></font></td>\\n<td align=\"center\"><font size=\"2\"><b>1</b></font></td>\\n</tr>\\n<tr bgcolor=\"#ffffff\"><td><font size=\"2\"><a href=\"/alltime/days/holidays.htm?page=xmas&amp;p=.htm\"><b>Christmas Days</b></a></font></td>\\n<td align=\"center\"><font size=\"2\"><b>1</b></font></td>\\n</tr>\\n<tr bgcolor=\"#f4f4ff\"><td><font size=\"2\"><a href=\"/alltime/day/percofwknd.htm?page=FRIOFOPWD&amp;p=.htm\">Friday Share of Opening Weekends</a></font></td>\\n<td align=\"center\"><font size=\"2\">30</font></td>\\n</tr>\\n<tr bgcolor=\"#ffffff\"><td><font size=\"2\"><a href=\"/alltime/days/saturdaydrops.htm?page=SATDROPOPWD&amp;p=.htm\">Friday to Saturday Drops on Opening Weekends</a></font></td>\\n<td align=\"center\"><font size=\"2\">15</font></td>\\n</tr>\\n<tr bgcolor=\"#f4f4ff\"><td><font size=\"2\"><a href=\"/alltime/weekends/\"><b>Opening Weekends</b></a></font></td>\\n<td align=\"center\"><font size=\"2\"><b>1</b></font></td>\\n</tr>\\n<tr bgcolor=\"#ffffff\"><td><font size=\"2\"><a href=\"/alltime/weekends/month/?mo=12&amp;p=.htm\"><b>Opening Weekends - December</b></a></font></td>\\n<td align=\"center\"><font size=\"2\"><b>1</b></font></td>\\n</tr>\\n<tr bgcolor=\"#f4f4ff\"><td><font size=\"2\"><a href=\"/alltime/weekends/byseason.htm?season=Holiday&amp;p=.htm\"><b>Opening Weekends - Holiday</b></a></font></td>\\n<td align=\"center\"><font size=\"2\"><b>1</b></font></td>\\n</tr>\\n<tr bgcolor=\"#ffffff\"><td><font size=\"2\"><a href=\"/alltime/weekends/moreweekends.htm?page=11&amp;p=.htm\">Eleventh Weekends</a></font></td>\\n<td align=\"center\"><font size=\"2\">46</font></td>\\n</tr>\\n<tr bgcolor=\"#f4f4ff\"><td><font size=\"2\"><a href=\"/alltime/weekends/moreweekends.htm?page=9&amp;p=.htm\">Ninth Weekends</a></font></td>\\n<td align=\"center\"><font size=\"2\">22</font></td>\\n</tr>\\n<tr bgcolor=\"#ffffff\"><td><font size=\"2\"><a href=\"/alltime/weekends/moreweekends.htm?page=10&amp;p=.htm\">Tenth Weekends</a></font></td>\\n<td align=\"center\"><font size=\"2\">38</font></td>\\n</tr>\\n<tr bgcolor=\"#f4f4ff\"><td><font size=\"2\"><a href=\"/alltime/grossbydays.htm?days=10&amp;p=.htm\"><b>Top 10-Day Grosses</b></a></font></td>\\n<td align=\"center\"><font size=\"2\"><b>1</b></font></td>\\n</tr>\\n<tr bgcolor=\"#ffffff\"><td><font size=\"2\"><a href=\"/alltime/grossbydays.htm?days=3&amp;p=.htm\"><b>Top 3-Day Grosses</b></a></font></td>\\n<td align=\"center\"><font size=\"2\"><b>1</b></font></td>\\n</tr>\\n<tr bgcolor=\"#f4f4ff\"><td><font size=\"2\"><a href=\"/alltime/grossbydays.htm?days=4&amp;p=.htm\"><b>Top 4-Day Grosses</b></a></font></td>\\n<td align=\"center\"><font size=\"2\"><b>1</b></font></td>\\n</tr>\\n<tr bgcolor=\"#ffffff\"><td><font size=\"2\"><a href=\"/alltime/grossbydays.htm?days=6&amp;p=.htm\"><b>Top 6-Day Grosses</b></a></font></td>\\n<td align=\"center\"><font size=\"2\"><b>1</b></font></td>\\n</tr>\\n<tr bgcolor=\"#f4f4ff\"><td><font size=\"2\"><a href=\"/alltime/grossbydays.htm?days=7&amp;p=.htm\"><b>Top 7-Day Grosses</b></a></font></td>\\n<td align=\"center\"><font size=\"2\"><b>1</b></font></td>\\n</tr>\\n<tr bgcolor=\"#ffffff\"><td><font size=\"2\"><a href=\"/alltime/grossbydays.htm?days=8&amp;p=.htm\"><b>Top 8-Day Grosses</b></a></font></td>\\n<td align=\"center\"><font size=\"2\"><b>1</b></font></td>\\n</tr>\\n<tr bgcolor=\"#f4f4ff\"><td><font size=\"2\"><a href=\"/alltime/grossbydays.htm?days=9&amp;p=.htm\"><b>Top 9-Day Grosses</b></a></font></td>\\n<td align=\"center\"><font size=\"2\"><b>1</b></font></td>\\n</tr>\\n<tr bgcolor=\"#ffffff\"><td><font size=\"2\"><a href=\"/alltime/weekends/moreweekends.htm?page=13&amp;p=.htm\">Twelfth Weekends</a></font></td>\\n<td align=\"center\"><font size=\"2\">89</font></td>\\n</tr>\\n<tr bgcolor=\"#f4f4ff\"><td><font size=\"2\"><a href=\"/alltime/weekends/moreweekends.htm?page=12&amp;p=.htm\">Twelfth Weekends</a></font></td>\\n<td align=\"center\"><font size=\"2\">71</font></td>\\n</tr>\\n<tr bgcolor=\"#ffffff\"><td><font size=\"2\"><a href=\"/alltime/grossbydays.htm?days=5&amp;p=.htm\"><b>Top 5-Day Grosses</b></a></font></td>\\n<td align=\"center\"><font size=\"2\"><b>1</b></font></td>\\n</tr>\\n<tr bgcolor=\"#f4f4ff\"><td><font size=\"2\"><a href=\"/alltime/weekends/bestranked.htm?page=WKNDSAT1&amp;p=.htm\">Most Weekends at #1 (non-consecutive)</a></font></td>\\n<td align=\"center\"><font size=\"2\">33</font></td>\\n</tr>\\n<tr bgcolor=\"#ffffff\"><td><font size=\"2\"><a href=\"/alltime/weekends/bestranked.htm?page=WKNDSAT10&amp;p=.htm\">Most Weekends in Top 10 (non-consecutive)</a></font></td>\\n<td align=\"center\"><font size=\"2\">140</font></td>\\n</tr>\\n<tr bgcolor=\"#f4f4ff\"><td><font size=\"2\"><a href=\"/alltime/weekends/bestranked.htm?page=WKNDSAT5&amp;p=.htm\">Most Weekends in Top 5 (non-consecutive)</a></font></td>\\n<td align=\"center\"><font size=\"2\">49</font></td>\\n</tr>\\n<tr bgcolor=\"#ffffff\"><td><font size=\"2\"><a href=\"/alltime/weekends/bestranked.htm?page=WKNDSCAT1&amp;p=.htm\">Consecutive Weekends At #1</a></font></td>\\n<td align=\"center\"><font size=\"2\">25</font></td>\\n</tr>\\n<tr bgcolor=\"#f4f4ff\"><td><font size=\"2\"><a href=\"/alltime/weekends/bestranked.htm?page=WKNDSCAT10&amp;p=.htm\">Consecutive Weekends In Top 10</a></font></td>\\n<td align=\"center\"><font size=\"2\">118</font></td>\\n</tr>\\n<tr bgcolor=\"#ffffff\"><td><font size=\"2\"><a href=\"/alltime/weekends/bestranked.htm?page=WKNDSCAT5&amp;p=.htm\">Consecutive Weekends In Top 5</a></font></td>\\n<td align=\"center\"><font size=\"2\">40</font></td>\\n</tr>\\n<tr bgcolor=\"#f4f4ff\"><td><font size=\"2\"><a href=\"/alltime/weekends/mlk.htm?page=MLK&amp;p=.htm\">Martin Lurther King 4-Day Holiday Weekends</a></font></td>\\n<td align=\"center\"><font size=\"2\">12</font></td>\\n</tr>\\n<tr bgcolor=\"#ffffff\"><td><font size=\"2\"><a href=\"/alltime/weekends/presidentsday.htm?page=PRESDAY&amp;p=.htm\">President's Day 4-Day Holiday Weekends</a></font></td>\\n<td align=\"center\"><font size=\"2\">147</font></td>\\n</tr>\\n<tr bgcolor=\"#f4f4ff\"><td><font size=\"2\"><a href=\"/alltime/weekends/moreweekends.htm?page=2&amp;p=.htm\"><b>Second Weekends</b></a></font></td>\\n<td align=\"center\"><font size=\"2\"><b>1</b></font></td>\\n</tr>\\n<tr bgcolor=\"#ffffff\"><td><font size=\"2\"><a href=\"/alltime/weekends/moreweekends.htm?page=3&amp;p=.htm\"><b>Third Weekends</b></a></font></td>\\n<td align=\"center\"><font size=\"2\"><b>1</b></font></td>\\n</tr>\\n<tr bgcolor=\"#f4f4ff\"><td><font size=\"2\"><a href=\"/alltime/weekends/moreweekends.htm?page=4&amp;p=.htm\"><b>Fourth Weekends</b></a></font></td>\\n<td align=\"center\"><font size=\"2\"><b>2</b></font></td>\\n</tr>\\n<tr bgcolor=\"#ffffff\"><td><font size=\"2\"><a href=\"/alltime/weekends/moreweekends.htm?page=5&amp;p=.htm\"><b>Fifth Weekends</b></a></font></td>\\n<td align=\"center\"><font size=\"2\"><b>4</b></font></td>\\n</tr>\\n<tr bgcolor=\"#f4f4ff\"><td><font size=\"2\"><a href=\"/alltime/weekends/moreweekends.htm?page=6&amp;p=.htm\">Sixth Weekends</a></font></td>\\n<td align=\"center\"><font size=\"2\">11</font></td>\\n</tr>\\n<tr bgcolor=\"#ffffff\"><td><font size=\"2\"><a href=\"/alltime/weekends/moreweekends.htm?page=7&amp;p=.htm\"><b>Seventh Weekends</b></a></font></td>\\n<td align=\"center\"><font size=\"2\"><b>10</b></font></td>\\n</tr>\\n<tr bgcolor=\"#f4f4ff\"><td><font size=\"2\"><a href=\"/alltime/weekends/moreweekends.htm?page=8&amp;p=.htm\">Eighth Weekends</a></font></td>\\n<td align=\"center\"><font size=\"2\">24</font></td>\\n</tr>\\n<tr bgcolor=\"#ffffff\"><td><font size=\"2\"><a href=\"/alltime/weekends/smallestdrops.htm?page=DROP3000&amp;p=.htm\">Smallest Drops, 3,000+ theaters (Super-Saturation)</a></font></td>\\n<td align=\"center\"><font size=\"2\">231</font></td>\\n</tr>\\n<tr bgcolor=\"#f4f4ff\"><td><font size=\"2\"><a href=\"/alltime/weekends/smallestdrops.htm?page=SMALLDROP25&amp;p=.htm\">Smallest Drops, 2,500+ theaters (Saturation)</a></font></td>\\n<td align=\"center\"><font size=\"2\">470</font></td>\\n</tr>\\n<tr bgcolor=\"#ffffff\"><td><font size=\"2\"><a href=\"/alltime/weekends/smallestdrops.htm?page=SMALLDROP20&amp;p=.htm\">Smallest Drops, 2,000+ theaters (Very Wide)</a></font></td>\\n<td align=\"center\"><font size=\"2\">703</font></td>\\n</tr>\\n<tr bgcolor=\"#f4f4ff\"><td><font size=\"2\"><a href=\"/alltime/weekends/smallestdrops.htm?page=SMALLDROPWID&amp;p=.htm\">Smallest Drops, All Wide Releases</a></font></td>\\n<td align=\"center\"><font size=\"2\">1,837</font></td>\\n</tr>\\n<tr bgcolor=\"#ffffff\"><td><font size=\"2\"><a href=\"/alltime/domestic/mpaa.htm?page=PG-13&amp;p=.htm\"><b>Rated PG-13</b></a></font></td>\\n<td align=\"center\"><font size=\"2\"><b>1</b></font></td>\\n</tr>\\n<tr bgcolor=\"#f4f4ff\"><td><font size=\"2\"><a href=\"/alltime/weekends/mpaa.htm?page=PG-13&amp;p=.htm\"><b>Rated PG-13, Opening Weekends</b></a></font></td>\\n<td align=\"center\"><font size=\"2\"><b>1</b></font></td>\\n</tr>\\n<tr bgcolor=\"#ffffff\"><td><font size=\"2\"><a href=\"/alltime/widest.htm?page=WIDEST&amp;p=.htm\">Widest Releases</a></font></td>\\n<td align=\"center\"><font size=\"2\">45</font></td>\\n</tr>\\n<tr bgcolor=\"#f4f4ff\"><td><font size=\"2\"><a href=\"/alltime/widest.htm?page=WIDESTOPEN&amp;p=.htm\">Widest Opening Releases</a></font></td>\\n<td align=\"center\"><font size=\"2\">38</font></td>\\n</tr>\\n<tr bgcolor=\"#ffffff\"><td><font size=\"2\"><a href=\"/alltime/widestmpaa.htm?page=PG-13&amp;p=.htm\">Widest PG-13 Rated Openings</a></font></td>\\n<td align=\"center\"><font size=\"2\">29</font></td>\\n</tr>\\n<tr bgcolor=\"#f4f4ff\"><td><font size=\"2\"><a href=\"/alltime/widestmpaareleases.htm?page=PG-13&amp;p=.htm\">Widest PG-13 Rated Releases</a></font></td>\\n<td align=\"center\"><font size=\"2\">30</font></td>\\n</tr>\\n<tr bgcolor=\"#ffffff\"><td><font size=\"2\"><a href=\"/alltime/fastest.htm?page=100&amp;p=.htm\"><b>Fastest to $100 million</b></a></font></td>\\n<td align=\"center\"><font size=\"2\"><b>1</b></font></td>\\n</tr>\\n<tr bgcolor=\"#f4f4ff\"><td><font size=\"2\"><a href=\"/alltime/fastest.htm?page=150&amp;p=.htm\"><b>Fastest to $150 million</b></a></font></td>\\n<td align=\"center\"><font size=\"2\"><b>1</b></font></td>\\n</tr>\\n<tr bgcolor=\"#ffffff\"><td><font size=\"2\"><a href=\"/alltime/fastest.htm?page=200&amp;p=.htm\"><b>Fastest to $200 million</b></a></font></td>\\n<td align=\"center\"><font size=\"2\"><b>1</b></font></td>\\n</tr>\\n<tr bgcolor=\"#f4f4ff\"><td><font size=\"2\"><a href=\"/alltime/fastest.htm?page=250&amp;p=.htm\"><b>Fastest to $250 million</b></a></font></td>\\n<td align=\"center\"><font size=\"2\"><b>1</b></font></td>\\n</tr>\\n<tr bgcolor=\"#ffffff\"><td><font size=\"2\"><a href=\"/alltime/fastest.htm?page=300&amp;p=.htm\"><b>Fastest to $300 million</b></a></font></td>\\n<td align=\"center\"><font size=\"2\"><b>1</b></font></td>\\n</tr>\\n<tr bgcolor=\"#f4f4ff\"><td><font size=\"2\"><a href=\"/alltime/fastest.htm?page=350&amp;p=.htm\"><b>Fastest to $350 million</b></a></font></td>\\n<td align=\"center\"><font size=\"2\"><b>1</b></font></td>\\n</tr>\\n<tr bgcolor=\"#ffffff\"><td><font size=\"2\"><a href=\"/alltime/fastest.htm?page=400&amp;p=.htm\"><b>Fastest to $400 million</b></a></font></td>\\n<td align=\"center\"><font size=\"2\"><b>1</b></font></td>\\n</tr>\\n<tr bgcolor=\"#f4f4ff\"><td><font size=\"2\"><a href=\"/alltime/fastest.htm?page=450&amp;p=.htm\"><b>Fastest to $450 million</b></a></font></td>\\n<td align=\"center\"><font size=\"2\"><b>1</b></font></td>\\n</tr>\\n<tr bgcolor=\"#ffffff\"><td><font size=\"2\"><a href=\"/alltime/fastest.htm?page=500&amp;p=.htm\"><b>Fastest to $500 million</b></a></font></td>\\n<td align=\"center\"><font size=\"2\"><b>1</b></font></td>\\n</tr>\\n<tr bgcolor=\"#f4f4ff\"><td><font size=\"2\"><a href=\"/alltime/slowest.htm?page=100&amp;p=.htm\">Slowest to $100 million</a></font></td>\\n<td align=\"center\"><font size=\"2\">609</font></td>\\n</tr>\\n<tr bgcolor=\"#ffffff\"><td><font size=\"2\"><a href=\"/alltime/slowest.htm?page=200&amp;p=.htm\">Slowest to $200 million</a></font></td>\\n<td align=\"center\"><font size=\"2\">164</font></td>\\n</tr>\\n<tr><td><b>Charts (Premier Pass Users Only)</b></td><td align=\"center\"><b>Rank</b></td></tr><tr bgcolor=\"#ffffff\"><td><font size=\"2\"><a href=\"/alltime/domestic.htm?page=1&amp;asof=2016-01-07&amp;p=.htm\">Highest All Time Rank (on January 7, 2016)</a></font></td>\\n<td align=\"center\"><font size=\"2\"><b>1</b></font></td>\\n</tr>\\n<tr bgcolor=\"#f4f4ff\"><td><font size=\"2\"><a href=\"/alltime/openingweeks.htm?adjust_yr=2016&amp;p=.htm\"><b>Opening Weeks Adjusted</b></a></font></td>\\n<td align=\"center\"><font size=\"2\"><b>1</b></font></td>\\n</tr>\\n<tr bgcolor=\"#ffffff\"><td><font size=\"2\"><a href=\"/alltime/days/nonopening.htm?page=Fri&amp;adjust_yr=2016&amp;p=.htm\"><b>Non-Opening Friday Gross Adjusted</b></a></font></td>\\n<td align=\"center\"><font size=\"2\"><b>1</b></font></td>\\n</tr>\\n<tr bgcolor=\"#f4f4ff\"><td><font size=\"2\"><a href=\"/alltime/days/nonopening.htm?page=Thu&amp;adjust_yr=2016&amp;p=.htm\"><b>Non-Opening Thursday Gross Adjusted</b></a></font></td>\\n<td align=\"center\"><font size=\"2\"><b>4</b></font></td>\\n</tr>\\n<tr bgcolor=\"#ffffff\"><td><font size=\"2\"><a href=\"/alltime/days/nonopening.htm?page=Tue&amp;adjust_yr=2016&amp;p=.htm\"><b>Non-Opening Tuesday Gross Adjusted</b></a></font></td>\\n<td align=\"center\"><font size=\"2\"><b>1</b></font></td>\\n</tr>\\n<tr bgcolor=\"#f4f4ff\"><td><font size=\"2\"><a href=\"/alltime/days/nonopening.htm?page=Wed&amp;adjust_yr=2016&amp;p=.htm\"><b>Non-Opening Wednesday Gross Adjusted</b></a></font></td>\\n<td align=\"center\"><font size=\"2\"><b>1</b></font></td>\\n</tr>\\n<tr bgcolor=\"#ffffff\"><td><font size=\"2\"><a href=\"/alltime/days/f-th.htm?page=Fri&amp;adjust_yr=2016&amp;p=.htm\"><b>Single Day Friday Gross Adjusted</b></a></font></td>\\n<td align=\"center\"><font size=\"2\"><b>1</b></font></td>\\n</tr>\\n<tr bgcolor=\"#f4f4ff\"><td><font size=\"2\"><a href=\"/alltime/days/f-th.htm?page=Mon&amp;adjust_yr=2016&amp;p=.htm\"><b>Single Day Monday Gross Adjusted</b></a></font></td>\\n<td align=\"center\"><font size=\"2\"><b>1</b></font></td>\\n</tr>\\n<tr bgcolor=\"#ffffff\"><td><font size=\"2\"><a href=\"/alltime/days/f-th.htm?page=Sat&amp;adjust_yr=2016&amp;p=.htm\"><b>Single Day Saturday Gross Adjusted</b></a></font></td>\\n<td align=\"center\"><font size=\"2\"><b>3</b></font></td>\\n</tr>\\n<tr bgcolor=\"#f4f4ff\"><td><font size=\"2\"><a href=\"/alltime/days/f-th.htm?page=Sun&amp;adjust_yr=2016&amp;p=.htm\"><b>Single Day Sunday Gross Adjusted</b></a></font></td>\\n<td align=\"center\"><font size=\"2\"><b>2</b></font></td>\\n</tr>\\n<tr bgcolor=\"#ffffff\"><td><font size=\"2\"><a href=\"/alltime/days/f-th.htm?page=Thu&amp;adjust_yr=2016&amp;p=.htm\"><b>Single Day Thursday Gross Adjusted</b></a></font></td>\\n<td align=\"center\"><font size=\"2\"><b>9</b></font></td>\\n</tr>\\n<tr bgcolor=\"#f4f4ff\"><td><font size=\"2\"><a href=\"/alltime/days/f-th.htm?page=Tue&amp;adjust_yr=2016&amp;p=.htm\"><b>Single Day Tuesday Gross Adjusted</b></a></font></td>\\n<td align=\"center\"><font size=\"2\"><b>2</b></font></td>\\n</tr>\\n<tr bgcolor=\"#ffffff\"><td><font size=\"2\"><a href=\"/alltime/days/f-th.htm?page=Wed&amp;adjust_yr=2016&amp;p=.htm\">Single Day Wednesday Gross Adjusted</a></font></td>\\n<td align=\"center\"><font size=\"2\">11</font></td>\\n</tr>\\n<tr bgcolor=\"#f4f4ff\"><td><font size=\"2\"><a href=\"/alltime/wekeends/theateravg.htm?page=THTRWAVGADJ&amp;adjust_yr=2016&amp;p=.htm\">Theater Averages (Wide Releases) - All Time Adjusted</a></font></td>\\n<td align=\"center\"><font size=\"2\">45</font></td>\\n</tr>\\n<tr bgcolor=\"#ffffff\"><td><font size=\"2\"><a href=\"/alltime/wekeends/theateravg.htm?page=THTRWAVGADJ&amp;adjust_yr=2016&amp;p=.htm\"><b>Theater Averages (Wide Releases) - All Time Adjusted</b></a></font></td>\\n<td align=\"center\"><font size=\"2\"><b>2</b></font></td>\\n</tr>\\n<tr bgcolor=\"#f4f4ff\"><td><font size=\"2\"><a href=\"/alltime/weekends/theateravg.htm?page=THTRAWOPNADJ&amp;adjust_yr=2016&amp;p=.htm\"><b>Theater Averages - Wide Opening Weekends Adjusted</b></a></font></td>\\n<td align=\"center\"><font size=\"2\"><b>2</b></font></td>\\n</tr>\\n<tr bgcolor=\"#ffffff\"><td><font size=\"2\"><a href=\"/alltime/weekends/month/?mo=12&amp;adjust_yr=2016&amp;p=.htm\"><b>Opening Weekends Adjusted - December</b></a></font></td>\\n<td align=\"center\"><font size=\"2\"><b>1</b></font></td>\\n</tr>\\n<tr bgcolor=\"#f4f4ff\"><td><font size=\"2\"><a href=\"/alltime/weekends/?adjust_yr=2016&amp;p=.htm\"><b>Opening Weekends Adjusted</b></a></font></td>\\n<td align=\"center\"><font size=\"2\"><b>1</b></font></td>\\n</tr>\\n<tr bgcolor=\"#ffffff\"><td><font size=\"2\"><a href=\"/alltime/weekends/byseason.htm?season=Holiday&amp;adjust_yr=2016&amp;p=.htm\"><b>Opening Weekends Adjusted - Holiday</b></a></font></td>\\n<td align=\"center\"><font size=\"2\"><b>1</b></font></td>\\n</tr>\\n<tr bgcolor=\"#f4f4ff\"><td><font size=\"2\"><a href=\"/alltime/weekends/moreweeknds.htm?page=11&amp;adjust_yr=2016&amp;p=.htm\">Eleventh Weekends Adjusted</a></font></td>\\n<td align=\"center\"><font size=\"2\">111</font></td>\\n</tr>\\n<tr bgcolor=\"#ffffff\"><td><font size=\"2\"><a href=\"/alltime/weekends/moreweeknds.htm?page=9&amp;adjust_yr=2016&amp;p=.htm\">Ninth Weekends Adjusted</a></font></td>\\n<td align=\"center\"><font size=\"2\">78</font></td>\\n</tr>\\n<tr bgcolor=\"#f4f4ff\"><td><font size=\"2\"><a href=\"/alltime/weekends/moreweeknds.htm?page=10&amp;adjust_yr=2016&amp;p=.htm\">Tenth Weekends Adjusted</a></font></td>\\n<td align=\"center\"><font size=\"2\">112</font></td>\\n</tr>\\n<tr bgcolor=\"#ffffff\"><td><font size=\"2\"><a href=\"/alltime/weekends/moreweeknds.htm?page=12&amp;adjust_yr=2016&amp;p=.htm\">Twelfth Weekends Adjusted</a></font></td>\\n<td align=\"center\"><font size=\"2\">148</font></td>\\n</tr>\\n<tr bgcolor=\"#f4f4ff\"><td><font size=\"2\"><a href=\"/alltime/weekends/moreweeknds.htm?page=2&amp;adjust_yr=2016&amp;p=.htm\"><b>Second Weekends Adjusted</b></a></font></td>\\n<td align=\"center\"><font size=\"2\"><b>1</b></font></td>\\n</tr>\\n<tr bgcolor=\"#ffffff\"><td><font size=\"2\"><a href=\"/alltime/weekends/moreweeknds.htm?page=3&amp;adjust_yr=2016&amp;p=.htm\"><b>Third Weekends Adjusted</b></a></font></td>\\n<td align=\"center\"><font size=\"2\"><b>1</b></font></td>\\n</tr>\\n<tr bgcolor=\"#f4f4ff\"><td><font size=\"2\"><a href=\"/alltime/weekends/moreweeknds.htm?page=4&amp;adjust_yr=2016&amp;p=.htm\"><b>Fourth Weekends Adjusted</b></a></font></td>\\n<td align=\"center\"><font size=\"2\"><b>4</b></font></td>\\n</tr>\\n<tr bgcolor=\"#ffffff\"><td><font size=\"2\"><a href=\"/alltime/weekends/moreweeknds.htm?page=5&amp;adjust_yr=2016&amp;p=.htm\">Fifth Weekends Adjusted</a></font></td>\\n<td align=\"center\"><font size=\"2\">14</font></td>\\n</tr>\\n<tr bgcolor=\"#f4f4ff\"><td><font size=\"2\"><a href=\"/alltime/weekends/moreweeknds.htm?page=6&amp;adjust_yr=2016&amp;p=.htm\">Sixth Weekends Adjusted</a></font></td>\\n<td align=\"center\"><font size=\"2\">55</font></td>\\n</tr>\\n<tr bgcolor=\"#ffffff\"><td><font size=\"2\"><a href=\"/alltime/weekends/moreweeknds.htm?page=7&amp;adjust_yr=2016&amp;p=.htm\">Seventh Weekends Adjusted</a></font></td>\\n<td align=\"center\"><font size=\"2\">60</font></td>\\n</tr>\\n<tr bgcolor=\"#f4f4ff\"><td><font size=\"2\"><a href=\"/alltime/weekends/moreweeknds.htm?page=8&amp;adjust_yr=2016&amp;p=.htm\">Eighth Weekends Adjusted</a></font></td>\\n<td align=\"center\"><font size=\"2\">99</font></td>\\n</tr>\\n<tr bgcolor=\"#ffffff\"><td><font size=\"2\"><a href=\"/alltime/domestic/mpaa.htm?page=PG-13&amp;adjust_yr=2016&amp;p=.htm\"><b>Rated PG-13 Adjusted</b></a></font></td>\\n<td align=\"center\"><font size=\"2\"><b>2</b></font></td>\\n</tr>\\n<tr bgcolor=\"#f4f4ff\"><td><font size=\"2\"><a href=\"/alltime/weekends/mpaa.htm?page=PG-13&amp;adjust_yr==.htm\"><b>Rated PG-13, Opening Weekends Adjusted</b></a></font></td>\\n<td align=\"center\"><font size=\"2\"><b>1</b></font></td>\\n</tr>\\n</table></div>,\n",
       " <div class=\"mp_box_content\"><table border=\"0\" cellpadding=\"5\" cellspacing=\"0\" width=\"100%\"><tr bgcolor=\"#ffff99\"><td><font size=\"2\"><a href=\"/news/?id=4184&amp;p=.htm\">5/10 Disney Makes History, Topping $1 Billion in Domestic Ticket Sales in Just 128 Days</a></font></td></tr><tr bgcolor=\"#f4f4ff\"><td><font size=\"2\"><a href=\"/news/?id=4162&amp;p=.htm\">2/28 The 'Gods of Egypt' are No Match for 'Deadpool', Which Climbs to $285+ Million Domestically</a></font></td></tr><tr bgcolor=\"#ffffff\"><td><font size=\"2\"><a href=\"/news/?id=4161&amp;p=.htm\">2/25 'Gods of Egypt', 'Triple 9' &amp; 'Eddie the Eagle' Hit Theaters While 'Deadpool' Threepeats</a></font></td></tr><tr bgcolor=\"#f4f4ff\"><td><font size=\"2\"><a href=\"/news/?id=4157&amp;p=.htm\">2/14 'Deadpool' Smashes Box Office Records On Way to $260 Million Worldwide Opening</a></font></td></tr><tr bgcolor=\"#ffffff\"><td><font size=\"2\"><a href=\"/news/?id=4155&amp;p=.htm\">2/11 Updated: 'Deadpool' Targets #1 Opening Over 'How to Be Single' &amp; 'Zoolander 2'</a></font></td></tr><tr bgcolor=\"#f4f4ff\"><td><font size=\"2\"><a href=\"/news/?id=4153&amp;p=.htm\">2/7 'Kung Fu Panda 3' Tops Super Bowl Weekend; 'Hail, Caesar!' Leads Newcomers</a></font></td></tr><tr bgcolor=\"#ffffff\"><td><font size=\"2\"><a href=\"/news/?id=4152&amp;p=.htm\">2/6 'Star Wars: Force Awakens' First Ever to Cross $900 Million Domestically</a></font></td></tr><tr bgcolor=\"#f4f4ff\"><td><font size=\"2\"><a href=\"/news/?id=4150&amp;p=.htm\">1/31 'Kung Fu Panda 3' #1; Holdovers Make Up for Money Lost in the Snow</a></font></td></tr><tr bgcolor=\"#ffffff\"><td><font size=\"2\"><a href=\"/news/?id=4149&amp;p=.htm\">1/28 Weekend Preview: 'Kung Fu Panda 3' To Top 'Fifty Shades of Black' and 'Finest Hours'</a></font></td></tr><tr bgcolor=\"#f4f4ff\"><td><font size=\"2\"><a href=\"/news/?id=4148&amp;p=.htm\">1/24 'The Revenant' Weathers Snow Storm While Weekend's Newcomers Perform as Expected</a></font></td></tr><tr bgcolor=\"#ffffff\"><td><font size=\"2\"><a href=\"/news/?id=4146&amp;p=.htm\">1/17 'Ride Along 2' #1, 'Revenant' Holds Strong and 'Star Wars' Crosses $1 Billion Internationally</a></font></td></tr><tr bgcolor=\"#f4f4ff\"><td><font size=\"2\"><a href=\"/news/?id=4144&amp;p=.htm\">1/14 'Ride Along 2' and 'Revenant' Look to Remove 'Star Wars' from Its Perch</a></font></td></tr><tr bgcolor=\"#ffffff\"><td><font size=\"2\"><a href=\"/news/?id=4143&amp;p=.htm\">1/10 'The Revenant' Storms the Box Office; 'Star Wars' Opens with $53M in China</a></font></td></tr><tr bgcolor=\"#f4f4ff\"><td><font size=\"2\"><a href=\"/news/?id=4142&amp;p=.htm\">1/7 'Star Wars: Force Awakens' Becomes Highest Grossing Domestic Release of All-Time</a></font></td></tr><tr bgcolor=\"#ffffff\"><td><font size=\"2\"><a href=\"/news/?id=4141&amp;p=.htm\">1/6 Update: 'Star Wars' Opens in China; 'Revenant' &amp; 'The Forest' Make Domestic Bows</a></font></td></tr><tr bgcolor=\"#f4f4ff\"><td><font size=\"2\"><a href=\"/news/?id=4140&amp;p=.htm\">1/3 'Star Wars' Crosses $700 Million Domestically as 2016 is Off to a Strong Start</a></font></td></tr><tr bgcolor=\"#ffffff\"><td><font size=\"2\"><a href=\"/news/?id=4139&amp;p=.htm\">12/31/15 Forecast: January 2016 Looks to Get Off to a Sizzling Start</a></font></td></tr><tr bgcolor=\"#f4f4ff\"><td><font size=\"2\"><a href=\"/news/?id=4138&amp;p=.htm\">12/30/15 2015 Box Office Totals a Record $11 Billion</a></font></td></tr><tr bgcolor=\"#ffffff\"><td><font size=\"2\"><a href=\"/news/?id=4137&amp;p=.htm\">12/27/15 'Star Wars: Force Awakens' Crosses $1 Billion Worldwide, Topping Christmas Weekend</a></font></td></tr><tr bgcolor=\"#f4f4ff\"><td><font size=\"2\"><a href=\"/news/?id=4136&amp;p=.htm\">12/24/15 Christmas Forecast: 'Star Wars' Second Weekend Faces Five New Wide Releases</a></font></td></tr><tr bgcolor=\"#ffffff\"><td><font size=\"2\"><a href=\"/news/?id=4135&amp;p=.htm\">12/22/15 UPDATED: 'Star Wars: Force Awakens' Targets Christmas Miracle, Destroys Monday Record</a></font></td></tr><tr bgcolor=\"#f4f4ff\"><td><font size=\"2\"><a href=\"/news/?id=4134&amp;p=.htm\">12/20/15 'Star Wars: The Force Awakens' Crushes Records, Topping Largest Box Office Weekend of All Time</a></font></td></tr><tr bgcolor=\"#ffffff\"><td><font size=\"2\"><a href=\"/news/?id=4133&amp;p=.htm\">12/19/15 'Star Wars: The Force Awakens' Shatters Opening Day Record</a></font></td></tr><tr bgcolor=\"#f4f4ff\"><td><font size=\"2\"><a href=\"/news/?id=4132&amp;p=.htm\">12/18/15 'Star Wars: The Force Awakens' Targets Record Breaking $100M+ Opening Day</a></font></td></tr><tr bgcolor=\"#ffffff\"><td><font size=\"2\"><a href=\"/news/?id=4131&amp;p=.htm\">12/17/15 Forecast: 'Star Wars: The Force Awakens'... Will Box Office Records Feel the Force?</a></font></td></tr><tr bgcolor=\"#f4f4ff\"><td><font size=\"2\"><a href=\"/news/?id=4130&amp;p=.htm\">12/13/15 'In the Heart of the Sea' Runs Ashore Giving 'Mockingjay 2' Its Fourth Straight #1</a></font></td></tr><tr bgcolor=\"#ffffff\"><td><font size=\"2\"><a href=\"/news/?id=4129&amp;p=.htm\">12/10/15 'In the Heart of the Sea' Goes Hunting for #1 Before 'Star Wars' Arrives</a></font></td></tr></table></div>,\n",
       " <div class=\"mp_box_content\"><ul>\\n<li><a href=\"http://www.amazon.com/gp/product/B018FK66TU?ie=UTF8&amp;tag=boxofficemojo-20&amp;linkCode=as2&amp;camp=1789&amp;creative=9325&amp;creativeASIN=B018FK66TU\">Star Wars: The Force Awakens [Blu-ray]</a><img alt=\"\" border=\"0\" height=\"1\" src=\"http://www.assoc-amazon.com/e/ir?t=boxofficemojo-20&amp;l=as2&amp;o=1&amp;a=B018FK66TU\" style=\"border:none !important; margin:0px !important;\" width=\"1\"/></li>\\n</ul></div>]"
      ]
     },
     "execution_count": 178,
     "metadata": {},
     "output_type": "execute_result"
    }
   ],
   "source": [
    "test"
   ]
  },
  {
   "cell_type": "code",
   "execution_count": 176,
   "metadata": {
    "collapsed": false
   },
   "outputs": [
    {
     "ename": "AttributeError",
     "evalue": "'ResultSet' object has no attribute 'findNextSibling'",
     "output_type": "error",
     "traceback": [
      "\u001b[0;31m---------------------------------------------------------------------------\u001b[0m",
      "\u001b[0;31mAttributeError\u001b[0m                            Traceback (most recent call last)",
      "\u001b[0;32m<ipython-input-176-825113f5e066>\u001b[0m in \u001b[0;36m<module>\u001b[0;34m()\u001b[0m\n\u001b[1;32m      1\u001b[0m \u001b[0mforeign_gross_string\u001b[0m \u001b[0;34m=\u001b[0m \u001b[0mmovie_soup\u001b[0m\u001b[0;34m.\u001b[0m\u001b[0mfind_all\u001b[0m\u001b[0;34m(\u001b[0m\u001b[0mclass_\u001b[0m\u001b[0;34m=\u001b[0m\u001b[0;34m'mp_box_content'\u001b[0m\u001b[0;34m,\u001b[0m\u001b[0mtext\u001b[0m\u001b[0;34m=\u001b[0m\u001b[0mre\u001b[0m\u001b[0;34m.\u001b[0m\u001b[0mcompile\u001b[0m\u001b[0;34m(\u001b[0m\u001b[0;34m'Foreign'\u001b[0m\u001b[0;34m)\u001b[0m\u001b[0;34m)\u001b[0m \u001b[0;31m# finds the label\u001b[0m\u001b[0;34m\u001b[0m\u001b[0m\n\u001b[0;32m----> 2\u001b[0;31m \u001b[0mforeign_gross\u001b[0m \u001b[0;34m=\u001b[0m \u001b[0mforeign_gross_string\u001b[0m\u001b[0;34m.\u001b[0m\u001b[0mfindNextSibling\u001b[0m\u001b[0;34m(\u001b[0m\u001b[0;34m)\u001b[0m\u001b[0;34m.\u001b[0m\u001b[0mtext\u001b[0m\u001b[0;34m\u001b[0m\u001b[0m\n\u001b[0m\u001b[1;32m      3\u001b[0m \u001b[0;32mprint\u001b[0m\u001b[0;34m(\u001b[0m\u001b[0mforeign_gross\u001b[0m\u001b[0;34m)\u001b[0m\u001b[0;34m\u001b[0m\u001b[0m\n",
      "\u001b[0;31mAttributeError\u001b[0m: 'ResultSet' object has no attribute 'findNextSibling'"
     ]
    }
   ],
   "source": [
    "foreign_gross_string = movie_soup.find_all(class_='mp_box_content',text=re.compile('Foreign')) # finds the label\n",
    "foreign_gross = foreign_gross_string.findNextSibling().text\n",
    "print(foreign_gross)"
   ]
  },
  {
   "cell_type": "code",
   "execution_count": 167,
   "metadata": {
    "collapsed": false
   },
   "outputs": [
    {
     "name": "stdout",
     "output_type": "stream",
     "text": [
      "Domestic Summary\n"
     ]
    }
   ],
   "source": [
    "opening_weekend_string = movie_soup.find(text=re.compile('Domestic Summary'))\n",
    "# opening_weekend = opening_weekend_string.findNextSibling().text\n",
    "print(opening_weekend_string)"
   ]
  },
  {
   "cell_type": "code",
   "execution_count": 148,
   "metadata": {
    "collapsed": false
   },
   "outputs": [],
   "source": [
    "from collections import defaultdict\n",
    "\n",
    "movie_url = 'http://www.boxofficemojo.com/movies/?id=starwars7.htm'\n",
    "movie_dict = defaultdict(list)\n",
    "movie_dict['Star Wars: The Force Awakens'] = []\n",
    "# parse_movie_page(movie_dict,movie_url)"
   ]
  },
  {
   "cell_type": "code",
   "execution_count": 149,
   "metadata": {
    "collapsed": true
   },
   "outputs": [],
   "source": [
    "movie_dict['Star Wars: The Force Awakens'].append(1)"
   ]
  },
  {
   "cell_type": "code",
   "execution_count": 152,
   "metadata": {
    "collapsed": false
   },
   "outputs": [
    {
     "data": {
      "text/plain": [
       "[1, 2]"
      ]
     },
     "execution_count": 152,
     "metadata": {},
     "output_type": "execute_result"
    }
   ],
   "source": [
    "movie_dict['Star Wars: The Force Awakens']"
   ]
  },
  {
   "cell_type": "code",
   "execution_count": null,
   "metadata": {
    "collapsed": true
   },
   "outputs": [],
   "source": []
  }
 ],
 "metadata": {
  "kernelspec": {
   "display_name": "Python 2",
   "language": "python",
   "name": "python2"
  },
  "language_info": {
   "codemirror_mode": {
    "name": "ipython",
    "version": 2
   },
   "file_extension": ".py",
   "mimetype": "text/x-python",
   "name": "python",
   "nbconvert_exporter": "python",
   "pygments_lexer": "ipython2",
   "version": "2.7.12"
  }
 },
 "nbformat": 4,
 "nbformat_minor": 0
}
