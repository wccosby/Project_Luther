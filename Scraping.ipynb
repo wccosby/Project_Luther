{
 "cells": [
  {
   "cell_type": "markdown",
   "metadata": {},
   "source": [
    "# Web Scraping for Project Luther"
   ]
  },
  {
   "cell_type": "code",
   "execution_count": 4,
   "metadata": {
    "collapsed": true
   },
   "outputs": [],
   "source": [
    "import pandas as pd\n",
    "import numpy as np\n",
    "import matplotlib.pyplot as plt\n",
    "from bs4 import BeautifulSoup\n",
    "import requests\n",
    "\n",
    "%matplotlib inline\n"
   ]
  },
  {
   "cell_type": "code",
   "execution_count": 5,
   "metadata": {
    "collapsed": true
   },
   "outputs": [],
   "source": [
    "url = 'http://www.boxofficemojo.com/yearly/'\n",
    "\n",
    "response = requests.get(url)"
   ]
  },
  {
   "cell_type": "code",
   "execution_count": 6,
   "metadata": {
    "collapsed": false
   },
   "outputs": [
    {
     "data": {
      "text/plain": [
       "200"
      ]
     },
     "execution_count": 6,
     "metadata": {},
     "output_type": "execute_result"
    }
   ],
   "source": [
    "response.status_code"
   ]
  },
  {
   "cell_type": "code",
   "execution_count": 7,
   "metadata": {
    "collapsed": false
   },
   "outputs": [
    {
     "name": "stdout",
     "output_type": "stream",
     "text": [
      "<!DOCTYPE html PUBLIC \"-//W3C//DTD HTML 4.01 Transitional//EN\" \"http://www.w3.org/TR/html4/loose.dtd\">\n",
      "<html lang=\"en\">\n",
      "<HEAD>\n",
      "<TITLE>Movie Box Office Results by Year, 1980-Present - Box Office Mojo</TITLE>\n",
      "<META NAME=\"keywords\" CONTENT=\"year, yearly, box office, box, office, movie, result, average, total, chart, gross, screen, screens, ticket price, ticket, price, cost, budget, 1980, 1981, 1982, 1983, 1984, 1985, 1986, 1987, 1988, 1989, 1990, 1991, 1992, 1993, 1994, 1995, 1996, 1997, 1998, 1999, 2000, 2001, 2002, 2003, 2004, 2005, 2006, 2007, 2008, 2009, 2010, 2011, 2012, 2013, 2014, 2015, 2016\">\n",
      "<META NAME=\"description\" CONTENT=\"Movie Box Office Results by Year, 1980-Present.\">\n",
      "<link rel=\"stylesheet\" href=\"/css/mojo.css?1\" type=\"text/css\" media=\"screen\" title=\"no title\" charset=\"utf-8\">\n",
      "<link rel=\"stylesheet\" href=\"/css/mojo.css?1\" type=\"text/css\" media=\"print\" title=\"no title\" charset=\"utf-8\"></head>\n",
      "<body>\n",
      "<iframe id=\"sis_pixel_sitewide\" width=\"1\" height=\"1\" frameborder=\"0\" marginwidth=\"0\" marginheight=\"0\" style=\"display: none;\"></iframe>\n",
      "<script>\n",
      "    setTimeout(function(){\n",
      "        try{\n",
      "            //sis3.0 pixel\n",
      "            var cacheBust = Math.random() * 10000000000000000,\n",
      "                url_sis3 = 'http://s.amazon-adsystem.com/iu3?',\n",
      "                params_sis3 = [\n",
      "                    \"d=boxofficemojo.com\",\n",
      "                    \"cb=\" + cacheBust\n",
      "                ];\n",
      "\n",
      "            (document.getElementById('sis_pixel_sitewide')).src = url_sis3 + params_sis3.join('&');\n",
      "        }catch(e){\n",
      "            if (window.ueLogError) { \n",
      "                window.ueLogError(e);\n",
      "            }\n",
      "        }\n",
      "    }, 5);\n",
      "</script>\n",
      "\n",
      "<div id=\"container\">\n",
      "<div>\n",
      "<script type=\"text/javascript\">\n",
      "    var googletag = googletag || {};\n",
      "    googletag.cmd = googletag.cmd || [];\n",
      "\n",
      "    (function() {\n",
      "        var gads = document.createElement(\"script\");\n",
      "        gads.async = true;\n",
      "        gads.type = \"text/javascript\";\n",
      "\n",
      "        var useSSL = \"https:\" == document.location.protocol;\n",
      "        gads.src = (useSSL ? \"https:\" : \"http:\") + \"//www.googletagservices.com/tag/js/gpt.js\";\n",
      "\n",
      "        var node = document.getElementsByTagName(\"script\")[0];\n",
      "        node.parentNode.insertBefore(gads, node);\n",
      "    })();\n",
      "</script>\n",
      "\n",
      "<script type=\"text/javascript\">\n",
      "  var _gaq = _gaq || [];\n",
      "  _gaq.push(['_setAccount', 'UA-2831726-1']);\n",
      "  _gaq.push(['_trackPageview']);\n",
      "\n",
      "  (function() {\n",
      "    var ga = document.createElement('script'); ga.type = 'text/javascript'; ga.async = true;\n",
      "    ga.src = ('https:' == document.location.protocol ? 'https://ssl' : 'http://www') + '.google-analytics.com/ga.js';\n",
      "    (document.getElementsByTagName('head')[0] || document.getElementsByTagName('body')[0]).appendChild(ga);\n",
      "  })();\n",
      "\n",
      "</script>\n",
      "\n",
      "\t<div id=\"hp_banner\">\n",
      "\t<div id=\"top_links\">\n",
      "\t\t<div style=\"float: left\"><a href=\"/daily/chart/\">Daily Box Office (Tue.)</a> | <a href=\"/weekend/chart/\">Weekend Box Office (Jul. 8&ndash;10)</a> | <a href=\"/movies/?id=illumination2015.htm\">#1 Movie: 'The Secret Life of Pets'</a> | <a href=\"http://www.imdb.com/showtimes/?ref_=mojo\">Showtimes</a></div>\n",
      "\t\t<div style=\"float: right\">Updated 7/13/2016 2:53 P.M. Pacific Time</div>\n",
      "\t\t<div style=\"clear:both; height: 0px\"></div>\n",
      "\t</div>\n",
      "</div>\n",
      "\t\t\n",
      "<div id=\"header\">\n",
      "\t<div id=\"leaderboard\"><script type=\"text/javascript\">\n",
      "    googletag.cmd.push(function() {\n",
      "        googletag.defineSlot(\"/4215/imdb2.bom.other\", [[728, 90]], \"ad-slot-1\").addService(googletag.pubads().setTargeting(\"p\", \"t\"));\n",
      "        googletag.pubads().enableSingleRequest();\n",
      "        googletag.enableServices();\n",
      "    });\n",
      "    googletag.cmd.push(function() { googletag.display(\"ad-slot-1\"); });\n",
      "</script></div>\t<div id=\"hp_logo\"><a href=\"/\"><img src=\"/img/misc/bom_logo1.png\" width=\"245\" height=\"56\" alt=\"Box Office Mojo\"></a></div>\n",
      "\t<div style=\"clear:both; height: 0px\"></div>\n",
      "</div>\n",
      "\n",
      "\n",
      "</div>\n",
      "\n",
      "\n",
      "<div id=\"main\">\n",
      "<!-- COLUMN 1 of 4 -->\n",
      "\t<div id=\"leftnav\">\n",
      "<!-- google_ad_section_start(weight=ignore) -->\n",
      "<!-- <table id=\"navleft\" cellspacing=\"0\" cellpadding=\"2\" border=\"0\"> -->\n",
      "<ul id=\"leftnav\">\n",
      "<li class=\"nl_section\">Search Site</li>\n",
      "<li class=\"nl_link\" style=\"padding-left:0px\">\n",
      "\t<form name=\"searchbox\" method=\"POST\" action=\"/search/q.php\">\n",
      "\t<input name=\"q\"  type=\"text\" style=\"font-size: 9 pt; font-weight: bold; width: 90px;\"><br>\n",
      "\t<input type=\"submit\" value=\"Search...\" ></form> \n",
      "</li>\n",
      "<li class='nl_section'>Social</li>\n",
      "<li class=\"nl_link\"><a href=\"http://facebook.com/boxofficemojo\" style=\"vertical-align:middle;\"><img src=\"/images/FaceBook_16x16.png\" border=\"0\" alt=\"Facebook Logo\">Facebook</a></li>\n",
      "<li class=\"nl_link\"><a href=\"http://twitter.com/boxofficemojo\" style=\"vertical-align:middle;\"><img src=\"/images/Twitter_16x16.png\" border=\"0\" alt=\"Twitter Logo\">Twitter</a></li>\n",
      "\n",
      "<li class='nl_section'>Features</li>\n",
      "<li class='nl_link'><a href=\"/news/\">News</a></li>\n",
      "<li class='nl_link'><a href=\"/schedule/\">Release Sched.</a></li>\n",
      "<li class='nl_link'><a href=\"http://www.imdb.com/showtimes?ref_=mojo\">Showtimes<br/><span style=\"margin-left:7px;color: #999999; font-size: 9px;\">at <img src=\"/images/mojo_imdb_sm.png\"/></span></a></li>\n",
      "<li class='nl_section'>Box Office</li>\n",
      "<li class='nl_link'><a href=\"/daily/\">Daily</a></li>\n",
      "<li class='nl_link'><a href=\"/weekend/\">Weekend</a></li>\n",
      "<li class='nl_link'><a href=\"/weekly/\">Weekly</a></li>\n",
      "<li class='nl_link'><a href=\"/monthly/\">Monthly</a></li>\n",
      "<li class='nl_link'><a href=\"/quarterly/\">Quarterly</a></li>\n",
      "<li class='nl_link'><a href=\"/seasonal/\">Seasonal</a></li>\n",
      "<li class='nl_link_current'><a href=\"/yearly/\">Yearly</a></li>\n",
      "<li class='nl_link'><a href=\"/alltime/\">All Time</a></li>\n",
      "<li class='nl_link'><a href=\"/intl/\">International</a></li>\n",
      "<li class='nl_section'>Indices</li>\n",
      "<li class='nl_link'><a href=\"/studio/\">Studios</a></li>\n",
      "<li class='nl_link'><a href=\"/people/\">People</a></li>\n",
      "<li class='nl_link'><a href=\"/genres/\">Genres</a></li>\n",
      "<li class='nl_link'><a href=\"/franchises/\">Franchises</a></li>\n",
      "<li class='nl_link'><a href=\"/showdowns/\">Showdowns</a></li>\n",
      "<li class='nl_link'><a href=\"/counts/\">Theater Counts</a></li>\n",
      "</ul>\n",
      "</div>\n",
      "\t<div id=\"body\">\n",
      "<div id=\"addthis\"></div>\t\n",
      "<h2>Yearly Box Office</h2>\n",
      "\t\t\t<table border=\"0\" cellpadding=\"0\" cellspacing=\"0\" width=\"100%\">\n",
      "\t\t\t\t<tr>\n",
      "\t\t\t\t\t<td bgcolor=\"#8b0000\" colspan=\"2\"><img src=\"/images/space.gif\" border=\"0\" width=\"1\" height=\"5\"></td>\n",
      "\t\t\t\t</tr>\n",
      "\t\t\t</table>\n",
      "\n",
      "\n",
      "<h1>Yearly Box Office</h1>\n",
      "\n",
      "<ul class=\"nav_tabs\">\n",
      "<li class=\"nav_tab_current\"><a href=\"/yearly/?view2=domestic&view=releasedate&p=.htm\">Domestic</a></li>\n",
      "<li><a href=\"/yearly/?view2=ytdcompare&view=releasedate&p=.htm\">Ytd Comparison</a></li>\n",
      "<li><a href=\"/yearly/?view2=opening&view=releasedate&p=.htm\">Opening Weekends</a></li>\n",
      "<li><a href=\"/yearly/?view2=mpaa&view=releasedate&p=.htm\">Mpaa Breakdown</a></li>\n",
      "<li><a href=\"/yearly/?view2=worldwide&view=releasedate&p=.htm\">Worldwide</a></li>\n",
      "</ul>\n",
      "<br><table border=\"0\" cellspacing=\"0\" cellpadding=\"0\" width=\"100%\"><tr><td valign=\"top\" align=\"center\">\n",
      "<p align=\"center\"><font face=\"Verdana\" size=\"2\">Related Chart: <b>\n",
      "<a href=\"/yearly/chart/past365.htm\">The Past 365 Days</a></b></font></p>\n",
      "\n",
      "\n",
      "<table border=\"0\" cellspacing=\"1\" cellpadding=\"5\"><tr bgcolor=\"#dcdcdc\"><td align=\"center\"><font size=\"2\"><a href=\"/yearly/?sort=year&order=ASC&p=.htm\"><b>Year</b></a></font></td><td align=\"center\"><font size=\"2\"><a href=\"/yearly/?sort=totalgross&order=DESC&p=.htm\">Total<br>Gross*</a></font></td><td align=\"center\"><font size=\"2\"><a href=\"/yearly/?sort=grosschange&order=ASC&p=.htm\">Change</a></font></td><td align=\"center\"><font size=\"2\"><a href=\"/yearly/?sort=totaltickets&order=DESC&p=.htm\">Tickets<br>Sold</a></font></td><td align=\"center\"><font size=\"2\"><a href=\"/yearly/?sort=ticketchange&order=ASC&p=.htm\">Change</a></font></td><td align=\"center\"><font size=\"2\"><a href=\"/yearly/?sort=newmovies&order=DESC&p=.htm\"># of<br>Movies</a></font></td><td align=\"center\"><font size=\"2\"><a href=\"/yearly/?sort=screens&order=DESC&p=.htm\">Total<br>Screens</a></font></td><td align=\"center\"><font size=\"2\"><a href=\"/yearly/?sort=ticketprice&order=DESC&p=.htm\">Avg.<br>Ticket<br>Price</a></font></td><td align=\"center\"><font size=\"2\"><a href=\"/yearly/?sort=avgcost&order=DESC&p=.htm\">Avg.<br>Cost^</a></font></td><td align=\"center\"><font size=\"2\"><a href=\"/yearly/?sort=num1movie&order=ASC&p=.htm\">#1 Movie</a></font></td></tr><tr bgcolor=\"#ffff99\"><td align=\"center\"><font size=\"2\"><b><font size=\"4\"><a href=\"chart/?yr=2016&p=.htm\">2016</a></font></b></font></td>\r\n",
      "<td align=\"right\"><font size=\"2\">$6,169.2</font></td>\r\n",
      "<td align=\"right\"><font size=\"2\">-</font></td>\r\n",
      "<td align=\"right\"><font size=\"2\">719.0</font></td>\r\n",
      "<td align=\"right\"><font size=\"2\">-</font></td>\r\n",
      "<td align=\"right\"><font size=\"2\">362</font></td>\r\n",
      "<td align=\"right\"><font size=\"2\">-</font></td>\r\n",
      "<td align=\"center\"><font size=\"2\">$8.58</font></td>\r\n",
      "<td align=\"right\"><font size=\"2\">-</font></td>\r\n",
      "<td align=\"center\"><font size=\"2\"><a href=\"/movies/?id=pixar2015.htm\">Finding Dory</a></font></td>\r\n",
      "</tr>\r\n",
      "\r\n",
      "<tr bgcolor=\"#f4f4ff\"><td align=\"center\"><font size=\"2\"><b><font size=\"4\"><a href=\"chart/?yr=2015&p=.htm\">2015</a></font></b></font></td>\r\n",
      "<td align=\"right\"><font size=\"2\">$11,128.5</font></td>\r\n",
      "<td align=\"right\"><font size=\"2\"><font color=\"#0000ff\">+7.4%</font></font></td>\r\n",
      "<td align=\"right\"><font size=\"2\">1,320.1</font></td>\r\n",
      "<td align=\"right\"><font size=\"2\"><font color=\"#0000ff\">+4.1%</font></font></td>\r\n",
      "<td align=\"right\"><font size=\"2\">701</font></td>\r\n",
      "<td align=\"right\"><font size=\"2\">-</font></td>\r\n",
      "<td align=\"center\"><font size=\"2\">$8.43</font></td>\r\n",
      "<td align=\"right\"><font size=\"2\">-</font></td>\r\n",
      "<td align=\"center\"><font size=\"2\"><a href=\"/movies/?id=starwars7.htm\">Star Wars: The Force Awakens</a></font></td>\r\n",
      "</tr>\r\n",
      "\r\n",
      "<tr bgcolor=\"#ffffff\"><td align=\"center\"><font size=\"2\"><b><font size=\"4\"><a href=\"chart/?yr=2014&p=.htm\">2014</a></font></b></font></td>\r\n",
      "<td align=\"right\"><font size=\"2\">$10,360.8</font></td>\r\n",
      "<td align=\"right\"><font size=\"2\"><font color=\"#ff0000\">-5.2%</font></font></td>\r\n",
      "<td align=\"right\"><font size=\"2\">1,268.2</font></td>\r\n",
      "<td align=\"right\"><font size=\"2\"><font color=\"#ff0000\">-5.6%</font></font></td>\r\n",
      "<td align=\"right\"><font size=\"2\">702</font></td>\r\n",
      "<td align=\"right\"><font size=\"2\">-</font></td>\r\n",
      "<td align=\"center\"><font size=\"2\">$8.17</font></td>\r\n",
      "<td align=\"right\"><font size=\"2\">-</font></td>\r\n",
      "<td align=\"center\"><font size=\"2\"><a href=\"/movies/?id=americansniper.htm\">American Sniper</a></font></td>\r\n",
      "</tr>\r\n",
      "\r\n",
      "<tr bgcolor=\"#f4f4ff\"><td align=\"center\"><font size=\"2\"><b><font size=\"4\"><a href=\"chart/?yr=2013&p=.htm\">2013</a></font></b></font></td>\r\n",
      "<td align=\"right\"><font size=\"2\">$10,923.6</font></td>\r\n",
      "<td align=\"right\"><font size=\"2\"><font color=\"#0000ff\">+0.8%</font></font></td>\r\n",
      "<td align=\"right\"><font size=\"2\">1,343.6</font></td>\r\n",
      "<td align=\"right\"><font size=\"2\"><font color=\"#ff0000\">-1.3%</font></font></td>\r\n",
      "<td align=\"right\"><font size=\"2\">688</font></td>\r\n",
      "<td align=\"right\"><font size=\"2\">-</font></td>\r\n",
      "<td align=\"center\"><font size=\"2\">$8.13</font></td>\r\n",
      "<td align=\"right\"><font size=\"2\">-</font></td>\r\n",
      "<td align=\"center\"><font size=\"2\"><a href=\"/movies/?id=catchingfire.htm\">Catching Fire</a></font></td>\r\n",
      "</tr>\r\n",
      "\r\n",
      "<tr bgcolor=\"#ffffff\"><td align=\"center\"><font size=\"2\"><b><font size=\"4\"><a href=\"chart/?yr=2012&p=.htm\">2012</a></font></b></font></td>\r\n",
      "<td align=\"right\"><font size=\"2\">$10,837.4</font></td>\r\n",
      "<td align=\"right\"><font size=\"2\"><font color=\"#0000ff\">+6.5%</font></font></td>\r\n",
      "<td align=\"right\"><font size=\"2\">1,361.5</font></td>\r\n",
      "<td align=\"right\"><font size=\"2\"><font color=\"#0000ff\">+6.1%</font></font></td>\r\n",
      "<td align=\"right\"><font size=\"2\">667</font></td>\r\n",
      "<td align=\"right\"><font size=\"2\">-</font></td>\r\n",
      "<td align=\"center\"><font size=\"2\">$7.96</font></td>\r\n",
      "<td align=\"right\"><font size=\"2\">-</font></td>\r\n",
      "<td align=\"center\"><font size=\"2\"><a href=\"/movies/?id=avengers11.htm\">The Avengers</a></font></td>\r\n",
      "</tr>\r\n",
      "\r\n",
      "<tr bgcolor=\"#f4f4ff\"><td align=\"center\"><font size=\"2\"><b><font size=\"4\"><a href=\"chart/?yr=2011&p=.htm\">2011</a></font></b></font></td>\r\n",
      "<td align=\"right\"><font size=\"2\">$10,174.3</font></td>\r\n",
      "<td align=\"right\"><font size=\"2\"><font color=\"#ff0000\">-3.7%</font></font></td>\r\n",
      "<td align=\"right\"><font size=\"2\">1,283.0</font></td>\r\n",
      "<td align=\"right\"><font size=\"2\"><font color=\"#ff0000\">-4.2%</font></font></td>\r\n",
      "<td align=\"right\"><font size=\"2\">602</font></td>\r\n",
      "<td align=\"right\"><font size=\"2\">-</font></td>\r\n",
      "<td align=\"center\"><font size=\"2\">$7.93</font></td>\r\n",
      "<td align=\"right\"><font size=\"2\">-</font></td>\r\n",
      "<td align=\"center\"><font size=\"2\"><a href=\"/movies/?id=harrypotter72.htm\">Harry Potter / Deathly Hallows (P2)</a></font></td>\r\n",
      "</tr>\r\n",
      "\r\n",
      "<tr bgcolor=\"#ffffff\"><td align=\"center\"><font size=\"2\"><b><font size=\"4\"><a href=\"chart/?yr=2010&p=.htm\">2010</a></font></b></font></td>\r\n",
      "<td align=\"right\"><font size=\"2\">$10,565.6</font></td>\r\n",
      "<td align=\"right\"><font size=\"2\"><font color=\"#ff0000\">-0.3%</font></font></td>\r\n",
      "<td align=\"right\"><font size=\"2\">1,339.1</font></td>\r\n",
      "<td align=\"right\"><font size=\"2\"><font color=\"#ff0000\">-5.2%</font></font></td>\r\n",
      "<td align=\"right\"><font size=\"2\">536</font></td>\r\n",
      "<td align=\"right\"><font size=\"2\">-</font></td>\r\n",
      "<td align=\"center\"><font size=\"2\">$7.89</font></td>\r\n",
      "<td align=\"right\"><font size=\"2\">-</font></td>\r\n",
      "<td align=\"center\"><font size=\"2\"><a href=\"/movies/?id=toystory3.htm\">Toy Story 3</a></font></td>\r\n",
      "</tr>\r\n",
      "\r\n",
      "<tr bgcolor=\"#f4f4ff\"><td align=\"center\"><font size=\"2\"><b><font size=\"4\"><a href=\"chart/?yr=2009&p=.htm\">2009</a></font></b></font></td>\r\n",
      "<td align=\"right\"><font size=\"2\">$10,595.5</font></td>\r\n",
      "<td align=\"right\"><font size=\"2\"><font color=\"#0000ff\">+10.0%</font></font></td>\r\n",
      "<td align=\"right\"><font size=\"2\">1,412.7</font></td>\r\n",
      "<td align=\"right\"><font size=\"2\"><font color=\"#0000ff\">+5.3%</font></font></td>\r\n",
      "<td align=\"right\"><font size=\"2\">521</font></td>\r\n",
      "<td align=\"right\"><font size=\"2\">-</font></td>\r\n",
      "<td align=\"center\"><font size=\"2\">$7.50</font></td>\r\n",
      "<td align=\"right\"><font size=\"2\">-</font></td>\r\n",
      "<td align=\"center\"><font size=\"2\"><a href=\"/movies/?id=avatar.htm\">Avatar</a></font></td>\r\n",
      "</tr>\r\n",
      "\r\n",
      "<tr bgcolor=\"#ffffff\"><td align=\"center\"><font size=\"2\"><b><font size=\"4\"><a href=\"chart/?yr=2008&p=.htm\">2008</a></font></b></font></td>\r\n",
      "<td align=\"right\"><font size=\"2\">$9,630.7</font></td>\r\n",
      "<td align=\"right\"><font size=\"2\"><font color=\"#ff0000\">-0.3%</font></font></td>\r\n",
      "<td align=\"right\"><font size=\"2\">1,341.3</font></td>\r\n",
      "<td align=\"right\"><font size=\"2\"><font color=\"#ff0000\">-4.5%</font></font></td>\r\n",
      "<td align=\"right\"><font size=\"2\">608</font></td>\r\n",
      "<td align=\"right\"><font size=\"2\">-</font></td>\r\n",
      "<td align=\"center\"><font size=\"2\">$7.18</font></td>\r\n",
      "<td align=\"right\"><font size=\"2\">-</font></td>\r\n",
      "<td align=\"center\"><font size=\"2\"><a href=\"/movies/?id=darkknight.htm\">The Dark Knight</a></font></td>\r\n",
      "</tr>\r\n",
      "\r\n",
      "<tr bgcolor=\"#f4f4ff\"><td align=\"center\"><font size=\"2\"><b><font size=\"4\"><a href=\"chart/?yr=2007&p=.htm\">2007</a></font></b></font></td>\r\n",
      "<td align=\"right\"><font size=\"2\">$9,663.8</font></td>\r\n",
      "<td align=\"right\"><font size=\"2\"><font color=\"#0000ff\">+4.9%</font></font></td>\r\n",
      "<td align=\"right\"><font size=\"2\">1,404.6</font></td>\r\n",
      "<td align=\"right\"><font size=\"2\"><font color=\"#ff0000\">-0.1%</font></font></td>\r\n",
      "<td align=\"right\"><font size=\"2\">631</font></td>\r\n",
      "<td align=\"right\"><font size=\"2\">-</font></td>\r\n",
      "<td align=\"center\"><font size=\"2\">$6.88</font></td>\r\n",
      "<td align=\"right\"><font size=\"2\">-</font></td>\r\n",
      "<td align=\"center\"><font size=\"2\"><a href=\"/movies/?id=spiderman3.htm\">Spider-Man 3</a></font></td>\r\n",
      "</tr>\r\n",
      "\r\n",
      "<tr bgcolor=\"#ffffff\"><td align=\"center\"><font size=\"2\"><b><font size=\"4\"><a href=\"chart/?yr=2006&p=.htm\">2006</a></font></b></font></td>\r\n",
      "<td align=\"right\"><font size=\"2\">$9,209.5</font></td>\r\n",
      "<td align=\"right\"><font size=\"2\"><font color=\"#0000ff\">+4.2%</font></font></td>\r\n",
      "<td align=\"right\"><font size=\"2\">1,406.0</font></td>\r\n",
      "<td align=\"right\"><font size=\"2\"><font color=\"#0000ff\">+2.0%</font></font></td>\r\n",
      "<td align=\"right\"><font size=\"2\">608</font></td>\r\n",
      "<td align=\"right\"><font size=\"2\">-</font></td>\r\n",
      "<td align=\"center\"><font size=\"2\">$6.55</font></td>\r\n",
      "<td align=\"right\"><font size=\"2\">-</font></td>\r\n",
      "<td align=\"center\"><font size=\"2\"><a href=\"/movies/?id=piratesofthecaribbean2.htm\">Dead Man's Chest</a></font></td>\r\n",
      "</tr>\r\n",
      "\r\n",
      "<tr bgcolor=\"#f4f4ff\"><td align=\"center\"><font size=\"2\"><b><font size=\"4\"><a href=\"chart/?yr=2005&p=.htm\">2005</a></font></b></font></td>\r\n",
      "<td align=\"right\"><font size=\"2\">$8,840.5</font></td>\r\n",
      "<td align=\"right\"><font size=\"2\"><font color=\"#ff0000\">-5.8%</font></font></td>\r\n",
      "<td align=\"right\"><font size=\"2\">1,379.2</font></td>\r\n",
      "<td align=\"right\"><font size=\"2\"><font color=\"#ff0000\">-8.7%</font></font></td>\r\n",
      "<td align=\"right\"><font size=\"2\">547</font></td>\r\n",
      "<td align=\"right\"><font size=\"2\">-</font></td>\r\n",
      "<td align=\"center\"><font size=\"2\">$6.41</font></td>\r\n",
      "<td align=\"right\"><font size=\"2\">-</font></td>\r\n",
      "<td align=\"center\"><font size=\"2\"><a href=\"/movies/?id=starwars3.htm\">Revenge of the Sith</a></font></td>\r\n",
      "</tr>\r\n",
      "\r\n",
      "<tr bgcolor=\"#ffffff\"><td align=\"center\"><font size=\"2\"><b><font size=\"4\"><a href=\"chart/?yr=2004&p=.htm\">2004</a></font></b></font></td>\r\n",
      "<td align=\"right\"><font size=\"2\">$9,380.5</font></td>\r\n",
      "<td align=\"right\"><font size=\"2\"><font color=\"#0000ff\">+1.5%</font></font></td>\r\n",
      "<td align=\"right\"><font size=\"2\">1,510.5</font></td>\r\n",
      "<td align=\"right\"><font size=\"2\"><font color=\"#ff0000\">-1.4%</font></font></td>\r\n",
      "<td align=\"right\"><font size=\"2\">551</font></td>\r\n",
      "<td align=\"right\"><font size=\"2\">-</font></td>\r\n",
      "<td align=\"center\"><font size=\"2\">$6.21</font></td>\r\n",
      "<td align=\"right\"><font size=\"2\">-</font></td>\r\n",
      "<td align=\"center\"><font size=\"2\"><a href=\"/movies/?id=shrek2.htm\">Shrek 2</a></font></td>\r\n",
      "</tr>\r\n",
      "\r\n",
      "<tr bgcolor=\"#f4f4ff\"><td align=\"center\"><font size=\"2\"><b><font size=\"4\"><a href=\"chart/?yr=2003&p=.htm\">2003</a></font></b></font></td>\r\n",
      "<td align=\"right\"><font size=\"2\">$9,239.7</font></td>\r\n",
      "<td align=\"right\"><font size=\"2\"><font color=\"#0000ff\">+0.9%</font></font></td>\r\n",
      "<td align=\"right\"><font size=\"2\">1,532.3</font></td>\r\n",
      "<td align=\"right\"><font size=\"2\"><font color=\"#ff0000\">-2.8%</font></font></td>\r\n",
      "<td align=\"right\"><font size=\"2\">506</font></td>\r\n",
      "<td align=\"right\"><font size=\"2\">-</font></td>\r\n",
      "<td align=\"center\"><font size=\"2\">$6.03</font></td>\r\n",
      "<td align=\"right\"><font size=\"2\">$63.8</font></td>\r\n",
      "<td align=\"center\"><font size=\"2\"><a href=\"/movies/?id=returnoftheking.htm\">Return of the King</a></font></td>\r\n",
      "</tr>\r\n",
      "\r\n",
      "<tr bgcolor=\"#ffffff\"><td align=\"center\"><font size=\"2\"><b><font size=\"4\"><a href=\"chart/?yr=2002&p=.htm\">2002</a></font></b></font></td>\r\n",
      "<td align=\"right\"><font size=\"2\">$9,155.0</font></td>\r\n",
      "<td align=\"right\"><font size=\"2\"><font color=\"#0000ff\">+8.8%</font></font></td>\r\n",
      "<td align=\"right\"><font size=\"2\">1,575.7</font></td>\r\n",
      "<td align=\"right\"><font size=\"2\"><font color=\"#0000ff\">+6.0%</font></font></td>\r\n",
      "<td align=\"right\"><font size=\"2\">479</font></td>\r\n",
      "<td align=\"right\"><font size=\"2\">35,592</font></td>\r\n",
      "<td align=\"center\"><font size=\"2\">$5.81</font></td>\r\n",
      "<td align=\"right\"><font size=\"2\">$58.8</font></td>\r\n",
      "<td align=\"center\"><font size=\"2\"><a href=\"/movies/?id=spiderman.htm\">Spider-Man</a></font></td>\r\n",
      "</tr>\r\n",
      "\r\n",
      "<tr bgcolor=\"#f4f4ff\"><td align=\"center\"><font size=\"2\"><b><font size=\"4\"><a href=\"chart/?yr=2001&p=.htm\">2001</a></font></b></font></td>\r\n",
      "<td align=\"right\"><font size=\"2\">$8,412.5</font></td>\r\n",
      "<td align=\"right\"><font size=\"2\"><font color=\"#0000ff\">+9.8%</font></font></td>\r\n",
      "<td align=\"right\"><font size=\"2\">1,487.3</font></td>\r\n",
      "<td align=\"right\"><font size=\"2\"><font color=\"#0000ff\">+4.7%</font></font></td>\r\n",
      "<td align=\"right\"><font size=\"2\">482</font></td>\r\n",
      "<td align=\"right\"><font size=\"2\">36,764</font></td>\r\n",
      "<td align=\"center\"><font size=\"2\">$5.66</font></td>\r\n",
      "<td align=\"right\"><font size=\"2\">$47.7</font></td>\r\n",
      "<td align=\"center\"><font size=\"2\"><a href=\"/movies/?id=harrypotter.htm\">Harry Potter / Sorcerer's Stone</a></font></td>\r\n",
      "</tr>\r\n",
      "\r\n",
      "<tr bgcolor=\"#ffffff\"><td align=\"center\"><font size=\"2\"><b><font size=\"4\"><a href=\"chart/?yr=2000&p=.htm\">2000</a></font></b></font></td>\r\n",
      "<td align=\"right\"><font size=\"2\">$7,661.0</font></td>\r\n",
      "<td align=\"right\"><font size=\"2\"><font color=\"#0000ff\">+2.9%</font></font></td>\r\n",
      "<td align=\"right\"><font size=\"2\">1,420.8</font></td>\r\n",
      "<td align=\"right\"><font size=\"2\"><font color=\"#ff0000\">-3.0%</font></font></td>\r\n",
      "<td align=\"right\"><font size=\"2\">478</font></td>\r\n",
      "<td align=\"right\"><font size=\"2\">37,396</font></td>\r\n",
      "<td align=\"center\"><font size=\"2\">$5.39</font></td>\r\n",
      "<td align=\"right\"><font size=\"2\">$54.8</font></td>\r\n",
      "<td align=\"center\"><font size=\"2\"><a href=\"/movies/?id=grinch.htm\">The Grinch</a></font></td>\r\n",
      "</tr>\r\n",
      "\r\n",
      "<tr bgcolor=\"#f4f4ff\"><td align=\"center\"><font size=\"2\"><b><font size=\"4\"><a href=\"chart/?yr=1999&p=.htm\">1999</a></font></b></font></td>\r\n",
      "<td align=\"right\"><font size=\"2\">$7,448.0</font></td>\r\n",
      "<td align=\"right\"><font size=\"2\"><font color=\"#0000ff\">+7.2%</font></font></td>\r\n",
      "<td align=\"right\"><font size=\"2\">1,465.2</font></td>\r\n",
      "<td align=\"right\"><font size=\"2\"><font color=\"#ff0000\">-1.1%</font></font></td>\r\n",
      "<td align=\"right\"><font size=\"2\">461</font></td>\r\n",
      "<td align=\"right\"><font size=\"2\">37,185</font></td>\r\n",
      "<td align=\"center\"><font size=\"2\">$5.08</font></td>\r\n",
      "<td align=\"right\"><font size=\"2\">$51.5</font></td>\r\n",
      "<td align=\"center\"><font size=\"2\"><a href=\"/movies/?id=starwars.htm\">The Phantom Menace</a></font></td>\r\n",
      "</tr>\r\n",
      "\r\n",
      "<tr bgcolor=\"#ffffff\"><td align=\"center\"><font size=\"2\"><b><font size=\"4\"><a href=\"chart/?yr=1998&p=.htm\">1998</a></font></b></font></td>\r\n",
      "<td align=\"right\"><font size=\"2\">$6,949.0</font></td>\r\n",
      "<td align=\"right\"><font size=\"2\"><font color=\"#0000ff\">+9.2%</font></font></td>\r\n",
      "<td align=\"right\"><font size=\"2\">1,480.7</font></td>\r\n",
      "<td align=\"right\"><font size=\"2\"><font color=\"#0000ff\">+6.7%</font></font></td>\r\n",
      "<td align=\"right\"><font size=\"2\">509</font></td>\r\n",
      "<td align=\"right\"><font size=\"2\">34,186</font></td>\r\n",
      "<td align=\"center\"><font size=\"2\">$4.69</font></td>\r\n",
      "<td align=\"right\"><font size=\"2\">$52.7</font></td>\r\n",
      "<td align=\"center\"><font size=\"2\"><a href=\"/movies/?id=savingprivateryan.htm\">Saving Private Ryan</a></font></td>\r\n",
      "</tr>\r\n",
      "\r\n",
      "<tr bgcolor=\"#f4f4ff\"><td align=\"center\"><font size=\"2\"><b><font size=\"4\"><a href=\"chart/?yr=1997&p=.htm\">1997</a></font></b></font></td>\r\n",
      "<td align=\"right\"><font size=\"2\">$6,365.9</font></td>\r\n",
      "<td align=\"right\"><font size=\"2\"><font color=\"#0000ff\">+7.7%</font></font></td>\r\n",
      "<td align=\"right\"><font size=\"2\">1,387.7</font></td>\r\n",
      "<td align=\"right\"><font size=\"2\"><font color=\"#0000ff\">+3.7%</font></font></td>\r\n",
      "<td align=\"right\"><font size=\"2\">510</font></td>\r\n",
      "<td align=\"right\"><font size=\"2\">31,640</font></td>\r\n",
      "<td align=\"center\"><font size=\"2\">$4.59</font></td>\r\n",
      "<td align=\"right\"><font size=\"2\">$53.4</font></td>\r\n",
      "<td align=\"center\"><font size=\"2\"><a href=\"/movies/?id=titanic.htm\">Titanic</a></font></td>\r\n",
      "</tr>\r\n",
      "\r\n",
      "<tr bgcolor=\"#ffffff\"><td align=\"center\"><font size=\"2\"><b><font size=\"4\"><a href=\"chart/?yr=1996&p=.htm\">1996</a></font></b></font></td>\r\n",
      "<td align=\"right\"><font size=\"2\">$5,911.5</font></td>\r\n",
      "<td align=\"right\"><font size=\"2\"><font color=\"#0000ff\">+7.6%</font></font></td>\r\n",
      "<td align=\"right\"><font size=\"2\">1,338.6</font></td>\r\n",
      "<td align=\"right\"><font size=\"2\"><font color=\"#0000ff\">+6.0%</font></font></td>\r\n",
      "<td align=\"right\"><font size=\"2\">471</font></td>\r\n",
      "<td align=\"right\"><font size=\"2\">29,690</font></td>\r\n",
      "<td align=\"center\"><font size=\"2\">$4.42</font></td>\r\n",
      "<td align=\"right\"><font size=\"2\">$39.8</font></td>\r\n",
      "<td align=\"center\"><font size=\"2\"><a href=\"/movies/?id=independenceday.htm\">Independence Day</a></font></td>\r\n",
      "</tr>\r\n",
      "\r\n",
      "<tr bgcolor=\"#f4f4ff\"><td align=\"center\"><font size=\"2\"><b><font size=\"4\"><a href=\"chart/?yr=1995&p=.htm\">1995</a></font></b></font></td>\r\n",
      "<td align=\"right\"><font size=\"2\">$5,493.5</font></td>\r\n",
      "<td align=\"right\"><font size=\"2\"><font color=\"#0000ff\">+1.8%</font></font></td>\r\n",
      "<td align=\"right\"><font size=\"2\">1,262.6</font></td>\r\n",
      "<td align=\"right\"><font size=\"2\"><font color=\"#ff0000\">-2.3%</font></font></td>\r\n",
      "<td align=\"right\"><font size=\"2\">411</font></td>\r\n",
      "<td align=\"right\"><font size=\"2\">27,805</font></td>\r\n",
      "<td align=\"center\"><font size=\"2\">$4.35</font></td>\r\n",
      "<td align=\"right\"><font size=\"2\">$36.4</font></td>\r\n",
      "<td align=\"center\"><font size=\"2\"><a href=\"/movies/?id=toystory.htm\">Toy Story</a></font></td>\r\n",
      "</tr>\r\n",
      "\r\n",
      "<tr bgcolor=\"#ffffff\"><td align=\"center\"><font size=\"2\"><b><font size=\"4\"><a href=\"chart/?yr=1994&p=.htm\">1994</a></font></b></font></td>\r\n",
      "<td align=\"right\"><font size=\"2\">$5,396.2</font></td>\r\n",
      "<td align=\"right\"><font size=\"2\"><font color=\"#0000ff\">+4.7%</font></font></td>\r\n",
      "<td align=\"right\"><font size=\"2\">1,291.7</font></td>\r\n",
      "<td align=\"right\"><font size=\"2\"><font color=\"#0000ff\">+3.8%</font></font></td>\r\n",
      "<td align=\"right\"><font size=\"2\">453</font></td>\r\n",
      "<td align=\"right\"><font size=\"2\">26,586</font></td>\r\n",
      "<td align=\"center\"><font size=\"2\">$4.18</font></td>\r\n",
      "<td align=\"right\"><font size=\"2\">$34.3</font></td>\r\n",
      "<td align=\"center\"><font size=\"2\"><a href=\"/movies/?id=forrestgump.htm\">Forrest Gump</a></font></td>\r\n",
      "</tr>\r\n",
      "\r\n",
      "<tr bgcolor=\"#f4f4ff\"><td align=\"center\"><font size=\"2\"><b><font size=\"4\"><a href=\"chart/?yr=1993&p=.htm\">1993</a></font></b></font></td>\r\n",
      "<td align=\"right\"><font size=\"2\">$5,154.2</font></td>\r\n",
      "<td align=\"right\"><font size=\"2\"><font color=\"#0000ff\">+5.8%</font></font></td>\r\n",
      "<td align=\"right\"><font size=\"2\">1,244.0</font></td>\r\n",
      "<td align=\"right\"><font size=\"2\"><font color=\"#0000ff\">+6.0%</font></font></td>\r\n",
      "<td align=\"right\"><font size=\"2\">462</font></td>\r\n",
      "<td align=\"right\"><font size=\"2\">25,737</font></td>\r\n",
      "<td align=\"center\"><font size=\"2\">$4.14</font></td>\r\n",
      "<td align=\"right\"><font size=\"2\">$29.9</font></td>\r\n",
      "<td align=\"center\"><font size=\"2\"><a href=\"/movies/?id=jurassicpark.htm\">Jurassic Park</a></font></td>\r\n",
      "</tr>\r\n",
      "\r\n",
      "<tr bgcolor=\"#ffffff\"><td align=\"center\"><font size=\"2\"><b><font size=\"4\"><a href=\"chart/?yr=1992&p=.htm\">1992</a></font></b></font></td>\r\n",
      "<td align=\"right\"><font size=\"2\">$4,871.0</font></td>\r\n",
      "<td align=\"right\"><font size=\"2\"><font color=\"#0000ff\">+1.4%</font></font></td>\r\n",
      "<td align=\"right\"><font size=\"2\">1,173.2</font></td>\r\n",
      "<td align=\"right\"><font size=\"2\"><font color=\"#0000ff\">+2.9%</font></font></td>\r\n",
      "<td align=\"right\"><font size=\"2\">480</font></td>\r\n",
      "<td align=\"right\"><font size=\"2\">25,105</font></td>\r\n",
      "<td align=\"center\"><font size=\"2\">$4.15</font></td>\r\n",
      "<td align=\"right\"><font size=\"2\">$28.9</font></td>\r\n",
      "<td align=\"center\"><font size=\"2\"><a href=\"/movies/?id=aladdin.htm\">Aladdin</a></font></td>\r\n",
      "</tr>\r\n",
      "\r\n",
      "<tr bgcolor=\"#f4f4ff\"><td align=\"center\"><font size=\"2\"><b><font size=\"4\"><a href=\"chart/?yr=1991&p=.htm\">1991</a></font></b></font></td>\r\n",
      "<td align=\"right\"><font size=\"2\">$4,803.2</font></td>\r\n",
      "<td align=\"right\"><font size=\"2\"><font color=\"#ff0000\">-4.4%</font></font></td>\r\n",
      "<td align=\"right\"><font size=\"2\">1,140.6</font></td>\r\n",
      "<td align=\"right\"><font size=\"2\"><font color=\"#ff0000\">-4.0%</font></font></td>\r\n",
      "<td align=\"right\"><font size=\"2\">458</font></td>\r\n",
      "<td align=\"right\"><font size=\"2\">24,570</font></td>\r\n",
      "<td align=\"center\"><font size=\"2\">$4.21</font></td>\r\n",
      "<td align=\"right\"><font size=\"2\">$26.1</font></td>\r\n",
      "<td align=\"center\"><font size=\"2\"><a href=\"/movies/?id=terminator2.htm\">Terminator 2</a></font></td>\r\n",
      "</tr>\r\n",
      "\r\n",
      "<tr bgcolor=\"#ffffff\"><td align=\"center\"><font size=\"2\"><b><font size=\"4\"><a href=\"chart/?yr=1990&p=.htm\">1990</a></font></b></font></td>\r\n",
      "<td align=\"right\"><font size=\"2\">$5,021.8</font></td>\r\n",
      "<td align=\"right\"><font size=\"2\"><font color=\"#ff0000\">-0.2%</font></font></td>\r\n",
      "<td align=\"right\"><font size=\"2\">1,188.6</font></td>\r\n",
      "<td align=\"right\"><font size=\"2\"><font color=\"#ff0000\">-5.9%</font></font></td>\r\n",
      "<td align=\"right\"><font size=\"2\">410</font></td>\r\n",
      "<td align=\"right\"><font size=\"2\">23,689</font></td>\r\n",
      "<td align=\"center\"><font size=\"2\">$4.23</font></td>\r\n",
      "<td align=\"right\"><font size=\"2\">$26.8</font></td>\r\n",
      "<td align=\"center\"><font size=\"2\"><a href=\"/movies/?id=homealone.htm\">Home Alone</a></font></td>\r\n",
      "</tr>\r\n",
      "\r\n",
      "<tr bgcolor=\"#f4f4ff\"><td align=\"center\"><font size=\"2\"><b><font size=\"4\"><a href=\"chart/?yr=1989&p=.htm\">1989</a></font></b></font></td>\r\n",
      "<td align=\"right\"><font size=\"2\">$5,033.4</font></td>\r\n",
      "<td align=\"right\"><font size=\"2\"><font color=\"#0000ff\">+12.9%</font></font></td>\r\n",
      "<td align=\"right\"><font size=\"2\">1,262.8</font></td>\r\n",
      "<td align=\"right\"><font size=\"2\"><font color=\"#0000ff\">+16.4%</font></font></td>\r\n",
      "<td align=\"right\"><font size=\"2\">502</font></td>\r\n",
      "<td align=\"right\"><font size=\"2\">23,132</font></td>\r\n",
      "<td align=\"center\"><font size=\"2\">$3.97</font></td>\r\n",
      "<td align=\"right\"><font size=\"2\">$23.5</font></td>\r\n",
      "<td align=\"center\"><font size=\"2\"><a href=\"/movies/?id=batman.htm\">Batman</a></font></td>\r\n",
      "</tr>\r\n",
      "\r\n",
      "<tr bgcolor=\"#ffffff\"><td align=\"center\"><font size=\"2\"><b><font size=\"4\"><a href=\"chart/?yr=1988&p=.htm\">1988</a></font></b></font></td>\r\n",
      "<td align=\"right\"><font size=\"2\">$4,458.4</font></td>\r\n",
      "<td align=\"right\"><font size=\"2\"><font color=\"#0000ff\">+4.8%</font></font></td>\r\n",
      "<td align=\"right\"><font size=\"2\">1,084.8</font></td>\r\n",
      "<td align=\"right\"><font size=\"2\"><font color=\"#ff0000\">-0.3%</font></font></td>\r\n",
      "<td align=\"right\"><font size=\"2\">510</font></td>\r\n",
      "<td align=\"right\"><font size=\"2\">23,234</font></td>\r\n",
      "<td align=\"center\"><font size=\"2\">$4.11</font></td>\r\n",
      "<td align=\"right\"><font size=\"2\">$18.1</font></td>\r\n",
      "<td align=\"center\"><font size=\"2\"><a href=\"/movies/?id=rainman.htm\">Rain Man</a></font></td>\r\n",
      "</tr>\r\n",
      "\r\n",
      "<tr bgcolor=\"#f4f4ff\"><td align=\"center\"><font size=\"2\"><b><font size=\"4\"><a href=\"chart/?yr=1987&p=.htm\">1987</a></font></b></font></td>\r\n",
      "<td align=\"right\"><font size=\"2\">$4,252.9</font></td>\r\n",
      "<td align=\"right\"><font size=\"2\"><font color=\"#0000ff\">+12.6%</font></font></td>\r\n",
      "<td align=\"right\"><font size=\"2\">1,088.5</font></td>\r\n",
      "<td align=\"right\"><font size=\"2\"><font color=\"#0000ff\">+7.0%</font></font></td>\r\n",
      "<td align=\"right\"><font size=\"2\">509</font></td>\r\n",
      "<td align=\"right\"><font size=\"2\">23,555</font></td>\r\n",
      "<td align=\"center\"><font size=\"2\">$3.91</font></td>\r\n",
      "<td align=\"right\"><font size=\"2\">$20.1</font></td>\r\n",
      "<td align=\"center\"><font size=\"2\"><a href=\"/movies/?id=threemenandababy.htm\">Three Men and a Baby</a></font></td>\r\n",
      "</tr>\r\n",
      "\r\n",
      "<tr bgcolor=\"#ffffff\"><td align=\"center\"><font size=\"2\"><b><font size=\"4\"><a href=\"chart/?yr=1986&p=.htm\">1986</a></font></b></font></td>\r\n",
      "<td align=\"right\"><font size=\"2\">$3,778.0</font></td>\r\n",
      "<td align=\"right\"><font size=\"2\"><font color=\"#0000ff\">+0.8%</font></font></td>\r\n",
      "<td align=\"right\"><font size=\"2\">1,017.2</font></td>\r\n",
      "<td align=\"right\"><font size=\"2\"><font color=\"#ff0000\">-3.7%</font></font></td>\r\n",
      "<td align=\"right\"><font size=\"2\">451</font></td>\r\n",
      "<td align=\"right\"><font size=\"2\">22,765</font></td>\r\n",
      "<td align=\"center\"><font size=\"2\">$3.71</font></td>\r\n",
      "<td align=\"right\"><font size=\"2\">$17.5</font></td>\r\n",
      "<td align=\"center\"><font size=\"2\"><a href=\"/movies/?id=topgun.htm\">Top Gun</a></font></td>\r\n",
      "</tr>\r\n",
      "\r\n",
      "<tr bgcolor=\"#f4f4ff\"><td align=\"center\"><font size=\"2\"><b><font size=\"4\"><a href=\"chart/?yr=1985&p=.htm\">1985</a></font></b></font></td>\r\n",
      "<td align=\"right\"><font size=\"2\">$3,749.2</font></td>\r\n",
      "<td align=\"right\"><font size=\"2\"><font color=\"#ff0000\">-7.0%</font></font></td>\r\n",
      "<td align=\"right\"><font size=\"2\">1,056.1</font></td>\r\n",
      "<td align=\"right\"><font size=\"2\"><font color=\"#ff0000\">-11.9%</font></font></td>\r\n",
      "<td align=\"right\"><font size=\"2\">470</font></td>\r\n",
      "<td align=\"right\"><font size=\"2\">21,147</font></td>\r\n",
      "<td align=\"center\"><font size=\"2\">$3.55</font></td>\r\n",
      "<td align=\"right\"><font size=\"2\">$16.8</font></td>\r\n",
      "<td align=\"center\"><font size=\"2\"><a href=\"/movies/?id=backtothefuture.htm\">Back to the Future</a></font></td>\r\n",
      "</tr>\r\n",
      "\r\n",
      "<tr bgcolor=\"#ffffff\"><td align=\"center\"><font size=\"2\"><b><font size=\"4\"><a href=\"chart/?yr=1984&p=.htm\">1984</a></font></b></font></td>\r\n",
      "<td align=\"right\"><font size=\"2\">$4,031.0</font></td>\r\n",
      "<td align=\"right\"><font size=\"2\"><font color=\"#0000ff\">+7.0%</font></font></td>\r\n",
      "<td align=\"right\"><font size=\"2\">1,199.0</font></td>\r\n",
      "<td align=\"right\"><font size=\"2\"><font color=\"#0000ff\">+0.2%</font></font></td>\r\n",
      "<td align=\"right\"><font size=\"2\">536</font></td>\r\n",
      "<td align=\"right\"><font size=\"2\">20,200</font></td>\r\n",
      "<td align=\"center\"><font size=\"2\">$3.36</font></td>\r\n",
      "<td align=\"right\"><font size=\"2\">$14.4</font></td>\r\n",
      "<td align=\"center\"><font size=\"2\"><a href=\"/movies/?id=beverlyhillscop.htm\">Beverly Hills Cop</a></font></td>\r\n",
      "</tr>\r\n",
      "\r\n",
      "<tr bgcolor=\"#f4f4ff\"><td align=\"center\"><font size=\"2\"><b><font size=\"4\"><a href=\"chart/?yr=1983&p=.htm\">1983</a></font></b></font></td>\r\n",
      "<td align=\"right\"><font size=\"2\">$3,766.0</font></td>\r\n",
      "<td align=\"right\"><font size=\"2\"><font color=\"#0000ff\">+9.1%</font></font></td>\r\n",
      "<td align=\"right\"><font size=\"2\">1,197.0</font></td>\r\n",
      "<td align=\"right\"><font size=\"2\"><font color=\"#0000ff\">+1.9%</font></font></td>\r\n",
      "<td align=\"right\"><font size=\"2\">495</font></td>\r\n",
      "<td align=\"right\"><font size=\"2\">18,884</font></td>\r\n",
      "<td align=\"center\"><font size=\"2\">$3.15</font></td>\r\n",
      "<td align=\"right\"><font size=\"2\">$11.9</font></td>\r\n",
      "<td align=\"center\"><font size=\"2\"><a href=\"/movies/?id=starwars6.htm\">Return of the Jedi</a></font></td>\r\n",
      "</tr>\r\n",
      "\r\n",
      "<tr bgcolor=\"#ffffff\"><td align=\"center\"><font size=\"2\"><b><font size=\"4\"><a href=\"chart/?yr=1982&p=.htm\">1982</a></font></b></font></td>\r\n",
      "<td align=\"right\"><font size=\"2\">$3,453.0</font></td>\r\n",
      "<td align=\"right\"><font size=\"2\"><font color=\"#0000ff\">+16.4%</font></font></td>\r\n",
      "<td align=\"right\"><font size=\"2\">1,175.0</font></td>\r\n",
      "<td align=\"right\"><font size=\"2\"><font color=\"#0000ff\">+10.1%</font></font></td>\r\n",
      "<td align=\"right\"><font size=\"2\">428</font></td>\r\n",
      "<td align=\"right\"><font size=\"2\">18,020</font></td>\r\n",
      "<td align=\"center\"><font size=\"2\">$2.94</font></td>\r\n",
      "<td align=\"right\"><font size=\"2\">$11.8</font></td>\r\n",
      "<td align=\"center\"><font size=\"2\"><a href=\"/movies/?id=et.htm\">E.T.</a></font></td>\r\n",
      "</tr>\r\n",
      "\r\n",
      "<tr bgcolor=\"#f4f4ff\"><td align=\"center\"><font size=\"2\"><b><font size=\"4\"><a href=\"chart/?yr=1981&p=.htm\">1981</a></font></b></font></td>\r\n",
      "<td align=\"right\"><font size=\"2\">$2,966.0</font></td>\r\n",
      "<td align=\"right\"><font size=\"2\"><font color=\"#0000ff\">+7.9%</font></font></td>\r\n",
      "<td align=\"right\"><font size=\"2\">1,067.0</font></td>\r\n",
      "<td align=\"right\"><font size=\"2\"><font color=\"#0000ff\">+4.4%</font></font></td>\r\n",
      "<td align=\"right\"><font size=\"2\">173</font></td>\r\n",
      "<td align=\"right\"><font size=\"2\">18,040</font></td>\r\n",
      "<td align=\"center\"><font size=\"2\">$2.78</font></td>\r\n",
      "<td align=\"right\"><font size=\"2\">$11.3</font></td>\r\n",
      "<td align=\"center\"><font size=\"2\"><a href=\"/movies/?id=raidersofthelostark.htm\">Raiders / Lost Ark</a></font></td>\r\n",
      "</tr>\r\n",
      "\r\n",
      "<tr bgcolor=\"#ffffff\"><td align=\"center\"><font size=\"2\"><b><font size=\"4\"><a href=\"chart/?yr=1980&p=.htm\">1980</a></font></b></font></td>\r\n",
      "<td align=\"right\"><font size=\"2\">$2,749.0</font></td>\r\n",
      "<td align=\"right\"><font size=\"2\">-</font></td>\r\n",
      "<td align=\"right\"><font size=\"2\">1,022.0</font></td>\r\n",
      "<td align=\"right\"><font size=\"2\">-</font></td>\r\n",
      "<td align=\"right\"><font size=\"2\">161</font></td>\r\n",
      "<td align=\"right\"><font size=\"2\">17,590</font></td>\r\n",
      "<td align=\"center\"><font size=\"2\">$2.69</font></td>\r\n",
      "<td align=\"right\"><font size=\"2\">$9.4</font></td>\r\n",
      "<td align=\"center\"><font size=\"2\"><a href=\"/movies/?id=starwars5.htm\">The Empire Strikes Back</a></font></td>\r\n",
      "</tr>\r\n",
      "\r\n",
      "</table>\n",
      "<p align=\"center\">\n",
      "<FONT SIZE=2>* In millions. Total Gross is the calendar gross for that year, meaning \n",
      "actual revenues during the time period, including holdovers from previous year.  For a full discussion of calendar grosses, see our page: <a href=\"/about/boxoffice.htm\">About Box Office Tracking</a>.<br>\n",
      "^ Production cost only.<br>\n",
      "Number of Movies for 1980 and 1981 indicate only the number of major releases that year.</FONT>\n",
      "</p>\n",
      "\n",
      "<br></td><td width=\"300\" align=\"center\" valign=\"top\"><script type=\"text/javascript\">\n",
      "    googletag.cmd.push(function() {\n",
      "        googletag.defineSlot(\"/4215/imdb2.bom.other\", [[300, 250]], \"ad-slot-2\").addService(googletag.pubads().setTargeting(\"p\", \"rh\"));\n",
      "        googletag.pubads().enableSingleRequest();\n",
      "        googletag.enableServices();\n",
      "    });\n",
      "    googletag.cmd.push(function() { googletag.display(\"ad-slot-2\"); });\n",
      "</script></td></tr></table><br><br>\n",
      "\t\t\t<table border=\"0\" cellspacing=\"0\" cellpadding=\"0\" width=\"100%\">\n",
      "\t\t\t\t<tr><td bgcolor=\"#8b0000\" height=\"1\" colspan=\"2\"><img src=\"/images/space.gif\" border=\"0\" width=\"1\" height=\"5\"></td>\n",
      "\t\t\t\t</tr>\n",
      "\t\t\t</table>\n",
      "\n",
      "\t\t</td>\n",
      "\t</tr>\n",
      "</table>\n",
      "\n",
      "\t</div>\n",
      "\t</div>\n",
      "\t<div id=\"hp_footer\">\n",
      "\t\t<div style=\"padding-bottom: 20px;\">\n",
      "\n",
      "\t\t\t<div style=\"margin: 0px 121px; vertical-align: top;\">\n",
      "\t\t\t\t<div id=\"footer_links\">\n",
      "\t\t\t\t\t<ul class=\"footer_link_list\">\n",
      "\t\t\t\t\t\t<li><strong>Latest Updates</strong></li>\n",
      "\t\t\t\t\t\t<li><a href=\"/news/?ref=ft\">Movie News</a>\n",
      "\t\t\t\t\t\t<li><a href=\"/daily/chart/?ref=ft\">Daily Chart</a></li>\n",
      "\t\t\t\t\t\t<li><a href=\"/weekend/chart/?ref=ft\">Weekend Chart</a></li>\n",
      "\t\t\t\t\t\t<li><a href=\"/alltime/?ref=ft\">All Time Charts</a></li>\n",
      "\t\t\t\t\t\t<li><a href=\"/intl/?ref=ft\">International Charts</a></li>\n",
      "\t\t\t\t\t</ul>\n",
      "\t\t\t\t\t<!--\n",
      "\t\t\t\t\t<ul class=\"footer_link_list\">\n",
      "\t\t\t\t\t\t<li><strong>Popular Movies</strong></li>\n",
      "\t\t\t\t\t\t\t\t\t\t\t</ul>\n",
      "\t\t\t\t\t-->\n",
      "\t\t\t\t\t<ul class=\"footer_link_list\">\n",
      "\t\t\t\t\t\t<li><strong>Indices</strong></li>\n",
      "\t\t\t\t\t\t<li><a href=\"/people/?ref=ft\">People</a></li>\n",
      "\t\t\t\t\t\t<li><a href=\"/genres/?ref=ft\">Genres</a></li>\n",
      "\t\t\t\t\t\t<li><a href=\"/franchises/?ref=ft\">Franchises</a></li>\n",
      "\t\t\t\t\t\t<li><a href=\"/showdowns/?ref=ft\">Showdowns</a></li>\n",
      "\t\t\t\t\t</ul>\n",
      "\t\t\t\t\t<ul class=\"footer_link_list\">\n",
      "\t\t\t\t\t\t<li><strong>Other</strong></li>\n",
      "\t\t\t\t\t\t<li><a href=\"/about/?ref=ft\">About This Site</a></li>\n",
      "\t\t\t\t\t\t<li><a href=\"/about/advertise.htm?ref=ft\">Advertising</a></li>\n",
      "\t\t\t\t\t</ul>\n",
      "\t\t\t\t</div>\n",
      "\t\t\t\t<div id=\"copyright\">\n",
      "\t\t\t\t\t<a href=\"/?ref=ft\"><img src=\"/img/misc/bom_logo1.png\" width=\"245\" height=\"56\" alt=\"Box Office Mojo\"></a><br>\n",
      "\t\t\t\t\t<p>An <a href=\"http://imdb.com/\"><img src=\"/img/misc/IMDbSm.png\" width=\"34\" height=\"16\" alt=\"IMDb\" valign=\"middle\"></a> company<br><br></p>\n",
      "\t\t\t\t\t<p>&copy; <a href=\"http://imdb.com/\">IMDb.com</a>, Inc. or its affiliates. All rights reserved. Box Office Mojo and IMDb are trademarks or registered trademarks of IMDb.com, Inc. or its affiliates. <a href=\"/about/termsofuse.htm\">Terms of Use</a> and <a href=\"/about/privacy.htm\">Privacy Policy</a> under which this service is provided to you.</p>\n",
      "\t\t\t\t\t</div>\t\t\t\n",
      "\t\t\t\t</div>\n",
      "\t\t\t\t<div style=\"clear:both;\">\n",
      "\t\t\t\t<div>\n",
      "\t\t\t\t <script type=\"text/javascript\">\n",
      "    googletag.cmd.push(function() {\n",
      "        googletag.defineSlot(\"/4215/imdb2.bom.other\", [[728, 90]], \"ad-slot-3\").addService(googletag.pubads().setTargeting(\"p\", \"b\"));\n",
      "        googletag.pubads().enableSingleRequest();\n",
      "        googletag.enableServices();\n",
      "    });\n",
      "    googletag.cmd.push(function() { googletag.display(\"ad-slot-3\"); });\n",
      "</script></div>\n",
      "\n",
      "\t\t\t\t</div>\n",
      "\t</div>\n",
      "</div>\n",
      "\n",
      "\n",
      "\n",
      "\n",
      "\n",
      "<!-- Page generated in 0.03 seconds | . -->\n",
      "<script>\n",
      "  var _comscore = _comscore || [];\n",
      "  _comscore.push({ c1: \"2\", c2: \"6034961\" });\n",
      "  (function() {\n",
      "    var s = document.createElement(\"script\"), el = document.getElementsByTagName(\"script\")[0]; s.async = true;\n",
      "    s.src = (document.location.protocol == \"https:\" ? \"https://sb\" : \"http://b\") + \".scorecardresearch.com/beacon.js\";\n",
      "  el.parentNode.insertBefore(s, el);\n",
      "  })();\n",
      "</script>\n",
      "<noscript>\n",
      "    <img src=\"http://b.scorecardresearch.com/p?c1=2&c2=6034961&cv=2.0&cj=1\" />\n",
      "</noscript>\n",
      "</BODY>\n",
      "</html>\n",
      "\n"
     ]
    }
   ],
   "source": [
    "print(response.text)"
   ]
  },
  {
   "cell_type": "code",
   "execution_count": 9,
   "metadata": {
    "collapsed": false
   },
   "outputs": [
    {
     "name": "stderr",
     "output_type": "stream",
     "text": [
      "/Users/williamcosby/anaconda/envs/data/lib/python2.7/site-packages/bs4/__init__.py:166: UserWarning: No parser was explicitly specified, so I'm using the best available HTML parser for this system (\"html.parser\"). This usually isn't a problem, but if you run this code on another system, or in a different virtual environment, it may use a different parser and behave differently.\n",
      "\n",
      "To get rid of this warning, change this:\n",
      "\n",
      " BeautifulSoup([your markup])\n",
      "\n",
      "to this:\n",
      "\n",
      " BeautifulSoup([your markup], \"html.parser\")\n",
      "\n",
      "  markup_type=markup_type))\n"
     ]
    }
   ],
   "source": [
    "page = response.text\n",
    "soup = BeautifulSoup(page)"
   ]
  },
  {
   "cell_type": "code",
   "execution_count": 10,
   "metadata": {
    "collapsed": false
   },
   "outputs": [
    {
     "data": {
      "text/plain": [
       "<title>Movie Box Office Results by Year, 1980-Present - Box Office Mojo</title>"
      ]
     },
     "execution_count": 10,
     "metadata": {},
     "output_type": "execute_result"
    }
   ],
   "source": [
    "soup.find('title')"
   ]
  },
  {
   "cell_type": "code",
   "execution_count": 17,
   "metadata": {
    "collapsed": false
   },
   "outputs": [],
   "source": [
    "movie_list = soup.find(\"table\",{ \"class\" : \"wikitable sortable plainrowheaders\" })\n",
    "movie_table = soup.find_all('table')[1]"
   ]
  },
  {
   "cell_type": "code",
   "execution_count": 19,
   "metadata": {
    "collapsed": false
   },
   "outputs": [
    {
     "ename": "KeyError",
     "evalue": "1",
     "output_type": "error",
     "traceback": [
      "\u001b[0;31m---------------------------------------------------------------------------\u001b[0m",
      "\u001b[0;31mKeyError\u001b[0m                                  Traceback (most recent call last)",
      "\u001b[0;32m<ipython-input-19-15936b2e377e>\u001b[0m in \u001b[0;36m<module>\u001b[0;34m()\u001b[0m\n\u001b[0;32m----> 1\u001b[0;31m \u001b[0;32mprint\u001b[0m\u001b[0;34m(\u001b[0m\u001b[0mmovie_table\u001b[0m\u001b[0;34m[\u001b[0m\u001b[0;36m1\u001b[0m\u001b[0;34m]\u001b[0m\u001b[0;34m)\u001b[0m\u001b[0;34m\u001b[0m\u001b[0m\n\u001b[0m",
      "\u001b[0;32m/Users/williamcosby/anaconda/envs/data/lib/python2.7/site-packages/bs4/element.pyc\u001b[0m in \u001b[0;36m__getitem__\u001b[0;34m(self, key)\u001b[0m\n\u001b[1;32m    956\u001b[0m         \"\"\"tag[key] returns the value of the 'key' attribute for the tag,\n\u001b[1;32m    957\u001b[0m         and throws an exception if it's not there.\"\"\"\n\u001b[0;32m--> 958\u001b[0;31m         \u001b[0;32mreturn\u001b[0m \u001b[0mself\u001b[0m\u001b[0;34m.\u001b[0m\u001b[0mattrs\u001b[0m\u001b[0;34m[\u001b[0m\u001b[0mkey\u001b[0m\u001b[0;34m]\u001b[0m\u001b[0;34m\u001b[0m\u001b[0m\n\u001b[0m\u001b[1;32m    959\u001b[0m \u001b[0;34m\u001b[0m\u001b[0m\n\u001b[1;32m    960\u001b[0m     \u001b[0;32mdef\u001b[0m \u001b[0m__iter__\u001b[0m\u001b[0;34m(\u001b[0m\u001b[0mself\u001b[0m\u001b[0;34m)\u001b[0m\u001b[0;34m:\u001b[0m\u001b[0;34m\u001b[0m\u001b[0m\n",
      "\u001b[0;31mKeyError\u001b[0m: 1"
     ]
    }
   ],
   "source": [
    "print(movie_table[1])"
   ]
  },
  {
   "cell_type": "code",
   "execution_count": 13,
   "metadata": {
    "collapsed": false
   },
   "outputs": [
    {
     "ename": "NameError",
     "evalue": "name 'movie_list' is not defined",
     "output_type": "error",
     "traceback": [
      "\u001b[0;31m---------------------------------------------------------------------------\u001b[0m",
      "\u001b[0;31mNameError\u001b[0m                                 Traceback (most recent call last)",
      "\u001b[0;32m<ipython-input-13-9b56793ddcd1>\u001b[0m in \u001b[0;36m<module>\u001b[0;34m()\u001b[0m\n\u001b[1;32m      6\u001b[0m \u001b[0;34m\u001b[0m\u001b[0m\n\u001b[1;32m      7\u001b[0m \u001b[0;31m# the first row is the title of the columns\u001b[0m\u001b[0;34m\u001b[0m\u001b[0;34m\u001b[0m\u001b[0m\n\u001b[0;32m----> 8\u001b[0;31m \u001b[0;32mfor\u001b[0m \u001b[0mrow\u001b[0m \u001b[0;32min\u001b[0m \u001b[0mmovie_list\u001b[0m\u001b[0;34m[\u001b[0m\u001b[0;36m2\u001b[0m\u001b[0;34m]\u001b[0m\u001b[0;34m.\u001b[0m\u001b[0mfindAll\u001b[0m\u001b[0;34m(\u001b[0m\u001b[0;34m\"tr\"\u001b[0m\u001b[0;34m)\u001b[0m\u001b[0;34m:\u001b[0m\u001b[0;34m\u001b[0m\u001b[0m\n\u001b[0m\u001b[1;32m      9\u001b[0m     \u001b[0mmovie_row\u001b[0m \u001b[0;34m=\u001b[0m \u001b[0;34m[\u001b[0m\u001b[0;34m]\u001b[0m\u001b[0;34m\u001b[0m\u001b[0m\n\u001b[1;32m     10\u001b[0m     \u001b[0;32mfor\u001b[0m \u001b[0mi\u001b[0m\u001b[0;34m,\u001b[0m\u001b[0mcell\u001b[0m \u001b[0;32min\u001b[0m \u001b[0menumerate\u001b[0m\u001b[0;34m(\u001b[0m\u001b[0mrow\u001b[0m\u001b[0;34m.\u001b[0m\u001b[0mfindAll\u001b[0m\u001b[0;34m(\u001b[0m\u001b[0;34m\"td\"\u001b[0m\u001b[0;34m)\u001b[0m\u001b[0;34m)\u001b[0m\u001b[0;34m:\u001b[0m\u001b[0;34m\u001b[0m\u001b[0m\n",
      "\u001b[0;31mNameError\u001b[0m: name 'movie_list' is not defined"
     ]
    }
   ],
   "source": [
    "movie_data = []\n",
    "\n",
    "# header = ['Year','Total Gross','Change','Tickets Sold','Change','# of movies','Total Screens',\n",
    "#           'Avg. Ticket Price','Avg. Cost','#1 Movie']\n",
    "movie_data = []\n",
    "\n",
    "# the first row is the title of the columns\n",
    "for row in movie_list[2].findAll(\"tr\"):\n",
    "    movie_row = []\n",
    "    for i,cell in enumerate(row.findAll(\"td\")):\n",
    "#         print cell\n",
    "        movie_row.append(cell.find(text=True))\n",
    "    movie_data.append(movie_row)\n",
    "\n",
    "header = movie_data.pop(0)\n",
    "movies_df = pd.DataFrame(movie_data,columns = header)\n",
    "# movies_df.dropna()"
   ]
  },
  {
   "cell_type": "code",
   "execution_count": 14,
   "metadata": {
    "collapsed": false
   },
   "outputs": [
    {
     "ename": "NameError",
     "evalue": "name 'movies_df' is not defined",
     "output_type": "error",
     "traceback": [
      "\u001b[0;31m---------------------------------------------------------------------------\u001b[0m",
      "\u001b[0;31mNameError\u001b[0m                                 Traceback (most recent call last)",
      "\u001b[0;32m<ipython-input-14-bd9c99e115e1>\u001b[0m in \u001b[0;36m<module>\u001b[0;34m()\u001b[0m\n\u001b[0;32m----> 1\u001b[0;31m \u001b[0mmovies_df\u001b[0m\u001b[0;34m.\u001b[0m\u001b[0mhead\u001b[0m\u001b[0;34m(\u001b[0m\u001b[0;34m)\u001b[0m\u001b[0;34m\u001b[0m\u001b[0m\n\u001b[0m",
      "\u001b[0;31mNameError\u001b[0m: name 'movies_df' is not defined"
     ]
    }
   ],
   "source": [
    "movies_df.head()"
   ]
  },
  {
   "cell_type": "markdown",
   "metadata": {},
   "source": [
    "# Scraping data from multiple movies"
   ]
  },
  {
   "cell_type": "markdown",
   "metadata": {},
   "source": [
    "# List of movies 2016:\n",
    "\n",
    "(1-100) http://www.boxofficemojo.com/yearly/chart/?view=releasedate&view2=domestic&yr=2016&sort=gross&order=DESC&studio= \n",
    "\n",
    "(101 - 200) http://www.boxofficemojo.com/yearly/chart/?page=2&view=releasedate&view2=domestic&yr=2016&p=.htm\n",
    "\n",
    "(201-300) http://www.boxofficemojo.com/yearly/chart/?page=3&view=releasedate&view2=domestic&yr=2016&p=.htm\n",
    "\n",
    "(301-400) http://www.boxofficemojo.com/yearly/chart/?page=4&view=releasedate&view2=domestic&yr=2016&p=.htm\n",
    "\n",
    "# List of movies 2015: \n",
    "\n",
    "(1-100) http://www.boxofficemojo.com/yearly/chart/yr=2015&view=releasedate&view2=domestic&sort=gross&order=DESC&&p=.htm\n",
    "\n",
    "(101-200) http://www.boxofficemojo.com/yearly/chart/page=2&view=releasedate&view2=domestic&yr=2015&p=.htm\n",
    "\n",
    "(201-300) http://www.boxofficemojo.com/yearly/chart/page=3&view=releasedate&view2=domestic&yr=2015&p=.htm\n",
    "\n",
    "(301-400) http://www.boxofficemojo.com/yearly/chart/page=4&view=releasedate&view2=domestic&yr=2015&p=.htm\n",
    "\n",
    "(401-500)\n",
    "http://www.boxofficemojo.com/yearly/chart/page=5&view=releasedate&view2=domestic&yr=2015&p=.htm\n",
    "\n",
    "# Example of clicking on a movie link in one of these lists\n",
    "\n",
    "#### http://www.boxofficemojo.com/movies/?id=starwars7.htm"
   ]
  },
  {
   "cell_type": "markdown",
   "metadata": {},
   "source": [
    "# Fields I will probably want to get for predicting international success (Do I want to look at prediction pre-release? or after first weekend?\n",
    "### Will probably want to be looking at predicting this pre-release or after opening weekend to have any real value to investors/studios\n",
    "\n",
    "* Domestic Total Gross (maybe...but not really relevant to problem)\n",
    "* Opening weekend (for predicting success after domestic opening weekend)\n",
    "* Release Date\n",
    "* Distributor\n",
    "* Runtime\n",
    "* Production Budget\n",
    "* Genre\n",
    "* MPAA Rating\n",
    "* Director\n",
    "* Writers\n",
    "* Producers\n",
    "* Actors (maybe have another analysis for actor success?)\n",
    "* 3D?\n",
    "* IMAX?\n",
    "* Brand\n",
    "\n",
    "## Target variable for training and prediction:\n",
    "\n",
    "* Foreign total gross"
   ]
  },
  {
   "cell_type": "code",
   "execution_count": 20,
   "metadata": {
    "collapsed": true
   },
   "outputs": [],
   "source": [
    "movie_url = 'http://www.boxofficemojo.com/movies/?id=starwars7.htm'\n",
    "\n",
    "response = requests.get(movie_url)"
   ]
  },
  {
   "cell_type": "code",
   "execution_count": 21,
   "metadata": {
    "collapsed": false
   },
   "outputs": [
    {
     "data": {
      "text/plain": [
       "200"
      ]
     },
     "execution_count": 21,
     "metadata": {},
     "output_type": "execute_result"
    }
   ],
   "source": [
    "response.status_code"
   ]
  },
  {
   "cell_type": "code",
   "execution_count": 22,
   "metadata": {
    "collapsed": true
   },
   "outputs": [],
   "source": [
    "movie_page = response.text\n",
    "movie_soup = BeautifulSoup(movie_page)"
   ]
  },
  {
   "cell_type": "code",
   "execution_count": 23,
   "metadata": {
    "collapsed": false
   },
   "outputs": [],
   "source": [
    "movie_data = movie_soup.find_all(class_='mp_box_content')"
   ]
  },
  {
   "cell_type": "code",
   "execution_count": 24,
   "metadata": {
    "collapsed": false
   },
   "outputs": [
    {
     "data": {
      "text/plain": [
       "9"
      ]
     },
     "execution_count": 24,
     "metadata": {},
     "output_type": "execute_result"
    }
   ],
   "source": [
    "len(movie_data)"
   ]
  },
  {
   "cell_type": "code",
   "execution_count": 62,
   "metadata": {
    "collapsed": false
   },
   "outputs": [],
   "source": [
    "# gives Total Lifetime grosses box\n",
    "# movie_data[0].text"
   ]
  },
  {
   "cell_type": "code",
   "execution_count": 61,
   "metadata": {
    "collapsed": false
   },
   "outputs": [],
   "source": [
    "# gives Domestic summary box\n",
    "# movie_data[1]"
   ]
  },
  {
   "cell_type": "code",
   "execution_count": 60,
   "metadata": {
    "collapsed": false
   },
   "outputs": [],
   "source": [
    "# nothing\n",
    "# movie_data[2]"
   ]
  },
  {
   "cell_type": "code",
   "execution_count": 59,
   "metadata": {
    "collapsed": false
   },
   "outputs": [],
   "source": [
    "# academy awards box\n",
    "# movie_data[3]"
   ]
  },
  {
   "cell_type": "code",
   "execution_count": 58,
   "metadata": {
    "collapsed": false
   },
   "outputs": [],
   "source": [
    "# genre box\n",
    "# movie_data[4]"
   ]
  },
  {
   "cell_type": "code",
   "execution_count": 57,
   "metadata": {
    "collapsed": false
   },
   "outputs": [],
   "source": [
    "# franchise box\n",
    "# movie_data[5].text"
   ]
  },
  {
   "cell_type": "code",
   "execution_count": 56,
   "metadata": {
    "collapsed": false,
    "scrolled": true
   },
   "outputs": [],
   "source": [
    "# charts box\n",
    "# movie_data[6].text"
   ]
  },
  {
   "cell_type": "code",
   "execution_count": 55,
   "metadata": {
    "collapsed": false,
    "scrolled": true
   },
   "outputs": [],
   "source": [
    "# Related Stories box\n",
    "# movie_data[7].text"
   ]
  },
  {
   "cell_type": "code",
   "execution_count": 103,
   "metadata": {
    "collapsed": false
   },
   "outputs": [
    {
     "data": {
      "text/plain": [
       "u'\\nStar Wars: The Force Awakens [Blu-ray]\\n'"
      ]
     },
     "execution_count": 103,
     "metadata": {},
     "output_type": "execute_result"
    }
   ],
   "source": [
    "# Related Products\n",
    "movie_data[8].text"
   ]
  },
  {
   "cell_type": "markdown",
   "metadata": {},
   "source": [
    "# Different approach, find all tables "
   ]
  },
  {
   "cell_type": "code",
   "execution_count": 25,
   "metadata": {
    "collapsed": true
   },
   "outputs": [],
   "source": [
    "bmojo = movie_soup.find_all('table')"
   ]
  },
  {
   "cell_type": "code",
   "execution_count": 42,
   "metadata": {
    "collapsed": false
   },
   "outputs": [],
   "source": [
    "# len(bmojo)"
   ]
  },
  {
   "cell_type": "code",
   "execution_count": 43,
   "metadata": {
    "collapsed": false
   },
   "outputs": [],
   "source": [
    "# Page header info\n",
    "# bmojo[0].text"
   ]
  },
  {
   "cell_type": "code",
   "execution_count": 44,
   "metadata": {
    "collapsed": false
   },
   "outputs": [],
   "source": [
    "# bmojo[1].text"
   ]
  },
  {
   "cell_type": "code",
   "execution_count": 45,
   "metadata": {
    "collapsed": false
   },
   "outputs": [],
   "source": [
    "# First big box on page with movie name and general summary\n",
    "# bmojo[2]"
   ]
  },
  {
   "cell_type": "code",
   "execution_count": 46,
   "metadata": {
    "collapsed": false
   },
   "outputs": [],
   "source": [
    "# Basically the same as bmojo[2] but maybe easier to scrape\n",
    "# bmojo[3].text"
   ]
  },
  {
   "cell_type": "code",
   "execution_count": 47,
   "metadata": {
    "collapsed": false
   },
   "outputs": [],
   "source": [
    "# Sub table of top table, omits movie name\n",
    "# bmojo[4].text"
   ]
  },
  {
   "cell_type": "code",
   "execution_count": 49,
   "metadata": {
    "collapsed": false
   },
   "outputs": [],
   "source": [
    "# another sub table\n",
    "# bmojo[5].text"
   ]
  },
  {
   "cell_type": "code",
   "execution_count": 50,
   "metadata": {
    "collapsed": false
   },
   "outputs": [],
   "source": [
    "# column/tab info just below main movie summary\n",
    "# bmojo[6].text"
   ]
  },
  {
   "cell_type": "code",
   "execution_count": 51,
   "metadata": {
    "collapsed": false
   },
   "outputs": [],
   "source": [
    "# header for total lifetime grosses box\n",
    "# bmojo[7].text"
   ]
  },
  {
   "cell_type": "code",
   "execution_count": 52,
   "metadata": {
    "collapsed": false
   },
   "outputs": [],
   "source": [
    "# same as above\n",
    "# bmojo[8].text"
   ]
  },
  {
   "cell_type": "code",
   "execution_count": 53,
   "metadata": {
    "collapsed": false
   },
   "outputs": [],
   "source": [
    "# values inside total lifetime grosses box\n",
    "# bmojo[9].text"
   ]
  },
  {
   "cell_type": "code",
   "execution_count": 54,
   "metadata": {
    "collapsed": false
   },
   "outputs": [],
   "source": [
    "# Domesetic summary box\n",
    "# bmojo[10].text"
   ]
  },
  {
   "cell_type": "code",
   "execution_count": 40,
   "metadata": {
    "collapsed": false
   },
   "outputs": [],
   "source": [
    "# widest release info\n",
    "# bmojo[11].text"
   ]
  },
  {
   "cell_type": "code",
   "execution_count": 41,
   "metadata": {
    "collapsed": false
   },
   "outputs": [],
   "source": [
    "# Close date\n",
    "# bmojo[12].text"
   ]
  },
  {
   "cell_type": "code",
   "execution_count": 39,
   "metadata": {
    "collapsed": false
   },
   "outputs": [],
   "source": [
    "# In Release thing...not necessary\n",
    "# bmojo[13].text"
   ]
  },
  {
   "cell_type": "code",
   "execution_count": 38,
   "metadata": {
    "collapsed": false
   },
   "outputs": [],
   "source": [
    "# nothing\n",
    "# bmojo[14].text"
   ]
  },
  {
   "cell_type": "code",
   "execution_count": 37,
   "metadata": {
    "collapsed": false
   },
   "outputs": [],
   "source": [
    "# Oscar nominations\n",
    "# bmojo[15].text"
   ]
  },
  {
   "cell_type": "code",
   "execution_count": 36,
   "metadata": {
    "collapsed": false
   },
   "outputs": [],
   "source": [
    "# Genre box\n",
    "# bmojo[16].text"
   ]
  },
  {
   "cell_type": "code",
   "execution_count": 35,
   "metadata": {
    "collapsed": false
   },
   "outputs": [],
   "source": [
    "# Franchise box\n",
    "# bmojo[17].text"
   ]
  },
  {
   "cell_type": "code",
   "execution_count": 34,
   "metadata": {
    "collapsed": false,
    "scrolled": true
   },
   "outputs": [],
   "source": [
    "# giant chart box\n",
    "# bmojo[18].text"
   ]
  },
  {
   "cell_type": "code",
   "execution_count": 33,
   "metadata": {
    "collapsed": false,
    "scrolled": true
   },
   "outputs": [],
   "source": [
    "# News box\n",
    "# bmojo[19].text"
   ]
  },
  {
   "cell_type": "markdown",
   "metadata": {},
   "source": [
    "# cant really figure out how to get the actors..."
   ]
  },
  {
   "cell_type": "code",
   "execution_count": null,
   "metadata": {
    "collapsed": true
   },
   "outputs": [],
   "source": [
    "# # First big box on page with movie name and general summary\n",
    "# bmojo[3].text\n",
    "\n",
    "# # values inside total lifetime grosses box\n",
    "# bmojo[9].text\n",
    "\n",
    "# # Domesetic summary box\n",
    "# bmojo[10].text\n",
    "\n",
    "# # Genre box\n",
    "# bmojo[16].text\n",
    "\n",
    "# # Franchise box\n",
    "# bmojo[17].text\n",
    "\n",
    "# to get players\n",
    "# soup.find(class_='mp_box_tab',text='The Players').findNextSibling()"
   ]
  },
  {
   "cell_type": "code",
   "execution_count": 139,
   "metadata": {
    "collapsed": false
   },
   "outputs": [],
   "source": [
    "# how to do dictionary to dataframe\n",
    "test_dict = {'a':[1,1,1],'b':[2,2,2],'c':[3,3,3]}\n",
    "test_frame = pd.DataFrame.from_dict(test_dict,orient='index')\n",
    "test_frame.reset_index()"
   ]
  },
  {
   "cell_type": "markdown",
   "metadata": {},
   "source": [
    "# Practicing doing the right parsing to get values"
   ]
  },
  {
   "cell_type": "code",
   "execution_count": 160,
   "metadata": {
    "collapsed": false
   },
   "outputs": [],
   "source": [
    "# bmojo[3]"
   ]
  },
  {
   "cell_type": "markdown",
   "metadata": {},
   "source": [
    "# MUCH BETTER way to extract information"
   ]
  },
  {
   "cell_type": "code",
   "execution_count": 27,
   "metadata": {
    "collapsed": false
   },
   "outputs": [
    {
     "name": "stdout",
     "output_type": "stream",
     "text": [
      "Domestic Total Gross: \n"
     ]
    }
   ],
   "source": [
    "import re\n",
    "dtg_string = movie_soup.find(text=re.compile('Domestic Total'))\n",
    "print(dtg_string)"
   ]
  },
  {
   "cell_type": "code",
   "execution_count": 28,
   "metadata": {
    "collapsed": false
   },
   "outputs": [
    {
     "data": {
      "text/plain": [
       "<b>$936,662,225</b>"
      ]
     },
     "execution_count": 28,
     "metadata": {},
     "output_type": "execute_result"
    }
   ],
   "source": [
    "dtg_string.findNextSibling()"
   ]
  },
  {
   "cell_type": "code",
   "execution_count": 162,
   "metadata": {
    "collapsed": false
   },
   "outputs": [
    {
     "name": "stdout",
     "output_type": "stream",
     "text": [
      "936662225\n"
     ]
    }
   ],
   "source": [
    "dtg = dtg_string.findNextSibling().text\n",
    "dtg = dtg.replace('$','').replace(',','')\n",
    "domestic_total_gross = int(dtg)\n",
    "print domestic_total_gross"
   ]
  },
  {
   "cell_type": "markdown",
   "metadata": {},
   "source": [
    "# Fields I will probably want to get for predicting international success (Do I want to look at prediction pre-release? or after first weekend?\n",
    "### Will probably want to be looking at predicting this pre-release or after opening weekend to have any real value to investors/studios\n",
    "\n",
    "* Domestic Total Gross (maybe...but not really relevant to problem)\n",
    "* Opening weekend (for predicting success after domestic opening weekend)\n",
    "* Release Date\n",
    "* Distributor\n",
    "* Runtime\n",
    "* Production Budget\n",
    "* Genre\n",
    "* MPAA Rating\n",
    "* Director\n",
    "* Writers\n",
    "* Producers\n",
    "* Actors (maybe have another analysis for actor success?)\n",
    "* 3D?\n",
    "* IMAX?\n",
    "* Brand\n",
    "\n",
    "## Target variable for training and prediction:\n",
    "\n",
    "* Foreign total gross"
   ]
  },
  {
   "cell_type": "markdown",
   "metadata": {},
   "source": [
    "### In parsing, make a dictionary with the movie title as the key and the relevant information as values in the form of a list...then turn that into a data frame using .from_dict(data, orient='index'), reset the index, and rename the columns (KEEP TRACK OF THE ORDER I ADD VALUES~~~~)"
   ]
  },
  {
   "cell_type": "code",
   "execution_count": null,
   "metadata": {
    "collapsed": true
   },
   "outputs": [],
   "source": [
    "    import re\n",
    "\n",
    "# testing for 1 page first\n",
    "def parse_movie_page(movie_dict, url, movie_name):\n",
    "    response = requests.get(url)\n",
    "    # should probably check to make sure the response code is good to continue\n",
    "    \n",
    "    # get the page and soup reference\n",
    "    movie_page = response.text\n",
    "    movie_soup = BeautifulSoup(movie_page)\n",
    "    \n",
    "    \n",
    "    ## find Domestic Gross Total\n",
    "    dtg_string = movie_soup.find(text=re.compile('Domestic Total')) # finds the label\n",
    "    # format the dtg\n",
    "    dtg = dtg_string.findNextSibling().text # grabs the next value, which is the dtg\n",
    "    dtg = dtg.replace('$','').replace(',','')\n",
    "    movie_dict[movie_name].append(int(dtg))\n",
    "    \n",
    "    \n",
    "    ## Find Foreign Total Gross\n",
    "    foreign_gross_string = movie_soup.find(text=re.compile('Foreign Total')) # finds the label\n",
    "    foreign_gross = foreign_gross_string.findNextSibling().text\n",
    "    foreign_gross = foreign_gross.replace('$','').replace(',','')\n",
    "    movie_dict[movie_name].append(int(foreign_gross))\n",
    "    \n",
    "    \n",
    "    ## Grab opening weekend for Domestic\n",
    "    \n",
    "    \n",
    "    "
   ]
  },
  {
   "cell_type": "code",
   "execution_count": 29,
   "metadata": {
    "collapsed": false
   },
   "outputs": [
    {
     "name": "stdout",
     "output_type": "stream",
     "text": [
      "Domestic Total Gross: \n"
     ]
    }
   ],
   "source": [
    "dtg_string = movie_soup.find(text=re.compile('Domestic Total')) # finds the label\n",
    "# format the dtg\n",
    "# dtg = dtg_string.findNextSibling().text # grabs the next value, which is the dtg\n",
    "print dtg_string"
   ]
  },
  {
   "cell_type": "code",
   "execution_count": 30,
   "metadata": {
    "collapsed": true
   },
   "outputs": [],
   "source": [
    "test = movie_soup.find_all(class_='mp_box_content')"
   ]
  },
  {
   "cell_type": "code",
   "execution_count": 179,
   "metadata": {
    "collapsed": false
   },
   "outputs": [
    {
     "data": {
      "text/plain": [
       "<div class=\"mp_box_content\">\\n<table border=\"0\" cellpadding=\"0\" cellspacing=\"0\">\\n<tr>\\n<td width=\"40%\"><b>Domestic:</b></td>\\n<td align=\"right\" width=\"35%\">\\xa0<b>$936,662,225</b></td>\\n<td align=\"right\" width=\"25%\">\\xa0\\xa0\\xa0<b>45.3%</b></td>\\n</tr>\\n<tr>\\n<td width=\"40%\">+\\xa0<a href=\"/movies/?page=intl&amp;id=starwars7.htm\">Foreign:</a></td>\\n<td align=\"right\" width=\"35%\">\\xa0$1,131,516,000</td>\\n<td align=\"right\" width=\"25%\">\\xa0\\xa0\\xa054.7%</td>\\n</tr>\\n<tr>\\n<td colspan=\"3\" width=\"100%\"><hr/></td>\\n</tr>\\n<tr>\\n<td width=\"40%\">=\\xa0<b>Worldwide:</b></td>\\n<td align=\"right\" width=\"35%\">\\xa0<b>$2,068,178,225</b></td>\\n<td width=\"25%\">\\xa0</td>\\n</tr>\\n</table>\\n</div>"
      ]
     },
     "execution_count": 179,
     "metadata": {},
     "output_type": "execute_result"
    }
   ],
   "source": [
    "test[0]"
   ]
  },
  {
   "cell_type": "code",
   "execution_count": 31,
   "metadata": {
    "collapsed": false,
    "scrolled": true
   },
   "outputs": [
    {
     "ename": "AttributeError",
     "evalue": "'ResultSet' object has no attribute 'findNextSibling'",
     "output_type": "error",
     "traceback": [
      "\u001b[0;31m---------------------------------------------------------------------------\u001b[0m",
      "\u001b[0;31mAttributeError\u001b[0m                            Traceback (most recent call last)",
      "\u001b[0;32m<ipython-input-31-825113f5e066>\u001b[0m in \u001b[0;36m<module>\u001b[0;34m()\u001b[0m\n\u001b[1;32m      1\u001b[0m \u001b[0mforeign_gross_string\u001b[0m \u001b[0;34m=\u001b[0m \u001b[0mmovie_soup\u001b[0m\u001b[0;34m.\u001b[0m\u001b[0mfind_all\u001b[0m\u001b[0;34m(\u001b[0m\u001b[0mclass_\u001b[0m\u001b[0;34m=\u001b[0m\u001b[0;34m'mp_box_content'\u001b[0m\u001b[0;34m,\u001b[0m\u001b[0mtext\u001b[0m\u001b[0;34m=\u001b[0m\u001b[0mre\u001b[0m\u001b[0;34m.\u001b[0m\u001b[0mcompile\u001b[0m\u001b[0;34m(\u001b[0m\u001b[0;34m'Foreign'\u001b[0m\u001b[0;34m)\u001b[0m\u001b[0;34m)\u001b[0m \u001b[0;31m# finds the label\u001b[0m\u001b[0;34m\u001b[0m\u001b[0m\n\u001b[0;32m----> 2\u001b[0;31m \u001b[0mforeign_gross\u001b[0m \u001b[0;34m=\u001b[0m \u001b[0mforeign_gross_string\u001b[0m\u001b[0;34m.\u001b[0m\u001b[0mfindNextSibling\u001b[0m\u001b[0;34m(\u001b[0m\u001b[0;34m)\u001b[0m\u001b[0;34m.\u001b[0m\u001b[0mtext\u001b[0m\u001b[0;34m\u001b[0m\u001b[0m\n\u001b[0m\u001b[1;32m      3\u001b[0m \u001b[0;32mprint\u001b[0m\u001b[0;34m(\u001b[0m\u001b[0mforeign_gross\u001b[0m\u001b[0;34m)\u001b[0m\u001b[0;34m\u001b[0m\u001b[0m\n",
      "\u001b[0;31mAttributeError\u001b[0m: 'ResultSet' object has no attribute 'findNextSibling'"
     ]
    }
   ],
   "source": [
    "foreign_gross_string = movie_soup.find_all(class_='mp_box_content',text=re.compile('Foreign')) # finds the label\n",
    "foreign_gross = foreign_gross_string.findNextSibling().text\n",
    "print(foreign_gross)"
   ]
  },
  {
   "cell_type": "code",
   "execution_count": 167,
   "metadata": {
    "collapsed": false
   },
   "outputs": [
    {
     "name": "stdout",
     "output_type": "stream",
     "text": [
      "Domestic Summary\n"
     ]
    }
   ],
   "source": [
    "opening_weekend_string = movie_soup.find(text=re.compile('Domestic Summary'))\n",
    "# opening_weekend = opening_weekend_string.findNextSibling().text\n",
    "print(opening_weekend_string)"
   ]
  },
  {
   "cell_type": "code",
   "execution_count": 148,
   "metadata": {
    "collapsed": false
   },
   "outputs": [],
   "source": [
    "from collections import defaultdict\n",
    "\n",
    "movie_url = 'http://www.boxofficemojo.com/movies/?id=starwars7.htm'\n",
    "movie_dict = defaultdict(list)\n",
    "movie_dict['Star Wars: The Force Awakens'] = []\n",
    "# parse_movie_page(movie_dict,movie_url)"
   ]
  },
  {
   "cell_type": "code",
   "execution_count": 149,
   "metadata": {
    "collapsed": true
   },
   "outputs": [],
   "source": [
    "movie_dict['Star Wars: The Force Awakens'].append(1)"
   ]
  },
  {
   "cell_type": "code",
   "execution_count": 152,
   "metadata": {
    "collapsed": false
   },
   "outputs": [
    {
     "data": {
      "text/plain": [
       "[1, 2]"
      ]
     },
     "execution_count": 152,
     "metadata": {},
     "output_type": "execute_result"
    }
   ],
   "source": [
    "movie_dict['Star Wars: The Force Awakens']"
   ]
  },
  {
   "cell_type": "code",
   "execution_count": null,
   "metadata": {
    "collapsed": true
   },
   "outputs": [],
   "source": []
  }
 ],
 "metadata": {
  "kernelspec": {
   "display_name": "Python 2",
   "language": "python",
   "name": "python2"
  },
  "language_info": {
   "codemirror_mode": {
    "name": "ipython",
    "version": 2
   },
   "file_extension": ".py",
   "mimetype": "text/x-python",
   "name": "python",
   "nbconvert_exporter": "python",
   "pygments_lexer": "ipython2",
   "version": "2.7.12"
  }
 },
 "nbformat": 4,
 "nbformat_minor": 0
}
