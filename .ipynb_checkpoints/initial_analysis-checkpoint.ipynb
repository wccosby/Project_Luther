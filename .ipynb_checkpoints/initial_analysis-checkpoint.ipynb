{
 "cells": [
  {
   "cell_type": "code",
   "execution_count": 1,
   "metadata": {
    "collapsed": false
   },
   "outputs": [
    {
     "data": {
      "text/html": [
       "<style>.container { width:100% !important; }</style>"
      ],
      "text/plain": [
       "<IPython.core.display.HTML object>"
      ]
     },
     "metadata": {},
     "output_type": "display_data"
    }
   ],
   "source": [
    "from IPython.core.display import display, HTML\n",
    "display(HTML(\"<style>.container { width:100% !important; }</style>\"))"
   ]
  },
  {
   "cell_type": "markdown",
   "metadata": {},
   "source": [
    "# Initial Analysis to see if foreign success predictions will work"
   ]
  },
  {
   "cell_type": "code",
   "execution_count": 66,
   "metadata": {
    "collapsed": false
   },
   "outputs": [],
   "source": [
    "import pandas as pd\n",
    "import numpy as np\n",
    "import matplotlib.pyplot as plt\n",
    "import glob\n",
    "%matplotlib inline"
   ]
  },
  {
   "cell_type": "code",
   "execution_count": 110,
   "metadata": {
    "collapsed": true
   },
   "outputs": [],
   "source": [
    "df = pd.DataFrame([\n",
    "   {\n",
    "       \"x1\": 2,\n",
    "       \"genre\": \"G1,G2\"\n",
    "   },\n",
    "  {\n",
    "       \"x1\": 3,\n",
    "       \"genre\": \"G1,G3\"\n",
    "   },\n",
    "    {\n",
    "       \"x1\": 5,\n",
    "       \"genre\": \"G1\"\n",
    "   },\n",
    "   {\n",
    "       \"x1\": 4,\n",
    "       \"genre\": \"G2,G3\"\n",
    "   }])\n"
   ]
  },
  {
   "cell_type": "code",
   "execution_count": 103,
   "metadata": {
    "collapsed": false
   },
   "outputs": [
    {
     "data": {
      "text/plain": [
       "0    2\n",
       "1    3\n",
       "2    4\n",
       "Name: x1, dtype: int64"
      ]
     },
     "execution_count": 103,
     "metadata": {},
     "output_type": "execute_result"
    }
   ],
   "source": [
    "df['x1']"
   ]
  },
  {
   "cell_type": "code",
   "execution_count": 104,
   "metadata": {
    "collapsed": true
   },
   "outputs": [],
   "source": [
    "def split_genres(row):\n",
    "    print row\n",
    "#     print row\n",
    "    genres = row['genre'].split(',')\n",
    "#     print genres\n",
    "#     print df\n",
    "    for genre in genres:\n",
    "        row[genre] = 1"
   ]
  },
  {
   "cell_type": "code",
   "execution_count": 106,
   "metadata": {
    "collapsed": false
   },
   "outputs": [
    {
     "data": {
      "text/html": [
       "<div>\n",
       "<table border=\"1\" class=\"dataframe\">\n",
       "  <thead>\n",
       "    <tr style=\"text-align: right;\">\n",
       "      <th></th>\n",
       "      <th>genre</th>\n",
       "      <th>x1</th>\n",
       "    </tr>\n",
       "  </thead>\n",
       "  <tbody>\n",
       "    <tr>\n",
       "      <th>0</th>\n",
       "      <td>G1,G2</td>\n",
       "      <td>2</td>\n",
       "    </tr>\n",
       "    <tr>\n",
       "      <th>1</th>\n",
       "      <td>G1,G3</td>\n",
       "      <td>3</td>\n",
       "    </tr>\n",
       "    <tr>\n",
       "      <th>2</th>\n",
       "      <td>G2,G3</td>\n",
       "      <td>4</td>\n",
       "    </tr>\n",
       "  </tbody>\n",
       "</table>\n",
       "</div>"
      ],
      "text/plain": [
       "   genre  x1\n",
       "0  G1,G2   2\n",
       "1  G1,G3   3\n",
       "2  G2,G3   4"
      ]
     },
     "execution_count": 106,
     "metadata": {},
     "output_type": "execute_result"
    }
   ],
   "source": [
    "df"
   ]
  },
  {
   "cell_type": "code",
   "execution_count": 107,
   "metadata": {
    "collapsed": true
   },
   "outputs": [],
   "source": [
    "foo = lambda x: pd.Series([i for i in reversed(x.split(','))])\n",
    "rev = df['genre'].apply(foo)"
   ]
  },
  {
   "cell_type": "code",
   "execution_count": 112,
   "metadata": {
    "collapsed": false
   },
   "outputs": [
    {
     "data": {
      "text/html": [
       "<div>\n",
       "<table border=\"1\" class=\"dataframe\">\n",
       "  <thead>\n",
       "    <tr style=\"text-align: right;\">\n",
       "      <th></th>\n",
       "      <th>0</th>\n",
       "      <th>1</th>\n",
       "    </tr>\n",
       "  </thead>\n",
       "  <tbody>\n",
       "    <tr>\n",
       "      <th>0</th>\n",
       "      <td>G1</td>\n",
       "      <td>G2</td>\n",
       "    </tr>\n",
       "    <tr>\n",
       "      <th>1</th>\n",
       "      <td>G1</td>\n",
       "      <td>G3</td>\n",
       "    </tr>\n",
       "    <tr>\n",
       "      <th>2</th>\n",
       "      <td>G2</td>\n",
       "      <td>G3</td>\n",
       "    </tr>\n",
       "  </tbody>\n",
       "</table>\n",
       "</div>"
      ],
      "text/plain": [
       "    0   1\n",
       "0  G1  G2\n",
       "1  G1  G3\n",
       "2  G2  G3"
      ]
     },
     "execution_count": 112,
     "metadata": {},
     "output_type": "execute_result"
    }
   ],
   "source": [
    "df['genre'].apply(lambda x: pd.Series(x.split(',')))"
   ]
  },
  {
   "cell_type": "code",
   "execution_count": 59,
   "metadata": {
    "collapsed": false
   },
   "outputs": [],
   "source": [
    "################## Make it this way (the fast way) for the blog post\n",
    "# load data into list of lists and then put it into pandas\n",
    "##################\n",
    "\n",
    "allFiles = glob.glob(\"/Users/williamcosby/Documents/metis/Project_Luther/movie_*.csv\")\n",
    "movie_data = pd.DataFrame()\n",
    "list_ = []\n",
    "for file_ in allFiles:\n",
    "    df = pd.read_csv(file_,index_col=None, header=0)\n",
    "    list_.append(df)\n",
    "movie_data_raw = pd.concat(list_)"
   ]
  },
  {
   "cell_type": "code",
   "execution_count": 60,
   "metadata": {
    "collapsed": false
   },
   "outputs": [],
   "source": [
    "# movie_data_2015_2016 = pd.read_csv('movie_data_2015_2016.csv')"
   ]
  },
  {
   "cell_type": "code",
   "execution_count": 61,
   "metadata": {
    "collapsed": false
   },
   "outputs": [
    {
     "data": {
      "text/html": [
       "<div>\n",
       "<table border=\"1\" class=\"dataframe\">\n",
       "  <thead>\n",
       "    <tr style=\"text-align: right;\">\n",
       "      <th></th>\n",
       "      <th>MOVIE_NAME</th>\n",
       "      <th>DOMESTIC_OPENING</th>\n",
       "      <th>FOREIGN_TOTAL</th>\n",
       "      <th>BUDGET</th>\n",
       "      <th>GENRE</th>\n",
       "      <th>RELEASE_DATE</th>\n",
       "    </tr>\n",
       "  </thead>\n",
       "  <tbody>\n",
       "    <tr>\n",
       "      <th>0</th>\n",
       "      <td>Marvel's The Avengers</td>\n",
       "      <td>207438708</td>\n",
       "      <td>896200000</td>\n",
       "      <td>220000000.0</td>\n",
       "      <td>Action / Adventure</td>\n",
       "      <td>2012-05-04 00:00:00</td>\n",
       "    </tr>\n",
       "    <tr>\n",
       "      <th>1</th>\n",
       "      <td>The Dark Knight Rises</td>\n",
       "      <td>160887295</td>\n",
       "      <td>636800000</td>\n",
       "      <td>250000000.0</td>\n",
       "      <td>Action Thriller</td>\n",
       "      <td>2012-07-20 00:00:00</td>\n",
       "    </tr>\n",
       "    <tr>\n",
       "      <th>2</th>\n",
       "      <td>The Hunger Games</td>\n",
       "      <td>152535747</td>\n",
       "      <td>286384032</td>\n",
       "      <td>78000000.0</td>\n",
       "      <td>Action / Adventure</td>\n",
       "      <td>2012-03-23 00:00:00</td>\n",
       "    </tr>\n",
       "    <tr>\n",
       "      <th>3</th>\n",
       "      <td>Skyfall</td>\n",
       "      <td>88364714</td>\n",
       "      <td>804200736</td>\n",
       "      <td>200000000.0</td>\n",
       "      <td>Action</td>\n",
       "      <td>2012-11-09 00:00:00</td>\n",
       "    </tr>\n",
       "    <tr>\n",
       "      <th>4</th>\n",
       "      <td>The Hobbit:An Unexpected Journey</td>\n",
       "      <td>84617303</td>\n",
       "      <td>718100000</td>\n",
       "      <td>0.0</td>\n",
       "      <td>Fantasy</td>\n",
       "      <td>2012-12-14 00:00:00</td>\n",
       "    </tr>\n",
       "  </tbody>\n",
       "</table>\n",
       "</div>"
      ],
      "text/plain": [
       "                         MOVIE_NAME  DOMESTIC_OPENING  FOREIGN_TOTAL  \\\n",
       "0             Marvel's The Avengers         207438708      896200000   \n",
       "1             The Dark Knight Rises         160887295      636800000   \n",
       "2                  The Hunger Games         152535747      286384032   \n",
       "3                           Skyfall          88364714      804200736   \n",
       "4  The Hobbit:An Unexpected Journey          84617303      718100000   \n",
       "\n",
       "        BUDGET               GENRE         RELEASE_DATE  \n",
       "0  220000000.0  Action / Adventure  2012-05-04 00:00:00  \n",
       "1  250000000.0     Action Thriller  2012-07-20 00:00:00  \n",
       "2   78000000.0  Action / Adventure  2012-03-23 00:00:00  \n",
       "3  200000000.0              Action  2012-11-09 00:00:00  \n",
       "4          0.0             Fantasy  2012-12-14 00:00:00  "
      ]
     },
     "execution_count": 61,
     "metadata": {},
     "output_type": "execute_result"
    }
   ],
   "source": [
    "movie_data_raw.head()"
   ]
  },
  {
   "cell_type": "markdown",
   "metadata": {},
   "source": [
    "# Set the index to the movie name (dont need it in the analysis)"
   ]
  },
  {
   "cell_type": "code",
   "execution_count": 62,
   "metadata": {
    "collapsed": true
   },
   "outputs": [],
   "source": [
    "movie_data_raw = movie_data_raw.set_index(['MOVIE_NAME'])"
   ]
  },
  {
   "cell_type": "markdown",
   "metadata": {},
   "source": [
    "# Find number of movies that have foreign gross info"
   ]
  },
  {
   "cell_type": "code",
   "execution_count": 63,
   "metadata": {
    "collapsed": false
   },
   "outputs": [
    {
     "data": {
      "text/plain": [
       "(4256, 5)"
      ]
     },
     "execution_count": 63,
     "metadata": {},
     "output_type": "execute_result"
    }
   ],
   "source": [
    "# total number of movies\n",
    "movie_data_raw.shape"
   ]
  },
  {
   "cell_type": "code",
   "execution_count": 64,
   "metadata": {
    "collapsed": false
   },
   "outputs": [
    {
     "data": {
      "text/plain": [
       "(1528, 5)"
      ]
     },
     "execution_count": 64,
     "metadata": {},
     "output_type": "execute_result"
    }
   ],
   "source": [
    "# movies with foreign earnings information\n",
    "movie_data_raw[movie_data_raw['FOREIGN_TOTAL']!=0].shape"
   ]
  },
  {
   "cell_type": "markdown",
   "metadata": {},
   "source": [
    "# Subset to get just the movies with foreign earnings information"
   ]
  },
  {
   "cell_type": "code",
   "execution_count": 65,
   "metadata": {
    "collapsed": true
   },
   "outputs": [],
   "source": [
    "movie_data = movie_data_raw[movie_data_raw['FOREIGN_TOTAL']!=0]"
   ]
  },
  {
   "cell_type": "code",
   "execution_count": 66,
   "metadata": {
    "collapsed": false,
    "scrolled": true
   },
   "outputs": [
    {
     "name": "stdout",
     "output_type": "stream",
     "text": [
      "<class 'pandas.core.frame.DataFrame'>\n",
      "Index: 1528 entries, Marvel's The Avengers to Capture the Flag\n",
      "Data columns (total 5 columns):\n",
      "DOMESTIC_OPENING    1528 non-null int64\n",
      "FOREIGN_TOTAL       1528 non-null int64\n",
      "BUDGET              1527 non-null float64\n",
      "GENRE               1528 non-null object\n",
      "RELEASE_DATE        1528 non-null object\n",
      "dtypes: float64(1), int64(2), object(2)\n",
      "memory usage: 71.6+ KB\n"
     ]
    }
   ],
   "source": [
    "movie_data.info()"
   ]
  },
  {
   "cell_type": "markdown",
   "metadata": {},
   "source": [
    "# Start some analysis"
   ]
  },
  {
   "cell_type": "markdown",
   "metadata": {},
   "source": [
    "### Need to turn genre into a one-hot encoding"
   ]
  },
  {
   "cell_type": "code",
   "execution_count": 67,
   "metadata": {
    "collapsed": false
   },
   "outputs": [],
   "source": [
    "movie_data = pd.get_dummies(movie_data,columns=[\"GENRE\"])"
   ]
  },
  {
   "cell_type": "code",
   "execution_count": 68,
   "metadata": {
    "collapsed": false
   },
   "outputs": [
    {
     "data": {
      "text/html": [
       "<div>\n",
       "<table border=\"1\" class=\"dataframe\">\n",
       "  <thead>\n",
       "    <tr style=\"text-align: right;\">\n",
       "      <th></th>\n",
       "      <th>DOMESTIC_OPENING</th>\n",
       "      <th>FOREIGN_TOTAL</th>\n",
       "      <th>BUDGET</th>\n",
       "      <th>RELEASE_DATE</th>\n",
       "      <th>GENRE_Action</th>\n",
       "      <th>GENRE_Action / Adventure</th>\n",
       "      <th>GENRE_Action / Crime</th>\n",
       "      <th>GENRE_Action Comedy</th>\n",
       "      <th>GENRE_Action Drama</th>\n",
       "      <th>GENRE_Action Fantasy</th>\n",
       "      <th>...</th>\n",
       "      <th>GENRE_Sci-Fi Fantasy</th>\n",
       "      <th>GENRE_Sci-Fi Horror</th>\n",
       "      <th>GENRE_Sci-Fi Thriller</th>\n",
       "      <th>GENRE_Sports Comedy</th>\n",
       "      <th>GENRE_Sports Drama</th>\n",
       "      <th>GENRE_Thriller</th>\n",
       "      <th>GENRE_War</th>\n",
       "      <th>GENRE_War Drama</th>\n",
       "      <th>GENRE_Western</th>\n",
       "      <th>GENRE_Western Comedy</th>\n",
       "    </tr>\n",
       "    <tr>\n",
       "      <th>MOVIE_NAME</th>\n",
       "      <th></th>\n",
       "      <th></th>\n",
       "      <th></th>\n",
       "      <th></th>\n",
       "      <th></th>\n",
       "      <th></th>\n",
       "      <th></th>\n",
       "      <th></th>\n",
       "      <th></th>\n",
       "      <th></th>\n",
       "      <th></th>\n",
       "      <th></th>\n",
       "      <th></th>\n",
       "      <th></th>\n",
       "      <th></th>\n",
       "      <th></th>\n",
       "      <th></th>\n",
       "      <th></th>\n",
       "      <th></th>\n",
       "      <th></th>\n",
       "      <th></th>\n",
       "    </tr>\n",
       "  </thead>\n",
       "  <tbody>\n",
       "    <tr>\n",
       "      <th>Marvel's The Avengers</th>\n",
       "      <td>207438708</td>\n",
       "      <td>896200000</td>\n",
       "      <td>220000000.0</td>\n",
       "      <td>2012-05-04 00:00:00</td>\n",
       "      <td>0.0</td>\n",
       "      <td>1.0</td>\n",
       "      <td>0.0</td>\n",
       "      <td>0.0</td>\n",
       "      <td>0.0</td>\n",
       "      <td>0.0</td>\n",
       "      <td>...</td>\n",
       "      <td>0.0</td>\n",
       "      <td>0.0</td>\n",
       "      <td>0.0</td>\n",
       "      <td>0.0</td>\n",
       "      <td>0.0</td>\n",
       "      <td>0.0</td>\n",
       "      <td>0.0</td>\n",
       "      <td>0.0</td>\n",
       "      <td>0.0</td>\n",
       "      <td>0.0</td>\n",
       "    </tr>\n",
       "    <tr>\n",
       "      <th>The Dark Knight Rises</th>\n",
       "      <td>160887295</td>\n",
       "      <td>636800000</td>\n",
       "      <td>250000000.0</td>\n",
       "      <td>2012-07-20 00:00:00</td>\n",
       "      <td>0.0</td>\n",
       "      <td>0.0</td>\n",
       "      <td>0.0</td>\n",
       "      <td>0.0</td>\n",
       "      <td>0.0</td>\n",
       "      <td>0.0</td>\n",
       "      <td>...</td>\n",
       "      <td>0.0</td>\n",
       "      <td>0.0</td>\n",
       "      <td>0.0</td>\n",
       "      <td>0.0</td>\n",
       "      <td>0.0</td>\n",
       "      <td>0.0</td>\n",
       "      <td>0.0</td>\n",
       "      <td>0.0</td>\n",
       "      <td>0.0</td>\n",
       "      <td>0.0</td>\n",
       "    </tr>\n",
       "    <tr>\n",
       "      <th>The Hunger Games</th>\n",
       "      <td>152535747</td>\n",
       "      <td>286384032</td>\n",
       "      <td>78000000.0</td>\n",
       "      <td>2012-03-23 00:00:00</td>\n",
       "      <td>0.0</td>\n",
       "      <td>1.0</td>\n",
       "      <td>0.0</td>\n",
       "      <td>0.0</td>\n",
       "      <td>0.0</td>\n",
       "      <td>0.0</td>\n",
       "      <td>...</td>\n",
       "      <td>0.0</td>\n",
       "      <td>0.0</td>\n",
       "      <td>0.0</td>\n",
       "      <td>0.0</td>\n",
       "      <td>0.0</td>\n",
       "      <td>0.0</td>\n",
       "      <td>0.0</td>\n",
       "      <td>0.0</td>\n",
       "      <td>0.0</td>\n",
       "      <td>0.0</td>\n",
       "    </tr>\n",
       "    <tr>\n",
       "      <th>Skyfall</th>\n",
       "      <td>88364714</td>\n",
       "      <td>804200736</td>\n",
       "      <td>200000000.0</td>\n",
       "      <td>2012-11-09 00:00:00</td>\n",
       "      <td>1.0</td>\n",
       "      <td>0.0</td>\n",
       "      <td>0.0</td>\n",
       "      <td>0.0</td>\n",
       "      <td>0.0</td>\n",
       "      <td>0.0</td>\n",
       "      <td>...</td>\n",
       "      <td>0.0</td>\n",
       "      <td>0.0</td>\n",
       "      <td>0.0</td>\n",
       "      <td>0.0</td>\n",
       "      <td>0.0</td>\n",
       "      <td>0.0</td>\n",
       "      <td>0.0</td>\n",
       "      <td>0.0</td>\n",
       "      <td>0.0</td>\n",
       "      <td>0.0</td>\n",
       "    </tr>\n",
       "    <tr>\n",
       "      <th>The Hobbit:An Unexpected Journey</th>\n",
       "      <td>84617303</td>\n",
       "      <td>718100000</td>\n",
       "      <td>0.0</td>\n",
       "      <td>2012-12-14 00:00:00</td>\n",
       "      <td>0.0</td>\n",
       "      <td>0.0</td>\n",
       "      <td>0.0</td>\n",
       "      <td>0.0</td>\n",
       "      <td>0.0</td>\n",
       "      <td>0.0</td>\n",
       "      <td>...</td>\n",
       "      <td>0.0</td>\n",
       "      <td>0.0</td>\n",
       "      <td>0.0</td>\n",
       "      <td>0.0</td>\n",
       "      <td>0.0</td>\n",
       "      <td>0.0</td>\n",
       "      <td>0.0</td>\n",
       "      <td>0.0</td>\n",
       "      <td>0.0</td>\n",
       "      <td>0.0</td>\n",
       "    </tr>\n",
       "  </tbody>\n",
       "</table>\n",
       "<p>5 rows × 63 columns</p>\n",
       "</div>"
      ],
      "text/plain": [
       "                                  DOMESTIC_OPENING  FOREIGN_TOTAL  \\\n",
       "MOVIE_NAME                                                          \n",
       "Marvel's The Avengers                    207438708      896200000   \n",
       "The Dark Knight Rises                    160887295      636800000   \n",
       "The Hunger Games                         152535747      286384032   \n",
       "Skyfall                                   88364714      804200736   \n",
       "The Hobbit:An Unexpected Journey          84617303      718100000   \n",
       "\n",
       "                                       BUDGET         RELEASE_DATE  \\\n",
       "MOVIE_NAME                                                           \n",
       "Marvel's The Avengers             220000000.0  2012-05-04 00:00:00   \n",
       "The Dark Knight Rises             250000000.0  2012-07-20 00:00:00   \n",
       "The Hunger Games                   78000000.0  2012-03-23 00:00:00   \n",
       "Skyfall                           200000000.0  2012-11-09 00:00:00   \n",
       "The Hobbit:An Unexpected Journey          0.0  2012-12-14 00:00:00   \n",
       "\n",
       "                                  GENRE_Action  GENRE_Action / Adventure  \\\n",
       "MOVIE_NAME                                                                 \n",
       "Marvel's The Avengers                      0.0                       1.0   \n",
       "The Dark Knight Rises                      0.0                       0.0   \n",
       "The Hunger Games                           0.0                       1.0   \n",
       "Skyfall                                    1.0                       0.0   \n",
       "The Hobbit:An Unexpected Journey           0.0                       0.0   \n",
       "\n",
       "                                  GENRE_Action / Crime  GENRE_Action Comedy  \\\n",
       "MOVIE_NAME                                                                    \n",
       "Marvel's The Avengers                              0.0                  0.0   \n",
       "The Dark Knight Rises                              0.0                  0.0   \n",
       "The Hunger Games                                   0.0                  0.0   \n",
       "Skyfall                                            0.0                  0.0   \n",
       "The Hobbit:An Unexpected Journey                   0.0                  0.0   \n",
       "\n",
       "                                  GENRE_Action Drama  GENRE_Action Fantasy  \\\n",
       "MOVIE_NAME                                                                   \n",
       "Marvel's The Avengers                            0.0                   0.0   \n",
       "The Dark Knight Rises                            0.0                   0.0   \n",
       "The Hunger Games                                 0.0                   0.0   \n",
       "Skyfall                                          0.0                   0.0   \n",
       "The Hobbit:An Unexpected Journey                 0.0                   0.0   \n",
       "\n",
       "                                          ...           GENRE_Sci-Fi Fantasy  \\\n",
       "MOVIE_NAME                                ...                                  \n",
       "Marvel's The Avengers                     ...                            0.0   \n",
       "The Dark Knight Rises                     ...                            0.0   \n",
       "The Hunger Games                          ...                            0.0   \n",
       "Skyfall                                   ...                            0.0   \n",
       "The Hobbit:An Unexpected Journey          ...                            0.0   \n",
       "\n",
       "                                  GENRE_Sci-Fi Horror  GENRE_Sci-Fi Thriller  \\\n",
       "MOVIE_NAME                                                                     \n",
       "Marvel's The Avengers                             0.0                    0.0   \n",
       "The Dark Knight Rises                             0.0                    0.0   \n",
       "The Hunger Games                                  0.0                    0.0   \n",
       "Skyfall                                           0.0                    0.0   \n",
       "The Hobbit:An Unexpected Journey                  0.0                    0.0   \n",
       "\n",
       "                                  GENRE_Sports Comedy  GENRE_Sports Drama  \\\n",
       "MOVIE_NAME                                                                  \n",
       "Marvel's The Avengers                             0.0                 0.0   \n",
       "The Dark Knight Rises                             0.0                 0.0   \n",
       "The Hunger Games                                  0.0                 0.0   \n",
       "Skyfall                                           0.0                 0.0   \n",
       "The Hobbit:An Unexpected Journey                  0.0                 0.0   \n",
       "\n",
       "                                  GENRE_Thriller  GENRE_War  GENRE_War Drama  \\\n",
       "MOVIE_NAME                                                                     \n",
       "Marvel's The Avengers                        0.0        0.0              0.0   \n",
       "The Dark Knight Rises                        0.0        0.0              0.0   \n",
       "The Hunger Games                             0.0        0.0              0.0   \n",
       "Skyfall                                      0.0        0.0              0.0   \n",
       "The Hobbit:An Unexpected Journey             0.0        0.0              0.0   \n",
       "\n",
       "                                  GENRE_Western  GENRE_Western Comedy  \n",
       "MOVIE_NAME                                                             \n",
       "Marvel's The Avengers                       0.0                   0.0  \n",
       "The Dark Knight Rises                       0.0                   0.0  \n",
       "The Hunger Games                            0.0                   0.0  \n",
       "Skyfall                                     0.0                   0.0  \n",
       "The Hobbit:An Unexpected Journey            0.0                   0.0  \n",
       "\n",
       "[5 rows x 63 columns]"
      ]
     },
     "execution_count": 68,
     "metadata": {},
     "output_type": "execute_result"
    }
   ],
   "source": [
    "movie_data.head()"
   ]
  },
  {
   "cell_type": "markdown",
   "metadata": {},
   "source": [
    "### Will want to encode the dates as 1st quarter, 2nd quarter, 3rd quarter, 4th quarter\n",
    "#### Do this by first transforming the column into strings \"1\",\"2\",\"3\",\"4\", then apply pandas .get_dummies to make it one-hot"
   ]
  },
  {
   "cell_type": "code",
   "execution_count": 69,
   "metadata": {
    "collapsed": false
   },
   "outputs": [],
   "source": [
    "from pandas import DatetimeIndex\n",
    "import dateutil.parser"
   ]
  },
  {
   "cell_type": "code",
   "execution_count": 70,
   "metadata": {
    "collapsed": false,
    "scrolled": true
   },
   "outputs": [],
   "source": [
    "# turn RELEASE_DATE into actual datetime\n",
    "movie_data['RELEASE_DATE'] = movie_data['RELEASE_DATE'].apply(lambda x: dateutil.parser.parse(x))"
   ]
  },
  {
   "cell_type": "code",
   "execution_count": 71,
   "metadata": {
    "collapsed": false
   },
   "outputs": [
    {
     "data": {
      "text/plain": [
       "dtype('<M8[ns]')"
      ]
     },
     "execution_count": 71,
     "metadata": {},
     "output_type": "execute_result"
    }
   ],
   "source": [
    "movie_data['RELEASE_DATE'].dtype"
   ]
  },
  {
   "cell_type": "code",
   "execution_count": 72,
   "metadata": {
    "collapsed": false
   },
   "outputs": [],
   "source": [
    "movie_data[\"RELEASE_QUARTER\"] = movie_data[\"RELEASE_DATE\"].apply(lambda x: x.quarter)"
   ]
  },
  {
   "cell_type": "code",
   "execution_count": 73,
   "metadata": {
    "collapsed": false
   },
   "outputs": [],
   "source": [
    "# now just want release quarter\n",
    "movie_data.drop(['RELEASE_DATE'],axis=1,inplace=True)"
   ]
  },
  {
   "cell_type": "markdown",
   "metadata": {},
   "source": [
    "#### Now vectorize release quarter column"
   ]
  },
  {
   "cell_type": "code",
   "execution_count": 74,
   "metadata": {
    "collapsed": true
   },
   "outputs": [],
   "source": [
    "movie_data = pd.get_dummies(movie_data,columns=[\"RELEASE_QUARTER\"])"
   ]
  },
  {
   "cell_type": "code",
   "execution_count": 75,
   "metadata": {
    "collapsed": false
   },
   "outputs": [
    {
     "data": {
      "text/html": [
       "<div>\n",
       "<table border=\"1\" class=\"dataframe\">\n",
       "  <thead>\n",
       "    <tr style=\"text-align: right;\">\n",
       "      <th></th>\n",
       "      <th>DOMESTIC_OPENING</th>\n",
       "      <th>FOREIGN_TOTAL</th>\n",
       "      <th>BUDGET</th>\n",
       "      <th>GENRE_Action</th>\n",
       "      <th>GENRE_Action / Adventure</th>\n",
       "      <th>GENRE_Action / Crime</th>\n",
       "      <th>GENRE_Action Comedy</th>\n",
       "      <th>GENRE_Action Drama</th>\n",
       "      <th>GENRE_Action Fantasy</th>\n",
       "      <th>GENRE_Action Horror</th>\n",
       "      <th>...</th>\n",
       "      <th>GENRE_Sports Drama</th>\n",
       "      <th>GENRE_Thriller</th>\n",
       "      <th>GENRE_War</th>\n",
       "      <th>GENRE_War Drama</th>\n",
       "      <th>GENRE_Western</th>\n",
       "      <th>GENRE_Western Comedy</th>\n",
       "      <th>RELEASE_QUARTER_1</th>\n",
       "      <th>RELEASE_QUARTER_2</th>\n",
       "      <th>RELEASE_QUARTER_3</th>\n",
       "      <th>RELEASE_QUARTER_4</th>\n",
       "    </tr>\n",
       "    <tr>\n",
       "      <th>MOVIE_NAME</th>\n",
       "      <th></th>\n",
       "      <th></th>\n",
       "      <th></th>\n",
       "      <th></th>\n",
       "      <th></th>\n",
       "      <th></th>\n",
       "      <th></th>\n",
       "      <th></th>\n",
       "      <th></th>\n",
       "      <th></th>\n",
       "      <th></th>\n",
       "      <th></th>\n",
       "      <th></th>\n",
       "      <th></th>\n",
       "      <th></th>\n",
       "      <th></th>\n",
       "      <th></th>\n",
       "      <th></th>\n",
       "      <th></th>\n",
       "      <th></th>\n",
       "      <th></th>\n",
       "    </tr>\n",
       "  </thead>\n",
       "  <tbody>\n",
       "    <tr>\n",
       "      <th>Marvel's The Avengers</th>\n",
       "      <td>207438708</td>\n",
       "      <td>896200000</td>\n",
       "      <td>220000000.0</td>\n",
       "      <td>0.0</td>\n",
       "      <td>1.0</td>\n",
       "      <td>0.0</td>\n",
       "      <td>0.0</td>\n",
       "      <td>0.0</td>\n",
       "      <td>0.0</td>\n",
       "      <td>0.0</td>\n",
       "      <td>...</td>\n",
       "      <td>0.0</td>\n",
       "      <td>0.0</td>\n",
       "      <td>0.0</td>\n",
       "      <td>0.0</td>\n",
       "      <td>0.0</td>\n",
       "      <td>0.0</td>\n",
       "      <td>0.0</td>\n",
       "      <td>1.0</td>\n",
       "      <td>0.0</td>\n",
       "      <td>0.0</td>\n",
       "    </tr>\n",
       "    <tr>\n",
       "      <th>The Dark Knight Rises</th>\n",
       "      <td>160887295</td>\n",
       "      <td>636800000</td>\n",
       "      <td>250000000.0</td>\n",
       "      <td>0.0</td>\n",
       "      <td>0.0</td>\n",
       "      <td>0.0</td>\n",
       "      <td>0.0</td>\n",
       "      <td>0.0</td>\n",
       "      <td>0.0</td>\n",
       "      <td>0.0</td>\n",
       "      <td>...</td>\n",
       "      <td>0.0</td>\n",
       "      <td>0.0</td>\n",
       "      <td>0.0</td>\n",
       "      <td>0.0</td>\n",
       "      <td>0.0</td>\n",
       "      <td>0.0</td>\n",
       "      <td>0.0</td>\n",
       "      <td>0.0</td>\n",
       "      <td>1.0</td>\n",
       "      <td>0.0</td>\n",
       "    </tr>\n",
       "    <tr>\n",
       "      <th>The Hunger Games</th>\n",
       "      <td>152535747</td>\n",
       "      <td>286384032</td>\n",
       "      <td>78000000.0</td>\n",
       "      <td>0.0</td>\n",
       "      <td>1.0</td>\n",
       "      <td>0.0</td>\n",
       "      <td>0.0</td>\n",
       "      <td>0.0</td>\n",
       "      <td>0.0</td>\n",
       "      <td>0.0</td>\n",
       "      <td>...</td>\n",
       "      <td>0.0</td>\n",
       "      <td>0.0</td>\n",
       "      <td>0.0</td>\n",
       "      <td>0.0</td>\n",
       "      <td>0.0</td>\n",
       "      <td>0.0</td>\n",
       "      <td>1.0</td>\n",
       "      <td>0.0</td>\n",
       "      <td>0.0</td>\n",
       "      <td>0.0</td>\n",
       "    </tr>\n",
       "    <tr>\n",
       "      <th>Skyfall</th>\n",
       "      <td>88364714</td>\n",
       "      <td>804200736</td>\n",
       "      <td>200000000.0</td>\n",
       "      <td>1.0</td>\n",
       "      <td>0.0</td>\n",
       "      <td>0.0</td>\n",
       "      <td>0.0</td>\n",
       "      <td>0.0</td>\n",
       "      <td>0.0</td>\n",
       "      <td>0.0</td>\n",
       "      <td>...</td>\n",
       "      <td>0.0</td>\n",
       "      <td>0.0</td>\n",
       "      <td>0.0</td>\n",
       "      <td>0.0</td>\n",
       "      <td>0.0</td>\n",
       "      <td>0.0</td>\n",
       "      <td>0.0</td>\n",
       "      <td>0.0</td>\n",
       "      <td>0.0</td>\n",
       "      <td>1.0</td>\n",
       "    </tr>\n",
       "    <tr>\n",
       "      <th>The Hobbit:An Unexpected Journey</th>\n",
       "      <td>84617303</td>\n",
       "      <td>718100000</td>\n",
       "      <td>0.0</td>\n",
       "      <td>0.0</td>\n",
       "      <td>0.0</td>\n",
       "      <td>0.0</td>\n",
       "      <td>0.0</td>\n",
       "      <td>0.0</td>\n",
       "      <td>0.0</td>\n",
       "      <td>0.0</td>\n",
       "      <td>...</td>\n",
       "      <td>0.0</td>\n",
       "      <td>0.0</td>\n",
       "      <td>0.0</td>\n",
       "      <td>0.0</td>\n",
       "      <td>0.0</td>\n",
       "      <td>0.0</td>\n",
       "      <td>0.0</td>\n",
       "      <td>0.0</td>\n",
       "      <td>0.0</td>\n",
       "      <td>1.0</td>\n",
       "    </tr>\n",
       "  </tbody>\n",
       "</table>\n",
       "<p>5 rows × 66 columns</p>\n",
       "</div>"
      ],
      "text/plain": [
       "                                  DOMESTIC_OPENING  FOREIGN_TOTAL  \\\n",
       "MOVIE_NAME                                                          \n",
       "Marvel's The Avengers                    207438708      896200000   \n",
       "The Dark Knight Rises                    160887295      636800000   \n",
       "The Hunger Games                         152535747      286384032   \n",
       "Skyfall                                   88364714      804200736   \n",
       "The Hobbit:An Unexpected Journey          84617303      718100000   \n",
       "\n",
       "                                       BUDGET  GENRE_Action  \\\n",
       "MOVIE_NAME                                                    \n",
       "Marvel's The Avengers             220000000.0           0.0   \n",
       "The Dark Knight Rises             250000000.0           0.0   \n",
       "The Hunger Games                   78000000.0           0.0   \n",
       "Skyfall                           200000000.0           1.0   \n",
       "The Hobbit:An Unexpected Journey          0.0           0.0   \n",
       "\n",
       "                                  GENRE_Action / Adventure  \\\n",
       "MOVIE_NAME                                                   \n",
       "Marvel's The Avengers                                  1.0   \n",
       "The Dark Knight Rises                                  0.0   \n",
       "The Hunger Games                                       1.0   \n",
       "Skyfall                                                0.0   \n",
       "The Hobbit:An Unexpected Journey                       0.0   \n",
       "\n",
       "                                  GENRE_Action / Crime  GENRE_Action Comedy  \\\n",
       "MOVIE_NAME                                                                    \n",
       "Marvel's The Avengers                              0.0                  0.0   \n",
       "The Dark Knight Rises                              0.0                  0.0   \n",
       "The Hunger Games                                   0.0                  0.0   \n",
       "Skyfall                                            0.0                  0.0   \n",
       "The Hobbit:An Unexpected Journey                   0.0                  0.0   \n",
       "\n",
       "                                  GENRE_Action Drama  GENRE_Action Fantasy  \\\n",
       "MOVIE_NAME                                                                   \n",
       "Marvel's The Avengers                            0.0                   0.0   \n",
       "The Dark Knight Rises                            0.0                   0.0   \n",
       "The Hunger Games                                 0.0                   0.0   \n",
       "Skyfall                                          0.0                   0.0   \n",
       "The Hobbit:An Unexpected Journey                 0.0                   0.0   \n",
       "\n",
       "                                  GENRE_Action Horror        ...          \\\n",
       "MOVIE_NAME                                                   ...           \n",
       "Marvel's The Avengers                             0.0        ...           \n",
       "The Dark Knight Rises                             0.0        ...           \n",
       "The Hunger Games                                  0.0        ...           \n",
       "Skyfall                                           0.0        ...           \n",
       "The Hobbit:An Unexpected Journey                  0.0        ...           \n",
       "\n",
       "                                  GENRE_Sports Drama  GENRE_Thriller  \\\n",
       "MOVIE_NAME                                                             \n",
       "Marvel's The Avengers                            0.0             0.0   \n",
       "The Dark Knight Rises                            0.0             0.0   \n",
       "The Hunger Games                                 0.0             0.0   \n",
       "Skyfall                                          0.0             0.0   \n",
       "The Hobbit:An Unexpected Journey                 0.0             0.0   \n",
       "\n",
       "                                  GENRE_War  GENRE_War Drama  GENRE_Western  \\\n",
       "MOVIE_NAME                                                                    \n",
       "Marvel's The Avengers                   0.0              0.0            0.0   \n",
       "The Dark Knight Rises                   0.0              0.0            0.0   \n",
       "The Hunger Games                        0.0              0.0            0.0   \n",
       "Skyfall                                 0.0              0.0            0.0   \n",
       "The Hobbit:An Unexpected Journey        0.0              0.0            0.0   \n",
       "\n",
       "                                  GENRE_Western Comedy  RELEASE_QUARTER_1  \\\n",
       "MOVIE_NAME                                                                  \n",
       "Marvel's The Avengers                              0.0                0.0   \n",
       "The Dark Knight Rises                              0.0                0.0   \n",
       "The Hunger Games                                   0.0                1.0   \n",
       "Skyfall                                            0.0                0.0   \n",
       "The Hobbit:An Unexpected Journey                   0.0                0.0   \n",
       "\n",
       "                                  RELEASE_QUARTER_2  RELEASE_QUARTER_3  \\\n",
       "MOVIE_NAME                                                               \n",
       "Marvel's The Avengers                           1.0                0.0   \n",
       "The Dark Knight Rises                           0.0                1.0   \n",
       "The Hunger Games                                0.0                0.0   \n",
       "Skyfall                                         0.0                0.0   \n",
       "The Hobbit:An Unexpected Journey                0.0                0.0   \n",
       "\n",
       "                                  RELEASE_QUARTER_4  \n",
       "MOVIE_NAME                                           \n",
       "Marvel's The Avengers                           0.0  \n",
       "The Dark Knight Rises                           0.0  \n",
       "The Hunger Games                                0.0  \n",
       "Skyfall                                         1.0  \n",
       "The Hobbit:An Unexpected Journey                1.0  \n",
       "\n",
       "[5 rows x 66 columns]"
      ]
     },
     "execution_count": 75,
     "metadata": {},
     "output_type": "execute_result"
    }
   ],
   "source": [
    "movie_data.head()"
   ]
  },
  {
   "cell_type": "markdown",
   "metadata": {},
   "source": [
    "# Check the data for missing values, and other weird things\n",
    "\n",
    "## Impute what I can into the raw data"
   ]
  },
  {
   "cell_type": "markdown",
   "metadata": {},
   "source": [
    "### Check Domestic Openings"
   ]
  },
  {
   "cell_type": "code",
   "execution_count": 76,
   "metadata": {
    "collapsed": false
   },
   "outputs": [
    {
     "data": {
      "text/plain": [
       "0"
      ]
     },
     "execution_count": 76,
     "metadata": {},
     "output_type": "execute_result"
    }
   ],
   "source": [
    "len(movie_data[movie_data[\"DOMESTIC_OPENING\"] == 0])"
   ]
  },
  {
   "cell_type": "markdown",
   "metadata": {},
   "source": [
    "## Check Budget "
   ]
  },
  {
   "cell_type": "code",
   "execution_count": 77,
   "metadata": {
    "collapsed": false
   },
   "outputs": [
    {
     "data": {
      "text/plain": [
       "773"
      ]
     },
     "execution_count": 77,
     "metadata": {},
     "output_type": "execute_result"
    }
   ],
   "source": [
    "# woah...missing a lot~~\n",
    "len (movie_data[movie_data['BUDGET'] == 0])"
   ]
  },
  {
   "cell_type": "code",
   "execution_count": 78,
   "metadata": {
    "collapsed": true
   },
   "outputs": [],
   "source": [
    "movie_no_budget = movie_data[movie_data['BUDGET'] == 0]"
   ]
  },
  {
   "cell_type": "code",
   "execution_count": 79,
   "metadata": {
    "collapsed": false
   },
   "outputs": [
    {
     "data": {
      "text/html": [
       "<div>\n",
       "<table border=\"1\" class=\"dataframe\">\n",
       "  <thead>\n",
       "    <tr style=\"text-align: right;\">\n",
       "      <th></th>\n",
       "      <th>DOMESTIC_OPENING</th>\n",
       "      <th>FOREIGN_TOTAL</th>\n",
       "      <th>BUDGET</th>\n",
       "      <th>GENRE_Action</th>\n",
       "      <th>GENRE_Action / Adventure</th>\n",
       "      <th>GENRE_Action / Crime</th>\n",
       "      <th>GENRE_Action Comedy</th>\n",
       "      <th>GENRE_Action Drama</th>\n",
       "      <th>GENRE_Action Fantasy</th>\n",
       "      <th>GENRE_Action Horror</th>\n",
       "      <th>...</th>\n",
       "      <th>GENRE_Sports Drama</th>\n",
       "      <th>GENRE_Thriller</th>\n",
       "      <th>GENRE_War</th>\n",
       "      <th>GENRE_War Drama</th>\n",
       "      <th>GENRE_Western</th>\n",
       "      <th>GENRE_Western Comedy</th>\n",
       "      <th>RELEASE_QUARTER_1</th>\n",
       "      <th>RELEASE_QUARTER_2</th>\n",
       "      <th>RELEASE_QUARTER_3</th>\n",
       "      <th>RELEASE_QUARTER_4</th>\n",
       "    </tr>\n",
       "    <tr>\n",
       "      <th>MOVIE_NAME</th>\n",
       "      <th></th>\n",
       "      <th></th>\n",
       "      <th></th>\n",
       "      <th></th>\n",
       "      <th></th>\n",
       "      <th></th>\n",
       "      <th></th>\n",
       "      <th></th>\n",
       "      <th></th>\n",
       "      <th></th>\n",
       "      <th></th>\n",
       "      <th></th>\n",
       "      <th></th>\n",
       "      <th></th>\n",
       "      <th></th>\n",
       "      <th></th>\n",
       "      <th></th>\n",
       "      <th></th>\n",
       "      <th></th>\n",
       "      <th></th>\n",
       "      <th></th>\n",
       "    </tr>\n",
       "  </thead>\n",
       "  <tbody>\n",
       "    <tr>\n",
       "      <th>The Hobbit:An Unexpected Journey</th>\n",
       "      <td>84617303</td>\n",
       "      <td>718100000</td>\n",
       "      <td>0.0</td>\n",
       "      <td>0.0</td>\n",
       "      <td>0.0</td>\n",
       "      <td>0.0</td>\n",
       "      <td>0.0</td>\n",
       "      <td>0.0</td>\n",
       "      <td>0.0</td>\n",
       "      <td>0.0</td>\n",
       "      <td>...</td>\n",
       "      <td>0.0</td>\n",
       "      <td>0.0</td>\n",
       "      <td>0.0</td>\n",
       "      <td>0.0</td>\n",
       "      <td>0.0</td>\n",
       "      <td>0.0</td>\n",
       "      <td>0.0</td>\n",
       "      <td>0.0</td>\n",
       "      <td>0.0</td>\n",
       "      <td>1.0</td>\n",
       "    </tr>\n",
       "    <tr>\n",
       "      <th>Argo</th>\n",
       "      <td>19458109</td>\n",
       "      <td>96300000</td>\n",
       "      <td>0.0</td>\n",
       "      <td>0.0</td>\n",
       "      <td>0.0</td>\n",
       "      <td>0.0</td>\n",
       "      <td>0.0</td>\n",
       "      <td>0.0</td>\n",
       "      <td>0.0</td>\n",
       "      <td>0.0</td>\n",
       "      <td>...</td>\n",
       "      <td>0.0</td>\n",
       "      <td>0.0</td>\n",
       "      <td>0.0</td>\n",
       "      <td>0.0</td>\n",
       "      <td>0.0</td>\n",
       "      <td>0.0</td>\n",
       "      <td>0.0</td>\n",
       "      <td>0.0</td>\n",
       "      <td>0.0</td>\n",
       "      <td>1.0</td>\n",
       "    </tr>\n",
       "    <tr>\n",
       "      <th>The Campaign</th>\n",
       "      <td>26588460</td>\n",
       "      <td>18000000</td>\n",
       "      <td>0.0</td>\n",
       "      <td>0.0</td>\n",
       "      <td>0.0</td>\n",
       "      <td>0.0</td>\n",
       "      <td>0.0</td>\n",
       "      <td>0.0</td>\n",
       "      <td>0.0</td>\n",
       "      <td>0.0</td>\n",
       "      <td>...</td>\n",
       "      <td>0.0</td>\n",
       "      <td>0.0</td>\n",
       "      <td>0.0</td>\n",
       "      <td>0.0</td>\n",
       "      <td>0.0</td>\n",
       "      <td>0.0</td>\n",
       "      <td>0.0</td>\n",
       "      <td>0.0</td>\n",
       "      <td>1.0</td>\n",
       "      <td>0.0</td>\n",
       "    </tr>\n",
       "    <tr>\n",
       "      <th>Hope Springs</th>\n",
       "      <td>14650121</td>\n",
       "      <td>50745040</td>\n",
       "      <td>0.0</td>\n",
       "      <td>0.0</td>\n",
       "      <td>0.0</td>\n",
       "      <td>0.0</td>\n",
       "      <td>0.0</td>\n",
       "      <td>0.0</td>\n",
       "      <td>0.0</td>\n",
       "      <td>0.0</td>\n",
       "      <td>...</td>\n",
       "      <td>0.0</td>\n",
       "      <td>0.0</td>\n",
       "      <td>0.0</td>\n",
       "      <td>0.0</td>\n",
       "      <td>0.0</td>\n",
       "      <td>0.0</td>\n",
       "      <td>0.0</td>\n",
       "      <td>0.0</td>\n",
       "      <td>1.0</td>\n",
       "      <td>0.0</td>\n",
       "    </tr>\n",
       "    <tr>\n",
       "      <th>The Lucky One</th>\n",
       "      <td>22518358</td>\n",
       "      <td>38900000</td>\n",
       "      <td>0.0</td>\n",
       "      <td>0.0</td>\n",
       "      <td>0.0</td>\n",
       "      <td>0.0</td>\n",
       "      <td>0.0</td>\n",
       "      <td>0.0</td>\n",
       "      <td>0.0</td>\n",
       "      <td>0.0</td>\n",
       "      <td>...</td>\n",
       "      <td>0.0</td>\n",
       "      <td>0.0</td>\n",
       "      <td>0.0</td>\n",
       "      <td>0.0</td>\n",
       "      <td>0.0</td>\n",
       "      <td>0.0</td>\n",
       "      <td>0.0</td>\n",
       "      <td>1.0</td>\n",
       "      <td>0.0</td>\n",
       "      <td>0.0</td>\n",
       "    </tr>\n",
       "    <tr>\n",
       "      <th>Project X</th>\n",
       "      <td>21051363</td>\n",
       "      <td>48000000</td>\n",
       "      <td>0.0</td>\n",
       "      <td>0.0</td>\n",
       "      <td>0.0</td>\n",
       "      <td>0.0</td>\n",
       "      <td>0.0</td>\n",
       "      <td>0.0</td>\n",
       "      <td>0.0</td>\n",
       "      <td>0.0</td>\n",
       "      <td>...</td>\n",
       "      <td>0.0</td>\n",
       "      <td>0.0</td>\n",
       "      <td>0.0</td>\n",
       "      <td>0.0</td>\n",
       "      <td>0.0</td>\n",
       "      <td>0.0</td>\n",
       "      <td>1.0</td>\n",
       "      <td>0.0</td>\n",
       "      <td>0.0</td>\n",
       "      <td>0.0</td>\n",
       "    </tr>\n",
       "    <tr>\n",
       "      <th>The Woman in Black</th>\n",
       "      <td>20874072</td>\n",
       "      <td>73397446</td>\n",
       "      <td>0.0</td>\n",
       "      <td>0.0</td>\n",
       "      <td>0.0</td>\n",
       "      <td>0.0</td>\n",
       "      <td>0.0</td>\n",
       "      <td>0.0</td>\n",
       "      <td>0.0</td>\n",
       "      <td>0.0</td>\n",
       "      <td>...</td>\n",
       "      <td>0.0</td>\n",
       "      <td>0.0</td>\n",
       "      <td>0.0</td>\n",
       "      <td>0.0</td>\n",
       "      <td>0.0</td>\n",
       "      <td>0.0</td>\n",
       "      <td>1.0</td>\n",
       "      <td>0.0</td>\n",
       "      <td>0.0</td>\n",
       "      <td>0.0</td>\n",
       "    </tr>\n",
       "    <tr>\n",
       "      <th>The Devil Inside</th>\n",
       "      <td>33732515</td>\n",
       "      <td>48496546</td>\n",
       "      <td>0.0</td>\n",
       "      <td>0.0</td>\n",
       "      <td>0.0</td>\n",
       "      <td>0.0</td>\n",
       "      <td>0.0</td>\n",
       "      <td>0.0</td>\n",
       "      <td>0.0</td>\n",
       "      <td>0.0</td>\n",
       "      <td>...</td>\n",
       "      <td>0.0</td>\n",
       "      <td>0.0</td>\n",
       "      <td>0.0</td>\n",
       "      <td>0.0</td>\n",
       "      <td>0.0</td>\n",
       "      <td>0.0</td>\n",
       "      <td>1.0</td>\n",
       "      <td>0.0</td>\n",
       "      <td>0.0</td>\n",
       "      <td>0.0</td>\n",
       "    </tr>\n",
       "    <tr>\n",
       "      <th>The Odd Life of Timothy Green</th>\n",
       "      <td>10822903</td>\n",
       "      <td>4157767</td>\n",
       "      <td>0.0</td>\n",
       "      <td>0.0</td>\n",
       "      <td>0.0</td>\n",
       "      <td>0.0</td>\n",
       "      <td>0.0</td>\n",
       "      <td>0.0</td>\n",
       "      <td>0.0</td>\n",
       "      <td>0.0</td>\n",
       "      <td>...</td>\n",
       "      <td>0.0</td>\n",
       "      <td>0.0</td>\n",
       "      <td>0.0</td>\n",
       "      <td>0.0</td>\n",
       "      <td>0.0</td>\n",
       "      <td>0.0</td>\n",
       "      <td>0.0</td>\n",
       "      <td>0.0</td>\n",
       "      <td>1.0</td>\n",
       "      <td>0.0</td>\n",
       "    </tr>\n",
       "    <tr>\n",
       "      <th>Beauty and the Beast (3D)</th>\n",
       "      <td>17751905</td>\n",
       "      <td>14410056</td>\n",
       "      <td>0.0</td>\n",
       "      <td>0.0</td>\n",
       "      <td>0.0</td>\n",
       "      <td>0.0</td>\n",
       "      <td>0.0</td>\n",
       "      <td>0.0</td>\n",
       "      <td>0.0</td>\n",
       "      <td>0.0</td>\n",
       "      <td>...</td>\n",
       "      <td>0.0</td>\n",
       "      <td>0.0</td>\n",
       "      <td>0.0</td>\n",
       "      <td>0.0</td>\n",
       "      <td>0.0</td>\n",
       "      <td>0.0</td>\n",
       "      <td>1.0</td>\n",
       "      <td>0.0</td>\n",
       "      <td>0.0</td>\n",
       "      <td>0.0</td>\n",
       "    </tr>\n",
       "  </tbody>\n",
       "</table>\n",
       "<p>10 rows × 66 columns</p>\n",
       "</div>"
      ],
      "text/plain": [
       "                                  DOMESTIC_OPENING  FOREIGN_TOTAL  BUDGET  \\\n",
       "MOVIE_NAME                                                                  \n",
       "The Hobbit:An Unexpected Journey          84617303      718100000     0.0   \n",
       "Argo                                      19458109       96300000     0.0   \n",
       "The Campaign                              26588460       18000000     0.0   \n",
       "Hope Springs                              14650121       50745040     0.0   \n",
       "The Lucky One                             22518358       38900000     0.0   \n",
       "Project X                                 21051363       48000000     0.0   \n",
       "The Woman in Black                        20874072       73397446     0.0   \n",
       "The Devil Inside                          33732515       48496546     0.0   \n",
       "The Odd Life of Timothy Green             10822903        4157767     0.0   \n",
       "Beauty and the Beast (3D)                 17751905       14410056     0.0   \n",
       "\n",
       "                                  GENRE_Action  GENRE_Action / Adventure  \\\n",
       "MOVIE_NAME                                                                 \n",
       "The Hobbit:An Unexpected Journey           0.0                       0.0   \n",
       "Argo                                       0.0                       0.0   \n",
       "The Campaign                               0.0                       0.0   \n",
       "Hope Springs                               0.0                       0.0   \n",
       "The Lucky One                              0.0                       0.0   \n",
       "Project X                                  0.0                       0.0   \n",
       "The Woman in Black                         0.0                       0.0   \n",
       "The Devil Inside                           0.0                       0.0   \n",
       "The Odd Life of Timothy Green              0.0                       0.0   \n",
       "Beauty and the Beast (3D)                  0.0                       0.0   \n",
       "\n",
       "                                  GENRE_Action / Crime  GENRE_Action Comedy  \\\n",
       "MOVIE_NAME                                                                    \n",
       "The Hobbit:An Unexpected Journey                   0.0                  0.0   \n",
       "Argo                                               0.0                  0.0   \n",
       "The Campaign                                       0.0                  0.0   \n",
       "Hope Springs                                       0.0                  0.0   \n",
       "The Lucky One                                      0.0                  0.0   \n",
       "Project X                                          0.0                  0.0   \n",
       "The Woman in Black                                 0.0                  0.0   \n",
       "The Devil Inside                                   0.0                  0.0   \n",
       "The Odd Life of Timothy Green                      0.0                  0.0   \n",
       "Beauty and the Beast (3D)                          0.0                  0.0   \n",
       "\n",
       "                                  GENRE_Action Drama  GENRE_Action Fantasy  \\\n",
       "MOVIE_NAME                                                                   \n",
       "The Hobbit:An Unexpected Journey                 0.0                   0.0   \n",
       "Argo                                             0.0                   0.0   \n",
       "The Campaign                                     0.0                   0.0   \n",
       "Hope Springs                                     0.0                   0.0   \n",
       "The Lucky One                                    0.0                   0.0   \n",
       "Project X                                        0.0                   0.0   \n",
       "The Woman in Black                               0.0                   0.0   \n",
       "The Devil Inside                                 0.0                   0.0   \n",
       "The Odd Life of Timothy Green                    0.0                   0.0   \n",
       "Beauty and the Beast (3D)                        0.0                   0.0   \n",
       "\n",
       "                                  GENRE_Action Horror        ...          \\\n",
       "MOVIE_NAME                                                   ...           \n",
       "The Hobbit:An Unexpected Journey                  0.0        ...           \n",
       "Argo                                              0.0        ...           \n",
       "The Campaign                                      0.0        ...           \n",
       "Hope Springs                                      0.0        ...           \n",
       "The Lucky One                                     0.0        ...           \n",
       "Project X                                         0.0        ...           \n",
       "The Woman in Black                                0.0        ...           \n",
       "The Devil Inside                                  0.0        ...           \n",
       "The Odd Life of Timothy Green                     0.0        ...           \n",
       "Beauty and the Beast (3D)                         0.0        ...           \n",
       "\n",
       "                                  GENRE_Sports Drama  GENRE_Thriller  \\\n",
       "MOVIE_NAME                                                             \n",
       "The Hobbit:An Unexpected Journey                 0.0             0.0   \n",
       "Argo                                             0.0             0.0   \n",
       "The Campaign                                     0.0             0.0   \n",
       "Hope Springs                                     0.0             0.0   \n",
       "The Lucky One                                    0.0             0.0   \n",
       "Project X                                        0.0             0.0   \n",
       "The Woman in Black                               0.0             0.0   \n",
       "The Devil Inside                                 0.0             0.0   \n",
       "The Odd Life of Timothy Green                    0.0             0.0   \n",
       "Beauty and the Beast (3D)                        0.0             0.0   \n",
       "\n",
       "                                  GENRE_War  GENRE_War Drama  GENRE_Western  \\\n",
       "MOVIE_NAME                                                                    \n",
       "The Hobbit:An Unexpected Journey        0.0              0.0            0.0   \n",
       "Argo                                    0.0              0.0            0.0   \n",
       "The Campaign                            0.0              0.0            0.0   \n",
       "Hope Springs                            0.0              0.0            0.0   \n",
       "The Lucky One                           0.0              0.0            0.0   \n",
       "Project X                               0.0              0.0            0.0   \n",
       "The Woman in Black                      0.0              0.0            0.0   \n",
       "The Devil Inside                        0.0              0.0            0.0   \n",
       "The Odd Life of Timothy Green           0.0              0.0            0.0   \n",
       "Beauty and the Beast (3D)               0.0              0.0            0.0   \n",
       "\n",
       "                                  GENRE_Western Comedy  RELEASE_QUARTER_1  \\\n",
       "MOVIE_NAME                                                                  \n",
       "The Hobbit:An Unexpected Journey                   0.0                0.0   \n",
       "Argo                                               0.0                0.0   \n",
       "The Campaign                                       0.0                0.0   \n",
       "Hope Springs                                       0.0                0.0   \n",
       "The Lucky One                                      0.0                0.0   \n",
       "Project X                                          0.0                1.0   \n",
       "The Woman in Black                                 0.0                1.0   \n",
       "The Devil Inside                                   0.0                1.0   \n",
       "The Odd Life of Timothy Green                      0.0                0.0   \n",
       "Beauty and the Beast (3D)                          0.0                1.0   \n",
       "\n",
       "                                  RELEASE_QUARTER_2  RELEASE_QUARTER_3  \\\n",
       "MOVIE_NAME                                                               \n",
       "The Hobbit:An Unexpected Journey                0.0                0.0   \n",
       "Argo                                            0.0                0.0   \n",
       "The Campaign                                    0.0                1.0   \n",
       "Hope Springs                                    0.0                1.0   \n",
       "The Lucky One                                   1.0                0.0   \n",
       "Project X                                       0.0                0.0   \n",
       "The Woman in Black                              0.0                0.0   \n",
       "The Devil Inside                                0.0                0.0   \n",
       "The Odd Life of Timothy Green                   0.0                1.0   \n",
       "Beauty and the Beast (3D)                       0.0                0.0   \n",
       "\n",
       "                                  RELEASE_QUARTER_4  \n",
       "MOVIE_NAME                                           \n",
       "The Hobbit:An Unexpected Journey                1.0  \n",
       "Argo                                            1.0  \n",
       "The Campaign                                    0.0  \n",
       "Hope Springs                                    0.0  \n",
       "The Lucky One                                   0.0  \n",
       "Project X                                       0.0  \n",
       "The Woman in Black                              0.0  \n",
       "The Devil Inside                                0.0  \n",
       "The Odd Life of Timothy Green                   0.0  \n",
       "Beauty and the Beast (3D)                       0.0  \n",
       "\n",
       "[10 rows x 66 columns]"
      ]
     },
     "execution_count": 79,
     "metadata": {},
     "output_type": "execute_result"
    }
   ],
   "source": [
    "movie_no_budget.head(10)"
   ]
  },
  {
   "cell_type": "markdown",
   "metadata": {},
   "source": [
    "# Note!!!!!! one reason for weird domest/foreign offset is if a movie is released somewhere like korea...it might do super well there but not well in america (which is considered domestic)\n",
    "\n",
    "# Have option of ignoring films with foreign as the genre"
   ]
  },
  {
   "cell_type": "code",
   "execution_count": 80,
   "metadata": {
    "collapsed": true
   },
   "outputs": [],
   "source": [
    "movies_no_domestic = movie_data[movie_data[\"DOMESTIC_OPENING\"] == 0]"
   ]
  },
  {
   "cell_type": "code",
   "execution_count": 81,
   "metadata": {
    "collapsed": false,
    "scrolled": true
   },
   "outputs": [
    {
     "data": {
      "text/html": [
       "<div>\n",
       "<table border=\"1\" class=\"dataframe\">\n",
       "  <thead>\n",
       "    <tr style=\"text-align: right;\">\n",
       "      <th></th>\n",
       "      <th>DOMESTIC_OPENING</th>\n",
       "      <th>FOREIGN_TOTAL</th>\n",
       "      <th>BUDGET</th>\n",
       "      <th>GENRE_Action</th>\n",
       "      <th>GENRE_Action / Adventure</th>\n",
       "      <th>GENRE_Action / Crime</th>\n",
       "      <th>GENRE_Action Comedy</th>\n",
       "      <th>GENRE_Action Drama</th>\n",
       "      <th>GENRE_Action Fantasy</th>\n",
       "      <th>GENRE_Action Horror</th>\n",
       "      <th>...</th>\n",
       "      <th>GENRE_Sports Drama</th>\n",
       "      <th>GENRE_Thriller</th>\n",
       "      <th>GENRE_War</th>\n",
       "      <th>GENRE_War Drama</th>\n",
       "      <th>GENRE_Western</th>\n",
       "      <th>GENRE_Western Comedy</th>\n",
       "      <th>RELEASE_QUARTER_1</th>\n",
       "      <th>RELEASE_QUARTER_2</th>\n",
       "      <th>RELEASE_QUARTER_3</th>\n",
       "      <th>RELEASE_QUARTER_4</th>\n",
       "    </tr>\n",
       "    <tr>\n",
       "      <th>MOVIE_NAME</th>\n",
       "      <th></th>\n",
       "      <th></th>\n",
       "      <th></th>\n",
       "      <th></th>\n",
       "      <th></th>\n",
       "      <th></th>\n",
       "      <th></th>\n",
       "      <th></th>\n",
       "      <th></th>\n",
       "      <th></th>\n",
       "      <th></th>\n",
       "      <th></th>\n",
       "      <th></th>\n",
       "      <th></th>\n",
       "      <th></th>\n",
       "      <th></th>\n",
       "      <th></th>\n",
       "      <th></th>\n",
       "      <th></th>\n",
       "      <th></th>\n",
       "      <th></th>\n",
       "    </tr>\n",
       "  </thead>\n",
       "  <tbody>\n",
       "  </tbody>\n",
       "</table>\n",
       "<p>0 rows × 66 columns</p>\n",
       "</div>"
      ],
      "text/plain": [
       "Empty DataFrame\n",
       "Columns: [DOMESTIC_OPENING, FOREIGN_TOTAL, BUDGET, GENRE_Action, GENRE_Action / Adventure, GENRE_Action / Crime, GENRE_Action Comedy, GENRE_Action Drama, GENRE_Action Fantasy, GENRE_Action Horror, GENRE_Action Thriller, GENRE_Adventure, GENRE_Adventure Comedy, GENRE_Animation, GENRE_Comedy, GENRE_Comedy / Drama, GENRE_Comedy Thriller, GENRE_Concert, GENRE_Crime, GENRE_Crime Comedy, GENRE_Crime Drama, GENRE_Crime Thriller, GENRE_Documentary, GENRE_Drama, GENRE_Drama / Thriller, GENRE_Family, GENRE_Family Adventure, GENRE_Family Comedy, GENRE_Fantasy, GENRE_Fantasy Comedy, GENRE_Fantasy Drama, GENRE_Foreign, GENRE_Foreign / Action, GENRE_Foreign / Horror, GENRE_Historical Drama, GENRE_Horror, GENRE_Horror Comedy, GENRE_Horror Thriller, GENRE_IMAX, GENRE_Music Drama, GENRE_Musical, GENRE_Period Action, GENRE_Period Adventure, GENRE_Period Comedy, GENRE_Period Drama, GENRE_Romance, GENRE_Romantic Comedy, GENRE_Romantic Thriller, GENRE_Sci-Fi, GENRE_Sci-Fi Action, GENRE_Sci-Fi Adventure, GENRE_Sci-Fi Comedy, GENRE_Sci-Fi Fantasy, GENRE_Sci-Fi Horror, GENRE_Sci-Fi Thriller, GENRE_Sports Comedy, GENRE_Sports Drama, GENRE_Thriller, GENRE_War, GENRE_War Drama, GENRE_Western, GENRE_Western Comedy, RELEASE_QUARTER_1, RELEASE_QUARTER_2, RELEASE_QUARTER_3, RELEASE_QUARTER_4]\n",
       "Index: []\n",
       "\n",
       "[0 rows x 66 columns]"
      ]
     },
     "execution_count": 81,
     "metadata": {},
     "output_type": "execute_result"
    }
   ],
   "source": [
    "movies_no_domestic"
   ]
  },
  {
   "cell_type": "markdown",
   "metadata": {},
   "source": [
    "# Just get rid of entries with no budget info"
   ]
  },
  {
   "cell_type": "code",
   "execution_count": 82,
   "metadata": {
    "collapsed": true
   },
   "outputs": [],
   "source": [
    "movie_data = movie_data[movie_data['BUDGET'] != 0]"
   ]
  },
  {
   "cell_type": "code",
   "execution_count": 83,
   "metadata": {
    "collapsed": false
   },
   "outputs": [
    {
     "data": {
      "text/plain": [
       "(755, 66)"
      ]
     },
     "execution_count": 83,
     "metadata": {},
     "output_type": "execute_result"
    }
   ],
   "source": [
    "movie_data.shape"
   ]
  },
  {
   "cell_type": "markdown",
   "metadata": {},
   "source": [
    "# Get some plots the data"
   ]
  },
  {
   "cell_type": "code",
   "execution_count": 86,
   "metadata": {
    "collapsed": true
   },
   "outputs": [],
   "source": [
    "import sklearn\n",
    "from sklearn.cross_validation import train_test_split,KFold,cross_val_score\n",
    "from pandas.tools.plotting import scatter_matrix"
   ]
  },
  {
   "cell_type": "markdown",
   "metadata": {},
   "source": [
    "### Drop na values (there is apparently 1)"
   ]
  },
  {
   "cell_type": "code",
   "execution_count": 128,
   "metadata": {
    "collapsed": true
   },
   "outputs": [],
   "source": [
    "movie_data.dropna(inplace=True)"
   ]
  },
  {
   "cell_type": "code",
   "execution_count": 129,
   "metadata": {
    "collapsed": false
   },
   "outputs": [
    {
     "data": {
      "text/plain": [
       "(754, 66)"
      ]
     },
     "execution_count": 129,
     "metadata": {},
     "output_type": "execute_result"
    }
   ],
   "source": [
    "movie_data.shape"
   ]
  },
  {
   "cell_type": "code",
   "execution_count": 130,
   "metadata": {
    "collapsed": true
   },
   "outputs": [],
   "source": [
    "movie_features,movie_target = movie_data.drop('FOREIGN_TOTAL', axis=1),movie_data['FOREIGN_TOTAL']"
   ]
  },
  {
   "cell_type": "markdown",
   "metadata": {},
   "source": [
    "## Want to get some plots...write these to a directory\n",
    "#### currently without the extra actor/director/writer information..."
   ]
  },
  {
   "cell_type": "code",
   "execution_count": 131,
   "metadata": {
    "collapsed": false
   },
   "outputs": [
    {
     "name": "stdout",
     "output_type": "stream",
     "text": [
      "renaming GENRE_Action / Adventure\n",
      "renaming GENRE_Action / Crime\n",
      "renaming GENRE_Comedy / Drama\n",
      "renaming GENRE_Drama / Thriller\n",
      "renaming GENRE_Foreign / Action\n",
      "renaming GENRE_Foreign / Horror\n"
     ]
    }
   ],
   "source": [
    "column_names = list(movie_features.columns)\n",
    "\n",
    "for column in column_names:\n",
    "    # create plots of column vs foreign budget\n",
    "    \n",
    "    ## want to rescale budget and domestic fields to make the graphs look better and be \n",
    "    ## easier to understand\n",
    "    if column == 'BUDGET':\n",
    "        plt.scatter(movie_features[column]/float(1000000),movie_target/float(1000000),alpha=0.2)\n",
    "    elif column == 'DOMESTIC_OPENING':\n",
    "        plt.scatter(movie_features[column]/float(1000000),movie_target/float(1000000),alpha=0.2)\n",
    "    else:\n",
    "        plt.scatter(movie_features[column],movie_target/float(1000000),alpha=0.2)\n",
    "    \n",
    "    plt.xlabel(column)\n",
    "    plt.ylabel('foreign gross (millions $)')\n",
    "    \n",
    "    # rename the column name so that the pathing for storing the file works\n",
    "    if '/' in column:\n",
    "        print \"renaming \"+column\n",
    "        column = column.split('/')[0] + column.split('/')[1]\n",
    "    path = '/Users/williamcosby/Documents/metis/Project_Luther/plots/'+str(column)+'.png'\n",
    "    plt.savefig(path)\n",
    "    plt.close() "
   ]
  },
  {
   "cell_type": "markdown",
   "metadata": {},
   "source": [
    "# Start some modeling\n",
    "### Split the data into features and targets"
   ]
  },
  {
   "cell_type": "markdown",
   "metadata": {},
   "source": [
    "# Linear Regression model\n",
    "http://scikit-learn.org/stable/auto_examples/plot_cv_predict.html"
   ]
  },
  {
   "cell_type": "code",
   "execution_count": 133,
   "metadata": {
    "collapsed": false
   },
   "outputs": [],
   "source": [
    "from sklearn import linear_model\n",
    "from sklearn.cross_validation import cross_val_predict, train_test_split"
   ]
  },
  {
   "cell_type": "markdown",
   "metadata": {},
   "source": [
    "#### nh means \"not holdout\""
   ]
  },
  {
   "cell_type": "markdown",
   "metadata": {},
   "source": [
    "### Make a holdout set from the data"
   ]
  },
  {
   "cell_type": "code",
   "execution_count": 134,
   "metadata": {
    "collapsed": false
   },
   "outputs": [],
   "source": [
    "movie_features_nh, movie_features_holdout, movie_target_nh, movie_target_holdout = train_test_split(movie_features,movie_target,\n",
    "                                                            test_size=0.15)"
   ]
  },
  {
   "cell_type": "markdown",
   "metadata": {},
   "source": [
    "### Now split the data into the train and test sets (within the non-holdout data) and create the model"
   ]
  },
  {
   "cell_type": "code",
   "execution_count": 135,
   "metadata": {
    "collapsed": true
   },
   "outputs": [],
   "source": [
    "movie_features_train, movie_features_test, movie_target_train, movie_target_test = train_test_split(\n",
    "                                                            movie_features_nh,movie_target_nh,\n",
    "                                                            test_size=0.3)"
   ]
  },
  {
   "cell_type": "markdown",
   "metadata": {},
   "source": [
    "### Drop domestic opening"
   ]
  },
  {
   "cell_type": "code",
   "execution_count": 142,
   "metadata": {
    "collapsed": false
   },
   "outputs": [],
   "source": [
    "# try dropping domestic opening \n",
    "movie_features_train_nodom = movie_features_train.drop(['DOMESTIC_OPENING'],axis=1)\n",
    "movie_features_test_nodom = movie_features_test.drop(['DOMESTIC_OPENING'],axis=1)"
   ]
  },
  {
   "cell_type": "markdown",
   "metadata": {},
   "source": [
    "## Train lin reg without domestic opening"
   ]
  },
  {
   "cell_type": "code",
   "execution_count": 145,
   "metadata": {
    "collapsed": false
   },
   "outputs": [
    {
     "name": "stdout",
     "output_type": "stream",
     "text": [
      "vanilla lin reg score:  0.514520246847\n"
     ]
    }
   ],
   "source": [
    "lr_nodom = linear_model.LinearRegression()\n",
    "lr_nodom.fit(movie_features_train_nodom,movie_target_train)\n",
    "print \"vanilla lin reg score: \", lr_nodom.score(movie_features_test_nodom, movie_target_test)"
   ]
  },
  {
   "cell_type": "markdown",
   "metadata": {},
   "source": [
    "## Train lin reg with domestic opening"
   ]
  },
  {
   "cell_type": "code",
   "execution_count": 136,
   "metadata": {
    "collapsed": false,
    "scrolled": true
   },
   "outputs": [
    {
     "name": "stdout",
     "output_type": "stream",
     "text": [
      "vanilla lin reg score:  0.739165692493\n",
      "('GENRE_Action / Adventure', -92562986.070918053)\n",
      "('GENRE_Foreign / Action', 80195613.577281356)\n",
      "('GENRE_Adventure Comedy', 74143583.331786767)\n",
      "('GENRE_Period Adventure', -74078262.559668571)\n",
      "('GENRE_Family Comedy', 71711072.16647236)\n",
      "('GENRE_Romantic Thriller', 64566848.108467251)\n",
      "('GENRE_Musical', -59968119.383334599)\n",
      "('GENRE_Family Adventure', 56059591.140148453)\n",
      "('GENRE_Foreign', 40760113.545381233)\n",
      "('GENRE_Animation', 40649293.375178695)\n",
      "('GENRE_Sci-Fi Thriller', 40077406.331665754)\n",
      "('GENRE_Action', 37589884.079517797)\n",
      "('GENRE_War', -36996352.377611041)\n",
      "('GENRE_Sports Drama', -36305241.206331268)\n",
      "('GENRE_Sci-Fi Action', 36061965.421646439)\n",
      "('GENRE_Crime Thriller', -33805293.435968071)\n",
      "('GENRE_Music Drama', -33647898.583286203)\n",
      "('GENRE_Western', -32983492.313772202)\n",
      "('GENRE_Comedy', -31835638.340294719)\n",
      "('GENRE_Drama / Thriller', 30431081.106936999)\n",
      "('GENRE_Horror Comedy', -29107320.923960995)\n",
      "('GENRE_Action Thriller', -28799230.805928215)\n",
      "('GENRE_Fantasy Drama', -27469239.904058911)\n",
      "('GENRE_Sci-Fi Horror', 26808809.570644535)\n",
      "('GENRE_Historical Drama', 25872444.873958599)\n",
      "('GENRE_Action / Crime', -25542597.226309486)\n",
      "('GENRE_Action Horror', 24039224.917440012)\n",
      "('GENRE_Fantasy', 23799564.4202425)\n",
      "('GENRE_Action Drama', -23262205.370104458)\n",
      "('GENRE_Romance', -20384163.362197228)\n",
      "('GENRE_Sci-Fi Adventure', -20328575.186309218)\n",
      "('GENRE_Crime Drama', -19959434.813558813)\n",
      "('RELEASE_QUARTER_1', -19915154.377116039)\n",
      "('GENRE_Action Comedy', -19542414.194066994)\n",
      "('GENRE_Horror', -18795299.266035601)\n",
      "('GENRE_Documentary', -17240415.421102691)\n",
      "('RELEASE_QUARTER_4', 16087936.19233183)\n",
      "('GENRE_Sci-Fi Comedy', 15098855.63932954)\n",
      "('GENRE_Thriller', -13646066.834447179)\n",
      "('GENRE_Period Action', 13644334.829140851)\n",
      "('GENRE_Concert', -11779279.784700014)\n",
      "('GENRE_Sci-Fi Fantasy', -10967819.522715662)\n",
      "('GENRE_IMAX', 9638529.2941079717)\n",
      "('RELEASE_QUARTER_3', 7549366.1320528761)\n",
      "('GENRE_Adventure', -5749010.7099720947)\n",
      "('GENRE_Comedy / Drama', 5470085.7480717637)\n",
      "('GENRE_Period Drama', -4186498.0356622539)\n",
      "('GENRE_Romantic Comedy', 4130685.763024373)\n",
      "('RELEASE_QUARTER_2', -3722146.745733697)\n",
      "('GENRE_Drama', 2944682.0931686014)\n",
      "('GENRE_Horror Thriller', 2492749.9768000031)\n",
      "('GENRE_Sci-Fi', 1793224.0517725646)\n",
      "('GENRE_Family', 1328871.4744108198)\n",
      "('GENRE_Fantasy Comedy', -365673.14451478492)\n",
      "('DOMESTIC_OPENING', 3.6262620849834422)\n",
      "('GENRE_Action Fantasy', -0.95199958235025406)\n",
      "('BUDGET', 0.93098335667267051)\n",
      "('GENRE_Crime Comedy', 0.25852170586585999)\n",
      "('GENRE_Comedy Thriller', 0.14896480366587639)\n",
      "('GENRE_Period Comedy', 0.077717838808894157)\n",
      "('GENRE_Foreign / Horror', 0.05061592161655426)\n",
      "('GENRE_Crime', 0.0012002894654870033)\n",
      "('GENRE_Sports Comedy', -7.4505805969238281e-09)\n",
      "('GENRE_War Drama', 0.0)\n",
      "('GENRE_Western Comedy', 0.0)\n"
     ]
    }
   ],
   "source": [
    "lr = linear_model.LinearRegression()\n",
    "lr.fit(movie_features_train,movie_target_train)\n",
    "print \"vanilla lin reg score: \", lr.score(movie_features_test, movie_target_test)\n",
    "# sort features by coefficient\n",
    "sorted_features = sorted(zip(list(movie_features_train.columns),lr.coef_),\n",
    "                         key=lambda tup: abs(tup[1]),reverse=True) \n",
    "\n",
    "for feature in sorted_features:\n",
    "    print(feature)"
   ]
  },
  {
   "cell_type": "markdown",
   "metadata": {},
   "source": [
    "# Run on holdout set"
   ]
  },
  {
   "cell_type": "code",
   "execution_count": 137,
   "metadata": {
    "collapsed": false
   },
   "outputs": [
    {
     "data": {
      "text/plain": [
       "0.74354139012864584"
      ]
     },
     "execution_count": 137,
     "metadata": {},
     "output_type": "execute_result"
    }
   ],
   "source": [
    "# with domestic opening information\n",
    "lr.score(movie_features_holdout, movie_target_holdout)"
   ]
  },
  {
   "cell_type": "code",
   "execution_count": 147,
   "metadata": {
    "collapsed": false
   },
   "outputs": [
    {
     "data": {
      "text/plain": [
       "0.58801763143088182"
      ]
     },
     "execution_count": 147,
     "metadata": {},
     "output_type": "execute_result"
    }
   ],
   "source": [
    "# without domestic opening information\n",
    "movie_features_holdout_nodom = movie_features_holdout.drop(['DOMESTIC_OPENING'],axis=1)\n",
    "lr_nodom.score(movie_features_holdout_nodom,movie_target_holdout)"
   ]
  },
  {
   "cell_type": "markdown",
   "metadata": {},
   "source": [
    "# Random Forest"
   ]
  },
  {
   "cell_type": "code",
   "execution_count": 149,
   "metadata": {
    "collapsed": true
   },
   "outputs": [],
   "source": [
    "from sklearn.ensemble import RandomForestRegressor"
   ]
  },
  {
   "cell_type": "code",
   "execution_count": 154,
   "metadata": {
    "collapsed": false
   },
   "outputs": [
    {
     "name": "stdout",
     "output_type": "stream",
     "text": [
      "Random Forest result with no domestic information:  0.506716300637\n",
      "Random Forest result with domestic information:  0.715849883057\n"
     ]
    }
   ],
   "source": [
    "rf_nodom = RandomForestRegressor(n_estimators=1000,max_features=64)\n",
    "rf_nodom.fit(movie_features_train_nodom,movie_target_train)\n",
    "print \"Random Forest result with no domestic information: \", rf_nodom.score(movie_features_test_nodom,movie_target_test)\n",
    "\n",
    "rf = RandomForestRegressor(n_estimators=1000,max_features=65)\n",
    "rf.fit(movie_features_train,movie_target_train)\n",
    "print \"Random Forest result with domestic information: \", rf.score(movie_features_test,movie_target_test)\n",
    "\n"
   ]
  },
  {
   "cell_type": "code",
   "execution_count": 156,
   "metadata": {
    "collapsed": false
   },
   "outputs": [
    {
     "data": {
      "text/plain": [
       "array([  6.44441706e-01,   2.68666163e-01,   5.93186728e-03,\n",
       "         1.34510448e-02,   5.88185351e-05,   1.95142625e-03,\n",
       "         2.40346828e-04,   0.00000000e+00,   1.43254131e-03,\n",
       "         7.87780581e-04,   8.10374848e-03,   3.93258851e-04,\n",
       "         6.78131376e-03,   2.24593032e-03,   4.65653134e-04,\n",
       "         0.00000000e+00,   1.33651636e-05,   0.00000000e+00,\n",
       "         0.00000000e+00,   1.76921040e-04,   4.81455161e-05,\n",
       "         3.41836000e-05,   1.67882953e-03,   1.75096758e-03,\n",
       "         4.89168795e-04,   1.38734165e-03,   3.76747641e-03,\n",
       "         2.10436574e-03,   7.59628342e-06,   8.45721868e-05,\n",
       "         1.48293361e-04,   8.06419503e-05,   0.00000000e+00,\n",
       "         2.35011262e-06,   9.45561939e-04,   6.95116811e-05,\n",
       "         3.26742863e-05,   1.81571408e-06,   1.10696453e-05,\n",
       "         1.08457057e-04,   2.00799431e-04,   2.09297793e-05,\n",
       "         0.00000000e+00,   5.48704762e-05,   8.51928985e-04,\n",
       "         2.36651510e-04,   9.94491161e-05,   4.94834396e-04,\n",
       "         4.46505066e-03,   9.61610032e-04,   6.15651543e-07,\n",
       "         1.15104039e-03,   1.08202740e-03,   1.76539648e-03,\n",
       "         0.00000000e+00,   2.30707636e-04,   6.93823903e-04,\n",
       "         2.22799175e-05,   0.00000000e+00,   4.00632781e-04,\n",
       "         0.00000000e+00,   3.86881754e-03,   4.27153531e-03,\n",
       "         4.82079435e-03,   6.41129588e-03])"
      ]
     },
     "execution_count": 156,
     "metadata": {},
     "output_type": "execute_result"
    }
   ],
   "source": [
    "rf.feature_importances_"
   ]
  },
  {
   "cell_type": "markdown",
   "metadata": {},
   "source": [
    "# Gradient Boost"
   ]
  },
  {
   "cell_type": "code",
   "execution_count": null,
   "metadata": {
    "collapsed": true
   },
   "outputs": [],
   "source": []
  }
 ],
 "metadata": {
  "kernelspec": {
   "display_name": "Python 2",
   "language": "python",
   "name": "python2"
  },
  "language_info": {
   "codemirror_mode": {
    "name": "ipython",
    "version": 2
   },
   "file_extension": ".py",
   "mimetype": "text/x-python",
   "name": "python",
   "nbconvert_exporter": "python",
   "pygments_lexer": "ipython2",
   "version": "2.7.11"
  }
 },
 "nbformat": 4,
 "nbformat_minor": 0
}
