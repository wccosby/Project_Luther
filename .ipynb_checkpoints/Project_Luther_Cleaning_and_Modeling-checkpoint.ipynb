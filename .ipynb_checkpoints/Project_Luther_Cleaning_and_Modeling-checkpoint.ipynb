{
 "cells": [
  {
   "cell_type": "code",
   "execution_count": 1,
   "metadata": {
    "collapsed": false
   },
   "outputs": [
    {
     "data": {
      "text/html": [
       "<style>.container { width:100% !important; }</style>"
      ],
      "text/plain": [
       "<IPython.core.display.HTML object>"
      ]
     },
     "metadata": {},
     "output_type": "display_data"
    }
   ],
   "source": [
    "from IPython.core.display import display, HTML\n",
    "display(HTML(\"<style>.container { width:100% !important; }</style>\"))"
   ]
  },
  {
   "cell_type": "markdown",
   "metadata": {},
   "source": [
    "# Initial Analysis to see if foreign success predictions will work"
   ]
  },
  {
   "cell_type": "code",
   "execution_count": 1,
   "metadata": {
    "collapsed": false
   },
   "outputs": [],
   "source": [
    "import pandas as pd\n",
    "import numpy as np\n",
    "import matplotlib.pyplot as plt\n",
    "import glob\n",
    "%matplotlib inline"
   ]
  },
  {
   "cell_type": "code",
   "execution_count": 2,
   "metadata": {
    "collapsed": false
   },
   "outputs": [],
   "source": [
    "################## Make it this way (the fast way) for the blog post\n",
    "# load data into list of lists and then put it into pandas\n",
    "##################\n",
    "\n",
    "allFiles = glob.glob(\"/Users/williamcosby/Documents/metis/Project_Luther/movie_*.csv\")\n",
    "movie_data = pd.DataFrame()\n",
    "list_ = []\n",
    "for file_ in allFiles:\n",
    "    df = pd.read_csv(file_,index_col=None, header=0)\n",
    "    list_.append(df)\n",
    "movie_data_raw = pd.concat(list_)"
   ]
  },
  {
   "cell_type": "code",
   "execution_count": 3,
   "metadata": {
    "collapsed": false
   },
   "outputs": [],
   "source": [
    "# movie_data_2015_2016 = pd.read_csv('movie_data_2015_2016.csv')"
   ]
  },
  {
   "cell_type": "code",
   "execution_count": 4,
   "metadata": {
    "collapsed": false
   },
   "outputs": [
    {
     "data": {
      "text/html": [
       "<div>\n",
       "<table border=\"1\" class=\"dataframe\">\n",
       "  <thead>\n",
       "    <tr style=\"text-align: right;\">\n",
       "      <th></th>\n",
       "      <th>MOVIE_NAME</th>\n",
       "      <th>DOMESTIC_OPENING</th>\n",
       "      <th>FOREIGN_TOTAL</th>\n",
       "      <th>BUDGET</th>\n",
       "      <th>GENRE</th>\n",
       "      <th>RELEASE_DATE</th>\n",
       "    </tr>\n",
       "  </thead>\n",
       "  <tbody>\n",
       "    <tr>\n",
       "      <th>0</th>\n",
       "      <td>Marvel's The Avengers</td>\n",
       "      <td>207438708</td>\n",
       "      <td>896200000</td>\n",
       "      <td>220000000.0</td>\n",
       "      <td>Action / Adventure</td>\n",
       "      <td>2012-05-04 00:00:00</td>\n",
       "    </tr>\n",
       "    <tr>\n",
       "      <th>1</th>\n",
       "      <td>The Dark Knight Rises</td>\n",
       "      <td>160887295</td>\n",
       "      <td>636800000</td>\n",
       "      <td>250000000.0</td>\n",
       "      <td>Action Thriller</td>\n",
       "      <td>2012-07-20 00:00:00</td>\n",
       "    </tr>\n",
       "    <tr>\n",
       "      <th>2</th>\n",
       "      <td>The Hunger Games</td>\n",
       "      <td>152535747</td>\n",
       "      <td>286384032</td>\n",
       "      <td>78000000.0</td>\n",
       "      <td>Action / Adventure</td>\n",
       "      <td>2012-03-23 00:00:00</td>\n",
       "    </tr>\n",
       "    <tr>\n",
       "      <th>3</th>\n",
       "      <td>Skyfall</td>\n",
       "      <td>88364714</td>\n",
       "      <td>804200736</td>\n",
       "      <td>200000000.0</td>\n",
       "      <td>Action</td>\n",
       "      <td>2012-11-09 00:00:00</td>\n",
       "    </tr>\n",
       "    <tr>\n",
       "      <th>4</th>\n",
       "      <td>The Hobbit:An Unexpected Journey</td>\n",
       "      <td>84617303</td>\n",
       "      <td>718100000</td>\n",
       "      <td>0.0</td>\n",
       "      <td>Fantasy</td>\n",
       "      <td>2012-12-14 00:00:00</td>\n",
       "    </tr>\n",
       "  </tbody>\n",
       "</table>\n",
       "</div>"
      ],
      "text/plain": [
       "                         MOVIE_NAME  DOMESTIC_OPENING  FOREIGN_TOTAL  \\\n",
       "0             Marvel's The Avengers         207438708      896200000   \n",
       "1             The Dark Knight Rises         160887295      636800000   \n",
       "2                  The Hunger Games         152535747      286384032   \n",
       "3                           Skyfall          88364714      804200736   \n",
       "4  The Hobbit:An Unexpected Journey          84617303      718100000   \n",
       "\n",
       "        BUDGET               GENRE         RELEASE_DATE  \n",
       "0  220000000.0  Action / Adventure  2012-05-04 00:00:00  \n",
       "1  250000000.0     Action Thriller  2012-07-20 00:00:00  \n",
       "2   78000000.0  Action / Adventure  2012-03-23 00:00:00  \n",
       "3  200000000.0              Action  2012-11-09 00:00:00  \n",
       "4          0.0             Fantasy  2012-12-14 00:00:00  "
      ]
     },
     "execution_count": 4,
     "metadata": {},
     "output_type": "execute_result"
    }
   ],
   "source": [
    "movie_data_raw.head()"
   ]
  },
  {
   "cell_type": "markdown",
   "metadata": {},
   "source": [
    "# Set the index to the movie name (dont need it in the analysis)"
   ]
  },
  {
   "cell_type": "code",
   "execution_count": 5,
   "metadata": {
    "collapsed": true
   },
   "outputs": [],
   "source": [
    "movie_data_raw = movie_data_raw.set_index(['MOVIE_NAME'])"
   ]
  },
  {
   "cell_type": "markdown",
   "metadata": {},
   "source": [
    "# Read in director, writer, actor, and producer information"
   ]
  },
  {
   "cell_type": "code",
   "execution_count": 6,
   "metadata": {
    "collapsed": false
   },
   "outputs": [],
   "source": [
    "director_data_raw = pd.read_csv('/Users/williamcosby/Documents/metis/Project_Luther/director_data.csv')\n",
    "actor_data_raw = pd.read_csv('/Users/williamcosby/Documents/metis/Project_Luther/actor_data.csv')\n",
    "writer_data_raw = pd.read_csv('/Users/williamcosby/Documents/metis/Project_Luther/writer_data.csv')\n",
    "producer_data_raw = pd.read_csv('/Users/williamcosby/Documents/metis/Project_Luther/producer_data.csv')"
   ]
  },
  {
   "cell_type": "code",
   "execution_count": 7,
   "metadata": {
    "collapsed": false
   },
   "outputs": [
    {
     "data": {
      "text/html": [
       "<div>\n",
       "<table border=\"1\" class=\"dataframe\">\n",
       "  <thead>\n",
       "    <tr style=\"text-align: right;\">\n",
       "      <th></th>\n",
       "      <th>MOVIE_NAME</th>\n",
       "      <th>PRODUCER</th>\n",
       "    </tr>\n",
       "  </thead>\n",
       "  <tbody>\n",
       "    <tr>\n",
       "      <th>0</th>\n",
       "      <td>Finding Dory</td>\n",
       "      <td>Thomas Newman</td>\n",
       "    </tr>\n",
       "    <tr>\n",
       "      <th>1</th>\n",
       "      <td>Captain America:Civil War</td>\n",
       "      <td>Kevin Feige</td>\n",
       "    </tr>\n",
       "    <tr>\n",
       "      <th>2</th>\n",
       "      <td>Captain America:Civil War</td>\n",
       "      <td>Henry Jackman</td>\n",
       "    </tr>\n",
       "    <tr>\n",
       "      <th>3</th>\n",
       "      <td>Deadpool</td>\n",
       "      <td>Lauren Schuler Donner</td>\n",
       "    </tr>\n",
       "    <tr>\n",
       "      <th>4</th>\n",
       "      <td>Deadpool</td>\n",
       "      <td>Simon Kinberg</td>\n",
       "    </tr>\n",
       "  </tbody>\n",
       "</table>\n",
       "</div>"
      ],
      "text/plain": [
       "                  MOVIE_NAME               PRODUCER\n",
       "0               Finding Dory          Thomas Newman\n",
       "1  Captain America:Civil War            Kevin Feige\n",
       "2  Captain America:Civil War          Henry Jackman\n",
       "3                   Deadpool  Lauren Schuler Donner\n",
       "4                   Deadpool          Simon Kinberg"
      ]
     },
     "execution_count": 7,
     "metadata": {},
     "output_type": "execute_result"
    }
   ],
   "source": [
    "producer_data_raw.head(5)"
   ]
  },
  {
   "cell_type": "markdown",
   "metadata": {},
   "source": [
    "### make the movie name the index"
   ]
  },
  {
   "cell_type": "code",
   "execution_count": 8,
   "metadata": {
    "collapsed": false
   },
   "outputs": [],
   "source": [
    "director_data = director_data_raw.set_index(['MOVIE_NAME'])\n",
    "writer_data = writer_data_raw.set_index(['MOVIE_NAME'])\n",
    "actor_data = actor_data_raw.set_index(['MOVIE_NAME'])\n",
    "producer_data = producer_data_raw.set_index(['MOVIE_NAME'])"
   ]
  },
  {
   "cell_type": "code",
   "execution_count": 9,
   "metadata": {
    "collapsed": false
   },
   "outputs": [
    {
     "data": {
      "text/html": [
       "<div>\n",
       "<table border=\"1\" class=\"dataframe\">\n",
       "  <thead>\n",
       "    <tr style=\"text-align: right;\">\n",
       "      <th></th>\n",
       "      <th>DIRECTOR</th>\n",
       "    </tr>\n",
       "    <tr>\n",
       "      <th>MOVIE_NAME</th>\n",
       "      <th></th>\n",
       "    </tr>\n",
       "  </thead>\n",
       "  <tbody>\n",
       "    <tr>\n",
       "      <th>Finding Dory</th>\n",
       "      <td>Andrew Stanton</td>\n",
       "    </tr>\n",
       "    <tr>\n",
       "      <th>Captain America:Civil War</th>\n",
       "      <td>Anthony Russo</td>\n",
       "    </tr>\n",
       "    <tr>\n",
       "      <th>Captain America:Civil War</th>\n",
       "      <td>Joe Russo</td>\n",
       "    </tr>\n",
       "    <tr>\n",
       "      <th>The Jungle Book (2016)</th>\n",
       "      <td>Jon Favreau</td>\n",
       "    </tr>\n",
       "    <tr>\n",
       "      <th>Zootopia</th>\n",
       "      <td>Rich Moore</td>\n",
       "    </tr>\n",
       "  </tbody>\n",
       "</table>\n",
       "</div>"
      ],
      "text/plain": [
       "                                 DIRECTOR\n",
       "MOVIE_NAME                               \n",
       "Finding Dory               Andrew Stanton\n",
       "Captain America:Civil War   Anthony Russo\n",
       "Captain America:Civil War       Joe Russo\n",
       "The Jungle Book (2016)        Jon Favreau\n",
       "Zootopia                       Rich Moore"
      ]
     },
     "execution_count": 9,
     "metadata": {},
     "output_type": "execute_result"
    }
   ],
   "source": [
    "director_data.head(5)"
   ]
  },
  {
   "cell_type": "code",
   "execution_count": 10,
   "metadata": {
    "collapsed": false
   },
   "outputs": [
    {
     "data": {
      "text/html": [
       "<div>\n",
       "<table border=\"1\" class=\"dataframe\">\n",
       "  <thead>\n",
       "    <tr style=\"text-align: right;\">\n",
       "      <th></th>\n",
       "      <th>ACTOR</th>\n",
       "    </tr>\n",
       "    <tr>\n",
       "      <th>MOVIE_NAME</th>\n",
       "      <th></th>\n",
       "    </tr>\n",
       "  </thead>\n",
       "  <tbody>\n",
       "    <tr>\n",
       "      <th>Finding Dory</th>\n",
       "      <td>Ellen DeGeneres</td>\n",
       "    </tr>\n",
       "    <tr>\n",
       "      <th>Finding Dory</th>\n",
       "      <td>Albert Brooks</td>\n",
       "    </tr>\n",
       "    <tr>\n",
       "      <th>Finding Dory</th>\n",
       "      <td>Ty Burrell*</td>\n",
       "    </tr>\n",
       "    <tr>\n",
       "      <th>Finding Dory</th>\n",
       "      <td>Diane Keaton*</td>\n",
       "    </tr>\n",
       "    <tr>\n",
       "      <th>Finding Dory</th>\n",
       "      <td>Idris Elba*</td>\n",
       "    </tr>\n",
       "  </tbody>\n",
       "</table>\n",
       "</div>"
      ],
      "text/plain": [
       "                        ACTOR\n",
       "MOVIE_NAME                   \n",
       "Finding Dory  Ellen DeGeneres\n",
       "Finding Dory    Albert Brooks\n",
       "Finding Dory      Ty Burrell*\n",
       "Finding Dory    Diane Keaton*\n",
       "Finding Dory      Idris Elba*"
      ]
     },
     "execution_count": 10,
     "metadata": {},
     "output_type": "execute_result"
    }
   ],
   "source": [
    "actor_data.head(5)"
   ]
  },
  {
   "cell_type": "code",
   "execution_count": 11,
   "metadata": {
    "collapsed": false
   },
   "outputs": [
    {
     "data": {
      "text/html": [
       "<div>\n",
       "<table border=\"1\" class=\"dataframe\">\n",
       "  <thead>\n",
       "    <tr style=\"text-align: right;\">\n",
       "      <th></th>\n",
       "      <th>WRITER</th>\n",
       "    </tr>\n",
       "    <tr>\n",
       "      <th>MOVIE_NAME</th>\n",
       "      <th></th>\n",
       "    </tr>\n",
       "  </thead>\n",
       "  <tbody>\n",
       "    <tr>\n",
       "      <th>Finding Dory</th>\n",
       "      <td>Andrew Stanton</td>\n",
       "    </tr>\n",
       "    <tr>\n",
       "      <th>Captain America:Civil War</th>\n",
       "      <td>Christopher Markus</td>\n",
       "    </tr>\n",
       "    <tr>\n",
       "      <th>Captain America:Civil War</th>\n",
       "      <td>Stephen McFeely</td>\n",
       "    </tr>\n",
       "    <tr>\n",
       "      <th>Deadpool</th>\n",
       "      <td>Rhett Reese</td>\n",
       "    </tr>\n",
       "    <tr>\n",
       "      <th>Deadpool</th>\n",
       "      <td>Paul Wernick</td>\n",
       "    </tr>\n",
       "  </tbody>\n",
       "</table>\n",
       "</div>"
      ],
      "text/plain": [
       "                                       WRITER\n",
       "MOVIE_NAME                                   \n",
       "Finding Dory                   Andrew Stanton\n",
       "Captain America:Civil War  Christopher Markus\n",
       "Captain America:Civil War     Stephen McFeely\n",
       "Deadpool                          Rhett Reese\n",
       "Deadpool                         Paul Wernick"
      ]
     },
     "execution_count": 11,
     "metadata": {},
     "output_type": "execute_result"
    }
   ],
   "source": [
    "writer_data.head(5)"
   ]
  },
  {
   "cell_type": "code",
   "execution_count": 12,
   "metadata": {
    "collapsed": false
   },
   "outputs": [
    {
     "data": {
      "text/html": [
       "<div>\n",
       "<table border=\"1\" class=\"dataframe\">\n",
       "  <thead>\n",
       "    <tr style=\"text-align: right;\">\n",
       "      <th></th>\n",
       "      <th>PRODUCER</th>\n",
       "    </tr>\n",
       "    <tr>\n",
       "      <th>MOVIE_NAME</th>\n",
       "      <th></th>\n",
       "    </tr>\n",
       "  </thead>\n",
       "  <tbody>\n",
       "    <tr>\n",
       "      <th>Finding Dory</th>\n",
       "      <td>Thomas Newman</td>\n",
       "    </tr>\n",
       "    <tr>\n",
       "      <th>Captain America:Civil War</th>\n",
       "      <td>Kevin Feige</td>\n",
       "    </tr>\n",
       "    <tr>\n",
       "      <th>Captain America:Civil War</th>\n",
       "      <td>Henry Jackman</td>\n",
       "    </tr>\n",
       "    <tr>\n",
       "      <th>Deadpool</th>\n",
       "      <td>Lauren Schuler Donner</td>\n",
       "    </tr>\n",
       "    <tr>\n",
       "      <th>Deadpool</th>\n",
       "      <td>Simon Kinberg</td>\n",
       "    </tr>\n",
       "  </tbody>\n",
       "</table>\n",
       "</div>"
      ],
      "text/plain": [
       "                                        PRODUCER\n",
       "MOVIE_NAME                                      \n",
       "Finding Dory                       Thomas Newman\n",
       "Captain America:Civil War            Kevin Feige\n",
       "Captain America:Civil War          Henry Jackman\n",
       "Deadpool                   Lauren Schuler Donner\n",
       "Deadpool                           Simon Kinberg"
      ]
     },
     "execution_count": 12,
     "metadata": {},
     "output_type": "execute_result"
    }
   ],
   "source": [
    "producer_data.head(5)"
   ]
  },
  {
   "cell_type": "markdown",
   "metadata": {},
   "source": [
    "### Vectorize the director data"
   ]
  },
  {
   "cell_type": "code",
   "execution_count": 13,
   "metadata": {
    "collapsed": true
   },
   "outputs": [],
   "source": [
    "def vectorize_director(row):\n",
    "    row[row['DIRECTOR']] = 1\n",
    "    return pd.Series(row)\n",
    "def vectorize_writer(row):\n",
    "    row[row['WRITER']] = 1\n",
    "    return pd.Series(row)\n",
    "def vectorize_producer(row):\n",
    "    row[row['PRODUCER']] = 1\n",
    "    return pd.Series(row)\n",
    "def vectorize_actor(row):\n",
    "    row[row['ACTOR']] = 1\n",
    "    return pd.Series(row)"
   ]
  },
  {
   "cell_type": "code",
   "execution_count": 14,
   "metadata": {
    "collapsed": false
   },
   "outputs": [],
   "source": [
    "director_data = director_data.apply(vectorize_director,axis=1).fillna(0)\n",
    "writer_data = writer_data.apply(vectorize_writer,axis=1).fillna(0)\n",
    "producer_data = producer_data.apply(vectorize_producer,axis=1).fillna(0)\n",
    "actor_data = actor_data.apply(vectorize_actor,axis=1).fillna(0)"
   ]
  },
  {
   "cell_type": "code",
   "execution_count": 15,
   "metadata": {
    "collapsed": false
   },
   "outputs": [],
   "source": [
    "# drop the original column that still has the names\n",
    "\n",
    "director_data.drop(['DIRECTOR'],inplace=True)\n",
    "actor_data.drop(['ACTOR'],inplace=True)\n",
    "producer_data.drop(['PRODUCER'],inplace=True)\n",
    "writer_data.drop(['WRITER'],inplace=True)\n"
   ]
  },
  {
   "cell_type": "markdown",
   "metadata": {},
   "source": [
    "## Collapse the rows onto eachother if they are the same movie (so each movie is only in there once)"
   ]
  },
  {
   "cell_type": "code",
   "execution_count": 16,
   "metadata": {
    "collapsed": true
   },
   "outputs": [],
   "source": [
    "director_data_collapsed = director_data.groupby(director_data.index).sum()\n",
    "actor_data_collapsed = actor_data.groupby(actor_data.index).sum()\n",
    "writer_data_collapsed = writer_data.groupby(writer_data.index).sum()\n",
    "producer_data_collapsed = producer_data.groupby(producer_data.index).sum()"
   ]
  },
  {
   "cell_type": "markdown",
   "metadata": {},
   "source": [
    "## Want to multiply every value in each column by the sum of that column...this represents the director's experience"
   ]
  },
  {
   "cell_type": "code",
   "execution_count": 17,
   "metadata": {
    "collapsed": true
   },
   "outputs": [],
   "source": [
    "def sum_exp(row):\n",
    "    row = row*row.sum(axis=0)\n",
    "    return pd.Series(row)"
   ]
  },
  {
   "cell_type": "code",
   "execution_count": 18,
   "metadata": {
    "collapsed": true
   },
   "outputs": [],
   "source": [
    "director_data_transpose = director_data_collapsed.transpose()\n",
    "director_data_transpose_summed = director_data_transpose.apply(sum_exp,axis=1)\n",
    "director_data = director_data_transpose_summed.transpose()\n",
    "# director_data.head(10)\n",
    "\n",
    "actor_data_transpose = actor_data_collapsed.transpose()\n",
    "actor_data_transpose_summed = actor_data_transpose.apply(sum_exp,axis=1)\n",
    "actor_data = actor_data_transpose_summed.transpose()\n",
    "\n",
    "writer_data_transpose = writer_data_collapsed.transpose()\n",
    "writer_data_transpose_summed = writer_data_transpose.apply(sum_exp,axis=1)\n",
    "writer_data = writer_data_transpose_summed.transpose()\n",
    "\n",
    "producer_data_transpose = producer_data_collapsed.transpose()\n",
    "producer_data_transpose_summed = producer_data_transpose.apply(sum_exp,axis=1)\n",
    "producer_data = producer_data_transpose_summed.transpose()"
   ]
  },
  {
   "cell_type": "code",
   "execution_count": 19,
   "metadata": {
    "collapsed": true
   },
   "outputs": [],
   "source": [
    "director_data['DIRECTOR_EXP'] = director_data.sum(axis=1)\n",
    "director_experience = director_data['DIRECTOR_EXP']\n",
    "director_experience = director_experience.to_frame('DIRECTOR_EXP')\n",
    "\n",
    "actor_data['ACTOR_EXP'] = actor_data.sum(axis=1)\n",
    "actor_experience = actor_data['ACTOR_EXP']\n",
    "actor_experience = actor_experience.to_frame('ACTOR_EXP')\n",
    "\n",
    "producer_data['PRODUCER_EXP'] = producer_data.sum(axis=1)\n",
    "producer_experience = producer_data['PRODUCER_EXP']\n",
    "producer_experience = producer_experience.to_frame('PRODUCER_EXP')\n",
    "\n",
    "writer_data['WRITER_EXP'] = writer_data.sum(axis=1)\n",
    "writer_experience = writer_data['WRITER_EXP']\n",
    "writer_experience = writer_experience.to_frame('WRITER_EXP')"
   ]
  },
  {
   "cell_type": "code",
   "execution_count": 20,
   "metadata": {
    "collapsed": false
   },
   "outputs": [
    {
     "data": {
      "text/html": [
       "<div>\n",
       "<table border=\"1\" class=\"dataframe\">\n",
       "  <thead>\n",
       "    <tr style=\"text-align: right;\">\n",
       "      <th></th>\n",
       "      <th>DIRECTOR_EXP</th>\n",
       "    </tr>\n",
       "  </thead>\n",
       "  <tbody>\n",
       "    <tr>\n",
       "      <th>count</th>\n",
       "      <td>1147.00000</td>\n",
       "    </tr>\n",
       "    <tr>\n",
       "      <th>mean</th>\n",
       "      <td>2.51177</td>\n",
       "    </tr>\n",
       "    <tr>\n",
       "      <th>std</th>\n",
       "      <td>1.44068</td>\n",
       "    </tr>\n",
       "    <tr>\n",
       "      <th>min</th>\n",
       "      <td>1.00000</td>\n",
       "    </tr>\n",
       "    <tr>\n",
       "      <th>25%</th>\n",
       "      <td>1.00000</td>\n",
       "    </tr>\n",
       "    <tr>\n",
       "      <th>50%</th>\n",
       "      <td>2.00000</td>\n",
       "    </tr>\n",
       "    <tr>\n",
       "      <th>75%</th>\n",
       "      <td>3.00000</td>\n",
       "    </tr>\n",
       "    <tr>\n",
       "      <th>max</th>\n",
       "      <td>8.00000</td>\n",
       "    </tr>\n",
       "  </tbody>\n",
       "</table>\n",
       "</div>"
      ],
      "text/plain": [
       "       DIRECTOR_EXP\n",
       "count    1147.00000\n",
       "mean        2.51177\n",
       "std         1.44068\n",
       "min         1.00000\n",
       "25%         1.00000\n",
       "50%         2.00000\n",
       "75%         3.00000\n",
       "max         8.00000"
      ]
     },
     "execution_count": 20,
     "metadata": {},
     "output_type": "execute_result"
    }
   ],
   "source": [
    "director_experience.describe()"
   ]
  },
  {
   "cell_type": "code",
   "execution_count": 21,
   "metadata": {
    "collapsed": false
   },
   "outputs": [
    {
     "data": {
      "text/html": [
       "<div>\n",
       "<table border=\"1\" class=\"dataframe\">\n",
       "  <thead>\n",
       "    <tr style=\"text-align: right;\">\n",
       "      <th></th>\n",
       "      <th>ACTOR_EXP</th>\n",
       "    </tr>\n",
       "  </thead>\n",
       "  <tbody>\n",
       "    <tr>\n",
       "      <th>count</th>\n",
       "      <td>1639.000000</td>\n",
       "    </tr>\n",
       "    <tr>\n",
       "      <th>mean</th>\n",
       "      <td>28.258694</td>\n",
       "    </tr>\n",
       "    <tr>\n",
       "      <th>std</th>\n",
       "      <td>21.533067</td>\n",
       "    </tr>\n",
       "    <tr>\n",
       "      <th>min</th>\n",
       "      <td>1.000000</td>\n",
       "    </tr>\n",
       "    <tr>\n",
       "      <th>25%</th>\n",
       "      <td>12.000000</td>\n",
       "    </tr>\n",
       "    <tr>\n",
       "      <th>50%</th>\n",
       "      <td>23.000000</td>\n",
       "    </tr>\n",
       "    <tr>\n",
       "      <th>75%</th>\n",
       "      <td>40.000000</td>\n",
       "    </tr>\n",
       "    <tr>\n",
       "      <th>max</th>\n",
       "      <td>182.000000</td>\n",
       "    </tr>\n",
       "  </tbody>\n",
       "</table>\n",
       "</div>"
      ],
      "text/plain": [
       "         ACTOR_EXP\n",
       "count  1639.000000\n",
       "mean     28.258694\n",
       "std      21.533067\n",
       "min       1.000000\n",
       "25%      12.000000\n",
       "50%      23.000000\n",
       "75%      40.000000\n",
       "max     182.000000"
      ]
     },
     "execution_count": 21,
     "metadata": {},
     "output_type": "execute_result"
    }
   ],
   "source": [
    "actor_experience.describe()"
   ]
  },
  {
   "cell_type": "markdown",
   "metadata": {},
   "source": [
    "# Now need to merge the datasets"
   ]
  },
  {
   "cell_type": "code",
   "execution_count": 22,
   "metadata": {
    "collapsed": false
   },
   "outputs": [],
   "source": [
    "direct_act_joined = director_experience.join(actor_experience)\n",
    "direct_act_prod_joined = direct_act_joined.join(producer_experience)\n",
    "full_people_joined = direct_act_prod_joined.join(writer_experience)"
   ]
  },
  {
   "cell_type": "code",
   "execution_count": 23,
   "metadata": {
    "collapsed": false,
    "scrolled": true
   },
   "outputs": [
    {
     "data": {
      "text/html": [
       "<div>\n",
       "<table border=\"1\" class=\"dataframe\">\n",
       "  <thead>\n",
       "    <tr style=\"text-align: right;\">\n",
       "      <th></th>\n",
       "      <th>DIRECTOR_EXP</th>\n",
       "      <th>ACTOR_EXP</th>\n",
       "      <th>PRODUCER_EXP</th>\n",
       "      <th>WRITER_EXP</th>\n",
       "    </tr>\n",
       "    <tr>\n",
       "      <th>MOVIE_NAME</th>\n",
       "      <th></th>\n",
       "      <th></th>\n",
       "      <th></th>\n",
       "      <th></th>\n",
       "    </tr>\n",
       "  </thead>\n",
       "  <tbody>\n",
       "    <tr>\n",
       "      <th>10 Years</th>\n",
       "      <td>1.0</td>\n",
       "      <td>99.0</td>\n",
       "      <td>14.0</td>\n",
       "      <td>2.0</td>\n",
       "    </tr>\n",
       "    <tr>\n",
       "      <th>11-11-11</th>\n",
       "      <td>1.0</td>\n",
       "      <td>NaN</td>\n",
       "      <td>NaN</td>\n",
       "      <td>1.0</td>\n",
       "    </tr>\n",
       "    <tr>\n",
       "      <th>12 Years a Slave</th>\n",
       "      <td>2.0</td>\n",
       "      <td>95.0</td>\n",
       "      <td>72.0</td>\n",
       "      <td>3.0</td>\n",
       "    </tr>\n",
       "    <tr>\n",
       "      <th>127 Hours</th>\n",
       "      <td>3.0</td>\n",
       "      <td>23.0</td>\n",
       "      <td>5.0</td>\n",
       "      <td>5.0</td>\n",
       "    </tr>\n",
       "    <tr>\n",
       "      <th>13 Hours:The Secret Soldiers of Benghazi</th>\n",
       "      <td>4.0</td>\n",
       "      <td>8.0</td>\n",
       "      <td>NaN</td>\n",
       "      <td>NaN</td>\n",
       "    </tr>\n",
       "  </tbody>\n",
       "</table>\n",
       "</div>"
      ],
      "text/plain": [
       "                                          DIRECTOR_EXP  ACTOR_EXP  \\\n",
       "MOVIE_NAME                                                          \n",
       "10 Years                                           1.0       99.0   \n",
       "11-11-11                                           1.0        NaN   \n",
       "12 Years a Slave                                   2.0       95.0   \n",
       "127 Hours                                          3.0       23.0   \n",
       "13 Hours:The Secret Soldiers of Benghazi           4.0        8.0   \n",
       "\n",
       "                                          PRODUCER_EXP  WRITER_EXP  \n",
       "MOVIE_NAME                                                          \n",
       "10 Years                                          14.0         2.0  \n",
       "11-11-11                                           NaN         1.0  \n",
       "12 Years a Slave                                  72.0         3.0  \n",
       "127 Hours                                          5.0         5.0  \n",
       "13 Hours:The Secret Soldiers of Benghazi           NaN         NaN  "
      ]
     },
     "execution_count": 23,
     "metadata": {},
     "output_type": "execute_result"
    }
   ],
   "source": [
    "full_people_joined.head()"
   ]
  },
  {
   "cell_type": "markdown",
   "metadata": {},
   "source": [
    "# Merge people data with the full dataset"
   ]
  },
  {
   "cell_type": "code",
   "execution_count": 24,
   "metadata": {
    "collapsed": true
   },
   "outputs": [],
   "source": [
    "movie_data_raw = movie_data_raw.join(full_people_joined)"
   ]
  },
  {
   "cell_type": "markdown",
   "metadata": {},
   "source": [
    "# Find number of movies that have foreign gross info"
   ]
  },
  {
   "cell_type": "code",
   "execution_count": 25,
   "metadata": {
    "collapsed": false
   },
   "outputs": [
    {
     "data": {
      "text/plain": [
       "Index([u'DOMESTIC_OPENING', u'FOREIGN_TOTAL', u'BUDGET', u'GENRE',\n",
       "       u'RELEASE_DATE', u'DIRECTOR_EXP', u'ACTOR_EXP', u'PRODUCER_EXP',\n",
       "       u'WRITER_EXP'],\n",
       "      dtype='object')"
      ]
     },
     "execution_count": 25,
     "metadata": {},
     "output_type": "execute_result"
    }
   ],
   "source": [
    "movie_data_raw.columns"
   ]
  },
  {
   "cell_type": "code",
   "execution_count": 26,
   "metadata": {
    "collapsed": false
   },
   "outputs": [
    {
     "data": {
      "text/plain": [
       "(4256, 9)"
      ]
     },
     "execution_count": 26,
     "metadata": {},
     "output_type": "execute_result"
    }
   ],
   "source": [
    "# total number of movies\n",
    "movie_data_raw.shape"
   ]
  },
  {
   "cell_type": "code",
   "execution_count": 27,
   "metadata": {
    "collapsed": false
   },
   "outputs": [
    {
     "data": {
      "text/plain": [
       "(1528, 9)"
      ]
     },
     "execution_count": 27,
     "metadata": {},
     "output_type": "execute_result"
    }
   ],
   "source": [
    "# movies with foreign earnings information\n",
    "movie_data_raw[movie_data_raw['FOREIGN_TOTAL']!=0].shape"
   ]
  },
  {
   "cell_type": "markdown",
   "metadata": {},
   "source": [
    "# Subset to get just the movies with foreign earnings information"
   ]
  },
  {
   "cell_type": "code",
   "execution_count": 28,
   "metadata": {
    "collapsed": true
   },
   "outputs": [],
   "source": [
    "movie_data = movie_data_raw[movie_data_raw['FOREIGN_TOTAL']!=0]"
   ]
  },
  {
   "cell_type": "code",
   "execution_count": 29,
   "metadata": {
    "collapsed": false
   },
   "outputs": [
    {
     "name": "stdout",
     "output_type": "stream",
     "text": [
      "<class 'pandas.core.frame.DataFrame'>\n",
      "Index: 1528 entries, '71 to [Rec] 2\n",
      "Data columns (total 9 columns):\n",
      "DOMESTIC_OPENING    1528 non-null int64\n",
      "FOREIGN_TOTAL       1528 non-null int64\n",
      "BUDGET              1527 non-null float64\n",
      "GENRE               1528 non-null object\n",
      "RELEASE_DATE        1528 non-null object\n",
      "DIRECTOR_EXP        883 non-null float64\n",
      "ACTOR_EXP           810 non-null float64\n",
      "PRODUCER_EXP        762 non-null float64\n",
      "WRITER_EXP          711 non-null float64\n",
      "dtypes: float64(5), int64(2), object(2)\n",
      "memory usage: 119.4+ KB\n"
     ]
    }
   ],
   "source": [
    "movie_data.info()"
   ]
  },
  {
   "cell_type": "markdown",
   "metadata": {},
   "source": [
    "# Start some analysis"
   ]
  },
  {
   "cell_type": "markdown",
   "metadata": {},
   "source": [
    "## Combine the genres so they arent \"action / adventure\""
   ]
  },
  {
   "cell_type": "code",
   "execution_count": 30,
   "metadata": {
    "collapsed": true
   },
   "outputs": [],
   "source": [
    "def split_genres(row):\n",
    "    genres=[]\n",
    "    if '/' in row['GENRE']:\n",
    "        genres = row['GENRE'].split('/')\n",
    "    else:\n",
    "        genres = row['GENRE'].split()\n",
    "    for genre in genres:\n",
    "        # need to strip the whitespace off the columns to avoid things like 'Action' and 'Action '\n",
    "        row[genre.strip()] = 1\n",
    "    return pd.Series(row)"
   ]
  },
  {
   "cell_type": "code",
   "execution_count": 31,
   "metadata": {
    "collapsed": false
   },
   "outputs": [],
   "source": [
    "movie_data_split = movie_data.apply(split_genres,axis=1)"
   ]
  },
  {
   "cell_type": "code",
   "execution_count": 32,
   "metadata": {
    "collapsed": false
   },
   "outputs": [
    {
     "data": {
      "text/html": [
       "<div>\n",
       "<table border=\"1\" class=\"dataframe\">\n",
       "  <thead>\n",
       "    <tr style=\"text-align: right;\">\n",
       "      <th></th>\n",
       "      <th>ACTOR_EXP</th>\n",
       "      <th>Action</th>\n",
       "      <th>Adventure</th>\n",
       "      <th>Animation</th>\n",
       "      <th>BUDGET</th>\n",
       "      <th>Comedy</th>\n",
       "      <th>Concert</th>\n",
       "      <th>Crime</th>\n",
       "      <th>DIRECTOR_EXP</th>\n",
       "      <th>DOMESTIC_OPENING</th>\n",
       "      <th>...</th>\n",
       "      <th>Period</th>\n",
       "      <th>RELEASE_DATE</th>\n",
       "      <th>Romance</th>\n",
       "      <th>Romantic</th>\n",
       "      <th>Sci-Fi</th>\n",
       "      <th>Sports</th>\n",
       "      <th>Thriller</th>\n",
       "      <th>WRITER_EXP</th>\n",
       "      <th>War</th>\n",
       "      <th>Western</th>\n",
       "    </tr>\n",
       "    <tr>\n",
       "      <th>MOVIE_NAME</th>\n",
       "      <th></th>\n",
       "      <th></th>\n",
       "      <th></th>\n",
       "      <th></th>\n",
       "      <th></th>\n",
       "      <th></th>\n",
       "      <th></th>\n",
       "      <th></th>\n",
       "      <th></th>\n",
       "      <th></th>\n",
       "      <th></th>\n",
       "      <th></th>\n",
       "      <th></th>\n",
       "      <th></th>\n",
       "      <th></th>\n",
       "      <th></th>\n",
       "      <th></th>\n",
       "      <th></th>\n",
       "      <th></th>\n",
       "      <th></th>\n",
       "      <th></th>\n",
       "    </tr>\n",
       "  </thead>\n",
       "  <tbody>\n",
       "    <tr>\n",
       "      <th>'71</th>\n",
       "      <td>NaN</td>\n",
       "      <td>NaN</td>\n",
       "      <td>NaN</td>\n",
       "      <td>NaN</td>\n",
       "      <td>0.0</td>\n",
       "      <td>NaN</td>\n",
       "      <td>NaN</td>\n",
       "      <td>NaN</td>\n",
       "      <td>NaN</td>\n",
       "      <td>55761</td>\n",
       "      <td>...</td>\n",
       "      <td>NaN</td>\n",
       "      <td>2015-02-27 00:00:00</td>\n",
       "      <td>NaN</td>\n",
       "      <td>NaN</td>\n",
       "      <td>NaN</td>\n",
       "      <td>NaN</td>\n",
       "      <td>NaN</td>\n",
       "      <td>NaN</td>\n",
       "      <td>1.0</td>\n",
       "      <td>NaN</td>\n",
       "    </tr>\n",
       "    <tr>\n",
       "      <th>10 Cloverfield Lane</th>\n",
       "      <td>NaN</td>\n",
       "      <td>NaN</td>\n",
       "      <td>NaN</td>\n",
       "      <td>NaN</td>\n",
       "      <td>0.0</td>\n",
       "      <td>NaN</td>\n",
       "      <td>NaN</td>\n",
       "      <td>NaN</td>\n",
       "      <td>NaN</td>\n",
       "      <td>24727437</td>\n",
       "      <td>...</td>\n",
       "      <td>NaN</td>\n",
       "      <td>2016-03-11 00:00:00</td>\n",
       "      <td>NaN</td>\n",
       "      <td>NaN</td>\n",
       "      <td>NaN</td>\n",
       "      <td>NaN</td>\n",
       "      <td>1.0</td>\n",
       "      <td>NaN</td>\n",
       "      <td>NaN</td>\n",
       "      <td>NaN</td>\n",
       "    </tr>\n",
       "    <tr>\n",
       "      <th>11-11-11</th>\n",
       "      <td>NaN</td>\n",
       "      <td>NaN</td>\n",
       "      <td>NaN</td>\n",
       "      <td>NaN</td>\n",
       "      <td>0.0</td>\n",
       "      <td>NaN</td>\n",
       "      <td>NaN</td>\n",
       "      <td>NaN</td>\n",
       "      <td>1.0</td>\n",
       "      <td>32771</td>\n",
       "      <td>...</td>\n",
       "      <td>NaN</td>\n",
       "      <td>2011-11-11 00:00:00</td>\n",
       "      <td>NaN</td>\n",
       "      <td>NaN</td>\n",
       "      <td>NaN</td>\n",
       "      <td>NaN</td>\n",
       "      <td>NaN</td>\n",
       "      <td>1.0</td>\n",
       "      <td>NaN</td>\n",
       "      <td>NaN</td>\n",
       "    </tr>\n",
       "  </tbody>\n",
       "</table>\n",
       "<p>3 rows × 33 columns</p>\n",
       "</div>"
      ],
      "text/plain": [
       "                     ACTOR_EXP  Action  Adventure  Animation  BUDGET  Comedy  \\\n",
       "MOVIE_NAME                                                                     \n",
       "'71                        NaN     NaN        NaN        NaN     0.0     NaN   \n",
       "10 Cloverfield Lane        NaN     NaN        NaN        NaN     0.0     NaN   \n",
       "11-11-11                   NaN     NaN        NaN        NaN     0.0     NaN   \n",
       "\n",
       "                     Concert  Crime  DIRECTOR_EXP  DOMESTIC_OPENING   ...     \\\n",
       "MOVIE_NAME                                                            ...      \n",
       "'71                      NaN    NaN           NaN             55761   ...      \n",
       "10 Cloverfield Lane      NaN    NaN           NaN          24727437   ...      \n",
       "11-11-11                 NaN    NaN           1.0             32771   ...      \n",
       "\n",
       "                     Period         RELEASE_DATE  Romance  Romantic  Sci-Fi  \\\n",
       "MOVIE_NAME                                                                    \n",
       "'71                     NaN  2015-02-27 00:00:00      NaN       NaN     NaN   \n",
       "10 Cloverfield Lane     NaN  2016-03-11 00:00:00      NaN       NaN     NaN   \n",
       "11-11-11                NaN  2011-11-11 00:00:00      NaN       NaN     NaN   \n",
       "\n",
       "                     Sports Thriller  WRITER_EXP  War  Western  \n",
       "MOVIE_NAME                                                      \n",
       "'71                     NaN      NaN         NaN  1.0      NaN  \n",
       "10 Cloverfield Lane     NaN      1.0         NaN  NaN      NaN  \n",
       "11-11-11                NaN      NaN         1.0  NaN      NaN  \n",
       "\n",
       "[3 rows x 33 columns]"
      ]
     },
     "execution_count": 32,
     "metadata": {},
     "output_type": "execute_result"
    }
   ],
   "source": [
    "movie_data_split.head(3)"
   ]
  },
  {
   "cell_type": "markdown",
   "metadata": {},
   "source": [
    "## Now fill in the missing values with 0\n"
   ]
  },
  {
   "cell_type": "code",
   "execution_count": 33,
   "metadata": {
    "collapsed": true
   },
   "outputs": [],
   "source": [
    "movie_data = movie_data_split.fillna(0)"
   ]
  },
  {
   "cell_type": "markdown",
   "metadata": {},
   "source": [
    "## Need to drop the 'GENRE' column now"
   ]
  },
  {
   "cell_type": "code",
   "execution_count": 34,
   "metadata": {
    "collapsed": true
   },
   "outputs": [],
   "source": [
    "movie_data.drop(['GENRE'],axis=1,inplace=True)"
   ]
  },
  {
   "cell_type": "code",
   "execution_count": 35,
   "metadata": {
    "collapsed": false
   },
   "outputs": [
    {
     "data": {
      "text/plain": [
       "Index([u'ACTOR_EXP', u'Action', u'Adventure', u'Animation', u'BUDGET',\n",
       "       u'Comedy', u'Concert', u'Crime', u'DIRECTOR_EXP', u'DOMESTIC_OPENING',\n",
       "       u'Documentary', u'Drama', u'FOREIGN_TOTAL', u'Family', u'Fantasy',\n",
       "       u'Foreign', u'Historical', u'Horror', u'IMAX', u'Music', u'Musical',\n",
       "       u'PRODUCER_EXP', u'Period', u'RELEASE_DATE', u'Romance', u'Romantic',\n",
       "       u'Sci-Fi', u'Sports', u'Thriller', u'WRITER_EXP', u'War', u'Western'],\n",
       "      dtype='object')"
      ]
     },
     "execution_count": 35,
     "metadata": {},
     "output_type": "execute_result"
    }
   ],
   "source": [
    "movie_data.columns"
   ]
  },
  {
   "cell_type": "code",
   "execution_count": 36,
   "metadata": {
    "collapsed": false
   },
   "outputs": [
    {
     "data": {
      "text/html": [
       "<div>\n",
       "<table border=\"1\" class=\"dataframe\">\n",
       "  <thead>\n",
       "    <tr style=\"text-align: right;\">\n",
       "      <th></th>\n",
       "      <th>ACTOR_EXP</th>\n",
       "      <th>Action</th>\n",
       "      <th>Adventure</th>\n",
       "      <th>Animation</th>\n",
       "      <th>BUDGET</th>\n",
       "      <th>Comedy</th>\n",
       "      <th>Concert</th>\n",
       "      <th>Crime</th>\n",
       "      <th>DIRECTOR_EXP</th>\n",
       "      <th>DOMESTIC_OPENING</th>\n",
       "      <th>...</th>\n",
       "      <th>Period</th>\n",
       "      <th>RELEASE_DATE</th>\n",
       "      <th>Romance</th>\n",
       "      <th>Romantic</th>\n",
       "      <th>Sci-Fi</th>\n",
       "      <th>Sports</th>\n",
       "      <th>Thriller</th>\n",
       "      <th>WRITER_EXP</th>\n",
       "      <th>War</th>\n",
       "      <th>Western</th>\n",
       "    </tr>\n",
       "    <tr>\n",
       "      <th>MOVIE_NAME</th>\n",
       "      <th></th>\n",
       "      <th></th>\n",
       "      <th></th>\n",
       "      <th></th>\n",
       "      <th></th>\n",
       "      <th></th>\n",
       "      <th></th>\n",
       "      <th></th>\n",
       "      <th></th>\n",
       "      <th></th>\n",
       "      <th></th>\n",
       "      <th></th>\n",
       "      <th></th>\n",
       "      <th></th>\n",
       "      <th></th>\n",
       "      <th></th>\n",
       "      <th></th>\n",
       "      <th></th>\n",
       "      <th></th>\n",
       "      <th></th>\n",
       "      <th></th>\n",
       "    </tr>\n",
       "  </thead>\n",
       "  <tbody>\n",
       "    <tr>\n",
       "      <th>'71</th>\n",
       "      <td>0.0</td>\n",
       "      <td>0.0</td>\n",
       "      <td>0.0</td>\n",
       "      <td>0.0</td>\n",
       "      <td>0.0</td>\n",
       "      <td>0.0</td>\n",
       "      <td>0.0</td>\n",
       "      <td>0.0</td>\n",
       "      <td>0.0</td>\n",
       "      <td>55761</td>\n",
       "      <td>...</td>\n",
       "      <td>0.0</td>\n",
       "      <td>2015-02-27 00:00:00</td>\n",
       "      <td>0.0</td>\n",
       "      <td>0.0</td>\n",
       "      <td>0.0</td>\n",
       "      <td>0.0</td>\n",
       "      <td>0.0</td>\n",
       "      <td>0.0</td>\n",
       "      <td>1.0</td>\n",
       "      <td>0.0</td>\n",
       "    </tr>\n",
       "    <tr>\n",
       "      <th>10 Cloverfield Lane</th>\n",
       "      <td>0.0</td>\n",
       "      <td>0.0</td>\n",
       "      <td>0.0</td>\n",
       "      <td>0.0</td>\n",
       "      <td>0.0</td>\n",
       "      <td>0.0</td>\n",
       "      <td>0.0</td>\n",
       "      <td>0.0</td>\n",
       "      <td>0.0</td>\n",
       "      <td>24727437</td>\n",
       "      <td>...</td>\n",
       "      <td>0.0</td>\n",
       "      <td>2016-03-11 00:00:00</td>\n",
       "      <td>0.0</td>\n",
       "      <td>0.0</td>\n",
       "      <td>0.0</td>\n",
       "      <td>0.0</td>\n",
       "      <td>1.0</td>\n",
       "      <td>0.0</td>\n",
       "      <td>0.0</td>\n",
       "      <td>0.0</td>\n",
       "    </tr>\n",
       "  </tbody>\n",
       "</table>\n",
       "<p>2 rows × 32 columns</p>\n",
       "</div>"
      ],
      "text/plain": [
       "                     ACTOR_EXP  Action  Adventure  Animation  BUDGET  Comedy  \\\n",
       "MOVIE_NAME                                                                     \n",
       "'71                        0.0     0.0        0.0        0.0     0.0     0.0   \n",
       "10 Cloverfield Lane        0.0     0.0        0.0        0.0     0.0     0.0   \n",
       "\n",
       "                     Concert  Crime  DIRECTOR_EXP  DOMESTIC_OPENING   ...     \\\n",
       "MOVIE_NAME                                                            ...      \n",
       "'71                      0.0    0.0           0.0             55761   ...      \n",
       "10 Cloverfield Lane      0.0    0.0           0.0          24727437   ...      \n",
       "\n",
       "                     Period         RELEASE_DATE  Romance  Romantic  Sci-Fi  \\\n",
       "MOVIE_NAME                                                                    \n",
       "'71                     0.0  2015-02-27 00:00:00      0.0       0.0     0.0   \n",
       "10 Cloverfield Lane     0.0  2016-03-11 00:00:00      0.0       0.0     0.0   \n",
       "\n",
       "                     Sports  Thriller  WRITER_EXP  War  Western  \n",
       "MOVIE_NAME                                                       \n",
       "'71                     0.0       0.0         0.0  1.0      0.0  \n",
       "10 Cloverfield Lane     0.0       1.0         0.0  0.0      0.0  \n",
       "\n",
       "[2 rows x 32 columns]"
      ]
     },
     "execution_count": 36,
     "metadata": {},
     "output_type": "execute_result"
    }
   ],
   "source": [
    "movie_data.head(2)"
   ]
  },
  {
   "cell_type": "markdown",
   "metadata": {},
   "source": [
    "### Will want to encode the dates as 1st quarter, 2nd quarter, 3rd quarter, 4th quarter\n",
    "#### Do this by first transforming the column into strings \"1\",\"2\",\"3\",\"4\", then apply pandas .get_dummies to make it one-hot"
   ]
  },
  {
   "cell_type": "code",
   "execution_count": 37,
   "metadata": {
    "collapsed": false
   },
   "outputs": [],
   "source": [
    "from pandas import DatetimeIndex\n",
    "import dateutil.parser"
   ]
  },
  {
   "cell_type": "code",
   "execution_count": 38,
   "metadata": {
    "collapsed": false,
    "scrolled": true
   },
   "outputs": [],
   "source": [
    "# turn RELEASE_DATE into actual datetime\n",
    "movie_data['RELEASE_DATE'] = movie_data['RELEASE_DATE'].apply(lambda x: dateutil.parser.parse(x))"
   ]
  },
  {
   "cell_type": "code",
   "execution_count": 39,
   "metadata": {
    "collapsed": false
   },
   "outputs": [
    {
     "data": {
      "text/plain": [
       "dtype('<M8[ns]')"
      ]
     },
     "execution_count": 39,
     "metadata": {},
     "output_type": "execute_result"
    }
   ],
   "source": [
    "movie_data['RELEASE_DATE'].dtype"
   ]
  },
  {
   "cell_type": "code",
   "execution_count": 40,
   "metadata": {
    "collapsed": false
   },
   "outputs": [],
   "source": [
    "movie_data[\"RELEASE_QUARTER\"] = movie_data[\"RELEASE_DATE\"].apply(lambda x: x.quarter)"
   ]
  },
  {
   "cell_type": "code",
   "execution_count": 41,
   "metadata": {
    "collapsed": false
   },
   "outputs": [],
   "source": [
    "# now just want release quarter\n",
    "movie_data.drop(['RELEASE_DATE'],axis=1,inplace=True)"
   ]
  },
  {
   "cell_type": "markdown",
   "metadata": {},
   "source": [
    "#### Now vectorize release quarter column"
   ]
  },
  {
   "cell_type": "code",
   "execution_count": 42,
   "metadata": {
    "collapsed": true
   },
   "outputs": [],
   "source": [
    "movie_data = pd.get_dummies(movie_data,columns=[\"RELEASE_QUARTER\"])"
   ]
  },
  {
   "cell_type": "code",
   "execution_count": 43,
   "metadata": {
    "collapsed": false
   },
   "outputs": [
    {
     "data": {
      "text/html": [
       "<div>\n",
       "<table border=\"1\" class=\"dataframe\">\n",
       "  <thead>\n",
       "    <tr style=\"text-align: right;\">\n",
       "      <th></th>\n",
       "      <th>ACTOR_EXP</th>\n",
       "      <th>Action</th>\n",
       "      <th>Adventure</th>\n",
       "      <th>Animation</th>\n",
       "      <th>BUDGET</th>\n",
       "      <th>Comedy</th>\n",
       "      <th>Concert</th>\n",
       "      <th>Crime</th>\n",
       "      <th>DIRECTOR_EXP</th>\n",
       "      <th>DOMESTIC_OPENING</th>\n",
       "      <th>...</th>\n",
       "      <th>Sci-Fi</th>\n",
       "      <th>Sports</th>\n",
       "      <th>Thriller</th>\n",
       "      <th>WRITER_EXP</th>\n",
       "      <th>War</th>\n",
       "      <th>Western</th>\n",
       "      <th>RELEASE_QUARTER_1</th>\n",
       "      <th>RELEASE_QUARTER_2</th>\n",
       "      <th>RELEASE_QUARTER_3</th>\n",
       "      <th>RELEASE_QUARTER_4</th>\n",
       "    </tr>\n",
       "    <tr>\n",
       "      <th>MOVIE_NAME</th>\n",
       "      <th></th>\n",
       "      <th></th>\n",
       "      <th></th>\n",
       "      <th></th>\n",
       "      <th></th>\n",
       "      <th></th>\n",
       "      <th></th>\n",
       "      <th></th>\n",
       "      <th></th>\n",
       "      <th></th>\n",
       "      <th></th>\n",
       "      <th></th>\n",
       "      <th></th>\n",
       "      <th></th>\n",
       "      <th></th>\n",
       "      <th></th>\n",
       "      <th></th>\n",
       "      <th></th>\n",
       "      <th></th>\n",
       "      <th></th>\n",
       "      <th></th>\n",
       "    </tr>\n",
       "  </thead>\n",
       "  <tbody>\n",
       "    <tr>\n",
       "      <th>'71</th>\n",
       "      <td>0.0</td>\n",
       "      <td>0.0</td>\n",
       "      <td>0.0</td>\n",
       "      <td>0.0</td>\n",
       "      <td>0.0</td>\n",
       "      <td>0.0</td>\n",
       "      <td>0.0</td>\n",
       "      <td>0.0</td>\n",
       "      <td>0.0</td>\n",
       "      <td>55761</td>\n",
       "      <td>...</td>\n",
       "      <td>0.0</td>\n",
       "      <td>0.0</td>\n",
       "      <td>0.0</td>\n",
       "      <td>0.0</td>\n",
       "      <td>1.0</td>\n",
       "      <td>0.0</td>\n",
       "      <td>1.0</td>\n",
       "      <td>0.0</td>\n",
       "      <td>0.0</td>\n",
       "      <td>0.0</td>\n",
       "    </tr>\n",
       "    <tr>\n",
       "      <th>10 Cloverfield Lane</th>\n",
       "      <td>0.0</td>\n",
       "      <td>0.0</td>\n",
       "      <td>0.0</td>\n",
       "      <td>0.0</td>\n",
       "      <td>0.0</td>\n",
       "      <td>0.0</td>\n",
       "      <td>0.0</td>\n",
       "      <td>0.0</td>\n",
       "      <td>0.0</td>\n",
       "      <td>24727437</td>\n",
       "      <td>...</td>\n",
       "      <td>0.0</td>\n",
       "      <td>0.0</td>\n",
       "      <td>1.0</td>\n",
       "      <td>0.0</td>\n",
       "      <td>0.0</td>\n",
       "      <td>0.0</td>\n",
       "      <td>1.0</td>\n",
       "      <td>0.0</td>\n",
       "      <td>0.0</td>\n",
       "      <td>0.0</td>\n",
       "    </tr>\n",
       "    <tr>\n",
       "      <th>11-11-11</th>\n",
       "      <td>0.0</td>\n",
       "      <td>0.0</td>\n",
       "      <td>0.0</td>\n",
       "      <td>0.0</td>\n",
       "      <td>0.0</td>\n",
       "      <td>0.0</td>\n",
       "      <td>0.0</td>\n",
       "      <td>0.0</td>\n",
       "      <td>1.0</td>\n",
       "      <td>32771</td>\n",
       "      <td>...</td>\n",
       "      <td>0.0</td>\n",
       "      <td>0.0</td>\n",
       "      <td>0.0</td>\n",
       "      <td>1.0</td>\n",
       "      <td>0.0</td>\n",
       "      <td>0.0</td>\n",
       "      <td>0.0</td>\n",
       "      <td>0.0</td>\n",
       "      <td>0.0</td>\n",
       "      <td>1.0</td>\n",
       "    </tr>\n",
       "    <tr>\n",
       "      <th>12 Years a Slave</th>\n",
       "      <td>95.0</td>\n",
       "      <td>0.0</td>\n",
       "      <td>0.0</td>\n",
       "      <td>0.0</td>\n",
       "      <td>20000000.0</td>\n",
       "      <td>0.0</td>\n",
       "      <td>0.0</td>\n",
       "      <td>0.0</td>\n",
       "      <td>2.0</td>\n",
       "      <td>7599446</td>\n",
       "      <td>...</td>\n",
       "      <td>0.0</td>\n",
       "      <td>0.0</td>\n",
       "      <td>0.0</td>\n",
       "      <td>3.0</td>\n",
       "      <td>0.0</td>\n",
       "      <td>0.0</td>\n",
       "      <td>0.0</td>\n",
       "      <td>0.0</td>\n",
       "      <td>0.0</td>\n",
       "      <td>1.0</td>\n",
       "    </tr>\n",
       "    <tr>\n",
       "      <th>127 Hours</th>\n",
       "      <td>23.0</td>\n",
       "      <td>0.0</td>\n",
       "      <td>0.0</td>\n",
       "      <td>0.0</td>\n",
       "      <td>18000000.0</td>\n",
       "      <td>0.0</td>\n",
       "      <td>0.0</td>\n",
       "      <td>0.0</td>\n",
       "      <td>3.0</td>\n",
       "      <td>2401652</td>\n",
       "      <td>...</td>\n",
       "      <td>0.0</td>\n",
       "      <td>0.0</td>\n",
       "      <td>0.0</td>\n",
       "      <td>5.0</td>\n",
       "      <td>0.0</td>\n",
       "      <td>0.0</td>\n",
       "      <td>0.0</td>\n",
       "      <td>0.0</td>\n",
       "      <td>0.0</td>\n",
       "      <td>1.0</td>\n",
       "    </tr>\n",
       "  </tbody>\n",
       "</table>\n",
       "<p>5 rows × 35 columns</p>\n",
       "</div>"
      ],
      "text/plain": [
       "                     ACTOR_EXP  Action  Adventure  Animation      BUDGET  \\\n",
       "MOVIE_NAME                                                                 \n",
       "'71                        0.0     0.0        0.0        0.0         0.0   \n",
       "10 Cloverfield Lane        0.0     0.0        0.0        0.0         0.0   \n",
       "11-11-11                   0.0     0.0        0.0        0.0         0.0   \n",
       "12 Years a Slave          95.0     0.0        0.0        0.0  20000000.0   \n",
       "127 Hours                 23.0     0.0        0.0        0.0  18000000.0   \n",
       "\n",
       "                     Comedy  Concert  Crime  DIRECTOR_EXP  DOMESTIC_OPENING  \\\n",
       "MOVIE_NAME                                                                    \n",
       "'71                     0.0      0.0    0.0           0.0             55761   \n",
       "10 Cloverfield Lane     0.0      0.0    0.0           0.0          24727437   \n",
       "11-11-11                0.0      0.0    0.0           1.0             32771   \n",
       "12 Years a Slave        0.0      0.0    0.0           2.0           7599446   \n",
       "127 Hours               0.0      0.0    0.0           3.0           2401652   \n",
       "\n",
       "                           ...          Sci-Fi  Sports  Thriller  WRITER_EXP  \\\n",
       "MOVIE_NAME                 ...                                                 \n",
       "'71                        ...             0.0     0.0       0.0         0.0   \n",
       "10 Cloverfield Lane        ...             0.0     0.0       1.0         0.0   \n",
       "11-11-11                   ...             0.0     0.0       0.0         1.0   \n",
       "12 Years a Slave           ...             0.0     0.0       0.0         3.0   \n",
       "127 Hours                  ...             0.0     0.0       0.0         5.0   \n",
       "\n",
       "                     War  Western  RELEASE_QUARTER_1  RELEASE_QUARTER_2  \\\n",
       "MOVIE_NAME                                                                \n",
       "'71                  1.0      0.0                1.0                0.0   \n",
       "10 Cloverfield Lane  0.0      0.0                1.0                0.0   \n",
       "11-11-11             0.0      0.0                0.0                0.0   \n",
       "12 Years a Slave     0.0      0.0                0.0                0.0   \n",
       "127 Hours            0.0      0.0                0.0                0.0   \n",
       "\n",
       "                     RELEASE_QUARTER_3  RELEASE_QUARTER_4  \n",
       "MOVIE_NAME                                                 \n",
       "'71                                0.0                0.0  \n",
       "10 Cloverfield Lane                0.0                0.0  \n",
       "11-11-11                           0.0                1.0  \n",
       "12 Years a Slave                   0.0                1.0  \n",
       "127 Hours                          0.0                1.0  \n",
       "\n",
       "[5 rows x 35 columns]"
      ]
     },
     "execution_count": 43,
     "metadata": {},
     "output_type": "execute_result"
    }
   ],
   "source": [
    "movie_data.head()"
   ]
  },
  {
   "cell_type": "markdown",
   "metadata": {},
   "source": [
    "# Check the data for missing values, and other weird things\n",
    "\n",
    "## Impute what I can into the raw data"
   ]
  },
  {
   "cell_type": "markdown",
   "metadata": {},
   "source": [
    "### Check Domestic Openings"
   ]
  },
  {
   "cell_type": "code",
   "execution_count": 44,
   "metadata": {
    "collapsed": false
   },
   "outputs": [
    {
     "data": {
      "text/plain": [
       "0"
      ]
     },
     "execution_count": 44,
     "metadata": {},
     "output_type": "execute_result"
    }
   ],
   "source": [
    "len(movie_data[movie_data[\"DOMESTIC_OPENING\"] == 0])"
   ]
  },
  {
   "cell_type": "markdown",
   "metadata": {},
   "source": [
    "## Check Budget "
   ]
  },
  {
   "cell_type": "code",
   "execution_count": 45,
   "metadata": {
    "collapsed": false
   },
   "outputs": [
    {
     "data": {
      "text/plain": [
       "774"
      ]
     },
     "execution_count": 45,
     "metadata": {},
     "output_type": "execute_result"
    }
   ],
   "source": [
    "# woah...missing a lot~~\n",
    "len (movie_data[movie_data['BUDGET'] == 0])"
   ]
  },
  {
   "cell_type": "code",
   "execution_count": 46,
   "metadata": {
    "collapsed": true
   },
   "outputs": [],
   "source": [
    "movie_no_budget = movie_data[movie_data['BUDGET'] == 0]"
   ]
  },
  {
   "cell_type": "code",
   "execution_count": 47,
   "metadata": {
    "collapsed": false
   },
   "outputs": [
    {
     "data": {
      "text/html": [
       "<div>\n",
       "<table border=\"1\" class=\"dataframe\">\n",
       "  <thead>\n",
       "    <tr style=\"text-align: right;\">\n",
       "      <th></th>\n",
       "      <th>ACTOR_EXP</th>\n",
       "      <th>Action</th>\n",
       "      <th>Adventure</th>\n",
       "      <th>Animation</th>\n",
       "      <th>BUDGET</th>\n",
       "      <th>Comedy</th>\n",
       "      <th>Concert</th>\n",
       "      <th>Crime</th>\n",
       "      <th>DIRECTOR_EXP</th>\n",
       "      <th>DOMESTIC_OPENING</th>\n",
       "      <th>...</th>\n",
       "      <th>Sci-Fi</th>\n",
       "      <th>Sports</th>\n",
       "      <th>Thriller</th>\n",
       "      <th>WRITER_EXP</th>\n",
       "      <th>War</th>\n",
       "      <th>Western</th>\n",
       "      <th>RELEASE_QUARTER_1</th>\n",
       "      <th>RELEASE_QUARTER_2</th>\n",
       "      <th>RELEASE_QUARTER_3</th>\n",
       "      <th>RELEASE_QUARTER_4</th>\n",
       "    </tr>\n",
       "    <tr>\n",
       "      <th>MOVIE_NAME</th>\n",
       "      <th></th>\n",
       "      <th></th>\n",
       "      <th></th>\n",
       "      <th></th>\n",
       "      <th></th>\n",
       "      <th></th>\n",
       "      <th></th>\n",
       "      <th></th>\n",
       "      <th></th>\n",
       "      <th></th>\n",
       "      <th></th>\n",
       "      <th></th>\n",
       "      <th></th>\n",
       "      <th></th>\n",
       "      <th></th>\n",
       "      <th></th>\n",
       "      <th></th>\n",
       "      <th></th>\n",
       "      <th></th>\n",
       "      <th></th>\n",
       "      <th></th>\n",
       "    </tr>\n",
       "  </thead>\n",
       "  <tbody>\n",
       "    <tr>\n",
       "      <th>'71</th>\n",
       "      <td>0.0</td>\n",
       "      <td>0.0</td>\n",
       "      <td>0.0</td>\n",
       "      <td>0.0</td>\n",
       "      <td>0.0</td>\n",
       "      <td>0.0</td>\n",
       "      <td>0.0</td>\n",
       "      <td>0.0</td>\n",
       "      <td>0.0</td>\n",
       "      <td>55761</td>\n",
       "      <td>...</td>\n",
       "      <td>0.0</td>\n",
       "      <td>0.0</td>\n",
       "      <td>0.0</td>\n",
       "      <td>0.0</td>\n",
       "      <td>1.0</td>\n",
       "      <td>0.0</td>\n",
       "      <td>1.0</td>\n",
       "      <td>0.0</td>\n",
       "      <td>0.0</td>\n",
       "      <td>0.0</td>\n",
       "    </tr>\n",
       "    <tr>\n",
       "      <th>10 Cloverfield Lane</th>\n",
       "      <td>0.0</td>\n",
       "      <td>0.0</td>\n",
       "      <td>0.0</td>\n",
       "      <td>0.0</td>\n",
       "      <td>0.0</td>\n",
       "      <td>0.0</td>\n",
       "      <td>0.0</td>\n",
       "      <td>0.0</td>\n",
       "      <td>0.0</td>\n",
       "      <td>24727437</td>\n",
       "      <td>...</td>\n",
       "      <td>0.0</td>\n",
       "      <td>0.0</td>\n",
       "      <td>1.0</td>\n",
       "      <td>0.0</td>\n",
       "      <td>0.0</td>\n",
       "      <td>0.0</td>\n",
       "      <td>1.0</td>\n",
       "      <td>0.0</td>\n",
       "      <td>0.0</td>\n",
       "      <td>0.0</td>\n",
       "    </tr>\n",
       "    <tr>\n",
       "      <th>11-11-11</th>\n",
       "      <td>0.0</td>\n",
       "      <td>0.0</td>\n",
       "      <td>0.0</td>\n",
       "      <td>0.0</td>\n",
       "      <td>0.0</td>\n",
       "      <td>0.0</td>\n",
       "      <td>0.0</td>\n",
       "      <td>0.0</td>\n",
       "      <td>1.0</td>\n",
       "      <td>32771</td>\n",
       "      <td>...</td>\n",
       "      <td>0.0</td>\n",
       "      <td>0.0</td>\n",
       "      <td>0.0</td>\n",
       "      <td>1.0</td>\n",
       "      <td>0.0</td>\n",
       "      <td>0.0</td>\n",
       "      <td>0.0</td>\n",
       "      <td>0.0</td>\n",
       "      <td>0.0</td>\n",
       "      <td>1.0</td>\n",
       "    </tr>\n",
       "    <tr>\n",
       "      <th>13 Assassins</th>\n",
       "      <td>0.0</td>\n",
       "      <td>0.0</td>\n",
       "      <td>0.0</td>\n",
       "      <td>0.0</td>\n",
       "      <td>0.0</td>\n",
       "      <td>0.0</td>\n",
       "      <td>0.0</td>\n",
       "      <td>0.0</td>\n",
       "      <td>0.0</td>\n",
       "      <td>45854</td>\n",
       "      <td>...</td>\n",
       "      <td>0.0</td>\n",
       "      <td>0.0</td>\n",
       "      <td>0.0</td>\n",
       "      <td>0.0</td>\n",
       "      <td>0.0</td>\n",
       "      <td>0.0</td>\n",
       "      <td>0.0</td>\n",
       "      <td>1.0</td>\n",
       "      <td>0.0</td>\n",
       "      <td>0.0</td>\n",
       "    </tr>\n",
       "    <tr>\n",
       "      <th>17 Girls</th>\n",
       "      <td>0.0</td>\n",
       "      <td>0.0</td>\n",
       "      <td>0.0</td>\n",
       "      <td>0.0</td>\n",
       "      <td>0.0</td>\n",
       "      <td>0.0</td>\n",
       "      <td>0.0</td>\n",
       "      <td>0.0</td>\n",
       "      <td>0.0</td>\n",
       "      <td>4449</td>\n",
       "      <td>...</td>\n",
       "      <td>0.0</td>\n",
       "      <td>0.0</td>\n",
       "      <td>0.0</td>\n",
       "      <td>0.0</td>\n",
       "      <td>0.0</td>\n",
       "      <td>0.0</td>\n",
       "      <td>0.0</td>\n",
       "      <td>0.0</td>\n",
       "      <td>1.0</td>\n",
       "      <td>0.0</td>\n",
       "    </tr>\n",
       "    <tr>\n",
       "      <th>2 Days in New York</th>\n",
       "      <td>11.0</td>\n",
       "      <td>0.0</td>\n",
       "      <td>0.0</td>\n",
       "      <td>0.0</td>\n",
       "      <td>0.0</td>\n",
       "      <td>1.0</td>\n",
       "      <td>0.0</td>\n",
       "      <td>0.0</td>\n",
       "      <td>2.0</td>\n",
       "      <td>23942</td>\n",
       "      <td>...</td>\n",
       "      <td>0.0</td>\n",
       "      <td>0.0</td>\n",
       "      <td>0.0</td>\n",
       "      <td>2.0</td>\n",
       "      <td>0.0</td>\n",
       "      <td>0.0</td>\n",
       "      <td>0.0</td>\n",
       "      <td>0.0</td>\n",
       "      <td>1.0</td>\n",
       "      <td>0.0</td>\n",
       "    </tr>\n",
       "    <tr>\n",
       "      <th>20,000 Days on Earth</th>\n",
       "      <td>0.0</td>\n",
       "      <td>0.0</td>\n",
       "      <td>0.0</td>\n",
       "      <td>0.0</td>\n",
       "      <td>0.0</td>\n",
       "      <td>0.0</td>\n",
       "      <td>0.0</td>\n",
       "      <td>0.0</td>\n",
       "      <td>0.0</td>\n",
       "      <td>27879</td>\n",
       "      <td>...</td>\n",
       "      <td>0.0</td>\n",
       "      <td>0.0</td>\n",
       "      <td>0.0</td>\n",
       "      <td>0.0</td>\n",
       "      <td>0.0</td>\n",
       "      <td>0.0</td>\n",
       "      <td>0.0</td>\n",
       "      <td>0.0</td>\n",
       "      <td>1.0</td>\n",
       "      <td>0.0</td>\n",
       "    </tr>\n",
       "    <tr>\n",
       "      <th>3 (2011)</th>\n",
       "      <td>0.0</td>\n",
       "      <td>0.0</td>\n",
       "      <td>0.0</td>\n",
       "      <td>0.0</td>\n",
       "      <td>0.0</td>\n",
       "      <td>0.0</td>\n",
       "      <td>0.0</td>\n",
       "      <td>0.0</td>\n",
       "      <td>0.0</td>\n",
       "      <td>9821</td>\n",
       "      <td>...</td>\n",
       "      <td>0.0</td>\n",
       "      <td>0.0</td>\n",
       "      <td>0.0</td>\n",
       "      <td>0.0</td>\n",
       "      <td>0.0</td>\n",
       "      <td>0.0</td>\n",
       "      <td>0.0</td>\n",
       "      <td>0.0</td>\n",
       "      <td>1.0</td>\n",
       "      <td>0.0</td>\n",
       "    </tr>\n",
       "    <tr>\n",
       "      <th>360</th>\n",
       "      <td>0.0</td>\n",
       "      <td>0.0</td>\n",
       "      <td>0.0</td>\n",
       "      <td>0.0</td>\n",
       "      <td>0.0</td>\n",
       "      <td>0.0</td>\n",
       "      <td>0.0</td>\n",
       "      <td>0.0</td>\n",
       "      <td>0.0</td>\n",
       "      <td>12186</td>\n",
       "      <td>...</td>\n",
       "      <td>0.0</td>\n",
       "      <td>0.0</td>\n",
       "      <td>0.0</td>\n",
       "      <td>0.0</td>\n",
       "      <td>0.0</td>\n",
       "      <td>0.0</td>\n",
       "      <td>0.0</td>\n",
       "      <td>0.0</td>\n",
       "      <td>1.0</td>\n",
       "      <td>0.0</td>\n",
       "    </tr>\n",
       "    <tr>\n",
       "      <th>44 Inch Chest</th>\n",
       "      <td>16.0</td>\n",
       "      <td>0.0</td>\n",
       "      <td>0.0</td>\n",
       "      <td>0.0</td>\n",
       "      <td>0.0</td>\n",
       "      <td>0.0</td>\n",
       "      <td>0.0</td>\n",
       "      <td>0.0</td>\n",
       "      <td>2.0</td>\n",
       "      <td>4185</td>\n",
       "      <td>...</td>\n",
       "      <td>0.0</td>\n",
       "      <td>0.0</td>\n",
       "      <td>0.0</td>\n",
       "      <td>0.0</td>\n",
       "      <td>0.0</td>\n",
       "      <td>0.0</td>\n",
       "      <td>1.0</td>\n",
       "      <td>0.0</td>\n",
       "      <td>0.0</td>\n",
       "      <td>0.0</td>\n",
       "    </tr>\n",
       "  </tbody>\n",
       "</table>\n",
       "<p>10 rows × 35 columns</p>\n",
       "</div>"
      ],
      "text/plain": [
       "                      ACTOR_EXP  Action  Adventure  Animation  BUDGET  Comedy  \\\n",
       "MOVIE_NAME                                                                      \n",
       "'71                         0.0     0.0        0.0        0.0     0.0     0.0   \n",
       "10 Cloverfield Lane         0.0     0.0        0.0        0.0     0.0     0.0   \n",
       "11-11-11                    0.0     0.0        0.0        0.0     0.0     0.0   \n",
       "13 Assassins                0.0     0.0        0.0        0.0     0.0     0.0   \n",
       "17 Girls                    0.0     0.0        0.0        0.0     0.0     0.0   \n",
       "2 Days in New York         11.0     0.0        0.0        0.0     0.0     1.0   \n",
       "20,000 Days on Earth        0.0     0.0        0.0        0.0     0.0     0.0   \n",
       "3 (2011)                    0.0     0.0        0.0        0.0     0.0     0.0   \n",
       "360                         0.0     0.0        0.0        0.0     0.0     0.0   \n",
       "44 Inch Chest              16.0     0.0        0.0        0.0     0.0     0.0   \n",
       "\n",
       "                      Concert  Crime  DIRECTOR_EXP  DOMESTIC_OPENING  \\\n",
       "MOVIE_NAME                                                             \n",
       "'71                       0.0    0.0           0.0             55761   \n",
       "10 Cloverfield Lane       0.0    0.0           0.0          24727437   \n",
       "11-11-11                  0.0    0.0           1.0             32771   \n",
       "13 Assassins              0.0    0.0           0.0             45854   \n",
       "17 Girls                  0.0    0.0           0.0              4449   \n",
       "2 Days in New York        0.0    0.0           2.0             23942   \n",
       "20,000 Days on Earth      0.0    0.0           0.0             27879   \n",
       "3 (2011)                  0.0    0.0           0.0              9821   \n",
       "360                       0.0    0.0           0.0             12186   \n",
       "44 Inch Chest             0.0    0.0           2.0              4185   \n",
       "\n",
       "                            ...          Sci-Fi  Sports  Thriller  WRITER_EXP  \\\n",
       "MOVIE_NAME                  ...                                                 \n",
       "'71                         ...             0.0     0.0       0.0         0.0   \n",
       "10 Cloverfield Lane         ...             0.0     0.0       1.0         0.0   \n",
       "11-11-11                    ...             0.0     0.0       0.0         1.0   \n",
       "13 Assassins                ...             0.0     0.0       0.0         0.0   \n",
       "17 Girls                    ...             0.0     0.0       0.0         0.0   \n",
       "2 Days in New York          ...             0.0     0.0       0.0         2.0   \n",
       "20,000 Days on Earth        ...             0.0     0.0       0.0         0.0   \n",
       "3 (2011)                    ...             0.0     0.0       0.0         0.0   \n",
       "360                         ...             0.0     0.0       0.0         0.0   \n",
       "44 Inch Chest               ...             0.0     0.0       0.0         0.0   \n",
       "\n",
       "                      War  Western  RELEASE_QUARTER_1  RELEASE_QUARTER_2  \\\n",
       "MOVIE_NAME                                                                 \n",
       "'71                   1.0      0.0                1.0                0.0   \n",
       "10 Cloverfield Lane   0.0      0.0                1.0                0.0   \n",
       "11-11-11              0.0      0.0                0.0                0.0   \n",
       "13 Assassins          0.0      0.0                0.0                1.0   \n",
       "17 Girls              0.0      0.0                0.0                0.0   \n",
       "2 Days in New York    0.0      0.0                0.0                0.0   \n",
       "20,000 Days on Earth  0.0      0.0                0.0                0.0   \n",
       "3 (2011)              0.0      0.0                0.0                0.0   \n",
       "360                   0.0      0.0                0.0                0.0   \n",
       "44 Inch Chest         0.0      0.0                1.0                0.0   \n",
       "\n",
       "                      RELEASE_QUARTER_3  RELEASE_QUARTER_4  \n",
       "MOVIE_NAME                                                  \n",
       "'71                                 0.0                0.0  \n",
       "10 Cloverfield Lane                 0.0                0.0  \n",
       "11-11-11                            0.0                1.0  \n",
       "13 Assassins                        0.0                0.0  \n",
       "17 Girls                            1.0                0.0  \n",
       "2 Days in New York                  1.0                0.0  \n",
       "20,000 Days on Earth                1.0                0.0  \n",
       "3 (2011)                            1.0                0.0  \n",
       "360                                 1.0                0.0  \n",
       "44 Inch Chest                       0.0                0.0  \n",
       "\n",
       "[10 rows x 35 columns]"
      ]
     },
     "execution_count": 47,
     "metadata": {},
     "output_type": "execute_result"
    }
   ],
   "source": [
    "movie_no_budget.head(10)"
   ]
  },
  {
   "cell_type": "code",
   "execution_count": null,
   "metadata": {
    "collapsed": true
   },
   "outputs": [],
   "source": []
  },
  {
   "cell_type": "markdown",
   "metadata": {},
   "source": [
    "# Note!!!!!! one reason for weird domest/foreign offset is if a movie is released somewhere like korea...it might do super well there but not well in america (which is considered domestic)\n",
    "\n",
    "# Have option of ignoring films with foreign as the genre"
   ]
  },
  {
   "cell_type": "code",
   "execution_count": 48,
   "metadata": {
    "collapsed": true
   },
   "outputs": [],
   "source": [
    "movies_no_domestic = movie_data[movie_data[\"DOMESTIC_OPENING\"] == 0]"
   ]
  },
  {
   "cell_type": "code",
   "execution_count": 49,
   "metadata": {
    "collapsed": false,
    "scrolled": true
   },
   "outputs": [
    {
     "data": {
      "text/html": [
       "<div>\n",
       "<table border=\"1\" class=\"dataframe\">\n",
       "  <thead>\n",
       "    <tr style=\"text-align: right;\">\n",
       "      <th></th>\n",
       "      <th>ACTOR_EXP</th>\n",
       "      <th>Action</th>\n",
       "      <th>Adventure</th>\n",
       "      <th>Animation</th>\n",
       "      <th>BUDGET</th>\n",
       "      <th>Comedy</th>\n",
       "      <th>Concert</th>\n",
       "      <th>Crime</th>\n",
       "      <th>DIRECTOR_EXP</th>\n",
       "      <th>DOMESTIC_OPENING</th>\n",
       "      <th>...</th>\n",
       "      <th>Sci-Fi</th>\n",
       "      <th>Sports</th>\n",
       "      <th>Thriller</th>\n",
       "      <th>WRITER_EXP</th>\n",
       "      <th>War</th>\n",
       "      <th>Western</th>\n",
       "      <th>RELEASE_QUARTER_1</th>\n",
       "      <th>RELEASE_QUARTER_2</th>\n",
       "      <th>RELEASE_QUARTER_3</th>\n",
       "      <th>RELEASE_QUARTER_4</th>\n",
       "    </tr>\n",
       "    <tr>\n",
       "      <th>MOVIE_NAME</th>\n",
       "      <th></th>\n",
       "      <th></th>\n",
       "      <th></th>\n",
       "      <th></th>\n",
       "      <th></th>\n",
       "      <th></th>\n",
       "      <th></th>\n",
       "      <th></th>\n",
       "      <th></th>\n",
       "      <th></th>\n",
       "      <th></th>\n",
       "      <th></th>\n",
       "      <th></th>\n",
       "      <th></th>\n",
       "      <th></th>\n",
       "      <th></th>\n",
       "      <th></th>\n",
       "      <th></th>\n",
       "      <th></th>\n",
       "      <th></th>\n",
       "      <th></th>\n",
       "    </tr>\n",
       "  </thead>\n",
       "  <tbody>\n",
       "  </tbody>\n",
       "</table>\n",
       "<p>0 rows × 35 columns</p>\n",
       "</div>"
      ],
      "text/plain": [
       "Empty DataFrame\n",
       "Columns: [ACTOR_EXP, Action, Adventure, Animation, BUDGET, Comedy, Concert, Crime, DIRECTOR_EXP, DOMESTIC_OPENING, Documentary, Drama, FOREIGN_TOTAL, Family, Fantasy, Foreign, Historical, Horror, IMAX, Music, Musical, PRODUCER_EXP, Period, Romance, Romantic, Sci-Fi, Sports, Thriller, WRITER_EXP, War, Western, RELEASE_QUARTER_1, RELEASE_QUARTER_2, RELEASE_QUARTER_3, RELEASE_QUARTER_4]\n",
       "Index: []\n",
       "\n",
       "[0 rows x 35 columns]"
      ]
     },
     "execution_count": 49,
     "metadata": {},
     "output_type": "execute_result"
    }
   ],
   "source": [
    "movies_no_domestic"
   ]
  },
  {
   "cell_type": "markdown",
   "metadata": {},
   "source": [
    "# Just get rid of entries with no budget info"
   ]
  },
  {
   "cell_type": "code",
   "execution_count": 50,
   "metadata": {
    "collapsed": true
   },
   "outputs": [],
   "source": [
    "movie_data = movie_data[movie_data['BUDGET'] != 0]"
   ]
  },
  {
   "cell_type": "code",
   "execution_count": 51,
   "metadata": {
    "collapsed": false
   },
   "outputs": [
    {
     "data": {
      "text/plain": [
       "(754, 35)"
      ]
     },
     "execution_count": 51,
     "metadata": {},
     "output_type": "execute_result"
    }
   ],
   "source": [
    "movie_data[movie_data['FOREIGN_TOTAL'] >= 0].shape"
   ]
  },
  {
   "cell_type": "code",
   "execution_count": 52,
   "metadata": {
    "collapsed": false
   },
   "outputs": [
    {
     "data": {
      "text/plain": [
       "(754, 35)"
      ]
     },
     "execution_count": 52,
     "metadata": {},
     "output_type": "execute_result"
    }
   ],
   "source": [
    "movie_data.shape"
   ]
  },
  {
   "cell_type": "code",
   "execution_count": 53,
   "metadata": {
    "collapsed": false
   },
   "outputs": [
    {
     "data": {
      "text/plain": [
       "9"
      ]
     },
     "execution_count": 53,
     "metadata": {},
     "output_type": "execute_result"
    }
   ],
   "source": [
    "len(movie_data[movie_data['Foreign'] == 1])"
   ]
  },
  {
   "cell_type": "markdown",
   "metadata": {},
   "source": [
    "# Drop foreign movies because "
   ]
  },
  {
   "cell_type": "code",
   "execution_count": 54,
   "metadata": {
    "collapsed": true
   },
   "outputs": [],
   "source": [
    "movie_data = movie_data[movie_data['Foreign'] == 0]"
   ]
  },
  {
   "cell_type": "code",
   "execution_count": 55,
   "metadata": {
    "collapsed": false
   },
   "outputs": [
    {
     "data": {
      "text/plain": [
       "(745, 35)"
      ]
     },
     "execution_count": 55,
     "metadata": {},
     "output_type": "execute_result"
    }
   ],
   "source": [
    "movie_data.shape"
   ]
  },
  {
   "cell_type": "markdown",
   "metadata": {},
   "source": [
    "# Get some plots the data"
   ]
  },
  {
   "cell_type": "code",
   "execution_count": 56,
   "metadata": {
    "collapsed": true
   },
   "outputs": [],
   "source": [
    "import sklearn\n",
    "from sklearn.cross_validation import train_test_split,KFold,cross_val_score\n",
    "from pandas.tools.plotting import scatter_matrix"
   ]
  },
  {
   "cell_type": "markdown",
   "metadata": {},
   "source": [
    "### Drop na values (there is apparently 1)"
   ]
  },
  {
   "cell_type": "code",
   "execution_count": 57,
   "metadata": {
    "collapsed": true
   },
   "outputs": [],
   "source": [
    "movie_data.dropna(inplace=True)"
   ]
  },
  {
   "cell_type": "code",
   "execution_count": 58,
   "metadata": {
    "collapsed": false
   },
   "outputs": [
    {
     "data": {
      "text/plain": [
       "(745, 35)"
      ]
     },
     "execution_count": 58,
     "metadata": {},
     "output_type": "execute_result"
    }
   ],
   "source": [
    "movie_data.shape"
   ]
  },
  {
   "cell_type": "code",
   "execution_count": 59,
   "metadata": {
    "collapsed": true
   },
   "outputs": [],
   "source": [
    "movie_features,movie_target = movie_data.drop('FOREIGN_TOTAL', axis=1),movie_data['FOREIGN_TOTAL']"
   ]
  },
  {
   "cell_type": "code",
   "execution_count": 60,
   "metadata": {
    "collapsed": false
   },
   "outputs": [
    {
     "data": {
      "text/plain": [
       "Index([u'ACTOR_EXP', u'Action', u'Adventure', u'Animation', u'BUDGET',\n",
       "       u'Comedy', u'Concert', u'Crime', u'DIRECTOR_EXP', u'DOMESTIC_OPENING',\n",
       "       u'Documentary', u'Drama', u'Family', u'Fantasy', u'Foreign',\n",
       "       u'Historical', u'Horror', u'IMAX', u'Music', u'Musical',\n",
       "       u'PRODUCER_EXP', u'Period', u'Romance', u'Romantic', u'Sci-Fi',\n",
       "       u'Sports', u'Thriller', u'WRITER_EXP', u'War', u'Western',\n",
       "       u'RELEASE_QUARTER_1', u'RELEASE_QUARTER_2', u'RELEASE_QUARTER_3',\n",
       "       u'RELEASE_QUARTER_4'],\n",
       "      dtype='object')"
      ]
     },
     "execution_count": 60,
     "metadata": {},
     "output_type": "execute_result"
    }
   ],
   "source": [
    "movie_features.columns"
   ]
  },
  {
   "cell_type": "markdown",
   "metadata": {},
   "source": [
    "## Want to get some plots...write these to a directory\n",
    "#### currently without the extra actor/director/writer information..."
   ]
  },
  {
   "cell_type": "code",
   "execution_count": 61,
   "metadata": {
    "collapsed": false
   },
   "outputs": [],
   "source": [
    "column_names = list(movie_features.columns)\n",
    "\n",
    "for column in column_names:\n",
    "    try:\n",
    "    #     print movie_features[column]\n",
    "        # create plots of column vs foreign budget\n",
    "\n",
    "        ## want to rescale budget and domestic fields to make the graphs look better and be \n",
    "        ## easier to understand\n",
    "        if column == 'BUDGET':\n",
    "            plt.scatter(movie_features[column]/float(1000000),movie_target/float(1000000),alpha=0.2)\n",
    "        elif column == 'DOMESTIC_OPENING':\n",
    "            plt.scatter(movie_features[column]/float(1000000),movie_target/float(1000000),alpha=0.2)\n",
    "        else:\n",
    "            plt.scatter(movie_features[column],movie_target/float(1000000),alpha=0.2)\n",
    "\n",
    "        plt.xlabel(column)\n",
    "        plt.ylabel('foreign gross (millions $)')\n",
    "\n",
    "        path = '/Users/williamcosby/Documents/metis/Project_Luther/plots/'+str(column)+'.png'\n",
    "        plt.savefig(path)\n",
    "        plt.close() \n",
    "    except:\n",
    "        print column\n",
    "        print movie_features[column]"
   ]
  },
  {
   "cell_type": "markdown",
   "metadata": {},
   "source": [
    "# Start some modeling\n",
    "### Split the data into features and targets\n",
    "\n"
   ]
  },
  {
   "cell_type": "code",
   "execution_count": 62,
   "metadata": {
    "collapsed": false
   },
   "outputs": [],
   "source": [
    "from sklearn import linear_model\n",
    "from sklearn import cross_validation\n",
    "from sklearn.cross_validation import cross_val_predict, train_test_split,KFold, cross_val_score"
   ]
  },
  {
   "cell_type": "markdown",
   "metadata": {},
   "source": [
    "# Training, Testing, and holdout splits\n",
    "\n",
    "#### nh means \"not holdout\""
   ]
  },
  {
   "cell_type": "markdown",
   "metadata": {},
   "source": [
    "### Make a holdout set from the data (dropping domestic opening)"
   ]
  },
  {
   "cell_type": "code",
   "execution_count": 72,
   "metadata": {
    "collapsed": false
   },
   "outputs": [],
   "source": [
    "movie_features_nh, movie_features_holdout, movie_target_nh, movie_target_holdout = cross_validation.train_test_split(movie_features.drop(['DOMESTIC_OPENING'],axis=1),movie_target,\n",
    "                                                            test_size=0.1)"
   ]
  },
  {
   "cell_type": "markdown",
   "metadata": {},
   "source": [
    "### Now split the data into the train and test sets (within the non-holdout data) and create the model"
   ]
  },
  {
   "cell_type": "code",
   "execution_count": 73,
   "metadata": {
    "collapsed": true
   },
   "outputs": [],
   "source": [
    "movie_features_train, movie_features_test, movie_target_train, movie_target_test = cross_validation.train_test_split(\n",
    "                                                            movie_features_nh,movie_target_nh,\n",
    "                                                            test_size=0.3)"
   ]
  },
  {
   "cell_type": "code",
   "execution_count": 74,
   "metadata": {
    "collapsed": false
   },
   "outputs": [],
   "source": [
    "shuffler = cross_validation.ShuffleSplit(len(movie_features_train),n_iter=10,test_size=0.1)\n",
    "kfold = KFold(len(movie_features_train),n_folds=10)"
   ]
  },
  {
   "cell_type": "markdown",
   "metadata": {},
   "source": [
    "## Train lin reg (without domestic opening)"
   ]
  },
  {
   "cell_type": "code",
   "execution_count": 78,
   "metadata": {
    "collapsed": false
   },
   "outputs": [
    {
     "name": "stdout",
     "output_type": "stream",
     "text": [
      "vanilla lin reg score:  0.579367288625\n",
      "cross val scores:  [ 0.6532983   0.48137701  0.45802075  0.71397117  0.36038639 -0.00335463\n",
      "  0.70806779  0.53837398  0.47783621  0.54723408]\n",
      "\n",
      "mean cross vall score:  0.493521105797\n"
     ]
    }
   ],
   "source": [
    "lr_vanilla = linear_model.LinearRegression()\n",
    "lr_vanilla.fit(movie_features_train,movie_target_train)\n",
    "print \"vanilla lin reg score: \", lr_vanilla.score(movie_features_test, movie_target_test)\n",
    "\n",
    "# get cross val scores:\n",
    "scores = cross_val_score(lr_vanilla,movie_features_train,movie_target_train,cv=kfold)\n",
    "mean_score_lr = np.mean(scores)\n",
    "print \"cross val scores: \",scores\n",
    "print\n",
    "print \"mean cross vall score: \",mean_score_lr"
   ]
  },
  {
   "cell_type": "markdown",
   "metadata": {},
   "source": [
    "# Run on holdout set"
   ]
  },
  {
   "cell_type": "code",
   "execution_count": 634,
   "metadata": {
    "collapsed": false
   },
   "outputs": [
    {
     "data": {
      "text/plain": [
       "0.73847807956486688"
      ]
     },
     "execution_count": 634,
     "metadata": {},
     "output_type": "execute_result"
    }
   ],
   "source": [
    "# with domestic opening information\n",
    "# lr_nodom.score(movie_features_holdout, movie_target_holdout)"
   ]
  },
  {
   "cell_type": "code",
   "execution_count": 79,
   "metadata": {
    "collapsed": false
   },
   "outputs": [
    {
     "data": {
      "text/plain": [
       "0.57373325504609352"
      ]
     },
     "execution_count": 79,
     "metadata": {},
     "output_type": "execute_result"
    }
   ],
   "source": [
    "# without domestic opening information\n",
    "lr_vanilla.score(movie_features_holdout,movie_target_holdout)"
   ]
  },
  {
   "cell_type": "markdown",
   "metadata": {},
   "source": [
    "# Random Forest"
   ]
  },
  {
   "cell_type": "code",
   "execution_count": 80,
   "metadata": {
    "collapsed": false
   },
   "outputs": [
    {
     "data": {
      "text/plain": [
       "34"
      ]
     },
     "execution_count": 80,
     "metadata": {},
     "output_type": "execute_result"
    }
   ],
   "source": [
    "len(movie_features.columns)"
   ]
  },
  {
   "cell_type": "code",
   "execution_count": 81,
   "metadata": {
    "collapsed": true
   },
   "outputs": [],
   "source": [
    "from sklearn.ensemble import RandomForestRegressor"
   ]
  },
  {
   "cell_type": "code",
   "execution_count": 90,
   "metadata": {
    "collapsed": false
   },
   "outputs": [
    {
     "name": "stdout",
     "output_type": "stream",
     "text": [
      "Random Forest result with no domestic information:  0.606224419186\n",
      "cross val scores:  [ 0.48826138  0.30478802  0.19878034  0.73926572  0.31109822  0.01431588\n",
      "  0.72549982  0.66093413  0.49812835  0.63055132]\n",
      "mean cross val score:  0.45716231626\n"
     ]
    }
   ],
   "source": [
    "rf = RandomForestRegressor(n_estimators=1000,max_features=25)\n",
    "rf.fit(movie_features_train,movie_target_train)\n",
    "print \"Random Forest result with no domestic information: \", rf.score(movie_features_test,movie_target_test)\n",
    "\n",
    "rf_scores = cross_val_score(rf,movie_features_train,movie_target_train,cv=kfold)\n",
    "mean_score_rf = np.mean(rf_scores)\n",
    "print \"cross val scores: \", rf_scores\n",
    "print \"mean cross val score: \",mean_score_rf\n",
    "\n",
    "\n",
    "# rf = RandomForestRegressor(n_estimators=1000,max_features=25)\n",
    "# rf.fit(movie_features_train,movie_target_train)\n",
    "# print \"Random Forest result with domestic information: \", rf.score(movie_features_test,movie_target_test)\n",
    "\n"
   ]
  },
  {
   "cell_type": "code",
   "execution_count": 88,
   "metadata": {
    "collapsed": false
   },
   "outputs": [
    {
     "name": "stdout",
     "output_type": "stream",
     "text": [
      "holdout test:  0.45314478212\n"
     ]
    }
   ],
   "source": [
    "# test on holdout set\n",
    "score = rf.score(movie_features_holdout, movie_target_holdout)\n",
    "print \"holdout test: \", score"
   ]
  },
  {
   "cell_type": "code",
   "execution_count": 87,
   "metadata": {
    "collapsed": false
   },
   "outputs": [
    {
     "name": "stdout",
     "output_type": "stream",
     "text": [
      "Random Forest result with no domestic information:  0.602041920119\n",
      "cross val scores:  [ 0.50192064  0.29796782  0.22123573  0.73780074  0.2713074   0.03431536\n",
      "  0.7283095   0.66657319  0.49598112  0.61528608]\n",
      "mean cross val score:  0.457069758676\n"
     ]
    }
   ],
   "source": [
    "rf = RandomForestRegressor(n_estimators=1000,max_features=30)\n",
    "rf.fit(movie_features_train,movie_target_train)\n",
    "print \"Random Forest result with no domestic information: \", rf.score(movie_features_test,movie_target_test)\n",
    "\n",
    "rf_scores = cross_val_score(rf,movie_features_train,movie_target_train,cv=kfold)\n",
    "mean_score_rf = np.mean(rf_scores)\n",
    "print \"cross val scores: \", rf_scores\n",
    "print \"mean cross val score: \",mean_score_rf\n"
   ]
  },
  {
   "cell_type": "code",
   "execution_count": 89,
   "metadata": {
    "collapsed": false
   },
   "outputs": [
    {
     "name": "stdout",
     "output_type": "stream",
     "text": [
      "holdout test:  0.45314478212\n"
     ]
    }
   ],
   "source": [
    "score = rf.score(movie_features_holdout, movie_target_holdout)\n",
    "print \"holdout test: \", score"
   ]
  },
  {
   "cell_type": "markdown",
   "metadata": {},
   "source": [
    "# Gradient Boost"
   ]
  },
  {
   "cell_type": "code",
   "execution_count": 86,
   "metadata": {
    "collapsed": true
   },
   "outputs": [],
   "source": [
    "from sklearn.ensemble import GradientBoostingRegressor"
   ]
  },
  {
   "cell_type": "code",
   "execution_count": 91,
   "metadata": {
    "collapsed": false
   },
   "outputs": [
    {
     "name": "stdout",
     "output_type": "stream",
     "text": [
      "0.500384546287\n"
     ]
    }
   ],
   "source": [
    "grad_boost = GradientBoostingRegressor(n_estimators=200,learning_rate=0.1,alpha=0.3,loss='lad')\n",
    "\n",
    "grad_boost.fit(movie_features_train,movie_target_train)\n",
    "grad_boost.score(movie_features_test,movie_target_test)\n",
    "\n",
    "scores = cross_val_score(grad_boost,movie_features_train,movie_target_train)\n",
    "print np.mean(scores)"
   ]
  },
  {
   "cell_type": "code",
   "execution_count": 93,
   "metadata": {
    "collapsed": false
   },
   "outputs": [
    {
     "data": {
      "text/plain": [
       "0.40326590782731986"
      ]
     },
     "execution_count": 93,
     "metadata": {},
     "output_type": "execute_result"
    }
   ],
   "source": [
    "grad_boost.score(movie_features_holdout, movie_target_holdout)"
   ]
  },
  {
   "cell_type": "code",
   "execution_count": 94,
   "metadata": {
    "collapsed": false
   },
   "outputs": [
    {
     "name": "stdout",
     "output_type": "stream",
     "text": [
      "0.500384546287\n"
     ]
    }
   ],
   "source": [
    "grad_boost_2 = GradientBoostingRegressor(n_estimators=400,learning_rate=0.1,alpha=0.3,loss='lad')\n",
    "\n",
    "grad_boost_2.fit(movie_features_train,movie_target_train)\n",
    "grad_boost_2.score(movie_features_test,movie_target_test)\n",
    "\n",
    "scores_2 = cross_val_score(grad_boost_2,movie_features_train,movie_target_train)\n",
    "print np.mean(scores)"
   ]
  },
  {
   "cell_type": "code",
   "execution_count": 97,
   "metadata": {
    "collapsed": false
   },
   "outputs": [
    {
     "name": "stdout",
     "output_type": "stream",
     "text": [
      "0.367863504787\n"
     ]
    }
   ],
   "source": [
    "grad_boost = GradientBoostingRegressor(n_estimators=200,learning_rate=0.1,alpha=0.3,loss='huber')\n",
    "\n",
    "grad_boost.fit(movie_features_train,movie_target_train)\n",
    "grad_boost.score(movie_features_test,movie_target_test)\n",
    "\n",
    "scores = cross_val_score(grad_boost,movie_features_train,movie_target_train)\n",
    "print np.mean(scores)"
   ]
  },
  {
   "cell_type": "markdown",
   "metadata": {},
   "source": [
    "# Grid Searching Parameters"
   ]
  },
  {
   "cell_type": "code",
   "execution_count": 98,
   "metadata": {
    "collapsed": true
   },
   "outputs": [],
   "source": [
    "from sklearn import grid_search"
   ]
  },
  {
   "cell_type": "markdown",
   "metadata": {},
   "source": [
    "## Linear Regression"
   ]
  },
  {
   "cell_type": "code",
   "execution_count": 99,
   "metadata": {
    "collapsed": true
   },
   "outputs": [],
   "source": [
    "models = {}\n",
    "models['lin_reg'] = linear_model.LinearRegression()\n",
    "models['ridge'] = linear_model.Ridge()\n",
    "models['lasso'] = linear_model.Lasso(alpha = 2) # ran this normally...alpha =2 kills more features than default\n",
    "models['elastic'] = linear_model.ElasticNet()\n",
    "models['elasticCV'] = linear_model.ElasticNetCV()\n",
    "models['larscv'] = linear_model.LarsCV()\n",
    "models['lassoCV'] = linear_model.LassoCV()"
   ]
  },
  {
   "cell_type": "code",
   "execution_count": 114,
   "metadata": {
    "collapsed": false,
    "scrolled": true
   },
   "outputs": [
    {
     "name": "stdout",
     "output_type": "stream",
     "text": [
      "Model: ridge\n",
      "Score: 0.586712870227\n",
      "Model: elastic\n",
      "Score: 0.608895115779\n",
      "Model: lin_reg\n",
      "Score: 0.579367288625\n",
      "Model: lassoCV\n",
      "Score: 0.612039094156\n",
      "Model: lasso\n",
      "Score: 0.579367465312\n",
      "Model: larscv\n",
      "Score: 0.591332294232\n",
      "Model: elasticCV\n",
      "Score: 0.611758311954\n"
     ]
    },
    {
     "data": {
      "image/png": "[encoded data removed]",
      "text/plain": [
       "<matplotlib.figure.Figure at 0x112ca0610>"
      ]
     },
     "metadata": {},
     "output_type": "display_data"
    }
   ],
   "source": [
    "# and lol remember that dictionaries are NOT ordered\n",
    "for name,model in models.iteritems():\n",
    "    model.fit(movie_features_train,movie_target_train)\n",
    "    print('Model: '+name)\n",
    "    preds = model.predict(movie_features_test)\n",
    "    plt.scatter(preds,movie_target_test, alpha=0.3)\n",
    "    plt.show\n",
    "    print('Score: ' + str(model.score(movie_features_test,movie_target_test)))\n",
    "    preds = model.predict(movie_features_test_nodom)\n",
    "#     plt.scatter(preds,movie_target_test, alpha=0.3)\n",
    "#     plt.show"
   ]
  },
  {
   "cell_type": "markdown",
   "metadata": {},
   "source": [
    "# want to see the effect of normalizing and different parameters\n",
    "# np.logspace selects numbers evenly from -4 to -0.1 (on log scale, goes from 10^4 to 10^0.1)"
   ]
  },
  {
   "cell_type": "code",
   "execution_count": 123,
   "metadata": {
    "collapsed": false
   },
   "outputs": [
    {
     "name": "stdout",
     "output_type": "stream",
     "text": [
      "lassoCV score:  0.612039094156\n",
      "lassoCV cross val scores:  [ 0.56611277  0.53537129  0.50528709]\n",
      "mean lassoCV cross val scores:  0.535590381273\n",
      "holdout performance:  0.499478972046\n"
     ]
    }
   ],
   "source": [
    "lassoCV = linear_model.LassoCV()\n",
    "lassoCV.fit(movie_features_train,movie_target_train)\n",
    "preds = lassoCV.predict(movie_features_test)\n",
    "# plt.scatter(preds,movie_target_test,alpha=0.3)\n",
    "print \"lassoCV score: \", lassoCV.score(movie_features_test,movie_target_test)\n",
    "scores = cross_val_score(lassoCV,movie_features_train,movie_target_train)\n",
    "print \"lassoCV cross val scores: \",scores\n",
    "print \"mean lassoCV cross val scores: \",np.mean(scores)\n",
    "print \"holdout performance: \", lassoCV.score(movie_features_holdout,movie_target_holdout)"
   ]
  },
  {
   "cell_type": "code",
   "execution_count": 115,
   "metadata": {
    "collapsed": false
   },
   "outputs": [
    {
     "data": {
      "text/plain": [
       "GridSearchCV(cv=None, error_score='raise',\n",
       "       estimator=Lasso(alpha=1.0, copy_X=True, fit_intercept=True, max_iter=1000,\n",
       "   normalize=False, positive=False, precompute=False, random_state=None,\n",
       "   selection='cyclic', tol=0.0001, warm_start=False),\n",
       "       fit_params={}, iid=True, n_jobs=1,\n",
       "       param_grid={'normalize': (True, False), 'alpha': array([  1.00000e-04,   1.36296e-04,   1.85766e-04,   2.53191e-04,\n",
       "         3.45089e-04,   4.70342e-04,   6.41057e-04,   8.73734e-04,\n",
       "         1.19086e-03,   1.62310e-03,   2.21222e-03,   3.01516e-03,\n",
       "         4.10954e-03,   5.60113e-03,   7.63411e-03...    1.68883e-01,   2.30181e-01,   3.13727e-01,   4.27597e-01,\n",
       "         5.82797e-01,   7.94328e-01])},\n",
       "       pre_dispatch='2*n_jobs', refit=True, scoring=None, verbose=0)"
      ]
     },
     "execution_count": 115,
     "metadata": {},
     "output_type": "execute_result"
    }
   ],
   "source": [
    "lasso = linear_model.Lasso()\n",
    "\n",
    "parameters = {'normalize':(True,False),'alpha':np.logspace(-4,-.1,30)}\n",
    "grid_searcher = grid_search.GridSearchCV(lasso,parameters)\n",
    "grid_searcher.fit(movie_features_train,movie_target_train)"
   ]
  },
  {
   "cell_type": "code",
   "execution_count": 110,
   "metadata": {
    "collapsed": false
   },
   "outputs": [
    {
     "data": {
      "text/plain": [
       "{'alpha': 0.79432823472428149, 'normalize': True}"
      ]
     },
     "execution_count": 110,
     "metadata": {},
     "output_type": "execute_result"
    }
   ],
   "source": [
    "grid_searcher.best_params_"
   ]
  },
  {
   "cell_type": "code",
   "execution_count": 111,
   "metadata": {
    "collapsed": false
   },
   "outputs": [],
   "source": [
    "best_lasso_model = grid_searcher.best_estimator_"
   ]
  },
  {
   "cell_type": "code",
   "execution_count": 112,
   "metadata": {
    "collapsed": false
   },
   "outputs": [
    {
     "data": {
      "text/plain": [
       "0.57936760397123499"
      ]
     },
     "execution_count": 112,
     "metadata": {},
     "output_type": "execute_result"
    }
   ],
   "source": [
    "best_lasso_model.score(movie_features_test,movie_target_test)"
   ]
  },
  {
   "cell_type": "code",
   "execution_count": null,
   "metadata": {
    "collapsed": true
   },
   "outputs": [],
   "source": []
  },
  {
   "cell_type": "code",
   "execution_count": 127,
   "metadata": {
    "collapsed": false
   },
   "outputs": [
    {
     "data": {
      "text/plain": [
       "[<matplotlib.lines.Line2D at 0x119faa0d0>]"
      ]
     },
     "execution_count": 127,
     "metadata": {},
     "output_type": "execute_result"
    },
    {
     "data": {
      "image/png": "[encoded data removed]",
      "text/plain": [
       "<matplotlib.figure.Figure at 0x119faa190>"
      ]
     },
     "metadata": {},
     "output_type": "display_data"
    }
   ],
   "source": [
    "temp = np.linspace(0,600000000,7000)\n",
    "\n",
    "preds = best_lasso_model.predict(movie_features_test)\n",
    "plt.scatter(preds,movie_target_test,alpha=0.2)\n",
    "plt.xlim(0)\n",
    "plt.ylim(0)\n",
    "plt.plot(temp,temp,'k--')"
   ]
  },
  {
   "cell_type": "code",
   "execution_count": 131,
   "metadata": {
    "collapsed": true
   },
   "outputs": [],
   "source": [
    "import seaborn as sns"
   ]
  },
  {
   "cell_type": "code",
   "execution_count": 135,
   "metadata": {
    "collapsed": false
   },
   "outputs": [
    {
     "ename": "AttributeError",
     "evalue": "'module' object has no attribute 'xlim'",
     "output_type": "error",
     "traceback": [
      "\u001b[0;31m---------------------------------------------------------------------------\u001b[0m",
      "\u001b[0;31mAttributeError\u001b[0m                            Traceback (most recent call last)",
      "\u001b[0;32m<ipython-input-135-f9d734080d1c>\u001b[0m in \u001b[0;36m<module>\u001b[0;34m()\u001b[0m\n\u001b[1;32m      1\u001b[0m \u001b[0msns\u001b[0m\u001b[0;34m.\u001b[0m\u001b[0mregplot\u001b[0m\u001b[0;34m(\u001b[0m\u001b[0mpreds\u001b[0m\u001b[0;34m,\u001b[0m\u001b[0mmovie_target_test\u001b[0m\u001b[0;34m)\u001b[0m\u001b[0;34m\u001b[0m\u001b[0m\n\u001b[0;32m----> 2\u001b[0;31m \u001b[0msns\u001b[0m\u001b[0;34m.\u001b[0m\u001b[0mxlim\u001b[0m\u001b[0;34m(\u001b[0m\u001b[0;36m0\u001b[0m\u001b[0;34m)\u001b[0m\u001b[0;34m\u001b[0m\u001b[0m\n\u001b[0m\u001b[1;32m      3\u001b[0m \u001b[0msns\u001b[0m\u001b[0;34m.\u001b[0m\u001b[0mylim\u001b[0m\u001b[0;34m(\u001b[0m\u001b[0;36m0\u001b[0m\u001b[0;34m)\u001b[0m\u001b[0;34m\u001b[0m\u001b[0m\n",
      "\u001b[0;31mAttributeError\u001b[0m: 'module' object has no attribute 'xlim'"
     ]
    },
    {
     "data": {
      "image/png": "[encoded data removed]",
      "text/plain": [
       "<matplotlib.figure.Figure at 0x11b86a190>"
      ]
     },
     "metadata": {},
     "output_type": "display_data"
    }
   ],
   "source": [
    "sns.regplot(preds,movie_target_test)\n",
    "sns.xlim(0)\n",
    "sns.ylim(0)"
   ]
  },
  {
   "cell_type": "code",
   "execution_count": null,
   "metadata": {
    "collapsed": true
   },
   "outputs": [],
   "source": []
  },
  {
   "cell_type": "code",
   "execution_count": null,
   "metadata": {
    "collapsed": true
   },
   "outputs": [],
   "source": []
  },
  {
   "cell_type": "code",
   "execution_count": 128,
   "metadata": {
    "collapsed": false
   },
   "outputs": [],
   "source": [
    "scores = cross_val_score(best_lasso_model, movie_features_train,movie_target_train,cv=kfold)"
   ]
  },
  {
   "cell_type": "code",
   "execution_count": 129,
   "metadata": {
    "collapsed": false
   },
   "outputs": [
    {
     "name": "stdout",
     "output_type": "stream",
     "text": [
      "('scores: ', array([ 0.65329831,  0.48137696,  0.45802107,  0.71397138,  0.36038698,\n",
      "       -0.00335373,  0.70806757,  0.53837412,  0.47783613,  0.54723437]))\n",
      "avg score:  0.493521316324\n"
     ]
    }
   ],
   "source": [
    "print (\"scores: \",scores)\n",
    "print \"avg score: \", np.mean(scores)"
   ]
  },
  {
   "cell_type": "code",
   "execution_count": 130,
   "metadata": {
    "collapsed": false
   },
   "outputs": [
    {
     "data": {
      "text/plain": [
       "0.57373305449398626"
      ]
     },
     "execution_count": 130,
     "metadata": {},
     "output_type": "execute_result"
    }
   ],
   "source": [
    "best_lasso_model.score(movie_features_holdout,movie_target_holdout)"
   ]
  },
  {
   "cell_type": "markdown",
   "metadata": {},
   "source": [
    "# Doing the actor/director/producer/writer experience thing bumped my scores for lin reg up ~10%"
   ]
  },
  {
   "cell_type": "markdown",
   "metadata": {},
   "source": [
    "# Gradient Boosting"
   ]
  },
  {
   "cell_type": "code",
   "execution_count": null,
   "metadata": {
    "collapsed": true
   },
   "outputs": [],
   "source": []
  },
  {
   "cell_type": "code",
   "execution_count": null,
   "metadata": {
    "collapsed": true
   },
   "outputs": [],
   "source": []
  },
  {
   "cell_type": "code",
   "execution_count": null,
   "metadata": {
    "collapsed": true
   },
   "outputs": [],
   "source": []
  },
  {
   "cell_type": "markdown",
   "metadata": {},
   "source": [
    "# Things to ask:\n",
    "* Gridsearch with gradient boosting?\n",
    "* Gridsearch with random forests"
   ]
  },
  {
   "cell_type": "code",
   "execution_count": null,
   "metadata": {
    "collapsed": true
   },
   "outputs": [],
   "source": []
  }
 ],
 "metadata": {
  "kernelspec": {
   "display_name": "Python 2",
   "language": "python",
   "name": "python2"
  },
  "language_info": {
   "codemirror_mode": {
    "name": "ipython",
    "version": 2
   },
   "file_extension": ".py",
   "mimetype": "text/x-python",
   "name": "python",
   "nbconvert_exporter": "python",
   "pygments_lexer": "ipython2",
   "version": "2.7.12"
  }
 },
 "nbformat": 4,
 "nbformat_minor": 0
}
