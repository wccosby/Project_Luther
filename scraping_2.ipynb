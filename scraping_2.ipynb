{
 "cells": [
  {
   "cell_type": "markdown",
   "metadata": {},
   "source": [
    "# Not all movies have a foreign release!!~~~!!!!!!"
   ]
  },
  {
   "cell_type": "code",
   "execution_count": 2,
   "metadata": {
    "collapsed": true
   },
   "outputs": [],
   "source": [
    "import pandas as pd\n",
    "import numpy as np\n",
    "import matplotlib.pyplot as plt\n",
    "from bs4 import BeautifulSoup\n",
    "\n",
    "%matplotlib inline"
   ]
  },
  {
   "cell_type": "code",
   "execution_count": 3,
   "metadata": {
    "collapsed": true
   },
   "outputs": [],
   "source": [
    "# if needed: pip install requests\n",
    "import requests\n",
    "\n",
    "url = 'http://boxofficemojo.com/movies/?id=biglebowski.htm'\n",
    "\n",
    "response = requests.get(url)"
   ]
  },
  {
   "cell_type": "code",
   "execution_count": 6,
   "metadata": {
    "collapsed": false
   },
   "outputs": [
    {
     "data": {
      "text/plain": [
       "200"
      ]
     },
     "execution_count": 6,
     "metadata": {},
     "output_type": "execute_result"
    }
   ],
   "source": [
    "response.status_code"
   ]
  },
  {
   "cell_type": "code",
   "execution_count": 8,
   "metadata": {
    "collapsed": false
   },
   "outputs": [],
   "source": [
    "page_lebowski = response.text\n",
    "soup_lebowski = BeautifulSoup(page_lebowski)"
   ]
  },
  {
   "cell_type": "code",
   "execution_count": 9,
   "metadata": {
    "collapsed": false,
    "scrolled": true
   },
   "outputs": [
    {
     "name": "stdout",
     "output_type": "stream",
     "text": [
      "(<div class=\"mp_box_content\">\\n<table border=\"0\" cellpadding=\"0\" cellspacing=\"0\">\\n<tr>\\n<td width=\"40%\"><b>Domestic:</b></td>\\n<td align=\"right\" width=\"35%\">\\xa0<b>$17,451,873</b></td>\\n</tr>\\n</table>\\n</div>, '\\n')\n",
      "(<div class=\"mp_box_content\">\\n<table border=\"0\" cellpadding=\"0\" cellspacing=\"0\">\\n<tr>\\n<td align=\"center\"><a href=\"/weekend/chart/?yr=1998&amp;wknd=10&amp;p=.htm\">Opening\\xa0Weekend:</a></td><td>\\xa0$5,533,844</td></tr>\\n<tr>\\n<td align=\"center\" colspan=\"2\"><font size=\"2\">(#6 rank, 1,207 theaters, $4,585 average)</font></td></tr>\\n<tr>\\n<td align=\"right\">%\\xa0of\\xa0Total\\xa0Gross:</td><td>\\xa031.7%</td></tr>\\n<tr><td align=\"right\" colspan=\"2\"><font face=\"Helvetica, Arial, Sans-Serif\" size=\"1\"><a href=\"/movies/?page=weekend&amp;id=biglebowski.htm\"><b>&gt; View All 4 Weekends</b></a></font></td></tr>\\n</table>\\n<table border=\"0\" cellpadding=\"0\" cellspacing=\"0\">\\n<tr>\\n<td>Widest\\xa0Release:</td>\\n<td>\\xa01,235 theaters</td>\\n</tr>\\n</table>\\n</div>, '\\n')\n",
      "(<div class=\"mp_box_content\">\\n<table>\\n</table></div>, '\\n')\n",
      "(<div class=\"mp_box_content\">\\n<table border=\"0\" cellpadding=\"5\" cellspacing=\"1\" style=\"border-collapse: collapse\" width=\"100%\">\\n<tr><th>Genre</th>\\n<th>Rank</th></tr>\\n<tr bgcolor=\"#ffffff\"><td><font size=\"2\"><a href=\"/genres/chart/?id=blackcomedy.htm\">Comedy - Dark/Black</a></font></td>\\n<td align=\"center\"><font size=\"2\">31</font></td>\\n</tr>\\n<tr bgcolor=\"#f4f4ff\"><td><font size=\"2\"><a href=\"/genres/chart/?id=slackerstoner.htm\">Slacker / Stoner</a></font></td>\\n<td align=\"center\"><font size=\"2\">35</font></td>\\n</tr>\\n</table></div>, '\\n')\n",
      "(<div class=\"mp_box_content\">\\n<table border=\"0\" cellpadding=\"5\" cellspacing=\"1\" style=\"border-collapse: collapse\" width=\"100%\">\\n<tr><td bgcolor=\"\"><b>Chart</b></td>\\n<td align=\"center\"><b>Rank</b></td>\\n</tr>\\n<tr bgcolor=\"#ffffff\"><td><font size=\"2\"><a href=\"/alltime/domestic.htm\">All Time Domestic</a></font></td>\\n<td align=\"center\"><font size=\"2\">3,407</font></td>\\n</tr>\\n<tr bgcolor=\"#f4f4ff\"><td><font size=\"2\"><a href=\"/yearly/chart/?yr=1998&amp;p=.htm\">Yearly 1998</a></font></td>\\n<td align=\"center\"><font size=\"2\">96</font></td>\\n</tr>\\n<tr bgcolor=\"#ffffff\"><td><font size=\"2\"><a href=\"/yearly/chart/?view2=releasedate&amp;view=opening&amp;yr=1998&amp;p=.htm\">Yearly Opening Weekends 1998</a></font></td>\\n<td align=\"center\"><font size=\"2\">88</font></td>\\n</tr>\\n<tr bgcolor=\"#f4f4ff\"><td><font size=\"2\"><a href=\"/yearly/chart/mpaarating.htm?rating=R&amp;yr=1998&amp;p=.htm\">Yearly R Rated 1998</a></font></td>\\n<td align=\"center\"><font size=\"2\">41</font></td>\\n</tr>\\n<tr bgcolor=\"#ffffff\"><td><font size=\"2\"><a href=\"/alltime/openingweeks.htm\">Opening Weeks</a></font></td>\\n<td align=\"center\"><font size=\"2\">2,878</font></td>\\n</tr>\\n<tr bgcolor=\"#f4f4ff\"><td><font size=\"2\"><a href=\"/alltime/weekends/\">Opening Weekends</a></font></td>\\n<td align=\"center\"><font size=\"2\">2,792</font></td>\\n</tr>\\n<tr bgcolor=\"#ffffff\"><td><font size=\"2\"><a href=\"/alltime/weekends/smallestdrops.htm?page=SMALLDROPWID&amp;p=.htm\">Smallest Drops, All Wide Releases</a></font></td>\\n<td align=\"center\"><font size=\"2\">1,583</font></td>\\n</tr>\\n<tr bgcolor=\"#f4f4ff\"><td><font size=\"2\">BOM Users' Grades (1998 Releases)</font></td>\\n<td align=\"center\"><font size=\"2\">15</font></td>\\n</tr>\\n<tr><td><b>Charts (Premier Pass Users Only)</b></td><td align=\"center\"><b>Rank</b></td></tr><tr bgcolor=\"#ffffff\"><td><font size=\"2\"><a href=\"/alltime/domestic.htm?page=14&amp;asof=1998-04-10&amp;p=.htm\">Highest All Time Rank (on April 10, 1998)</a></font></td>\\n<td align=\"center\"><font size=\"2\">1364</font></td>\\n</tr>\\n<tr bgcolor=\"#f4f4ff\"><td><font size=\"2\"><a href=\"/yearly/chart/?view2=wide&amp;view=domestic&amp;yr=1998&amp;p=.htm\">Yearly (Wide) 1998</a></font></td>\\n<td align=\"center\"><font size=\"2\">90</font></td>\\n</tr>\\n<tr bgcolor=\"#ffffff\"><td><font size=\"2\"><a href=\"/yearly/chart/?view2=opening&amp;yr=1998&amp;p=.htm\">Yearly Opening Weekends (Wide) 1998</a></font></td>\\n<td align=\"center\"><font size=\"2\">91</font></td>\\n</tr>\\n<tr bgcolor=\"#f4f4ff\"><td><font size=\"2\"><a href=\"/alltime/openingweeks.htm?adjust_yr=2016&amp;p=.htm\">Opening Weeks Adjusted</a></font></td>\\n<td align=\"center\"><font size=\"2\">2,719</font></td>\\n</tr>\\n<tr bgcolor=\"#ffffff\"><td><font size=\"2\"><a href=\"/alltime/weekends/?adjust_yr=2016&amp;p=.htm\">Opening Weekends Adjusted</a></font></td>\\n<td align=\"center\"><font size=\"2\">2,650</font></td>\\n</tr>\\n</table></div>, '\\n')\n",
      "(<div class=\"mp_box_content\"><table border=\"0\" cellpadding=\"5\" cellspacing=\"0\" width=\"100%\"><tr bgcolor=\"#ffff99\"><td><font size=\"2\"><a href=\"/news/?id=2680&amp;p=.htm\">2/11/10 2010 Preview: True Grit</a></font></td></tr></table></div>, '\\n')\n",
      "(<div class=\"mp_box_content\"><ul>\\n<li><a href=\"http://www.amazon.com/gp/product/B000A7DVR2?ie=UTF8&amp;tag=boxofficemojo-20&amp;linkCode=as2&amp;camp=1789&amp;creative=9325&amp;creativeASIN=B000A7DVR2\">The Big Lebowski (Collector's Edition)</a><img alt=\"\" border=\"0\" height=\"1\" src=\"http://www.assoc-amazon.com/e/ir?t=boxofficemojo-20&amp;l=as2&amp;o=1&amp;a=B000A7DVR2\" style=\"border:none !important; margin:0px !important;\" width=\"1\"/></li>\\n<li><a href=\"http://www.amazon.com/gp/product/B000A7DVY0?ie=UTF8&amp;tag=boxofficemojo-20&amp;linkCode=as2&amp;camp=1789&amp;creative=9325&amp;creativeASIN=B000A7DVY0\">The Big Lebowski - Achiever's Edition</a><img alt=\"\" border=\"0\" height=\"1\" src=\"http://www.assoc-amazon.com/e/ir?t=boxofficemojo-20&amp;l=as2&amp;o=1&amp;a=B000A7DVY0\" style=\"border:none !important; margin:0px !important;\" width=\"1\"/></li>\\n<li><a href=\"http://www.amazon.com/gp/product/B000ASATSU?ie=UTF8&amp;tag=boxofficemojo-20&amp;linkCode=as2&amp;camp=1789&amp;creative=9325&amp;creativeASIN=B000ASATSU\">The Coen Brothers Collection</a><img alt=\"\" border=\"0\" height=\"1\" src=\"http://www.assoc-amazon.com/e/ir?t=boxofficemojo-20&amp;l=as2&amp;o=1&amp;a=B000ASATSU\" style=\"border:none !important; margin:0px !important;\" width=\"1\"/></li>\\n<li><a href=\"http://www.amazon.com/gp/product/B000O179EK?ie=UTF8&amp;tag=boxofficemojo-20&amp;linkCode=as2&amp;camp=1789&amp;creative=9325&amp;creativeASIN=B000O179EK\">The Big Lebowski (HD-DVD)</a><img alt=\"\" border=\"0\" height=\"1\" src=\"http://www.assoc-amazon.com/e/ir?t=boxofficemojo-20&amp;l=as2&amp;o=1&amp;a=B000O179EK\" style=\"border:none !important; margin:0px !important;\" width=\"1\"/></li>\\n<li><a href=\"http://www.amazon.com/gp/product/B000O179EK?ie=UTF8&amp;tag=boxofficemojo-20&amp;linkCode=as2&amp;camp=1789&amp;creative=9325&amp;creativeASIN=B000O179EK\">The Big Lebowski (HD-DVD)</a><img alt=\"\" border=\"0\" height=\"1\" src=\"http://www.assoc-amazon.com/e/ir?t=boxofficemojo-20&amp;l=as2&amp;o=1&amp;a=B000O179EK\" style=\"border:none !important; margin:0px !important;\" width=\"1\"/></li>\\n<li><a href=\"http://www.amazon.com/gp/product/B001AEF6CW?ie=UTF8&amp;tag=boxofficemojo-20&amp;linkCode=as2&amp;camp=1789&amp;creative=9325&amp;creativeASIN=B001AEF6CW\">The Big Lebowski (10th Anniv. Limited Edition)</a><img alt=\"\" border=\"0\" height=\"1\" src=\"http://www.assoc-amazon.com/e/ir?t=boxofficemojo-20&amp;l=as2&amp;o=1&amp;a=B001AEF6CW\" style=\"border:none !important; margin:0px !important;\" width=\"1\"/></li>\\n<li><a href=\"http://www.amazon.com/gp/product/B001AEF6D6?ie=UTF8&amp;tag=boxofficemojo-20&amp;linkCode=as2&amp;camp=1789&amp;creative=9325&amp;creativeASIN=B001AEF6D6\">The Big Lebowski (10th Anniv. Edition)</a><img alt=\"\" border=\"0\" height=\"1\" src=\"http://www.assoc-amazon.com/e/ir?t=boxofficemojo-20&amp;l=as2&amp;o=1&amp;a=B001AEF6D6\" style=\"border:none !important; margin:0px !important;\" width=\"1\"/></li>\\n</ul></div>, '\\n')\n"
     ]
    }
   ],
   "source": [
    "for element in soup_lebowski.find_all(class_='mp_box_content'):\n",
    "    print(element, '\\n')"
   ]
  },
  {
   "cell_type": "code",
   "execution_count": 10,
   "metadata": {
    "collapsed": true
   },
   "outputs": [],
   "source": [
    "url = 'http://www.boxofficemojo.com/movies/?id=starwars7.htm'\n",
    "\n",
    "response = requests.get(url)"
   ]
  },
  {
   "cell_type": "code",
   "execution_count": 11,
   "metadata": {
    "collapsed": true
   },
   "outputs": [],
   "source": [
    "page_star_wars = response.text\n",
    "soup_star_wars = BeautifulSoup(page_star_wars)"
   ]
  },
  {
   "cell_type": "code",
   "execution_count": 12,
   "metadata": {
    "collapsed": false
   },
   "outputs": [
    {
     "name": "stdout",
     "output_type": "stream",
     "text": [
      "(<div class=\"mp_box_content\">\\n<table border=\"0\" cellpadding=\"0\" cellspacing=\"0\">\\n<tr>\\n<td width=\"40%\"><b>Domestic:</b></td>\\n<td align=\"right\" width=\"35%\">\\xa0<b>$936,662,225</b></td>\\n<td align=\"right\" width=\"25%\">\\xa0\\xa0\\xa0<b>45.3%</b></td>\\n</tr>\\n<tr>\\n<td width=\"40%\">+\\xa0<a href=\"/movies/?page=intl&amp;id=starwars7.htm\">Foreign:</a></td>\\n<td align=\"right\" width=\"35%\">\\xa0$1,131,516,000</td>\\n<td align=\"right\" width=\"25%\">\\xa0\\xa0\\xa054.7%</td>\\n</tr>\\n<tr>\\n<td colspan=\"3\" width=\"100%\"><hr/></td>\\n</tr>\\n<tr>\\n<td width=\"40%\">=\\xa0<b>Worldwide:</b></td>\\n<td align=\"right\" width=\"35%\">\\xa0<b>$2,068,178,225</b></td>\\n<td width=\"25%\">\\xa0</td>\\n</tr>\\n</table>\\n</div>, '\\n')\n",
      "(<div class=\"mp_box_content\">\\n<table border=\"0\" cellpadding=\"0\" cellspacing=\"0\">\\n<tr>\\n<td align=\"center\"><a href=\"/weekend/chart/?yr=2015&amp;wknd=51&amp;p=.htm\">Opening\\xa0Weekend:</a></td><td>\\xa0$247,966,675</td></tr>\\n<tr>\\n<td align=\"center\" colspan=\"2\"><font size=\"2\">(#1 rank, 4,134 theaters, $59,982 average)</font></td></tr>\\n<tr>\\n<td align=\"right\">%\\xa0of\\xa0Total\\xa0Gross:</td><td>\\xa026.5%</td></tr>\\n<tr><td align=\"right\" colspan=\"2\"><font face=\"Helvetica, Arial, Sans-Serif\" size=\"1\"><a href=\"/movies/?page=weekend&amp;id=starwars7.htm\"><b>&gt; View All 24 Weekends</b></a></font></td></tr>\\n</table>\\n<table border=\"0\" cellpadding=\"0\" cellspacing=\"0\">\\n<tr>\\n<td>Widest\\xa0Release:</td>\\n<td>\\xa04,134 theaters</td>\\n</tr>\\n</table>\\n<table border=\"0\" cellpadding=\"0\" cellspacing=\"0\">\\n<tr>\\n<td>Close\\xa0Date:</td>\\n<td>\\xa0June 2, 2016</td>\\n</tr>\\n</table>\\n<table border=\"0\" cellpadding=\"0\" cellspacing=\"0\">\\n<tr>\\n<td>In Release:</td>\\n<td>\\xa0168 days / 24 weeks</td>\\n</tr>\\n</table>\\n</div>, '\\n')\n",
      "(<div class=\"mp_box_content\">\\n<table>\\n</table></div>, '\\n')\n",
      "(<div class=\"mp_box_content\"><table border=\"0\" cellpadding=\"5\" cellspacing=\"0\" width=\"100%\"><tr><td><a href=\"/oscar/movies/?id=starwars7.htm\"><b>Nominated for Five Oscars.</b><br/>View full award breakdown...</a></td></tr></table></div>, '\\n')\n",
      "(<div class=\"mp_box_content\">\\n<table border=\"0\" cellpadding=\"5\" cellspacing=\"1\" style=\"border-collapse: collapse\" width=\"100%\">\\n<tr><th>Genre</th>\\n<th>Rank</th></tr>\\n<tr bgcolor=\"#ffffff\"><td><font size=\"2\"><a href=\"/genres/chart/?id=3d.htm\"><b>3D</b></a></font></td>\\n<td align=\"center\"><font size=\"2\"><b>1</b></font></td>\\n</tr>\\n<tr bgcolor=\"#f4f4ff\"><td><font size=\"2\"><a href=\"/genres/chart/?id=imax.htm\"><b>IMAX (Feature-length)</b></a></font></td>\\n<td align=\"center\"><font size=\"2\"><b>1</b></font></td>\\n</tr>\\n<tr bgcolor=\"#ffffff\"><td><font size=\"2\"><a href=\"/genres/chart/?id=scifiadventure.htm\"><b>Sci-Fi - Adventure</b></a></font></td>\\n<td align=\"center\"><font size=\"2\"><b>1</b></font></td>\\n</tr>\\n</table>\\n</div>, '\\n')\n",
      "(<div class=\"mp_box_content\">\\n<table border=\"0\" cellpadding=\"5\" cellspacing=\"1\" style=\"border-collapse: collapse\" width=\"100%\">\\n<tr><th>Franchise</th>\\n<th>Rank</th></tr>\\n<tr bgcolor=\"#f4f4ff\"><td><font size=\"2\"><a href=\"/franchises/chart/?id=starwars.htm\"><b>Series: Star Wars</b></a></font></td>\\n<td align=\"center\"><font size=\"2\"><b>1</b></font></td>\\n</tr>\\n<tr bgcolor=\"#ffffff\"><td><font size=\"2\"><a href=\"/franchises/chart/?id=badrobot.htm\"><b>Brand: Bad Robot</b></a></font></td>\\n<td align=\"center\"><font size=\"2\"><b>1</b></font></td>\\n</tr>\\n<tr bgcolor=\"#f4f4ff\"><td><font size=\"2\"><a href=\"/franchises/chart/?id=lucasfilm.htm\"><b>Brand: Lucasfilm</b></a></font></td>\\n<td align=\"center\"><font size=\"2\"><b>1</b></font></td>\\n</tr>\\n<tr bgcolor=\"#ffffff\"><td><font size=\"2\"><a href=\"/showdowns/chart/?id=alltimegrossvs.htm\"><b>Showdown: All Time Grossers</b></a></font></td>\\n<td align=\"center\"><font size=\"2\"><b>1</b></font></td>\\n</tr>\\n<tr bgcolor=\"#f4f4ff\"><td><font size=\"2\"><a href=\"/showdowns/chart/?id=alltimepenvs.htm\"><b>Showdown: All Time Openers</b></a></font></td>\\n<td align=\"center\"><font size=\"2\"><b>1</b></font></td>\\n</tr>\\n<tr bgcolor=\"#ffffff\"><td><font size=\"2\"><a href=\"/showdowns/chart/?id=decemberscifi.htm\"><b>Showdown: December Sci-Fi Battle</b></a></font></td>\\n<td align=\"center\"><font size=\"2\"><b>1</b></font></td>\\n</tr>\\n<tr bgcolor=\"#f4f4ff\"><td><font size=\"2\"><a href=\"/showdowns/chart/?id=liberge.htm\"><b>Showdown: King Size Domestic Grosses</b></a></font></td>\\n<td align=\"center\"><font size=\"2\"><b>1</b></font></td>\\n</tr>\\n<tr bgcolor=\"#ffffff\"><td><font size=\"2\"><a href=\"/showdowns/chart/?id=openingweekendshowdown.htm\"><b>Showdown: Opening Weekend Showdown</b></a></font></td>\\n<td align=\"center\"><font size=\"2\"><b>1</b></font></td>\\n</tr>\\n</table></div>, '\\n')\n",
      "(<div class=\"mp_box_content\">\\n<table border=\"0\" cellpadding=\"5\" cellspacing=\"1\" style=\"border-collapse: collapse\" width=\"100%\">\\n<tr><td bgcolor=\"\"><b>Chart</b></td>\\n<td align=\"center\"><b>Rank</b></td>\\n</tr>\\n<tr bgcolor=\"#ffffff\"><td><font size=\"2\"><a href=\"/alltime/domestic.htm\"><b>All Time Domestic</b></a></font></td>\\n<td align=\"center\"><font size=\"2\"><b>1</b></font></td>\\n</tr>\\n<tr bgcolor=\"#f4f4ff\"><td><font size=\"2\"><a href=\"/alltime/adjusted.htm\">All Time Adjusted</a></font></td>\\n<td align=\"center\"><font size=\"2\">11</font></td>\\n</tr>\\n<tr bgcolor=\"#ffffff\"><td><font size=\"2\"><a href=\"/alltime/world/\"><b>All Time Worldwide</b></a></font></td>\\n<td align=\"center\"><font size=\"2\"><b>3</b></font></td>\\n</tr>\\n<tr bgcolor=\"#f4f4ff\"><td><font size=\"2\"><a href=\"/yearly/chart/past365.htm\"><b>Top Movies in the Past 365 Days</b></a></font></td>\\n<td align=\"center\"><font size=\"2\"><b>1</b></font></td>\\n</tr>\\n<tr bgcolor=\"#ffffff\"><td><font size=\"2\"><a href=\"/alltime/world/worldwideopenings.htm\"><b>Worldwide Openings</b></a></font></td>\\n<td align=\"center\"><font size=\"2\"><b>1</b></font></td>\\n</tr>\\n<tr bgcolor=\"#f4f4ff\"><td><font size=\"2\"><a href=\"/intl/weekend/opening/\"><b>Foreign Opening Weekends</b></a></font></td>\\n<td align=\"center\"><font size=\"2\"><b>3</b></font></td>\\n</tr>\\n<tr bgcolor=\"#ffffff\"><td><font size=\"2\"><a href=\"/alltime/openingweeks.htm\"><b>Opening Weeks</b></a></font></td>\\n<td align=\"center\"><font size=\"2\"><b>1</b></font></td>\\n</tr>\\n<tr bgcolor=\"#f4f4ff\"><td><font size=\"2\"><a href=\"/alltime/days/?page=open&amp;p.htm\"><b>Opening Day Gross</b></a></font></td>\\n<td align=\"center\"><font size=\"2\"><b>1</b></font></td>\\n</tr>\\n<tr bgcolor=\"#ffffff\"><td><font size=\"2\"><a href=\"/alltime/days/?page=single&amp;p=.htm\"><b>Single Day Gross</b></a></font></td>\\n<td align=\"center\"><font size=\"2\"><b>1</b></font></td>\\n</tr>\\n<tr bgcolor=\"#f4f4ff\"><td><font size=\"2\"><a href=\"/alltime/days/nonopening.htm?page=Fri&amp;p=.htm\"><b>Non-Opening Friday Gross</b></a></font></td>\\n<td align=\"center\"><font size=\"2\"><b>1</b></font></td>\\n</tr>\\n<tr bgcolor=\"#ffffff\"><td><font size=\"2\"><a href=\"/alltime/days/nonopening.htm?page=Thu&amp;p=.htm\"><b>Non-Opening Thursday Gross</b></a></font></td>\\n<td align=\"center\"><font size=\"2\"><b>2</b></font></td>\\n</tr>\\n<tr bgcolor=\"#f4f4ff\"><td><font size=\"2\"><a href=\"/alltime/days/nonopening.htm?page=Tue&amp;p=.htm\"><b>Non-Opening Tuesday Gross</b></a></font></td>\\n<td align=\"center\"><font size=\"2\"><b>1</b></font></td>\\n</tr>\\n<tr bgcolor=\"#ffffff\"><td><font size=\"2\"><a href=\"/alltime/days/nonopening.htm?page=Wed&amp;p=.htm\"><b>Non-Opening Wednesday Gross</b></a></font></td>\\n<td align=\"center\"><font size=\"2\"><b>1</b></font></td>\\n</tr>\\n<tr bgcolor=\"#f4f4ff\"><td><font size=\"2\"><a href=\"/alltime/days/f-th.htm?page=Fri&amp;p=.htm\"><b>Single Day Friday Gross</b></a></font></td>\\n<td align=\"center\"><font size=\"2\"><b>1</b></font></td>\\n</tr>\\n<tr bgcolor=\"#ffffff\"><td><font size=\"2\"><a href=\"/alltime/days/f-th.htm?page=Mon&amp;p=.htm\"><b>Single Day Monday Gross</b></a></font></td>\\n<td align=\"center\"><font size=\"2\"><b>1</b></font></td>\\n</tr>\\n<tr bgcolor=\"#f4f4ff\"><td><font size=\"2\"><a href=\"/alltime/days/f-th.htm?page=Sat&amp;p=.htm\"><b>Single Day Saturday Gross</b></a></font></td>\\n<td align=\"center\"><font size=\"2\"><b>3</b></font></td>\\n</tr>\\n<tr bgcolor=\"#ffffff\"><td><font size=\"2\"><a href=\"/alltime/days/f-th.htm?page=Sun&amp;p=.htm\"><b>Single Day Sunday Gross</b></a></font></td>\\n<td align=\"center\"><font size=\"2\"><b>1</b></font></td>\\n</tr>\\n<tr bgcolor=\"#f4f4ff\"><td><font size=\"2\"><a href=\"/alltime/days/f-th.htm?page=Thu&amp;p=.htm\"><b>Single Day Thursday Gross</b></a></font></td>\\n<td align=\"center\"><font size=\"2\"><b>6</b></font></td>\\n</tr>\\n<tr bgcolor=\"#ffffff\"><td><font size=\"2\"><a href=\"/alltime/days/f-th.htm?page=Tue&amp;p=.htm\"><b>Single Day Tuesday Gross</b></a></font></td>\\n<td align=\"center\"><font size=\"2\"><b>1</b></font></td>\\n</tr>\\n<tr bgcolor=\"#f4f4ff\"><td><font size=\"2\"><a href=\"/alltime/days/f-th.htm?page=Wed&amp;p=.htm\"><b>Single Day Wednesday Gross</b></a></font></td>\\n<td align=\"center\"><font size=\"2\"><b>6</b></font></td>\\n</tr>\\n<tr bgcolor=\"#ffffff\"><td><font size=\"2\"><a href=\"/alltime/days/nonholiday.htm\"><b>Non-Holiday Monday Gross</b></a></font></td>\\n<td align=\"center\"><font size=\"2\"><b>1</b></font></td>\\n</tr>\\n<tr bgcolor=\"#f4f4ff\"><td><font size=\"2\"><a href=\"/alltime/weekends/theateravg.htm?page=THTRWAVG&amp;p=.htm\">Theater Averages (Wide Releases) - All Time</a></font></td>\\n<td align=\"center\"><font size=\"2\">16</font></td>\\n</tr>\\n<tr bgcolor=\"#ffffff\"><td><font size=\"2\"><a href=\"/alltime/weekends/theateravg.htm?page=THTRWAVG&amp;p=.htm\"><b>Theater Averages (Wide Releases) - All Time</b></a></font></td>\\n<td align=\"center\"><font size=\"2\"><b>1</b></font></td>\\n</tr>\\n<tr bgcolor=\"#f4f4ff\"><td><font size=\"2\"><a href=\"/alltime/weekends/theateravg.htm?page=THTRWAVG&amp;p=.htm\">Theater Averages (Wide Releases) - All Time</a></font></td>\\n<td align=\"center\"><font size=\"2\">76</font></td>\\n</tr>\\n<tr bgcolor=\"#ffffff\"><td><font size=\"2\"><a href=\"/alltime/weekends/theateravg.htm?page=THTRAVG&amp;p=.htm\">Theater Averages - All Time Adjusted</a></font></td>\\n<td align=\"center\"><font size=\"2\">85</font></td>\\n</tr>\\n<tr bgcolor=\"#f4f4ff\"><td><font size=\"2\"><a href=\"/alltime/weekends/theateravg.htm?page=THTRAVOPN&amp;p=.htm\">Theater Averages - Opening Weekends</a></font></td>\\n<td align=\"center\"><font size=\"2\">72</font></td>\\n</tr>\\n<tr bgcolor=\"#ffffff\"><td><font size=\"2\"><a href=\"/alltime/weekends/theateravg.htm?page=THTRAWOPN&amp;p=.htm\"><b>Theater Averages - Wide Opening Weekends</b></a></font></td>\\n<td align=\"center\"><font size=\"2\"><b>1</b></font></td>\\n</tr>\\n<tr bgcolor=\"#f4f4ff\"><td><font size=\"2\"><a href=\"/alltime/days/holidays.htm?page=newyrs&amp;p=.htm\"><b>New Years Days</b></a></font></td>\\n<td align=\"center\"><font size=\"2\"><b>1</b></font></td>\\n</tr>\\n<tr bgcolor=\"#ffffff\"><td><font size=\"2\"><a href=\"/alltime/days/holidays.htm?page=xmas&amp;p=.htm\"><b>Christmas Days</b></a></font></td>\\n<td align=\"center\"><font size=\"2\"><b>1</b></font></td>\\n</tr>\\n<tr bgcolor=\"#f4f4ff\"><td><font size=\"2\"><a href=\"/alltime/day/percofwknd.htm?page=FRIOFOPWD&amp;p=.htm\">Friday Share of Opening Weekends</a></font></td>\\n<td align=\"center\"><font size=\"2\">30</font></td>\\n</tr>\\n<tr bgcolor=\"#ffffff\"><td><font size=\"2\"><a href=\"/alltime/days/saturdaydrops.htm?page=SATDROPOPWD&amp;p=.htm\">Friday to Saturday Drops on Opening Weekends</a></font></td>\\n<td align=\"center\"><font size=\"2\">15</font></td>\\n</tr>\\n<tr bgcolor=\"#f4f4ff\"><td><font size=\"2\"><a href=\"/alltime/weekends/\"><b>Opening Weekends</b></a></font></td>\\n<td align=\"center\"><font size=\"2\"><b>1</b></font></td>\\n</tr>\\n<tr bgcolor=\"#ffffff\"><td><font size=\"2\"><a href=\"/alltime/weekends/month/?mo=12&amp;p=.htm\"><b>Opening Weekends - December</b></a></font></td>\\n<td align=\"center\"><font size=\"2\"><b>1</b></font></td>\\n</tr>\\n<tr bgcolor=\"#f4f4ff\"><td><font size=\"2\"><a href=\"/alltime/weekends/byseason.htm?season=Holiday&amp;p=.htm\"><b>Opening Weekends - Holiday</b></a></font></td>\\n<td align=\"center\"><font size=\"2\"><b>1</b></font></td>\\n</tr>\\n<tr bgcolor=\"#ffffff\"><td><font size=\"2\"><a href=\"/alltime/weekends/moreweekends.htm?page=11&amp;p=.htm\">Eleventh Weekends</a></font></td>\\n<td align=\"center\"><font size=\"2\">46</font></td>\\n</tr>\\n<tr bgcolor=\"#f4f4ff\"><td><font size=\"2\"><a href=\"/alltime/weekends/moreweekends.htm?page=9&amp;p=.htm\">Ninth Weekends</a></font></td>\\n<td align=\"center\"><font size=\"2\">22</font></td>\\n</tr>\\n<tr bgcolor=\"#ffffff\"><td><font size=\"2\"><a href=\"/alltime/weekends/moreweekends.htm?page=10&amp;p=.htm\">Tenth Weekends</a></font></td>\\n<td align=\"center\"><font size=\"2\">38</font></td>\\n</tr>\\n<tr bgcolor=\"#f4f4ff\"><td><font size=\"2\"><a href=\"/alltime/grossbydays.htm?days=10&amp;p=.htm\"><b>Top 10-Day Grosses</b></a></font></td>\\n<td align=\"center\"><font size=\"2\"><b>1</b></font></td>\\n</tr>\\n<tr bgcolor=\"#ffffff\"><td><font size=\"2\"><a href=\"/alltime/grossbydays.htm?days=3&amp;p=.htm\"><b>Top 3-Day Grosses</b></a></font></td>\\n<td align=\"center\"><font size=\"2\"><b>1</b></font></td>\\n</tr>\\n<tr bgcolor=\"#f4f4ff\"><td><font size=\"2\"><a href=\"/alltime/grossbydays.htm?days=4&amp;p=.htm\"><b>Top 4-Day Grosses</b></a></font></td>\\n<td align=\"center\"><font size=\"2\"><b>1</b></font></td>\\n</tr>\\n<tr bgcolor=\"#ffffff\"><td><font size=\"2\"><a href=\"/alltime/grossbydays.htm?days=6&amp;p=.htm\"><b>Top 6-Day Grosses</b></a></font></td>\\n<td align=\"center\"><font size=\"2\"><b>1</b></font></td>\\n</tr>\\n<tr bgcolor=\"#f4f4ff\"><td><font size=\"2\"><a href=\"/alltime/grossbydays.htm?days=7&amp;p=.htm\"><b>Top 7-Day Grosses</b></a></font></td>\\n<td align=\"center\"><font size=\"2\"><b>1</b></font></td>\\n</tr>\\n<tr bgcolor=\"#ffffff\"><td><font size=\"2\"><a href=\"/alltime/grossbydays.htm?days=8&amp;p=.htm\"><b>Top 8-Day Grosses</b></a></font></td>\\n<td align=\"center\"><font size=\"2\"><b>1</b></font></td>\\n</tr>\\n<tr bgcolor=\"#f4f4ff\"><td><font size=\"2\"><a href=\"/alltime/grossbydays.htm?days=9&amp;p=.htm\"><b>Top 9-Day Grosses</b></a></font></td>\\n<td align=\"center\"><font size=\"2\"><b>1</b></font></td>\\n</tr>\\n<tr bgcolor=\"#ffffff\"><td><font size=\"2\"><a href=\"/alltime/weekends/moreweekends.htm?page=13&amp;p=.htm\">Twelfth Weekends</a></font></td>\\n<td align=\"center\"><font size=\"2\">89</font></td>\\n</tr>\\n<tr bgcolor=\"#f4f4ff\"><td><font size=\"2\"><a href=\"/alltime/weekends/moreweekends.htm?page=12&amp;p=.htm\">Twelfth Weekends</a></font></td>\\n<td align=\"center\"><font size=\"2\">71</font></td>\\n</tr>\\n<tr bgcolor=\"#ffffff\"><td><font size=\"2\"><a href=\"/alltime/grossbydays.htm?days=5&amp;p=.htm\"><b>Top 5-Day Grosses</b></a></font></td>\\n<td align=\"center\"><font size=\"2\"><b>1</b></font></td>\\n</tr>\\n<tr bgcolor=\"#f4f4ff\"><td><font size=\"2\"><a href=\"/alltime/weekends/bestranked.htm?page=WKNDSAT1&amp;p=.htm\">Most Weekends at #1 (non-consecutive)</a></font></td>\\n<td align=\"center\"><font size=\"2\">33</font></td>\\n</tr>\\n<tr bgcolor=\"#ffffff\"><td><font size=\"2\"><a href=\"/alltime/weekends/bestranked.htm?page=WKNDSAT10&amp;p=.htm\">Most Weekends in Top 10 (non-consecutive)</a></font></td>\\n<td align=\"center\"><font size=\"2\">140</font></td>\\n</tr>\\n<tr bgcolor=\"#f4f4ff\"><td><font size=\"2\"><a href=\"/alltime/weekends/bestranked.htm?page=WKNDSAT5&amp;p=.htm\">Most Weekends in Top 5 (non-consecutive)</a></font></td>\\n<td align=\"center\"><font size=\"2\">49</font></td>\\n</tr>\\n<tr bgcolor=\"#ffffff\"><td><font size=\"2\"><a href=\"/alltime/weekends/bestranked.htm?page=WKNDSCAT1&amp;p=.htm\">Consecutive Weekends At #1</a></font></td>\\n<td align=\"center\"><font size=\"2\">25</font></td>\\n</tr>\\n<tr bgcolor=\"#f4f4ff\"><td><font size=\"2\"><a href=\"/alltime/weekends/bestranked.htm?page=WKNDSCAT10&amp;p=.htm\">Consecutive Weekends In Top 10</a></font></td>\\n<td align=\"center\"><font size=\"2\">118</font></td>\\n</tr>\\n<tr bgcolor=\"#ffffff\"><td><font size=\"2\"><a href=\"/alltime/weekends/bestranked.htm?page=WKNDSCAT5&amp;p=.htm\">Consecutive Weekends In Top 5</a></font></td>\\n<td align=\"center\"><font size=\"2\">40</font></td>\\n</tr>\\n<tr bgcolor=\"#f4f4ff\"><td><font size=\"2\"><a href=\"/alltime/weekends/mlk.htm?page=MLK&amp;p=.htm\">Martin Lurther King 4-Day Holiday Weekends</a></font></td>\\n<td align=\"center\"><font size=\"2\">12</font></td>\\n</tr>\\n<tr bgcolor=\"#ffffff\"><td><font size=\"2\"><a href=\"/alltime/weekends/presidentsday.htm?page=PRESDAY&amp;p=.htm\">President's Day 4-Day Holiday Weekends</a></font></td>\\n<td align=\"center\"><font size=\"2\">147</font></td>\\n</tr>\\n<tr bgcolor=\"#f4f4ff\"><td><font size=\"2\"><a href=\"/alltime/weekends/moreweekends.htm?page=2&amp;p=.htm\"><b>Second Weekends</b></a></font></td>\\n<td align=\"center\"><font size=\"2\"><b>1</b></font></td>\\n</tr>\\n<tr bgcolor=\"#ffffff\"><td><font size=\"2\"><a href=\"/alltime/weekends/moreweekends.htm?page=3&amp;p=.htm\"><b>Third Weekends</b></a></font></td>\\n<td align=\"center\"><font size=\"2\"><b>1</b></font></td>\\n</tr>\\n<tr bgcolor=\"#f4f4ff\"><td><font size=\"2\"><a href=\"/alltime/weekends/moreweekends.htm?page=4&amp;p=.htm\"><b>Fourth Weekends</b></a></font></td>\\n<td align=\"center\"><font size=\"2\"><b>2</b></font></td>\\n</tr>\\n<tr bgcolor=\"#ffffff\"><td><font size=\"2\"><a href=\"/alltime/weekends/moreweekends.htm?page=5&amp;p=.htm\"><b>Fifth Weekends</b></a></font></td>\\n<td align=\"center\"><font size=\"2\"><b>4</b></font></td>\\n</tr>\\n<tr bgcolor=\"#f4f4ff\"><td><font size=\"2\"><a href=\"/alltime/weekends/moreweekends.htm?page=6&amp;p=.htm\">Sixth Weekends</a></font></td>\\n<td align=\"center\"><font size=\"2\">11</font></td>\\n</tr>\\n<tr bgcolor=\"#ffffff\"><td><font size=\"2\"><a href=\"/alltime/weekends/moreweekends.htm?page=7&amp;p=.htm\"><b>Seventh Weekends</b></a></font></td>\\n<td align=\"center\"><font size=\"2\"><b>10</b></font></td>\\n</tr>\\n<tr bgcolor=\"#f4f4ff\"><td><font size=\"2\"><a href=\"/alltime/weekends/moreweekends.htm?page=8&amp;p=.htm\">Eighth Weekends</a></font></td>\\n<td align=\"center\"><font size=\"2\">24</font></td>\\n</tr>\\n<tr bgcolor=\"#ffffff\"><td><font size=\"2\"><a href=\"/alltime/weekends/smallestdrops.htm?page=DROP3000&amp;p=.htm\">Smallest Drops, 3,000+ theaters (Super-Saturation)</a></font></td>\\n<td align=\"center\"><font size=\"2\">231</font></td>\\n</tr>\\n<tr bgcolor=\"#f4f4ff\"><td><font size=\"2\"><a href=\"/alltime/weekends/smallestdrops.htm?page=SMALLDROP25&amp;p=.htm\">Smallest Drops, 2,500+ theaters (Saturation)</a></font></td>\\n<td align=\"center\"><font size=\"2\">470</font></td>\\n</tr>\\n<tr bgcolor=\"#ffffff\"><td><font size=\"2\"><a href=\"/alltime/weekends/smallestdrops.htm?page=SMALLDROP20&amp;p=.htm\">Smallest Drops, 2,000+ theaters (Very Wide)</a></font></td>\\n<td align=\"center\"><font size=\"2\">703</font></td>\\n</tr>\\n<tr bgcolor=\"#f4f4ff\"><td><font size=\"2\"><a href=\"/alltime/weekends/smallestdrops.htm?page=SMALLDROPWID&amp;p=.htm\">Smallest Drops, All Wide Releases</a></font></td>\\n<td align=\"center\"><font size=\"2\">1,837</font></td>\\n</tr>\\n<tr bgcolor=\"#ffffff\"><td><font size=\"2\"><a href=\"/alltime/domestic/mpaa.htm?page=PG-13&amp;p=.htm\"><b>Rated PG-13</b></a></font></td>\\n<td align=\"center\"><font size=\"2\"><b>1</b></font></td>\\n</tr>\\n<tr bgcolor=\"#f4f4ff\"><td><font size=\"2\"><a href=\"/alltime/weekends/mpaa.htm?page=PG-13&amp;p=.htm\"><b>Rated PG-13, Opening Weekends</b></a></font></td>\\n<td align=\"center\"><font size=\"2\"><b>1</b></font></td>\\n</tr>\\n<tr bgcolor=\"#ffffff\"><td><font size=\"2\"><a href=\"/alltime/widest.htm?page=WIDEST&amp;p=.htm\">Widest Releases</a></font></td>\\n<td align=\"center\"><font size=\"2\">45</font></td>\\n</tr>\\n<tr bgcolor=\"#f4f4ff\"><td><font size=\"2\"><a href=\"/alltime/widest.htm?page=WIDESTOPEN&amp;p=.htm\">Widest Opening Releases</a></font></td>\\n<td align=\"center\"><font size=\"2\">38</font></td>\\n</tr>\\n<tr bgcolor=\"#ffffff\"><td><font size=\"2\"><a href=\"/alltime/widestmpaa.htm?page=PG-13&amp;p=.htm\">Widest PG-13 Rated Openings</a></font></td>\\n<td align=\"center\"><font size=\"2\">29</font></td>\\n</tr>\\n<tr bgcolor=\"#f4f4ff\"><td><font size=\"2\"><a href=\"/alltime/widestmpaareleases.htm?page=PG-13&amp;p=.htm\">Widest PG-13 Rated Releases</a></font></td>\\n<td align=\"center\"><font size=\"2\">30</font></td>\\n</tr>\\n<tr bgcolor=\"#ffffff\"><td><font size=\"2\"><a href=\"/alltime/fastest.htm?page=100&amp;p=.htm\"><b>Fastest to $100 million</b></a></font></td>\\n<td align=\"center\"><font size=\"2\"><b>1</b></font></td>\\n</tr>\\n<tr bgcolor=\"#f4f4ff\"><td><font size=\"2\"><a href=\"/alltime/fastest.htm?page=150&amp;p=.htm\"><b>Fastest to $150 million</b></a></font></td>\\n<td align=\"center\"><font size=\"2\"><b>1</b></font></td>\\n</tr>\\n<tr bgcolor=\"#ffffff\"><td><font size=\"2\"><a href=\"/alltime/fastest.htm?page=200&amp;p=.htm\"><b>Fastest to $200 million</b></a></font></td>\\n<td align=\"center\"><font size=\"2\"><b>1</b></font></td>\\n</tr>\\n<tr bgcolor=\"#f4f4ff\"><td><font size=\"2\"><a href=\"/alltime/fastest.htm?page=250&amp;p=.htm\"><b>Fastest to $250 million</b></a></font></td>\\n<td align=\"center\"><font size=\"2\"><b>1</b></font></td>\\n</tr>\\n<tr bgcolor=\"#ffffff\"><td><font size=\"2\"><a href=\"/alltime/fastest.htm?page=300&amp;p=.htm\"><b>Fastest to $300 million</b></a></font></td>\\n<td align=\"center\"><font size=\"2\"><b>1</b></font></td>\\n</tr>\\n<tr bgcolor=\"#f4f4ff\"><td><font size=\"2\"><a href=\"/alltime/fastest.htm?page=350&amp;p=.htm\"><b>Fastest to $350 million</b></a></font></td>\\n<td align=\"center\"><font size=\"2\"><b>1</b></font></td>\\n</tr>\\n<tr bgcolor=\"#ffffff\"><td><font size=\"2\"><a href=\"/alltime/fastest.htm?page=400&amp;p=.htm\"><b>Fastest to $400 million</b></a></font></td>\\n<td align=\"center\"><font size=\"2\"><b>1</b></font></td>\\n</tr>\\n<tr bgcolor=\"#f4f4ff\"><td><font size=\"2\"><a href=\"/alltime/fastest.htm?page=450&amp;p=.htm\"><b>Fastest to $450 million</b></a></font></td>\\n<td align=\"center\"><font size=\"2\"><b>1</b></font></td>\\n</tr>\\n<tr bgcolor=\"#ffffff\"><td><font size=\"2\"><a href=\"/alltime/fastest.htm?page=500&amp;p=.htm\"><b>Fastest to $500 million</b></a></font></td>\\n<td align=\"center\"><font size=\"2\"><b>1</b></font></td>\\n</tr>\\n<tr bgcolor=\"#f4f4ff\"><td><font size=\"2\"><a href=\"/alltime/slowest.htm?page=100&amp;p=.htm\">Slowest to $100 million</a></font></td>\\n<td align=\"center\"><font size=\"2\">609</font></td>\\n</tr>\\n<tr bgcolor=\"#ffffff\"><td><font size=\"2\"><a href=\"/alltime/slowest.htm?page=200&amp;p=.htm\">Slowest to $200 million</a></font></td>\\n<td align=\"center\"><font size=\"2\">164</font></td>\\n</tr>\\n<tr><td><b>Charts (Premier Pass Users Only)</b></td><td align=\"center\"><b>Rank</b></td></tr><tr bgcolor=\"#ffffff\"><td><font size=\"2\"><a href=\"/alltime/domestic.htm?page=1&amp;asof=2016-01-07&amp;p=.htm\">Highest All Time Rank (on January 7, 2016)</a></font></td>\\n<td align=\"center\"><font size=\"2\"><b>1</b></font></td>\\n</tr>\\n<tr bgcolor=\"#f4f4ff\"><td><font size=\"2\"><a href=\"/alltime/openingweeks.htm?adjust_yr=2016&amp;p=.htm\"><b>Opening Weeks Adjusted</b></a></font></td>\\n<td align=\"center\"><font size=\"2\"><b>1</b></font></td>\\n</tr>\\n<tr bgcolor=\"#ffffff\"><td><font size=\"2\"><a href=\"/alltime/days/nonopening.htm?page=Fri&amp;adjust_yr=2016&amp;p=.htm\"><b>Non-Opening Friday Gross Adjusted</b></a></font></td>\\n<td align=\"center\"><font size=\"2\"><b>1</b></font></td>\\n</tr>\\n<tr bgcolor=\"#f4f4ff\"><td><font size=\"2\"><a href=\"/alltime/days/nonopening.htm?page=Thu&amp;adjust_yr=2016&amp;p=.htm\"><b>Non-Opening Thursday Gross Adjusted</b></a></font></td>\\n<td align=\"center\"><font size=\"2\"><b>4</b></font></td>\\n</tr>\\n<tr bgcolor=\"#ffffff\"><td><font size=\"2\"><a href=\"/alltime/days/nonopening.htm?page=Tue&amp;adjust_yr=2016&amp;p=.htm\"><b>Non-Opening Tuesday Gross Adjusted</b></a></font></td>\\n<td align=\"center\"><font size=\"2\"><b>1</b></font></td>\\n</tr>\\n<tr bgcolor=\"#f4f4ff\"><td><font size=\"2\"><a href=\"/alltime/days/nonopening.htm?page=Wed&amp;adjust_yr=2016&amp;p=.htm\"><b>Non-Opening Wednesday Gross Adjusted</b></a></font></td>\\n<td align=\"center\"><font size=\"2\"><b>1</b></font></td>\\n</tr>\\n<tr bgcolor=\"#ffffff\"><td><font size=\"2\"><a href=\"/alltime/days/f-th.htm?page=Fri&amp;adjust_yr=2016&amp;p=.htm\"><b>Single Day Friday Gross Adjusted</b></a></font></td>\\n<td align=\"center\"><font size=\"2\"><b>1</b></font></td>\\n</tr>\\n<tr bgcolor=\"#f4f4ff\"><td><font size=\"2\"><a href=\"/alltime/days/f-th.htm?page=Mon&amp;adjust_yr=2016&amp;p=.htm\"><b>Single Day Monday Gross Adjusted</b></a></font></td>\\n<td align=\"center\"><font size=\"2\"><b>1</b></font></td>\\n</tr>\\n<tr bgcolor=\"#ffffff\"><td><font size=\"2\"><a href=\"/alltime/days/f-th.htm?page=Sat&amp;adjust_yr=2016&amp;p=.htm\"><b>Single Day Saturday Gross Adjusted</b></a></font></td>\\n<td align=\"center\"><font size=\"2\"><b>3</b></font></td>\\n</tr>\\n<tr bgcolor=\"#f4f4ff\"><td><font size=\"2\"><a href=\"/alltime/days/f-th.htm?page=Sun&amp;adjust_yr=2016&amp;p=.htm\"><b>Single Day Sunday Gross Adjusted</b></a></font></td>\\n<td align=\"center\"><font size=\"2\"><b>2</b></font></td>\\n</tr>\\n<tr bgcolor=\"#ffffff\"><td><font size=\"2\"><a href=\"/alltime/days/f-th.htm?page=Thu&amp;adjust_yr=2016&amp;p=.htm\"><b>Single Day Thursday Gross Adjusted</b></a></font></td>\\n<td align=\"center\"><font size=\"2\"><b>9</b></font></td>\\n</tr>\\n<tr bgcolor=\"#f4f4ff\"><td><font size=\"2\"><a href=\"/alltime/days/f-th.htm?page=Tue&amp;adjust_yr=2016&amp;p=.htm\"><b>Single Day Tuesday Gross Adjusted</b></a></font></td>\\n<td align=\"center\"><font size=\"2\"><b>2</b></font></td>\\n</tr>\\n<tr bgcolor=\"#ffffff\"><td><font size=\"2\"><a href=\"/alltime/days/f-th.htm?page=Wed&amp;adjust_yr=2016&amp;p=.htm\">Single Day Wednesday Gross Adjusted</a></font></td>\\n<td align=\"center\"><font size=\"2\">11</font></td>\\n</tr>\\n<tr bgcolor=\"#f4f4ff\"><td><font size=\"2\"><a href=\"/alltime/wekeends/theateravg.htm?page=THTRWAVGADJ&amp;adjust_yr=2016&amp;p=.htm\">Theater Averages (Wide Releases) - All Time Adjusted</a></font></td>\\n<td align=\"center\"><font size=\"2\">45</font></td>\\n</tr>\\n<tr bgcolor=\"#ffffff\"><td><font size=\"2\"><a href=\"/alltime/wekeends/theateravg.htm?page=THTRWAVGADJ&amp;adjust_yr=2016&amp;p=.htm\"><b>Theater Averages (Wide Releases) - All Time Adjusted</b></a></font></td>\\n<td align=\"center\"><font size=\"2\"><b>2</b></font></td>\\n</tr>\\n<tr bgcolor=\"#f4f4ff\"><td><font size=\"2\"><a href=\"/alltime/weekends/theateravg.htm?page=THTRAWOPNADJ&amp;adjust_yr=2016&amp;p=.htm\"><b>Theater Averages - Wide Opening Weekends Adjusted</b></a></font></td>\\n<td align=\"center\"><font size=\"2\"><b>2</b></font></td>\\n</tr>\\n<tr bgcolor=\"#ffffff\"><td><font size=\"2\"><a href=\"/alltime/weekends/month/?mo=12&amp;adjust_yr=2016&amp;p=.htm\"><b>Opening Weekends Adjusted - December</b></a></font></td>\\n<td align=\"center\"><font size=\"2\"><b>1</b></font></td>\\n</tr>\\n<tr bgcolor=\"#f4f4ff\"><td><font size=\"2\"><a href=\"/alltime/weekends/?adjust_yr=2016&amp;p=.htm\"><b>Opening Weekends Adjusted</b></a></font></td>\\n<td align=\"center\"><font size=\"2\"><b>1</b></font></td>\\n</tr>\\n<tr bgcolor=\"#ffffff\"><td><font size=\"2\"><a href=\"/alltime/weekends/byseason.htm?season=Holiday&amp;adjust_yr=2016&amp;p=.htm\"><b>Opening Weekends Adjusted - Holiday</b></a></font></td>\\n<td align=\"center\"><font size=\"2\"><b>1</b></font></td>\\n</tr>\\n<tr bgcolor=\"#f4f4ff\"><td><font size=\"2\"><a href=\"/alltime/weekends/moreweeknds.htm?page=11&amp;adjust_yr=2016&amp;p=.htm\">Eleventh Weekends Adjusted</a></font></td>\\n<td align=\"center\"><font size=\"2\">111</font></td>\\n</tr>\\n<tr bgcolor=\"#ffffff\"><td><font size=\"2\"><a href=\"/alltime/weekends/moreweeknds.htm?page=9&amp;adjust_yr=2016&amp;p=.htm\">Ninth Weekends Adjusted</a></font></td>\\n<td align=\"center\"><font size=\"2\">78</font></td>\\n</tr>\\n<tr bgcolor=\"#f4f4ff\"><td><font size=\"2\"><a href=\"/alltime/weekends/moreweeknds.htm?page=10&amp;adjust_yr=2016&amp;p=.htm\">Tenth Weekends Adjusted</a></font></td>\\n<td align=\"center\"><font size=\"2\">112</font></td>\\n</tr>\\n<tr bgcolor=\"#ffffff\"><td><font size=\"2\"><a href=\"/alltime/weekends/moreweeknds.htm?page=12&amp;adjust_yr=2016&amp;p=.htm\">Twelfth Weekends Adjusted</a></font></td>\\n<td align=\"center\"><font size=\"2\">148</font></td>\\n</tr>\\n<tr bgcolor=\"#f4f4ff\"><td><font size=\"2\"><a href=\"/alltime/weekends/moreweeknds.htm?page=2&amp;adjust_yr=2016&amp;p=.htm\"><b>Second Weekends Adjusted</b></a></font></td>\\n<td align=\"center\"><font size=\"2\"><b>1</b></font></td>\\n</tr>\\n<tr bgcolor=\"#ffffff\"><td><font size=\"2\"><a href=\"/alltime/weekends/moreweeknds.htm?page=3&amp;adjust_yr=2016&amp;p=.htm\"><b>Third Weekends Adjusted</b></a></font></td>\\n<td align=\"center\"><font size=\"2\"><b>1</b></font></td>\\n</tr>\\n<tr bgcolor=\"#f4f4ff\"><td><font size=\"2\"><a href=\"/alltime/weekends/moreweeknds.htm?page=4&amp;adjust_yr=2016&amp;p=.htm\"><b>Fourth Weekends Adjusted</b></a></font></td>\\n<td align=\"center\"><font size=\"2\"><b>4</b></font></td>\\n</tr>\\n<tr bgcolor=\"#ffffff\"><td><font size=\"2\"><a href=\"/alltime/weekends/moreweeknds.htm?page=5&amp;adjust_yr=2016&amp;p=.htm\">Fifth Weekends Adjusted</a></font></td>\\n<td align=\"center\"><font size=\"2\">14</font></td>\\n</tr>\\n<tr bgcolor=\"#f4f4ff\"><td><font size=\"2\"><a href=\"/alltime/weekends/moreweeknds.htm?page=6&amp;adjust_yr=2016&amp;p=.htm\">Sixth Weekends Adjusted</a></font></td>\\n<td align=\"center\"><font size=\"2\">55</font></td>\\n</tr>\\n<tr bgcolor=\"#ffffff\"><td><font size=\"2\"><a href=\"/alltime/weekends/moreweeknds.htm?page=7&amp;adjust_yr=2016&amp;p=.htm\">Seventh Weekends Adjusted</a></font></td>\\n<td align=\"center\"><font size=\"2\">60</font></td>\\n</tr>\\n<tr bgcolor=\"#f4f4ff\"><td><font size=\"2\"><a href=\"/alltime/weekends/moreweeknds.htm?page=8&amp;adjust_yr=2016&amp;p=.htm\">Eighth Weekends Adjusted</a></font></td>\\n<td align=\"center\"><font size=\"2\">99</font></td>\\n</tr>\\n<tr bgcolor=\"#ffffff\"><td><font size=\"2\"><a href=\"/alltime/domestic/mpaa.htm?page=PG-13&amp;adjust_yr=2016&amp;p=.htm\"><b>Rated PG-13 Adjusted</b></a></font></td>\\n<td align=\"center\"><font size=\"2\"><b>2</b></font></td>\\n</tr>\\n<tr bgcolor=\"#f4f4ff\"><td><font size=\"2\"><a href=\"/alltime/weekends/mpaa.htm?page=PG-13&amp;adjust_yr==.htm\"><b>Rated PG-13, Opening Weekends Adjusted</b></a></font></td>\\n<td align=\"center\"><font size=\"2\"><b>1</b></font></td>\\n</tr>\\n</table></div>, '\\n')\n",
      "(<div class=\"mp_box_content\"><table border=\"0\" cellpadding=\"5\" cellspacing=\"0\" width=\"100%\"><tr bgcolor=\"#ffff99\"><td><font size=\"2\"><a href=\"/news/?id=4184&amp;p=.htm\">5/10 Disney Makes History, Topping $1 Billion in Domestic Ticket Sales in Just 128 Days</a></font></td></tr><tr bgcolor=\"#f4f4ff\"><td><font size=\"2\"><a href=\"/news/?id=4162&amp;p=.htm\">2/28 The 'Gods of Egypt' are No Match for 'Deadpool', Which Climbs to $285+ Million Domestically</a></font></td></tr><tr bgcolor=\"#ffffff\"><td><font size=\"2\"><a href=\"/news/?id=4161&amp;p=.htm\">2/25 'Gods of Egypt', 'Triple 9' &amp; 'Eddie the Eagle' Hit Theaters While 'Deadpool' Threepeats</a></font></td></tr><tr bgcolor=\"#f4f4ff\"><td><font size=\"2\"><a href=\"/news/?id=4157&amp;p=.htm\">2/14 'Deadpool' Smashes Box Office Records On Way to $260 Million Worldwide Opening</a></font></td></tr><tr bgcolor=\"#ffffff\"><td><font size=\"2\"><a href=\"/news/?id=4155&amp;p=.htm\">2/11 Updated: 'Deadpool' Targets #1 Opening Over 'How to Be Single' &amp; 'Zoolander 2'</a></font></td></tr><tr bgcolor=\"#f4f4ff\"><td><font size=\"2\"><a href=\"/news/?id=4153&amp;p=.htm\">2/7 'Kung Fu Panda 3' Tops Super Bowl Weekend; 'Hail, Caesar!' Leads Newcomers</a></font></td></tr><tr bgcolor=\"#ffffff\"><td><font size=\"2\"><a href=\"/news/?id=4152&amp;p=.htm\">2/6 'Star Wars: Force Awakens' First Ever to Cross $900 Million Domestically</a></font></td></tr><tr bgcolor=\"#f4f4ff\"><td><font size=\"2\"><a href=\"/news/?id=4150&amp;p=.htm\">1/31 'Kung Fu Panda 3' #1; Holdovers Make Up for Money Lost in the Snow</a></font></td></tr><tr bgcolor=\"#ffffff\"><td><font size=\"2\"><a href=\"/news/?id=4149&amp;p=.htm\">1/28 Weekend Preview: 'Kung Fu Panda 3' To Top 'Fifty Shades of Black' and 'Finest Hours'</a></font></td></tr><tr bgcolor=\"#f4f4ff\"><td><font size=\"2\"><a href=\"/news/?id=4148&amp;p=.htm\">1/24 'The Revenant' Weathers Snow Storm While Weekend's Newcomers Perform as Expected</a></font></td></tr><tr bgcolor=\"#ffffff\"><td><font size=\"2\"><a href=\"/news/?id=4146&amp;p=.htm\">1/17 'Ride Along 2' #1, 'Revenant' Holds Strong and 'Star Wars' Crosses $1 Billion Internationally</a></font></td></tr><tr bgcolor=\"#f4f4ff\"><td><font size=\"2\"><a href=\"/news/?id=4144&amp;p=.htm\">1/14 'Ride Along 2' and 'Revenant' Look to Remove 'Star Wars' from Its Perch</a></font></td></tr><tr bgcolor=\"#ffffff\"><td><font size=\"2\"><a href=\"/news/?id=4143&amp;p=.htm\">1/10 'The Revenant' Storms the Box Office; 'Star Wars' Opens with $53M in China</a></font></td></tr><tr bgcolor=\"#f4f4ff\"><td><font size=\"2\"><a href=\"/news/?id=4142&amp;p=.htm\">1/7 'Star Wars: Force Awakens' Becomes Highest Grossing Domestic Release of All-Time</a></font></td></tr><tr bgcolor=\"#ffffff\"><td><font size=\"2\"><a href=\"/news/?id=4141&amp;p=.htm\">1/6 Update: 'Star Wars' Opens in China; 'Revenant' &amp; 'The Forest' Make Domestic Bows</a></font></td></tr><tr bgcolor=\"#f4f4ff\"><td><font size=\"2\"><a href=\"/news/?id=4140&amp;p=.htm\">1/3 'Star Wars' Crosses $700 Million Domestically as 2016 is Off to a Strong Start</a></font></td></tr><tr bgcolor=\"#ffffff\"><td><font size=\"2\"><a href=\"/news/?id=4139&amp;p=.htm\">12/31/15 Forecast: January 2016 Looks to Get Off to a Sizzling Start</a></font></td></tr><tr bgcolor=\"#f4f4ff\"><td><font size=\"2\"><a href=\"/news/?id=4138&amp;p=.htm\">12/30/15 2015 Box Office Totals a Record $11 Billion</a></font></td></tr><tr bgcolor=\"#ffffff\"><td><font size=\"2\"><a href=\"/news/?id=4137&amp;p=.htm\">12/27/15 'Star Wars: Force Awakens' Crosses $1 Billion Worldwide, Topping Christmas Weekend</a></font></td></tr><tr bgcolor=\"#f4f4ff\"><td><font size=\"2\"><a href=\"/news/?id=4136&amp;p=.htm\">12/24/15 Christmas Forecast: 'Star Wars' Second Weekend Faces Five New Wide Releases</a></font></td></tr><tr bgcolor=\"#ffffff\"><td><font size=\"2\"><a href=\"/news/?id=4135&amp;p=.htm\">12/22/15 UPDATED: 'Star Wars: Force Awakens' Targets Christmas Miracle, Destroys Monday Record</a></font></td></tr><tr bgcolor=\"#f4f4ff\"><td><font size=\"2\"><a href=\"/news/?id=4134&amp;p=.htm\">12/20/15 'Star Wars: The Force Awakens' Crushes Records, Topping Largest Box Office Weekend of All Time</a></font></td></tr><tr bgcolor=\"#ffffff\"><td><font size=\"2\"><a href=\"/news/?id=4133&amp;p=.htm\">12/19/15 'Star Wars: The Force Awakens' Shatters Opening Day Record</a></font></td></tr><tr bgcolor=\"#f4f4ff\"><td><font size=\"2\"><a href=\"/news/?id=4132&amp;p=.htm\">12/18/15 'Star Wars: The Force Awakens' Targets Record Breaking $100M+ Opening Day</a></font></td></tr><tr bgcolor=\"#ffffff\"><td><font size=\"2\"><a href=\"/news/?id=4131&amp;p=.htm\">12/17/15 Forecast: 'Star Wars: The Force Awakens'... Will Box Office Records Feel the Force?</a></font></td></tr><tr bgcolor=\"#f4f4ff\"><td><font size=\"2\"><a href=\"/news/?id=4130&amp;p=.htm\">12/13/15 'In the Heart of the Sea' Runs Ashore Giving 'Mockingjay 2' Its Fourth Straight #1</a></font></td></tr><tr bgcolor=\"#ffffff\"><td><font size=\"2\"><a href=\"/news/?id=4129&amp;p=.htm\">12/10/15 'In the Heart of the Sea' Goes Hunting for #1 Before 'Star Wars' Arrives</a></font></td></tr></table></div>, '\\n')\n",
      "(<div class=\"mp_box_content\"><ul>\\n<li><a href=\"http://www.amazon.com/gp/product/B018FK66TU?ie=UTF8&amp;tag=boxofficemojo-20&amp;linkCode=as2&amp;camp=1789&amp;creative=9325&amp;creativeASIN=B018FK66TU\">Star Wars: The Force Awakens [Blu-ray]</a><img alt=\"\" border=\"0\" height=\"1\" src=\"http://www.assoc-amazon.com/e/ir?t=boxofficemojo-20&amp;l=as2&amp;o=1&amp;a=B018FK66TU\" style=\"border:none !important; margin:0px !important;\" width=\"1\"/></li>\\n</ul></div>, '\\n')\n"
     ]
    }
   ],
   "source": [
    "for element in soup_star_wars.find_all(class_='mp_box_content'):\n",
    "    print(element,'\\n')"
   ]
  },
  {
   "cell_type": "code",
   "execution_count": 14,
   "metadata": {
    "collapsed": false
   },
   "outputs": [],
   "source": [
    "import re\n",
    "foreign_total_regex = re.compile('Foreign Total')\n",
    "soup_star_wars.find(text=foreign_total_regex)\n"
   ]
  },
  {
   "cell_type": "code",
   "execution_count": 22,
   "metadata": {
    "collapsed": false
   },
   "outputs": [
    {
     "data": {
      "text/plain": [
       "u'$1,131,516,000'"
      ]
     },
     "execution_count": 22,
     "metadata": {},
     "output_type": "execute_result"
    }
   ],
   "source": [
    "soup_star_wars.find(text=\"Foreign:\").find_parent(\"td\").find_next_sibling(\"td\").get_text(strip=True)\n"
   ]
  },
  {
   "cell_type": "markdown",
   "metadata": {},
   "source": [
    "# use a try except catch "
   ]
  },
  {
   "cell_type": "code",
   "execution_count": 24,
   "metadata": {
    "collapsed": false
   },
   "outputs": [
    {
     "ename": "AttributeError",
     "evalue": "'NoneType' object has no attribute 'find_parent'",
     "output_type": "error",
     "traceback": [
      "\u001b[0;31m---------------------------------------------------------------------------\u001b[0m",
      "\u001b[0;31mAttributeError\u001b[0m                            Traceback (most recent call last)",
      "\u001b[0;32m<ipython-input-24-0a7a7d0dba8b>\u001b[0m in \u001b[0;36m<module>\u001b[0;34m()\u001b[0m\n\u001b[1;32m      1\u001b[0m \u001b[0;31m# for a page that doesnt have a foreign total\u001b[0m\u001b[0;34m\u001b[0m\u001b[0;34m\u001b[0m\u001b[0m\n\u001b[0;32m----> 2\u001b[0;31m \u001b[0msoup_lebowski\u001b[0m\u001b[0;34m.\u001b[0m\u001b[0mfind\u001b[0m\u001b[0;34m(\u001b[0m\u001b[0mtext\u001b[0m\u001b[0;34m=\u001b[0m\u001b[0;34m\"Foreign:\"\u001b[0m\u001b[0;34m)\u001b[0m\u001b[0;34m.\u001b[0m\u001b[0mfind_parent\u001b[0m\u001b[0;34m(\u001b[0m\u001b[0;34m\"td\"\u001b[0m\u001b[0;34m)\u001b[0m\u001b[0;34m.\u001b[0m\u001b[0mfind_next_sibling\u001b[0m\u001b[0;34m(\u001b[0m\u001b[0;34m\"td\"\u001b[0m\u001b[0;34m)\u001b[0m\u001b[0;34m.\u001b[0m\u001b[0mget_text\u001b[0m\u001b[0;34m(\u001b[0m\u001b[0mstrip\u001b[0m\u001b[0;34m=\u001b[0m\u001b[0mTrue\u001b[0m\u001b[0;34m)\u001b[0m\u001b[0;34m\u001b[0m\u001b[0m\n\u001b[0m",
      "\u001b[0;31mAttributeError\u001b[0m: 'NoneType' object has no attribute 'find_parent'"
     ]
    }
   ],
   "source": [
    "# for a page that doesnt have a foreign total\n",
    "soup_lebowski.find(text=\"Foreign:\").find_parent(\"td\").find_next_sibling(\"td\").get_text(strip=True)\n"
   ]
  },
  {
   "cell_type": "code",
   "execution_count": 23,
   "metadata": {
    "collapsed": false
   },
   "outputs": [
    {
     "data": {
      "text/plain": [
       "[]"
      ]
     },
     "execution_count": 23,
     "metadata": {},
     "output_type": "execute_result"
    }
   ],
   "source": [
    "soup_star_wars.find(text=\"Actors:\").find_parent(\"tr\").find_all(text=True)[1:]"
   ]
  },
  {
   "cell_type": "code",
   "execution_count": 21,
   "metadata": {
    "collapsed": false
   },
   "outputs": [
    {
     "ename": "AttributeError",
     "evalue": "'NavigableString' object has no attribute 'text'",
     "output_type": "error",
     "traceback": [
      "\u001b[0;31m---------------------------------------------------------------------------\u001b[0m",
      "\u001b[0;31mAttributeError\u001b[0m                            Traceback (most recent call last)",
      "\u001b[0;32m<ipython-input-21-bd3cf464da0d>\u001b[0m in \u001b[0;36m<module>\u001b[0;34m()\u001b[0m\n\u001b[1;32m      1\u001b[0m \u001b[0mftg_string\u001b[0m \u001b[0;34m=\u001b[0m \u001b[0msoup_star_wars\u001b[0m\u001b[0;34m.\u001b[0m\u001b[0mfind\u001b[0m\u001b[0;34m(\u001b[0m\u001b[0mtext\u001b[0m\u001b[0;34m=\u001b[0m\u001b[0mre\u001b[0m\u001b[0;34m.\u001b[0m\u001b[0mcompile\u001b[0m\u001b[0;34m(\u001b[0m\u001b[0;34m'Foreign:'\u001b[0m\u001b[0;34m)\u001b[0m\u001b[0;34m)\u001b[0m\u001b[0;34m\u001b[0m\u001b[0m\n\u001b[0;32m----> 2\u001b[0;31m \u001b[0;32mprint\u001b[0m\u001b[0;34m(\u001b[0m\u001b[0mftg_string\u001b[0m\u001b[0;34m.\u001b[0m\u001b[0mtext\u001b[0m\u001b[0;34m)\u001b[0m\u001b[0;34m\u001b[0m\u001b[0m\n\u001b[0m",
      "\u001b[0;32m/Users/williamcosby/anaconda/envs/data/lib/python2.7/site-packages/bs4/element.pyc\u001b[0m in \u001b[0;36m__getattr__\u001b[0;34m(self, attr)\u001b[0m\n\u001b[1;32m    711\u001b[0m             raise AttributeError(\n\u001b[1;32m    712\u001b[0m                 \"'%s' object has no attribute '%s'\" % (\n\u001b[0;32m--> 713\u001b[0;31m                     self.__class__.__name__, attr))\n\u001b[0m\u001b[1;32m    714\u001b[0m \u001b[0;34m\u001b[0m\u001b[0m\n\u001b[1;32m    715\u001b[0m     \u001b[0;32mdef\u001b[0m \u001b[0moutput_ready\u001b[0m\u001b[0;34m(\u001b[0m\u001b[0mself\u001b[0m\u001b[0;34m,\u001b[0m \u001b[0mformatter\u001b[0m\u001b[0;34m=\u001b[0m\u001b[0;34m\"minimal\"\u001b[0m\u001b[0;34m)\u001b[0m\u001b[0;34m:\u001b[0m\u001b[0;34m\u001b[0m\u001b[0m\n",
      "\u001b[0;31mAttributeError\u001b[0m: 'NavigableString' object has no attribute 'text'"
     ]
    }
   ],
   "source": [
    "ftg_string = soup_star_wars.find(text=re.compile('Foreign:'))\n",
    "print(ftg_string)"
   ]
  },
  {
   "cell_type": "code",
   "execution_count": 20,
   "metadata": {
    "collapsed": false
   },
   "outputs": [
    {
     "name": "stdout",
     "output_type": "stream",
     "text": [
      "None\n"
     ]
    }
   ],
   "source": [
    "print(ftg_string.findNextSibling())"
   ]
  },
  {
   "cell_type": "code",
   "execution_count": null,
   "metadata": {
    "collapsed": true
   },
   "outputs": [],
   "source": []
  }
 ],
 "metadata": {
  "kernelspec": {
   "display_name": "Python 2",
   "language": "python",
   "name": "python2"
  },
  "language_info": {
   "codemirror_mode": {
    "name": "ipython",
    "version": 2
   },
   "file_extension": ".py",
   "mimetype": "text/x-python",
   "name": "python",
   "nbconvert_exporter": "python",
   "pygments_lexer": "ipython2",
   "version": "2.7.12"
  }
 },
 "nbformat": 4,
 "nbformat_minor": 0
}
