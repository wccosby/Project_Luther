{
 "cells": [
  {
   "cell_type": "markdown",
   "metadata": {},
   "source": [
    "# Not all movies have a foreign release!!~~~!!!!!!"
   ]
  },
  {
   "cell_type": "markdown",
   "metadata": {},
   "source": [
    "# Fields I will probably want to get for predicting international success (Do I want to look at prediction pre-release? or after first weekend?\n",
    "### Will probably want to be looking at predicting this pre-release or after opening weekend to have any real value to investors/studios\n",
    "\n",
    "* Domestic Total Gross (maybe...but not really relevant to problem)\n",
    "* Opening weekend (for predicting success after domestic opening weekend)\n",
    "* Release Date\n",
    "* Distributor\n",
    "* Runtime\n",
    "* Production Budget\n",
    "* Genre\n",
    "* MPAA Rating\n",
    "* Director\n",
    "* Writers\n",
    "* Producers\n",
    "* Actors (maybe have another analysis for actor success?)\n",
    "* 3D?\n",
    "* IMAX?\n",
    "* Brand\n",
    "\n",
    "## Target variable for training and prediction:\n",
    "\n",
    "* Foreign total gross"
   ]
  },
  {
   "cell_type": "markdown",
   "metadata": {},
   "source": [
    "# List of movies 2016:\n",
    "\n",
    "(1-100) http://www.boxofficemojo.com/yearly/chart/?view=releasedate&view2=domestic&yr=2016&sort=gross&order=DESC&studio= \n",
    "\n",
    "(101 - 200) http://www.boxofficemojo.com/yearly/chart/?page=2&view=releasedate&view2=domestic&yr=2016&p=.htm\n",
    "\n",
    "(201-300) http://www.boxofficemojo.com/yearly/chart/?page=3&view=releasedate&view2=domestic&yr=2016&p=.htm\n",
    "\n",
    "(301-400) http://www.boxofficemojo.com/yearly/chart/?page=4&view=releasedate&view2=domestic&yr=2016&p=.htm\n",
    "\n",
    "# List of movies 2015: \n",
    "\n",
    "(1-100) http://www.boxofficemojo.com/yearly/chart/yr=2015&view=releasedate&view2=domestic&sort=gross&order=DESC&&p=.htm\n",
    "\n",
    "(101-200) http://www.boxofficemojo.com/yearly/chart/page=2&view=releasedate&view2=domestic&yr=2015&p=.htm\n",
    "\n",
    "(201-300) http://www.boxofficemojo.com/yearly/chart/page=3&view=releasedate&view2=domestic&yr=2015&p=.htm\n",
    "\n",
    "(301-400) http://www.boxofficemojo.com/yearly/chart/page=4&view=releasedate&view2=domestic&yr=2015&p=.htm\n",
    "\n",
    "(401-500)\n",
    "http://www.boxofficemojo.com/yearly/chart/page=5&view=releasedate&view2=domestic&yr=2015&p=.htm\n",
    "\n",
    "# Example of clicking on a movie link in one of these lists\n",
    "\n",
    "#### http://www.boxofficemojo.com/movies/?id=starwars7.htm"
   ]
  },
  {
   "cell_type": "code",
   "execution_count": 18,
   "metadata": {
    "collapsed": true
   },
   "outputs": [],
   "source": [
    "import pandas as pd\n",
    "import numpy as np\n",
    "import matplotlib.pyplot as plt\n",
    "from bs4 import BeautifulSoup\n",
    "import requests\n",
    "\n",
    "%matplotlib inline"
   ]
  },
  {
   "cell_type": "markdown",
   "metadata": {},
   "source": [
    "# Scraping the yearly movie table\n",
    "* ToDo\n",
    "    * Parse the input so the dollar values are stripped and turned to integers etc...\n",
    "    * adjust scale to absolute single dollar amount\n",
    "    * adjust ticket values\n",
    "    * parse the % change column\n",
    "    * need to find ways to deal with missing values"
   ]
  },
  {
   "cell_type": "code",
   "execution_count": 2,
   "metadata": {
    "collapsed": true
   },
   "outputs": [],
   "source": [
    "url_yearly = 'http://www.boxofficemojo.com/yearly/'\n",
    "\n",
    "response_yearly = requests.get(url_yearly)"
   ]
  },
  {
   "cell_type": "code",
   "execution_count": 3,
   "metadata": {
    "collapsed": false
   },
   "outputs": [
    {
     "name": "stderr",
     "output_type": "stream",
     "text": [
      "/Users/williamcosby/anaconda/envs/data/lib/python2.7/site-packages/bs4/__init__.py:166: UserWarning: No parser was explicitly specified, so I'm using the best available HTML parser for this system (\"html.parser\"). This usually isn't a problem, but if you run this code on another system, or in a different virtual environment, it may use a different parser and behave differently.\n",
      "\n",
      "To get rid of this warning, change this:\n",
      "\n",
      " BeautifulSoup([your markup])\n",
      "\n",
      "to this:\n",
      "\n",
      " BeautifulSoup([your markup], \"html.parser\")\n",
      "\n",
      "  markup_type=markup_type))\n"
     ]
    }
   ],
   "source": [
    "page_yearly = response_yearly.text\n",
    "soup_yearly = BeautifulSoup(page_yearly)"
   ]
  },
  {
   "cell_type": "code",
   "execution_count": 4,
   "metadata": {
    "collapsed": false
   },
   "outputs": [
    {
     "data": {
      "text/plain": [
       "<title>Movie Box Office Results by Year, 1980-Present - Box Office Mojo</title>"
      ]
     },
     "execution_count": 4,
     "metadata": {},
     "output_type": "execute_result"
    }
   ],
   "source": [
    "soup_yearly.find('title')"
   ]
  },
  {
   "cell_type": "code",
   "execution_count": 5,
   "metadata": {
    "collapsed": false
   },
   "outputs": [],
   "source": [
    "# movie_list = soup_yearly.find(\"table\",{ \"class\" : \"wikitable sortable plainrowheaders\" })\n",
    "movie_table = soup_yearly.find_all('table')\n",
    "# print(movie_table)"
   ]
  },
  {
   "cell_type": "code",
   "execution_count": 6,
   "metadata": {
    "collapsed": true
   },
   "outputs": [],
   "source": [
    "movie_data = []\n",
    "\n",
    "# header = ['Year','Total Gross','Change','Tickets Sold','Change','# of movies','Total Screens',\n",
    "#           'Avg. Ticket Price','Avg. Cost','#1 Movie']\n",
    "movie_data = []\n",
    "\n",
    "# the first row is the title of the columns\n",
    "for row in movie_table[2].findAll(\"tr\"):\n",
    "    movie_row = []\n",
    "    for i,cell in enumerate(row.findAll(\"td\")):\n",
    "#         print cell\n",
    "        movie_row.append(cell.find(text=True))\n",
    "    movie_data.append(movie_row)\n",
    "\n",
    "header = movie_data.pop(0)\n",
    "movies_df = pd.DataFrame(movie_data,columns = header)\n",
    "# movies_df.dropna()"
   ]
  },
  {
   "cell_type": "code",
   "execution_count": 7,
   "metadata": {
    "collapsed": false
   },
   "outputs": [
    {
     "data": {
      "text/html": [
       "<div>\n",
       "<table border=\"1\" class=\"dataframe\">\n",
       "  <thead>\n",
       "    <tr style=\"text-align: right;\">\n",
       "      <th></th>\n",
       "      <th>Year</th>\n",
       "      <th>Total</th>\n",
       "      <th>Change</th>\n",
       "      <th>Tickets</th>\n",
       "      <th>Change</th>\n",
       "      <th># of</th>\n",
       "      <th>Total</th>\n",
       "      <th>Avg.</th>\n",
       "      <th>Avg.</th>\n",
       "      <th>#1 Movie</th>\n",
       "    </tr>\n",
       "  </thead>\n",
       "  <tbody>\n",
       "    <tr>\n",
       "      <th>0</th>\n",
       "      <td>2016</td>\n",
       "      <td>$6,169.2</td>\n",
       "      <td>-</td>\n",
       "      <td>719.0</td>\n",
       "      <td>-</td>\n",
       "      <td>362</td>\n",
       "      <td>-</td>\n",
       "      <td>$8.58</td>\n",
       "      <td>-</td>\n",
       "      <td>Finding Dory</td>\n",
       "    </tr>\n",
       "    <tr>\n",
       "      <th>1</th>\n",
       "      <td>2015</td>\n",
       "      <td>$11,128.5</td>\n",
       "      <td>+7.4%</td>\n",
       "      <td>1,320.1</td>\n",
       "      <td>+4.1%</td>\n",
       "      <td>701</td>\n",
       "      <td>-</td>\n",
       "      <td>$8.43</td>\n",
       "      <td>-</td>\n",
       "      <td>Star Wars: The Force Awakens</td>\n",
       "    </tr>\n",
       "    <tr>\n",
       "      <th>2</th>\n",
       "      <td>2014</td>\n",
       "      <td>$10,360.8</td>\n",
       "      <td>-5.2%</td>\n",
       "      <td>1,268.2</td>\n",
       "      <td>-5.6%</td>\n",
       "      <td>702</td>\n",
       "      <td>-</td>\n",
       "      <td>$8.17</td>\n",
       "      <td>-</td>\n",
       "      <td>American Sniper</td>\n",
       "    </tr>\n",
       "    <tr>\n",
       "      <th>3</th>\n",
       "      <td>2013</td>\n",
       "      <td>$10,923.6</td>\n",
       "      <td>+0.8%</td>\n",
       "      <td>1,343.6</td>\n",
       "      <td>-1.3%</td>\n",
       "      <td>688</td>\n",
       "      <td>-</td>\n",
       "      <td>$8.13</td>\n",
       "      <td>-</td>\n",
       "      <td>Catching Fire</td>\n",
       "    </tr>\n",
       "    <tr>\n",
       "      <th>4</th>\n",
       "      <td>2012</td>\n",
       "      <td>$10,837.4</td>\n",
       "      <td>+6.5%</td>\n",
       "      <td>1,361.5</td>\n",
       "      <td>+6.1%</td>\n",
       "      <td>667</td>\n",
       "      <td>-</td>\n",
       "      <td>$7.96</td>\n",
       "      <td>-</td>\n",
       "      <td>The Avengers</td>\n",
       "    </tr>\n",
       "  </tbody>\n",
       "</table>\n",
       "</div>"
      ],
      "text/plain": [
       "   Year      Total Change  Tickets Change # of Total   Avg. Avg.  \\\n",
       "0  2016   $6,169.2      -    719.0      -  362     -  $8.58    -   \n",
       "1  2015  $11,128.5  +7.4%  1,320.1  +4.1%  701     -  $8.43    -   \n",
       "2  2014  $10,360.8  -5.2%  1,268.2  -5.6%  702     -  $8.17    -   \n",
       "3  2013  $10,923.6  +0.8%  1,343.6  -1.3%  688     -  $8.13    -   \n",
       "4  2012  $10,837.4  +6.5%  1,361.5  +6.1%  667     -  $7.96    -   \n",
       "\n",
       "                       #1 Movie  \n",
       "0                  Finding Dory  \n",
       "1  Star Wars: The Force Awakens  \n",
       "2               American Sniper  \n",
       "3                 Catching Fire  \n",
       "4                  The Avengers  "
      ]
     },
     "execution_count": 7,
     "metadata": {},
     "output_type": "execute_result"
    }
   ],
   "source": [
    "movies_df.head()"
   ]
  },
  {
   "cell_type": "markdown",
   "metadata": {},
   "source": [
    "# Now looking at parsing individual movie pages"
   ]
  },
  {
   "cell_type": "code",
   "execution_count": 29,
   "metadata": {
    "collapsed": true
   },
   "outputs": [],
   "source": [
    "# if needed: pip install requests\n",
    "\n",
    "url = 'http://www.boxofficemojo.com/movies/?id=marvel2016.htm'\n",
    "\n",
    "response = requests.get(url)"
   ]
  },
  {
   "cell_type": "code",
   "execution_count": 30,
   "metadata": {
    "collapsed": false
   },
   "outputs": [
    {
     "data": {
      "text/plain": [
       "200"
      ]
     },
     "execution_count": 30,
     "metadata": {},
     "output_type": "execute_result"
    }
   ],
   "source": [
    "response.status_code"
   ]
  },
  {
   "cell_type": "code",
   "execution_count": 31,
   "metadata": {
    "collapsed": false
   },
   "outputs": [],
   "source": [
    "page_lebowski = response.text\n",
    "soup_lebowski = BeautifulSoup(page_lebowski)"
   ]
  },
  {
   "cell_type": "code",
   "execution_count": null,
   "metadata": {
    "collapsed": true
   },
   "outputs": [],
   "source": []
  },
  {
   "cell_type": "markdown",
   "metadata": {},
   "source": [
    "# Movie Page Scraping function"
   ]
  },
  {
   "cell_type": "code",
   "execution_count": 15,
   "metadata": {
    "collapsed": true
   },
   "outputs": [],
   "source": [
    "import re\n",
    "from collections import defaultdict()\n",
    "\n",
    "# testing for 1 page first\n",
    "def parse_movie_page(url_list):\n",
    "    movie_dict = defaultdict()\n",
    "    \n",
    "    for url in url_list:\n",
    "        \n",
    "        response = requests.get(url)\n",
    "        # should probably check to make sure the response code is good to continue\n",
    "        \n",
    "        #'''get the page and soup reference'''#\n",
    "        movie_page = response.text\n",
    "        movie_soup = BeautifulSoup(movie_page)\n",
    "        \n",
    "        \n",
    "        # MOVIE NAME\n",
    "        movie_name = movie_soup.find('td')[2].find('b').get_text(strip=True)\n",
    "\n",
    "        #''' DOMESTIC TOTAL GROSS '''#\n",
    "        # can do this the normal, easy way, also it is present for every movie\n",
    "        dtg_string = movie_soup.find(text=re.compile('Domestic Total')) # finds the label\n",
    "        # format the dtg\n",
    "    #     dtg = dtg_string.findNextSibling().text # grabs the next value, which is the dtg\n",
    "        dtg = dtg_string.find_parent(\"td\").find('b').get_text(strip=True)\n",
    "        dtg = dtg.replace('$','').replace(',','')\n",
    "        movie_dict[movie_name].append(int(dtg))\n",
    "\n",
    "\n",
    "        #''' DOMESTIC OPENING WEEKEND '''#\n",
    "        domestic_opening_string = movie_soup.find_all(class_='mp_box_content')[1].find('tr').find_all('td')[1].get_text(strip=True)\n",
    "        domestic_opening = domestic_opening_string.replace('$','').replace(',','')\n",
    "        movie_dict[movie_name].append(int(domestic_opening))\n",
    "\n",
    "        #''' FOREIGN GROSS TOTAL '''#\n",
    "        # have to check if it has a foreign release\n",
    "        # if it doesnt have a foreign release then just put in 0\n",
    "        try:\n",
    "            ftg_string = movie_soup.find(text=\"Foreign:\").find_parent(\"td\").find_next_sibling(\"td\").get_text(strip=True)\n",
    "            ftg = ftg_string.replace('$','').replace(',','')\n",
    "            movie_dict[movie_name].append(int(ftg))\n",
    "        except: # no foreign release data\n",
    "            movie_dict[movie_name].append(0)\n",
    "\n",
    "\n",
    "        #''' BUDGET '''#\n",
    "        try:\n",
    "            budget_string = movie_soup.find(text=re.compile('Production Budget:')).findNextSibling().get_text(strip=True)\n",
    "            budget = budget_string.replace('$','').replace(',','')\n",
    "            # split the string, use the 2nd index to determine scale (itll be like ['245','million'])\n",
    "            if budget.split()[1] == 'million':\n",
    "                movie_dict[movie_name].append(budget.split()[0]*1000000)\n",
    "            elif budge.split()[1] == 'thousand':\n",
    "                movie_dict[movie_name].append(budget.split()[0]*1000)\n",
    "            else:\n",
    "                print('THE BUDGET WAS ',budget.split())\n",
    "        except:\n",
    "            print(\"budget failed for \",movie_name,\" with string: \",movie_soup.find(text=re.compile('Production Budget:')))\n",
    "            print\n",
    "            movie_dict[movie_name].append(0)\n",
    "\n",
    "        #''' GENRE '''#\n",
    "        genre = movie_soup.find(text=re.compile('Genre:')).find_parent('td').find('b').get_text(strip=True)\n",
    "        movie_dict[movie_name].append(genre)\n",
    "\n",
    "    return movie_dict\n",
    "    "
   ]
  },
  {
   "cell_type": "code",
   "execution_count": 28,
   "metadata": {
    "collapsed": true
   },
   "outputs": [],
   "source": [
    "# from collections import defaultdict\n",
    "# movies = [('http://www.boxofficemojo.com/movies/?id=pixar2015.htm','Finding Dory'),\n",
    "#           ('http://www.boxofficemojo.com/movies/?id=marvel2016.htm','Captain America: Civil War'),\n",
    "#          ('http://www.boxofficemojo.com/movies/?id=deadpool2016.htm','Deadpool'),\n",
    "#          ('http://boxofficemojo.com/movies/?id=biglebowski.htm','The Big Lebowski')]\n",
    "\n",
    "# # parse_movie_page(movie_dict, url, movie_name):\n",
    "# test_dict = defaultdict(list)\n",
    "# for url,name in movies:\n",
    "#     test_dict = parse_movie_page(test_dict,url,name)"
   ]
  },
  {
   "cell_type": "code",
   "execution_count": 11,
   "metadata": {
    "collapsed": false
   },
   "outputs": [],
   "source": [
    "import re\n",
    "response = requests.get('http://www.boxofficemojo.com/movies/?id=marvel2016.htm')\n",
    "# should probably check to make sure the response code is good to continue\n",
    "\n",
    "#'''get the page and soup reference'''#\n",
    "movie_page = response.text\n",
    "movie_soup = BeautifulSoup(movie_page)\n",
    "dtg_string = movie_soup.find(text=re.compile('Genre:')) # finds the label\n"
   ]
  },
  {
   "cell_type": "code",
   "execution_count": 14,
   "metadata": {
    "collapsed": false
   },
   "outputs": [
    {
     "name": "stdout",
     "output_type": "stream",
     "text": [
      "Action / Adventure\n"
     ]
    }
   ],
   "source": [
    "print(dtg_string.find_parent('td').find('b').get_text(strip=True))"
   ]
  },
  {
   "cell_type": "code",
   "execution_count": 57,
   "metadata": {
    "collapsed": true
   },
   "outputs": [],
   "source": [
    "response = requests.get('http://www.boxofficemojo.com/movies/?id=pixar2015.htm')\n",
    "# should probably check to make sure the response code is good to continue\n",
    "\n",
    "#'''get the page and soup reference'''#\n",
    "movie_page = response.text\n",
    "movie_soup = BeautifulSoup(movie_page)\n",
    "dtg_string = movie_soup.find(text=re.compile('Domestic Total')) # finds the label\n"
   ]
  },
  {
   "cell_type": "code",
   "execution_count": 64,
   "metadata": {
    "collapsed": false
   },
   "outputs": [
    {
     "data": {
      "text/plain": [
       "u'$431,869,779'"
      ]
     },
     "execution_count": 64,
     "metadata": {},
     "output_type": "execute_result"
    }
   ],
   "source": [
    "dtg_string.find_parent(\"td\").find('b').get_text(strip=True)"
   ]
  },
  {
   "cell_type": "code",
   "execution_count": 59,
   "metadata": {
    "collapsed": false
   },
   "outputs": [
    {
     "ename": "AttributeError",
     "evalue": "'NoneType' object has no attribute 'text'",
     "output_type": "error",
     "traceback": [
      "\u001b[0;31m---------------------------------------------------------------------------\u001b[0m",
      "\u001b[0;31mAttributeError\u001b[0m                            Traceback (most recent call last)",
      "\u001b[0;32m<ipython-input-59-96cd65f4878c>\u001b[0m in \u001b[0;36m<module>\u001b[0;34m()\u001b[0m\n\u001b[0;32m----> 1\u001b[0;31m \u001b[0mdtg\u001b[0m \u001b[0;34m=\u001b[0m \u001b[0mdtg_string\u001b[0m\u001b[0;34m.\u001b[0m\u001b[0mfindNextSibling\u001b[0m\u001b[0;34m(\u001b[0m\u001b[0;34m)\u001b[0m\u001b[0;34m.\u001b[0m\u001b[0mtext\u001b[0m \u001b[0;31m# grabs the next value, which is the dtg\u001b[0m\u001b[0;34m\u001b[0m\u001b[0m\n\u001b[0m",
      "\u001b[0;31mAttributeError\u001b[0m: 'NoneType' object has no attribute 'text'"
     ]
    }
   ],
   "source": [
    "dtg = dtg_string.findNextSibling().text # grabs the next value, which is the dtg\n"
   ]
  },
  {
   "cell_type": "code",
   "execution_count": 69,
   "metadata": {
    "collapsed": false
   },
   "outputs": [],
   "source": [
    "###########################\n",
    "'''IMPORTANT LINE~~~~~~~~~~~~~'''\n",
    "###########################\n",
    "\n",
    "budget_string = soup_star_wars.find(text=re.compile('Production Budget:')).findNextSibling().text\n"
   ]
  },
  {
   "cell_type": "code",
   "execution_count": 70,
   "metadata": {
    "collapsed": false
   },
   "outputs": [
    {
     "data": {
      "text/plain": [
       "u'$245 million'"
      ]
     },
     "execution_count": 70,
     "metadata": {},
     "output_type": "execute_result"
    }
   ],
   "source": [
    "budget_string"
   ]
  },
  {
   "cell_type": "code",
   "execution_count": 48,
   "metadata": {
    "collapsed": true
   },
   "outputs": [],
   "source": [
    "budget = budget_string.replace('$','').replace(',','')"
   ]
  },
  {
   "cell_type": "code",
   "execution_count": 51,
   "metadata": {
    "collapsed": false
   },
   "outputs": [
    {
     "data": {
      "text/plain": [
       "245000000"
      ]
     },
     "execution_count": 51,
     "metadata": {},
     "output_type": "execute_result"
    }
   ],
   "source": [
    "int(budget.split()[0])*1000000"
   ]
  },
  {
   "cell_type": "code",
   "execution_count": null,
   "metadata": {
    "collapsed": true
   },
   "outputs": [],
   "source": []
  },
  {
   "cell_type": "code",
   "execution_count": 20,
   "metadata": {
    "collapsed": false,
    "scrolled": true
   },
   "outputs": [
    {
     "name": "stdout",
     "output_type": "stream",
     "text": [
      "<div class=\"mp_box_content\">\n",
      "<table border=\"0\" cellpadding=\"0\" cellspacing=\"0\">\n",
      "<tr>\n",
      "<td width=\"40%\"><b>Domestic:</b></td>\n",
      "<td align=\"right\" width=\"35%\"> <b>$936,662,225</b></td>\n",
      "<td align=\"right\" width=\"25%\">   <b>45.3%</b></td>\n",
      "</tr>\n",
      "<tr>\n",
      "<td width=\"40%\">+ <a href=\"/movies/?page=intl&amp;id=starwars7.htm\">Foreign:</a></td>\n",
      "<td align=\"right\" width=\"35%\"> $1,131,516,000</td>\n",
      "<td align=\"right\" width=\"25%\">   54.7%</td>\n",
      "</tr>\n",
      "<tr>\n",
      "<td colspan=\"3\" width=\"100%\"><hr/></td>\n",
      "</tr>\n",
      "<tr>\n",
      "<td width=\"40%\">= <b>Worldwide:</b></td>\n",
      "<td align=\"right\" width=\"35%\"> <b>$2,068,178,225</b></td>\n",
      "<td width=\"25%\"> </td>\n",
      "</tr>\n",
      "</table>\n",
      "</div>\n"
     ]
    }
   ],
   "source": [
    "###########################\n",
    "'''IMPORTANT LINE~~~~~~~~~~~~~'''\n",
    "###########################\n",
    "\n",
    "# this gets the total lifetime grosses box\n",
    "print(soup_star_wars.find(class_=\"mp_box_content\"))"
   ]
  },
  {
   "cell_type": "code",
   "execution_count": 55,
   "metadata": {
    "collapsed": false,
    "scrolled": true
   },
   "outputs": [
    {
     "data": {
      "text/plain": [
       "'IMPORTANT LINE~~~~~~~~~~~~~'"
      ]
     },
     "execution_count": 55,
     "metadata": {},
     "output_type": "execute_result"
    }
   ],
   "source": [
    "###########################\n",
    "'''IMPORTANT LINE~~~~~~~~~~~~~'''\n",
    "###########################\n",
    "\n",
    "# this gets the domestic summary\n",
    "# print(soup_star_wars.find_all(class_='mp_box_content')[1])"
   ]
  },
  {
   "cell_type": "code",
   "execution_count": 36,
   "metadata": {
    "collapsed": false
   },
   "outputs": [
    {
     "ename": "AttributeError",
     "evalue": "'NoneType' object has no attribute 'find_parent'",
     "output_type": "error",
     "traceback": [
      "\u001b[0;31m---------------------------------------------------------------------------\u001b[0m",
      "\u001b[0;31mAttributeError\u001b[0m                            Traceback (most recent call last)",
      "\u001b[0;32m<ipython-input-36-ffa1d5de91cd>\u001b[0m in \u001b[0;36m<module>\u001b[0;34m()\u001b[0m\n\u001b[0;32m----> 1\u001b[0;31m \u001b[0msoup_star_wars\u001b[0m\u001b[0;34m.\u001b[0m\u001b[0mfind\u001b[0m\u001b[0;34m(\u001b[0m\u001b[0mtext\u001b[0m\u001b[0;34m=\u001b[0m\u001b[0;34m\"Opening Weekend:\"\u001b[0m\u001b[0;34m)\u001b[0m\u001b[0;34m.\u001b[0m\u001b[0mfind_parent\u001b[0m\u001b[0;34m(\u001b[0m\u001b[0;34m\"td\"\u001b[0m\u001b[0;34m)\u001b[0m\u001b[0;34m.\u001b[0m\u001b[0mfind_next_sibling\u001b[0m\u001b[0;34m(\u001b[0m\u001b[0;34m\"td\"\u001b[0m\u001b[0;34m)\u001b[0m\u001b[0;34m.\u001b[0m\u001b[0mget_text\u001b[0m\u001b[0;34m(\u001b[0m\u001b[0mstrip\u001b[0m\u001b[0;34m=\u001b[0m\u001b[0mTrue\u001b[0m\u001b[0;34m)\u001b[0m\u001b[0;34m\u001b[0m\u001b[0m\n\u001b[0m",
      "\u001b[0;31mAttributeError\u001b[0m: 'NoneType' object has no attribute 'find_parent'"
     ]
    }
   ],
   "source": [
    "soup_star_wars.find(text=\"Opening Weekend:\").find_parent(\"td\").find_next_sibling(\"td\").get_text(strip=True)"
   ]
  },
  {
   "cell_type": "code",
   "execution_count": 40,
   "metadata": {
    "collapsed": false
   },
   "outputs": [
    {
     "name": "stdout",
     "output_type": "stream",
     "text": [
      "$247,966,675\n"
     ]
    }
   ],
   "source": [
    "print(soup_star_wars.find_all(class_='mp_box_content')[1].find('tr').find_all('td')[1].get_text(strip=True))"
   ]
  },
  {
   "cell_type": "code",
   "execution_count": 51,
   "metadata": {
    "collapsed": false
   },
   "outputs": [
    {
     "name": "stdout",
     "output_type": "stream",
     "text": [
      "<!DOCTYPE html PUBLIC \"-//W3C//DTD HTML 4.01 Transitional//EN\" \"http://www.w3.org/TR/html4/loose.dtd\">\n",
      "\n",
      "<html lang=\"en\">\n",
      "<head>\n",
      "<meta content=\"text/html;charset=utf-8\" http-equiv=\"Content-type\">\n",
      "<title>Star Wars: The Force Awakens (2015) - Box Office Mojo</title>\n",
      "<style type=\"text/css\">\n",
      "table.chart-wide { width: 100%; }\n",
      "</style>\n",
      "<meta content=\"star wars: the force awakens, movie, film, box office, result, records, charts, revenue, opening weekend, gross, worldwide, overseas, foreign, news, reviews, articles, stories, story, analysis, revenue, release date, mpaa rating, genre, running time, length, budget, production budget, distributor, studio, buena vista, theatrical summary, theatrical, daily box office results, weekend box office results, weekly box office, weekly box office, international box office summary, worldwide box office summary, similar movies, image gallery, images, pictures, photos, box office mojo\" name=\"keywords\">\n",
      "<meta content=\"Star Wars: The Force Awakens summary of box office results, charts and release information and related links.\" name=\"description\">\n",
      "<link charset=\"utf-8\" href=\"/css/mojo.css?1\" media=\"screen\" rel=\"stylesheet\" title=\"no title\" type=\"text/css\">\n",
      "<link charset=\"utf-8\" href=\"/css/mojo.css?1\" media=\"print\" rel=\"stylesheet\" title=\"no title\" type=\"text/css\">\n",
      "<script src=\"/js/jscharts.js\" type=\"text/javascript\"></script>\n",
      "</link></link></meta></meta></meta></head>\n",
      "<body>\n",
      "<iframe frameborder=\"0\" height=\"1\" id=\"sis_pixel_sitewide\" marginheight=\"0\" marginwidth=\"0\" style=\"display: none;\" width=\"1\"></iframe>\n",
      "<script>\n",
      "    setTimeout(function(){\n",
      "        try{\n",
      "            //sis3.0 pixel\n",
      "            var cacheBust = Math.random() * 10000000000000000,\n",
      "                url_sis3 = 'http://s.amazon-adsystem.com/iu3?',\n",
      "                params_sis3 = [\n",
      "                    \"d=boxofficemojo.com\",\n",
      "                    \"cb=\" + cacheBust\n",
      "                ];\n",
      "\n",
      "            (document.getElementById('sis_pixel_sitewide')).src = url_sis3 + params_sis3.join('&');\n",
      "        }catch(e){\n",
      "            if (window.ueLogError) { \n",
      "                window.ueLogError(e);\n",
      "            }\n",
      "        }\n",
      "    }, 5);\n",
      "</script>\n",
      "<div id=\"container\">\n",
      "<div>\n",
      "<script type=\"text/javascript\">\n",
      "    var googletag = googletag || {};\n",
      "    googletag.cmd = googletag.cmd || [];\n",
      "\n",
      "    (function() {\n",
      "        var gads = document.createElement(\"script\");\n",
      "        gads.async = true;\n",
      "        gads.type = \"text/javascript\";\n",
      "\n",
      "        var useSSL = \"https:\" == document.location.protocol;\n",
      "        gads.src = (useSSL ? \"https:\" : \"http:\") + \"//www.googletagservices.com/tag/js/gpt.js\";\n",
      "\n",
      "        var node = document.getElementsByTagName(\"script\")[0];\n",
      "        node.parentNode.insertBefore(gads, node);\n",
      "    })();\n",
      "</script>\n",
      "<script type=\"text/javascript\">\n",
      "  var _gaq = _gaq || [];\n",
      "  _gaq.push(['_setAccount', 'UA-2831726-1']);\n",
      "  _gaq.push(['_trackPageview']);\n",
      "\n",
      "  (function() {\n",
      "    var ga = document.createElement('script'); ga.type = 'text/javascript'; ga.async = true;\n",
      "    ga.src = ('https:' == document.location.protocol ? 'https://ssl' : 'http://www') + '.google-analytics.com/ga.js';\n",
      "    (document.getElementsByTagName('head')[0] || document.getElementsByTagName('body')[0]).appendChild(ga);\n",
      "  })();\n",
      "\n",
      "</script>\n",
      "<div id=\"hp_banner\">\n",
      "<div id=\"top_links\">\n",
      "<div style=\"float: left\"><a href=\"/daily/chart/\">Daily Box Office (Tue.)</a> | <a href=\"/weekend/chart/\">Weekend Box Office (Jul. 8–10)</a> | <a href=\"/movies/?id=illumination2015.htm\">#1 Movie: 'The Secret Life of Pets'</a> | <a href=\"http://www.imdb.com/showtimes/?ref_=mojo\">Showtimes</a></div>\n",
      "<div style=\"float: right\">Updated 7/13/2016 2:53 P.M. Pacific Time</div>\n",
      "<div style=\"clear:both; height: 0px\"></div>\n",
      "</div>\n",
      "</div>\n",
      "<div id=\"header\">\n",
      "<div id=\"leaderboard\"><script type=\"text/javascript\">\n",
      "    googletag.cmd.push(function() {\n",
      "        googletag.defineSlot(\"/4215/imdb2.bom.movie\", [[728, 90]], \"ad-slot-1\").addService(googletag.pubads().setTargeting(\"p\", \"t\"));\n",
      "        googletag.pubads().enableSingleRequest();\n",
      "        googletag.enableServices();\n",
      "    });\n",
      "    googletag.cmd.push(function() { googletag.display(\"ad-slot-1\"); });\n",
      "</script></div> <div id=\"hp_logo\"><a href=\"/\"><img alt=\"Box Office Mojo\" height=\"56\" src=\"/img/misc/bom_logo1.png\" width=\"245\"/></a></div>\n",
      "<div style=\"clear:both; height: 0px\"></div>\n",
      "</div>\n",
      "</div>\n",
      "<div id=\"main\">\n",
      "<!-- COLUMN 1 of 4 -->\n",
      "<div id=\"leftnav\">\n",
      "<!-- google_ad_section_start(weight=ignore) -->\n",
      "<!-- <table id=\"navleft\" cellspacing=\"0\" cellpadding=\"2\" border=\"0\"> -->\n",
      "<ul id=\"leftnav\">\n",
      "<li class=\"nl_section\">Search Site</li>\n",
      "<li class=\"nl_link\" style=\"padding-left:0px\">\n",
      "<form action=\"/search/q.php\" method=\"POST\" name=\"searchbox\">\n",
      "<input name=\"q\" style=\"font-size: 9 pt; font-weight: bold; width: 90px;\" type=\"text\"><br>\n",
      "<input type=\"submit\" value=\"Search...\"/></br></input></form>\n",
      "</li>\n",
      "<li class=\"nl_section\">Social</li>\n",
      "<li class=\"nl_link\"><a href=\"http://facebook.com/boxofficemojo\" style=\"vertical-align:middle;\"><img alt=\"Facebook Logo\" border=\"0\" src=\"/images/FaceBook_16x16.png\">Facebook</img></a></li>\n",
      "<li class=\"nl_link\"><a href=\"http://twitter.com/boxofficemojo\" style=\"vertical-align:middle;\"><img alt=\"Twitter Logo\" border=\"0\" src=\"/images/Twitter_16x16.png\">Twitter</img></a></li>\n",
      "<li class=\"nl_section\">Features</li>\n",
      "<li class=\"nl_link\"><a href=\"/news/\">News</a></li>\n",
      "<li class=\"nl_link\"><a href=\"/schedule/\">Release Sched.</a></li>\n",
      "<li class=\"nl_link\"><a href=\"http://www.imdb.com/showtimes?ref_=mojo\">Showtimes<br/><span style=\"margin-left:7px;color: #999999; font-size: 9px;\">at <img src=\"/images/mojo_imdb_sm.png\"/></span></a></li>\n",
      "<li class=\"nl_section\">Box Office</li>\n",
      "<li class=\"nl_link\"><a href=\"/daily/\">Daily</a></li>\n",
      "<li class=\"nl_link\"><a href=\"/weekend/\">Weekend</a></li>\n",
      "<li class=\"nl_link\"><a href=\"/weekly/\">Weekly</a></li>\n",
      "<li class=\"nl_link\"><a href=\"/monthly/\">Monthly</a></li>\n",
      "<li class=\"nl_link\"><a href=\"/quarterly/\">Quarterly</a></li>\n",
      "<li class=\"nl_link\"><a href=\"/seasonal/\">Seasonal</a></li>\n",
      "<li class=\"nl_link\"><a href=\"/yearly/\">Yearly</a></li>\n",
      "<li class=\"nl_link\"><a href=\"/alltime/\">All Time</a></li>\n",
      "<li class=\"nl_link\"><a href=\"/intl/\">International</a></li>\n",
      "<li class=\"nl_section\">Indices</li>\n",
      "<li class=\"nl_link\"><a href=\"/studio/\">Studios</a></li>\n",
      "<li class=\"nl_link\"><a href=\"/people/\">People</a></li>\n",
      "<li class=\"nl_link\"><a href=\"/genres/\">Genres</a></li>\n",
      "<li class=\"nl_link\"><a href=\"/franchises/\">Franchises</a></li>\n",
      "<li class=\"nl_link\"><a href=\"/showdowns/\">Showdowns</a></li>\n",
      "<li class=\"nl_link\"><a href=\"/counts/\">Theater Counts</a></li>\n",
      "</ul>\n",
      "</div>\n",
      "<div id=\"body\">\n",
      "<table border=\"0\" cellspacing=\"0\" width=\"878px\">\n",
      "<tr>\n",
      "<td align=\"right\" style=\"whitespace:nowrap;\">\n",
      "<table border=\"0\" cellpadding=\"0\" cellspacing=\"0\">\n",
      "<tr>\n",
      "<form action=\"/adjuster.php\" method=\"POST\" name=\"adjuster\">\n",
      "<input name=\"returnURL\" type=\"hidden\" value=\"/movies/?id=starwars7.htm\">\n",
      "<td valign=\"center\">\n",
      "<font face=\"Verdana\" size=\"2\"><a href=\"/about/adjuster.htm\"><b>Adjuster:</b></a></font>\n",
      "<select name=\"ticketyr\" size=\"1\" style=\"font-family: Verdana; font-size: 10pt\">\n",
      "<option selected=\"\" value=\"0\">Actuals</option>\n",
      "<option value=\"1\">Est. Tckts</option>\n",
      "<script language=\"javascript\">\r\n",
      "  for(i=2016; i>=1933; i--) {\r\n",
      "  \tdocument.write('<option value=\"' + i + '\"');\r\n",
      "\tif(i=='0') document.write(' selected');\r\n",
      "\tdocument.write('>' + i );\r\n",
      "\tif(i=='0') document.write(', $' + '0.00');\r\n",
      "\tdocument.write('</option>');\r\n",
      "  }\r\n",
      "</script>\n",
      "<option value=\"1929\">1929</option>\n",
      "<option value=\"1924\">1924</option>\n",
      "<option value=\"1910\">1910</option>\n",
      "</select><input name=\"Go\" style=\"font-size: 10pt; height: 22\" type=\"submit\" value=\"Go\">\n",
      "</input></td></input></form></tr></table>\n",
      "</td></tr>\n",
      "<!--------------------------Site Body---------------------------------->\n",
      "<tr></tr></table></div></div></div></body></html>\n",
      "<table border=\"0\" cellpadding=\"0\" cellspacing=\"0\" width=\"100%\">\n",
      "<tr> <td valign=\"top\">\n",
      "<table border=\"0\" cellpadding=\"0\" cellspacing=\"0\" style=\"padding-top: 5px;\" width=\"100%\"><tr><td align=\"center\" valign=\"top\">\n",
      "<a href=\"/movies/?page=media&amp;id=starwars7.htm\"><img border=\"1\" src=\"http://ia.media-imdb.com/images/M/MV5BOTAzODEzNDAzMl5BMl5BanBnXkFtZTgwMDU1MTgzNzE@._V1_UY222_CR0,0,150,222_AL.jpg\" style=\"border-color: 000000\"/></a> </td>\n",
      "<td align=\"center\" valign=\"top\"><br><font face=\"Verdana\" size=\"5\"><b>Star Wars:<br>The Force Awakens</br></b></font><br><br>\n",
      "<table border=\"0\" cellpadding=\"0\" cellspacing=\"0\"><tr><td>\n",
      "<center><table bgcolor=\"#dcdcdc\" border=\"0\" cellpadding=\"4\" cellspacing=\"1\" width=\"95%\"><tr bgcolor=\"#ffffff\"><td align=\"center\" colspan=\"2\"><font size=\"4\">Domestic Total Gross: <b>$936,662,225</b></font></td></tr><tr bgcolor=\"#ffffff\"><td valign=\"top\">Distributor: <b><a href=\"/studio/chart/?studio=buenavista.htm\">Buena Vista</a></b></td><td valign=\"top\">Release Date: <b><nobr><a href=\"/schedule/?view=bydate&amp;release=theatrical&amp;date=2015-12-18&amp;p=.htm\">December 18, 2015</a></nobr></b></td></tr><tr bgcolor=\"#ffffff\"><td valign=\"top\">Genre: <b>Sci-Fi Fantasy</b></td><td valign=\"top\">Runtime: <b>2 hrs. 16 min.</b></td></tr><tr bgcolor=\"#ffffff\"><td valign=\"top\">MPAA Rating: <b>PG-13</b></td><td valign=\"top\">Production Budget: <b>$245 million</b></td></tr></table> </center></td>\n",
      "</tr></table></br></br></br></td>\n",
      "<td align=\"right\"><script type=\"text/javascript\">\n",
      "    googletag.cmd.push(function() {\n",
      "        googletag.defineSlot(\"/4215/imdb2.bom.movie\", [[300, 250]], \"ad-slot-2\").addService(googletag.pubads().setTargeting(\"p\", \"rh\"));\n",
      "        googletag.pubads().enableSingleRequest();\n",
      "        googletag.enableServices();\n",
      "    });\n",
      "    googletag.cmd.push(function() { googletag.display(\"ad-slot-2\"); });\n",
      "</script></td>\n",
      "</tr>\n",
      "</table>\n",
      "<table border=\"0\" cellpadding=\"0\" cellspacing=\"0\" width=\"878px\">\n",
      "<tr><td>\n",
      "<ul class=\"nav_tabs\">\n",
      "<li class=\"nav_tab_current\"><a href=\"/movies/?page=main&amp;id=starwars7.htm\">Summary</a></li>\n",
      "<li><a href=\"/movies/?page=daily&amp;id=starwars7.htm\">Daily</a></li>\n",
      "<li><a href=\"/movies/?page=weekend&amp;id=starwars7.htm\">Weekend</a></li>\n",
      "<li><a href=\"/movies/?page=weekly&amp;id=starwars7.htm\">Weekly</a></li>\n",
      "<li><a href=\"/movies/?page=intl&amp;id=starwars7.htm\">Foreign</a></li>\n",
      "<li><a href=\"/movies/?page=similar&amp;id=starwars7.htm\">Similar Movies</a></li>\n",
      "</ul>\n",
      "<br/>\n",
      "</td></tr>\n",
      "<tr><td>\n",
      "<table border=\"0\" cellpadding=\"0\" cellspacing=\"0\" width=\"100%\">\n",
      "<tr><td valign=\"top\" width=\"434px\">\n",
      "<table border=\"0\" cellpadding=\"0\" cellspacing=\"0\" width=\"100%\"><tr>\n",
      "<td valign=\"top\" width=\"50%\">\n",
      "<div class=\"mp_box\">\n",
      "<div class=\"mp_box_tab\">Total Lifetime Grosses</div></div></td></tr></table></td></tr></table></td></tr></table></td></tr></table>\n",
      "<div class=\"mp_box_content\">\n",
      "<table border=\"0\" cellpadding=\"0\" cellspacing=\"0\">\n",
      "<tr>\n",
      "<td width=\"40%\"><b>Domestic:</b></td>\n",
      "<td align=\"right\" width=\"35%\"> <b>$936,662,225</b></td>\n",
      "<td align=\"right\" width=\"25%\">   <b>45.3%</b></td>\n",
      "</tr>\n",
      "<tr>\n",
      "<td width=\"40%\">+ <a href=\"/movies/?page=intl&amp;id=starwars7.htm\">Foreign:</a></td>\n",
      "<td align=\"right\" width=\"35%\"> $1,131,516,000</td>\n",
      "<td align=\"right\" width=\"25%\">   54.7%</td>\n",
      "</tr>\n",
      "<tr>\n",
      "<td colspan=\"3\" width=\"100%\"><hr/></td>\n",
      "</tr>\n",
      "<tr>\n",
      "<td width=\"40%\">= <b>Worldwide:</b></td>\n",
      "<td align=\"right\" width=\"35%\"> <b>$2,068,178,225</b></td>\n",
      "<td width=\"25%\"> </td>\n",
      "</tr>\n",
      "</table>\n",
      "</div>\n",
      "\n",
      "<div class=\"mp_box\">\n",
      "<div class=\"mp_box_tab\">Domestic Summary</div></div>\n",
      "<div class=\"mp_box_content\">\n",
      "<table border=\"0\" cellpadding=\"0\" cellspacing=\"0\">\n",
      "<tr>\n",
      "<td align=\"center\"><a href=\"/weekend/chart/?yr=2015&amp;wknd=51&amp;p=.htm\">Opening Weekend:</a></td><td> $247,966,675</td></tr>\n",
      "<tr>\n",
      "<td align=\"center\" colspan=\"2\"><font size=\"2\">(#1 rank, 4,134 theaters, $59,982 average)</font></td></tr>\n",
      "<tr>\n",
      "<td align=\"right\">% of Total Gross:</td><td> 26.5%</td></tr>\n",
      "<tr><td align=\"right\" colspan=\"2\"><font face=\"Helvetica, Arial, Sans-Serif\" size=\"1\"><a href=\"/movies/?page=weekend&amp;id=starwars7.htm\"><b>&gt; View All 24 Weekends</b></a></font></td></tr>\n",
      "</table>\n",
      "<table border=\"0\" cellpadding=\"0\" cellspacing=\"0\">\n",
      "<tr>\n",
      "<td>Widest Release:</td>\n",
      "<td> 4,134 theaters</td>\n",
      "</tr>\n",
      "</table>\n",
      "<table border=\"0\" cellpadding=\"0\" cellspacing=\"0\">\n",
      "<tr>\n",
      "<td>Close Date:</td>\n",
      "<td> June 2, 2016</td>\n",
      "</tr>\n",
      "</table>\n",
      "<table border=\"0\" cellpadding=\"0\" cellspacing=\"0\">\n",
      "<tr>\n",
      "<td>In Release:</td>\n",
      "<td> 168 days / 24 weeks</td>\n",
      "</tr>\n",
      "</table>\n",
      "</div>\n",
      "\n",
      "\n",
      "<td style=\"padding-left: 10px;\" valign=\"top\"><div class=\"mp_box\">\n",
      "<div class=\"mp_box_tab\">The Players</div>\n",
      "<div class=\"mp_box_content\">\n",
      "<table>\n",
      "</table></div></div></td><tr><td align=\"right\" valign=\"top\"><font size=\"2\"><a href=\"/people/?view=Director&amp;p=.htm\">Director:</a></font></td></tr><td><font size=\"2\"><a href=\"/people/chart/?view=Director&amp;id=jjabrams.htm\">J.J. Abrams</a></font></td><tr><td align=\"right\" valign=\"top\"><font size=\"2\"><a href=\"/people/?view=Writer&amp;p=.htm\">Writers:</a></font></td></tr><td><font size=\"2\"><a href=\"/people/chart/?view=Writer&amp;id=jjabrams.htm\">J.J. Abrams</a><br><a href=\"/people/chart/?view=Writer&amp;id=michaelarndt.htm\">Michael Arndt</a><br><a href=\"/people/chart/?view=Writer&amp;id=lawrencekasdan.htm\">Lawrence Kasdan</a></br></br></font></td><tr><td align=\"right\" valign=\"top\"><font size=\"2\"><a href=\"/people/?view=Actor&amp;p=.htm\">Actors:</a></font></td></tr><td><font size=\"2\">Warwick Davis<br><a href=\"/people/chart/?view=Actor&amp;id=lupitanyongo.htm\">Lupita Nyong'o</a><br><a href=\"/people/chart/?view=Actor&amp;id=johnboyega.htm\">John Boyega</a><br><a href=\"/people/chart/?view=Actor&amp;id=daisyridley.htm\">Daisy Ridley</a><br>Adam Driver<br>Oscar Isaac<br><a href=\"/people/chart/?view=Actor&amp;id=andyserkis.htm\">Andy Serkis</a><br>Domhnall Gleeson<br>Max von Sydow<br><a href=\"/people/chart/?view=Actor&amp;id=harrisonford.htm\">Harrison Ford</a><br><a href=\"/people/chart/?view=Actor&amp;id=carriefisher.htm\">Carrie Fisher</a><br><a href=\"/people/chart/?view=Actor&amp;id=markhamill.htm\">Mark Hamill</a><br><a href=\"/people/chart/?view=Actor&amp;id=anthonydaniels.htm\">Anthony Daniels</a><br><a href=\"/people/chart/?view=Actor&amp;id=petermayhew.htm\">Peter Mayhew</a><br>Kenny Baker</br></br></br></br></br></br></br></br></br></br></br></br></br></br></font></td><tr><td align=\"right\" valign=\"top\"><font size=\"2\"><a href=\"/people/?view=Producer&amp;p=.htm\">Producers:</a></font></td></tr><td><font size=\"2\"><a href=\"/people/chart/?view=Producer&amp;id=jjabrams.htm\">J.J. Abrams</a><br><a href=\"/people/chart/?view=Producer&amp;id=bryanburk.htm\">Bryan Burk</a><br><a href=\"/people/chart/?view=Producer&amp;id=kathleenkennedy.htm\">Kathleen Kennedy</a></br></br></font></td><tr><td align=\"right\" valign=\"top\"><font size=\"2\"><a href=\"/people/?view=Composer&amp;p=.htm\">Composer:</a></font></td></tr><td><font size=\"2\"><a href=\"/people/chart/?view=Composer&amp;id=johnwilliams.htm\">John Williams</a></font></td>\n",
      "\n",
      "<div class=\"mp_box\">\n",
      "<div class=\"mp_box_tab\">2015 Academy Awards®</div>\n",
      "<div class=\"mp_box_content\"><table border=\"0\" cellpadding=\"5\" cellspacing=\"0\" width=\"100%\"><tr><td><a href=\"/oscar/movies/?id=starwars7.htm\"><b>Nominated for Five Oscars.</b><br/>View full award breakdown...</a></td></tr></table></div></div><div class=\"mp_box\">\n",
      "<div class=\"mp_box_tab\">Genres</div>\n",
      "<div class=\"mp_box_content\">\n",
      "<table border=\"0\" cellpadding=\"5\" cellspacing=\"1\" style=\"border-collapse: collapse\" width=\"100%\">\n",
      "<tr><th>Genre</th>\n",
      "<th>Rank</th></tr>\n",
      "<tr bgcolor=\"#ffffff\"><td><font size=\"2\"><a href=\"/genres/chart/?id=3d.htm\"><b>3D</b></a></font></td>\n",
      "<td align=\"center\"><font size=\"2\"><b>1</b></font></td>\n",
      "</tr>\n",
      "<tr bgcolor=\"#f4f4ff\"><td><font size=\"2\"><a href=\"/genres/chart/?id=imax.htm\"><b>IMAX (Feature-length)</b></a></font></td>\n",
      "<td align=\"center\"><font size=\"2\"><b>1</b></font></td>\n",
      "</tr>\n",
      "<tr bgcolor=\"#ffffff\"><td><font size=\"2\"><a href=\"/genres/chart/?id=scifiadventure.htm\"><b>Sci-Fi - Adventure</b></a></font></td>\n",
      "<td align=\"center\"><font size=\"2\"><b>1</b></font></td>\n",
      "</tr>\n",
      "</table>\n",
      "</div></div>\n",
      "<div class=\"mp_box\">\n",
      "<div class=\"mp_box_tab\">Franchises</div>\n",
      "<div class=\"mp_box_content\">\n",
      "<table border=\"0\" cellpadding=\"5\" cellspacing=\"1\" style=\"border-collapse: collapse\" width=\"100%\">\n",
      "<tr><th>Franchise</th>\n",
      "<th>Rank</th></tr>\n",
      "<tr bgcolor=\"#f4f4ff\"><td><font size=\"2\"><a href=\"/franchises/chart/?id=starwars.htm\"><b>Series: Star Wars</b></a></font></td>\n",
      "<td align=\"center\"><font size=\"2\"><b>1</b></font></td>\n",
      "</tr>\n",
      "<tr bgcolor=\"#ffffff\"><td><font size=\"2\"><a href=\"/franchises/chart/?id=badrobot.htm\"><b>Brand: Bad Robot</b></a></font></td>\n",
      "<td align=\"center\"><font size=\"2\"><b>1</b></font></td>\n",
      "</tr>\n",
      "<tr bgcolor=\"#f4f4ff\"><td><font size=\"2\"><a href=\"/franchises/chart/?id=lucasfilm.htm\"><b>Brand: Lucasfilm</b></a></font></td>\n",
      "<td align=\"center\"><font size=\"2\"><b>1</b></font></td>\n",
      "</tr>\n",
      "<tr bgcolor=\"#ffffff\"><td><font size=\"2\"><a href=\"/showdowns/chart/?id=alltimegrossvs.htm\"><b>Showdown: All Time Grossers</b></a></font></td>\n",
      "<td align=\"center\"><font size=\"2\"><b>1</b></font></td>\n",
      "</tr>\n",
      "<tr bgcolor=\"#f4f4ff\"><td><font size=\"2\"><a href=\"/showdowns/chart/?id=alltimepenvs.htm\"><b>Showdown: All Time Openers</b></a></font></td>\n",
      "<td align=\"center\"><font size=\"2\"><b>1</b></font></td>\n",
      "</tr>\n",
      "<tr bgcolor=\"#ffffff\"><td><font size=\"2\"><a href=\"/showdowns/chart/?id=decemberscifi.htm\"><b>Showdown: December Sci-Fi Battle</b></a></font></td>\n",
      "<td align=\"center\"><font size=\"2\"><b>1</b></font></td>\n",
      "</tr>\n",
      "<tr bgcolor=\"#f4f4ff\"><td><font size=\"2\"><a href=\"/showdowns/chart/?id=liberge.htm\"><b>Showdown: King Size Domestic Grosses</b></a></font></td>\n",
      "<td align=\"center\"><font size=\"2\"><b>1</b></font></td>\n",
      "</tr>\n",
      "<tr bgcolor=\"#ffffff\"><td><font size=\"2\"><a href=\"/showdowns/chart/?id=openingweekendshowdown.htm\"><b>Showdown: Opening Weekend Showdown</b></a></font></td>\n",
      "<td align=\"center\"><font size=\"2\"><b>1</b></font></td>\n",
      "</tr>\n",
      "</table></div></div><div class=\"mp_box\">\n",
      "<div class=\"mp_box_tab\">Charts</div>\n",
      "<div class=\"mp_box_content\">\n",
      "<table border=\"0\" cellpadding=\"5\" cellspacing=\"1\" style=\"border-collapse: collapse\" width=\"100%\">\n",
      "<tr><td bgcolor=\"\"><b>Chart</b></td>\n",
      "<td align=\"center\"><b>Rank</b></td>\n",
      "</tr>\n",
      "<tr bgcolor=\"#ffffff\"><td><font size=\"2\"><a href=\"/alltime/domestic.htm\"><b>All Time Domestic</b></a></font></td>\n",
      "<td align=\"center\"><font size=\"2\"><b>1</b></font></td>\n",
      "</tr>\n",
      "<tr bgcolor=\"#f4f4ff\"><td><font size=\"2\"><a href=\"/alltime/adjusted.htm\">All Time Adjusted</a></font></td>\n",
      "<td align=\"center\"><font size=\"2\">11</font></td>\n",
      "</tr>\n",
      "<tr bgcolor=\"#ffffff\"><td><font size=\"2\"><a href=\"/alltime/world/\"><b>All Time Worldwide</b></a></font></td>\n",
      "<td align=\"center\"><font size=\"2\"><b>3</b></font></td>\n",
      "</tr>\n",
      "<tr bgcolor=\"#f4f4ff\"><td><font size=\"2\"><a href=\"/yearly/chart/past365.htm\"><b>Top Movies in the Past 365 Days</b></a></font></td>\n",
      "<td align=\"center\"><font size=\"2\"><b>1</b></font></td>\n",
      "</tr>\n",
      "<tr bgcolor=\"#ffffff\"><td><font size=\"2\"><a href=\"/alltime/world/worldwideopenings.htm\"><b>Worldwide Openings</b></a></font></td>\n",
      "<td align=\"center\"><font size=\"2\"><b>1</b></font></td>\n",
      "</tr>\n",
      "<tr bgcolor=\"#f4f4ff\"><td><font size=\"2\"><a href=\"/intl/weekend/opening/\"><b>Foreign Opening Weekends</b></a></font></td>\n",
      "<td align=\"center\"><font size=\"2\"><b>3</b></font></td>\n",
      "</tr>\n",
      "<tr bgcolor=\"#ffffff\"><td><font size=\"2\"><a href=\"/alltime/openingweeks.htm\"><b>Opening Weeks</b></a></font></td>\n",
      "<td align=\"center\"><font size=\"2\"><b>1</b></font></td>\n",
      "</tr>\n",
      "<tr bgcolor=\"#f4f4ff\"><td><font size=\"2\"><a href=\"/alltime/days/?page=open&amp;p.htm\"><b>Opening Day Gross</b></a></font></td>\n",
      "<td align=\"center\"><font size=\"2\"><b>1</b></font></td>\n",
      "</tr>\n",
      "<tr bgcolor=\"#ffffff\"><td><font size=\"2\"><a href=\"/alltime/days/?page=single&amp;p=.htm\"><b>Single Day Gross</b></a></font></td>\n",
      "<td align=\"center\"><font size=\"2\"><b>1</b></font></td>\n",
      "</tr>\n",
      "<tr bgcolor=\"#f4f4ff\"><td><font size=\"2\"><a href=\"/alltime/days/nonopening.htm?page=Fri&amp;p=.htm\"><b>Non-Opening Friday Gross</b></a></font></td>\n",
      "<td align=\"center\"><font size=\"2\"><b>1</b></font></td>\n",
      "</tr>\n",
      "<tr bgcolor=\"#ffffff\"><td><font size=\"2\"><a href=\"/alltime/days/nonopening.htm?page=Thu&amp;p=.htm\"><b>Non-Opening Thursday Gross</b></a></font></td>\n",
      "<td align=\"center\"><font size=\"2\"><b>2</b></font></td>\n",
      "</tr>\n",
      "<tr bgcolor=\"#f4f4ff\"><td><font size=\"2\"><a href=\"/alltime/days/nonopening.htm?page=Tue&amp;p=.htm\"><b>Non-Opening Tuesday Gross</b></a></font></td>\n",
      "<td align=\"center\"><font size=\"2\"><b>1</b></font></td>\n",
      "</tr>\n",
      "<tr bgcolor=\"#ffffff\"><td><font size=\"2\"><a href=\"/alltime/days/nonopening.htm?page=Wed&amp;p=.htm\"><b>Non-Opening Wednesday Gross</b></a></font></td>\n",
      "<td align=\"center\"><font size=\"2\"><b>1</b></font></td>\n",
      "</tr>\n",
      "<tr bgcolor=\"#f4f4ff\"><td><font size=\"2\"><a href=\"/alltime/days/f-th.htm?page=Fri&amp;p=.htm\"><b>Single Day Friday Gross</b></a></font></td>\n",
      "<td align=\"center\"><font size=\"2\"><b>1</b></font></td>\n",
      "</tr>\n",
      "<tr bgcolor=\"#ffffff\"><td><font size=\"2\"><a href=\"/alltime/days/f-th.htm?page=Mon&amp;p=.htm\"><b>Single Day Monday Gross</b></a></font></td>\n",
      "<td align=\"center\"><font size=\"2\"><b>1</b></font></td>\n",
      "</tr>\n",
      "<tr bgcolor=\"#f4f4ff\"><td><font size=\"2\"><a href=\"/alltime/days/f-th.htm?page=Sat&amp;p=.htm\"><b>Single Day Saturday Gross</b></a></font></td>\n",
      "<td align=\"center\"><font size=\"2\"><b>3</b></font></td>\n",
      "</tr>\n",
      "<tr bgcolor=\"#ffffff\"><td><font size=\"2\"><a href=\"/alltime/days/f-th.htm?page=Sun&amp;p=.htm\"><b>Single Day Sunday Gross</b></a></font></td>\n",
      "<td align=\"center\"><font size=\"2\"><b>1</b></font></td>\n",
      "</tr>\n",
      "<tr bgcolor=\"#f4f4ff\"><td><font size=\"2\"><a href=\"/alltime/days/f-th.htm?page=Thu&amp;p=.htm\"><b>Single Day Thursday Gross</b></a></font></td>\n",
      "<td align=\"center\"><font size=\"2\"><b>6</b></font></td>\n",
      "</tr>\n",
      "<tr bgcolor=\"#ffffff\"><td><font size=\"2\"><a href=\"/alltime/days/f-th.htm?page=Tue&amp;p=.htm\"><b>Single Day Tuesday Gross</b></a></font></td>\n",
      "<td align=\"center\"><font size=\"2\"><b>1</b></font></td>\n",
      "</tr>\n",
      "<tr bgcolor=\"#f4f4ff\"><td><font size=\"2\"><a href=\"/alltime/days/f-th.htm?page=Wed&amp;p=.htm\"><b>Single Day Wednesday Gross</b></a></font></td>\n",
      "<td align=\"center\"><font size=\"2\"><b>6</b></font></td>\n",
      "</tr>\n",
      "<tr bgcolor=\"#ffffff\"><td><font size=\"2\"><a href=\"/alltime/days/nonholiday.htm\"><b>Non-Holiday Monday Gross</b></a></font></td>\n",
      "<td align=\"center\"><font size=\"2\"><b>1</b></font></td>\n",
      "</tr>\n",
      "<tr bgcolor=\"#f4f4ff\"><td><font size=\"2\"><a href=\"/alltime/weekends/theateravg.htm?page=THTRWAVG&amp;p=.htm\">Theater Averages (Wide Releases) - All Time</a></font></td>\n",
      "<td align=\"center\"><font size=\"2\">16</font></td>\n",
      "</tr>\n",
      "<tr bgcolor=\"#ffffff\"><td><font size=\"2\"><a href=\"/alltime/weekends/theateravg.htm?page=THTRWAVG&amp;p=.htm\"><b>Theater Averages (Wide Releases) - All Time</b></a></font></td>\n",
      "<td align=\"center\"><font size=\"2\"><b>1</b></font></td>\n",
      "</tr>\n",
      "<tr bgcolor=\"#f4f4ff\"><td><font size=\"2\"><a href=\"/alltime/weekends/theateravg.htm?page=THTRWAVG&amp;p=.htm\">Theater Averages (Wide Releases) - All Time</a></font></td>\n",
      "<td align=\"center\"><font size=\"2\">76</font></td>\n",
      "</tr>\n",
      "<tr bgcolor=\"#ffffff\"><td><font size=\"2\"><a href=\"/alltime/weekends/theateravg.htm?page=THTRAVG&amp;p=.htm\">Theater Averages - All Time Adjusted</a></font></td>\n",
      "<td align=\"center\"><font size=\"2\">85</font></td>\n",
      "</tr>\n",
      "<tr bgcolor=\"#f4f4ff\"><td><font size=\"2\"><a href=\"/alltime/weekends/theateravg.htm?page=THTRAVOPN&amp;p=.htm\">Theater Averages - Opening Weekends</a></font></td>\n",
      "<td align=\"center\"><font size=\"2\">72</font></td>\n",
      "</tr>\n",
      "<tr bgcolor=\"#ffffff\"><td><font size=\"2\"><a href=\"/alltime/weekends/theateravg.htm?page=THTRAWOPN&amp;p=.htm\"><b>Theater Averages - Wide Opening Weekends</b></a></font></td>\n",
      "<td align=\"center\"><font size=\"2\"><b>1</b></font></td>\n",
      "</tr>\n",
      "<tr bgcolor=\"#f4f4ff\"><td><font size=\"2\"><a href=\"/alltime/days/holidays.htm?page=newyrs&amp;p=.htm\"><b>New Years Days</b></a></font></td>\n",
      "<td align=\"center\"><font size=\"2\"><b>1</b></font></td>\n",
      "</tr>\n",
      "<tr bgcolor=\"#ffffff\"><td><font size=\"2\"><a href=\"/alltime/days/holidays.htm?page=xmas&amp;p=.htm\"><b>Christmas Days</b></a></font></td>\n",
      "<td align=\"center\"><font size=\"2\"><b>1</b></font></td>\n",
      "</tr>\n",
      "<tr bgcolor=\"#f4f4ff\"><td><font size=\"2\"><a href=\"/alltime/day/percofwknd.htm?page=FRIOFOPWD&amp;p=.htm\">Friday Share of Opening Weekends</a></font></td>\n",
      "<td align=\"center\"><font size=\"2\">30</font></td>\n",
      "</tr>\n",
      "<tr bgcolor=\"#ffffff\"><td><font size=\"2\"><a href=\"/alltime/days/saturdaydrops.htm?page=SATDROPOPWD&amp;p=.htm\">Friday to Saturday Drops on Opening Weekends</a></font></td>\n",
      "<td align=\"center\"><font size=\"2\">15</font></td>\n",
      "</tr>\n",
      "<tr bgcolor=\"#f4f4ff\"><td><font size=\"2\"><a href=\"/alltime/weekends/\"><b>Opening Weekends</b></a></font></td>\n",
      "<td align=\"center\"><font size=\"2\"><b>1</b></font></td>\n",
      "</tr>\n",
      "<tr bgcolor=\"#ffffff\"><td><font size=\"2\"><a href=\"/alltime/weekends/month/?mo=12&amp;p=.htm\"><b>Opening Weekends - December</b></a></font></td>\n",
      "<td align=\"center\"><font size=\"2\"><b>1</b></font></td>\n",
      "</tr>\n",
      "<tr bgcolor=\"#f4f4ff\"><td><font size=\"2\"><a href=\"/alltime/weekends/byseason.htm?season=Holiday&amp;p=.htm\"><b>Opening Weekends - Holiday</b></a></font></td>\n",
      "<td align=\"center\"><font size=\"2\"><b>1</b></font></td>\n",
      "</tr>\n",
      "<tr bgcolor=\"#ffffff\"><td><font size=\"2\"><a href=\"/alltime/weekends/moreweekends.htm?page=11&amp;p=.htm\">Eleventh Weekends</a></font></td>\n",
      "<td align=\"center\"><font size=\"2\">46</font></td>\n",
      "</tr>\n",
      "<tr bgcolor=\"#f4f4ff\"><td><font size=\"2\"><a href=\"/alltime/weekends/moreweekends.htm?page=9&amp;p=.htm\">Ninth Weekends</a></font></td>\n",
      "<td align=\"center\"><font size=\"2\">22</font></td>\n",
      "</tr>\n",
      "<tr bgcolor=\"#ffffff\"><td><font size=\"2\"><a href=\"/alltime/weekends/moreweekends.htm?page=10&amp;p=.htm\">Tenth Weekends</a></font></td>\n",
      "<td align=\"center\"><font size=\"2\">38</font></td>\n",
      "</tr>\n",
      "<tr bgcolor=\"#f4f4ff\"><td><font size=\"2\"><a href=\"/alltime/grossbydays.htm?days=10&amp;p=.htm\"><b>Top 10-Day Grosses</b></a></font></td>\n",
      "<td align=\"center\"><font size=\"2\"><b>1</b></font></td>\n",
      "</tr>\n",
      "<tr bgcolor=\"#ffffff\"><td><font size=\"2\"><a href=\"/alltime/grossbydays.htm?days=3&amp;p=.htm\"><b>Top 3-Day Grosses</b></a></font></td>\n",
      "<td align=\"center\"><font size=\"2\"><b>1</b></font></td>\n",
      "</tr>\n",
      "<tr bgcolor=\"#f4f4ff\"><td><font size=\"2\"><a href=\"/alltime/grossbydays.htm?days=4&amp;p=.htm\"><b>Top 4-Day Grosses</b></a></font></td>\n",
      "<td align=\"center\"><font size=\"2\"><b>1</b></font></td>\n",
      "</tr>\n",
      "<tr bgcolor=\"#ffffff\"><td><font size=\"2\"><a href=\"/alltime/grossbydays.htm?days=6&amp;p=.htm\"><b>Top 6-Day Grosses</b></a></font></td>\n",
      "<td align=\"center\"><font size=\"2\"><b>1</b></font></td>\n",
      "</tr>\n",
      "<tr bgcolor=\"#f4f4ff\"><td><font size=\"2\"><a href=\"/alltime/grossbydays.htm?days=7&amp;p=.htm\"><b>Top 7-Day Grosses</b></a></font></td>\n",
      "<td align=\"center\"><font size=\"2\"><b>1</b></font></td>\n",
      "</tr>\n",
      "<tr bgcolor=\"#ffffff\"><td><font size=\"2\"><a href=\"/alltime/grossbydays.htm?days=8&amp;p=.htm\"><b>Top 8-Day Grosses</b></a></font></td>\n",
      "<td align=\"center\"><font size=\"2\"><b>1</b></font></td>\n",
      "</tr>\n",
      "<tr bgcolor=\"#f4f4ff\"><td><font size=\"2\"><a href=\"/alltime/grossbydays.htm?days=9&amp;p=.htm\"><b>Top 9-Day Grosses</b></a></font></td>\n",
      "<td align=\"center\"><font size=\"2\"><b>1</b></font></td>\n",
      "</tr>\n",
      "<tr bgcolor=\"#ffffff\"><td><font size=\"2\"><a href=\"/alltime/weekends/moreweekends.htm?page=13&amp;p=.htm\">Twelfth Weekends</a></font></td>\n",
      "<td align=\"center\"><font size=\"2\">89</font></td>\n",
      "</tr>\n",
      "<tr bgcolor=\"#f4f4ff\"><td><font size=\"2\"><a href=\"/alltime/weekends/moreweekends.htm?page=12&amp;p=.htm\">Twelfth Weekends</a></font></td>\n",
      "<td align=\"center\"><font size=\"2\">71</font></td>\n",
      "</tr>\n",
      "<tr bgcolor=\"#ffffff\"><td><font size=\"2\"><a href=\"/alltime/grossbydays.htm?days=5&amp;p=.htm\"><b>Top 5-Day Grosses</b></a></font></td>\n",
      "<td align=\"center\"><font size=\"2\"><b>1</b></font></td>\n",
      "</tr>\n",
      "<tr bgcolor=\"#f4f4ff\"><td><font size=\"2\"><a href=\"/alltime/weekends/bestranked.htm?page=WKNDSAT1&amp;p=.htm\">Most Weekends at #1 (non-consecutive)</a></font></td>\n",
      "<td align=\"center\"><font size=\"2\">33</font></td>\n",
      "</tr>\n",
      "<tr bgcolor=\"#ffffff\"><td><font size=\"2\"><a href=\"/alltime/weekends/bestranked.htm?page=WKNDSAT10&amp;p=.htm\">Most Weekends in Top 10 (non-consecutive)</a></font></td>\n",
      "<td align=\"center\"><font size=\"2\">140</font></td>\n",
      "</tr>\n",
      "<tr bgcolor=\"#f4f4ff\"><td><font size=\"2\"><a href=\"/alltime/weekends/bestranked.htm?page=WKNDSAT5&amp;p=.htm\">Most Weekends in Top 5 (non-consecutive)</a></font></td>\n",
      "<td align=\"center\"><font size=\"2\">49</font></td>\n",
      "</tr>\n",
      "<tr bgcolor=\"#ffffff\"><td><font size=\"2\"><a href=\"/alltime/weekends/bestranked.htm?page=WKNDSCAT1&amp;p=.htm\">Consecutive Weekends At #1</a></font></td>\n",
      "<td align=\"center\"><font size=\"2\">25</font></td>\n",
      "</tr>\n",
      "<tr bgcolor=\"#f4f4ff\"><td><font size=\"2\"><a href=\"/alltime/weekends/bestranked.htm?page=WKNDSCAT10&amp;p=.htm\">Consecutive Weekends In Top 10</a></font></td>\n",
      "<td align=\"center\"><font size=\"2\">118</font></td>\n",
      "</tr>\n",
      "<tr bgcolor=\"#ffffff\"><td><font size=\"2\"><a href=\"/alltime/weekends/bestranked.htm?page=WKNDSCAT5&amp;p=.htm\">Consecutive Weekends In Top 5</a></font></td>\n",
      "<td align=\"center\"><font size=\"2\">40</font></td>\n",
      "</tr>\n",
      "<tr bgcolor=\"#f4f4ff\"><td><font size=\"2\"><a href=\"/alltime/weekends/mlk.htm?page=MLK&amp;p=.htm\">Martin Lurther King 4-Day Holiday Weekends</a></font></td>\n",
      "<td align=\"center\"><font size=\"2\">12</font></td>\n",
      "</tr>\n",
      "<tr bgcolor=\"#ffffff\"><td><font size=\"2\"><a href=\"/alltime/weekends/presidentsday.htm?page=PRESDAY&amp;p=.htm\">President's Day 4-Day Holiday Weekends</a></font></td>\n",
      "<td align=\"center\"><font size=\"2\">147</font></td>\n",
      "</tr>\n",
      "<tr bgcolor=\"#f4f4ff\"><td><font size=\"2\"><a href=\"/alltime/weekends/moreweekends.htm?page=2&amp;p=.htm\"><b>Second Weekends</b></a></font></td>\n",
      "<td align=\"center\"><font size=\"2\"><b>1</b></font></td>\n",
      "</tr>\n",
      "<tr bgcolor=\"#ffffff\"><td><font size=\"2\"><a href=\"/alltime/weekends/moreweekends.htm?page=3&amp;p=.htm\"><b>Third Weekends</b></a></font></td>\n",
      "<td align=\"center\"><font size=\"2\"><b>1</b></font></td>\n",
      "</tr>\n",
      "<tr bgcolor=\"#f4f4ff\"><td><font size=\"2\"><a href=\"/alltime/weekends/moreweekends.htm?page=4&amp;p=.htm\"><b>Fourth Weekends</b></a></font></td>\n",
      "<td align=\"center\"><font size=\"2\"><b>2</b></font></td>\n",
      "</tr>\n",
      "<tr bgcolor=\"#ffffff\"><td><font size=\"2\"><a href=\"/alltime/weekends/moreweekends.htm?page=5&amp;p=.htm\"><b>Fifth Weekends</b></a></font></td>\n",
      "<td align=\"center\"><font size=\"2\"><b>4</b></font></td>\n",
      "</tr>\n",
      "<tr bgcolor=\"#f4f4ff\"><td><font size=\"2\"><a href=\"/alltime/weekends/moreweekends.htm?page=6&amp;p=.htm\">Sixth Weekends</a></font></td>\n",
      "<td align=\"center\"><font size=\"2\">11</font></td>\n",
      "</tr>\n",
      "<tr bgcolor=\"#ffffff\"><td><font size=\"2\"><a href=\"/alltime/weekends/moreweekends.htm?page=7&amp;p=.htm\"><b>Seventh Weekends</b></a></font></td>\n",
      "<td align=\"center\"><font size=\"2\"><b>10</b></font></td>\n",
      "</tr>\n",
      "<tr bgcolor=\"#f4f4ff\"><td><font size=\"2\"><a href=\"/alltime/weekends/moreweekends.htm?page=8&amp;p=.htm\">Eighth Weekends</a></font></td>\n",
      "<td align=\"center\"><font size=\"2\">24</font></td>\n",
      "</tr>\n",
      "<tr bgcolor=\"#ffffff\"><td><font size=\"2\"><a href=\"/alltime/weekends/smallestdrops.htm?page=DROP3000&amp;p=.htm\">Smallest Drops, 3,000+ theaters (Super-Saturation)</a></font></td>\n",
      "<td align=\"center\"><font size=\"2\">231</font></td>\n",
      "</tr>\n",
      "<tr bgcolor=\"#f4f4ff\"><td><font size=\"2\"><a href=\"/alltime/weekends/smallestdrops.htm?page=SMALLDROP25&amp;p=.htm\">Smallest Drops, 2,500+ theaters (Saturation)</a></font></td>\n",
      "<td align=\"center\"><font size=\"2\">470</font></td>\n",
      "</tr>\n",
      "<tr bgcolor=\"#ffffff\"><td><font size=\"2\"><a href=\"/alltime/weekends/smallestdrops.htm?page=SMALLDROP20&amp;p=.htm\">Smallest Drops, 2,000+ theaters (Very Wide)</a></font></td>\n",
      "<td align=\"center\"><font size=\"2\">703</font></td>\n",
      "</tr>\n",
      "<tr bgcolor=\"#f4f4ff\"><td><font size=\"2\"><a href=\"/alltime/weekends/smallestdrops.htm?page=SMALLDROPWID&amp;p=.htm\">Smallest Drops, All Wide Releases</a></font></td>\n",
      "<td align=\"center\"><font size=\"2\">1,837</font></td>\n",
      "</tr>\n",
      "<tr bgcolor=\"#ffffff\"><td><font size=\"2\"><a href=\"/alltime/domestic/mpaa.htm?page=PG-13&amp;p=.htm\"><b>Rated PG-13</b></a></font></td>\n",
      "<td align=\"center\"><font size=\"2\"><b>1</b></font></td>\n",
      "</tr>\n",
      "<tr bgcolor=\"#f4f4ff\"><td><font size=\"2\"><a href=\"/alltime/weekends/mpaa.htm?page=PG-13&amp;p=.htm\"><b>Rated PG-13, Opening Weekends</b></a></font></td>\n",
      "<td align=\"center\"><font size=\"2\"><b>1</b></font></td>\n",
      "</tr>\n",
      "<tr bgcolor=\"#ffffff\"><td><font size=\"2\"><a href=\"/alltime/widest.htm?page=WIDEST&amp;p=.htm\">Widest Releases</a></font></td>\n",
      "<td align=\"center\"><font size=\"2\">45</font></td>\n",
      "</tr>\n",
      "<tr bgcolor=\"#f4f4ff\"><td><font size=\"2\"><a href=\"/alltime/widest.htm?page=WIDESTOPEN&amp;p=.htm\">Widest Opening Releases</a></font></td>\n",
      "<td align=\"center\"><font size=\"2\">38</font></td>\n",
      "</tr>\n",
      "<tr bgcolor=\"#ffffff\"><td><font size=\"2\"><a href=\"/alltime/widestmpaa.htm?page=PG-13&amp;p=.htm\">Widest PG-13 Rated Openings</a></font></td>\n",
      "<td align=\"center\"><font size=\"2\">29</font></td>\n",
      "</tr>\n",
      "<tr bgcolor=\"#f4f4ff\"><td><font size=\"2\"><a href=\"/alltime/widestmpaareleases.htm?page=PG-13&amp;p=.htm\">Widest PG-13 Rated Releases</a></font></td>\n",
      "<td align=\"center\"><font size=\"2\">30</font></td>\n",
      "</tr>\n",
      "<tr bgcolor=\"#ffffff\"><td><font size=\"2\"><a href=\"/alltime/fastest.htm?page=100&amp;p=.htm\"><b>Fastest to $100 million</b></a></font></td>\n",
      "<td align=\"center\"><font size=\"2\"><b>1</b></font></td>\n",
      "</tr>\n",
      "<tr bgcolor=\"#f4f4ff\"><td><font size=\"2\"><a href=\"/alltime/fastest.htm?page=150&amp;p=.htm\"><b>Fastest to $150 million</b></a></font></td>\n",
      "<td align=\"center\"><font size=\"2\"><b>1</b></font></td>\n",
      "</tr>\n",
      "<tr bgcolor=\"#ffffff\"><td><font size=\"2\"><a href=\"/alltime/fastest.htm?page=200&amp;p=.htm\"><b>Fastest to $200 million</b></a></font></td>\n",
      "<td align=\"center\"><font size=\"2\"><b>1</b></font></td>\n",
      "</tr>\n",
      "<tr bgcolor=\"#f4f4ff\"><td><font size=\"2\"><a href=\"/alltime/fastest.htm?page=250&amp;p=.htm\"><b>Fastest to $250 million</b></a></font></td>\n",
      "<td align=\"center\"><font size=\"2\"><b>1</b></font></td>\n",
      "</tr>\n",
      "<tr bgcolor=\"#ffffff\"><td><font size=\"2\"><a href=\"/alltime/fastest.htm?page=300&amp;p=.htm\"><b>Fastest to $300 million</b></a></font></td>\n",
      "<td align=\"center\"><font size=\"2\"><b>1</b></font></td>\n",
      "</tr>\n",
      "<tr bgcolor=\"#f4f4ff\"><td><font size=\"2\"><a href=\"/alltime/fastest.htm?page=350&amp;p=.htm\"><b>Fastest to $350 million</b></a></font></td>\n",
      "<td align=\"center\"><font size=\"2\"><b>1</b></font></td>\n",
      "</tr>\n",
      "<tr bgcolor=\"#ffffff\"><td><font size=\"2\"><a href=\"/alltime/fastest.htm?page=400&amp;p=.htm\"><b>Fastest to $400 million</b></a></font></td>\n",
      "<td align=\"center\"><font size=\"2\"><b>1</b></font></td>\n",
      "</tr>\n",
      "<tr bgcolor=\"#f4f4ff\"><td><font size=\"2\"><a href=\"/alltime/fastest.htm?page=450&amp;p=.htm\"><b>Fastest to $450 million</b></a></font></td>\n",
      "<td align=\"center\"><font size=\"2\"><b>1</b></font></td>\n",
      "</tr>\n",
      "<tr bgcolor=\"#ffffff\"><td><font size=\"2\"><a href=\"/alltime/fastest.htm?page=500&amp;p=.htm\"><b>Fastest to $500 million</b></a></font></td>\n",
      "<td align=\"center\"><font size=\"2\"><b>1</b></font></td>\n",
      "</tr>\n",
      "<tr bgcolor=\"#f4f4ff\"><td><font size=\"2\"><a href=\"/alltime/slowest.htm?page=100&amp;p=.htm\">Slowest to $100 million</a></font></td>\n",
      "<td align=\"center\"><font size=\"2\">609</font></td>\n",
      "</tr>\n",
      "<tr bgcolor=\"#ffffff\"><td><font size=\"2\"><a href=\"/alltime/slowest.htm?page=200&amp;p=.htm\">Slowest to $200 million</a></font></td>\n",
      "<td align=\"center\"><font size=\"2\">164</font></td>\n",
      "</tr>\n",
      "<tr><td><b>Charts (Premier Pass Users Only)</b></td><td align=\"center\"><b>Rank</b></td></tr><tr bgcolor=\"#ffffff\"><td><font size=\"2\"><a href=\"/alltime/domestic.htm?page=1&amp;asof=2016-01-07&amp;p=.htm\">Highest All Time Rank (on January 7, 2016)</a></font></td>\n",
      "<td align=\"center\"><font size=\"2\"><b>1</b></font></td>\n",
      "</tr>\n",
      "<tr bgcolor=\"#f4f4ff\"><td><font size=\"2\"><a href=\"/alltime/openingweeks.htm?adjust_yr=2016&amp;p=.htm\"><b>Opening Weeks Adjusted</b></a></font></td>\n",
      "<td align=\"center\"><font size=\"2\"><b>1</b></font></td>\n",
      "</tr>\n",
      "<tr bgcolor=\"#ffffff\"><td><font size=\"2\"><a href=\"/alltime/days/nonopening.htm?page=Fri&amp;adjust_yr=2016&amp;p=.htm\"><b>Non-Opening Friday Gross Adjusted</b></a></font></td>\n",
      "<td align=\"center\"><font size=\"2\"><b>1</b></font></td>\n",
      "</tr>\n",
      "<tr bgcolor=\"#f4f4ff\"><td><font size=\"2\"><a href=\"/alltime/days/nonopening.htm?page=Thu&amp;adjust_yr=2016&amp;p=.htm\"><b>Non-Opening Thursday Gross Adjusted</b></a></font></td>\n",
      "<td align=\"center\"><font size=\"2\"><b>4</b></font></td>\n",
      "</tr>\n",
      "<tr bgcolor=\"#ffffff\"><td><font size=\"2\"><a href=\"/alltime/days/nonopening.htm?page=Tue&amp;adjust_yr=2016&amp;p=.htm\"><b>Non-Opening Tuesday Gross Adjusted</b></a></font></td>\n",
      "<td align=\"center\"><font size=\"2\"><b>1</b></font></td>\n",
      "</tr>\n",
      "<tr bgcolor=\"#f4f4ff\"><td><font size=\"2\"><a href=\"/alltime/days/nonopening.htm?page=Wed&amp;adjust_yr=2016&amp;p=.htm\"><b>Non-Opening Wednesday Gross Adjusted</b></a></font></td>\n",
      "<td align=\"center\"><font size=\"2\"><b>1</b></font></td>\n",
      "</tr>\n",
      "<tr bgcolor=\"#ffffff\"><td><font size=\"2\"><a href=\"/alltime/days/f-th.htm?page=Fri&amp;adjust_yr=2016&amp;p=.htm\"><b>Single Day Friday Gross Adjusted</b></a></font></td>\n",
      "<td align=\"center\"><font size=\"2\"><b>1</b></font></td>\n",
      "</tr>\n",
      "<tr bgcolor=\"#f4f4ff\"><td><font size=\"2\"><a href=\"/alltime/days/f-th.htm?page=Mon&amp;adjust_yr=2016&amp;p=.htm\"><b>Single Day Monday Gross Adjusted</b></a></font></td>\n",
      "<td align=\"center\"><font size=\"2\"><b>1</b></font></td>\n",
      "</tr>\n",
      "<tr bgcolor=\"#ffffff\"><td><font size=\"2\"><a href=\"/alltime/days/f-th.htm?page=Sat&amp;adjust_yr=2016&amp;p=.htm\"><b>Single Day Saturday Gross Adjusted</b></a></font></td>\n",
      "<td align=\"center\"><font size=\"2\"><b>3</b></font></td>\n",
      "</tr>\n",
      "<tr bgcolor=\"#f4f4ff\"><td><font size=\"2\"><a href=\"/alltime/days/f-th.htm?page=Sun&amp;adjust_yr=2016&amp;p=.htm\"><b>Single Day Sunday Gross Adjusted</b></a></font></td>\n",
      "<td align=\"center\"><font size=\"2\"><b>2</b></font></td>\n",
      "</tr>\n",
      "<tr bgcolor=\"#ffffff\"><td><font size=\"2\"><a href=\"/alltime/days/f-th.htm?page=Thu&amp;adjust_yr=2016&amp;p=.htm\"><b>Single Day Thursday Gross Adjusted</b></a></font></td>\n",
      "<td align=\"center\"><font size=\"2\"><b>9</b></font></td>\n",
      "</tr>\n",
      "<tr bgcolor=\"#f4f4ff\"><td><font size=\"2\"><a href=\"/alltime/days/f-th.htm?page=Tue&amp;adjust_yr=2016&amp;p=.htm\"><b>Single Day Tuesday Gross Adjusted</b></a></font></td>\n",
      "<td align=\"center\"><font size=\"2\"><b>2</b></font></td>\n",
      "</tr>\n",
      "<tr bgcolor=\"#ffffff\"><td><font size=\"2\"><a href=\"/alltime/days/f-th.htm?page=Wed&amp;adjust_yr=2016&amp;p=.htm\">Single Day Wednesday Gross Adjusted</a></font></td>\n",
      "<td align=\"center\"><font size=\"2\">11</font></td>\n",
      "</tr>\n",
      "<tr bgcolor=\"#f4f4ff\"><td><font size=\"2\"><a href=\"/alltime/wekeends/theateravg.htm?page=THTRWAVGADJ&amp;adjust_yr=2016&amp;p=.htm\">Theater Averages (Wide Releases) - All Time Adjusted</a></font></td>\n",
      "<td align=\"center\"><font size=\"2\">45</font></td>\n",
      "</tr>\n",
      "<tr bgcolor=\"#ffffff\"><td><font size=\"2\"><a href=\"/alltime/wekeends/theateravg.htm?page=THTRWAVGADJ&amp;adjust_yr=2016&amp;p=.htm\"><b>Theater Averages (Wide Releases) - All Time Adjusted</b></a></font></td>\n",
      "<td align=\"center\"><font size=\"2\"><b>2</b></font></td>\n",
      "</tr>\n",
      "<tr bgcolor=\"#f4f4ff\"><td><font size=\"2\"><a href=\"/alltime/weekends/theateravg.htm?page=THTRAWOPNADJ&amp;adjust_yr=2016&amp;p=.htm\"><b>Theater Averages - Wide Opening Weekends Adjusted</b></a></font></td>\n",
      "<td align=\"center\"><font size=\"2\"><b>2</b></font></td>\n",
      "</tr>\n",
      "<tr bgcolor=\"#ffffff\"><td><font size=\"2\"><a href=\"/alltime/weekends/month/?mo=12&amp;adjust_yr=2016&amp;p=.htm\"><b>Opening Weekends Adjusted - December</b></a></font></td>\n",
      "<td align=\"center\"><font size=\"2\"><b>1</b></font></td>\n",
      "</tr>\n",
      "<tr bgcolor=\"#f4f4ff\"><td><font size=\"2\"><a href=\"/alltime/weekends/?adjust_yr=2016&amp;p=.htm\"><b>Opening Weekends Adjusted</b></a></font></td>\n",
      "<td align=\"center\"><font size=\"2\"><b>1</b></font></td>\n",
      "</tr>\n",
      "<tr bgcolor=\"#ffffff\"><td><font size=\"2\"><a href=\"/alltime/weekends/byseason.htm?season=Holiday&amp;adjust_yr=2016&amp;p=.htm\"><b>Opening Weekends Adjusted - Holiday</b></a></font></td>\n",
      "<td align=\"center\"><font size=\"2\"><b>1</b></font></td>\n",
      "</tr>\n",
      "<tr bgcolor=\"#f4f4ff\"><td><font size=\"2\"><a href=\"/alltime/weekends/moreweeknds.htm?page=11&amp;adjust_yr=2016&amp;p=.htm\">Eleventh Weekends Adjusted</a></font></td>\n",
      "<td align=\"center\"><font size=\"2\">111</font></td>\n",
      "</tr>\n",
      "<tr bgcolor=\"#ffffff\"><td><font size=\"2\"><a href=\"/alltime/weekends/moreweeknds.htm?page=9&amp;adjust_yr=2016&amp;p=.htm\">Ninth Weekends Adjusted</a></font></td>\n",
      "<td align=\"center\"><font size=\"2\">78</font></td>\n",
      "</tr>\n",
      "<tr bgcolor=\"#f4f4ff\"><td><font size=\"2\"><a href=\"/alltime/weekends/moreweeknds.htm?page=10&amp;adjust_yr=2016&amp;p=.htm\">Tenth Weekends Adjusted</a></font></td>\n",
      "<td align=\"center\"><font size=\"2\">112</font></td>\n",
      "</tr>\n",
      "<tr bgcolor=\"#ffffff\"><td><font size=\"2\"><a href=\"/alltime/weekends/moreweeknds.htm?page=12&amp;adjust_yr=2016&amp;p=.htm\">Twelfth Weekends Adjusted</a></font></td>\n",
      "<td align=\"center\"><font size=\"2\">148</font></td>\n",
      "</tr>\n",
      "<tr bgcolor=\"#f4f4ff\"><td><font size=\"2\"><a href=\"/alltime/weekends/moreweeknds.htm?page=2&amp;adjust_yr=2016&amp;p=.htm\"><b>Second Weekends Adjusted</b></a></font></td>\n",
      "<td align=\"center\"><font size=\"2\"><b>1</b></font></td>\n",
      "</tr>\n",
      "<tr bgcolor=\"#ffffff\"><td><font size=\"2\"><a href=\"/alltime/weekends/moreweeknds.htm?page=3&amp;adjust_yr=2016&amp;p=.htm\"><b>Third Weekends Adjusted</b></a></font></td>\n",
      "<td align=\"center\"><font size=\"2\"><b>1</b></font></td>\n",
      "</tr>\n",
      "<tr bgcolor=\"#f4f4ff\"><td><font size=\"2\"><a href=\"/alltime/weekends/moreweeknds.htm?page=4&amp;adjust_yr=2016&amp;p=.htm\"><b>Fourth Weekends Adjusted</b></a></font></td>\n",
      "<td align=\"center\"><font size=\"2\"><b>4</b></font></td>\n",
      "</tr>\n",
      "<tr bgcolor=\"#ffffff\"><td><font size=\"2\"><a href=\"/alltime/weekends/moreweeknds.htm?page=5&amp;adjust_yr=2016&amp;p=.htm\">Fifth Weekends Adjusted</a></font></td>\n",
      "<td align=\"center\"><font size=\"2\">14</font></td>\n",
      "</tr>\n",
      "<tr bgcolor=\"#f4f4ff\"><td><font size=\"2\"><a href=\"/alltime/weekends/moreweeknds.htm?page=6&amp;adjust_yr=2016&amp;p=.htm\">Sixth Weekends Adjusted</a></font></td>\n",
      "<td align=\"center\"><font size=\"2\">55</font></td>\n",
      "</tr>\n",
      "<tr bgcolor=\"#ffffff\"><td><font size=\"2\"><a href=\"/alltime/weekends/moreweeknds.htm?page=7&amp;adjust_yr=2016&amp;p=.htm\">Seventh Weekends Adjusted</a></font></td>\n",
      "<td align=\"center\"><font size=\"2\">60</font></td>\n",
      "</tr>\n",
      "<tr bgcolor=\"#f4f4ff\"><td><font size=\"2\"><a href=\"/alltime/weekends/moreweeknds.htm?page=8&amp;adjust_yr=2016&amp;p=.htm\">Eighth Weekends Adjusted</a></font></td>\n",
      "<td align=\"center\"><font size=\"2\">99</font></td>\n",
      "</tr>\n",
      "<tr bgcolor=\"#ffffff\"><td><font size=\"2\"><a href=\"/alltime/domestic/mpaa.htm?page=PG-13&amp;adjust_yr=2016&amp;p=.htm\"><b>Rated PG-13 Adjusted</b></a></font></td>\n",
      "<td align=\"center\"><font size=\"2\"><b>2</b></font></td>\n",
      "</tr>\n",
      "<tr bgcolor=\"#f4f4ff\"><td><font size=\"2\"><a href=\"/alltime/weekends/mpaa.htm?page=PG-13&amp;adjust_yr==.htm\"><b>Rated PG-13, Opening Weekends Adjusted</b></a></font></td>\n",
      "<td align=\"center\"><font size=\"2\"><b>1</b></font></td>\n",
      "</tr>\n",
      "</table></div></div>\n",
      "\n",
      "<td width=\"10px\"> </td>\n",
      "<td valign=\"top\" width=\"434px\">\n",
      "<div class=\"mp_box\">\n",
      "<div class=\"mp_box_tab\">Related Stories</div>\n",
      "<div class=\"mp_box_content\"><table border=\"0\" cellpadding=\"5\" cellspacing=\"0\" width=\"100%\"><tr bgcolor=\"#ffff99\"><td><font size=\"2\"><a href=\"/news/?id=4184&amp;p=.htm\">5/10 Disney Makes History, Topping $1 Billion in Domestic Ticket Sales in Just 128 Days</a></font></td></tr><tr bgcolor=\"#f4f4ff\"><td><font size=\"2\"><a href=\"/news/?id=4162&amp;p=.htm\">2/28 The 'Gods of Egypt' are No Match for 'Deadpool', Which Climbs to $285+ Million Domestically</a></font></td></tr><tr bgcolor=\"#ffffff\"><td><font size=\"2\"><a href=\"/news/?id=4161&amp;p=.htm\">2/25 'Gods of Egypt', 'Triple 9' &amp; 'Eddie the Eagle' Hit Theaters While 'Deadpool' Threepeats</a></font></td></tr><tr bgcolor=\"#f4f4ff\"><td><font size=\"2\"><a href=\"/news/?id=4157&amp;p=.htm\">2/14 'Deadpool' Smashes Box Office Records On Way to $260 Million Worldwide Opening</a></font></td></tr><tr bgcolor=\"#ffffff\"><td><font size=\"2\"><a href=\"/news/?id=4155&amp;p=.htm\">2/11 Updated: 'Deadpool' Targets #1 Opening Over 'How to Be Single' &amp; 'Zoolander 2'</a></font></td></tr><tr bgcolor=\"#f4f4ff\"><td><font size=\"2\"><a href=\"/news/?id=4153&amp;p=.htm\">2/7 'Kung Fu Panda 3' Tops Super Bowl Weekend; 'Hail, Caesar!' Leads Newcomers</a></font></td></tr><tr bgcolor=\"#ffffff\"><td><font size=\"2\"><a href=\"/news/?id=4152&amp;p=.htm\">2/6 'Star Wars: Force Awakens' First Ever to Cross $900 Million Domestically</a></font></td></tr><tr bgcolor=\"#f4f4ff\"><td><font size=\"2\"><a href=\"/news/?id=4150&amp;p=.htm\">1/31 'Kung Fu Panda 3' #1; Holdovers Make Up for Money Lost in the Snow</a></font></td></tr><tr bgcolor=\"#ffffff\"><td><font size=\"2\"><a href=\"/news/?id=4149&amp;p=.htm\">1/28 Weekend Preview: 'Kung Fu Panda 3' To Top 'Fifty Shades of Black' and 'Finest Hours'</a></font></td></tr><tr bgcolor=\"#f4f4ff\"><td><font size=\"2\"><a href=\"/news/?id=4148&amp;p=.htm\">1/24 'The Revenant' Weathers Snow Storm While Weekend's Newcomers Perform as Expected</a></font></td></tr><tr bgcolor=\"#ffffff\"><td><font size=\"2\"><a href=\"/news/?id=4146&amp;p=.htm\">1/17 'Ride Along 2' #1, 'Revenant' Holds Strong and 'Star Wars' Crosses $1 Billion Internationally</a></font></td></tr><tr bgcolor=\"#f4f4ff\"><td><font size=\"2\"><a href=\"/news/?id=4144&amp;p=.htm\">1/14 'Ride Along 2' and 'Revenant' Look to Remove 'Star Wars' from Its Perch</a></font></td></tr><tr bgcolor=\"#ffffff\"><td><font size=\"2\"><a href=\"/news/?id=4143&amp;p=.htm\">1/10 'The Revenant' Storms the Box Office; 'Star Wars' Opens with $53M in China</a></font></td></tr><tr bgcolor=\"#f4f4ff\"><td><font size=\"2\"><a href=\"/news/?id=4142&amp;p=.htm\">1/7 'Star Wars: Force Awakens' Becomes Highest Grossing Domestic Release of All-Time</a></font></td></tr><tr bgcolor=\"#ffffff\"><td><font size=\"2\"><a href=\"/news/?id=4141&amp;p=.htm\">1/6 Update: 'Star Wars' Opens in China; 'Revenant' &amp; 'The Forest' Make Domestic Bows</a></font></td></tr><tr bgcolor=\"#f4f4ff\"><td><font size=\"2\"><a href=\"/news/?id=4140&amp;p=.htm\">1/3 'Star Wars' Crosses $700 Million Domestically as 2016 is Off to a Strong Start</a></font></td></tr><tr bgcolor=\"#ffffff\"><td><font size=\"2\"><a href=\"/news/?id=4139&amp;p=.htm\">12/31/15 Forecast: January 2016 Looks to Get Off to a Sizzling Start</a></font></td></tr><tr bgcolor=\"#f4f4ff\"><td><font size=\"2\"><a href=\"/news/?id=4138&amp;p=.htm\">12/30/15 2015 Box Office Totals a Record $11 Billion</a></font></td></tr><tr bgcolor=\"#ffffff\"><td><font size=\"2\"><a href=\"/news/?id=4137&amp;p=.htm\">12/27/15 'Star Wars: Force Awakens' Crosses $1 Billion Worldwide, Topping Christmas Weekend</a></font></td></tr><tr bgcolor=\"#f4f4ff\"><td><font size=\"2\"><a href=\"/news/?id=4136&amp;p=.htm\">12/24/15 Christmas Forecast: 'Star Wars' Second Weekend Faces Five New Wide Releases</a></font></td></tr><tr bgcolor=\"#ffffff\"><td><font size=\"2\"><a href=\"/news/?id=4135&amp;p=.htm\">12/22/15 UPDATED: 'Star Wars: Force Awakens' Targets Christmas Miracle, Destroys Monday Record</a></font></td></tr><tr bgcolor=\"#f4f4ff\"><td><font size=\"2\"><a href=\"/news/?id=4134&amp;p=.htm\">12/20/15 'Star Wars: The Force Awakens' Crushes Records, Topping Largest Box Office Weekend of All Time</a></font></td></tr><tr bgcolor=\"#ffffff\"><td><font size=\"2\"><a href=\"/news/?id=4133&amp;p=.htm\">12/19/15 'Star Wars: The Force Awakens' Shatters Opening Day Record</a></font></td></tr><tr bgcolor=\"#f4f4ff\"><td><font size=\"2\"><a href=\"/news/?id=4132&amp;p=.htm\">12/18/15 'Star Wars: The Force Awakens' Targets Record Breaking $100M+ Opening Day</a></font></td></tr><tr bgcolor=\"#ffffff\"><td><font size=\"2\"><a href=\"/news/?id=4131&amp;p=.htm\">12/17/15 Forecast: 'Star Wars: The Force Awakens'... Will Box Office Records Feel the Force?</a></font></td></tr><tr bgcolor=\"#f4f4ff\"><td><font size=\"2\"><a href=\"/news/?id=4130&amp;p=.htm\">12/13/15 'In the Heart of the Sea' Runs Ashore Giving 'Mockingjay 2' Its Fourth Straight #1</a></font></td></tr><tr bgcolor=\"#ffffff\"><td><font size=\"2\"><a href=\"/news/?id=4129&amp;p=.htm\">12/10/15 'In the Heart of the Sea' Goes Hunting for #1 Before 'Star Wars' Arrives</a></font></td></tr></table></div></div> <div class=\"mp_box\">\n",
      "<div class=\"mp_box_tab\">Related Products</div>\n",
      "<div class=\"mp_box_content\"><ul>\n",
      "<li><a href=\"http://www.amazon.com/gp/product/B018FK66TU?ie=UTF8&amp;tag=boxofficemojo-20&amp;linkCode=as2&amp;camp=1789&amp;creative=9325&amp;creativeASIN=B018FK66TU\">Star Wars: The Force Awakens [Blu-ray]</a><img alt=\"\" border=\"0\" height=\"1\" src=\"http://www.assoc-amazon.com/e/ir?t=boxofficemojo-20&amp;l=as2&amp;o=1&amp;a=B018FK66TU\" style=\"border:none !important; margin:0px !important;\" width=\"1\"/></li>\n",
      "</ul></div></div> <object classid=\"clsid:D27CDB6E-AE6D-11cf-96B8-444553540000\" codebase=\"http://fpdownload.macromedia.com/get/flashplayer/current/swflash.cab\" height=\"150px\" id=\"Player_82160f42-9620-4d0a-b79a-18b1abd853fb\" width=\"400px\"> <param name=\"movie\" value=\"http://ws.amazon.com/widgets/q?ServiceVersion=20070822&amp;MarketPlace=US&amp;ID=V20070822%2FUS%2Fboxofficemojo-20%2F8010%2F82160f42-9620-4d0a-b79a-18b1abd853fb&amp;Operation=GetDisplayTemplate\"><param name=\"quality\" value=\"high\"><param name=\"bgcolor\" value=\"#FFFFFF\"><param name=\"allowscriptaccess\" value=\"always\"><embed align=\"middle\" allowscriptaccess=\"always\" bgcolor=\"#ffffff\" height=\"150px\" id=\"Player_82160f42-9620-4d0a-b79a-18b1abd853fb\" name=\"Player_82160f42-9620-4d0a-b79a-18b1abd853fb\" quality=\"high\" src=\"http://ws.amazon.com/widgets/q?ServiceVersion=20070822&amp;MarketPlace=US&amp;ID=V20070822%2FUS%2Fboxofficemojo-20%2F8010%2F82160f42-9620-4d0a-b79a-18b1abd853fb&amp;Operation=GetDisplayTemplate\" type=\"application/x-shockwave-flash\" width=\"400px\"></embed></param></param></param></param></object> <noscript><a href=\"http://ws.amazon.com/widgets/q?ServiceVersion=20070822&amp;MarketPlace=US&amp;ID=V20070822%2FUS%2Fboxofficemojo-20%2F8010%2F82160f42-9620-4d0a-b79a-18b1abd853fb&amp;Operation=NoScript\">Amazon.com Widgets</a></noscript>\n",
      "</td>\n",
      "\n",
      "\n",
      "<br>\n",
      "</br>\n",
      "\n",
      "\n",
      "\n",
      "\n",
      "\n",
      "<div id=\"hp_footer\">\n",
      "<div style=\"padding-bottom: 20px;\">\n",
      "<div style=\"margin: 0px 121px; vertical-align: top;\">\n",
      "<div id=\"footer_links\">\n",
      "<ul class=\"footer_link_list\">\n",
      "<li><strong>Latest Updates</strong></li>\n",
      "<li><a href=\"/news/?ref=ft\">Movie News</a>\n",
      "<li><a href=\"/daily/chart/?ref=ft\">Daily Chart</a></li>\n",
      "<li><a href=\"/weekend/chart/?ref=ft\">Weekend Chart</a></li>\n",
      "<li><a href=\"/alltime/?ref=ft\">All Time Charts</a></li>\n",
      "<li><a href=\"/intl/?ref=ft\">International Charts</a></li>\n",
      "</li></ul>\n",
      "<!--\n",
      "\t\t\t\t\t<ul class=\"footer_link_list\">\n",
      "\t\t\t\t\t\t<li><strong>Popular Movies</strong></li>\n",
      "\t\t\t\t\t\t\t\t\t\t\t</ul>\n",
      "\t\t\t\t\t-->\n",
      "<ul class=\"footer_link_list\">\n",
      "<li><strong>Indices</strong></li>\n",
      "<li><a href=\"/people/?ref=ft\">People</a></li>\n",
      "<li><a href=\"/genres/?ref=ft\">Genres</a></li>\n",
      "<li><a href=\"/franchises/?ref=ft\">Franchises</a></li>\n",
      "<li><a href=\"/showdowns/?ref=ft\">Showdowns</a></li>\n",
      "</ul>\n",
      "<ul class=\"footer_link_list\">\n",
      "<li><strong>Other</strong></li>\n",
      "<li><a href=\"/about/?ref=ft\">About This Site</a></li>\n",
      "<li><a href=\"/about/advertise.htm?ref=ft\">Advertising</a></li>\n",
      "</ul>\n",
      "</div>\n",
      "<div id=\"copyright\">\n",
      "<a href=\"/?ref=ft\"><img alt=\"Box Office Mojo\" height=\"56\" src=\"/img/misc/bom_logo1.png\" width=\"245\"/></a><br>\n",
      "<p>An <a href=\"http://imdb.com/\"><img alt=\"IMDb\" height=\"16\" src=\"/img/misc/IMDbSm.png\" valign=\"middle\" width=\"34\"/></a> company<br><br/></br></p>\n",
      "<p>© <a href=\"http://imdb.com/\">IMDb.com</a>, Inc. or its affiliates. All rights reserved. Box Office Mojo and IMDb are trademarks or registered trademarks of IMDb.com, Inc. or its affiliates. <a href=\"/about/termsofuse.htm\">Terms of Use</a> and <a href=\"/about/privacy.htm\">Privacy Policy</a> under which this service is provided to you.</p>\n",
      "</br></div>\n",
      "</div>\n",
      "<div style=\"clear:both;\">\n",
      "<div>\n",
      "<script type=\"text/javascript\">\n",
      "    googletag.cmd.push(function() {\n",
      "        googletag.defineSlot(\"/4215/imdb2.bom.movie\", [[728, 90]], \"ad-slot-3\").addService(googletag.pubads().setTargeting(\"p\", \"b\"));\n",
      "        googletag.pubads().enableSingleRequest();\n",
      "        googletag.enableServices();\n",
      "    });\n",
      "    googletag.cmd.push(function() { googletag.display(\"ad-slot-3\"); });\n",
      "</script></div>\n",
      "</div>\n",
      "</div>\n",
      "</div>\n",
      "<!-- Page generated in 0.06 seconds | . -->\n",
      "<script>\n",
      "  var _comscore = _comscore || [];\n",
      "  _comscore.push({ c1: \"2\", c2: \"6034961\" });\n",
      "  (function() {\n",
      "    var s = document.createElement(\"script\"), el = document.getElementsByTagName(\"script\")[0]; s.async = true;\n",
      "    s.src = (document.location.protocol == \"https:\" ? \"https://sb\" : \"http://b\") + \".scorecardresearch.com/beacon.js\";\n",
      "  el.parentNode.insertBefore(s, el);\n",
      "  })();\n",
      "</script>\n",
      "<noscript>\n",
      "<img src=\"http://b.scorecardresearch.com/p?c1=2&amp;c2=6034961&amp;cv=2.0&amp;cj=1\"/>\n",
      "</noscript>\n",
      "\n",
      "\n",
      "\n"
     ]
    }
   ],
   "source": [
    "\n",
    "print(soup_star_wars)"
   ]
  },
  {
   "cell_type": "code",
   "execution_count": 42,
   "metadata": {
    "collapsed": false,
    "scrolled": true
   },
   "outputs": [],
   "source": [
    "# for element in soup_lebowski.find_all(class_='mp_box_content'):\n",
    "#     print(element, '\\n')"
   ]
  },
  {
   "cell_type": "code",
   "execution_count": 12,
   "metadata": {
    "collapsed": true
   },
   "outputs": [],
   "source": [
    "url = 'http://www.boxofficemojo.com/movies/?id=starwars7.htm'\n",
    "\n",
    "response = requests.get(url)"
   ]
  },
  {
   "cell_type": "code",
   "execution_count": 13,
   "metadata": {
    "collapsed": true
   },
   "outputs": [],
   "source": [
    "page_star_wars = response.text\n",
    "soup_star_wars = BeautifulSoup(page_star_wars)"
   ]
  },
  {
   "cell_type": "code",
   "execution_count": 14,
   "metadata": {
    "collapsed": false
   },
   "outputs": [],
   "source": [
    "# for element in soup_star_wars.find_all(class_='mp_box_content'):\n",
    "#     print(element,'\\n')"
   ]
  },
  {
   "cell_type": "code",
   "execution_count": 15,
   "metadata": {
    "collapsed": false
   },
   "outputs": [],
   "source": [
    "import re\n",
    "foreign_total_regex = re.compile('Foreign Total')\n",
    "soup_star_wars.find(text=foreign_total_regex)\n"
   ]
  },
  {
   "cell_type": "code",
   "execution_count": 16,
   "metadata": {
    "collapsed": false
   },
   "outputs": [
    {
     "data": {
      "text/plain": [
       "u'$1,131,516,000'"
      ]
     },
     "execution_count": 16,
     "metadata": {},
     "output_type": "execute_result"
    }
   ],
   "source": [
    "soup_star_wars.find(text=\"Foreign:\").find_parent(\"td\").find_next_sibling(\"td\").get_text(strip=True)\n"
   ]
  },
  {
   "cell_type": "code",
   "execution_count": 17,
   "metadata": {
    "collapsed": false
   },
   "outputs": [
    {
     "name": "stdout",
     "output_type": "stream",
     "text": [
      "None\n"
     ]
    }
   ],
   "source": [
    "print(soup_star_wars.find(text=\"Weekend:\"))"
   ]
  },
  {
   "cell_type": "raw",
   "metadata": {},
   "source": [
    "# use a try except statement to deal with pages that dont have information for foreign release "
   ]
  },
  {
   "cell_type": "code",
   "execution_count": 44,
   "metadata": {
    "collapsed": false
   },
   "outputs": [],
   "source": [
    "# for a page that doesnt have a foreign total\n",
    "# soup_lebowski.find(text=\"Foreign:\").find_parent(\"td\").find_next_sibling(\"td\").get_text(strip=True)\n"
   ]
  },
  {
   "cell_type": "code",
   "execution_count": 23,
   "metadata": {
    "collapsed": false
   },
   "outputs": [
    {
     "data": {
      "text/plain": [
       "[]"
      ]
     },
     "execution_count": 23,
     "metadata": {},
     "output_type": "execute_result"
    }
   ],
   "source": [
    "soup_star_wars.find(text=\"Actors:\").find_parent(\"tr\").find_all(text=True)[1:]"
   ]
  },
  {
   "cell_type": "code",
   "execution_count": 18,
   "metadata": {
    "collapsed": false
   },
   "outputs": [],
   "source": [
    "ftg_string = soup_star_wars.find(text=re.compile('Foreign:'))\n",
    "# print(ftg_string)"
   ]
  },
  {
   "cell_type": "code",
   "execution_count": 19,
   "metadata": {
    "collapsed": false
   },
   "outputs": [
    {
     "name": "stdout",
     "output_type": "stream",
     "text": [
      "None\n"
     ]
    }
   ],
   "source": [
    "print(ftg_string.findNextSibling())"
   ]
  },
  {
   "cell_type": "code",
   "execution_count": null,
   "metadata": {
    "collapsed": true
   },
   "outputs": [],
   "source": []
  }
 ],
 "metadata": {
  "kernelspec": {
   "display_name": "Python 2",
   "language": "python",
   "name": "python2"
  },
  "language_info": {
   "codemirror_mode": {
    "name": "ipython",
    "version": 2
   },
   "file_extension": ".py",
   "mimetype": "text/x-python",
   "name": "python",
   "nbconvert_exporter": "python",
   "pygments_lexer": "ipython2",
   "version": "2.7.11"
  }
 },
 "nbformat": 4,
 "nbformat_minor": 0
}
